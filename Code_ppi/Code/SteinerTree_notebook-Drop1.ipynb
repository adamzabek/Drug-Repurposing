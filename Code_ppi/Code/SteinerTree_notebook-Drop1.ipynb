{
 "cells": [
  {
   "cell_type": "markdown",
   "metadata": {},
   "source": [
    "# Imports"
   ]
  },
  {
   "cell_type": "code",
   "execution_count": 1,
   "metadata": {},
   "outputs": [],
   "source": [
    "# Import standard libraries\n",
    "import csv\n",
    "import OmicsIntegrator as oi\n",
    "import pandas as pd\n",
    "import numpy as np\n",
    "import networkx as nx\n",
    "import matplotlib.pyplot as plt\n",
    "from matplotlib_venn import venn2, venn3\n",
    "import pickle\n",
    "import tqdm\n",
    "import time\n",
    "\n",
    "# Import custom libraries\n",
    "import drugs2\n",
    "import prizes\n",
    "import sensitivity_analysis as sensitivity\n",
    "import sensitivity_sarspartners as svp\n",
    "import neighborhoods as nbh"
   ]
  },
  {
   "cell_type": "markdown",
   "metadata": {},
   "source": [
    "# Create prized list"
   ]
  },
  {
   "cell_type": "markdown",
   "metadata": {},
   "source": [
    "## Selected aging genes"
   ]
  },
  {
   "cell_type": "code",
   "execution_count": 2,
   "metadata": {},
   "outputs": [
    {
     "data": {
      "text/html": [
       "<div>\n",
       "<style scoped>\n",
       "    .dataframe tbody tr th:only-of-type {\n",
       "        vertical-align: middle;\n",
       "    }\n",
       "\n",
       "    .dataframe tbody tr th {\n",
       "        vertical-align: top;\n",
       "    }\n",
       "\n",
       "    .dataframe thead th {\n",
       "        text-align: right;\n",
       "    }\n",
       "</style>\n",
       "<table border=\"1\" class=\"dataframe\">\n",
       "  <thead>\n",
       "    <tr style=\"text-align: right;\">\n",
       "      <th></th>\n",
       "      <th>name</th>\n",
       "      <th>mean_treatment</th>\n",
       "      <th>mean_control</th>\n",
       "      <th>log2FC</th>\n",
       "      <th>abslog2FC</th>\n",
       "    </tr>\n",
       "  </thead>\n",
       "  <tbody>\n",
       "    <tr>\n",
       "      <th>1639</th>\n",
       "      <td>ROS1</td>\n",
       "      <td>3.483151</td>\n",
       "      <td>13.566431</td>\n",
       "      <td>-1.700063</td>\n",
       "      <td>1.700063</td>\n",
       "    </tr>\n",
       "    <tr>\n",
       "      <th>2385</th>\n",
       "      <td>F8</td>\n",
       "      <td>8.505311</td>\n",
       "      <td>2.139793</td>\n",
       "      <td>1.598064</td>\n",
       "      <td>1.598064</td>\n",
       "    </tr>\n",
       "    <tr>\n",
       "      <th>4922</th>\n",
       "      <td>NTRK2</td>\n",
       "      <td>2.866247</td>\n",
       "      <td>0.303249</td>\n",
       "      <td>1.568821</td>\n",
       "      <td>1.568821</td>\n",
       "    </tr>\n",
       "    <tr>\n",
       "      <th>11846</th>\n",
       "      <td>HBQ1</td>\n",
       "      <td>2.723305</td>\n",
       "      <td>0.322290</td>\n",
       "      <td>1.493545</td>\n",
       "      <td>1.493545</td>\n",
       "    </tr>\n",
       "    <tr>\n",
       "      <th>5321</th>\n",
       "      <td>FRZB</td>\n",
       "      <td>9.709402</td>\n",
       "      <td>2.959846</td>\n",
       "      <td>1.435362</td>\n",
       "      <td>1.435362</td>\n",
       "    </tr>\n",
       "  </tbody>\n",
       "</table>\n",
       "</div>"
      ],
      "text/plain": [
       "        name  mean_treatment  mean_control    log2FC  abslog2FC\n",
       "1639    ROS1        3.483151     13.566431 -1.700063   1.700063\n",
       "2385      F8        8.505311      2.139793  1.598064   1.598064\n",
       "4922   NTRK2        2.866247      0.303249  1.568821   1.568821\n",
       "11846   HBQ1        2.723305      0.322290  1.493545   1.493545\n",
       "5321    FRZB        9.709402      2.959846  1.435362   1.435362"
      ]
     },
     "execution_count": 2,
     "metadata": {},
     "output_type": "execute_result"
    }
   ],
   "source": [
    "aging_rnaseq_data_file_name = '../Data/GTEX_log2_RPKMquantile.csv'\n",
    "metadata_file_name = '../Data/metadata.csv.gz'\n",
    "protein_coding_genes_file_name = '../Data/protein_coding_ensembl_gene_id_hgnc_hg19.txt'\n",
    "gtex_rpkm_selected_df = prizes.load_selected_aging_rnaseq_data(aging_rnaseq_data_file_name,\n",
    "                                                               metadata_file_name,\n",
    "                                                               protein_coding_genes_file_name)\n",
    "gtex_rpkm_selected_df.head()"
   ]
  },
  {
   "cell_type": "markdown",
   "metadata": {},
   "source": [
    "## Selected Blanco et al. genes"
   ]
  },
  {
   "cell_type": "code",
   "execution_count": 3,
   "metadata": {},
   "outputs": [],
   "source": [
    "# First load and process data from Blanco et al.\n",
    "blanco_data_file_name = '../Data/GSE147507_log2_RPKMquantile.csv'\n",
    "blanco1_rpkm, blanco2_rpkm, blanco3_rpkm = prizes.load_and_process_blanco_data(blanco_data_file_name, \n",
    "                                                                               protein_coding_genes_file_name)"
   ]
  },
  {
   "cell_type": "code",
   "execution_count": 4,
   "metadata": {},
   "outputs": [
    {
     "data": {
      "text/html": [
       "<div>\n",
       "<style scoped>\n",
       "    .dataframe tbody tr th:only-of-type {\n",
       "        vertical-align: middle;\n",
       "    }\n",
       "\n",
       "    .dataframe tbody tr th {\n",
       "        vertical-align: top;\n",
       "    }\n",
       "\n",
       "    .dataframe thead th {\n",
       "        text-align: right;\n",
       "    }\n",
       "</style>\n",
       "<table border=\"1\" class=\"dataframe\">\n",
       "  <thead>\n",
       "    <tr style=\"text-align: right;\">\n",
       "      <th></th>\n",
       "      <th>name</th>\n",
       "      <th>Series16_A549.ACE2_Mock_1</th>\n",
       "      <th>Series16_A549.ACE2_Mock_2</th>\n",
       "      <th>Series16_A549.ACE2_Mock_3</th>\n",
       "      <th>Series16_A549.ACE2_SARS.CoV.2_1</th>\n",
       "      <th>Series16_A549.ACE2_SARS.CoV.2_2</th>\n",
       "      <th>Series16_A549.ACE2_SARS.CoV.2_3</th>\n",
       "      <th>mean_treatment</th>\n",
       "      <th>mean_control</th>\n",
       "      <th>log2FC</th>\n",
       "      <th>abslog2FC</th>\n",
       "    </tr>\n",
       "  </thead>\n",
       "  <tbody>\n",
       "    <tr>\n",
       "      <th>16</th>\n",
       "      <td>MRPL20</td>\n",
       "      <td>23.476467</td>\n",
       "      <td>21.996085</td>\n",
       "      <td>22.725973</td>\n",
       "      <td>10.491229</td>\n",
       "      <td>10.301154</td>\n",
       "      <td>9.132030</td>\n",
       "      <td>9.974804</td>\n",
       "      <td>22.732841</td>\n",
       "      <td>-1.112690</td>\n",
       "      <td>1.112690</td>\n",
       "    </tr>\n",
       "    <tr>\n",
       "      <th>31</th>\n",
       "      <td>FAM213B</td>\n",
       "      <td>5.360438</td>\n",
       "      <td>3.903674</td>\n",
       "      <td>3.700970</td>\n",
       "      <td>1.084121</td>\n",
       "      <td>0.474477</td>\n",
       "      <td>1.628909</td>\n",
       "      <td>1.062502</td>\n",
       "      <td>4.321694</td>\n",
       "      <td>-1.367490</td>\n",
       "      <td>1.367490</td>\n",
       "    </tr>\n",
       "    <tr>\n",
       "      <th>34</th>\n",
       "      <td>TPRG1L</td>\n",
       "      <td>20.528304</td>\n",
       "      <td>19.654982</td>\n",
       "      <td>21.892141</td>\n",
       "      <td>8.881052</td>\n",
       "      <td>8.683763</td>\n",
       "      <td>7.923967</td>\n",
       "      <td>8.496260</td>\n",
       "      <td>20.691809</td>\n",
       "      <td>-1.191719</td>\n",
       "      <td>1.191719</td>\n",
       "    </tr>\n",
       "    <tr>\n",
       "      <th>41</th>\n",
       "      <td>KCNAB2</td>\n",
       "      <td>3.732427</td>\n",
       "      <td>2.494125</td>\n",
       "      <td>2.801351</td>\n",
       "      <td>0.308315</td>\n",
       "      <td>0.553297</td>\n",
       "      <td>0.147803</td>\n",
       "      <td>0.336471</td>\n",
       "      <td>3.009301</td>\n",
       "      <td>-1.584922</td>\n",
       "      <td>1.584922</td>\n",
       "    </tr>\n",
       "    <tr>\n",
       "      <th>44</th>\n",
       "      <td>ICMT</td>\n",
       "      <td>21.144779</td>\n",
       "      <td>22.122032</td>\n",
       "      <td>20.299840</td>\n",
       "      <td>8.961928</td>\n",
       "      <td>6.999973</td>\n",
       "      <td>9.068861</td>\n",
       "      <td>8.343587</td>\n",
       "      <td>21.188884</td>\n",
       "      <td>-1.247789</td>\n",
       "      <td>1.247789</td>\n",
       "    </tr>\n",
       "  </tbody>\n",
       "</table>\n",
       "</div>"
      ],
      "text/plain": [
       "       name  Series16_A549.ACE2_Mock_1  Series16_A549.ACE2_Mock_2  \\\n",
       "16   MRPL20                  23.476467                  21.996085   \n",
       "31  FAM213B                   5.360438                   3.903674   \n",
       "34   TPRG1L                  20.528304                  19.654982   \n",
       "41   KCNAB2                   3.732427                   2.494125   \n",
       "44     ICMT                  21.144779                  22.122032   \n",
       "\n",
       "    Series16_A549.ACE2_Mock_3  Series16_A549.ACE2_SARS.CoV.2_1  \\\n",
       "16                  22.725973                        10.491229   \n",
       "31                   3.700970                         1.084121   \n",
       "34                  21.892141                         8.881052   \n",
       "41                   2.801351                         0.308315   \n",
       "44                  20.299840                         8.961928   \n",
       "\n",
       "    Series16_A549.ACE2_SARS.CoV.2_2  Series16_A549.ACE2_SARS.CoV.2_3  \\\n",
       "16                        10.301154                         9.132030   \n",
       "31                         0.474477                         1.628909   \n",
       "34                         8.683763                         7.923967   \n",
       "41                         0.553297                         0.147803   \n",
       "44                         6.999973                         9.068861   \n",
       "\n",
       "    mean_treatment  mean_control    log2FC  abslog2FC  \n",
       "16        9.974804     22.732841 -1.112690   1.112690  \n",
       "31        1.062502      4.321694 -1.367490   1.367490  \n",
       "34        8.496260     20.691809 -1.191719   1.191719  \n",
       "41        0.336471      3.009301 -1.584922   1.584922  \n",
       "44        8.343587     21.188884 -1.247789   1.247789  "
      ]
     },
     "execution_count": 4,
     "metadata": {},
     "output_type": "execute_result"
    }
   ],
   "source": [
    "# Then compute selected genes from Blanco et al.\n",
    "blanco_rpkm_selected = prizes.load_selected_blanco_genes(  blanco1_rpkm,\n",
    "                                                           blanco2_rpkm,\n",
    "                                                           blanco3_rpkm,\n",
    "                                                           protein_coding_genes_file_name,\n",
    "                                                           plot_venn_diagrams=False)\n",
    "blanco_rpkm_selected.head()"
   ]
  },
  {
   "cell_type": "markdown",
   "metadata": {},
   "source": [
    "## Create final prized list"
   ]
  },
  {
   "cell_type": "code",
   "execution_count": 5,
   "metadata": {},
   "outputs": [],
   "source": [
    "# Load L1000 gene list\n",
    "lincs_genes_file_name = '../Data/GSE92742_Broad_LINCS_gene_info.txt'\n",
    "l1000_genes = prizes.load_lincs_genes(lincs_genes_file_name)\n",
    "\n",
    "# Load proteins in ppi list\n",
    "ppi_data_file_name = '../Data/iRefIndex_v14_MIScore_interactome_C9.costs.allcaps.txt'\n",
    "proteins_in_ppi = prizes.load_iref_genes(ppi_data_file_name)"
   ]
  },
  {
   "cell_type": "code",
   "execution_count": 6,
   "metadata": {},
   "outputs": [
    {
     "data": {
      "text/html": [
       "<div>\n",
       "<style scoped>\n",
       "    .dataframe tbody tr th:only-of-type {\n",
       "        vertical-align: middle;\n",
       "    }\n",
       "\n",
       "    .dataframe tbody tr th {\n",
       "        vertical-align: top;\n",
       "    }\n",
       "\n",
       "    .dataframe thead th {\n",
       "        text-align: right;\n",
       "    }\n",
       "</style>\n",
       "<table border=\"1\" class=\"dataframe\">\n",
       "  <thead>\n",
       "    <tr style=\"text-align: right;\">\n",
       "      <th></th>\n",
       "      <th>name</th>\n",
       "      <th>prize</th>\n",
       "      <th>log2FC_blanco</th>\n",
       "      <th>log2FC_ageing</th>\n",
       "    </tr>\n",
       "  </thead>\n",
       "  <tbody>\n",
       "    <tr>\n",
       "      <th>0</th>\n",
       "      <td>ACAT1</td>\n",
       "      <td>1.203090</td>\n",
       "      <td>-1.203090</td>\n",
       "      <td>-0.509400</td>\n",
       "    </tr>\n",
       "    <tr>\n",
       "      <th>2</th>\n",
       "      <td>ADK</td>\n",
       "      <td>1.186245</td>\n",
       "      <td>-1.186245</td>\n",
       "      <td>-0.568995</td>\n",
       "    </tr>\n",
       "    <tr>\n",
       "      <th>3</th>\n",
       "      <td>AGA</td>\n",
       "      <td>1.590582</td>\n",
       "      <td>-1.590582</td>\n",
       "      <td>-0.404011</td>\n",
       "    </tr>\n",
       "    <tr>\n",
       "      <th>4</th>\n",
       "      <td>AIFM1</td>\n",
       "      <td>1.418865</td>\n",
       "      <td>-1.418865</td>\n",
       "      <td>-0.454493</td>\n",
       "    </tr>\n",
       "    <tr>\n",
       "      <th>5</th>\n",
       "      <td>ALDH1B1</td>\n",
       "      <td>1.478519</td>\n",
       "      <td>-1.478519</td>\n",
       "      <td>-0.438291</td>\n",
       "    </tr>\n",
       "    <tr>\n",
       "      <th>6</th>\n",
       "      <td>ALG1</td>\n",
       "      <td>1.302155</td>\n",
       "      <td>-1.302155</td>\n",
       "      <td>-0.365349</td>\n",
       "    </tr>\n",
       "    <tr>\n",
       "      <th>7</th>\n",
       "      <td>APEH</td>\n",
       "      <td>1.403288</td>\n",
       "      <td>-1.403288</td>\n",
       "      <td>-0.476856</td>\n",
       "    </tr>\n",
       "    <tr>\n",
       "      <th>8</th>\n",
       "      <td>ARL4D</td>\n",
       "      <td>1.474380</td>\n",
       "      <td>1.474380</td>\n",
       "      <td>0.570956</td>\n",
       "    </tr>\n",
       "    <tr>\n",
       "      <th>10</th>\n",
       "      <td>ATIC</td>\n",
       "      <td>1.304655</td>\n",
       "      <td>-1.304655</td>\n",
       "      <td>-0.417875</td>\n",
       "    </tr>\n",
       "    <tr>\n",
       "      <th>12</th>\n",
       "      <td>AURKC</td>\n",
       "      <td>1.207711</td>\n",
       "      <td>1.207711</td>\n",
       "      <td>0.452153</td>\n",
       "    </tr>\n",
       "  </tbody>\n",
       "</table>\n",
       "</div>"
      ],
      "text/plain": [
       "       name     prize  log2FC_blanco  log2FC_ageing\n",
       "0     ACAT1  1.203090      -1.203090      -0.509400\n",
       "2       ADK  1.186245      -1.186245      -0.568995\n",
       "3       AGA  1.590582      -1.590582      -0.404011\n",
       "4     AIFM1  1.418865      -1.418865      -0.454493\n",
       "5   ALDH1B1  1.478519      -1.478519      -0.438291\n",
       "6      ALG1  1.302155      -1.302155      -0.365349\n",
       "7      APEH  1.403288      -1.403288      -0.476856\n",
       "8     ARL4D  1.474380       1.474380       0.570956\n",
       "10     ATIC  1.304655      -1.304655      -0.417875\n",
       "12    AURKC  1.207711       1.207711       0.452153"
      ]
     },
     "execution_count": 6,
     "metadata": {},
     "output_type": "execute_result"
    }
   ],
   "source": [
    "terminal_df = prizes.create_prized_genes_list(blanco2_rpkm,\n",
    "                                     blanco_rpkm_selected,\n",
    "                                     gtex_rpkm_selected_df,\n",
    "                                     l1000_genes,\n",
    "                                     proteins_in_ppi,\n",
    "                                     plot_venn_diagrams=False)\n",
    "terminal_df.head(10)"
   ]
  },
  {
   "cell_type": "code",
   "execution_count": 7,
   "metadata": {},
   "outputs": [],
   "source": [
    "# Save terminal df to tsv\n",
    "terminal_df.to_csv(r'../Save_drop1/terminals_ppi_analysis.tsv', header=True, index=None, sep='\\t', quoting = csv.QUOTE_NONE, escapechar = '\\t')"
   ]
  },
  {
   "cell_type": "markdown",
   "metadata": {},
   "source": [
    "# Prepare the sentivity analysis for Stein tree parameters"
   ]
  },
  {
   "cell_type": "markdown",
   "metadata": {},
   "source": [
    "## W range"
   ]
  },
  {
   "cell_type": "code",
   "execution_count": 8,
   "metadata": {},
   "outputs": [],
   "source": [
    "# Load prizes data\n",
    "prizes_data = terminal_df\n",
    "terminals = list(prizes_data['name'])\n",
    "n_terminals = len(terminals)"
   ]
  },
  {
   "cell_type": "code",
   "execution_count": 9,
   "metadata": {},
   "outputs": [],
   "source": [
    "# Load IREF interactome\n",
    "interactome_file = \"../Data/iRefIndex_v14_MIScore_interactome_C9.costs.allcaps.txt\"\n",
    "graph = oi.Graph(interactome_file)"
   ]
  },
  {
   "cell_type": "code",
   "execution_count": 59,
   "metadata": {},
   "outputs": [
    {
     "name": "stderr",
     "output_type": "stream",
     "text": [
      "100%|██████████| 162/162 [38:54<00:00, 14.41s/it] \n"
     ]
    }
   ],
   "source": [
    "# Distribution of cheapest path between any two terminals without penalty (g=-\\infty)\n",
    "network = graph.interactome_graph\n",
    "shortest_dist_mat = np.zeros(shape = (n_terminals,n_terminals))\n",
    "for ix_prot1 in tqdm.tqdm(np.arange(n_terminals)):\n",
    "    time.sleep(0.01)\n",
    "    for ix_prot2 in np.arange(ix_prot1+1, n_terminals, 1):\n",
    "        shortest_dist_mat[ix_prot1,ix_prot2] = nx.dijkstra_path_length(network,\n",
    "                                                                       source = terminals[ix_prot1],\n",
    "                                                                       target = terminals[ix_prot2],\n",
    "                                                                       weight = 'cost')\n",
    "        shortest_dist_mat[ix_prot2,ix_prot2] = shortest_dist_mat[ix_prot1,ix_prot2]"
   ]
  },
  {
   "cell_type": "code",
   "execution_count": 63,
   "metadata": {},
   "outputs": [
    {
     "data": {
      "text/plain": [
       "<matplotlib.colorbar.Colorbar at 0x7f1b9fb11f50>"
      ]
     },
     "execution_count": 63,
     "metadata": {},
     "output_type": "execute_result"
    },
    {
     "data": {
      "image/png": "[encoded data removed]",
      "text/plain": [
       "<Figure size 288x288 with 2 Axes>"
      ]
     },
     "metadata": {
      "needs_background": "light"
     },
     "output_type": "display_data"
    }
   ],
   "source": [
    "# Plot heatmap of cheapest path\n",
    "plt.matshow(np.transpose(shortest_dist_mat))\n",
    "plt.xlabel('terminals')\n",
    "plt.ylabel('terminals')\n",
    "plt.colorbar()"
   ]
  },
  {
   "cell_type": "code",
   "execution_count": 64,
   "metadata": {},
   "outputs": [
    {
     "data": {
      "text/plain": [
       "Text(0, 0.5, 'Number of pairs of terminals')"
      ]
     },
     "execution_count": 64,
     "metadata": {},
     "output_type": "execute_result"
    },
    {
     "data": {
      "image/png": "[encoded data removed]",
      "text/plain": [
       "<Figure size 432x288 with 1 Axes>"
      ]
     },
     "metadata": {
      "needs_background": "light"
     },
     "output_type": "display_data"
    }
   ],
   "source": [
    "# Plot histogram of cheapest path\n",
    "plt.subplot(1,2,1)\n",
    "flat_mat = shortest_dist_mat[np.triu_indices(n_terminals, k=1)]\n",
    "plt.hist(flat_mat,40)\n",
    "plt.xlabel('Cost of shortest path between two terminals')\n",
    "plt.ylabel('Number of pairs of terminals')"
   ]
  },
  {
   "cell_type": "markdown",
   "metadata": {},
   "source": [
    "## G range"
   ]
  },
  {
   "cell_type": "code",
   "execution_count": 10,
   "metadata": {},
   "outputs": [],
   "source": [
    "# Create a dictionary containing edge costs under several choices of g\n",
    "g_range = [0,1,2,3,4,5]\n",
    "edge_costs_dict={'g = -Inf': graph.edge_costs}\n",
    "for g in g_range:\n",
    "    params = {\"w\": 0, \"b\": 1, \"g\": g, \"edge_noise\": 0, \"dummy_mode\": \"terminals\", \"seed\": 0, \"skip_checks\": False}\n",
    "    graph._reset_hyperparameters(params)\n",
    "    edge_costs_dict['g='+str(g)] = graph.costs\n",
    "edge_costs_df = pd.DataFrame(data = edge_costs_dict)"
   ]
  },
  {
   "cell_type": "code",
   "execution_count": 11,
   "metadata": {},
   "outputs": [
    {
     "data": {
      "image/png": "[encoded data removed]",
      "text/plain": [
       "<Figure size 432x288 with 1 Axes>"
      ]
     },
     "metadata": {
      "needs_background": "light"
     },
     "output_type": "display_data"
    }
   ],
   "source": [
    "# Boxplot of edge costs under several choices of g\n",
    "plt.figure()\n",
    "edge_costs_df.boxplot()\n",
    "plt.yscale('log')\n",
    "plt.ylabel('penalized edge cost')\n",
    "plt.title('Boxplots of penalized edge costs in IREF for different values of g')\n",
    "plt.show()"
   ]
  },
  {
   "cell_type": "markdown",
   "metadata": {},
   "source": [
    "## B range"
   ]
  },
  {
   "cell_type": "code",
   "execution_count": 12,
   "metadata": {
    "scrolled": true
   },
   "outputs": [
    {
     "data": {
      "text/html": [
       "<div>\n",
       "<style scoped>\n",
       "    .dataframe tbody tr th:only-of-type {\n",
       "        vertical-align: middle;\n",
       "    }\n",
       "\n",
       "    .dataframe tbody tr th {\n",
       "        vertical-align: top;\n",
       "    }\n",
       "\n",
       "    .dataframe thead th {\n",
       "        text-align: right;\n",
       "    }\n",
       "</style>\n",
       "<table border=\"1\" class=\"dataframe\">\n",
       "  <thead>\n",
       "    <tr style=\"text-align: right;\">\n",
       "      <th></th>\n",
       "      <th>max_penalized_edge_cost</th>\n",
       "    </tr>\n",
       "  </thead>\n",
       "  <tbody>\n",
       "    <tr>\n",
       "      <th>g = -Inf</th>\n",
       "      <td>0.859220</td>\n",
       "    </tr>\n",
       "    <tr>\n",
       "      <th>g=0</th>\n",
       "      <td>0.860892</td>\n",
       "    </tr>\n",
       "    <tr>\n",
       "      <th>g=1</th>\n",
       "      <td>2.015303</td>\n",
       "    </tr>\n",
       "    <tr>\n",
       "      <th>g=2</th>\n",
       "      <td>19.487738</td>\n",
       "    </tr>\n",
       "    <tr>\n",
       "      <th>g=3</th>\n",
       "      <td>194.212079</td>\n",
       "    </tr>\n",
       "    <tr>\n",
       "      <th>g=4</th>\n",
       "      <td>1941.455488</td>\n",
       "    </tr>\n",
       "    <tr>\n",
       "      <th>g=5</th>\n",
       "      <td>19413.889586</td>\n",
       "    </tr>\n",
       "  </tbody>\n",
       "</table>\n",
       "</div>"
      ],
      "text/plain": [
       "          max_penalized_edge_cost\n",
       "g = -Inf                 0.859220\n",
       "g=0                      0.860892\n",
       "g=1                      2.015303\n",
       "g=2                     19.487738\n",
       "g=3                    194.212079\n",
       "g=4                   1941.455488\n",
       "g=5                  19413.889586"
      ]
     },
     "execution_count": 12,
     "metadata": {},
     "output_type": "execute_result"
    }
   ],
   "source": [
    "# For a range of g, compute the maximum penalized edge cost\n",
    "g_range = [0,1,2,3,4,5]\n",
    "max_penalized_edge_cost = pd.DataFrame(edge_costs_df.max())\n",
    "max_penalized_edge_cost.columns=['max_penalized_edge_cost']\n",
    "max_penalized_edge_cost"
   ]
  },
  {
   "cell_type": "markdown",
   "metadata": {},
   "source": [
    "# Sensitivity analysis for Steiner tree parameters"
   ]
  },
  {
   "cell_type": "markdown",
   "metadata": {},
   "source": [
    "## Run sensitivity analysis"
   ]
  },
  {
   "cell_type": "code",
   "execution_count": 13,
   "metadata": {},
   "outputs": [],
   "source": [
    "# Load set of virus interacting genes from Gordon et al.\n",
    "virus_partners_file_name = \"../Data/SARSCov_targets_df.tsv\"\n",
    "virus_interacting_genes = sensitivity.import_virus_partners(virus_partners_file_name)"
   ]
  },
  {
   "cell_type": "code",
   "execution_count": 14,
   "metadata": {},
   "outputs": [],
   "source": [
    "# Parameters for sensitivity analysis\n",
    "interactome_file_name = \"../Data/iRefIndex_v14_MIScore_interactome_C9.costs.allcaps.txt\"\n",
    "prize_file_name = \"../Save_drop1/terminals_ppi_analysis.tsv\"\n",
    "# Graph hyperparameters\n",
    "graph_params =  {\n",
    "                \"noise\": 0.0, \n",
    "                \"dummy_mode\": \"terminals\", \n",
    "                \"exclude_terminals\": False, \n",
    "                \"seed\": 1,\n",
    "                \"pruning\": 'strong',\n",
    "                \"verbosity_level\": 0\n",
    "                }\n",
    "# Set sweeping parameters, i.e. configurations (w,b,g)\n",
    "W_list = np.linspace(start = 0.2, stop = 2, num = 10)\n",
    "B_list = np.array([5., 10., 15., 20., 25., 30., 35., 40., 45., 50.])"
   ]
  },
  {
   "cell_type": "code",
   "execution_count": 15,
   "metadata": {
    "scrolled": true
   },
   "outputs": [
    {
     "name": "stderr",
     "output_type": "stream",
     "text": [
      "05:24:28 - OI2: INFO - Duplicated gene symbols in the prize file (we'll keep the max prize):\n",
      "05:24:28 - OI2: INFO - []\n",
      "05:24:28 - OI2: INFO - Members of the prize file not present in the interactome:\n",
      "05:24:28 - OI2: INFO - []\n"
     ]
    },
    {
     "name": "stdout",
     "output_type": "stream",
     "text": [
      "Progress= 0.01\n"
     ]
    },
    {
     "name": "stderr",
     "output_type": "stream",
     "text": [
      "05:24:29 - OI2: INFO - Duplicated gene symbols in the prize file (we'll keep the max prize):\n",
      "05:24:29 - OI2: INFO - []\n",
      "05:24:29 - OI2: INFO - Members of the prize file not present in the interactome:\n",
      "05:24:29 - OI2: INFO - []\n"
     ]
    },
    {
     "name": "stdout",
     "output_type": "stream",
     "text": [
      "Progress= 0.02\n"
     ]
    },
    {
     "name": "stderr",
     "output_type": "stream",
     "text": [
      "05:24:30 - OI2: INFO - Duplicated gene symbols in the prize file (we'll keep the max prize):\n",
      "05:24:30 - OI2: INFO - []\n",
      "05:24:30 - OI2: INFO - Members of the prize file not present in the interactome:\n",
      "05:24:30 - OI2: INFO - []\n"
     ]
    },
    {
     "name": "stdout",
     "output_type": "stream",
     "text": [
      "Progress= 0.03\n"
     ]
    },
    {
     "name": "stderr",
     "output_type": "stream",
     "text": [
      "05:24:31 - OI2: INFO - Duplicated gene symbols in the prize file (we'll keep the max prize):\n",
      "05:24:31 - OI2: INFO - []\n",
      "05:24:31 - OI2: INFO - Members of the prize file not present in the interactome:\n",
      "05:24:31 - OI2: INFO - []\n"
     ]
    },
    {
     "name": "stdout",
     "output_type": "stream",
     "text": [
      "Progress= 0.04\n"
     ]
    },
    {
     "name": "stderr",
     "output_type": "stream",
     "text": [
      "05:24:32 - OI2: INFO - Duplicated gene symbols in the prize file (we'll keep the max prize):\n",
      "05:24:32 - OI2: INFO - []\n",
      "05:24:32 - OI2: INFO - Members of the prize file not present in the interactome:\n",
      "05:24:32 - OI2: INFO - []\n"
     ]
    },
    {
     "name": "stdout",
     "output_type": "stream",
     "text": [
      "Progress= 0.05\n"
     ]
    },
    {
     "name": "stderr",
     "output_type": "stream",
     "text": [
      "05:24:33 - OI2: INFO - Duplicated gene symbols in the prize file (we'll keep the max prize):\n",
      "05:24:33 - OI2: INFO - []\n",
      "05:24:33 - OI2: INFO - Members of the prize file not present in the interactome:\n",
      "05:24:33 - OI2: INFO - []\n"
     ]
    },
    {
     "name": "stdout",
     "output_type": "stream",
     "text": [
      "Progress= 0.06\n"
     ]
    },
    {
     "name": "stderr",
     "output_type": "stream",
     "text": [
      "05:24:34 - OI2: INFO - Duplicated gene symbols in the prize file (we'll keep the max prize):\n",
      "05:24:34 - OI2: INFO - []\n",
      "05:24:34 - OI2: INFO - Members of the prize file not present in the interactome:\n",
      "05:24:34 - OI2: INFO - []\n"
     ]
    },
    {
     "name": "stdout",
     "output_type": "stream",
     "text": [
      "Progress= 0.07\n"
     ]
    },
    {
     "name": "stderr",
     "output_type": "stream",
     "text": [
      "05:24:35 - OI2: INFO - Duplicated gene symbols in the prize file (we'll keep the max prize):\n",
      "05:24:35 - OI2: INFO - []\n",
      "05:24:35 - OI2: INFO - Members of the prize file not present in the interactome:\n",
      "05:24:35 - OI2: INFO - []\n"
     ]
    },
    {
     "name": "stdout",
     "output_type": "stream",
     "text": [
      "Progress= 0.08\n"
     ]
    },
    {
     "name": "stderr",
     "output_type": "stream",
     "text": [
      "05:24:36 - OI2: INFO - Duplicated gene symbols in the prize file (we'll keep the max prize):\n",
      "05:24:36 - OI2: INFO - []\n",
      "05:24:36 - OI2: INFO - Members of the prize file not present in the interactome:\n",
      "05:24:36 - OI2: INFO - []\n"
     ]
    },
    {
     "name": "stdout",
     "output_type": "stream",
     "text": [
      "Progress= 0.09\n"
     ]
    },
    {
     "name": "stderr",
     "output_type": "stream",
     "text": [
      "05:24:37 - OI2: INFO - Duplicated gene symbols in the prize file (we'll keep the max prize):\n",
      "05:24:37 - OI2: INFO - []\n",
      "05:24:37 - OI2: INFO - Members of the prize file not present in the interactome:\n",
      "05:24:37 - OI2: INFO - []\n"
     ]
    },
    {
     "name": "stdout",
     "output_type": "stream",
     "text": [
      "Progress= 0.1\n"
     ]
    },
    {
     "name": "stderr",
     "output_type": "stream",
     "text": [
      "05:24:38 - OI2: INFO - Duplicated gene symbols in the prize file (we'll keep the max prize):\n",
      "05:24:38 - OI2: INFO - []\n",
      "05:24:38 - OI2: INFO - Members of the prize file not present in the interactome:\n",
      "05:24:38 - OI2: INFO - []\n"
     ]
    },
    {
     "name": "stdout",
     "output_type": "stream",
     "text": [
      "Progress= 0.11\n"
     ]
    },
    {
     "name": "stderr",
     "output_type": "stream",
     "text": [
      "05:24:39 - OI2: INFO - Duplicated gene symbols in the prize file (we'll keep the max prize):\n",
      "05:24:39 - OI2: INFO - []\n",
      "05:24:39 - OI2: INFO - Members of the prize file not present in the interactome:\n",
      "05:24:39 - OI2: INFO - []\n"
     ]
    },
    {
     "name": "stdout",
     "output_type": "stream",
     "text": [
      "Progress= 0.12\n"
     ]
    },
    {
     "name": "stderr",
     "output_type": "stream",
     "text": [
      "05:24:40 - OI2: INFO - Duplicated gene symbols in the prize file (we'll keep the max prize):\n",
      "05:24:40 - OI2: INFO - []\n",
      "05:24:40 - OI2: INFO - Members of the prize file not present in the interactome:\n",
      "05:24:40 - OI2: INFO - []\n"
     ]
    },
    {
     "name": "stdout",
     "output_type": "stream",
     "text": [
      "Progress= 0.13\n"
     ]
    },
    {
     "name": "stderr",
     "output_type": "stream",
     "text": [
      "05:24:41 - OI2: INFO - Duplicated gene symbols in the prize file (we'll keep the max prize):\n",
      "05:24:41 - OI2: INFO - []\n",
      "05:24:41 - OI2: INFO - Members of the prize file not present in the interactome:\n",
      "05:24:41 - OI2: INFO - []\n"
     ]
    },
    {
     "name": "stdout",
     "output_type": "stream",
     "text": [
      "Progress= 0.14\n"
     ]
    },
    {
     "name": "stderr",
     "output_type": "stream",
     "text": [
      "05:24:43 - OI2: INFO - Duplicated gene symbols in the prize file (we'll keep the max prize):\n",
      "05:24:43 - OI2: INFO - []\n",
      "05:24:43 - OI2: INFO - Members of the prize file not present in the interactome:\n",
      "05:24:43 - OI2: INFO - []\n"
     ]
    },
    {
     "name": "stdout",
     "output_type": "stream",
     "text": [
      "Progress= 0.15\n"
     ]
    },
    {
     "name": "stderr",
     "output_type": "stream",
     "text": [
      "05:24:44 - OI2: INFO - Duplicated gene symbols in the prize file (we'll keep the max prize):\n",
      "05:24:44 - OI2: INFO - []\n",
      "05:24:44 - OI2: INFO - Members of the prize file not present in the interactome:\n",
      "05:24:44 - OI2: INFO - []\n"
     ]
    },
    {
     "name": "stdout",
     "output_type": "stream",
     "text": [
      "Progress= 0.16\n"
     ]
    },
    {
     "name": "stderr",
     "output_type": "stream",
     "text": [
      "05:24:45 - OI2: INFO - Duplicated gene symbols in the prize file (we'll keep the max prize):\n",
      "05:24:45 - OI2: INFO - []\n",
      "05:24:45 - OI2: INFO - Members of the prize file not present in the interactome:\n",
      "05:24:45 - OI2: INFO - []\n"
     ]
    },
    {
     "name": "stdout",
     "output_type": "stream",
     "text": [
      "Progress= 0.17\n"
     ]
    },
    {
     "name": "stderr",
     "output_type": "stream",
     "text": [
      "05:24:46 - OI2: INFO - Duplicated gene symbols in the prize file (we'll keep the max prize):\n",
      "05:24:46 - OI2: INFO - []\n",
      "05:24:46 - OI2: INFO - Members of the prize file not present in the interactome:\n",
      "05:24:46 - OI2: INFO - []\n"
     ]
    },
    {
     "name": "stdout",
     "output_type": "stream",
     "text": [
      "Progress= 0.18\n"
     ]
    },
    {
     "name": "stderr",
     "output_type": "stream",
     "text": [
      "05:24:47 - OI2: INFO - Duplicated gene symbols in the prize file (we'll keep the max prize):\n",
      "05:24:47 - OI2: INFO - []\n",
      "05:24:47 - OI2: INFO - Members of the prize file not present in the interactome:\n",
      "05:24:47 - OI2: INFO - []\n"
     ]
    },
    {
     "name": "stdout",
     "output_type": "stream",
     "text": [
      "Progress= 0.19\n"
     ]
    },
    {
     "name": "stderr",
     "output_type": "stream",
     "text": [
      "05:24:49 - OI2: INFO - Duplicated gene symbols in the prize file (we'll keep the max prize):\n",
      "05:24:49 - OI2: INFO - []\n",
      "05:24:49 - OI2: INFO - Members of the prize file not present in the interactome:\n",
      "05:24:49 - OI2: INFO - []\n"
     ]
    },
    {
     "name": "stdout",
     "output_type": "stream",
     "text": [
      "Progress= 0.2\n"
     ]
    },
    {
     "name": "stderr",
     "output_type": "stream",
     "text": [
      "05:24:50 - OI2: INFO - Duplicated gene symbols in the prize file (we'll keep the max prize):\n",
      "05:24:50 - OI2: INFO - []\n",
      "05:24:50 - OI2: INFO - Members of the prize file not present in the interactome:\n",
      "05:24:50 - OI2: INFO - []\n"
     ]
    },
    {
     "name": "stdout",
     "output_type": "stream",
     "text": [
      "Progress= 0.21\n"
     ]
    },
    {
     "name": "stderr",
     "output_type": "stream",
     "text": [
      "05:24:51 - OI2: INFO - Duplicated gene symbols in the prize file (we'll keep the max prize):\n",
      "05:24:51 - OI2: INFO - []\n",
      "05:24:51 - OI2: INFO - Members of the prize file not present in the interactome:\n",
      "05:24:51 - OI2: INFO - []\n"
     ]
    },
    {
     "name": "stdout",
     "output_type": "stream",
     "text": [
      "Progress= 0.22\n"
     ]
    },
    {
     "name": "stderr",
     "output_type": "stream",
     "text": [
      "05:24:53 - OI2: INFO - Duplicated gene symbols in the prize file (we'll keep the max prize):\n",
      "05:24:53 - OI2: INFO - []\n",
      "05:24:53 - OI2: INFO - Members of the prize file not present in the interactome:\n",
      "05:24:53 - OI2: INFO - []\n"
     ]
    },
    {
     "name": "stdout",
     "output_type": "stream",
     "text": [
      "Progress= 0.23\n"
     ]
    },
    {
     "name": "stderr",
     "output_type": "stream",
     "text": [
      "05:24:54 - OI2: INFO - Duplicated gene symbols in the prize file (we'll keep the max prize):\n",
      "05:24:54 - OI2: INFO - []\n",
      "05:24:54 - OI2: INFO - Members of the prize file not present in the interactome:\n",
      "05:24:54 - OI2: INFO - []\n"
     ]
    },
    {
     "name": "stdout",
     "output_type": "stream",
     "text": [
      "Progress= 0.24\n"
     ]
    },
    {
     "name": "stderr",
     "output_type": "stream",
     "text": [
      "05:24:55 - OI2: INFO - Duplicated gene symbols in the prize file (we'll keep the max prize):\n",
      "05:24:55 - OI2: INFO - []\n",
      "05:24:55 - OI2: INFO - Members of the prize file not present in the interactome:\n",
      "05:24:55 - OI2: INFO - []\n"
     ]
    },
    {
     "name": "stdout",
     "output_type": "stream",
     "text": [
      "Progress= 0.25\n"
     ]
    },
    {
     "name": "stderr",
     "output_type": "stream",
     "text": [
      "05:24:57 - OI2: INFO - Duplicated gene symbols in the prize file (we'll keep the max prize):\n",
      "05:24:57 - OI2: INFO - []\n",
      "05:24:57 - OI2: INFO - Members of the prize file not present in the interactome:\n",
      "05:24:57 - OI2: INFO - []\n"
     ]
    },
    {
     "name": "stdout",
     "output_type": "stream",
     "text": [
      "Progress= 0.26\n"
     ]
    },
    {
     "name": "stderr",
     "output_type": "stream",
     "text": [
      "05:24:58 - OI2: INFO - Duplicated gene symbols in the prize file (we'll keep the max prize):\n",
      "05:24:58 - OI2: INFO - []\n",
      "05:24:58 - OI2: INFO - Members of the prize file not present in the interactome:\n",
      "05:24:58 - OI2: INFO - []\n"
     ]
    },
    {
     "name": "stdout",
     "output_type": "stream",
     "text": [
      "Progress= 0.27\n"
     ]
    },
    {
     "name": "stderr",
     "output_type": "stream",
     "text": [
      "05:24:59 - OI2: INFO - Duplicated gene symbols in the prize file (we'll keep the max prize):\n",
      "05:24:59 - OI2: INFO - []\n",
      "05:24:59 - OI2: INFO - Members of the prize file not present in the interactome:\n",
      "05:24:59 - OI2: INFO - []\n"
     ]
    },
    {
     "name": "stdout",
     "output_type": "stream",
     "text": [
      "Progress= 0.28\n"
     ]
    },
    {
     "name": "stderr",
     "output_type": "stream",
     "text": [
      "05:25:01 - OI2: INFO - Duplicated gene symbols in the prize file (we'll keep the max prize):\n",
      "05:25:01 - OI2: INFO - []\n",
      "05:25:01 - OI2: INFO - Members of the prize file not present in the interactome:\n",
      "05:25:01 - OI2: INFO - []\n"
     ]
    },
    {
     "name": "stdout",
     "output_type": "stream",
     "text": [
      "Progress= 0.29\n"
     ]
    },
    {
     "name": "stderr",
     "output_type": "stream",
     "text": [
      "05:25:02 - OI2: INFO - Duplicated gene symbols in the prize file (we'll keep the max prize):\n",
      "05:25:02 - OI2: INFO - []\n",
      "05:25:02 - OI2: INFO - Members of the prize file not present in the interactome:\n",
      "05:25:02 - OI2: INFO - []\n"
     ]
    },
    {
     "name": "stdout",
     "output_type": "stream",
     "text": [
      "Progress= 0.3\n"
     ]
    },
    {
     "name": "stderr",
     "output_type": "stream",
     "text": [
      "05:25:03 - OI2: INFO - Duplicated gene symbols in the prize file (we'll keep the max prize):\n",
      "05:25:03 - OI2: INFO - []\n",
      "05:25:03 - OI2: INFO - Members of the prize file not present in the interactome:\n",
      "05:25:03 - OI2: INFO - []\n"
     ]
    },
    {
     "name": "stdout",
     "output_type": "stream",
     "text": [
      "Progress= 0.31\n"
     ]
    },
    {
     "name": "stderr",
     "output_type": "stream",
     "text": [
      "05:25:05 - OI2: INFO - Duplicated gene symbols in the prize file (we'll keep the max prize):\n",
      "05:25:05 - OI2: INFO - []\n",
      "05:25:05 - OI2: INFO - Members of the prize file not present in the interactome:\n",
      "05:25:05 - OI2: INFO - []\n"
     ]
    },
    {
     "name": "stdout",
     "output_type": "stream",
     "text": [
      "Progress= 0.32\n"
     ]
    },
    {
     "name": "stderr",
     "output_type": "stream",
     "text": [
      "05:25:06 - OI2: INFO - Duplicated gene symbols in the prize file (we'll keep the max prize):\n",
      "05:25:06 - OI2: INFO - []\n",
      "05:25:06 - OI2: INFO - Members of the prize file not present in the interactome:\n",
      "05:25:06 - OI2: INFO - []\n"
     ]
    },
    {
     "name": "stdout",
     "output_type": "stream",
     "text": [
      "Progress= 0.33\n"
     ]
    },
    {
     "name": "stderr",
     "output_type": "stream",
     "text": [
      "05:25:07 - OI2: INFO - Duplicated gene symbols in the prize file (we'll keep the max prize):\n",
      "05:25:07 - OI2: INFO - []\n",
      "05:25:07 - OI2: INFO - Members of the prize file not present in the interactome:\n",
      "05:25:07 - OI2: INFO - []\n"
     ]
    },
    {
     "name": "stdout",
     "output_type": "stream",
     "text": [
      "Progress= 0.34\n"
     ]
    },
    {
     "name": "stderr",
     "output_type": "stream",
     "text": [
      "05:25:09 - OI2: INFO - Duplicated gene symbols in the prize file (we'll keep the max prize):\n",
      "05:25:09 - OI2: INFO - []\n",
      "05:25:09 - OI2: INFO - Members of the prize file not present in the interactome:\n",
      "05:25:09 - OI2: INFO - []\n"
     ]
    },
    {
     "name": "stdout",
     "output_type": "stream",
     "text": [
      "Progress= 0.35\n"
     ]
    },
    {
     "name": "stderr",
     "output_type": "stream",
     "text": [
      "05:25:10 - OI2: INFO - Duplicated gene symbols in the prize file (we'll keep the max prize):\n",
      "05:25:10 - OI2: INFO - []\n",
      "05:25:10 - OI2: INFO - Members of the prize file not present in the interactome:\n",
      "05:25:10 - OI2: INFO - []\n"
     ]
    },
    {
     "name": "stdout",
     "output_type": "stream",
     "text": [
      "Progress= 0.36\n"
     ]
    },
    {
     "name": "stderr",
     "output_type": "stream",
     "text": [
      "05:25:11 - OI2: INFO - Duplicated gene symbols in the prize file (we'll keep the max prize):\n",
      "05:25:11 - OI2: INFO - []\n",
      "05:25:11 - OI2: INFO - Members of the prize file not present in the interactome:\n",
      "05:25:11 - OI2: INFO - []\n"
     ]
    },
    {
     "name": "stdout",
     "output_type": "stream",
     "text": [
      "Progress= 0.37\n"
     ]
    },
    {
     "name": "stderr",
     "output_type": "stream",
     "text": [
      "05:25:13 - OI2: INFO - Duplicated gene symbols in the prize file (we'll keep the max prize):\n",
      "05:25:13 - OI2: INFO - []\n",
      "05:25:13 - OI2: INFO - Members of the prize file not present in the interactome:\n",
      "05:25:13 - OI2: INFO - []\n"
     ]
    },
    {
     "name": "stdout",
     "output_type": "stream",
     "text": [
      "Progress= 0.38\n"
     ]
    },
    {
     "name": "stderr",
     "output_type": "stream",
     "text": [
      "05:25:14 - OI2: INFO - Duplicated gene symbols in the prize file (we'll keep the max prize):\n",
      "05:25:14 - OI2: INFO - []\n",
      "05:25:14 - OI2: INFO - Members of the prize file not present in the interactome:\n",
      "05:25:14 - OI2: INFO - []\n"
     ]
    },
    {
     "name": "stdout",
     "output_type": "stream",
     "text": [
      "Progress= 0.39\n"
     ]
    },
    {
     "name": "stderr",
     "output_type": "stream",
     "text": [
      "05:25:15 - OI2: INFO - Duplicated gene symbols in the prize file (we'll keep the max prize):\n",
      "05:25:15 - OI2: INFO - []\n",
      "05:25:15 - OI2: INFO - Members of the prize file not present in the interactome:\n",
      "05:25:15 - OI2: INFO - []\n"
     ]
    },
    {
     "name": "stdout",
     "output_type": "stream",
     "text": [
      "Progress= 0.4\n"
     ]
    },
    {
     "name": "stderr",
     "output_type": "stream",
     "text": [
      "05:25:17 - OI2: INFO - Duplicated gene symbols in the prize file (we'll keep the max prize):\n",
      "05:25:17 - OI2: INFO - []\n",
      "05:25:17 - OI2: INFO - Members of the prize file not present in the interactome:\n",
      "05:25:17 - OI2: INFO - []\n"
     ]
    },
    {
     "name": "stdout",
     "output_type": "stream",
     "text": [
      "Progress= 0.41\n"
     ]
    },
    {
     "name": "stderr",
     "output_type": "stream",
     "text": [
      "05:25:18 - OI2: INFO - Duplicated gene symbols in the prize file (we'll keep the max prize):\n",
      "05:25:18 - OI2: INFO - []\n",
      "05:25:18 - OI2: INFO - Members of the prize file not present in the interactome:\n",
      "05:25:18 - OI2: INFO - []\n"
     ]
    },
    {
     "name": "stdout",
     "output_type": "stream",
     "text": [
      "Progress= 0.42\n"
     ]
    },
    {
     "name": "stderr",
     "output_type": "stream",
     "text": [
      "05:25:19 - OI2: INFO - Duplicated gene symbols in the prize file (we'll keep the max prize):\n",
      "05:25:19 - OI2: INFO - []\n",
      "05:25:19 - OI2: INFO - Members of the prize file not present in the interactome:\n",
      "05:25:19 - OI2: INFO - []\n"
     ]
    },
    {
     "name": "stdout",
     "output_type": "stream",
     "text": [
      "Progress= 0.43\n"
     ]
    },
    {
     "name": "stderr",
     "output_type": "stream",
     "text": [
      "05:25:21 - OI2: INFO - Duplicated gene symbols in the prize file (we'll keep the max prize):\n",
      "05:25:21 - OI2: INFO - []\n",
      "05:25:21 - OI2: INFO - Members of the prize file not present in the interactome:\n",
      "05:25:21 - OI2: INFO - []\n"
     ]
    },
    {
     "name": "stdout",
     "output_type": "stream",
     "text": [
      "Progress= 0.44\n"
     ]
    },
    {
     "name": "stderr",
     "output_type": "stream",
     "text": [
      "05:25:22 - OI2: INFO - Duplicated gene symbols in the prize file (we'll keep the max prize):\n",
      "05:25:22 - OI2: INFO - []\n",
      "05:25:22 - OI2: INFO - Members of the prize file not present in the interactome:\n",
      "05:25:22 - OI2: INFO - []\n"
     ]
    },
    {
     "name": "stdout",
     "output_type": "stream",
     "text": [
      "Progress= 0.45\n"
     ]
    },
    {
     "name": "stderr",
     "output_type": "stream",
     "text": [
      "05:25:24 - OI2: INFO - Duplicated gene symbols in the prize file (we'll keep the max prize):\n",
      "05:25:24 - OI2: INFO - []\n",
      "05:25:24 - OI2: INFO - Members of the prize file not present in the interactome:\n",
      "05:25:24 - OI2: INFO - []\n"
     ]
    },
    {
     "name": "stdout",
     "output_type": "stream",
     "text": [
      "Progress= 0.46\n"
     ]
    },
    {
     "name": "stderr",
     "output_type": "stream",
     "text": [
      "05:25:25 - OI2: INFO - Duplicated gene symbols in the prize file (we'll keep the max prize):\n",
      "05:25:25 - OI2: INFO - []\n",
      "05:25:25 - OI2: INFO - Members of the prize file not present in the interactome:\n",
      "05:25:25 - OI2: INFO - []\n"
     ]
    },
    {
     "name": "stdout",
     "output_type": "stream",
     "text": [
      "Progress= 0.47\n"
     ]
    },
    {
     "name": "stderr",
     "output_type": "stream",
     "text": [
      "05:25:26 - OI2: INFO - Duplicated gene symbols in the prize file (we'll keep the max prize):\n",
      "05:25:26 - OI2: INFO - []\n",
      "05:25:26 - OI2: INFO - Members of the prize file not present in the interactome:\n",
      "05:25:26 - OI2: INFO - []\n"
     ]
    },
    {
     "name": "stdout",
     "output_type": "stream",
     "text": [
      "Progress= 0.48\n"
     ]
    },
    {
     "name": "stderr",
     "output_type": "stream",
     "text": [
      "05:25:28 - OI2: INFO - Duplicated gene symbols in the prize file (we'll keep the max prize):\n",
      "05:25:28 - OI2: INFO - []\n",
      "05:25:28 - OI2: INFO - Members of the prize file not present in the interactome:\n",
      "05:25:28 - OI2: INFO - []\n"
     ]
    },
    {
     "name": "stdout",
     "output_type": "stream",
     "text": [
      "Progress= 0.49\n"
     ]
    },
    {
     "name": "stderr",
     "output_type": "stream",
     "text": [
      "05:25:29 - OI2: INFO - Duplicated gene symbols in the prize file (we'll keep the max prize):\n",
      "05:25:29 - OI2: INFO - []\n",
      "05:25:29 - OI2: INFO - Members of the prize file not present in the interactome:\n",
      "05:25:29 - OI2: INFO - []\n"
     ]
    },
    {
     "name": "stdout",
     "output_type": "stream",
     "text": [
      "Progress= 0.5\n"
     ]
    },
    {
     "name": "stderr",
     "output_type": "stream",
     "text": [
      "05:25:30 - OI2: INFO - Duplicated gene symbols in the prize file (we'll keep the max prize):\n",
      "05:25:30 - OI2: INFO - []\n",
      "05:25:30 - OI2: INFO - Members of the prize file not present in the interactome:\n",
      "05:25:30 - OI2: INFO - []\n"
     ]
    },
    {
     "name": "stdout",
     "output_type": "stream",
     "text": [
      "Progress= 0.51\n"
     ]
    },
    {
     "name": "stderr",
     "output_type": "stream",
     "text": [
      "05:25:32 - OI2: INFO - Duplicated gene symbols in the prize file (we'll keep the max prize):\n",
      "05:25:32 - OI2: INFO - []\n",
      "05:25:32 - OI2: INFO - Members of the prize file not present in the interactome:\n",
      "05:25:32 - OI2: INFO - []\n"
     ]
    },
    {
     "name": "stdout",
     "output_type": "stream",
     "text": [
      "Progress= 0.52\n"
     ]
    },
    {
     "name": "stderr",
     "output_type": "stream",
     "text": [
      "05:25:33 - OI2: INFO - Duplicated gene symbols in the prize file (we'll keep the max prize):\n",
      "05:25:33 - OI2: INFO - []\n",
      "05:25:33 - OI2: INFO - Members of the prize file not present in the interactome:\n",
      "05:25:33 - OI2: INFO - []\n"
     ]
    },
    {
     "name": "stdout",
     "output_type": "stream",
     "text": [
      "Progress= 0.53\n"
     ]
    },
    {
     "name": "stderr",
     "output_type": "stream",
     "text": [
      "05:25:34 - OI2: INFO - Duplicated gene symbols in the prize file (we'll keep the max prize):\n",
      "05:25:34 - OI2: INFO - []\n",
      "05:25:34 - OI2: INFO - Members of the prize file not present in the interactome:\n",
      "05:25:34 - OI2: INFO - []\n"
     ]
    },
    {
     "name": "stdout",
     "output_type": "stream",
     "text": [
      "Progress= 0.54\n"
     ]
    },
    {
     "name": "stderr",
     "output_type": "stream",
     "text": [
      "05:25:36 - OI2: INFO - Duplicated gene symbols in the prize file (we'll keep the max prize):\n",
      "05:25:36 - OI2: INFO - []\n",
      "05:25:36 - OI2: INFO - Members of the prize file not present in the interactome:\n",
      "05:25:36 - OI2: INFO - []\n"
     ]
    },
    {
     "name": "stdout",
     "output_type": "stream",
     "text": [
      "Progress= 0.55\n"
     ]
    },
    {
     "name": "stderr",
     "output_type": "stream",
     "text": [
      "05:25:37 - OI2: INFO - Duplicated gene symbols in the prize file (we'll keep the max prize):\n",
      "05:25:37 - OI2: INFO - []\n",
      "05:25:37 - OI2: INFO - Members of the prize file not present in the interactome:\n",
      "05:25:37 - OI2: INFO - []\n"
     ]
    },
    {
     "name": "stdout",
     "output_type": "stream",
     "text": [
      "Progress= 0.56\n"
     ]
    },
    {
     "name": "stderr",
     "output_type": "stream",
     "text": [
      "05:25:39 - OI2: INFO - Duplicated gene symbols in the prize file (we'll keep the max prize):\n",
      "05:25:39 - OI2: INFO - []\n",
      "05:25:39 - OI2: INFO - Members of the prize file not present in the interactome:\n",
      "05:25:39 - OI2: INFO - []\n"
     ]
    },
    {
     "name": "stdout",
     "output_type": "stream",
     "text": [
      "Progress= 0.57\n"
     ]
    },
    {
     "name": "stderr",
     "output_type": "stream",
     "text": [
      "05:25:40 - OI2: INFO - Duplicated gene symbols in the prize file (we'll keep the max prize):\n",
      "05:25:40 - OI2: INFO - []\n",
      "05:25:40 - OI2: INFO - Members of the prize file not present in the interactome:\n",
      "05:25:40 - OI2: INFO - []\n"
     ]
    },
    {
     "name": "stdout",
     "output_type": "stream",
     "text": [
      "Progress= 0.58\n"
     ]
    },
    {
     "name": "stderr",
     "output_type": "stream",
     "text": [
      "05:25:41 - OI2: INFO - Duplicated gene symbols in the prize file (we'll keep the max prize):\n",
      "05:25:41 - OI2: INFO - []\n",
      "05:25:41 - OI2: INFO - Members of the prize file not present in the interactome:\n",
      "05:25:41 - OI2: INFO - []\n"
     ]
    },
    {
     "name": "stdout",
     "output_type": "stream",
     "text": [
      "Progress= 0.59\n"
     ]
    },
    {
     "name": "stderr",
     "output_type": "stream",
     "text": [
      "05:25:43 - OI2: INFO - Duplicated gene symbols in the prize file (we'll keep the max prize):\n",
      "05:25:43 - OI2: INFO - []\n",
      "05:25:43 - OI2: INFO - Members of the prize file not present in the interactome:\n",
      "05:25:43 - OI2: INFO - []\n"
     ]
    },
    {
     "name": "stdout",
     "output_type": "stream",
     "text": [
      "Progress= 0.6\n"
     ]
    },
    {
     "name": "stderr",
     "output_type": "stream",
     "text": [
      "05:25:44 - OI2: INFO - Duplicated gene symbols in the prize file (we'll keep the max prize):\n",
      "05:25:44 - OI2: INFO - []\n",
      "05:25:44 - OI2: INFO - Members of the prize file not present in the interactome:\n",
      "05:25:44 - OI2: INFO - []\n"
     ]
    },
    {
     "name": "stdout",
     "output_type": "stream",
     "text": [
      "Progress= 0.61\n"
     ]
    },
    {
     "name": "stderr",
     "output_type": "stream",
     "text": [
      "05:25:45 - OI2: INFO - Duplicated gene symbols in the prize file (we'll keep the max prize):\n",
      "05:25:45 - OI2: INFO - []\n",
      "05:25:45 - OI2: INFO - Members of the prize file not present in the interactome:\n",
      "05:25:45 - OI2: INFO - []\n"
     ]
    },
    {
     "name": "stdout",
     "output_type": "stream",
     "text": [
      "Progress= 0.62\n"
     ]
    },
    {
     "name": "stderr",
     "output_type": "stream",
     "text": [
      "05:25:47 - OI2: INFO - Duplicated gene symbols in the prize file (we'll keep the max prize):\n",
      "05:25:47 - OI2: INFO - []\n",
      "05:25:47 - OI2: INFO - Members of the prize file not present in the interactome:\n",
      "05:25:47 - OI2: INFO - []\n"
     ]
    },
    {
     "name": "stdout",
     "output_type": "stream",
     "text": [
      "Progress= 0.63\n"
     ]
    },
    {
     "name": "stderr",
     "output_type": "stream",
     "text": [
      "05:25:48 - OI2: INFO - Duplicated gene symbols in the prize file (we'll keep the max prize):\n",
      "05:25:48 - OI2: INFO - []\n",
      "05:25:48 - OI2: INFO - Members of the prize file not present in the interactome:\n",
      "05:25:48 - OI2: INFO - []\n"
     ]
    },
    {
     "name": "stdout",
     "output_type": "stream",
     "text": [
      "Progress= 0.64\n"
     ]
    },
    {
     "name": "stderr",
     "output_type": "stream",
     "text": [
      "05:25:50 - OI2: INFO - Duplicated gene symbols in the prize file (we'll keep the max prize):\n",
      "05:25:50 - OI2: INFO - []\n",
      "05:25:50 - OI2: INFO - Members of the prize file not present in the interactome:\n",
      "05:25:50 - OI2: INFO - []\n"
     ]
    },
    {
     "name": "stdout",
     "output_type": "stream",
     "text": [
      "Progress= 0.65\n"
     ]
    },
    {
     "name": "stderr",
     "output_type": "stream",
     "text": [
      "05:25:51 - OI2: INFO - Duplicated gene symbols in the prize file (we'll keep the max prize):\n",
      "05:25:51 - OI2: INFO - []\n",
      "05:25:51 - OI2: INFO - Members of the prize file not present in the interactome:\n",
      "05:25:51 - OI2: INFO - []\n"
     ]
    },
    {
     "name": "stdout",
     "output_type": "stream",
     "text": [
      "Progress= 0.66\n"
     ]
    },
    {
     "name": "stderr",
     "output_type": "stream",
     "text": [
      "05:25:52 - OI2: INFO - Duplicated gene symbols in the prize file (we'll keep the max prize):\n",
      "05:25:52 - OI2: INFO - []\n",
      "05:25:52 - OI2: INFO - Members of the prize file not present in the interactome:\n",
      "05:25:52 - OI2: INFO - []\n"
     ]
    },
    {
     "name": "stdout",
     "output_type": "stream",
     "text": [
      "Progress= 0.67\n"
     ]
    },
    {
     "name": "stderr",
     "output_type": "stream",
     "text": [
      "05:25:54 - OI2: INFO - Duplicated gene symbols in the prize file (we'll keep the max prize):\n",
      "05:25:54 - OI2: INFO - []\n",
      "05:25:54 - OI2: INFO - Members of the prize file not present in the interactome:\n",
      "05:25:54 - OI2: INFO - []\n"
     ]
    },
    {
     "name": "stdout",
     "output_type": "stream",
     "text": [
      "Progress= 0.68\n"
     ]
    },
    {
     "name": "stderr",
     "output_type": "stream",
     "text": [
      "05:25:55 - OI2: INFO - Duplicated gene symbols in the prize file (we'll keep the max prize):\n",
      "05:25:55 - OI2: INFO - []\n",
      "05:25:55 - OI2: INFO - Members of the prize file not present in the interactome:\n",
      "05:25:55 - OI2: INFO - []\n"
     ]
    },
    {
     "name": "stdout",
     "output_type": "stream",
     "text": [
      "Progress= 0.69\n"
     ]
    },
    {
     "name": "stderr",
     "output_type": "stream",
     "text": [
      "05:25:57 - OI2: INFO - Duplicated gene symbols in the prize file (we'll keep the max prize):\n",
      "05:25:57 - OI2: INFO - []\n",
      "05:25:57 - OI2: INFO - Members of the prize file not present in the interactome:\n",
      "05:25:57 - OI2: INFO - []\n"
     ]
    },
    {
     "name": "stdout",
     "output_type": "stream",
     "text": [
      "Progress= 0.7\n"
     ]
    },
    {
     "name": "stderr",
     "output_type": "stream",
     "text": [
      "05:25:58 - OI2: INFO - Duplicated gene symbols in the prize file (we'll keep the max prize):\n",
      "05:25:58 - OI2: INFO - []\n",
      "05:25:58 - OI2: INFO - Members of the prize file not present in the interactome:\n",
      "05:25:58 - OI2: INFO - []\n"
     ]
    },
    {
     "name": "stdout",
     "output_type": "stream",
     "text": [
      "Progress= 0.71\n"
     ]
    },
    {
     "name": "stderr",
     "output_type": "stream",
     "text": [
      "05:25:59 - OI2: INFO - Duplicated gene symbols in the prize file (we'll keep the max prize):\n",
      "05:25:59 - OI2: INFO - []\n",
      "05:25:59 - OI2: INFO - Members of the prize file not present in the interactome:\n",
      "05:25:59 - OI2: INFO - []\n"
     ]
    },
    {
     "name": "stdout",
     "output_type": "stream",
     "text": [
      "Progress= 0.72\n"
     ]
    },
    {
     "name": "stderr",
     "output_type": "stream",
     "text": [
      "05:26:01 - OI2: INFO - Duplicated gene symbols in the prize file (we'll keep the max prize):\n",
      "05:26:01 - OI2: INFO - []\n",
      "05:26:01 - OI2: INFO - Members of the prize file not present in the interactome:\n",
      "05:26:01 - OI2: INFO - []\n"
     ]
    },
    {
     "name": "stdout",
     "output_type": "stream",
     "text": [
      "Progress= 0.73\n"
     ]
    },
    {
     "name": "stderr",
     "output_type": "stream",
     "text": [
      "05:26:03 - OI2: INFO - Duplicated gene symbols in the prize file (we'll keep the max prize):\n",
      "05:26:03 - OI2: INFO - []\n",
      "05:26:03 - OI2: INFO - Members of the prize file not present in the interactome:\n",
      "05:26:03 - OI2: INFO - []\n"
     ]
    },
    {
     "name": "stdout",
     "output_type": "stream",
     "text": [
      "Progress= 0.74\n"
     ]
    },
    {
     "name": "stderr",
     "output_type": "stream",
     "text": [
      "05:26:04 - OI2: INFO - Duplicated gene symbols in the prize file (we'll keep the max prize):\n",
      "05:26:04 - OI2: INFO - []\n",
      "05:26:04 - OI2: INFO - Members of the prize file not present in the interactome:\n",
      "05:26:04 - OI2: INFO - []\n"
     ]
    },
    {
     "name": "stdout",
     "output_type": "stream",
     "text": [
      "Progress= 0.75\n"
     ]
    },
    {
     "name": "stderr",
     "output_type": "stream",
     "text": [
      "05:26:06 - OI2: INFO - Duplicated gene symbols in the prize file (we'll keep the max prize):\n",
      "05:26:06 - OI2: INFO - []\n",
      "05:26:06 - OI2: INFO - Members of the prize file not present in the interactome:\n",
      "05:26:06 - OI2: INFO - []\n"
     ]
    },
    {
     "name": "stdout",
     "output_type": "stream",
     "text": [
      "Progress= 0.76\n"
     ]
    },
    {
     "name": "stderr",
     "output_type": "stream",
     "text": [
      "05:26:07 - OI2: INFO - Duplicated gene symbols in the prize file (we'll keep the max prize):\n",
      "05:26:07 - OI2: INFO - []\n",
      "05:26:07 - OI2: INFO - Members of the prize file not present in the interactome:\n",
      "05:26:07 - OI2: INFO - []\n"
     ]
    },
    {
     "name": "stdout",
     "output_type": "stream",
     "text": [
      "Progress= 0.77\n"
     ]
    },
    {
     "name": "stderr",
     "output_type": "stream",
     "text": [
      "05:26:08 - OI2: INFO - Duplicated gene symbols in the prize file (we'll keep the max prize):\n",
      "05:26:08 - OI2: INFO - []\n",
      "05:26:08 - OI2: INFO - Members of the prize file not present in the interactome:\n",
      "05:26:08 - OI2: INFO - []\n"
     ]
    },
    {
     "name": "stdout",
     "output_type": "stream",
     "text": [
      "Progress= 0.78\n"
     ]
    },
    {
     "name": "stderr",
     "output_type": "stream",
     "text": [
      "05:26:10 - OI2: INFO - Duplicated gene symbols in the prize file (we'll keep the max prize):\n",
      "05:26:10 - OI2: INFO - []\n",
      "05:26:10 - OI2: INFO - Members of the prize file not present in the interactome:\n",
      "05:26:10 - OI2: INFO - []\n"
     ]
    },
    {
     "name": "stdout",
     "output_type": "stream",
     "text": [
      "Progress= 0.79\n"
     ]
    },
    {
     "name": "stderr",
     "output_type": "stream",
     "text": [
      "05:26:11 - OI2: INFO - Duplicated gene symbols in the prize file (we'll keep the max prize):\n",
      "05:26:11 - OI2: INFO - []\n",
      "05:26:11 - OI2: INFO - Members of the prize file not present in the interactome:\n",
      "05:26:11 - OI2: INFO - []\n"
     ]
    },
    {
     "name": "stdout",
     "output_type": "stream",
     "text": [
      "Progress= 0.8\n"
     ]
    },
    {
     "name": "stderr",
     "output_type": "stream",
     "text": [
      "05:26:12 - OI2: INFO - Duplicated gene symbols in the prize file (we'll keep the max prize):\n",
      "05:26:12 - OI2: INFO - []\n",
      "05:26:12 - OI2: INFO - Members of the prize file not present in the interactome:\n",
      "05:26:12 - OI2: INFO - []\n"
     ]
    },
    {
     "name": "stdout",
     "output_type": "stream",
     "text": [
      "Progress= 0.81\n"
     ]
    },
    {
     "name": "stderr",
     "output_type": "stream",
     "text": [
      "05:26:14 - OI2: INFO - Duplicated gene symbols in the prize file (we'll keep the max prize):\n",
      "05:26:14 - OI2: INFO - []\n",
      "05:26:14 - OI2: INFO - Members of the prize file not present in the interactome:\n",
      "05:26:14 - OI2: INFO - []\n"
     ]
    },
    {
     "name": "stdout",
     "output_type": "stream",
     "text": [
      "Progress= 0.82\n"
     ]
    },
    {
     "name": "stderr",
     "output_type": "stream",
     "text": [
      "05:26:15 - OI2: INFO - Duplicated gene symbols in the prize file (we'll keep the max prize):\n",
      "05:26:15 - OI2: INFO - []\n",
      "05:26:15 - OI2: INFO - Members of the prize file not present in the interactome:\n",
      "05:26:15 - OI2: INFO - []\n"
     ]
    },
    {
     "name": "stdout",
     "output_type": "stream",
     "text": [
      "Progress= 0.83\n"
     ]
    },
    {
     "name": "stderr",
     "output_type": "stream",
     "text": [
      "05:26:16 - OI2: INFO - Duplicated gene symbols in the prize file (we'll keep the max prize):\n",
      "05:26:16 - OI2: INFO - []\n",
      "05:26:16 - OI2: INFO - Members of the prize file not present in the interactome:\n",
      "05:26:16 - OI2: INFO - []\n"
     ]
    },
    {
     "name": "stdout",
     "output_type": "stream",
     "text": [
      "Progress= 0.84\n"
     ]
    },
    {
     "name": "stderr",
     "output_type": "stream",
     "text": [
      "05:26:18 - OI2: INFO - Duplicated gene symbols in the prize file (we'll keep the max prize):\n",
      "05:26:18 - OI2: INFO - []\n",
      "05:26:18 - OI2: INFO - Members of the prize file not present in the interactome:\n",
      "05:26:18 - OI2: INFO - []\n"
     ]
    },
    {
     "name": "stdout",
     "output_type": "stream",
     "text": [
      "Progress= 0.85\n"
     ]
    },
    {
     "name": "stderr",
     "output_type": "stream",
     "text": [
      "05:26:19 - OI2: INFO - Duplicated gene symbols in the prize file (we'll keep the max prize):\n",
      "05:26:19 - OI2: INFO - []\n",
      "05:26:19 - OI2: INFO - Members of the prize file not present in the interactome:\n",
      "05:26:19 - OI2: INFO - []\n"
     ]
    },
    {
     "name": "stdout",
     "output_type": "stream",
     "text": [
      "Progress= 0.86\n"
     ]
    },
    {
     "name": "stderr",
     "output_type": "stream",
     "text": [
      "05:26:21 - OI2: INFO - Duplicated gene symbols in the prize file (we'll keep the max prize):\n",
      "05:26:21 - OI2: INFO - []\n",
      "05:26:21 - OI2: INFO - Members of the prize file not present in the interactome:\n",
      "05:26:21 - OI2: INFO - []\n"
     ]
    },
    {
     "name": "stdout",
     "output_type": "stream",
     "text": [
      "Progress= 0.87\n"
     ]
    },
    {
     "name": "stderr",
     "output_type": "stream",
     "text": [
      "05:26:22 - OI2: INFO - Duplicated gene symbols in the prize file (we'll keep the max prize):\n",
      "05:26:22 - OI2: INFO - []\n",
      "05:26:22 - OI2: INFO - Members of the prize file not present in the interactome:\n",
      "05:26:22 - OI2: INFO - []\n"
     ]
    },
    {
     "name": "stdout",
     "output_type": "stream",
     "text": [
      "Progress= 0.88\n"
     ]
    },
    {
     "name": "stderr",
     "output_type": "stream",
     "text": [
      "05:26:23 - OI2: INFO - Duplicated gene symbols in the prize file (we'll keep the max prize):\n",
      "05:26:23 - OI2: INFO - []\n",
      "05:26:23 - OI2: INFO - Members of the prize file not present in the interactome:\n",
      "05:26:23 - OI2: INFO - []\n"
     ]
    },
    {
     "name": "stdout",
     "output_type": "stream",
     "text": [
      "Progress= 0.89\n"
     ]
    },
    {
     "name": "stderr",
     "output_type": "stream",
     "text": [
      "05:26:25 - OI2: INFO - Duplicated gene symbols in the prize file (we'll keep the max prize):\n",
      "05:26:25 - OI2: INFO - []\n",
      "05:26:25 - OI2: INFO - Members of the prize file not present in the interactome:\n",
      "05:26:25 - OI2: INFO - []\n"
     ]
    },
    {
     "name": "stdout",
     "output_type": "stream",
     "text": [
      "Progress= 0.9\n"
     ]
    },
    {
     "name": "stderr",
     "output_type": "stream",
     "text": [
      "05:26:26 - OI2: INFO - Duplicated gene symbols in the prize file (we'll keep the max prize):\n",
      "05:26:26 - OI2: INFO - []\n",
      "05:26:26 - OI2: INFO - Members of the prize file not present in the interactome:\n",
      "05:26:26 - OI2: INFO - []\n"
     ]
    },
    {
     "name": "stdout",
     "output_type": "stream",
     "text": [
      "Progress= 0.91\n"
     ]
    },
    {
     "name": "stderr",
     "output_type": "stream",
     "text": [
      "05:26:27 - OI2: INFO - Duplicated gene symbols in the prize file (we'll keep the max prize):\n",
      "05:26:27 - OI2: INFO - []\n",
      "05:26:27 - OI2: INFO - Members of the prize file not present in the interactome:\n",
      "05:26:27 - OI2: INFO - []\n"
     ]
    },
    {
     "name": "stdout",
     "output_type": "stream",
     "text": [
      "Progress= 0.92\n"
     ]
    },
    {
     "name": "stderr",
     "output_type": "stream",
     "text": [
      "05:26:29 - OI2: INFO - Duplicated gene symbols in the prize file (we'll keep the max prize):\n",
      "05:26:29 - OI2: INFO - []\n",
      "05:26:29 - OI2: INFO - Members of the prize file not present in the interactome:\n",
      "05:26:29 - OI2: INFO - []\n"
     ]
    },
    {
     "name": "stdout",
     "output_type": "stream",
     "text": [
      "Progress= 0.93\n"
     ]
    },
    {
     "name": "stderr",
     "output_type": "stream",
     "text": [
      "05:26:30 - OI2: INFO - Duplicated gene symbols in the prize file (we'll keep the max prize):\n",
      "05:26:30 - OI2: INFO - []\n",
      "05:26:30 - OI2: INFO - Members of the prize file not present in the interactome:\n",
      "05:26:30 - OI2: INFO - []\n"
     ]
    },
    {
     "name": "stdout",
     "output_type": "stream",
     "text": [
      "Progress= 0.94\n"
     ]
    },
    {
     "name": "stderr",
     "output_type": "stream",
     "text": [
      "05:26:32 - OI2: INFO - Duplicated gene symbols in the prize file (we'll keep the max prize):\n",
      "05:26:32 - OI2: INFO - []\n",
      "05:26:32 - OI2: INFO - Members of the prize file not present in the interactome:\n",
      "05:26:32 - OI2: INFO - []\n"
     ]
    },
    {
     "name": "stdout",
     "output_type": "stream",
     "text": [
      "Progress= 0.95\n"
     ]
    },
    {
     "name": "stderr",
     "output_type": "stream",
     "text": [
      "05:26:33 - OI2: INFO - Duplicated gene symbols in the prize file (we'll keep the max prize):\n",
      "05:26:33 - OI2: INFO - []\n",
      "05:26:33 - OI2: INFO - Members of the prize file not present in the interactome:\n",
      "05:26:33 - OI2: INFO - []\n"
     ]
    },
    {
     "name": "stdout",
     "output_type": "stream",
     "text": [
      "Progress= 0.96\n"
     ]
    },
    {
     "name": "stderr",
     "output_type": "stream",
     "text": [
      "05:26:34 - OI2: INFO - Duplicated gene symbols in the prize file (we'll keep the max prize):\n",
      "05:26:34 - OI2: INFO - []\n",
      "05:26:34 - OI2: INFO - Members of the prize file not present in the interactome:\n",
      "05:26:34 - OI2: INFO - []\n"
     ]
    },
    {
     "name": "stdout",
     "output_type": "stream",
     "text": [
      "Progress= 0.97\n"
     ]
    },
    {
     "name": "stderr",
     "output_type": "stream",
     "text": [
      "05:26:36 - OI2: INFO - Duplicated gene symbols in the prize file (we'll keep the max prize):\n",
      "05:26:36 - OI2: INFO - []\n",
      "05:26:36 - OI2: INFO - Members of the prize file not present in the interactome:\n",
      "05:26:36 - OI2: INFO - []\n"
     ]
    },
    {
     "name": "stdout",
     "output_type": "stream",
     "text": [
      "Progress= 0.98\n"
     ]
    },
    {
     "name": "stderr",
     "output_type": "stream",
     "text": [
      "05:26:37 - OI2: INFO - Duplicated gene symbols in the prize file (we'll keep the max prize):\n",
      "05:26:37 - OI2: INFO - []\n",
      "05:26:37 - OI2: INFO - Members of the prize file not present in the interactome:\n",
      "05:26:37 - OI2: INFO - []\n"
     ]
    },
    {
     "name": "stdout",
     "output_type": "stream",
     "text": [
      "Progress= 0.99\n"
     ]
    },
    {
     "name": "stderr",
     "output_type": "stream",
     "text": [
      "05:26:38 - OI2: INFO - Duplicated gene symbols in the prize file (we'll keep the max prize):\n",
      "05:26:38 - OI2: INFO - []\n",
      "05:26:38 - OI2: INFO - Members of the prize file not present in the interactome:\n",
      "05:26:38 - OI2: INFO - []\n"
     ]
    },
    {
     "name": "stdout",
     "output_type": "stream",
     "text": [
      "Progress= 1.0\n"
     ]
    }
   ],
   "source": [
    "# Run sensitivity analysis\n",
    "networks_dict = sensitivity.run_sensitivity_analysis(interactome_file_name, \n",
    "                                                     prize_file_name, \n",
    "                                                     graph_params, \n",
    "                                                     W_list, \n",
    "                                                     B_list, \n",
    "                                                     G=0)"
   ]
  },
  {
   "cell_type": "code",
   "execution_count": 16,
   "metadata": {},
   "outputs": [],
   "source": [
    "# Save as pickle\n",
    "with open(\"../Save_drop1/networks_dict.pkl\", \"wb\") as f: \n",
    "    pickle.dump(networks_dict, f)"
   ]
  },
  {
   "cell_type": "code",
   "execution_count": 15,
   "metadata": {},
   "outputs": [],
   "source": [
    "# Add metatadata\n",
    "networks_dict = pickle.load(open(\"../Save_drop1/networks_dict.pkl\", \"rb\"))\n",
    "networks_dict = sensitivity.add_metadata(networks_dict, virus_interacting_genes)"
   ]
  },
  {
   "cell_type": "code",
   "execution_count": 16,
   "metadata": {},
   "outputs": [
    {
     "data": {
      "text/html": [
       "<div>\n",
       "<style scoped>\n",
       "    .dataframe tbody tr th:only-of-type {\n",
       "        vertical-align: middle;\n",
       "    }\n",
       "\n",
       "    .dataframe tbody tr th {\n",
       "        vertical-align: top;\n",
       "    }\n",
       "\n",
       "    .dataframe thead th {\n",
       "        text-align: right;\n",
       "    }\n",
       "</style>\n",
       "<table border=\"1\" class=\"dataframe\">\n",
       "  <thead>\n",
       "    <tr style=\"text-align: right;\">\n",
       "      <th></th>\n",
       "      <th>index</th>\n",
       "      <th>w</th>\n",
       "      <th>b</th>\n",
       "      <th>g</th>\n",
       "      <th>nodes</th>\n",
       "      <th>edges</th>\n",
       "      <th>number_components</th>\n",
       "      <th>size_components</th>\n",
       "      <th>percentage_terminals</th>\n",
       "      <th>upregulated_terminals</th>\n",
       "      <th>downregulated_terminals</th>\n",
       "      <th>number_transcription_regulators</th>\n",
       "      <th>transcription_regulators</th>\n",
       "      <th>number_of_proteins_interacting_sars</th>\n",
       "      <th>proteins_interacting_sars</th>\n",
       "    </tr>\n",
       "  </thead>\n",
       "  <tbody>\n",
       "    <tr>\n",
       "      <th>w_0.2_b_10.0</th>\n",
       "      <td>1</td>\n",
       "      <td>0.2</td>\n",
       "      <td>10.0</td>\n",
       "      <td>0</td>\n",
       "      <td>187</td>\n",
       "      <td>357</td>\n",
       "      <td>33</td>\n",
       "      <td>[155, 1, 1, 1, 1, 1, 1, 1, 1, 1, 1, 1, 1, 1, 1...</td>\n",
       "      <td>1.0</td>\n",
       "      <td>75</td>\n",
       "      <td>87</td>\n",
       "      <td>5</td>\n",
       "      <td>[CREB5, ETV6, HOXB3, IRF2, TSC22D2]</td>\n",
       "      <td>3</td>\n",
       "      <td>[EXOSC5, FOXRED2, LOX]</td>\n",
       "    </tr>\n",
       "    <tr>\n",
       "      <th>w_0.2_b_15.0</th>\n",
       "      <td>2</td>\n",
       "      <td>0.2</td>\n",
       "      <td>15.0</td>\n",
       "      <td>0</td>\n",
       "      <td>187</td>\n",
       "      <td>357</td>\n",
       "      <td>33</td>\n",
       "      <td>[155, 1, 1, 1, 1, 1, 1, 1, 1, 1, 1, 1, 1, 1, 1...</td>\n",
       "      <td>1.0</td>\n",
       "      <td>75</td>\n",
       "      <td>87</td>\n",
       "      <td>5</td>\n",
       "      <td>[CREB5, ETV6, HOXB3, IRF2, TSC22D2]</td>\n",
       "      <td>3</td>\n",
       "      <td>[EXOSC5, FOXRED2, LOX]</td>\n",
       "    </tr>\n",
       "    <tr>\n",
       "      <th>w_0.2_b_20.0</th>\n",
       "      <td>3</td>\n",
       "      <td>0.2</td>\n",
       "      <td>20.0</td>\n",
       "      <td>0</td>\n",
       "      <td>187</td>\n",
       "      <td>357</td>\n",
       "      <td>33</td>\n",
       "      <td>[155, 1, 1, 1, 1, 1, 1, 1, 1, 1, 1, 1, 1, 1, 1...</td>\n",
       "      <td>1.0</td>\n",
       "      <td>75</td>\n",
       "      <td>87</td>\n",
       "      <td>5</td>\n",
       "      <td>[CREB5, ETV6, HOXB3, IRF2, TSC22D2]</td>\n",
       "      <td>3</td>\n",
       "      <td>[EXOSC5, FOXRED2, LOX]</td>\n",
       "    </tr>\n",
       "    <tr>\n",
       "      <th>w_0.2_b_25.0</th>\n",
       "      <td>4</td>\n",
       "      <td>0.2</td>\n",
       "      <td>25.0</td>\n",
       "      <td>0</td>\n",
       "      <td>187</td>\n",
       "      <td>357</td>\n",
       "      <td>33</td>\n",
       "      <td>[155, 1, 1, 1, 1, 1, 1, 1, 1, 1, 1, 1, 1, 1, 1...</td>\n",
       "      <td>1.0</td>\n",
       "      <td>75</td>\n",
       "      <td>87</td>\n",
       "      <td>5</td>\n",
       "      <td>[CREB5, ETV6, HOXB3, IRF2, TSC22D2]</td>\n",
       "      <td>3</td>\n",
       "      <td>[EXOSC5, FOXRED2, LOX]</td>\n",
       "    </tr>\n",
       "    <tr>\n",
       "      <th>w_0.2_b_30.0</th>\n",
       "      <td>5</td>\n",
       "      <td>0.2</td>\n",
       "      <td>30.0</td>\n",
       "      <td>0</td>\n",
       "      <td>187</td>\n",
       "      <td>357</td>\n",
       "      <td>33</td>\n",
       "      <td>[155, 1, 1, 1, 1, 1, 1, 1, 1, 1, 1, 1, 1, 1, 1...</td>\n",
       "      <td>1.0</td>\n",
       "      <td>75</td>\n",
       "      <td>87</td>\n",
       "      <td>5</td>\n",
       "      <td>[CREB5, ETV6, HOXB3, IRF2, TSC22D2]</td>\n",
       "      <td>3</td>\n",
       "      <td>[EXOSC5, FOXRED2, LOX]</td>\n",
       "    </tr>\n",
       "  </tbody>\n",
       "</table>\n",
       "</div>"
      ],
      "text/plain": [
       "              index    w     b  g  nodes  edges  number_components  \\\n",
       "w_0.2_b_10.0      1  0.2  10.0  0    187    357                 33   \n",
       "w_0.2_b_15.0      2  0.2  15.0  0    187    357                 33   \n",
       "w_0.2_b_20.0      3  0.2  20.0  0    187    357                 33   \n",
       "w_0.2_b_25.0      4  0.2  25.0  0    187    357                 33   \n",
       "w_0.2_b_30.0      5  0.2  30.0  0    187    357                 33   \n",
       "\n",
       "                                                size_components  \\\n",
       "w_0.2_b_10.0  [155, 1, 1, 1, 1, 1, 1, 1, 1, 1, 1, 1, 1, 1, 1...   \n",
       "w_0.2_b_15.0  [155, 1, 1, 1, 1, 1, 1, 1, 1, 1, 1, 1, 1, 1, 1...   \n",
       "w_0.2_b_20.0  [155, 1, 1, 1, 1, 1, 1, 1, 1, 1, 1, 1, 1, 1, 1...   \n",
       "w_0.2_b_25.0  [155, 1, 1, 1, 1, 1, 1, 1, 1, 1, 1, 1, 1, 1, 1...   \n",
       "w_0.2_b_30.0  [155, 1, 1, 1, 1, 1, 1, 1, 1, 1, 1, 1, 1, 1, 1...   \n",
       "\n",
       "              percentage_terminals  upregulated_terminals  \\\n",
       "w_0.2_b_10.0                   1.0                     75   \n",
       "w_0.2_b_15.0                   1.0                     75   \n",
       "w_0.2_b_20.0                   1.0                     75   \n",
       "w_0.2_b_25.0                   1.0                     75   \n",
       "w_0.2_b_30.0                   1.0                     75   \n",
       "\n",
       "              downregulated_terminals  number_transcription_regulators  \\\n",
       "w_0.2_b_10.0                       87                                5   \n",
       "w_0.2_b_15.0                       87                                5   \n",
       "w_0.2_b_20.0                       87                                5   \n",
       "w_0.2_b_25.0                       87                                5   \n",
       "w_0.2_b_30.0                       87                                5   \n",
       "\n",
       "                         transcription_regulators  \\\n",
       "w_0.2_b_10.0  [CREB5, ETV6, HOXB3, IRF2, TSC22D2]   \n",
       "w_0.2_b_15.0  [CREB5, ETV6, HOXB3, IRF2, TSC22D2]   \n",
       "w_0.2_b_20.0  [CREB5, ETV6, HOXB3, IRF2, TSC22D2]   \n",
       "w_0.2_b_25.0  [CREB5, ETV6, HOXB3, IRF2, TSC22D2]   \n",
       "w_0.2_b_30.0  [CREB5, ETV6, HOXB3, IRF2, TSC22D2]   \n",
       "\n",
       "              number_of_proteins_interacting_sars proteins_interacting_sars  \n",
       "w_0.2_b_10.0                                    3    [EXOSC5, FOXRED2, LOX]  \n",
       "w_0.2_b_15.0                                    3    [EXOSC5, FOXRED2, LOX]  \n",
       "w_0.2_b_20.0                                    3    [EXOSC5, FOXRED2, LOX]  \n",
       "w_0.2_b_25.0                                    3    [EXOSC5, FOXRED2, LOX]  \n",
       "w_0.2_b_30.0                                    3    [EXOSC5, FOXRED2, LOX]  "
      ]
     },
     "execution_count": 16,
     "metadata": {},
     "output_type": "execute_result"
    }
   ],
   "source": [
    "# Make summary\n",
    "networks_summary_df = sensitivity.make_summary(networks_dict, n_terminals, g=0)\n",
    "networks_summary_df.head()"
   ]
  },
  {
   "cell_type": "markdown",
   "metadata": {},
   "source": [
    "## Plot node stability heatmaps"
   ]
  },
  {
   "cell_type": "code",
   "execution_count": 19,
   "metadata": {},
   "outputs": [
    {
     "data": {
      "text/plain": [
       "<Figure size 432x288 with 0 Axes>"
      ]
     },
     "metadata": {},
     "output_type": "display_data"
    },
    {
     "data": {
      "image/png": "[encoded data removed]",
      "text/plain": [
       "<Figure size 288x288 with 2 Axes>"
      ]
     },
     "metadata": {
      "needs_background": "light"
     },
     "output_type": "display_data"
    }
   ],
   "source": [
    "# Stability of selected nodes\n",
    "mat_allnodes = sensitivity.create_matrix_gene_overlap_between_networks(networks_summary_df, networks_dict)\n",
    "plt.figure()\n",
    "plt.matshow(mat_allnodes)\n",
    "plt.xlabel('networks')\n",
    "plt.ylabel('networks')\n",
    "plt.title('Nodes stability')\n",
    "plt.colorbar()\n",
    "plt.show()"
   ]
  },
  {
   "cell_type": "code",
   "execution_count": 20,
   "metadata": {},
   "outputs": [
    {
     "data": {
      "text/plain": [
       "<Figure size 432x288 with 0 Axes>"
      ]
     },
     "metadata": {},
     "output_type": "display_data"
    },
    {
     "data": {
      "image/png": "[encoded data removed]",
      "text/plain": [
       "<Figure size 288x288 with 2 Axes>"
      ]
     },
     "metadata": {
      "needs_background": "light"
     },
     "output_type": "display_data"
    }
   ],
   "source": [
    "# Stability of selected terminals\n",
    "mat_terminals = sensitivity.create_matrix_terminal_overlap_between_networks(networks_summary_df, networks_dict)\n",
    "plt.figure()\n",
    "plt.matshow(mat_terminals)\n",
    "plt.xlabel('networks')\n",
    "plt.ylabel('networks')\n",
    "plt.title('Terminals stability')\n",
    "plt.colorbar()\n",
    "plt.show()"
   ]
  },
  {
   "cell_type": "code",
   "execution_count": 21,
   "metadata": {},
   "outputs": [
    {
     "data": {
      "text/plain": [
       "<Figure size 432x288 with 0 Axes>"
      ]
     },
     "metadata": {},
     "output_type": "display_data"
    },
    {
     "data": {
      "image/png": "[encoded data removed]",
      "text/plain": [
       "<Figure size 288x288 with 2 Axes>"
      ]
     },
     "metadata": {
      "needs_background": "light"
     },
     "output_type": "display_data"
    }
   ],
   "source": [
    "# Stability of selected SARS-Cov-2 partners\n",
    "mat_sars = sensitivity.create_matrix_sars_overlap_between_networks(networks_summary_df, networks_dict)\n",
    "plt.figure()\n",
    "plt.matshow(mat_sars)\n",
    "plt.xlabel('networks')\n",
    "plt.ylabel('networks')\n",
    "plt.title('SARS-Cov-2 partners stability')\n",
    "plt.colorbar()\n",
    "plt.show()"
   ]
  },
  {
   "cell_type": "markdown",
   "metadata": {},
   "source": [
    "## Select robust parameters"
   ]
  },
  {
   "cell_type": "code",
   "execution_count": 17,
   "metadata": {},
   "outputs": [],
   "source": [
    "# Select network corresponding to g=0, w=1.4 and b=40\n",
    "index_selected = 67\n",
    "paramstring_selected = networks_summary_df[networks_summary_df['index']==index_selected].index[0]\n",
    "network_selected = networks_dict[paramstring_selected]"
   ]
  },
  {
   "cell_type": "code",
   "execution_count": 18,
   "metadata": {},
   "outputs": [
    {
     "data": {
      "text/plain": [
       "PosixPath('/home/louiscam/projects/sars_cov_2/Save_drop1/network_selected.pickle')"
      ]
     },
     "execution_count": 18,
     "metadata": {},
     "output_type": "execute_result"
    }
   ],
   "source": [
    "# Save selected network to file\n",
    "oi.output_networkx_graph_as_interactive_html(network_selected, filename=\"../Save_drop1/network_selected.html\")\n",
    "oi.output_networkx_graph_as_pickle(network_selected, filename= '../Save_drop1/network_selected.pickle')\n",
    "#oi.output_networkx_graph_as_graphml_for_cytoscape(robust_network, filename= '../Save_drop1/network_selected.graphml')"
   ]
  },
  {
   "cell_type": "markdown",
   "metadata": {},
   "source": [
    "# Sensitivity analysis for virus partners prize"
   ]
  },
  {
   "cell_type": "markdown",
   "metadata": {},
   "source": [
    "## Run sensitivity analysis"
   ]
  },
  {
   "cell_type": "code",
   "execution_count": 27,
   "metadata": {},
   "outputs": [
    {
     "name": "stdout",
     "output_type": "stream",
     "text": [
      "{'LOX', 'FOXRED2', 'EXOSC5'}\n"
     ]
    }
   ],
   "source": [
    "# Identify which SARS-Cov-2 partners are in the terminal list\n",
    "terminal_partners = set(terminals).intersection(virus_interacting_genes)\n",
    "print(terminal_partners)"
   ]
  },
  {
   "cell_type": "code",
   "execution_count": 28,
   "metadata": {
    "scrolled": true
   },
   "outputs": [
    {
     "name": "stderr",
     "output_type": "stream",
     "text": [
      "11:40:50 - OI2: INFO - Duplicated gene symbols in the prize file (we'll keep the max prize):\n",
      "11:40:50 - OI2: INFO - []\n",
      "11:40:50 - OI2: INFO - Members of the prize file not present in the interactome:\n",
      "11:40:50 - OI2: INFO - ['ATP5MG', 'CEP43', 'COQ8B', 'ELOB', 'ELOC', 'ERO1B', 'HS2ST1', 'HS6ST2', 'MTARC1', 'NARS2', 'NSD2', 'NUP58', 'POGLUT2', 'POGLUT3', 'RETREG3', 'SELENOS', 'SPART', 'TIMM29', 'TLE5', 'TOMM70', 'WASHC4']\n"
     ]
    },
    {
     "name": "stdout",
     "output_type": "stream",
     "text": [
      "Progress= 0.0625\n"
     ]
    },
    {
     "name": "stderr",
     "output_type": "stream",
     "text": [
      "11:40:52 - OI2: INFO - Duplicated gene symbols in the prize file (we'll keep the max prize):\n",
      "11:40:52 - OI2: INFO - []\n",
      "11:40:52 - OI2: INFO - Members of the prize file not present in the interactome:\n",
      "11:40:52 - OI2: INFO - ['ATP5MG', 'CEP43', 'COQ8B', 'ELOB', 'ELOC', 'ERO1B', 'HS2ST1', 'HS6ST2', 'MTARC1', 'NARS2', 'NSD2', 'NUP58', 'POGLUT2', 'POGLUT3', 'RETREG3', 'SELENOS', 'SPART', 'TIMM29', 'TLE5', 'TOMM70', 'WASHC4']\n"
     ]
    },
    {
     "name": "stdout",
     "output_type": "stream",
     "text": [
      "Progress= 0.125\n"
     ]
    },
    {
     "name": "stderr",
     "output_type": "stream",
     "text": [
      "11:40:54 - OI2: INFO - Duplicated gene symbols in the prize file (we'll keep the max prize):\n",
      "11:40:54 - OI2: INFO - []\n",
      "11:40:54 - OI2: INFO - Members of the prize file not present in the interactome:\n",
      "11:40:54 - OI2: INFO - ['ATP5MG', 'CEP43', 'COQ8B', 'ELOB', 'ELOC', 'ERO1B', 'HS2ST1', 'HS6ST2', 'MTARC1', 'NARS2', 'NSD2', 'NUP58', 'POGLUT2', 'POGLUT3', 'RETREG3', 'SELENOS', 'SPART', 'TIMM29', 'TLE5', 'TOMM70', 'WASHC4']\n"
     ]
    },
    {
     "name": "stdout",
     "output_type": "stream",
     "text": [
      "Progress= 0.1875\n"
     ]
    },
    {
     "name": "stderr",
     "output_type": "stream",
     "text": [
      "11:40:56 - OI2: INFO - Duplicated gene symbols in the prize file (we'll keep the max prize):\n",
      "11:40:56 - OI2: INFO - []\n",
      "11:40:56 - OI2: INFO - Members of the prize file not present in the interactome:\n",
      "11:40:56 - OI2: INFO - ['ATP5MG', 'CEP43', 'COQ8B', 'ELOB', 'ELOC', 'ERO1B', 'HS2ST1', 'HS6ST2', 'MTARC1', 'NARS2', 'NSD2', 'NUP58', 'POGLUT2', 'POGLUT3', 'RETREG3', 'SELENOS', 'SPART', 'TIMM29', 'TLE5', 'TOMM70', 'WASHC4']\n"
     ]
    },
    {
     "name": "stdout",
     "output_type": "stream",
     "text": [
      "Progress= 0.25\n"
     ]
    },
    {
     "name": "stderr",
     "output_type": "stream",
     "text": [
      "11:40:58 - OI2: INFO - Duplicated gene symbols in the prize file (we'll keep the max prize):\n",
      "11:40:58 - OI2: INFO - []\n",
      "11:40:58 - OI2: INFO - Members of the prize file not present in the interactome:\n",
      "11:40:58 - OI2: INFO - ['ATP5MG', 'CEP43', 'COQ8B', 'ELOB', 'ELOC', 'ERO1B', 'HS2ST1', 'HS6ST2', 'MTARC1', 'NARS2', 'NSD2', 'NUP58', 'POGLUT2', 'POGLUT3', 'RETREG3', 'SELENOS', 'SPART', 'TIMM29', 'TLE5', 'TOMM70', 'WASHC4']\n"
     ]
    },
    {
     "name": "stdout",
     "output_type": "stream",
     "text": [
      "Progress= 0.3125\n"
     ]
    },
    {
     "name": "stderr",
     "output_type": "stream",
     "text": [
      "11:41:00 - OI2: INFO - Duplicated gene symbols in the prize file (we'll keep the max prize):\n",
      "11:41:00 - OI2: INFO - []\n",
      "11:41:00 - OI2: INFO - Members of the prize file not present in the interactome:\n",
      "11:41:00 - OI2: INFO - ['ATP5MG', 'CEP43', 'COQ8B', 'ELOB', 'ELOC', 'ERO1B', 'HS2ST1', 'HS6ST2', 'MTARC1', 'NARS2', 'NSD2', 'NUP58', 'POGLUT2', 'POGLUT3', 'RETREG3', 'SELENOS', 'SPART', 'TIMM29', 'TLE5', 'TOMM70', 'WASHC4']\n"
     ]
    },
    {
     "name": "stdout",
     "output_type": "stream",
     "text": [
      "Progress= 0.375\n"
     ]
    },
    {
     "name": "stderr",
     "output_type": "stream",
     "text": [
      "11:41:02 - OI2: INFO - Duplicated gene symbols in the prize file (we'll keep the max prize):\n",
      "11:41:02 - OI2: INFO - []\n",
      "11:41:02 - OI2: INFO - Members of the prize file not present in the interactome:\n",
      "11:41:02 - OI2: INFO - ['ATP5MG', 'CEP43', 'COQ8B', 'ELOB', 'ELOC', 'ERO1B', 'HS2ST1', 'HS6ST2', 'MTARC1', 'NARS2', 'NSD2', 'NUP58', 'POGLUT2', 'POGLUT3', 'RETREG3', 'SELENOS', 'SPART', 'TIMM29', 'TLE5', 'TOMM70', 'WASHC4']\n"
     ]
    },
    {
     "name": "stdout",
     "output_type": "stream",
     "text": [
      "Progress= 0.4375\n"
     ]
    },
    {
     "name": "stderr",
     "output_type": "stream",
     "text": [
      "11:41:04 - OI2: INFO - Duplicated gene symbols in the prize file (we'll keep the max prize):\n",
      "11:41:04 - OI2: INFO - []\n",
      "11:41:04 - OI2: INFO - Members of the prize file not present in the interactome:\n",
      "11:41:04 - OI2: INFO - ['ATP5MG', 'CEP43', 'COQ8B', 'ELOB', 'ELOC', 'ERO1B', 'HS2ST1', 'HS6ST2', 'MTARC1', 'NARS2', 'NSD2', 'NUP58', 'POGLUT2', 'POGLUT3', 'RETREG3', 'SELENOS', 'SPART', 'TIMM29', 'TLE5', 'TOMM70', 'WASHC4']\n"
     ]
    },
    {
     "name": "stdout",
     "output_type": "stream",
     "text": [
      "Progress= 0.5\n"
     ]
    },
    {
     "name": "stderr",
     "output_type": "stream",
     "text": [
      "11:41:06 - OI2: INFO - Duplicated gene symbols in the prize file (we'll keep the max prize):\n",
      "11:41:06 - OI2: INFO - []\n",
      "11:41:06 - OI2: INFO - Members of the prize file not present in the interactome:\n",
      "11:41:06 - OI2: INFO - ['ATP5MG', 'CEP43', 'COQ8B', 'ELOB', 'ELOC', 'ERO1B', 'HS2ST1', 'HS6ST2', 'MTARC1', 'NARS2', 'NSD2', 'NUP58', 'POGLUT2', 'POGLUT3', 'RETREG3', 'SELENOS', 'SPART', 'TIMM29', 'TLE5', 'TOMM70', 'WASHC4']\n"
     ]
    },
    {
     "name": "stdout",
     "output_type": "stream",
     "text": [
      "Progress= 0.5625\n"
     ]
    },
    {
     "name": "stderr",
     "output_type": "stream",
     "text": [
      "11:41:09 - OI2: INFO - Duplicated gene symbols in the prize file (we'll keep the max prize):\n",
      "11:41:09 - OI2: INFO - []\n",
      "11:41:09 - OI2: INFO - Members of the prize file not present in the interactome:\n",
      "11:41:09 - OI2: INFO - ['ATP5MG', 'CEP43', 'COQ8B', 'ELOB', 'ELOC', 'ERO1B', 'HS2ST1', 'HS6ST2', 'MTARC1', 'NARS2', 'NSD2', 'NUP58', 'POGLUT2', 'POGLUT3', 'RETREG3', 'SELENOS', 'SPART', 'TIMM29', 'TLE5', 'TOMM70', 'WASHC4']\n"
     ]
    },
    {
     "name": "stdout",
     "output_type": "stream",
     "text": [
      "Progress= 0.625\n"
     ]
    },
    {
     "name": "stderr",
     "output_type": "stream",
     "text": [
      "11:41:10 - OI2: INFO - Duplicated gene symbols in the prize file (we'll keep the max prize):\n",
      "11:41:10 - OI2: INFO - []\n",
      "11:41:11 - OI2: INFO - Members of the prize file not present in the interactome:\n",
      "11:41:11 - OI2: INFO - ['ATP5MG', 'CEP43', 'COQ8B', 'ELOB', 'ELOC', 'ERO1B', 'HS2ST1', 'HS6ST2', 'MTARC1', 'NARS2', 'NSD2', 'NUP58', 'POGLUT2', 'POGLUT3', 'RETREG3', 'SELENOS', 'SPART', 'TIMM29', 'TLE5', 'TOMM70', 'WASHC4']\n"
     ]
    },
    {
     "name": "stdout",
     "output_type": "stream",
     "text": [
      "Progress= 0.6875\n"
     ]
    },
    {
     "name": "stderr",
     "output_type": "stream",
     "text": [
      "11:41:12 - OI2: INFO - Duplicated gene symbols in the prize file (we'll keep the max prize):\n",
      "11:41:12 - OI2: INFO - []\n",
      "11:41:12 - OI2: INFO - Members of the prize file not present in the interactome:\n",
      "11:41:12 - OI2: INFO - ['ATP5MG', 'CEP43', 'COQ8B', 'ELOB', 'ELOC', 'ERO1B', 'HS2ST1', 'HS6ST2', 'MTARC1', 'NARS2', 'NSD2', 'NUP58', 'POGLUT2', 'POGLUT3', 'RETREG3', 'SELENOS', 'SPART', 'TIMM29', 'TLE5', 'TOMM70', 'WASHC4']\n"
     ]
    },
    {
     "name": "stdout",
     "output_type": "stream",
     "text": [
      "Progress= 0.75\n"
     ]
    },
    {
     "name": "stderr",
     "output_type": "stream",
     "text": [
      "11:41:14 - OI2: INFO - Duplicated gene symbols in the prize file (we'll keep the max prize):\n",
      "11:41:14 - OI2: INFO - []\n",
      "11:41:14 - OI2: INFO - Members of the prize file not present in the interactome:\n",
      "11:41:14 - OI2: INFO - ['ATP5MG', 'CEP43', 'COQ8B', 'ELOB', 'ELOC', 'ERO1B', 'HS2ST1', 'HS6ST2', 'MTARC1', 'NARS2', 'NSD2', 'NUP58', 'POGLUT2', 'POGLUT3', 'RETREG3', 'SELENOS', 'SPART', 'TIMM29', 'TLE5', 'TOMM70', 'WASHC4']\n"
     ]
    },
    {
     "name": "stdout",
     "output_type": "stream",
     "text": [
      "Progress= 0.8125\n"
     ]
    },
    {
     "name": "stderr",
     "output_type": "stream",
     "text": [
      "11:41:16 - OI2: INFO - Duplicated gene symbols in the prize file (we'll keep the max prize):\n",
      "11:41:16 - OI2: INFO - []\n",
      "11:41:16 - OI2: INFO - Members of the prize file not present in the interactome:\n",
      "11:41:16 - OI2: INFO - ['ATP5MG', 'CEP43', 'COQ8B', 'ELOB', 'ELOC', 'ERO1B', 'HS2ST1', 'HS6ST2', 'MTARC1', 'NARS2', 'NSD2', 'NUP58', 'POGLUT2', 'POGLUT3', 'RETREG3', 'SELENOS', 'SPART', 'TIMM29', 'TLE5', 'TOMM70', 'WASHC4']\n"
     ]
    },
    {
     "name": "stdout",
     "output_type": "stream",
     "text": [
      "Progress= 0.875\n"
     ]
    },
    {
     "name": "stderr",
     "output_type": "stream",
     "text": [
      "11:41:19 - OI2: INFO - Duplicated gene symbols in the prize file (we'll keep the max prize):\n",
      "11:41:19 - OI2: INFO - []\n",
      "11:41:19 - OI2: INFO - Members of the prize file not present in the interactome:\n",
      "11:41:19 - OI2: INFO - ['ATP5MG', 'CEP43', 'COQ8B', 'ELOB', 'ELOC', 'ERO1B', 'HS2ST1', 'HS6ST2', 'MTARC1', 'NARS2', 'NSD2', 'NUP58', 'POGLUT2', 'POGLUT3', 'RETREG3', 'SELENOS', 'SPART', 'TIMM29', 'TLE5', 'TOMM70', 'WASHC4']\n"
     ]
    },
    {
     "name": "stdout",
     "output_type": "stream",
     "text": [
      "Progress= 0.9375\n"
     ]
    },
    {
     "name": "stderr",
     "output_type": "stream",
     "text": [
      "11:41:21 - OI2: INFO - Duplicated gene symbols in the prize file (we'll keep the max prize):\n",
      "11:41:21 - OI2: INFO - []\n",
      "11:41:21 - OI2: INFO - Members of the prize file not present in the interactome:\n",
      "11:41:21 - OI2: INFO - ['ATP5MG', 'CEP43', 'COQ8B', 'ELOB', 'ELOC', 'ERO1B', 'HS2ST1', 'HS6ST2', 'MTARC1', 'NARS2', 'NSD2', 'NUP58', 'POGLUT2', 'POGLUT3', 'RETREG3', 'SELENOS', 'SPART', 'TIMM29', 'TLE5', 'TOMM70', 'WASHC4']\n"
     ]
    },
    {
     "name": "stdout",
     "output_type": "stream",
     "text": [
      "Progress= 1.0\n"
     ]
    }
   ],
   "source": [
    "# Run sensitivity analysis\n",
    "interactome_file_name = \"../Data/iRefIndex_v14_MIScore_interactome_C9.costs.allcaps.txt\"\n",
    "prize_file_name = \"../Save_drop1/terminals_ppi_analysis.tsv\"\n",
    "# Graph hyperparameters\n",
    "graph_params =  {\n",
    "                \"noise\": 0.0, \n",
    "                \"dummy_mode\": \"terminals\", \n",
    "                \"exclude_terminals\": False, \n",
    "                \"seed\": 1,\n",
    "                \"pruning\": 'strong',\n",
    "                \"verbosity_level\": 0,\n",
    "                \"w\": 1.4,\n",
    "                \"b\": 40,\n",
    "                \"g\": 0\n",
    "                }\n",
    "# List of values of P\n",
    "P_list = np.arange(0,0.0016,0.0001)\n",
    "\n",
    "networks_dict = svp.run_prize_sensitivity_analysis(interactome_file_name, \n",
    "                                                   prize_file_name, \n",
    "                                                   graph_params, \n",
    "                                                   virus_interacting_genes, \n",
    "                                                   terminal_partners, \n",
    "                                                   P_list)"
   ]
  },
  {
   "cell_type": "code",
   "execution_count": 29,
   "metadata": {},
   "outputs": [],
   "source": [
    "# Save as pickle\n",
    "with open(\"../Save_drop1/networks_dict_sarspartners.pkl\", \"wb\") as f: \n",
    "    pickle.dump(networks_dict, f)"
   ]
  },
  {
   "cell_type": "code",
   "execution_count": 30,
   "metadata": {},
   "outputs": [],
   "source": [
    "# Add metadata\n",
    "networks_dict = pickle.load(open(\"../Save_drop1/networks_dict_sarspartners.pkl\", \"rb\"))\n",
    "networks_dict = svp.add_metadata(networks_dict, virus_interacting_genes)"
   ]
  },
  {
   "cell_type": "code",
   "execution_count": 31,
   "metadata": {},
   "outputs": [
    {
     "data": {
      "text/html": [
       "<div>\n",
       "<style scoped>\n",
       "    .dataframe tbody tr th:only-of-type {\n",
       "        vertical-align: middle;\n",
       "    }\n",
       "\n",
       "    .dataframe tbody tr th {\n",
       "        vertical-align: top;\n",
       "    }\n",
       "\n",
       "    .dataframe thead th {\n",
       "        text-align: right;\n",
       "    }\n",
       "</style>\n",
       "<table border=\"1\" class=\"dataframe\">\n",
       "  <thead>\n",
       "    <tr style=\"text-align: right;\">\n",
       "      <th></th>\n",
       "      <th>index</th>\n",
       "      <th>p</th>\n",
       "      <th>nodes</th>\n",
       "      <th>edges</th>\n",
       "      <th>number_components</th>\n",
       "      <th>size_components</th>\n",
       "      <th>percentage_terminals</th>\n",
       "      <th>transcription_regulators</th>\n",
       "      <th>number_of_proteins_interacting_sars</th>\n",
       "      <th>proteins_interacting_sars</th>\n",
       "    </tr>\n",
       "  </thead>\n",
       "  <tbody>\n",
       "    <tr>\n",
       "      <th>p_0.0</th>\n",
       "      <td>0</td>\n",
       "      <td>0.0</td>\n",
       "      <td>252</td>\n",
       "      <td>1003</td>\n",
       "      <td>1</td>\n",
       "      <td>[252]</td>\n",
       "      <td>1.0</td>\n",
       "      <td>[CREB5, ETV6, GRHL3, HOXB3, IRF2, REL, TSC22D2]</td>\n",
       "      <td>5</td>\n",
       "      <td>[EXOSC5, FOXRED2, LOX, RBX1, RIPK1]</td>\n",
       "    </tr>\n",
       "    <tr>\n",
       "      <th>p_0.0001</th>\n",
       "      <td>1</td>\n",
       "      <td>0.0001</td>\n",
       "      <td>252</td>\n",
       "      <td>1003</td>\n",
       "      <td>1</td>\n",
       "      <td>[252]</td>\n",
       "      <td>1.0</td>\n",
       "      <td>[CREB5, ETV6, GRHL3, HOXB3, IRF2, REL, TSC22D2]</td>\n",
       "      <td>5</td>\n",
       "      <td>[EXOSC5, FOXRED2, LOX, RBX1, RIPK1]</td>\n",
       "    </tr>\n",
       "    <tr>\n",
       "      <th>p_0.0002</th>\n",
       "      <td>2</td>\n",
       "      <td>0.0002</td>\n",
       "      <td>251</td>\n",
       "      <td>998</td>\n",
       "      <td>1</td>\n",
       "      <td>[251]</td>\n",
       "      <td>1.0</td>\n",
       "      <td>[CREB5, ETV6, GRHL3, HOXB3, IRF2, REL, TSC22D2]</td>\n",
       "      <td>5</td>\n",
       "      <td>[EXOSC5, FOXRED2, LOX, RBX1, RIPK1]</td>\n",
       "    </tr>\n",
       "    <tr>\n",
       "      <th>p_0.00030000000000000003</th>\n",
       "      <td>3</td>\n",
       "      <td>0.00030000000000000003</td>\n",
       "      <td>252</td>\n",
       "      <td>1011</td>\n",
       "      <td>1</td>\n",
       "      <td>[252]</td>\n",
       "      <td>1.0</td>\n",
       "      <td>[CREB5, ETV6, GRHL3, HOXB3, IRF2, REL, TSC22D2]</td>\n",
       "      <td>6</td>\n",
       "      <td>[CUL2, EXOSC5, FOXRED2, LOX, RBX1, RIPK1]</td>\n",
       "    </tr>\n",
       "    <tr>\n",
       "      <th>p_0.0004</th>\n",
       "      <td>4</td>\n",
       "      <td>0.0004</td>\n",
       "      <td>255</td>\n",
       "      <td>1081</td>\n",
       "      <td>1</td>\n",
       "      <td>[255]</td>\n",
       "      <td>1.0</td>\n",
       "      <td>[CREB5, ETV6, GRHL3, HOXB3, IRF2, REL, TSC22D2]</td>\n",
       "      <td>7</td>\n",
       "      <td>[CUL2, EXOSC5, FOXRED2, HDAC2, LOX, RBX1, RIPK1]</td>\n",
       "    </tr>\n",
       "  </tbody>\n",
       "</table>\n",
       "</div>"
      ],
      "text/plain": [
       "                          index                       p  nodes  edges  \\\n",
       "p_0.0                         0                     0.0    252   1003   \n",
       "p_0.0001                      1                  0.0001    252   1003   \n",
       "p_0.0002                      2                  0.0002    251    998   \n",
       "p_0.00030000000000000003      3  0.00030000000000000003    252   1011   \n",
       "p_0.0004                      4                  0.0004    255   1081   \n",
       "\n",
       "                          number_components size_components  \\\n",
       "p_0.0                                     1           [252]   \n",
       "p_0.0001                                  1           [252]   \n",
       "p_0.0002                                  1           [251]   \n",
       "p_0.00030000000000000003                  1           [252]   \n",
       "p_0.0004                                  1           [255]   \n",
       "\n",
       "                          percentage_terminals  \\\n",
       "p_0.0                                      1.0   \n",
       "p_0.0001                                   1.0   \n",
       "p_0.0002                                   1.0   \n",
       "p_0.00030000000000000003                   1.0   \n",
       "p_0.0004                                   1.0   \n",
       "\n",
       "                                                 transcription_regulators  \\\n",
       "p_0.0                     [CREB5, ETV6, GRHL3, HOXB3, IRF2, REL, TSC22D2]   \n",
       "p_0.0001                  [CREB5, ETV6, GRHL3, HOXB3, IRF2, REL, TSC22D2]   \n",
       "p_0.0002                  [CREB5, ETV6, GRHL3, HOXB3, IRF2, REL, TSC22D2]   \n",
       "p_0.00030000000000000003  [CREB5, ETV6, GRHL3, HOXB3, IRF2, REL, TSC22D2]   \n",
       "p_0.0004                  [CREB5, ETV6, GRHL3, HOXB3, IRF2, REL, TSC22D2]   \n",
       "\n",
       "                          number_of_proteins_interacting_sars  \\\n",
       "p_0.0                                                       5   \n",
       "p_0.0001                                                    5   \n",
       "p_0.0002                                                    5   \n",
       "p_0.00030000000000000003                                    6   \n",
       "p_0.0004                                                    7   \n",
       "\n",
       "                                                 proteins_interacting_sars  \n",
       "p_0.0                                  [EXOSC5, FOXRED2, LOX, RBX1, RIPK1]  \n",
       "p_0.0001                               [EXOSC5, FOXRED2, LOX, RBX1, RIPK1]  \n",
       "p_0.0002                               [EXOSC5, FOXRED2, LOX, RBX1, RIPK1]  \n",
       "p_0.00030000000000000003         [CUL2, EXOSC5, FOXRED2, LOX, RBX1, RIPK1]  \n",
       "p_0.0004                  [CUL2, EXOSC5, FOXRED2, HDAC2, LOX, RBX1, RIPK1]  "
      ]
     },
     "execution_count": 31,
     "metadata": {},
     "output_type": "execute_result"
    }
   ],
   "source": [
    "# Make summary\n",
    "networks_summary_df = svp.make_summary(networks_dict, n_terminals)\n",
    "networks_summary_df.head()"
   ]
  },
  {
   "cell_type": "markdown",
   "metadata": {},
   "source": [
    "## Plot number of SARS-Cov-2 partners picked up versus p"
   ]
  },
  {
   "cell_type": "code",
   "execution_count": 32,
   "metadata": {},
   "outputs": [
    {
     "data": {
      "image/png": "[encoded data removed]",
      "text/plain": [
       "<Figure size 432x288 with 1 Axes>"
      ]
     },
     "metadata": {
      "needs_background": "light"
     },
     "output_type": "display_data"
    }
   ],
   "source": [
    "plt.figure()\n",
    "plt.scatter(x = networks_summary_df['p'], \n",
    "            y = networks_summary_df['number_of_proteins_interacting_sars'],\n",
    "            s = 0.1*networks_summary_df['nodes'])\n",
    "plt.xlabel('p (1e-4)')\n",
    "plt.ylabel('Number of SARS-Cov-2 partners in solution')\n",
    "plt.xticks(np.arange(0,17,4),['0','4','8','12','16'])\n",
    "plt.yticks(np.arange(0,25,5))\n",
    "plt.show()"
   ]
  },
  {
   "cell_type": "markdown",
   "metadata": {},
   "source": [
    "## Plot node stability heatmaps"
   ]
  },
  {
   "cell_type": "code",
   "execution_count": 36,
   "metadata": {},
   "outputs": [
    {
     "data": {
      "text/plain": [
       "<Figure size 432x288 with 0 Axes>"
      ]
     },
     "metadata": {},
     "output_type": "display_data"
    },
    {
     "data": {
      "image/png": "[encoded data removed]",
      "text/plain": [
       "<Figure size 288x288 with 2 Axes>"
      ]
     },
     "metadata": {
      "needs_background": "light"
     },
     "output_type": "display_data"
    }
   ],
   "source": [
    "# Stability of selected nodes\n",
    "mat_allnodes = svp.create_matrix_gene_overlap_between_networks(networks_summary_df, networks_dict)\n",
    "plt.figure()\n",
    "plt.matshow(mat_allnodes)\n",
    "plt.xlabel('networks')\n",
    "plt.ylabel('networks')\n",
    "plt.title('Nodes stability')\n",
    "plt.colorbar()\n",
    "plt.show()"
   ]
  },
  {
   "cell_type": "code",
   "execution_count": 66,
   "metadata": {},
   "outputs": [
    {
     "data": {
      "text/plain": [
       "<Figure size 432x288 with 0 Axes>"
      ]
     },
     "metadata": {},
     "output_type": "display_data"
    },
    {
     "data": {
      "image/png": "[encoded data removed]",
      "text/plain": [
       "<Figure size 288x288 with 2 Axes>"
      ]
     },
     "metadata": {
      "needs_background": "light"
     },
     "output_type": "display_data"
    }
   ],
   "source": [
    "# Stability of selected terminals\n",
    "mat_terminals = svp.create_matrix_terminal_overlap_between_networks(networks_summary_df, networks_dict)\n",
    "plt.figure()\n",
    "plt.matshow(mat_terminals)\n",
    "plt.xlabel('networks')\n",
    "plt.ylabel('networks')\n",
    "plt.title('Terminals stability')\n",
    "plt.colorbar()\n",
    "plt.show()"
   ]
  },
  {
   "cell_type": "code",
   "execution_count": 67,
   "metadata": {},
   "outputs": [
    {
     "data": {
      "text/plain": [
       "<Figure size 432x288 with 0 Axes>"
      ]
     },
     "metadata": {},
     "output_type": "display_data"
    },
    {
     "data": {
      "image/png": "[encoded data removed]",
      "text/plain": [
       "<Figure size 288x288 with 2 Axes>"
      ]
     },
     "metadata": {
      "needs_background": "light"
     },
     "output_type": "display_data"
    }
   ],
   "source": [
    "# Stability of selected SARS-Cov-2 partners\n",
    "mat_sars = svp.create_matrix_sars_overlap_between_networks(networks_summary_df, networks_dict)\n",
    "plt.figure()\n",
    "plt.matshow(mat_sars)\n",
    "plt.xlabel('networks')\n",
    "plt.ylabel('networks')\n",
    "plt.title('SARS-Cov-2 partners stability')\n",
    "plt.colorbar()\n",
    "plt.show()"
   ]
  },
  {
   "cell_type": "markdown",
   "metadata": {},
   "source": [
    "## Select robust parameters"
   ]
  },
  {
   "cell_type": "code",
   "execution_count": 33,
   "metadata": {},
   "outputs": [],
   "source": [
    "# Save network\n",
    "index_selected = 8\n",
    "paramstring_selected = networks_summary_df[networks_summary_df['index']==index_selected].index[0]\n",
    "network_selected2 = networks_dict[paramstring_selected]"
   ]
  },
  {
   "cell_type": "code",
   "execution_count": 34,
   "metadata": {},
   "outputs": [
    {
     "data": {
      "text/plain": [
       "PosixPath('/home/louiscam/projects/sars_cov_2/Save_drop1/network_selected_sarspartners.pickle')"
      ]
     },
     "execution_count": 34,
     "metadata": {},
     "output_type": "execute_result"
    }
   ],
   "source": [
    "# Save selected network to file\n",
    "oi.output_networkx_graph_as_interactive_html(network_selected2, filename=\"../Save_drop1/network_selected_sarspartners.html\")\n",
    "oi.output_networkx_graph_as_pickle(network_selected2, filename= '../Save_drop1/network_selected_sarspartners.pickle')\n",
    "#oi.output_networkx_graph_as_graphml_for_cytoscape(network_selected, filename= r'../Save_drop1/network_selected_sarspartners.graphml')"
   ]
  },
  {
   "cell_type": "markdown",
   "metadata": {},
   "source": [
    "# Add drug targets to selected network"
   ]
  },
  {
   "cell_type": "markdown",
   "metadata": {},
   "source": [
    "## Construct drug/target data"
   ]
  },
  {
   "cell_type": "code",
   "execution_count": 19,
   "metadata": {},
   "outputs": [],
   "source": [
    "# Compute degree centrality for all nodes in the interactome\n",
    "graph = oi.Graph(interactome_file_name)\n",
    "centrality_dic = nx.degree_centrality(graph.interactome_graph)"
   ]
  },
  {
   "cell_type": "code",
   "execution_count": 20,
   "metadata": {},
   "outputs": [
    {
     "data": {
      "text/html": [
       "<div>\n",
       "<style scoped>\n",
       "    .dataframe tbody tr th:only-of-type {\n",
       "        vertical-align: middle;\n",
       "    }\n",
       "\n",
       "    .dataframe tbody tr th {\n",
       "        vertical-align: top;\n",
       "    }\n",
       "\n",
       "    .dataframe thead th {\n",
       "        text-align: right;\n",
       "    }\n",
       "</style>\n",
       "<table border=\"1\" class=\"dataframe\">\n",
       "  <thead>\n",
       "    <tr style=\"text-align: right;\">\n",
       "      <th></th>\n",
       "      <th>gene</th>\n",
       "      <th>drug</th>\n",
       "      <th>protein_target</th>\n",
       "      <th>affinity_constant</th>\n",
       "      <th>affinity_constant_type</th>\n",
       "      <th>degree_centrality</th>\n",
       "    </tr>\n",
       "  </thead>\n",
       "  <tbody>\n",
       "    <tr>\n",
       "      <th>0</th>\n",
       "      <td>SCN4A</td>\n",
       "      <td>levobupivacaine</td>\n",
       "      <td>Sodium channel protein type 4 subunit alpha</td>\n",
       "      <td>NaN</td>\n",
       "      <td>NaN</td>\n",
       "      <td>0.000635</td>\n",
       "    </tr>\n",
       "    <tr>\n",
       "      <th>1</th>\n",
       "      <td>CYP2D6</td>\n",
       "      <td>levobupivacaine</td>\n",
       "      <td>Cytochrome P450 2D6</td>\n",
       "      <td>6.706859</td>\n",
       "      <td>IC50</td>\n",
       "      <td>NaN</td>\n",
       "    </tr>\n",
       "    <tr>\n",
       "      <th>4</th>\n",
       "      <td>PTGER1</td>\n",
       "      <td>levobupivacaine</td>\n",
       "      <td>Prostaglandin E2 receptor EP1 subtype</td>\n",
       "      <td>NaN</td>\n",
       "      <td>NaN</td>\n",
       "      <td>0.000317</td>\n",
       "    </tr>\n",
       "    <tr>\n",
       "      <th>5</th>\n",
       "      <td>SCN1A</td>\n",
       "      <td>levobupivacaine</td>\n",
       "      <td>Sodium channel protein type 1 subunit alpha</td>\n",
       "      <td>5.790000</td>\n",
       "      <td>IC50</td>\n",
       "      <td>0.000254</td>\n",
       "    </tr>\n",
       "    <tr>\n",
       "      <th>6</th>\n",
       "      <td>KCNA5</td>\n",
       "      <td>levobupivacaine</td>\n",
       "      <td>Potassium voltage-gated channel subfamily A me...</td>\n",
       "      <td>NaN</td>\n",
       "      <td>NaN</td>\n",
       "      <td>0.002031</td>\n",
       "    </tr>\n",
       "  </tbody>\n",
       "</table>\n",
       "</div>"
      ],
      "text/plain": [
       "     gene             drug                                     protein_target  \\\n",
       "0   SCN4A  levobupivacaine        Sodium channel protein type 4 subunit alpha   \n",
       "1  CYP2D6  levobupivacaine                                Cytochrome P450 2D6   \n",
       "4  PTGER1  levobupivacaine              Prostaglandin E2 receptor EP1 subtype   \n",
       "5   SCN1A  levobupivacaine        Sodium channel protein type 1 subunit alpha   \n",
       "6   KCNA5  levobupivacaine  Potassium voltage-gated channel subfamily A me...   \n",
       "\n",
       "   affinity_constant affinity_constant_type  degree_centrality  \n",
       "0                NaN                    NaN           0.000635  \n",
       "1           6.706859                   IC50                NaN  \n",
       "4                NaN                    NaN           0.000317  \n",
       "5           5.790000                   IC50           0.000254  \n",
       "6                NaN                    NaN           0.002031  "
      ]
     },
     "execution_count": 20,
     "metadata": {},
     "output_type": "execute_result"
    }
   ],
   "source": [
    "# Load drug/target data from DrugCentral\n",
    "drug_target_file_name = '../Data/drug.target.interaction.tsv'\n",
    "drugcentral_df = drugs2.load_drug_target_data(drug_target_file_name, aff_cst_thresh=5)\n",
    "drugcentral_df['degree_centrality'] = [centrality_dic[gene] if (gene in list(centrality_dic.keys())) else None for gene in drugcentral_df['gene']]\n",
    "drugcentral_df.head()"
   ]
  },
  {
   "cell_type": "code",
   "execution_count": 21,
   "metadata": {},
   "outputs": [
    {
     "data": {
      "text/html": [
       "<div>\n",
       "<style scoped>\n",
       "    .dataframe tbody tr th:only-of-type {\n",
       "        vertical-align: middle;\n",
       "    }\n",
       "\n",
       "    .dataframe tbody tr th {\n",
       "        vertical-align: top;\n",
       "    }\n",
       "\n",
       "    .dataframe thead th {\n",
       "        text-align: right;\n",
       "    }\n",
       "</style>\n",
       "<table border=\"1\" class=\"dataframe\">\n",
       "  <thead>\n",
       "    <tr style=\"text-align: right;\">\n",
       "      <th></th>\n",
       "      <th>drug</th>\n",
       "      <th>num_targets</th>\n",
       "      <th>num_terminal_targets</th>\n",
       "      <th>max_target_centrality</th>\n",
       "    </tr>\n",
       "  </thead>\n",
       "  <tbody>\n",
       "    <tr>\n",
       "      <th>1830</th>\n",
       "      <td>sunitinib</td>\n",
       "      <td>260</td>\n",
       "      <td>4</td>\n",
       "      <td>0.055718</td>\n",
       "    </tr>\n",
       "    <tr>\n",
       "      <th>1369</th>\n",
       "      <td>nintedanib</td>\n",
       "      <td>218</td>\n",
       "      <td>3</td>\n",
       "      <td>0.037187</td>\n",
       "    </tr>\n",
       "    <tr>\n",
       "      <th>1269</th>\n",
       "      <td>midostaurin</td>\n",
       "      <td>204</td>\n",
       "      <td>3</td>\n",
       "      <td>0.055718</td>\n",
       "    </tr>\n",
       "    <tr>\n",
       "      <th>259</th>\n",
       "      <td>bosutinib</td>\n",
       "      <td>203</td>\n",
       "      <td>1</td>\n",
       "      <td>0.055718</td>\n",
       "    </tr>\n",
       "    <tr>\n",
       "      <th>474</th>\n",
       "      <td>crizotinib</td>\n",
       "      <td>148</td>\n",
       "      <td>3</td>\n",
       "      <td>0.055718</td>\n",
       "    </tr>\n",
       "    <tr>\n",
       "      <th>1735</th>\n",
       "      <td>ruxolitinib</td>\n",
       "      <td>132</td>\n",
       "      <td>1</td>\n",
       "      <td>0.027224</td>\n",
       "    </tr>\n",
       "    <tr>\n",
       "      <th>508</th>\n",
       "      <td>dasatinib</td>\n",
       "      <td>129</td>\n",
       "      <td>2</td>\n",
       "      <td>0.055718</td>\n",
       "    </tr>\n",
       "    <tr>\n",
       "      <th>1730</th>\n",
       "      <td>ruboxistaurin</td>\n",
       "      <td>121</td>\n",
       "      <td>1</td>\n",
       "      <td>0.055718</td>\n",
       "    </tr>\n",
       "    <tr>\n",
       "      <th>1795</th>\n",
       "      <td>sorafenib</td>\n",
       "      <td>116</td>\n",
       "      <td>4</td>\n",
       "      <td>0.037187</td>\n",
       "    </tr>\n",
       "    <tr>\n",
       "      <th>2031</th>\n",
       "      <td>vandetanib</td>\n",
       "      <td>109</td>\n",
       "      <td>3</td>\n",
       "      <td>0.055718</td>\n",
       "    </tr>\n",
       "  </tbody>\n",
       "</table>\n",
       "</div>"
      ],
      "text/plain": [
       "               drug  num_targets  num_terminal_targets  max_target_centrality\n",
       "1830      sunitinib          260                     4               0.055718\n",
       "1369     nintedanib          218                     3               0.037187\n",
       "1269    midostaurin          204                     3               0.055718\n",
       "259       bosutinib          203                     1               0.055718\n",
       "474      crizotinib          148                     3               0.055718\n",
       "1735    ruxolitinib          132                     1               0.027224\n",
       "508       dasatinib          129                     2               0.055718\n",
       "1730  ruboxistaurin          121                     1               0.055718\n",
       "1795      sorafenib          116                     4               0.037187\n",
       "2031     vandetanib          109                     3               0.055718"
      ]
     },
     "execution_count": 21,
     "metadata": {},
     "output_type": "execute_result"
    }
   ],
   "source": [
    "# Construct table that gives the number of targets per drug\n",
    "num_targets_df0 = drugcentral_df.groupby('drug', as_index=False)[['gene']].agg({\n",
    "    ('num_targets','count'),\n",
    "    ('num_terminal_targets',lambda gs: len(set(gs).intersection(set(terminals))))\n",
    "})\n",
    "max_centrality_df0 = drugcentral_df.groupby('drug', as_index=False)[['degree_centrality']].agg({\n",
    "    ('max_degree_centrality',max)\n",
    "})\n",
    "num_targets_df = pd.DataFrame({'drug': num_targets_df0.index,\n",
    "                               'num_targets': num_targets_df0['gene']['num_targets'],\n",
    "                               'num_terminal_targets': num_targets_df0['gene']['num_terminal_targets'],\n",
    "                               'max_target_centrality': max_centrality_df0['degree_centrality']['max_degree_centrality']}).reset_index(drop=True)\n",
    "num_targets_df = num_targets_df.sort_values(by='num_targets', ascending=False, inplace=False)\n",
    "num_targets_df.head(10)"
   ]
  },
  {
   "cell_type": "code",
   "execution_count": 36,
   "metadata": {},
   "outputs": [
    {
     "data": {
      "text/html": [
       "<div>\n",
       "<style scoped>\n",
       "    .dataframe tbody tr th:only-of-type {\n",
       "        vertical-align: middle;\n",
       "    }\n",
       "\n",
       "    .dataframe tbody tr th {\n",
       "        vertical-align: top;\n",
       "    }\n",
       "\n",
       "    .dataframe thead th {\n",
       "        text-align: right;\n",
       "    }\n",
       "</style>\n",
       "<table border=\"1\" class=\"dataframe\">\n",
       "  <thead>\n",
       "    <tr style=\"text-align: right;\">\n",
       "      <th></th>\n",
       "      <th>drug</th>\n",
       "      <th>corr</th>\n",
       "    </tr>\n",
       "  </thead>\n",
       "  <tbody>\n",
       "    <tr>\n",
       "      <th>0</th>\n",
       "      <td>chloroquine</td>\n",
       "      <td>0.904594</td>\n",
       "    </tr>\n",
       "    <tr>\n",
       "      <th>1</th>\n",
       "      <td>menadione</td>\n",
       "      <td>0.900756</td>\n",
       "    </tr>\n",
       "    <tr>\n",
       "      <th>2</th>\n",
       "      <td>auranofin</td>\n",
       "      <td>0.897388</td>\n",
       "    </tr>\n",
       "    <tr>\n",
       "      <th>3</th>\n",
       "      <td>gemcitabine</td>\n",
       "      <td>0.878846</td>\n",
       "    </tr>\n",
       "    <tr>\n",
       "      <th>4</th>\n",
       "      <td>norepinephrine</td>\n",
       "      <td>0.873694</td>\n",
       "    </tr>\n",
       "  </tbody>\n",
       "</table>\n",
       "</div>"
      ],
      "text/plain": [
       "             drug      corr\n",
       "0     chloroquine  0.904594\n",
       "1       menadione  0.900756\n",
       "2       auranofin  0.897388\n",
       "3     gemcitabine  0.878846\n",
       "4  norepinephrine  0.873694"
      ]
     },
     "execution_count": 36,
     "metadata": {},
     "output_type": "execute_result"
    }
   ],
   "source": [
    "# Load L1000 drugs with correlations\n",
    "embedded_drugs_file_name = '../Data/series16_cov_a549_dropped_genes_autoencoder_space.txt'\n",
    "bestdrugs_df = pd.read_csv(embedded_drugs_file_name, header=None)\n",
    "bestdrugs_df.columns = ['drug','corr']\n",
    "bestdrugs_df['drug'] = bestdrugs_df['drug'].str.strip(\"()' \").str.lower()\n",
    "bestdrugs_df['corr'] = pd.to_numeric(bestdrugs_df['corr'].str.strip(\"() \"))\n",
    "bestdrugs_df.sort_values(by='corr', axis=0, ascending=False, inplace=True)\n",
    "#bestdrugs_df = bestdrugs_df.iloc[0:142] # so that we have the same number (142) of selected drugs as in the A549-SARS-Cov-2 analysis\n",
    "bestdrugs_df.head()"
   ]
  },
  {
   "cell_type": "code",
   "execution_count": 37,
   "metadata": {},
   "outputs": [
    {
     "data": {
      "text/html": [
       "<div>\n",
       "<style scoped>\n",
       "    .dataframe tbody tr th:only-of-type {\n",
       "        vertical-align: middle;\n",
       "    }\n",
       "\n",
       "    .dataframe tbody tr th {\n",
       "        vertical-align: top;\n",
       "    }\n",
       "\n",
       "    .dataframe thead th {\n",
       "        text-align: right;\n",
       "    }\n",
       "</style>\n",
       "<table border=\"1\" class=\"dataframe\">\n",
       "  <thead>\n",
       "    <tr style=\"text-align: right;\">\n",
       "      <th></th>\n",
       "      <th>drug</th>\n",
       "      <th>corr</th>\n",
       "    </tr>\n",
       "  </thead>\n",
       "  <tbody>\n",
       "    <tr>\n",
       "      <th>365</th>\n",
       "      <td>axitinib</td>\n",
       "      <td>-0.708989</td>\n",
       "    </tr>\n",
       "  </tbody>\n",
       "</table>\n",
       "</div>"
      ],
      "text/plain": [
       "         drug      corr\n",
       "365  axitinib -0.708989"
      ]
     },
     "execution_count": 37,
     "metadata": {},
     "output_type": "execute_result"
    }
   ],
   "source": [
    "bestdrugs_df.loc[bestdrugs_df['drug']=='axitinib']"
   ]
  },
  {
   "cell_type": "code",
   "execution_count": 23,
   "metadata": {},
   "outputs": [
    {
     "data": {
      "text/html": [
       "<div>\n",
       "<style scoped>\n",
       "    .dataframe tbody tr th:only-of-type {\n",
       "        vertical-align: middle;\n",
       "    }\n",
       "\n",
       "    .dataframe tbody tr th {\n",
       "        vertical-align: top;\n",
       "    }\n",
       "\n",
       "    .dataframe thead th {\n",
       "        text-align: right;\n",
       "    }\n",
       "</style>\n",
       "<table border=\"1\" class=\"dataframe\">\n",
       "  <thead>\n",
       "    <tr style=\"text-align: right;\">\n",
       "      <th></th>\n",
       "      <th>gene</th>\n",
       "      <th>drug</th>\n",
       "      <th>protein_target</th>\n",
       "      <th>affinity_constant</th>\n",
       "      <th>affinity_constant_type</th>\n",
       "      <th>degree_centrality</th>\n",
       "      <th>corr</th>\n",
       "    </tr>\n",
       "  </thead>\n",
       "  <tbody>\n",
       "    <tr>\n",
       "      <th>0</th>\n",
       "      <td>DNMT1</td>\n",
       "      <td>azacitidine</td>\n",
       "      <td>DNA (cytosine-5)-methyltransferase 1</td>\n",
       "      <td>NaN</td>\n",
       "      <td>NaN</td>\n",
       "      <td>0.005013</td>\n",
       "      <td>0.733548</td>\n",
       "    </tr>\n",
       "    <tr>\n",
       "      <th>1</th>\n",
       "      <td>DNMT3A</td>\n",
       "      <td>azacitidine</td>\n",
       "      <td>DNA (cytosine-5)-methyltransferase 3A</td>\n",
       "      <td>NaN</td>\n",
       "      <td>NaN</td>\n",
       "      <td>0.003363</td>\n",
       "      <td>0.733548</td>\n",
       "    </tr>\n",
       "    <tr>\n",
       "      <th>2</th>\n",
       "      <td>CYP1A2</td>\n",
       "      <td>methoxsalen</td>\n",
       "      <td>Cytochrome P450 1A2</td>\n",
       "      <td>7.39794</td>\n",
       "      <td>IC50</td>\n",
       "      <td>0.000127</td>\n",
       "      <td>0.298023</td>\n",
       "    </tr>\n",
       "    <tr>\n",
       "      <th>3</th>\n",
       "      <td>ACHE</td>\n",
       "      <td>methoxsalen</td>\n",
       "      <td>Acetylcholinesterase</td>\n",
       "      <td>6.12000</td>\n",
       "      <td>IC50</td>\n",
       "      <td>0.000888</td>\n",
       "      <td>0.298023</td>\n",
       "    </tr>\n",
       "    <tr>\n",
       "      <th>4</th>\n",
       "      <td>SOD2</td>\n",
       "      <td>acetylcysteine</td>\n",
       "      <td>Superoxide dismutase [Mn], mitochondrial</td>\n",
       "      <td>NaN</td>\n",
       "      <td>NaN</td>\n",
       "      <td>0.003046</td>\n",
       "      <td>0.255687</td>\n",
       "    </tr>\n",
       "  </tbody>\n",
       "</table>\n",
       "</div>"
      ],
      "text/plain": [
       "     gene            drug                            protein_target  \\\n",
       "0   DNMT1     azacitidine      DNA (cytosine-5)-methyltransferase 1   \n",
       "1  DNMT3A     azacitidine     DNA (cytosine-5)-methyltransferase 3A   \n",
       "2  CYP1A2     methoxsalen                       Cytochrome P450 1A2   \n",
       "3    ACHE     methoxsalen                      Acetylcholinesterase   \n",
       "4    SOD2  acetylcysteine  Superoxide dismutase [Mn], mitochondrial   \n",
       "\n",
       "   affinity_constant affinity_constant_type  degree_centrality      corr  \n",
       "0                NaN                    NaN           0.005013  0.733548  \n",
       "1                NaN                    NaN           0.003363  0.733548  \n",
       "2            7.39794                   IC50           0.000127  0.298023  \n",
       "3            6.12000                   IC50           0.000888  0.298023  \n",
       "4                NaN                    NaN           0.003046  0.255687  "
      ]
     },
     "execution_count": 23,
     "metadata": {},
     "output_type": "execute_result"
    }
   ],
   "source": [
    "# Merge L1000 drugs with DrugCentral drug/target dataset\n",
    "targets_and_drugs_df = drugcentral_df.merge(bestdrugs_df, on = 'drug', how = 'inner')\n",
    "targets_and_drugs_df.head()"
   ]
  },
  {
   "cell_type": "markdown",
   "metadata": {},
   "source": [
    "## Add drug target information to selected network"
   ]
  },
  {
   "cell_type": "code",
   "execution_count": 24,
   "metadata": {},
   "outputs": [
    {
     "data": {
      "text/plain": [
       "PosixPath('/home/louiscam/projects/sars_cov_2/Save_drop1/network_selected_with_drug_info.pickle')"
      ]
     },
     "execution_count": 24,
     "metadata": {},
     "output_type": "execute_result"
    }
   ],
   "source": [
    "network_selected = pickle.load(open('../Save_drop1/network_selected.pickle', \"rb\"))\n",
    "network_selected = drugs2.add_drug_info_to_selected_network(network_selected, targets_and_drugs_df)\n",
    "# Save enriched network as pickle\n",
    "oi.output_networkx_graph_as_pickle(network_selected, filename= '../Save_drop1/network_selected_with_drug_info.pickle')"
   ]
  },
  {
   "cell_type": "code",
   "execution_count": 25,
   "metadata": {
    "scrolled": true
   },
   "outputs": [
    {
     "data": {
      "text/html": [
       "<div>\n",
       "<style scoped>\n",
       "    .dataframe tbody tr th:only-of-type {\n",
       "        vertical-align: middle;\n",
       "    }\n",
       "\n",
       "    .dataframe tbody tr th {\n",
       "        vertical-align: top;\n",
       "    }\n",
       "\n",
       "    .dataframe thead th {\n",
       "        text-align: right;\n",
       "    }\n",
       "</style>\n",
       "<table border=\"1\" class=\"dataframe\">\n",
       "  <thead>\n",
       "    <tr style=\"text-align: right;\">\n",
       "      <th></th>\n",
       "      <th>name</th>\n",
       "      <th>protein_target</th>\n",
       "      <th>drug</th>\n",
       "      <th>corr</th>\n",
       "      <th>affinity</th>\n",
       "    </tr>\n",
       "  </thead>\n",
       "  <tbody>\n",
       "    <tr>\n",
       "      <th>ACVR2A</th>\n",
       "      <td>ACVR2A</td>\n",
       "      <td>{Activin receptor type-2A}</td>\n",
       "      <td>dasatinib</td>\n",
       "      <td>-0.018264063</td>\n",
       "      <td>6.680000</td>\n",
       "    </tr>\n",
       "    <tr>\n",
       "      <th>AURKC</th>\n",
       "      <td>AURKC</td>\n",
       "      <td>{Aurora kinase C}</td>\n",
       "      <td>erlotinib</td>\n",
       "      <td>0.5696074000000001</td>\n",
       "      <td>6.220000</td>\n",
       "    </tr>\n",
       "    <tr>\n",
       "      <th>AURKC</th>\n",
       "      <td>AURKC</td>\n",
       "      <td>{Aurora kinase C}</td>\n",
       "      <td>pazopanib</td>\n",
       "      <td>0.27783695</td>\n",
       "      <td>6.120000</td>\n",
       "    </tr>\n",
       "    <tr>\n",
       "      <th>AURKC</th>\n",
       "      <td>AURKC</td>\n",
       "      <td>{Aurora kinase C}</td>\n",
       "      <td>crizotinib</td>\n",
       "      <td>0.78411055</td>\n",
       "      <td>5.370000</td>\n",
       "    </tr>\n",
       "    <tr>\n",
       "      <th>EGFR</th>\n",
       "      <td>EGFR</td>\n",
       "      <td>{Epidermal growth factor receptor}</td>\n",
       "      <td>dasatinib</td>\n",
       "      <td>-0.018264063</td>\n",
       "      <td>7.100000</td>\n",
       "    </tr>\n",
       "    <tr>\n",
       "      <th>EGFR</th>\n",
       "      <td>EGFR</td>\n",
       "      <td>{Epidermal growth factor receptor}</td>\n",
       "      <td>erlotinib</td>\n",
       "      <td>0.5696074000000001</td>\n",
       "      <td>9.220000</td>\n",
       "    </tr>\n",
       "    <tr>\n",
       "      <th>EGFR</th>\n",
       "      <td>EGFR</td>\n",
       "      <td>{Epidermal growth factor receptor}</td>\n",
       "      <td>gefitinib</td>\n",
       "      <td>0.07047932</td>\n",
       "      <td>9.400000</td>\n",
       "    </tr>\n",
       "    <tr>\n",
       "      <th>EGFR</th>\n",
       "      <td>EGFR</td>\n",
       "      <td>{Epidermal growth factor receptor}</td>\n",
       "      <td>crizotinib</td>\n",
       "      <td>0.78411055</td>\n",
       "      <td>5.570000</td>\n",
       "    </tr>\n",
       "    <tr>\n",
       "      <th>EGFR</th>\n",
       "      <td>EGFR</td>\n",
       "      <td>{Epidermal growth factor receptor}</td>\n",
       "      <td>cisplatin</td>\n",
       "      <td>0.18955152</td>\n",
       "      <td>5.581533</td>\n",
       "    </tr>\n",
       "    <tr>\n",
       "      <th>FGFR1</th>\n",
       "      <td>FGFR1</td>\n",
       "      <td>{Fibroblast growth factor receptor 1}</td>\n",
       "      <td>dasatinib</td>\n",
       "      <td>-0.018264063</td>\n",
       "      <td>5.430000</td>\n",
       "    </tr>\n",
       "    <tr>\n",
       "      <th>FGFR1</th>\n",
       "      <td>FGFR1</td>\n",
       "      <td>{Fibroblast growth factor receptor 1}</td>\n",
       "      <td>nilotinib</td>\n",
       "      <td>0.6700887</td>\n",
       "      <td>5.095609</td>\n",
       "    </tr>\n",
       "    <tr>\n",
       "      <th>FGFR1</th>\n",
       "      <td>FGFR1</td>\n",
       "      <td>{Fibroblast growth factor receptor 1}</td>\n",
       "      <td>pazopanib</td>\n",
       "      <td>0.27783695</td>\n",
       "      <td>6.000000</td>\n",
       "    </tr>\n",
       "    <tr>\n",
       "      <th>FGFR3</th>\n",
       "      <td>FGFR3</td>\n",
       "      <td>{Fibroblast growth factor receptor 3}</td>\n",
       "      <td>dasatinib</td>\n",
       "      <td>-0.018264063</td>\n",
       "      <td>5.410000</td>\n",
       "    </tr>\n",
       "    <tr>\n",
       "      <th>FGFR3</th>\n",
       "      <td>FGFR3</td>\n",
       "      <td>{Fibroblast growth factor receptor 3}</td>\n",
       "      <td>pazopanib</td>\n",
       "      <td>0.27783695</td>\n",
       "      <td>6.210000</td>\n",
       "    </tr>\n",
       "    <tr>\n",
       "      <th>FGFR3</th>\n",
       "      <td>FGFR3</td>\n",
       "      <td>{Fibroblast growth factor receptor 3}</td>\n",
       "      <td>crizotinib</td>\n",
       "      <td>0.78411055</td>\n",
       "      <td>5.570000</td>\n",
       "    </tr>\n",
       "    <tr>\n",
       "      <th>IRAK1</th>\n",
       "      <td>IRAK1</td>\n",
       "      <td>{Interleukin-1 receptor-associated kinase 1}</td>\n",
       "      <td>gefitinib</td>\n",
       "      <td>0.07047932</td>\n",
       "      <td>7.160000</td>\n",
       "    </tr>\n",
       "    <tr>\n",
       "      <th>IRAK1</th>\n",
       "      <td>IRAK1</td>\n",
       "      <td>{Interleukin-1 receptor-associated kinase 1}</td>\n",
       "      <td>pazopanib</td>\n",
       "      <td>0.27783695</td>\n",
       "      <td>5.230000</td>\n",
       "    </tr>\n",
       "    <tr>\n",
       "      <th>IRAK1</th>\n",
       "      <td>IRAK1</td>\n",
       "      <td>{Interleukin-1 receptor-associated kinase 1}</td>\n",
       "      <td>crizotinib</td>\n",
       "      <td>0.78411055</td>\n",
       "      <td>7.310000</td>\n",
       "    </tr>\n",
       "    <tr>\n",
       "      <th>PARP1</th>\n",
       "      <td>PARP1</td>\n",
       "      <td>{Poly [ADP-ribose] polymerase 1}</td>\n",
       "      <td>olaparib</td>\n",
       "      <td>0.77366006</td>\n",
       "      <td>8.301030</td>\n",
       "    </tr>\n",
       "    <tr>\n",
       "      <th>PDE4B</th>\n",
       "      <td>PDE4B</td>\n",
       "      <td>{cAMP-specific 3',5'-cyclic phosphodiesterase ...</td>\n",
       "      <td>sildenafil</td>\n",
       "      <td>0.16494873</td>\n",
       "      <td>5.110000</td>\n",
       "    </tr>\n",
       "    <tr>\n",
       "      <th>RIPK1</th>\n",
       "      <td>RIPK1</td>\n",
       "      <td>{Receptor-interacting serine/threonine-protein...</td>\n",
       "      <td>pazopanib</td>\n",
       "      <td>0.27783695</td>\n",
       "      <td>6.590000</td>\n",
       "    </tr>\n",
       "    <tr>\n",
       "      <th>RIPK1</th>\n",
       "      <td>RIPK1</td>\n",
       "      <td>{Receptor-interacting serine/threonine-protein...</td>\n",
       "      <td>crizotinib</td>\n",
       "      <td>0.78411055</td>\n",
       "      <td>5.800000</td>\n",
       "    </tr>\n",
       "    <tr>\n",
       "      <th>RIPK2</th>\n",
       "      <td>RIPK2</td>\n",
       "      <td>{Receptor-interacting serine/threonine-protein...</td>\n",
       "      <td>dasatinib</td>\n",
       "      <td>-0.018264063</td>\n",
       "      <td>7.510000</td>\n",
       "    </tr>\n",
       "    <tr>\n",
       "      <th>RIPK2</th>\n",
       "      <td>RIPK2</td>\n",
       "      <td>{Receptor-interacting serine/threonine-protein...</td>\n",
       "      <td>erlotinib</td>\n",
       "      <td>0.5696074000000001</td>\n",
       "      <td>6.390000</td>\n",
       "    </tr>\n",
       "    <tr>\n",
       "      <th>RIPK2</th>\n",
       "      <td>RIPK2</td>\n",
       "      <td>{Receptor-interacting serine/threonine-protein...</td>\n",
       "      <td>gefitinib</td>\n",
       "      <td>0.07047932</td>\n",
       "      <td>6.280000</td>\n",
       "    </tr>\n",
       "    <tr>\n",
       "      <th>RIPK2</th>\n",
       "      <td>RIPK2</td>\n",
       "      <td>{Receptor-interacting serine/threonine-protein...</td>\n",
       "      <td>pazopanib</td>\n",
       "      <td>0.27783695</td>\n",
       "      <td>6.240000</td>\n",
       "    </tr>\n",
       "    <tr>\n",
       "      <th>RIPK2</th>\n",
       "      <td>RIPK2</td>\n",
       "      <td>{Receptor-interacting serine/threonine-protein...</td>\n",
       "      <td>crizotinib</td>\n",
       "      <td>0.78411055</td>\n",
       "      <td>6.050000</td>\n",
       "    </tr>\n",
       "    <tr>\n",
       "      <th>STK3</th>\n",
       "      <td>STK3</td>\n",
       "      <td>{Serine/threonine-protein kinase 3}</td>\n",
       "      <td>crizotinib</td>\n",
       "      <td>0.78411055</td>\n",
       "      <td>6.000000</td>\n",
       "    </tr>\n",
       "  </tbody>\n",
       "</table>\n",
       "</div>"
      ],
      "text/plain": [
       "          name                                     protein_target        drug  \\\n",
       "ACVR2A  ACVR2A                         {Activin receptor type-2A}   dasatinib   \n",
       "AURKC    AURKC                                  {Aurora kinase C}   erlotinib   \n",
       "AURKC    AURKC                                  {Aurora kinase C}   pazopanib   \n",
       "AURKC    AURKC                                  {Aurora kinase C}  crizotinib   \n",
       "EGFR      EGFR                 {Epidermal growth factor receptor}   dasatinib   \n",
       "EGFR      EGFR                 {Epidermal growth factor receptor}   erlotinib   \n",
       "EGFR      EGFR                 {Epidermal growth factor receptor}   gefitinib   \n",
       "EGFR      EGFR                 {Epidermal growth factor receptor}  crizotinib   \n",
       "EGFR      EGFR                 {Epidermal growth factor receptor}   cisplatin   \n",
       "FGFR1    FGFR1              {Fibroblast growth factor receptor 1}   dasatinib   \n",
       "FGFR1    FGFR1              {Fibroblast growth factor receptor 1}   nilotinib   \n",
       "FGFR1    FGFR1              {Fibroblast growth factor receptor 1}   pazopanib   \n",
       "FGFR3    FGFR3              {Fibroblast growth factor receptor 3}   dasatinib   \n",
       "FGFR3    FGFR3              {Fibroblast growth factor receptor 3}   pazopanib   \n",
       "FGFR3    FGFR3              {Fibroblast growth factor receptor 3}  crizotinib   \n",
       "IRAK1    IRAK1       {Interleukin-1 receptor-associated kinase 1}   gefitinib   \n",
       "IRAK1    IRAK1       {Interleukin-1 receptor-associated kinase 1}   pazopanib   \n",
       "IRAK1    IRAK1       {Interleukin-1 receptor-associated kinase 1}  crizotinib   \n",
       "PARP1    PARP1                   {Poly [ADP-ribose] polymerase 1}    olaparib   \n",
       "PDE4B    PDE4B  {cAMP-specific 3',5'-cyclic phosphodiesterase ...  sildenafil   \n",
       "RIPK1    RIPK1  {Receptor-interacting serine/threonine-protein...   pazopanib   \n",
       "RIPK1    RIPK1  {Receptor-interacting serine/threonine-protein...  crizotinib   \n",
       "RIPK2    RIPK2  {Receptor-interacting serine/threonine-protein...   dasatinib   \n",
       "RIPK2    RIPK2  {Receptor-interacting serine/threonine-protein...   erlotinib   \n",
       "RIPK2    RIPK2  {Receptor-interacting serine/threonine-protein...   gefitinib   \n",
       "RIPK2    RIPK2  {Receptor-interacting serine/threonine-protein...   pazopanib   \n",
       "RIPK2    RIPK2  {Receptor-interacting serine/threonine-protein...  crizotinib   \n",
       "STK3      STK3                {Serine/threonine-protein kinase 3}  crizotinib   \n",
       "\n",
       "                      corr  affinity  \n",
       "ACVR2A        -0.018264063  6.680000  \n",
       "AURKC   0.5696074000000001  6.220000  \n",
       "AURKC           0.27783695  6.120000  \n",
       "AURKC           0.78411055  5.370000  \n",
       "EGFR          -0.018264063  7.100000  \n",
       "EGFR    0.5696074000000001  9.220000  \n",
       "EGFR            0.07047932  9.400000  \n",
       "EGFR            0.78411055  5.570000  \n",
       "EGFR            0.18955152  5.581533  \n",
       "FGFR1         -0.018264063  5.430000  \n",
       "FGFR1            0.6700887  5.095609  \n",
       "FGFR1           0.27783695  6.000000  \n",
       "FGFR3         -0.018264063  5.410000  \n",
       "FGFR3           0.27783695  6.210000  \n",
       "FGFR3           0.78411055  5.570000  \n",
       "IRAK1           0.07047932  7.160000  \n",
       "IRAK1           0.27783695  5.230000  \n",
       "IRAK1           0.78411055  7.310000  \n",
       "PARP1           0.77366006  8.301030  \n",
       "PDE4B           0.16494873  5.110000  \n",
       "RIPK1           0.27783695  6.590000  \n",
       "RIPK1           0.78411055  5.800000  \n",
       "RIPK2         -0.018264063  7.510000  \n",
       "RIPK2   0.5696074000000001  6.390000  \n",
       "RIPK2           0.07047932  6.280000  \n",
       "RIPK2           0.27783695  6.240000  \n",
       "RIPK2           0.78411055  6.050000  \n",
       "STK3            0.78411055  6.000000  "
      ]
     },
     "execution_count": 25,
     "metadata": {},
     "output_type": "execute_result"
    }
   ],
   "source": [
    "# Construct table of drug targets in the network\n",
    "drug_targets_df = drugs2.drug_targets_in_selected_network(network_selected)\n",
    "drug_targets_df.to_csv(r'../Save_drop1/drug_targets_in_network.tsv', header=True, index=None, sep='\\t', quoting = csv.QUOTE_NONE, escapechar = '\\t')\n",
    "drug_targets_df['affinity'] = pd.to_numeric(drug_targets_df['affinity'], errors='coerce')\n",
    "drug_targets_df.dropna(subset=['affinity'], inplace=True)\n",
    "drug_targets_df"
   ]
  },
  {
   "cell_type": "code",
   "execution_count": 26,
   "metadata": {},
   "outputs": [],
   "source": [
    "# Save drug/target dataframe to csv\n",
    "drug_targets_df.to_csv(r'../Save_drop1/final_drug_target_table.tsv', header=True, index=None, sep='\\t', quoting = csv.QUOTE_NONE, escapechar = '\\t')"
   ]
  },
  {
   "cell_type": "code",
   "execution_count": 27,
   "metadata": {},
   "outputs": [
    {
     "data": {
      "text/html": [
       "<div>\n",
       "<style scoped>\n",
       "    .dataframe tbody tr th:only-of-type {\n",
       "        vertical-align: middle;\n",
       "    }\n",
       "\n",
       "    .dataframe tbody tr th {\n",
       "        vertical-align: top;\n",
       "    }\n",
       "\n",
       "    .dataframe thead th {\n",
       "        text-align: right;\n",
       "    }\n",
       "</style>\n",
       "<table border=\"1\" class=\"dataframe\">\n",
       "  <thead>\n",
       "    <tr style=\"text-align: right;\">\n",
       "      <th></th>\n",
       "      <th>drug</th>\n",
       "      <th>num_targets</th>\n",
       "      <th>num_terminal_targets</th>\n",
       "      <th>max_target_centrality</th>\n",
       "    </tr>\n",
       "  </thead>\n",
       "  <tbody>\n",
       "    <tr>\n",
       "      <th>474</th>\n",
       "      <td>crizotinib</td>\n",
       "      <td>148</td>\n",
       "      <td>3</td>\n",
       "      <td>0.055718</td>\n",
       "    </tr>\n",
       "    <tr>\n",
       "      <th>508</th>\n",
       "      <td>dasatinib</td>\n",
       "      <td>129</td>\n",
       "      <td>2</td>\n",
       "      <td>0.055718</td>\n",
       "    </tr>\n",
       "    <tr>\n",
       "      <th>1479</th>\n",
       "      <td>pazopanib</td>\n",
       "      <td>104</td>\n",
       "      <td>3</td>\n",
       "      <td>0.028430</td>\n",
       "    </tr>\n",
       "    <tr>\n",
       "      <th>719</th>\n",
       "      <td>erlotinib</td>\n",
       "      <td>96</td>\n",
       "      <td>2</td>\n",
       "      <td>0.055718</td>\n",
       "    </tr>\n",
       "    <tr>\n",
       "      <th>884</th>\n",
       "      <td>gefitinib</td>\n",
       "      <td>72</td>\n",
       "      <td>1</td>\n",
       "      <td>0.055718</td>\n",
       "    </tr>\n",
       "    <tr>\n",
       "      <th>1364</th>\n",
       "      <td>nilotinib</td>\n",
       "      <td>70</td>\n",
       "      <td>0</td>\n",
       "      <td>0.028430</td>\n",
       "    </tr>\n",
       "    <tr>\n",
       "      <th>1771</th>\n",
       "      <td>sildenafil</td>\n",
       "      <td>21</td>\n",
       "      <td>1</td>\n",
       "      <td>0.002538</td>\n",
       "    </tr>\n",
       "    <tr>\n",
       "      <th>424</th>\n",
       "      <td>cisplatin</td>\n",
       "      <td>13</td>\n",
       "      <td>0</td>\n",
       "      <td>0.055718</td>\n",
       "    </tr>\n",
       "    <tr>\n",
       "      <th>1403</th>\n",
       "      <td>olaparib</td>\n",
       "      <td>4</td>\n",
       "      <td>1</td>\n",
       "      <td>0.014152</td>\n",
       "    </tr>\n",
       "  </tbody>\n",
       "</table>\n",
       "</div>"
      ],
      "text/plain": [
       "            drug  num_targets  num_terminal_targets  max_target_centrality\n",
       "474   crizotinib          148                     3               0.055718\n",
       "508    dasatinib          129                     2               0.055718\n",
       "1479   pazopanib          104                     3               0.028430\n",
       "719    erlotinib           96                     2               0.055718\n",
       "884    gefitinib           72                     1               0.055718\n",
       "1364   nilotinib           70                     0               0.028430\n",
       "1771  sildenafil           21                     1               0.002538\n",
       "424    cisplatin           13                     0               0.055718\n",
       "1403    olaparib            4                     1               0.014152"
      ]
     },
     "execution_count": 27,
     "metadata": {},
     "output_type": "execute_result"
    }
   ],
   "source": [
    "# More details on selected drugs\n",
    "num_targets_df.loc[num_targets_df['drug'].isin(np.unique(drug_targets_df['drug']))]"
   ]
  },
  {
   "cell_type": "markdown",
   "metadata": {},
   "source": [
    "# Compare to analysis without dropping the genes"
   ]
  },
  {
   "cell_type": "code",
   "execution_count": 34,
   "metadata": {},
   "outputs": [
    {
     "data": {
      "text/html": [
       "<div>\n",
       "<style scoped>\n",
       "    .dataframe tbody tr th:only-of-type {\n",
       "        vertical-align: middle;\n",
       "    }\n",
       "\n",
       "    .dataframe tbody tr th {\n",
       "        vertical-align: top;\n",
       "    }\n",
       "\n",
       "    .dataframe thead th {\n",
       "        text-align: right;\n",
       "    }\n",
       "</style>\n",
       "<table border=\"1\" class=\"dataframe\">\n",
       "  <thead>\n",
       "    <tr style=\"text-align: right;\">\n",
       "      <th></th>\n",
       "      <th>name</th>\n",
       "      <th>protein_target</th>\n",
       "      <th>drug</th>\n",
       "      <th>corr</th>\n",
       "      <th>affinity</th>\n",
       "    </tr>\n",
       "  </thead>\n",
       "  <tbody>\n",
       "    <tr>\n",
       "      <th>0</th>\n",
       "      <td>ACVR2A</td>\n",
       "      <td>{'Activin receptor type-2A'}</td>\n",
       "      <td>dasatinib</td>\n",
       "      <td>0.882561</td>\n",
       "      <td>6.6800</td>\n",
       "    </tr>\n",
       "    <tr>\n",
       "      <th>1</th>\n",
       "      <td>AURKC</td>\n",
       "      <td>{'Aurora kinase C'}</td>\n",
       "      <td>erlotinib</td>\n",
       "      <td>0.873780</td>\n",
       "      <td>6.2200</td>\n",
       "    </tr>\n",
       "    <tr>\n",
       "      <th>2</th>\n",
       "      <td>AURKC</td>\n",
       "      <td>{'Aurora kinase C'}</td>\n",
       "      <td>sorafenib</td>\n",
       "      <td>0.865171</td>\n",
       "      <td>6.6800</td>\n",
       "    </tr>\n",
       "    <tr>\n",
       "      <th>3</th>\n",
       "      <td>AURKC</td>\n",
       "      <td>{'Aurora kinase C'}</td>\n",
       "      <td>sunitinib</td>\n",
       "      <td>0.868590</td>\n",
       "      <td>6.6600</td>\n",
       "    </tr>\n",
       "    <tr>\n",
       "      <th>4</th>\n",
       "      <td>AURKC</td>\n",
       "      <td>{'Aurora kinase C'}</td>\n",
       "      <td>pazopanib</td>\n",
       "      <td>0.866959</td>\n",
       "      <td>6.1200</td>\n",
       "    </tr>\n",
       "    <tr>\n",
       "      <th>5</th>\n",
       "      <td>AURKC</td>\n",
       "      <td>{'Aurora kinase C'}</td>\n",
       "      <td>ruxolitinib</td>\n",
       "      <td>0.874877</td>\n",
       "      <td>5.0600</td>\n",
       "    </tr>\n",
       "    <tr>\n",
       "      <th>6</th>\n",
       "      <td>AURKC</td>\n",
       "      <td>{'Aurora kinase C'}</td>\n",
       "      <td>axitinib</td>\n",
       "      <td>0.877977</td>\n",
       "      <td>8.8900</td>\n",
       "    </tr>\n",
       "    <tr>\n",
       "      <th>7</th>\n",
       "      <td>BRSK1</td>\n",
       "      <td>{'Serine/threonine-protein kinase BRSK1'}</td>\n",
       "      <td>sunitinib</td>\n",
       "      <td>0.868590</td>\n",
       "      <td>5.4600</td>\n",
       "    </tr>\n",
       "    <tr>\n",
       "      <th>8</th>\n",
       "      <td>CDK17</td>\n",
       "      <td>{'Cyclin-dependent kinase 17'}</td>\n",
       "      <td>sorafenib</td>\n",
       "      <td>0.865171</td>\n",
       "      <td>5.8000</td>\n",
       "    </tr>\n",
       "    <tr>\n",
       "      <th>9</th>\n",
       "      <td>CDK17</td>\n",
       "      <td>{'Cyclin-dependent kinase 17'}</td>\n",
       "      <td>sunitinib</td>\n",
       "      <td>0.868590</td>\n",
       "      <td>5.9200</td>\n",
       "    </tr>\n",
       "    <tr>\n",
       "      <th>10</th>\n",
       "      <td>EGFR</td>\n",
       "      <td>{'Epidermal growth factor receptor'}</td>\n",
       "      <td>dasatinib</td>\n",
       "      <td>0.882561</td>\n",
       "      <td>7.1000</td>\n",
       "    </tr>\n",
       "    <tr>\n",
       "      <th>11</th>\n",
       "      <td>EGFR</td>\n",
       "      <td>{'Epidermal growth factor receptor'}</td>\n",
       "      <td>docetaxel</td>\n",
       "      <td>0.865823</td>\n",
       "      <td>9.0862</td>\n",
       "    </tr>\n",
       "    <tr>\n",
       "      <th>12</th>\n",
       "      <td>EGFR</td>\n",
       "      <td>{'Epidermal growth factor receptor'}</td>\n",
       "      <td>erlotinib</td>\n",
       "      <td>0.873780</td>\n",
       "      <td>9.2200</td>\n",
       "    </tr>\n",
       "    <tr>\n",
       "      <th>13</th>\n",
       "      <td>EGFR</td>\n",
       "      <td>{'Epidermal growth factor receptor'}</td>\n",
       "      <td>imatinib</td>\n",
       "      <td>0.870554</td>\n",
       "      <td>5.1200</td>\n",
       "    </tr>\n",
       "    <tr>\n",
       "      <th>14</th>\n",
       "      <td>EGFR</td>\n",
       "      <td>{'Epidermal growth factor receptor'}</td>\n",
       "      <td>sunitinib</td>\n",
       "      <td>0.868590</td>\n",
       "      <td>6.0700</td>\n",
       "    </tr>\n",
       "    <tr>\n",
       "      <th>15</th>\n",
       "      <td>EGFR</td>\n",
       "      <td>{'Epidermal growth factor receptor'}</td>\n",
       "      <td>axitinib</td>\n",
       "      <td>0.877977</td>\n",
       "      <td>5.6400</td>\n",
       "    </tr>\n",
       "    <tr>\n",
       "      <th>16</th>\n",
       "      <td>EGFR</td>\n",
       "      <td>{'Epidermal growth factor receptor'}</td>\n",
       "      <td>afatinib</td>\n",
       "      <td>0.862327</td>\n",
       "      <td>10.0000</td>\n",
       "    </tr>\n",
       "    <tr>\n",
       "      <th>17</th>\n",
       "      <td>EGFR</td>\n",
       "      <td>{'Epidermal growth factor receptor'}</td>\n",
       "      <td>bosutinib</td>\n",
       "      <td>0.862957</td>\n",
       "      <td>7.7400</td>\n",
       "    </tr>\n",
       "    <tr>\n",
       "      <th>18</th>\n",
       "      <td>FGFR1</td>\n",
       "      <td>{'Fibroblast growth factor receptor 1'}</td>\n",
       "      <td>dasatinib</td>\n",
       "      <td>0.882561</td>\n",
       "      <td>5.4300</td>\n",
       "    </tr>\n",
       "    <tr>\n",
       "      <th>19</th>\n",
       "      <td>FGFR1</td>\n",
       "      <td>{'Fibroblast growth factor receptor 1'}</td>\n",
       "      <td>imatinib</td>\n",
       "      <td>0.870554</td>\n",
       "      <td>5.0000</td>\n",
       "    </tr>\n",
       "    <tr>\n",
       "      <th>20</th>\n",
       "      <td>FGFR1</td>\n",
       "      <td>{'Fibroblast growth factor receptor 1'}</td>\n",
       "      <td>sorafenib</td>\n",
       "      <td>0.865171</td>\n",
       "      <td>5.6000</td>\n",
       "    </tr>\n",
       "    <tr>\n",
       "      <th>21</th>\n",
       "      <td>FGFR1</td>\n",
       "      <td>{'Fibroblast growth factor receptor 1'}</td>\n",
       "      <td>sunitinib</td>\n",
       "      <td>0.868590</td>\n",
       "      <td>6.2800</td>\n",
       "    </tr>\n",
       "    <tr>\n",
       "      <th>22</th>\n",
       "      <td>FGFR1</td>\n",
       "      <td>{'Fibroblast growth factor receptor 1'}</td>\n",
       "      <td>pazopanib</td>\n",
       "      <td>0.866959</td>\n",
       "      <td>6.0000</td>\n",
       "    </tr>\n",
       "    <tr>\n",
       "      <th>23</th>\n",
       "      <td>FGFR1</td>\n",
       "      <td>{'Fibroblast growth factor receptor 1'}</td>\n",
       "      <td>axitinib</td>\n",
       "      <td>0.877977</td>\n",
       "      <td>6.4200</td>\n",
       "    </tr>\n",
       "    <tr>\n",
       "      <th>24</th>\n",
       "      <td>FGFR3</td>\n",
       "      <td>{'Fibroblast growth factor receptor 3'}</td>\n",
       "      <td>dasatinib</td>\n",
       "      <td>0.882561</td>\n",
       "      <td>5.4100</td>\n",
       "    </tr>\n",
       "    <tr>\n",
       "      <th>25</th>\n",
       "      <td>FGFR3</td>\n",
       "      <td>{'Fibroblast growth factor receptor 3'}</td>\n",
       "      <td>sorafenib</td>\n",
       "      <td>0.865171</td>\n",
       "      <td>5.3800</td>\n",
       "    </tr>\n",
       "    <tr>\n",
       "      <th>26</th>\n",
       "      <td>FGFR3</td>\n",
       "      <td>{'Fibroblast growth factor receptor 3'}</td>\n",
       "      <td>sunitinib</td>\n",
       "      <td>0.868590</td>\n",
       "      <td>6.5400</td>\n",
       "    </tr>\n",
       "    <tr>\n",
       "      <th>27</th>\n",
       "      <td>FGFR3</td>\n",
       "      <td>{'Fibroblast growth factor receptor 3'}</td>\n",
       "      <td>pazopanib</td>\n",
       "      <td>0.866959</td>\n",
       "      <td>6.2100</td>\n",
       "    </tr>\n",
       "    <tr>\n",
       "      <th>28</th>\n",
       "      <td>FGFR3</td>\n",
       "      <td>{'Fibroblast growth factor receptor 3'}</td>\n",
       "      <td>axitinib</td>\n",
       "      <td>0.877977</td>\n",
       "      <td>6.6800</td>\n",
       "    </tr>\n",
       "    <tr>\n",
       "      <th>29</th>\n",
       "      <td>HDAC1</td>\n",
       "      <td>{'Histone deacetylase', 'Histone deacetylase 1...</td>\n",
       "      <td>vorinostat</td>\n",
       "      <td>0.866485</td>\n",
       "      <td>8.0000</td>\n",
       "    </tr>\n",
       "    <tr>\n",
       "      <th>30</th>\n",
       "      <td>HDAC1</td>\n",
       "      <td>{'Histone deacetylase', 'Histone deacetylase 1...</td>\n",
       "      <td>vorinostat</td>\n",
       "      <td>0.866485</td>\n",
       "      <td>6.9600</td>\n",
       "    </tr>\n",
       "    <tr>\n",
       "      <th>31</th>\n",
       "      <td>HDAC1</td>\n",
       "      <td>{'Histone deacetylase', 'Histone deacetylase 1...</td>\n",
       "      <td>vorinostat</td>\n",
       "      <td>0.866485</td>\n",
       "      <td>8.8900</td>\n",
       "    </tr>\n",
       "    <tr>\n",
       "      <th>32</th>\n",
       "      <td>HDAC1</td>\n",
       "      <td>{'Histone deacetylase', 'Histone deacetylase 1...</td>\n",
       "      <td>vorinostat</td>\n",
       "      <td>0.866485</td>\n",
       "      <td>8.0000</td>\n",
       "    </tr>\n",
       "    <tr>\n",
       "      <th>33</th>\n",
       "      <td>HDAC1</td>\n",
       "      <td>{'Histone deacetylase', 'Histone deacetylase 1...</td>\n",
       "      <td>belinostat</td>\n",
       "      <td>0.872837</td>\n",
       "      <td>9.0700</td>\n",
       "    </tr>\n",
       "    <tr>\n",
       "      <th>34</th>\n",
       "      <td>HSP90AA1</td>\n",
       "      <td>{'Heat shock protein HSP 90-alpha'}</td>\n",
       "      <td>formoterol</td>\n",
       "      <td>0.870720</td>\n",
       "      <td>8.5229</td>\n",
       "    </tr>\n",
       "    <tr>\n",
       "      <th>35</th>\n",
       "      <td>HSP90AA1</td>\n",
       "      <td>{'Heat shock protein HSP 90-alpha'}</td>\n",
       "      <td>primaquine</td>\n",
       "      <td>0.871999</td>\n",
       "      <td>8.2218</td>\n",
       "    </tr>\n",
       "    <tr>\n",
       "      <th>36</th>\n",
       "      <td>IRAK1</td>\n",
       "      <td>{'Interleukin-1 receptor-associated kinase 1'}</td>\n",
       "      <td>imatinib</td>\n",
       "      <td>0.870554</td>\n",
       "      <td>5.9200</td>\n",
       "    </tr>\n",
       "    <tr>\n",
       "      <th>37</th>\n",
       "      <td>IRAK1</td>\n",
       "      <td>{'Interleukin-1 receptor-associated kinase 1'}</td>\n",
       "      <td>sunitinib</td>\n",
       "      <td>0.868590</td>\n",
       "      <td>7.8500</td>\n",
       "    </tr>\n",
       "    <tr>\n",
       "      <th>38</th>\n",
       "      <td>IRAK1</td>\n",
       "      <td>{'Interleukin-1 receptor-associated kinase 1'}</td>\n",
       "      <td>pazopanib</td>\n",
       "      <td>0.866959</td>\n",
       "      <td>5.2300</td>\n",
       "    </tr>\n",
       "    <tr>\n",
       "      <th>39</th>\n",
       "      <td>IRAK1</td>\n",
       "      <td>{'Interleukin-1 receptor-associated kinase 1'}</td>\n",
       "      <td>ruxolitinib</td>\n",
       "      <td>0.874877</td>\n",
       "      <td>6.5400</td>\n",
       "    </tr>\n",
       "    <tr>\n",
       "      <th>40</th>\n",
       "      <td>IRAK1</td>\n",
       "      <td>{'Interleukin-1 receptor-associated kinase 1'}</td>\n",
       "      <td>axitinib</td>\n",
       "      <td>0.877977</td>\n",
       "      <td>5.5100</td>\n",
       "    </tr>\n",
       "    <tr>\n",
       "      <th>41</th>\n",
       "      <td>IRAK1</td>\n",
       "      <td>{'Interleukin-1 receptor-associated kinase 1'}</td>\n",
       "      <td>afatinib</td>\n",
       "      <td>0.862327</td>\n",
       "      <td>6.6200</td>\n",
       "    </tr>\n",
       "    <tr>\n",
       "      <th>42</th>\n",
       "      <td>IRAK1</td>\n",
       "      <td>{'Interleukin-1 receptor-associated kinase 1'}</td>\n",
       "      <td>bosutinib</td>\n",
       "      <td>0.862957</td>\n",
       "      <td>6.2200</td>\n",
       "    </tr>\n",
       "    <tr>\n",
       "      <th>43</th>\n",
       "      <td>PAK1</td>\n",
       "      <td>{'Serine/threonine-protein kinase PAK 1'}</td>\n",
       "      <td>bosutinib</td>\n",
       "      <td>0.862957</td>\n",
       "      <td>5.6400</td>\n",
       "    </tr>\n",
       "    <tr>\n",
       "      <th>44</th>\n",
       "      <td>PDE4B</td>\n",
       "      <td>{'Phosphodiesterase 4'}</td>\n",
       "      <td>milrinone</td>\n",
       "      <td>0.860716</td>\n",
       "      <td>5.2200</td>\n",
       "    </tr>\n",
       "    <tr>\n",
       "      <th>45</th>\n",
       "      <td>PDE4B</td>\n",
       "      <td>{'Phosphodiesterase 4'}</td>\n",
       "      <td>vardenafil</td>\n",
       "      <td>0.863456</td>\n",
       "      <td>5.3500</td>\n",
       "    </tr>\n",
       "    <tr>\n",
       "      <th>46</th>\n",
       "      <td>RIPK1</td>\n",
       "      <td>{'Receptor-interacting serine/threonine-protei...</td>\n",
       "      <td>sunitinib</td>\n",
       "      <td>0.868590</td>\n",
       "      <td>6.4300</td>\n",
       "    </tr>\n",
       "    <tr>\n",
       "      <th>47</th>\n",
       "      <td>RIPK1</td>\n",
       "      <td>{'Receptor-interacting serine/threonine-protei...</td>\n",
       "      <td>pazopanib</td>\n",
       "      <td>0.866959</td>\n",
       "      <td>6.5900</td>\n",
       "    </tr>\n",
       "    <tr>\n",
       "      <th>48</th>\n",
       "      <td>RIPK1</td>\n",
       "      <td>{'Receptor-interacting serine/threonine-protei...</td>\n",
       "      <td>axitinib</td>\n",
       "      <td>0.877977</td>\n",
       "      <td>5.6000</td>\n",
       "    </tr>\n",
       "    <tr>\n",
       "      <th>49</th>\n",
       "      <td>RIPK2</td>\n",
       "      <td>{'Receptor-interacting serine/threonine-protei...</td>\n",
       "      <td>dasatinib</td>\n",
       "      <td>0.882561</td>\n",
       "      <td>7.5100</td>\n",
       "    </tr>\n",
       "    <tr>\n",
       "      <th>50</th>\n",
       "      <td>RIPK2</td>\n",
       "      <td>{'Receptor-interacting serine/threonine-protei...</td>\n",
       "      <td>erlotinib</td>\n",
       "      <td>0.873780</td>\n",
       "      <td>6.3900</td>\n",
       "    </tr>\n",
       "    <tr>\n",
       "      <th>51</th>\n",
       "      <td>RIPK2</td>\n",
       "      <td>{'Receptor-interacting serine/threonine-protei...</td>\n",
       "      <td>sorafenib</td>\n",
       "      <td>0.865171</td>\n",
       "      <td>5.8900</td>\n",
       "    </tr>\n",
       "    <tr>\n",
       "      <th>52</th>\n",
       "      <td>RIPK2</td>\n",
       "      <td>{'Receptor-interacting serine/threonine-protei...</td>\n",
       "      <td>pazopanib</td>\n",
       "      <td>0.866959</td>\n",
       "      <td>6.2400</td>\n",
       "    </tr>\n",
       "    <tr>\n",
       "      <th>53</th>\n",
       "      <td>RIPK2</td>\n",
       "      <td>{'Receptor-interacting serine/threonine-protei...</td>\n",
       "      <td>axitinib</td>\n",
       "      <td>0.877977</td>\n",
       "      <td>5.0000</td>\n",
       "    </tr>\n",
       "    <tr>\n",
       "      <th>54</th>\n",
       "      <td>RIPK2</td>\n",
       "      <td>{'Receptor-interacting serine/threonine-protei...</td>\n",
       "      <td>afatinib</td>\n",
       "      <td>0.862327</td>\n",
       "      <td>5.5700</td>\n",
       "    </tr>\n",
       "    <tr>\n",
       "      <th>55</th>\n",
       "      <td>RIPK2</td>\n",
       "      <td>{'Receptor-interacting serine/threonine-protei...</td>\n",
       "      <td>bosutinib</td>\n",
       "      <td>0.862957</td>\n",
       "      <td>5.4300</td>\n",
       "    </tr>\n",
       "    <tr>\n",
       "      <th>56</th>\n",
       "      <td>STK3</td>\n",
       "      <td>{'Serine/threonine-protein kinase 3'}</td>\n",
       "      <td>sunitinib</td>\n",
       "      <td>0.868590</td>\n",
       "      <td>7.2500</td>\n",
       "    </tr>\n",
       "    <tr>\n",
       "      <th>57</th>\n",
       "      <td>STK3</td>\n",
       "      <td>{'Serine/threonine-protein kinase 3'}</td>\n",
       "      <td>axitinib</td>\n",
       "      <td>0.877977</td>\n",
       "      <td>5.6600</td>\n",
       "    </tr>\n",
       "    <tr>\n",
       "      <th>58</th>\n",
       "      <td>STK3</td>\n",
       "      <td>{'Serine/threonine-protein kinase 3'}</td>\n",
       "      <td>bosutinib</td>\n",
       "      <td>0.862957</td>\n",
       "      <td>6.4300</td>\n",
       "    </tr>\n",
       "    <tr>\n",
       "      <th>59</th>\n",
       "      <td>STK3</td>\n",
       "      <td>{'Serine/threonine-protein kinase 3'}</td>\n",
       "      <td>tofacitinib</td>\n",
       "      <td>0.877944</td>\n",
       "      <td>5.3700</td>\n",
       "    </tr>\n",
       "  </tbody>\n",
       "</table>\n",
       "</div>"
      ],
      "text/plain": [
       "        name                                     protein_target         drug  \\\n",
       "0     ACVR2A                       {'Activin receptor type-2A'}    dasatinib   \n",
       "1      AURKC                                {'Aurora kinase C'}    erlotinib   \n",
       "2      AURKC                                {'Aurora kinase C'}    sorafenib   \n",
       "3      AURKC                                {'Aurora kinase C'}    sunitinib   \n",
       "4      AURKC                                {'Aurora kinase C'}    pazopanib   \n",
       "5      AURKC                                {'Aurora kinase C'}  ruxolitinib   \n",
       "6      AURKC                                {'Aurora kinase C'}     axitinib   \n",
       "7      BRSK1          {'Serine/threonine-protein kinase BRSK1'}    sunitinib   \n",
       "8      CDK17                     {'Cyclin-dependent kinase 17'}    sorafenib   \n",
       "9      CDK17                     {'Cyclin-dependent kinase 17'}    sunitinib   \n",
       "10      EGFR               {'Epidermal growth factor receptor'}    dasatinib   \n",
       "11      EGFR               {'Epidermal growth factor receptor'}    docetaxel   \n",
       "12      EGFR               {'Epidermal growth factor receptor'}    erlotinib   \n",
       "13      EGFR               {'Epidermal growth factor receptor'}     imatinib   \n",
       "14      EGFR               {'Epidermal growth factor receptor'}    sunitinib   \n",
       "15      EGFR               {'Epidermal growth factor receptor'}     axitinib   \n",
       "16      EGFR               {'Epidermal growth factor receptor'}     afatinib   \n",
       "17      EGFR               {'Epidermal growth factor receptor'}    bosutinib   \n",
       "18     FGFR1            {'Fibroblast growth factor receptor 1'}    dasatinib   \n",
       "19     FGFR1            {'Fibroblast growth factor receptor 1'}     imatinib   \n",
       "20     FGFR1            {'Fibroblast growth factor receptor 1'}    sorafenib   \n",
       "21     FGFR1            {'Fibroblast growth factor receptor 1'}    sunitinib   \n",
       "22     FGFR1            {'Fibroblast growth factor receptor 1'}    pazopanib   \n",
       "23     FGFR1            {'Fibroblast growth factor receptor 1'}     axitinib   \n",
       "24     FGFR3            {'Fibroblast growth factor receptor 3'}    dasatinib   \n",
       "25     FGFR3            {'Fibroblast growth factor receptor 3'}    sorafenib   \n",
       "26     FGFR3            {'Fibroblast growth factor receptor 3'}    sunitinib   \n",
       "27     FGFR3            {'Fibroblast growth factor receptor 3'}    pazopanib   \n",
       "28     FGFR3            {'Fibroblast growth factor receptor 3'}     axitinib   \n",
       "29     HDAC1  {'Histone deacetylase', 'Histone deacetylase 1...   vorinostat   \n",
       "30     HDAC1  {'Histone deacetylase', 'Histone deacetylase 1...   vorinostat   \n",
       "31     HDAC1  {'Histone deacetylase', 'Histone deacetylase 1...   vorinostat   \n",
       "32     HDAC1  {'Histone deacetylase', 'Histone deacetylase 1...   vorinostat   \n",
       "33     HDAC1  {'Histone deacetylase', 'Histone deacetylase 1...   belinostat   \n",
       "34  HSP90AA1                {'Heat shock protein HSP 90-alpha'}   formoterol   \n",
       "35  HSP90AA1                {'Heat shock protein HSP 90-alpha'}   primaquine   \n",
       "36     IRAK1     {'Interleukin-1 receptor-associated kinase 1'}     imatinib   \n",
       "37     IRAK1     {'Interleukin-1 receptor-associated kinase 1'}    sunitinib   \n",
       "38     IRAK1     {'Interleukin-1 receptor-associated kinase 1'}    pazopanib   \n",
       "39     IRAK1     {'Interleukin-1 receptor-associated kinase 1'}  ruxolitinib   \n",
       "40     IRAK1     {'Interleukin-1 receptor-associated kinase 1'}     axitinib   \n",
       "41     IRAK1     {'Interleukin-1 receptor-associated kinase 1'}     afatinib   \n",
       "42     IRAK1     {'Interleukin-1 receptor-associated kinase 1'}    bosutinib   \n",
       "43      PAK1          {'Serine/threonine-protein kinase PAK 1'}    bosutinib   \n",
       "44     PDE4B                            {'Phosphodiesterase 4'}    milrinone   \n",
       "45     PDE4B                            {'Phosphodiesterase 4'}   vardenafil   \n",
       "46     RIPK1  {'Receptor-interacting serine/threonine-protei...    sunitinib   \n",
       "47     RIPK1  {'Receptor-interacting serine/threonine-protei...    pazopanib   \n",
       "48     RIPK1  {'Receptor-interacting serine/threonine-protei...     axitinib   \n",
       "49     RIPK2  {'Receptor-interacting serine/threonine-protei...    dasatinib   \n",
       "50     RIPK2  {'Receptor-interacting serine/threonine-protei...    erlotinib   \n",
       "51     RIPK2  {'Receptor-interacting serine/threonine-protei...    sorafenib   \n",
       "52     RIPK2  {'Receptor-interacting serine/threonine-protei...    pazopanib   \n",
       "53     RIPK2  {'Receptor-interacting serine/threonine-protei...     axitinib   \n",
       "54     RIPK2  {'Receptor-interacting serine/threonine-protei...     afatinib   \n",
       "55     RIPK2  {'Receptor-interacting serine/threonine-protei...    bosutinib   \n",
       "56      STK3              {'Serine/threonine-protein kinase 3'}    sunitinib   \n",
       "57      STK3              {'Serine/threonine-protein kinase 3'}     axitinib   \n",
       "58      STK3              {'Serine/threonine-protein kinase 3'}    bosutinib   \n",
       "59      STK3              {'Serine/threonine-protein kinase 3'}  tofacitinib   \n",
       "\n",
       "        corr  affinity  \n",
       "0   0.882561    6.6800  \n",
       "1   0.873780    6.2200  \n",
       "2   0.865171    6.6800  \n",
       "3   0.868590    6.6600  \n",
       "4   0.866959    6.1200  \n",
       "5   0.874877    5.0600  \n",
       "6   0.877977    8.8900  \n",
       "7   0.868590    5.4600  \n",
       "8   0.865171    5.8000  \n",
       "9   0.868590    5.9200  \n",
       "10  0.882561    7.1000  \n",
       "11  0.865823    9.0862  \n",
       "12  0.873780    9.2200  \n",
       "13  0.870554    5.1200  \n",
       "14  0.868590    6.0700  \n",
       "15  0.877977    5.6400  \n",
       "16  0.862327   10.0000  \n",
       "17  0.862957    7.7400  \n",
       "18  0.882561    5.4300  \n",
       "19  0.870554    5.0000  \n",
       "20  0.865171    5.6000  \n",
       "21  0.868590    6.2800  \n",
       "22  0.866959    6.0000  \n",
       "23  0.877977    6.4200  \n",
       "24  0.882561    5.4100  \n",
       "25  0.865171    5.3800  \n",
       "26  0.868590    6.5400  \n",
       "27  0.866959    6.2100  \n",
       "28  0.877977    6.6800  \n",
       "29  0.866485    8.0000  \n",
       "30  0.866485    6.9600  \n",
       "31  0.866485    8.8900  \n",
       "32  0.866485    8.0000  \n",
       "33  0.872837    9.0700  \n",
       "34  0.870720    8.5229  \n",
       "35  0.871999    8.2218  \n",
       "36  0.870554    5.9200  \n",
       "37  0.868590    7.8500  \n",
       "38  0.866959    5.2300  \n",
       "39  0.874877    6.5400  \n",
       "40  0.877977    5.5100  \n",
       "41  0.862327    6.6200  \n",
       "42  0.862957    6.2200  \n",
       "43  0.862957    5.6400  \n",
       "44  0.860716    5.2200  \n",
       "45  0.863456    5.3500  \n",
       "46  0.868590    6.4300  \n",
       "47  0.866959    6.5900  \n",
       "48  0.877977    5.6000  \n",
       "49  0.882561    7.5100  \n",
       "50  0.873780    6.3900  \n",
       "51  0.865171    5.8900  \n",
       "52  0.866959    6.2400  \n",
       "53  0.877977    5.0000  \n",
       "54  0.862327    5.5700  \n",
       "55  0.862957    5.4300  \n",
       "56  0.868590    7.2500  \n",
       "57  0.877977    5.6600  \n",
       "58  0.862957    6.4300  \n",
       "59  0.877944    5.3700  "
      ]
     },
     "execution_count": 34,
     "metadata": {},
     "output_type": "execute_result"
    }
   ],
   "source": [
    "# Drug/target dataframe in the original case\n",
    "drug_targets_df_original_file_name = '../Save/final_drug_target_table.tsv'\n",
    "drug_targets_df_original = pd.read_csv(drug_targets_df_original_file_name, sep = '\\t')\n",
    "drug_targets_df_original"
   ]
  },
  {
   "cell_type": "code",
   "execution_count": 32,
   "metadata": {},
   "outputs": [
    {
     "data": {
      "image/png": "[encoded data removed]",
      "text/plain": [
       "<Figure size 432x288 with 1 Axes>"
      ]
     },
     "metadata": {},
     "output_type": "display_data"
    },
    {
     "name": "stdout",
     "output_type": "stream",
     "text": [
      "['PARP1']\n",
      "['ACVR2A', 'AURKC', 'EGFR', 'FGFR1', 'FGFR3', 'IRAK1', 'PDE4B', 'RIPK1', 'RIPK2', 'STK3']\n",
      "['BRSK1', 'CDK17', 'HDAC1', 'HSP90AA1', 'PAK1']\n"
     ]
    }
   ],
   "source": [
    "# Common gene targets\n",
    "targets_drop1 = set(drug_targets_df['name'])\n",
    "targets_original = set(drug_targets_df_original['name'])\n",
    "\n",
    "# plot Venn diagram SARS-CoV-2-Drop1 vs SARS-CoV-2\n",
    "plt.figure()\n",
    "venn2(subsets = [targets_drop1,targets_original],\n",
    "      set_labels = ('SARS-CoV-2 \\n gene targets \\n (after dropping)','SARS-CoV-2 \\n gene targets'),\n",
    "      set_colors=('r', 'g'), \n",
    "      alpha = 0.5)\n",
    "#venn2_circles(subsets = [targets_drop1,targets_a549])\n",
    "plt.savefig('../Save_drop1/venn2_drop1_sars_genes.pdf', format='pdf')\n",
    "plt.show()\n",
    "\n",
    "print(sorted(targets_drop1.difference(targets_original)))\n",
    "print(sorted(targets_drop1.intersection(targets_original)))\n",
    "print(sorted(targets_original.difference(targets_drop1)))"
   ]
  },
  {
   "cell_type": "code",
   "execution_count": 33,
   "metadata": {},
   "outputs": [
    {
     "data": {
      "image/png": "[encoded data removed]",
      "text/plain": [
       "<Figure size 432x288 with 1 Axes>"
      ]
     },
     "metadata": {},
     "output_type": "display_data"
    },
    {
     "name": "stdout",
     "output_type": "stream",
     "text": [
      "['afatinib', 'axitinib', 'belinostat', 'bosutinib', 'docetaxel', 'formoterol', 'imatinib', 'milrinone', 'primaquine', 'ruxolitinib', 'sorafenib', 'sunitinib', 'tofacitinib', 'vardenafil', 'vorinostat']\n",
      "['cisplatin', 'crizotinib', 'gefitinib', 'nilotinib', 'olaparib', 'sildenafil']\n",
      "['dasatinib', 'erlotinib', 'pazopanib']\n"
     ]
    }
   ],
   "source": [
    "# Common drugs\n",
    "drugs_drop1 = set(drug_targets_df['drug'])\n",
    "drugs_original = set(drug_targets_df_original['drug'])\n",
    "\n",
    "# plot Venn diagram SARS-CoV-2-Drop1 vs SARS-CoV-2\n",
    "plt.figure()\n",
    "venn2(subsets = [drugs_drop1,drugs_original],\n",
    "      set_labels = ('SARS-CoV-2 drugs \\n (after dropping)','SARS-CoV-2 drugs'),\n",
    "      set_colors=('r', 'g'), \n",
    "      alpha = 0.5)\n",
    "plt.savefig('../Save_drop1/venn2_drop1_sars_drugs.pdf', format='pdf')\n",
    "plt.show()\n",
    "\n",
    "a549_minus_drop1 = num_targets_df.loc[num_targets_df['drug'].isin(drugs_original.difference(drugs_drop1))]\n",
    "drop1_minus_a549 = num_targets_df.loc[num_targets_df['drug'].isin(drugs_drop1.difference(drugs_original))]\n",
    "a549_inter_drop1 = num_targets_df.loc[num_targets_df['drug'].isin(drugs_original.intersection(drugs_drop1))]\n",
    "\n",
    "print(sorted(set(a549_minus_drop1['drug'])))\n",
    "print(sorted(set(drop1_minus_a549['drug'])))\n",
    "print(sorted(set(a549_inter_drop1['drug'])))"
   ]
  },
  {
   "cell_type": "code",
   "execution_count": null,
   "metadata": {},
   "outputs": [],
   "source": []
  }
 ],
 "metadata": {
  "kernelspec": {
   "display_name": "Python 3",
   "language": "python",
   "name": "python3"
  },
  "language_info": {
   "codemirror_mode": {
    "name": "ipython",
    "version": 3
   },
   "file_extension": ".py",
   "mimetype": "text/x-python",
   "name": "python",
   "nbconvert_exporter": "python",
   "pygments_lexer": "ipython3",
   "version": "3.7.4"
  }
 },
 "nbformat": 4,
 "nbformat_minor": 2
}
