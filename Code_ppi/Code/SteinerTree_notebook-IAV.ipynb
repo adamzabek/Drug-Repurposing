{
 "cells": [
  {
   "cell_type": "markdown",
   "metadata": {},
   "source": [
    "# Imports"
   ]
  },
  {
   "cell_type": "code",
   "execution_count": 1,
   "metadata": {},
   "outputs": [],
   "source": [
    "# Import standard libraries\n",
    "import csv\n",
    "import OmicsIntegrator as oi\n",
    "import pandas as pd\n",
    "import numpy as np\n",
    "import scipy.stats as ss\n",
    "import networkx as nx\n",
    "import matplotlib.pyplot as plt\n",
    "from matplotlib_venn import venn2, venn2_circles, venn3, venn3_circles\n",
    "import pickle\n",
    "import tqdm\n",
    "import time\n",
    "\n",
    "# Import custom libraries\n",
    "import drugs2\n",
    "import prizes\n",
    "import sensitivity_analysis as sensitivity\n",
    "import sensitivity_sarspartners as svp\n",
    "import neighborhoods as nbh"
   ]
  },
  {
   "cell_type": "markdown",
   "metadata": {},
   "source": [
    "# Create prized list"
   ]
  },
  {
   "cell_type": "markdown",
   "metadata": {},
   "source": [
    "## Select IAV differentially expressed genes (with aging information)"
   ]
  },
  {
   "cell_type": "code",
   "execution_count": 2,
   "metadata": {},
   "outputs": [],
   "source": [
    "# Load IAV DE genes data\n",
    "iav_de_genes_file_name = '../Data/iav_genes.csv'\n",
    "iav_genes_df = pd.read_csv(iav_de_genes_file_name)"
   ]
  },
  {
   "cell_type": "code",
   "execution_count": 3,
   "metadata": {},
   "outputs": [],
   "source": [
    "# Minor reformatting\n",
    "iav_genes_df.columns = ['name','log2FC_blanco','log2FC_ageing']\n",
    "iav_genes_df = iav_genes_df.replace([np.inf, -np.inf], np.nan)\n",
    "iav_genes_df = iav_genes_df.dropna(subset = ['log2FC_blanco','log2FC_ageing'], how='any')\n",
    "iav_genes_df['name'] = iav_genes_df['name'].str.upper().str.strip()"
   ]
  },
  {
   "cell_type": "code",
   "execution_count": 4,
   "metadata": {},
   "outputs": [
    {
     "data": {
      "text/html": [
       "<div>\n",
       "<style scoped>\n",
       "    .dataframe tbody tr th:only-of-type {\n",
       "        vertical-align: middle;\n",
       "    }\n",
       "\n",
       "    .dataframe tbody tr th {\n",
       "        vertical-align: top;\n",
       "    }\n",
       "\n",
       "    .dataframe thead th {\n",
       "        text-align: right;\n",
       "    }\n",
       "</style>\n",
       "<table border=\"1\" class=\"dataframe\">\n",
       "  <thead>\n",
       "    <tr style=\"text-align: right;\">\n",
       "      <th></th>\n",
       "      <th>name</th>\n",
       "      <th>log2FC_blanco</th>\n",
       "      <th>log2FC_ageing</th>\n",
       "    </tr>\n",
       "  </thead>\n",
       "  <tbody>\n",
       "    <tr>\n",
       "      <th>0</th>\n",
       "      <td>LGALSL</td>\n",
       "      <td>0.620998</td>\n",
       "      <td>-0.408896</td>\n",
       "    </tr>\n",
       "    <tr>\n",
       "      <th>1</th>\n",
       "      <td>OPLAH</td>\n",
       "      <td>-0.907798</td>\n",
       "      <td>-0.471161</td>\n",
       "    </tr>\n",
       "    <tr>\n",
       "      <th>2</th>\n",
       "      <td>CACFD1</td>\n",
       "      <td>-1.130321</td>\n",
       "      <td>-0.395812</td>\n",
       "    </tr>\n",
       "    <tr>\n",
       "      <th>3</th>\n",
       "      <td>TMEM47</td>\n",
       "      <td>0.718699</td>\n",
       "      <td>0.530680</td>\n",
       "    </tr>\n",
       "    <tr>\n",
       "      <th>4</th>\n",
       "      <td>LTV1</td>\n",
       "      <td>0.562816</td>\n",
       "      <td>-0.486289</td>\n",
       "    </tr>\n",
       "  </tbody>\n",
       "</table>\n",
       "</div>"
      ],
      "text/plain": [
       "     name  log2FC_blanco  log2FC_ageing\n",
       "0  LGALSL       0.620998      -0.408896\n",
       "1   OPLAH      -0.907798      -0.471161\n",
       "2  CACFD1      -1.130321      -0.395812\n",
       "3  TMEM47       0.718699       0.530680\n",
       "4    LTV1       0.562816      -0.486289"
      ]
     },
     "execution_count": 4,
     "metadata": {},
     "output_type": "execute_result"
    }
   ],
   "source": [
    "# Keep only protein coding genes\n",
    "protein_coding_genes_file_name = '../Data/protein_coding_ensembl_gene_id_hgnc_hg19.txt'\n",
    "coding_genes = prizes.load_protein_coding_genes(protein_coding_genes_file_name)\n",
    "iav_genes_df = iav_genes_df.merge(coding_genes, on = 'name', how = 'inner')\n",
    "iav_genes_df.head()"
   ]
  },
  {
   "cell_type": "markdown",
   "metadata": {},
   "source": [
    "## Create final prized list"
   ]
  },
  {
   "cell_type": "code",
   "execution_count": 5,
   "metadata": {},
   "outputs": [
    {
     "name": "stdout",
     "output_type": "stream",
     "text": [
      "138\n"
     ]
    },
    {
     "data": {
      "text/html": [
       "<div>\n",
       "<style scoped>\n",
       "    .dataframe tbody tr th:only-of-type {\n",
       "        vertical-align: middle;\n",
       "    }\n",
       "\n",
       "    .dataframe tbody tr th {\n",
       "        vertical-align: top;\n",
       "    }\n",
       "\n",
       "    .dataframe thead th {\n",
       "        text-align: right;\n",
       "    }\n",
       "</style>\n",
       "<table border=\"1\" class=\"dataframe\">\n",
       "  <thead>\n",
       "    <tr style=\"text-align: right;\">\n",
       "      <th></th>\n",
       "      <th>name</th>\n",
       "      <th>prize</th>\n",
       "      <th>log2FC_blanco</th>\n",
       "      <th>log2FC_ageing</th>\n",
       "    </tr>\n",
       "  </thead>\n",
       "  <tbody>\n",
       "    <tr>\n",
       "      <th>1</th>\n",
       "      <td>OPLAH</td>\n",
       "      <td>0.907798</td>\n",
       "      <td>-0.907798</td>\n",
       "      <td>-0.471161</td>\n",
       "    </tr>\n",
       "    <tr>\n",
       "      <th>2</th>\n",
       "      <td>CACFD1</td>\n",
       "      <td>1.130321</td>\n",
       "      <td>-1.130321</td>\n",
       "      <td>-0.395812</td>\n",
       "    </tr>\n",
       "    <tr>\n",
       "      <th>3</th>\n",
       "      <td>TMEM47</td>\n",
       "      <td>0.718699</td>\n",
       "      <td>0.718699</td>\n",
       "      <td>0.530680</td>\n",
       "    </tr>\n",
       "    <tr>\n",
       "      <th>6</th>\n",
       "      <td>SCAMP4</td>\n",
       "      <td>0.595062</td>\n",
       "      <td>-0.595062</td>\n",
       "      <td>-0.367592</td>\n",
       "    </tr>\n",
       "    <tr>\n",
       "      <th>8</th>\n",
       "      <td>HIST1H1D</td>\n",
       "      <td>2.004474</td>\n",
       "      <td>2.004474</td>\n",
       "      <td>0.836513</td>\n",
       "    </tr>\n",
       "  </tbody>\n",
       "</table>\n",
       "</div>"
      ],
      "text/plain": [
       "       name     prize  log2FC_blanco  log2FC_ageing\n",
       "1     OPLAH  0.907798      -0.907798      -0.471161\n",
       "2    CACFD1  1.130321      -1.130321      -0.395812\n",
       "3    TMEM47  0.718699       0.718699       0.530680\n",
       "6    SCAMP4  0.595062      -0.595062      -0.367592\n",
       "8  HIST1H1D  2.004474       2.004474       0.836513"
      ]
     },
     "execution_count": 5,
     "metadata": {},
     "output_type": "execute_result"
    }
   ],
   "source": [
    "terminal_df = iav_genes_df\n",
    "terminal_df = terminal_df.loc[terminal_df['log2FC_blanco']*terminal_df['log2FC_ageing']>0]\n",
    "terminal_df.insert(1,'prize', np.abs(terminal_df['log2FC_blanco']))\n",
    "print(len(terminal_df))\n",
    "terminal_df.head()"
   ]
  },
  {
   "cell_type": "code",
   "execution_count": 6,
   "metadata": {},
   "outputs": [],
   "source": [
    "# Save terminal df to tsv\n",
    "terminal_df.to_csv(r'../Save_iav/terminals_ppi_analysis.tsv', header=True, index=None, sep='\\t', quoting = csv.QUOTE_NONE, escapechar = '\\t')"
   ]
  },
  {
   "cell_type": "markdown",
   "metadata": {},
   "source": [
    "# Prepare the sentivity analysis for Stein tree parameters"
   ]
  },
  {
   "cell_type": "markdown",
   "metadata": {},
   "source": [
    "## W range"
   ]
  },
  {
   "cell_type": "code",
   "execution_count": 7,
   "metadata": {},
   "outputs": [],
   "source": [
    "# Load prizes data\n",
    "prizes_data = terminal_df\n",
    "terminals = list(prizes_data['name'])\n",
    "n_terminals = len(terminals)"
   ]
  },
  {
   "cell_type": "code",
   "execution_count": 8,
   "metadata": {},
   "outputs": [],
   "source": [
    "# Load IREF interactome\n",
    "interactome_file = \"../Data/iRefIndex_v14_MIScore_interactome_C9.costs.allcaps.txt\"\n",
    "graph = oi.Graph(interactome_file)"
   ]
  },
  {
   "cell_type": "code",
   "execution_count": 59,
   "metadata": {},
   "outputs": [
    {
     "name": "stderr",
     "output_type": "stream",
     "text": [
      "100%|██████████| 162/162 [38:54<00:00, 14.41s/it] \n"
     ]
    }
   ],
   "source": [
    "# Distribution of cheapest path between any two terminals without penalty (g=-\\infty)\n",
    "network = graph.interactome_graph\n",
    "shortest_dist_mat = np.zeros(shape = (n_terminals,n_terminals))\n",
    "for ix_prot1 in tqdm.tqdm(np.arange(n_terminals)):\n",
    "    time.sleep(0.01)\n",
    "    for ix_prot2 in np.arange(ix_prot1+1, n_terminals, 1):\n",
    "        shortest_dist_mat[ix_prot1,ix_prot2] = nx.dijkstra_path_length(network,\n",
    "                                                                       source = terminals[ix_prot1],\n",
    "                                                                       target = terminals[ix_prot2],\n",
    "                                                                       weight = 'cost')\n",
    "        shortest_dist_mat[ix_prot2,ix_prot2] = shortest_dist_mat[ix_prot1,ix_prot2]"
   ]
  },
  {
   "cell_type": "code",
   "execution_count": 63,
   "metadata": {},
   "outputs": [
    {
     "data": {
      "text/plain": [
       "<matplotlib.colorbar.Colorbar at 0x7f1b9fb11f50>"
      ]
     },
     "execution_count": 63,
     "metadata": {},
     "output_type": "execute_result"
    },
    {
     "data": {
      "image/png": "[encoded data removed]",
      "text/plain": [
       "<Figure size 288x288 with 2 Axes>"
      ]
     },
     "metadata": {
      "needs_background": "light"
     },
     "output_type": "display_data"
    }
   ],
   "source": [
    "# Plot heatmap of cheapest path\n",
    "plt.matshow(np.transpose(shortest_dist_mat))\n",
    "plt.xlabel('terminals')\n",
    "plt.ylabel('terminals')\n",
    "plt.colorbar()"
   ]
  },
  {
   "cell_type": "code",
   "execution_count": 64,
   "metadata": {},
   "outputs": [
    {
     "data": {
      "text/plain": [
       "Text(0, 0.5, 'Number of pairs of terminals')"
      ]
     },
     "execution_count": 64,
     "metadata": {},
     "output_type": "execute_result"
    },
    {
     "data": {
      "image/png": "[encoded data removed]",
      "text/plain": [
       "<Figure size 432x288 with 1 Axes>"
      ]
     },
     "metadata": {
      "needs_background": "light"
     },
     "output_type": "display_data"
    }
   ],
   "source": [
    "# Plot histogram of cheapest path\n",
    "plt.subplot(1,2,1)\n",
    "flat_mat = shortest_dist_mat[np.triu_indices(n_terminals, k=1)]\n",
    "plt.hist(flat_mat,40)\n",
    "plt.xlabel('Cost of shortest path between two terminals')\n",
    "plt.ylabel('Number of pairs of terminals')"
   ]
  },
  {
   "cell_type": "markdown",
   "metadata": {},
   "source": [
    "## G range"
   ]
  },
  {
   "cell_type": "code",
   "execution_count": 9,
   "metadata": {},
   "outputs": [],
   "source": [
    "# Create a dictionary containing edge costs under several choices of g\n",
    "g_range = [0,1,2,3,4,5]\n",
    "edge_costs_dict={'g = -Inf': graph.edge_costs}\n",
    "for g in g_range:\n",
    "    params = {\"w\": 0, \"b\": 1, \"g\": g, \"edge_noise\": 0, \"dummy_mode\": \"terminals\", \"seed\": 0, \"skip_checks\": False}\n",
    "    graph._reset_hyperparameters(params)\n",
    "    edge_costs_dict['g='+str(g)] = graph.costs\n",
    "edge_costs_df = pd.DataFrame(data = edge_costs_dict)"
   ]
  },
  {
   "cell_type": "code",
   "execution_count": 10,
   "metadata": {},
   "outputs": [
    {
     "data": {
      "image/png": "[encoded data removed]",
      "text/plain": [
       "<Figure size 432x288 with 1 Axes>"
      ]
     },
     "metadata": {
      "needs_background": "light"
     },
     "output_type": "display_data"
    }
   ],
   "source": [
    "# Boxplot of edge costs under several choices of g\n",
    "plt.figure()\n",
    "edge_costs_df.boxplot()\n",
    "plt.yscale('log')\n",
    "plt.ylabel('penalized edge cost')\n",
    "plt.title('Boxplots of penalized edge costs in IREF for different values of g')\n",
    "plt.show()"
   ]
  },
  {
   "cell_type": "markdown",
   "metadata": {},
   "source": [
    "## B range"
   ]
  },
  {
   "cell_type": "code",
   "execution_count": 11,
   "metadata": {
    "scrolled": true
   },
   "outputs": [
    {
     "data": {
      "text/html": [
       "<div>\n",
       "<style scoped>\n",
       "    .dataframe tbody tr th:only-of-type {\n",
       "        vertical-align: middle;\n",
       "    }\n",
       "\n",
       "    .dataframe tbody tr th {\n",
       "        vertical-align: top;\n",
       "    }\n",
       "\n",
       "    .dataframe thead th {\n",
       "        text-align: right;\n",
       "    }\n",
       "</style>\n",
       "<table border=\"1\" class=\"dataframe\">\n",
       "  <thead>\n",
       "    <tr style=\"text-align: right;\">\n",
       "      <th></th>\n",
       "      <th>max_penalized_edge_cost</th>\n",
       "    </tr>\n",
       "  </thead>\n",
       "  <tbody>\n",
       "    <tr>\n",
       "      <th>g = -Inf</th>\n",
       "      <td>0.859220</td>\n",
       "    </tr>\n",
       "    <tr>\n",
       "      <th>g=0</th>\n",
       "      <td>0.860892</td>\n",
       "    </tr>\n",
       "    <tr>\n",
       "      <th>g=1</th>\n",
       "      <td>2.015303</td>\n",
       "    </tr>\n",
       "    <tr>\n",
       "      <th>g=2</th>\n",
       "      <td>19.487738</td>\n",
       "    </tr>\n",
       "    <tr>\n",
       "      <th>g=3</th>\n",
       "      <td>194.212079</td>\n",
       "    </tr>\n",
       "    <tr>\n",
       "      <th>g=4</th>\n",
       "      <td>1941.455488</td>\n",
       "    </tr>\n",
       "    <tr>\n",
       "      <th>g=5</th>\n",
       "      <td>19413.889586</td>\n",
       "    </tr>\n",
       "  </tbody>\n",
       "</table>\n",
       "</div>"
      ],
      "text/plain": [
       "          max_penalized_edge_cost\n",
       "g = -Inf                 0.859220\n",
       "g=0                      0.860892\n",
       "g=1                      2.015303\n",
       "g=2                     19.487738\n",
       "g=3                    194.212079\n",
       "g=4                   1941.455488\n",
       "g=5                  19413.889586"
      ]
     },
     "execution_count": 11,
     "metadata": {},
     "output_type": "execute_result"
    }
   ],
   "source": [
    "# For a range of g, compute the maximum penalized edge cost\n",
    "g_range = [0,1,2,3,4,5]\n",
    "max_penalized_edge_cost = pd.DataFrame(edge_costs_df.max())\n",
    "max_penalized_edge_cost.columns=['max_penalized_edge_cost']\n",
    "max_penalized_edge_cost"
   ]
  },
  {
   "cell_type": "markdown",
   "metadata": {},
   "source": [
    "# Sensitivity analysis for Steiner tree parameters"
   ]
  },
  {
   "cell_type": "markdown",
   "metadata": {},
   "source": [
    "## Run sensitivity analysis"
   ]
  },
  {
   "cell_type": "code",
   "execution_count": 12,
   "metadata": {},
   "outputs": [],
   "source": [
    "# Load set of virus interacting genes from Gordon et al.\n",
    "virus_partners_file_name = \"../Data/SARSCov_targets_df.tsv\"\n",
    "virus_interacting_genes = sensitivity.import_virus_partners(virus_partners_file_name)"
   ]
  },
  {
   "cell_type": "code",
   "execution_count": 13,
   "metadata": {},
   "outputs": [],
   "source": [
    "# Parameters for sensitivity analysis\n",
    "interactome_file_name = \"../Data/iRefIndex_v14_MIScore_interactome_C9.costs.allcaps.txt\"\n",
    "prize_file_name = \"../Save_iav/terminals_ppi_analysis.tsv\"\n",
    "# Graph hyperparameters\n",
    "graph_params =  {\n",
    "                \"noise\": 0.0, \n",
    "                \"dummy_mode\": \"terminals\", \n",
    "                \"exclude_terminals\": False, \n",
    "                \"seed\": 1,\n",
    "                \"pruning\": 'strong',\n",
    "                \"verbosity_level\": 0\n",
    "                }\n",
    "# Set sweeping parameters, i.e. configurations (w,b,g)\n",
    "W_list = np.linspace(start = 0.2, stop = 2, num = 10)\n",
    "B_list = np.array([5., 10., 15., 20., 25., 30., 35., 40., 45., 50.])"
   ]
  },
  {
   "cell_type": "code",
   "execution_count": 18,
   "metadata": {
    "scrolled": true
   },
   "outputs": [
    {
     "name": "stderr",
     "output_type": "stream",
     "text": [
      "10:49:38 - OI2: INFO - Duplicated gene symbols in the prize file (we'll keep the max prize):\n",
      "10:49:38 - OI2: INFO - []\n",
      "10:49:38 - OI2: INFO - Members of the prize file not present in the interactome:\n",
      "10:49:38 - OI2: INFO - ['ARSD', 'C19ORF48', 'C5ORF38', 'GOLT1A', 'HIST1H2BC', 'IRX3', 'PDF', 'SLC35C1', 'TM4SF18', 'TMEM238', 'TMEM47', 'UAP1L1', 'UFSP1', 'ZNF654']\n"
     ]
    },
    {
     "name": "stdout",
     "output_type": "stream",
     "text": [
      "Progress= 0.01\n"
     ]
    },
    {
     "name": "stderr",
     "output_type": "stream",
     "text": [
      "10:49:39 - OI2: INFO - Duplicated gene symbols in the prize file (we'll keep the max prize):\n",
      "10:49:39 - OI2: INFO - []\n",
      "10:49:39 - OI2: INFO - Members of the prize file not present in the interactome:\n",
      "10:49:39 - OI2: INFO - ['ARSD', 'C19ORF48', 'C5ORF38', 'GOLT1A', 'HIST1H2BC', 'IRX3', 'PDF', 'SLC35C1', 'TM4SF18', 'TMEM238', 'TMEM47', 'UAP1L1', 'UFSP1', 'ZNF654']\n"
     ]
    },
    {
     "name": "stdout",
     "output_type": "stream",
     "text": [
      "Progress= 0.02\n"
     ]
    },
    {
     "name": "stderr",
     "output_type": "stream",
     "text": [
      "10:49:40 - OI2: INFO - Duplicated gene symbols in the prize file (we'll keep the max prize):\n",
      "10:49:40 - OI2: INFO - []\n",
      "10:49:40 - OI2: INFO - Members of the prize file not present in the interactome:\n",
      "10:49:40 - OI2: INFO - ['ARSD', 'C19ORF48', 'C5ORF38', 'GOLT1A', 'HIST1H2BC', 'IRX3', 'PDF', 'SLC35C1', 'TM4SF18', 'TMEM238', 'TMEM47', 'UAP1L1', 'UFSP1', 'ZNF654']\n"
     ]
    },
    {
     "name": "stdout",
     "output_type": "stream",
     "text": [
      "Progress= 0.03\n"
     ]
    },
    {
     "name": "stderr",
     "output_type": "stream",
     "text": [
      "10:49:40 - OI2: INFO - Duplicated gene symbols in the prize file (we'll keep the max prize):\n",
      "10:49:40 - OI2: INFO - []\n",
      "10:49:40 - OI2: INFO - Members of the prize file not present in the interactome:\n",
      "10:49:40 - OI2: INFO - ['ARSD', 'C19ORF48', 'C5ORF38', 'GOLT1A', 'HIST1H2BC', 'IRX3', 'PDF', 'SLC35C1', 'TM4SF18', 'TMEM238', 'TMEM47', 'UAP1L1', 'UFSP1', 'ZNF654']\n"
     ]
    },
    {
     "name": "stdout",
     "output_type": "stream",
     "text": [
      "Progress= 0.04\n"
     ]
    },
    {
     "name": "stderr",
     "output_type": "stream",
     "text": [
      "10:49:41 - OI2: INFO - Duplicated gene symbols in the prize file (we'll keep the max prize):\n",
      "10:49:41 - OI2: INFO - []\n",
      "10:49:41 - OI2: INFO - Members of the prize file not present in the interactome:\n",
      "10:49:41 - OI2: INFO - ['ARSD', 'C19ORF48', 'C5ORF38', 'GOLT1A', 'HIST1H2BC', 'IRX3', 'PDF', 'SLC35C1', 'TM4SF18', 'TMEM238', 'TMEM47', 'UAP1L1', 'UFSP1', 'ZNF654']\n"
     ]
    },
    {
     "name": "stdout",
     "output_type": "stream",
     "text": [
      "Progress= 0.05\n"
     ]
    },
    {
     "name": "stderr",
     "output_type": "stream",
     "text": [
      "10:49:42 - OI2: INFO - Duplicated gene symbols in the prize file (we'll keep the max prize):\n",
      "10:49:42 - OI2: INFO - []\n",
      "10:49:42 - OI2: INFO - Members of the prize file not present in the interactome:\n",
      "10:49:42 - OI2: INFO - ['ARSD', 'C19ORF48', 'C5ORF38', 'GOLT1A', 'HIST1H2BC', 'IRX3', 'PDF', 'SLC35C1', 'TM4SF18', 'TMEM238', 'TMEM47', 'UAP1L1', 'UFSP1', 'ZNF654']\n"
     ]
    },
    {
     "name": "stdout",
     "output_type": "stream",
     "text": [
      "Progress= 0.06\n"
     ]
    },
    {
     "name": "stderr",
     "output_type": "stream",
     "text": [
      "10:49:43 - OI2: INFO - Duplicated gene symbols in the prize file (we'll keep the max prize):\n",
      "10:49:43 - OI2: INFO - []\n",
      "10:49:43 - OI2: INFO - Members of the prize file not present in the interactome:\n",
      "10:49:43 - OI2: INFO - ['ARSD', 'C19ORF48', 'C5ORF38', 'GOLT1A', 'HIST1H2BC', 'IRX3', 'PDF', 'SLC35C1', 'TM4SF18', 'TMEM238', 'TMEM47', 'UAP1L1', 'UFSP1', 'ZNF654']\n"
     ]
    },
    {
     "name": "stdout",
     "output_type": "stream",
     "text": [
      "Progress= 0.07\n"
     ]
    },
    {
     "name": "stderr",
     "output_type": "stream",
     "text": [
      "10:49:44 - OI2: INFO - Duplicated gene symbols in the prize file (we'll keep the max prize):\n",
      "10:49:44 - OI2: INFO - []\n",
      "10:49:44 - OI2: INFO - Members of the prize file not present in the interactome:\n",
      "10:49:44 - OI2: INFO - ['ARSD', 'C19ORF48', 'C5ORF38', 'GOLT1A', 'HIST1H2BC', 'IRX3', 'PDF', 'SLC35C1', 'TM4SF18', 'TMEM238', 'TMEM47', 'UAP1L1', 'UFSP1', 'ZNF654']\n"
     ]
    },
    {
     "name": "stdout",
     "output_type": "stream",
     "text": [
      "Progress= 0.08\n"
     ]
    },
    {
     "name": "stderr",
     "output_type": "stream",
     "text": [
      "10:49:45 - OI2: INFO - Duplicated gene symbols in the prize file (we'll keep the max prize):\n",
      "10:49:45 - OI2: INFO - []\n",
      "10:49:45 - OI2: INFO - Members of the prize file not present in the interactome:\n",
      "10:49:45 - OI2: INFO - ['ARSD', 'C19ORF48', 'C5ORF38', 'GOLT1A', 'HIST1H2BC', 'IRX3', 'PDF', 'SLC35C1', 'TM4SF18', 'TMEM238', 'TMEM47', 'UAP1L1', 'UFSP1', 'ZNF654']\n"
     ]
    },
    {
     "name": "stdout",
     "output_type": "stream",
     "text": [
      "Progress= 0.09\n"
     ]
    },
    {
     "name": "stderr",
     "output_type": "stream",
     "text": [
      "10:49:46 - OI2: INFO - Duplicated gene symbols in the prize file (we'll keep the max prize):\n",
      "10:49:46 - OI2: INFO - []\n",
      "10:49:46 - OI2: INFO - Members of the prize file not present in the interactome:\n",
      "10:49:46 - OI2: INFO - ['ARSD', 'C19ORF48', 'C5ORF38', 'GOLT1A', 'HIST1H2BC', 'IRX3', 'PDF', 'SLC35C1', 'TM4SF18', 'TMEM238', 'TMEM47', 'UAP1L1', 'UFSP1', 'ZNF654']\n"
     ]
    },
    {
     "name": "stdout",
     "output_type": "stream",
     "text": [
      "Progress= 0.1\n"
     ]
    },
    {
     "name": "stderr",
     "output_type": "stream",
     "text": [
      "10:49:47 - OI2: INFO - Duplicated gene symbols in the prize file (we'll keep the max prize):\n",
      "10:49:47 - OI2: INFO - []\n",
      "10:49:47 - OI2: INFO - Members of the prize file not present in the interactome:\n",
      "10:49:47 - OI2: INFO - ['ARSD', 'C19ORF48', 'C5ORF38', 'GOLT1A', 'HIST1H2BC', 'IRX3', 'PDF', 'SLC35C1', 'TM4SF18', 'TMEM238', 'TMEM47', 'UAP1L1', 'UFSP1', 'ZNF654']\n"
     ]
    },
    {
     "name": "stdout",
     "output_type": "stream",
     "text": [
      "Progress= 0.11\n"
     ]
    },
    {
     "name": "stderr",
     "output_type": "stream",
     "text": [
      "10:49:48 - OI2: INFO - Duplicated gene symbols in the prize file (we'll keep the max prize):\n",
      "10:49:48 - OI2: INFO - []\n",
      "10:49:48 - OI2: INFO - Members of the prize file not present in the interactome:\n",
      "10:49:48 - OI2: INFO - ['ARSD', 'C19ORF48', 'C5ORF38', 'GOLT1A', 'HIST1H2BC', 'IRX3', 'PDF', 'SLC35C1', 'TM4SF18', 'TMEM238', 'TMEM47', 'UAP1L1', 'UFSP1', 'ZNF654']\n"
     ]
    },
    {
     "name": "stdout",
     "output_type": "stream",
     "text": [
      "Progress= 0.12\n"
     ]
    },
    {
     "name": "stderr",
     "output_type": "stream",
     "text": [
      "10:49:49 - OI2: INFO - Duplicated gene symbols in the prize file (we'll keep the max prize):\n",
      "10:49:49 - OI2: INFO - []\n",
      "10:49:49 - OI2: INFO - Members of the prize file not present in the interactome:\n",
      "10:49:49 - OI2: INFO - ['ARSD', 'C19ORF48', 'C5ORF38', 'GOLT1A', 'HIST1H2BC', 'IRX3', 'PDF', 'SLC35C1', 'TM4SF18', 'TMEM238', 'TMEM47', 'UAP1L1', 'UFSP1', 'ZNF654']\n"
     ]
    },
    {
     "name": "stdout",
     "output_type": "stream",
     "text": [
      "Progress= 0.13\n"
     ]
    },
    {
     "name": "stderr",
     "output_type": "stream",
     "text": [
      "10:49:50 - OI2: INFO - Duplicated gene symbols in the prize file (we'll keep the max prize):\n",
      "10:49:50 - OI2: INFO - []\n",
      "10:49:50 - OI2: INFO - Members of the prize file not present in the interactome:\n",
      "10:49:50 - OI2: INFO - ['ARSD', 'C19ORF48', 'C5ORF38', 'GOLT1A', 'HIST1H2BC', 'IRX3', 'PDF', 'SLC35C1', 'TM4SF18', 'TMEM238', 'TMEM47', 'UAP1L1', 'UFSP1', 'ZNF654']\n"
     ]
    },
    {
     "name": "stdout",
     "output_type": "stream",
     "text": [
      "Progress= 0.14\n"
     ]
    },
    {
     "name": "stderr",
     "output_type": "stream",
     "text": [
      "10:49:51 - OI2: INFO - Duplicated gene symbols in the prize file (we'll keep the max prize):\n",
      "10:49:51 - OI2: INFO - []\n",
      "10:49:51 - OI2: INFO - Members of the prize file not present in the interactome:\n",
      "10:49:51 - OI2: INFO - ['ARSD', 'C19ORF48', 'C5ORF38', 'GOLT1A', 'HIST1H2BC', 'IRX3', 'PDF', 'SLC35C1', 'TM4SF18', 'TMEM238', 'TMEM47', 'UAP1L1', 'UFSP1', 'ZNF654']\n"
     ]
    },
    {
     "name": "stdout",
     "output_type": "stream",
     "text": [
      "Progress= 0.15\n"
     ]
    },
    {
     "name": "stderr",
     "output_type": "stream",
     "text": [
      "10:49:52 - OI2: INFO - Duplicated gene symbols in the prize file (we'll keep the max prize):\n",
      "10:49:52 - OI2: INFO - []\n",
      "10:49:52 - OI2: INFO - Members of the prize file not present in the interactome:\n",
      "10:49:52 - OI2: INFO - ['ARSD', 'C19ORF48', 'C5ORF38', 'GOLT1A', 'HIST1H2BC', 'IRX3', 'PDF', 'SLC35C1', 'TM4SF18', 'TMEM238', 'TMEM47', 'UAP1L1', 'UFSP1', 'ZNF654']\n"
     ]
    },
    {
     "name": "stdout",
     "output_type": "stream",
     "text": [
      "Progress= 0.16\n"
     ]
    },
    {
     "name": "stderr",
     "output_type": "stream",
     "text": [
      "10:49:53 - OI2: INFO - Duplicated gene symbols in the prize file (we'll keep the max prize):\n",
      "10:49:53 - OI2: INFO - []\n",
      "10:49:53 - OI2: INFO - Members of the prize file not present in the interactome:\n",
      "10:49:53 - OI2: INFO - ['ARSD', 'C19ORF48', 'C5ORF38', 'GOLT1A', 'HIST1H2BC', 'IRX3', 'PDF', 'SLC35C1', 'TM4SF18', 'TMEM238', 'TMEM47', 'UAP1L1', 'UFSP1', 'ZNF654']\n"
     ]
    },
    {
     "name": "stdout",
     "output_type": "stream",
     "text": [
      "Progress= 0.17\n"
     ]
    },
    {
     "name": "stderr",
     "output_type": "stream",
     "text": [
      "10:49:54 - OI2: INFO - Duplicated gene symbols in the prize file (we'll keep the max prize):\n",
      "10:49:54 - OI2: INFO - []\n",
      "10:49:54 - OI2: INFO - Members of the prize file not present in the interactome:\n",
      "10:49:54 - OI2: INFO - ['ARSD', 'C19ORF48', 'C5ORF38', 'GOLT1A', 'HIST1H2BC', 'IRX3', 'PDF', 'SLC35C1', 'TM4SF18', 'TMEM238', 'TMEM47', 'UAP1L1', 'UFSP1', 'ZNF654']\n"
     ]
    },
    {
     "name": "stdout",
     "output_type": "stream",
     "text": [
      "Progress= 0.18\n"
     ]
    },
    {
     "name": "stderr",
     "output_type": "stream",
     "text": [
      "10:49:55 - OI2: INFO - Duplicated gene symbols in the prize file (we'll keep the max prize):\n",
      "10:49:55 - OI2: INFO - []\n",
      "10:49:55 - OI2: INFO - Members of the prize file not present in the interactome:\n",
      "10:49:55 - OI2: INFO - ['ARSD', 'C19ORF48', 'C5ORF38', 'GOLT1A', 'HIST1H2BC', 'IRX3', 'PDF', 'SLC35C1', 'TM4SF18', 'TMEM238', 'TMEM47', 'UAP1L1', 'UFSP1', 'ZNF654']\n"
     ]
    },
    {
     "name": "stdout",
     "output_type": "stream",
     "text": [
      "Progress= 0.19\n"
     ]
    },
    {
     "name": "stderr",
     "output_type": "stream",
     "text": [
      "10:49:56 - OI2: INFO - Duplicated gene symbols in the prize file (we'll keep the max prize):\n",
      "10:49:56 - OI2: INFO - []\n",
      "10:49:56 - OI2: INFO - Members of the prize file not present in the interactome:\n",
      "10:49:56 - OI2: INFO - ['ARSD', 'C19ORF48', 'C5ORF38', 'GOLT1A', 'HIST1H2BC', 'IRX3', 'PDF', 'SLC35C1', 'TM4SF18', 'TMEM238', 'TMEM47', 'UAP1L1', 'UFSP1', 'ZNF654']\n"
     ]
    },
    {
     "name": "stdout",
     "output_type": "stream",
     "text": [
      "Progress= 0.2\n"
     ]
    },
    {
     "name": "stderr",
     "output_type": "stream",
     "text": [
      "10:49:57 - OI2: INFO - Duplicated gene symbols in the prize file (we'll keep the max prize):\n",
      "10:49:57 - OI2: INFO - []\n",
      "10:49:57 - OI2: INFO - Members of the prize file not present in the interactome:\n",
      "10:49:57 - OI2: INFO - ['ARSD', 'C19ORF48', 'C5ORF38', 'GOLT1A', 'HIST1H2BC', 'IRX3', 'PDF', 'SLC35C1', 'TM4SF18', 'TMEM238', 'TMEM47', 'UAP1L1', 'UFSP1', 'ZNF654']\n"
     ]
    },
    {
     "name": "stdout",
     "output_type": "stream",
     "text": [
      "Progress= 0.21\n"
     ]
    },
    {
     "name": "stderr",
     "output_type": "stream",
     "text": [
      "10:49:59 - OI2: INFO - Duplicated gene symbols in the prize file (we'll keep the max prize):\n",
      "10:49:59 - OI2: INFO - []\n",
      "10:49:59 - OI2: INFO - Members of the prize file not present in the interactome:\n",
      "10:49:59 - OI2: INFO - ['ARSD', 'C19ORF48', 'C5ORF38', 'GOLT1A', 'HIST1H2BC', 'IRX3', 'PDF', 'SLC35C1', 'TM4SF18', 'TMEM238', 'TMEM47', 'UAP1L1', 'UFSP1', 'ZNF654']\n"
     ]
    },
    {
     "name": "stdout",
     "output_type": "stream",
     "text": [
      "Progress= 0.22\n"
     ]
    },
    {
     "name": "stderr",
     "output_type": "stream",
     "text": [
      "10:50:00 - OI2: INFO - Duplicated gene symbols in the prize file (we'll keep the max prize):\n",
      "10:50:00 - OI2: INFO - []\n",
      "10:50:00 - OI2: INFO - Members of the prize file not present in the interactome:\n",
      "10:50:00 - OI2: INFO - ['ARSD', 'C19ORF48', 'C5ORF38', 'GOLT1A', 'HIST1H2BC', 'IRX3', 'PDF', 'SLC35C1', 'TM4SF18', 'TMEM238', 'TMEM47', 'UAP1L1', 'UFSP1', 'ZNF654']\n"
     ]
    },
    {
     "name": "stdout",
     "output_type": "stream",
     "text": [
      "Progress= 0.23\n"
     ]
    },
    {
     "name": "stderr",
     "output_type": "stream",
     "text": [
      "10:50:01 - OI2: INFO - Duplicated gene symbols in the prize file (we'll keep the max prize):\n",
      "10:50:01 - OI2: INFO - []\n",
      "10:50:01 - OI2: INFO - Members of the prize file not present in the interactome:\n",
      "10:50:01 - OI2: INFO - ['ARSD', 'C19ORF48', 'C5ORF38', 'GOLT1A', 'HIST1H2BC', 'IRX3', 'PDF', 'SLC35C1', 'TM4SF18', 'TMEM238', 'TMEM47', 'UAP1L1', 'UFSP1', 'ZNF654']\n"
     ]
    },
    {
     "name": "stdout",
     "output_type": "stream",
     "text": [
      "Progress= 0.24\n"
     ]
    },
    {
     "name": "stderr",
     "output_type": "stream",
     "text": [
      "10:50:02 - OI2: INFO - Duplicated gene symbols in the prize file (we'll keep the max prize):\n",
      "10:50:02 - OI2: INFO - []\n",
      "10:50:02 - OI2: INFO - Members of the prize file not present in the interactome:\n",
      "10:50:02 - OI2: INFO - ['ARSD', 'C19ORF48', 'C5ORF38', 'GOLT1A', 'HIST1H2BC', 'IRX3', 'PDF', 'SLC35C1', 'TM4SF18', 'TMEM238', 'TMEM47', 'UAP1L1', 'UFSP1', 'ZNF654']\n"
     ]
    },
    {
     "name": "stdout",
     "output_type": "stream",
     "text": [
      "Progress= 0.25\n"
     ]
    },
    {
     "name": "stderr",
     "output_type": "stream",
     "text": [
      "10:50:03 - OI2: INFO - Duplicated gene symbols in the prize file (we'll keep the max prize):\n",
      "10:50:03 - OI2: INFO - []\n",
      "10:50:03 - OI2: INFO - Members of the prize file not present in the interactome:\n",
      "10:50:03 - OI2: INFO - ['ARSD', 'C19ORF48', 'C5ORF38', 'GOLT1A', 'HIST1H2BC', 'IRX3', 'PDF', 'SLC35C1', 'TM4SF18', 'TMEM238', 'TMEM47', 'UAP1L1', 'UFSP1', 'ZNF654']\n"
     ]
    },
    {
     "name": "stdout",
     "output_type": "stream",
     "text": [
      "Progress= 0.26\n"
     ]
    },
    {
     "name": "stderr",
     "output_type": "stream",
     "text": [
      "10:50:04 - OI2: INFO - Duplicated gene symbols in the prize file (we'll keep the max prize):\n",
      "10:50:04 - OI2: INFO - []\n",
      "10:50:04 - OI2: INFO - Members of the prize file not present in the interactome:\n",
      "10:50:04 - OI2: INFO - ['ARSD', 'C19ORF48', 'C5ORF38', 'GOLT1A', 'HIST1H2BC', 'IRX3', 'PDF', 'SLC35C1', 'TM4SF18', 'TMEM238', 'TMEM47', 'UAP1L1', 'UFSP1', 'ZNF654']\n"
     ]
    },
    {
     "name": "stdout",
     "output_type": "stream",
     "text": [
      "Progress= 0.27\n"
     ]
    },
    {
     "name": "stderr",
     "output_type": "stream",
     "text": [
      "10:50:06 - OI2: INFO - Duplicated gene symbols in the prize file (we'll keep the max prize):\n",
      "10:50:06 - OI2: INFO - []\n",
      "10:50:06 - OI2: INFO - Members of the prize file not present in the interactome:\n",
      "10:50:06 - OI2: INFO - ['ARSD', 'C19ORF48', 'C5ORF38', 'GOLT1A', 'HIST1H2BC', 'IRX3', 'PDF', 'SLC35C1', 'TM4SF18', 'TMEM238', 'TMEM47', 'UAP1L1', 'UFSP1', 'ZNF654']\n"
     ]
    },
    {
     "name": "stdout",
     "output_type": "stream",
     "text": [
      "Progress= 0.28\n"
     ]
    },
    {
     "name": "stderr",
     "output_type": "stream",
     "text": [
      "10:50:07 - OI2: INFO - Duplicated gene symbols in the prize file (we'll keep the max prize):\n",
      "10:50:07 - OI2: INFO - []\n",
      "10:50:07 - OI2: INFO - Members of the prize file not present in the interactome:\n",
      "10:50:07 - OI2: INFO - ['ARSD', 'C19ORF48', 'C5ORF38', 'GOLT1A', 'HIST1H2BC', 'IRX3', 'PDF', 'SLC35C1', 'TM4SF18', 'TMEM238', 'TMEM47', 'UAP1L1', 'UFSP1', 'ZNF654']\n"
     ]
    },
    {
     "name": "stdout",
     "output_type": "stream",
     "text": [
      "Progress= 0.29\n"
     ]
    },
    {
     "name": "stderr",
     "output_type": "stream",
     "text": [
      "10:50:08 - OI2: INFO - Duplicated gene symbols in the prize file (we'll keep the max prize):\n",
      "10:50:08 - OI2: INFO - []\n",
      "10:50:08 - OI2: INFO - Members of the prize file not present in the interactome:\n",
      "10:50:08 - OI2: INFO - ['ARSD', 'C19ORF48', 'C5ORF38', 'GOLT1A', 'HIST1H2BC', 'IRX3', 'PDF', 'SLC35C1', 'TM4SF18', 'TMEM238', 'TMEM47', 'UAP1L1', 'UFSP1', 'ZNF654']\n"
     ]
    },
    {
     "name": "stdout",
     "output_type": "stream",
     "text": [
      "Progress= 0.3\n"
     ]
    },
    {
     "name": "stderr",
     "output_type": "stream",
     "text": [
      "10:50:09 - OI2: INFO - Duplicated gene symbols in the prize file (we'll keep the max prize):\n",
      "10:50:09 - OI2: INFO - []\n",
      "10:50:09 - OI2: INFO - Members of the prize file not present in the interactome:\n",
      "10:50:09 - OI2: INFO - ['ARSD', 'C19ORF48', 'C5ORF38', 'GOLT1A', 'HIST1H2BC', 'IRX3', 'PDF', 'SLC35C1', 'TM4SF18', 'TMEM238', 'TMEM47', 'UAP1L1', 'UFSP1', 'ZNF654']\n"
     ]
    },
    {
     "name": "stdout",
     "output_type": "stream",
     "text": [
      "Progress= 0.31\n"
     ]
    },
    {
     "name": "stderr",
     "output_type": "stream",
     "text": [
      "10:50:10 - OI2: INFO - Duplicated gene symbols in the prize file (we'll keep the max prize):\n",
      "10:50:10 - OI2: INFO - []\n",
      "10:50:10 - OI2: INFO - Members of the prize file not present in the interactome:\n",
      "10:50:10 - OI2: INFO - ['ARSD', 'C19ORF48', 'C5ORF38', 'GOLT1A', 'HIST1H2BC', 'IRX3', 'PDF', 'SLC35C1', 'TM4SF18', 'TMEM238', 'TMEM47', 'UAP1L1', 'UFSP1', 'ZNF654']\n"
     ]
    },
    {
     "name": "stdout",
     "output_type": "stream",
     "text": [
      "Progress= 0.32\n"
     ]
    },
    {
     "name": "stderr",
     "output_type": "stream",
     "text": [
      "10:50:12 - OI2: INFO - Duplicated gene symbols in the prize file (we'll keep the max prize):\n",
      "10:50:12 - OI2: INFO - []\n",
      "10:50:12 - OI2: INFO - Members of the prize file not present in the interactome:\n",
      "10:50:12 - OI2: INFO - ['ARSD', 'C19ORF48', 'C5ORF38', 'GOLT1A', 'HIST1H2BC', 'IRX3', 'PDF', 'SLC35C1', 'TM4SF18', 'TMEM238', 'TMEM47', 'UAP1L1', 'UFSP1', 'ZNF654']\n"
     ]
    },
    {
     "name": "stdout",
     "output_type": "stream",
     "text": [
      "Progress= 0.33\n"
     ]
    },
    {
     "name": "stderr",
     "output_type": "stream",
     "text": [
      "10:50:13 - OI2: INFO - Duplicated gene symbols in the prize file (we'll keep the max prize):\n",
      "10:50:13 - OI2: INFO - []\n",
      "10:50:13 - OI2: INFO - Members of the prize file not present in the interactome:\n",
      "10:50:13 - OI2: INFO - ['ARSD', 'C19ORF48', 'C5ORF38', 'GOLT1A', 'HIST1H2BC', 'IRX3', 'PDF', 'SLC35C1', 'TM4SF18', 'TMEM238', 'TMEM47', 'UAP1L1', 'UFSP1', 'ZNF654']\n"
     ]
    },
    {
     "name": "stdout",
     "output_type": "stream",
     "text": [
      "Progress= 0.34\n"
     ]
    },
    {
     "name": "stderr",
     "output_type": "stream",
     "text": [
      "10:50:14 - OI2: INFO - Duplicated gene symbols in the prize file (we'll keep the max prize):\n",
      "10:50:14 - OI2: INFO - []\n",
      "10:50:14 - OI2: INFO - Members of the prize file not present in the interactome:\n",
      "10:50:14 - OI2: INFO - ['ARSD', 'C19ORF48', 'C5ORF38', 'GOLT1A', 'HIST1H2BC', 'IRX3', 'PDF', 'SLC35C1', 'TM4SF18', 'TMEM238', 'TMEM47', 'UAP1L1', 'UFSP1', 'ZNF654']\n"
     ]
    },
    {
     "name": "stdout",
     "output_type": "stream",
     "text": [
      "Progress= 0.35\n"
     ]
    },
    {
     "name": "stderr",
     "output_type": "stream",
     "text": [
      "10:50:15 - OI2: INFO - Duplicated gene symbols in the prize file (we'll keep the max prize):\n",
      "10:50:15 - OI2: INFO - []\n",
      "10:50:15 - OI2: INFO - Members of the prize file not present in the interactome:\n",
      "10:50:15 - OI2: INFO - ['ARSD', 'C19ORF48', 'C5ORF38', 'GOLT1A', 'HIST1H2BC', 'IRX3', 'PDF', 'SLC35C1', 'TM4SF18', 'TMEM238', 'TMEM47', 'UAP1L1', 'UFSP1', 'ZNF654']\n"
     ]
    },
    {
     "name": "stdout",
     "output_type": "stream",
     "text": [
      "Progress= 0.36\n"
     ]
    },
    {
     "name": "stderr",
     "output_type": "stream",
     "text": [
      "10:50:16 - OI2: INFO - Duplicated gene symbols in the prize file (we'll keep the max prize):\n",
      "10:50:16 - OI2: INFO - []\n",
      "10:50:16 - OI2: INFO - Members of the prize file not present in the interactome:\n",
      "10:50:16 - OI2: INFO - ['ARSD', 'C19ORF48', 'C5ORF38', 'GOLT1A', 'HIST1H2BC', 'IRX3', 'PDF', 'SLC35C1', 'TM4SF18', 'TMEM238', 'TMEM47', 'UAP1L1', 'UFSP1', 'ZNF654']\n"
     ]
    },
    {
     "name": "stdout",
     "output_type": "stream",
     "text": [
      "Progress= 0.37\n"
     ]
    },
    {
     "name": "stderr",
     "output_type": "stream",
     "text": [
      "10:50:18 - OI2: INFO - Duplicated gene symbols in the prize file (we'll keep the max prize):\n",
      "10:50:18 - OI2: INFO - []\n",
      "10:50:18 - OI2: INFO - Members of the prize file not present in the interactome:\n",
      "10:50:18 - OI2: INFO - ['ARSD', 'C19ORF48', 'C5ORF38', 'GOLT1A', 'HIST1H2BC', 'IRX3', 'PDF', 'SLC35C1', 'TM4SF18', 'TMEM238', 'TMEM47', 'UAP1L1', 'UFSP1', 'ZNF654']\n"
     ]
    },
    {
     "name": "stdout",
     "output_type": "stream",
     "text": [
      "Progress= 0.38\n"
     ]
    },
    {
     "name": "stderr",
     "output_type": "stream",
     "text": [
      "10:50:19 - OI2: INFO - Duplicated gene symbols in the prize file (we'll keep the max prize):\n",
      "10:50:19 - OI2: INFO - []\n",
      "10:50:19 - OI2: INFO - Members of the prize file not present in the interactome:\n",
      "10:50:19 - OI2: INFO - ['ARSD', 'C19ORF48', 'C5ORF38', 'GOLT1A', 'HIST1H2BC', 'IRX3', 'PDF', 'SLC35C1', 'TM4SF18', 'TMEM238', 'TMEM47', 'UAP1L1', 'UFSP1', 'ZNF654']\n"
     ]
    },
    {
     "name": "stdout",
     "output_type": "stream",
     "text": [
      "Progress= 0.39\n"
     ]
    },
    {
     "name": "stderr",
     "output_type": "stream",
     "text": [
      "10:50:20 - OI2: INFO - Duplicated gene symbols in the prize file (we'll keep the max prize):\n",
      "10:50:20 - OI2: INFO - []\n",
      "10:50:20 - OI2: INFO - Members of the prize file not present in the interactome:\n",
      "10:50:20 - OI2: INFO - ['ARSD', 'C19ORF48', 'C5ORF38', 'GOLT1A', 'HIST1H2BC', 'IRX3', 'PDF', 'SLC35C1', 'TM4SF18', 'TMEM238', 'TMEM47', 'UAP1L1', 'UFSP1', 'ZNF654']\n"
     ]
    },
    {
     "name": "stdout",
     "output_type": "stream",
     "text": [
      "Progress= 0.4\n"
     ]
    },
    {
     "name": "stderr",
     "output_type": "stream",
     "text": [
      "10:50:21 - OI2: INFO - Duplicated gene symbols in the prize file (we'll keep the max prize):\n",
      "10:50:21 - OI2: INFO - []\n",
      "10:50:21 - OI2: INFO - Members of the prize file not present in the interactome:\n",
      "10:50:21 - OI2: INFO - ['ARSD', 'C19ORF48', 'C5ORF38', 'GOLT1A', 'HIST1H2BC', 'IRX3', 'PDF', 'SLC35C1', 'TM4SF18', 'TMEM238', 'TMEM47', 'UAP1L1', 'UFSP1', 'ZNF654']\n"
     ]
    },
    {
     "name": "stdout",
     "output_type": "stream",
     "text": [
      "Progress= 0.41\n"
     ]
    },
    {
     "name": "stderr",
     "output_type": "stream",
     "text": [
      "10:50:23 - OI2: INFO - Duplicated gene symbols in the prize file (we'll keep the max prize):\n",
      "10:50:23 - OI2: INFO - []\n",
      "10:50:23 - OI2: INFO - Members of the prize file not present in the interactome:\n",
      "10:50:23 - OI2: INFO - ['ARSD', 'C19ORF48', 'C5ORF38', 'GOLT1A', 'HIST1H2BC', 'IRX3', 'PDF', 'SLC35C1', 'TM4SF18', 'TMEM238', 'TMEM47', 'UAP1L1', 'UFSP1', 'ZNF654']\n"
     ]
    },
    {
     "name": "stdout",
     "output_type": "stream",
     "text": [
      "Progress= 0.42\n"
     ]
    },
    {
     "name": "stderr",
     "output_type": "stream",
     "text": [
      "10:50:24 - OI2: INFO - Duplicated gene symbols in the prize file (we'll keep the max prize):\n",
      "10:50:24 - OI2: INFO - []\n",
      "10:50:24 - OI2: INFO - Members of the prize file not present in the interactome:\n",
      "10:50:24 - OI2: INFO - ['ARSD', 'C19ORF48', 'C5ORF38', 'GOLT1A', 'HIST1H2BC', 'IRX3', 'PDF', 'SLC35C1', 'TM4SF18', 'TMEM238', 'TMEM47', 'UAP1L1', 'UFSP1', 'ZNF654']\n"
     ]
    },
    {
     "name": "stdout",
     "output_type": "stream",
     "text": [
      "Progress= 0.43\n"
     ]
    },
    {
     "name": "stderr",
     "output_type": "stream",
     "text": [
      "10:50:25 - OI2: INFO - Duplicated gene symbols in the prize file (we'll keep the max prize):\n",
      "10:50:25 - OI2: INFO - []\n",
      "10:50:25 - OI2: INFO - Members of the prize file not present in the interactome:\n",
      "10:50:25 - OI2: INFO - ['ARSD', 'C19ORF48', 'C5ORF38', 'GOLT1A', 'HIST1H2BC', 'IRX3', 'PDF', 'SLC35C1', 'TM4SF18', 'TMEM238', 'TMEM47', 'UAP1L1', 'UFSP1', 'ZNF654']\n"
     ]
    },
    {
     "name": "stdout",
     "output_type": "stream",
     "text": [
      "Progress= 0.44\n"
     ]
    },
    {
     "name": "stderr",
     "output_type": "stream",
     "text": [
      "10:50:26 - OI2: INFO - Duplicated gene symbols in the prize file (we'll keep the max prize):\n",
      "10:50:26 - OI2: INFO - []\n",
      "10:50:26 - OI2: INFO - Members of the prize file not present in the interactome:\n",
      "10:50:26 - OI2: INFO - ['ARSD', 'C19ORF48', 'C5ORF38', 'GOLT1A', 'HIST1H2BC', 'IRX3', 'PDF', 'SLC35C1', 'TM4SF18', 'TMEM238', 'TMEM47', 'UAP1L1', 'UFSP1', 'ZNF654']\n"
     ]
    },
    {
     "name": "stdout",
     "output_type": "stream",
     "text": [
      "Progress= 0.45\n"
     ]
    },
    {
     "name": "stderr",
     "output_type": "stream",
     "text": [
      "10:50:28 - OI2: INFO - Duplicated gene symbols in the prize file (we'll keep the max prize):\n",
      "10:50:28 - OI2: INFO - []\n",
      "10:50:28 - OI2: INFO - Members of the prize file not present in the interactome:\n",
      "10:50:28 - OI2: INFO - ['ARSD', 'C19ORF48', 'C5ORF38', 'GOLT1A', 'HIST1H2BC', 'IRX3', 'PDF', 'SLC35C1', 'TM4SF18', 'TMEM238', 'TMEM47', 'UAP1L1', 'UFSP1', 'ZNF654']\n"
     ]
    },
    {
     "name": "stdout",
     "output_type": "stream",
     "text": [
      "Progress= 0.46\n"
     ]
    },
    {
     "name": "stderr",
     "output_type": "stream",
     "text": [
      "10:50:29 - OI2: INFO - Duplicated gene symbols in the prize file (we'll keep the max prize):\n",
      "10:50:29 - OI2: INFO - []\n",
      "10:50:29 - OI2: INFO - Members of the prize file not present in the interactome:\n",
      "10:50:29 - OI2: INFO - ['ARSD', 'C19ORF48', 'C5ORF38', 'GOLT1A', 'HIST1H2BC', 'IRX3', 'PDF', 'SLC35C1', 'TM4SF18', 'TMEM238', 'TMEM47', 'UAP1L1', 'UFSP1', 'ZNF654']\n"
     ]
    },
    {
     "name": "stdout",
     "output_type": "stream",
     "text": [
      "Progress= 0.47\n"
     ]
    },
    {
     "name": "stderr",
     "output_type": "stream",
     "text": [
      "10:50:30 - OI2: INFO - Duplicated gene symbols in the prize file (we'll keep the max prize):\n",
      "10:50:30 - OI2: INFO - []\n",
      "10:50:30 - OI2: INFO - Members of the prize file not present in the interactome:\n",
      "10:50:30 - OI2: INFO - ['ARSD', 'C19ORF48', 'C5ORF38', 'GOLT1A', 'HIST1H2BC', 'IRX3', 'PDF', 'SLC35C1', 'TM4SF18', 'TMEM238', 'TMEM47', 'UAP1L1', 'UFSP1', 'ZNF654']\n"
     ]
    },
    {
     "name": "stdout",
     "output_type": "stream",
     "text": [
      "Progress= 0.48\n"
     ]
    },
    {
     "name": "stderr",
     "output_type": "stream",
     "text": [
      "10:50:31 - OI2: INFO - Duplicated gene symbols in the prize file (we'll keep the max prize):\n",
      "10:50:31 - OI2: INFO - []\n",
      "10:50:31 - OI2: INFO - Members of the prize file not present in the interactome:\n",
      "10:50:31 - OI2: INFO - ['ARSD', 'C19ORF48', 'C5ORF38', 'GOLT1A', 'HIST1H2BC', 'IRX3', 'PDF', 'SLC35C1', 'TM4SF18', 'TMEM238', 'TMEM47', 'UAP1L1', 'UFSP1', 'ZNF654']\n"
     ]
    },
    {
     "name": "stdout",
     "output_type": "stream",
     "text": [
      "Progress= 0.49\n"
     ]
    },
    {
     "name": "stderr",
     "output_type": "stream",
     "text": [
      "10:50:33 - OI2: INFO - Duplicated gene symbols in the prize file (we'll keep the max prize):\n",
      "10:50:33 - OI2: INFO - []\n",
      "10:50:33 - OI2: INFO - Members of the prize file not present in the interactome:\n",
      "10:50:33 - OI2: INFO - ['ARSD', 'C19ORF48', 'C5ORF38', 'GOLT1A', 'HIST1H2BC', 'IRX3', 'PDF', 'SLC35C1', 'TM4SF18', 'TMEM238', 'TMEM47', 'UAP1L1', 'UFSP1', 'ZNF654']\n"
     ]
    },
    {
     "name": "stdout",
     "output_type": "stream",
     "text": [
      "Progress= 0.5\n"
     ]
    },
    {
     "name": "stderr",
     "output_type": "stream",
     "text": [
      "10:50:34 - OI2: INFO - Duplicated gene symbols in the prize file (we'll keep the max prize):\n",
      "10:50:34 - OI2: INFO - []\n",
      "10:50:34 - OI2: INFO - Members of the prize file not present in the interactome:\n",
      "10:50:34 - OI2: INFO - ['ARSD', 'C19ORF48', 'C5ORF38', 'GOLT1A', 'HIST1H2BC', 'IRX3', 'PDF', 'SLC35C1', 'TM4SF18', 'TMEM238', 'TMEM47', 'UAP1L1', 'UFSP1', 'ZNF654']\n"
     ]
    },
    {
     "name": "stdout",
     "output_type": "stream",
     "text": [
      "Progress= 0.51\n"
     ]
    },
    {
     "name": "stderr",
     "output_type": "stream",
     "text": [
      "10:50:35 - OI2: INFO - Duplicated gene symbols in the prize file (we'll keep the max prize):\n",
      "10:50:35 - OI2: INFO - []\n",
      "10:50:35 - OI2: INFO - Members of the prize file not present in the interactome:\n",
      "10:50:35 - OI2: INFO - ['ARSD', 'C19ORF48', 'C5ORF38', 'GOLT1A', 'HIST1H2BC', 'IRX3', 'PDF', 'SLC35C1', 'TM4SF18', 'TMEM238', 'TMEM47', 'UAP1L1', 'UFSP1', 'ZNF654']\n"
     ]
    },
    {
     "name": "stdout",
     "output_type": "stream",
     "text": [
      "Progress= 0.52\n"
     ]
    },
    {
     "name": "stderr",
     "output_type": "stream",
     "text": [
      "10:50:36 - OI2: INFO - Duplicated gene symbols in the prize file (we'll keep the max prize):\n",
      "10:50:36 - OI2: INFO - []\n",
      "10:50:36 - OI2: INFO - Members of the prize file not present in the interactome:\n",
      "10:50:36 - OI2: INFO - ['ARSD', 'C19ORF48', 'C5ORF38', 'GOLT1A', 'HIST1H2BC', 'IRX3', 'PDF', 'SLC35C1', 'TM4SF18', 'TMEM238', 'TMEM47', 'UAP1L1', 'UFSP1', 'ZNF654']\n"
     ]
    },
    {
     "name": "stdout",
     "output_type": "stream",
     "text": [
      "Progress= 0.53\n"
     ]
    },
    {
     "name": "stderr",
     "output_type": "stream",
     "text": [
      "10:50:38 - OI2: INFO - Duplicated gene symbols in the prize file (we'll keep the max prize):\n",
      "10:50:38 - OI2: INFO - []\n",
      "10:50:38 - OI2: INFO - Members of the prize file not present in the interactome:\n",
      "10:50:38 - OI2: INFO - ['ARSD', 'C19ORF48', 'C5ORF38', 'GOLT1A', 'HIST1H2BC', 'IRX3', 'PDF', 'SLC35C1', 'TM4SF18', 'TMEM238', 'TMEM47', 'UAP1L1', 'UFSP1', 'ZNF654']\n"
     ]
    },
    {
     "name": "stdout",
     "output_type": "stream",
     "text": [
      "Progress= 0.54\n"
     ]
    },
    {
     "name": "stderr",
     "output_type": "stream",
     "text": [
      "10:50:39 - OI2: INFO - Duplicated gene symbols in the prize file (we'll keep the max prize):\n",
      "10:50:39 - OI2: INFO - []\n",
      "10:50:39 - OI2: INFO - Members of the prize file not present in the interactome:\n",
      "10:50:39 - OI2: INFO - ['ARSD', 'C19ORF48', 'C5ORF38', 'GOLT1A', 'HIST1H2BC', 'IRX3', 'PDF', 'SLC35C1', 'TM4SF18', 'TMEM238', 'TMEM47', 'UAP1L1', 'UFSP1', 'ZNF654']\n"
     ]
    },
    {
     "name": "stdout",
     "output_type": "stream",
     "text": [
      "Progress= 0.55\n"
     ]
    },
    {
     "name": "stderr",
     "output_type": "stream",
     "text": [
      "10:50:40 - OI2: INFO - Duplicated gene symbols in the prize file (we'll keep the max prize):\n",
      "10:50:40 - OI2: INFO - []\n",
      "10:50:40 - OI2: INFO - Members of the prize file not present in the interactome:\n",
      "10:50:40 - OI2: INFO - ['ARSD', 'C19ORF48', 'C5ORF38', 'GOLT1A', 'HIST1H2BC', 'IRX3', 'PDF', 'SLC35C1', 'TM4SF18', 'TMEM238', 'TMEM47', 'UAP1L1', 'UFSP1', 'ZNF654']\n"
     ]
    },
    {
     "name": "stdout",
     "output_type": "stream",
     "text": [
      "Progress= 0.56\n"
     ]
    },
    {
     "name": "stderr",
     "output_type": "stream",
     "text": [
      "10:50:41 - OI2: INFO - Duplicated gene symbols in the prize file (we'll keep the max prize):\n",
      "10:50:41 - OI2: INFO - []\n",
      "10:50:41 - OI2: INFO - Members of the prize file not present in the interactome:\n",
      "10:50:41 - OI2: INFO - ['ARSD', 'C19ORF48', 'C5ORF38', 'GOLT1A', 'HIST1H2BC', 'IRX3', 'PDF', 'SLC35C1', 'TM4SF18', 'TMEM238', 'TMEM47', 'UAP1L1', 'UFSP1', 'ZNF654']\n"
     ]
    },
    {
     "name": "stdout",
     "output_type": "stream",
     "text": [
      "Progress= 0.57\n"
     ]
    },
    {
     "name": "stderr",
     "output_type": "stream",
     "text": [
      "10:50:42 - OI2: INFO - Duplicated gene symbols in the prize file (we'll keep the max prize):\n",
      "10:50:42 - OI2: INFO - []\n",
      "10:50:42 - OI2: INFO - Members of the prize file not present in the interactome:\n",
      "10:50:42 - OI2: INFO - ['ARSD', 'C19ORF48', 'C5ORF38', 'GOLT1A', 'HIST1H2BC', 'IRX3', 'PDF', 'SLC35C1', 'TM4SF18', 'TMEM238', 'TMEM47', 'UAP1L1', 'UFSP1', 'ZNF654']\n"
     ]
    },
    {
     "name": "stdout",
     "output_type": "stream",
     "text": [
      "Progress= 0.58\n"
     ]
    },
    {
     "name": "stderr",
     "output_type": "stream",
     "text": [
      "10:50:44 - OI2: INFO - Duplicated gene symbols in the prize file (we'll keep the max prize):\n",
      "10:50:44 - OI2: INFO - []\n",
      "10:50:44 - OI2: INFO - Members of the prize file not present in the interactome:\n",
      "10:50:44 - OI2: INFO - ['ARSD', 'C19ORF48', 'C5ORF38', 'GOLT1A', 'HIST1H2BC', 'IRX3', 'PDF', 'SLC35C1', 'TM4SF18', 'TMEM238', 'TMEM47', 'UAP1L1', 'UFSP1', 'ZNF654']\n"
     ]
    },
    {
     "name": "stdout",
     "output_type": "stream",
     "text": [
      "Progress= 0.59\n"
     ]
    },
    {
     "name": "stderr",
     "output_type": "stream",
     "text": [
      "10:50:45 - OI2: INFO - Duplicated gene symbols in the prize file (we'll keep the max prize):\n",
      "10:50:45 - OI2: INFO - []\n",
      "10:50:45 - OI2: INFO - Members of the prize file not present in the interactome:\n",
      "10:50:45 - OI2: INFO - ['ARSD', 'C19ORF48', 'C5ORF38', 'GOLT1A', 'HIST1H2BC', 'IRX3', 'PDF', 'SLC35C1', 'TM4SF18', 'TMEM238', 'TMEM47', 'UAP1L1', 'UFSP1', 'ZNF654']\n"
     ]
    },
    {
     "name": "stdout",
     "output_type": "stream",
     "text": [
      "Progress= 0.6\n"
     ]
    },
    {
     "name": "stderr",
     "output_type": "stream",
     "text": [
      "10:50:46 - OI2: INFO - Duplicated gene symbols in the prize file (we'll keep the max prize):\n",
      "10:50:46 - OI2: INFO - []\n",
      "10:50:46 - OI2: INFO - Members of the prize file not present in the interactome:\n",
      "10:50:46 - OI2: INFO - ['ARSD', 'C19ORF48', 'C5ORF38', 'GOLT1A', 'HIST1H2BC', 'IRX3', 'PDF', 'SLC35C1', 'TM4SF18', 'TMEM238', 'TMEM47', 'UAP1L1', 'UFSP1', 'ZNF654']\n"
     ]
    },
    {
     "name": "stdout",
     "output_type": "stream",
     "text": [
      "Progress= 0.61\n"
     ]
    },
    {
     "name": "stderr",
     "output_type": "stream",
     "text": [
      "10:50:47 - OI2: INFO - Duplicated gene symbols in the prize file (we'll keep the max prize):\n",
      "10:50:47 - OI2: INFO - []\n",
      "10:50:47 - OI2: INFO - Members of the prize file not present in the interactome:\n",
      "10:50:47 - OI2: INFO - ['ARSD', 'C19ORF48', 'C5ORF38', 'GOLT1A', 'HIST1H2BC', 'IRX3', 'PDF', 'SLC35C1', 'TM4SF18', 'TMEM238', 'TMEM47', 'UAP1L1', 'UFSP1', 'ZNF654']\n"
     ]
    },
    {
     "name": "stdout",
     "output_type": "stream",
     "text": [
      "Progress= 0.62\n"
     ]
    },
    {
     "name": "stderr",
     "output_type": "stream",
     "text": [
      "10:50:49 - OI2: INFO - Duplicated gene symbols in the prize file (we'll keep the max prize):\n",
      "10:50:49 - OI2: INFO - []\n",
      "10:50:49 - OI2: INFO - Members of the prize file not present in the interactome:\n",
      "10:50:49 - OI2: INFO - ['ARSD', 'C19ORF48', 'C5ORF38', 'GOLT1A', 'HIST1H2BC', 'IRX3', 'PDF', 'SLC35C1', 'TM4SF18', 'TMEM238', 'TMEM47', 'UAP1L1', 'UFSP1', 'ZNF654']\n"
     ]
    },
    {
     "name": "stdout",
     "output_type": "stream",
     "text": [
      "Progress= 0.63\n"
     ]
    },
    {
     "name": "stderr",
     "output_type": "stream",
     "text": [
      "10:50:50 - OI2: INFO - Duplicated gene symbols in the prize file (we'll keep the max prize):\n",
      "10:50:50 - OI2: INFO - []\n",
      "10:50:50 - OI2: INFO - Members of the prize file not present in the interactome:\n",
      "10:50:50 - OI2: INFO - ['ARSD', 'C19ORF48', 'C5ORF38', 'GOLT1A', 'HIST1H2BC', 'IRX3', 'PDF', 'SLC35C1', 'TM4SF18', 'TMEM238', 'TMEM47', 'UAP1L1', 'UFSP1', 'ZNF654']\n"
     ]
    },
    {
     "name": "stdout",
     "output_type": "stream",
     "text": [
      "Progress= 0.64\n"
     ]
    },
    {
     "name": "stderr",
     "output_type": "stream",
     "text": [
      "10:50:51 - OI2: INFO - Duplicated gene symbols in the prize file (we'll keep the max prize):\n",
      "10:50:51 - OI2: INFO - []\n",
      "10:50:51 - OI2: INFO - Members of the prize file not present in the interactome:\n",
      "10:50:51 - OI2: INFO - ['ARSD', 'C19ORF48', 'C5ORF38', 'GOLT1A', 'HIST1H2BC', 'IRX3', 'PDF', 'SLC35C1', 'TM4SF18', 'TMEM238', 'TMEM47', 'UAP1L1', 'UFSP1', 'ZNF654']\n"
     ]
    },
    {
     "name": "stdout",
     "output_type": "stream",
     "text": [
      "Progress= 0.65\n"
     ]
    },
    {
     "name": "stderr",
     "output_type": "stream",
     "text": [
      "10:50:52 - OI2: INFO - Duplicated gene symbols in the prize file (we'll keep the max prize):\n",
      "10:50:52 - OI2: INFO - []\n",
      "10:50:52 - OI2: INFO - Members of the prize file not present in the interactome:\n",
      "10:50:52 - OI2: INFO - ['ARSD', 'C19ORF48', 'C5ORF38', 'GOLT1A', 'HIST1H2BC', 'IRX3', 'PDF', 'SLC35C1', 'TM4SF18', 'TMEM238', 'TMEM47', 'UAP1L1', 'UFSP1', 'ZNF654']\n"
     ]
    },
    {
     "name": "stdout",
     "output_type": "stream",
     "text": [
      "Progress= 0.66\n"
     ]
    },
    {
     "name": "stderr",
     "output_type": "stream",
     "text": [
      "10:50:54 - OI2: INFO - Duplicated gene symbols in the prize file (we'll keep the max prize):\n",
      "10:50:54 - OI2: INFO - []\n",
      "10:50:54 - OI2: INFO - Members of the prize file not present in the interactome:\n",
      "10:50:54 - OI2: INFO - ['ARSD', 'C19ORF48', 'C5ORF38', 'GOLT1A', 'HIST1H2BC', 'IRX3', 'PDF', 'SLC35C1', 'TM4SF18', 'TMEM238', 'TMEM47', 'UAP1L1', 'UFSP1', 'ZNF654']\n"
     ]
    },
    {
     "name": "stdout",
     "output_type": "stream",
     "text": [
      "Progress= 0.67\n"
     ]
    },
    {
     "name": "stderr",
     "output_type": "stream",
     "text": [
      "10:50:55 - OI2: INFO - Duplicated gene symbols in the prize file (we'll keep the max prize):\n",
      "10:50:55 - OI2: INFO - []\n",
      "10:50:55 - OI2: INFO - Members of the prize file not present in the interactome:\n",
      "10:50:55 - OI2: INFO - ['ARSD', 'C19ORF48', 'C5ORF38', 'GOLT1A', 'HIST1H2BC', 'IRX3', 'PDF', 'SLC35C1', 'TM4SF18', 'TMEM238', 'TMEM47', 'UAP1L1', 'UFSP1', 'ZNF654']\n"
     ]
    },
    {
     "name": "stdout",
     "output_type": "stream",
     "text": [
      "Progress= 0.68\n"
     ]
    },
    {
     "name": "stderr",
     "output_type": "stream",
     "text": [
      "10:50:56 - OI2: INFO - Duplicated gene symbols in the prize file (we'll keep the max prize):\n",
      "10:50:56 - OI2: INFO - []\n",
      "10:50:56 - OI2: INFO - Members of the prize file not present in the interactome:\n",
      "10:50:56 - OI2: INFO - ['ARSD', 'C19ORF48', 'C5ORF38', 'GOLT1A', 'HIST1H2BC', 'IRX3', 'PDF', 'SLC35C1', 'TM4SF18', 'TMEM238', 'TMEM47', 'UAP1L1', 'UFSP1', 'ZNF654']\n"
     ]
    },
    {
     "name": "stdout",
     "output_type": "stream",
     "text": [
      "Progress= 0.69\n"
     ]
    },
    {
     "name": "stderr",
     "output_type": "stream",
     "text": [
      "10:50:57 - OI2: INFO - Duplicated gene symbols in the prize file (we'll keep the max prize):\n",
      "10:50:57 - OI2: INFO - []\n",
      "10:50:57 - OI2: INFO - Members of the prize file not present in the interactome:\n",
      "10:50:57 - OI2: INFO - ['ARSD', 'C19ORF48', 'C5ORF38', 'GOLT1A', 'HIST1H2BC', 'IRX3', 'PDF', 'SLC35C1', 'TM4SF18', 'TMEM238', 'TMEM47', 'UAP1L1', 'UFSP1', 'ZNF654']\n"
     ]
    },
    {
     "name": "stdout",
     "output_type": "stream",
     "text": [
      "Progress= 0.7\n"
     ]
    },
    {
     "name": "stderr",
     "output_type": "stream",
     "text": [
      "10:50:58 - OI2: INFO - Duplicated gene symbols in the prize file (we'll keep the max prize):\n",
      "10:50:58 - OI2: INFO - []\n",
      "10:50:58 - OI2: INFO - Members of the prize file not present in the interactome:\n",
      "10:50:58 - OI2: INFO - ['ARSD', 'C19ORF48', 'C5ORF38', 'GOLT1A', 'HIST1H2BC', 'IRX3', 'PDF', 'SLC35C1', 'TM4SF18', 'TMEM238', 'TMEM47', 'UAP1L1', 'UFSP1', 'ZNF654']\n"
     ]
    },
    {
     "name": "stdout",
     "output_type": "stream",
     "text": [
      "Progress= 0.71\n"
     ]
    },
    {
     "name": "stderr",
     "output_type": "stream",
     "text": [
      "10:51:00 - OI2: INFO - Duplicated gene symbols in the prize file (we'll keep the max prize):\n",
      "10:51:00 - OI2: INFO - []\n",
      "10:51:00 - OI2: INFO - Members of the prize file not present in the interactome:\n",
      "10:51:00 - OI2: INFO - ['ARSD', 'C19ORF48', 'C5ORF38', 'GOLT1A', 'HIST1H2BC', 'IRX3', 'PDF', 'SLC35C1', 'TM4SF18', 'TMEM238', 'TMEM47', 'UAP1L1', 'UFSP1', 'ZNF654']\n"
     ]
    },
    {
     "name": "stdout",
     "output_type": "stream",
     "text": [
      "Progress= 0.72\n"
     ]
    },
    {
     "name": "stderr",
     "output_type": "stream",
     "text": [
      "10:51:01 - OI2: INFO - Duplicated gene symbols in the prize file (we'll keep the max prize):\n",
      "10:51:01 - OI2: INFO - []\n",
      "10:51:01 - OI2: INFO - Members of the prize file not present in the interactome:\n",
      "10:51:01 - OI2: INFO - ['ARSD', 'C19ORF48', 'C5ORF38', 'GOLT1A', 'HIST1H2BC', 'IRX3', 'PDF', 'SLC35C1', 'TM4SF18', 'TMEM238', 'TMEM47', 'UAP1L1', 'UFSP1', 'ZNF654']\n"
     ]
    },
    {
     "name": "stdout",
     "output_type": "stream",
     "text": [
      "Progress= 0.73\n"
     ]
    },
    {
     "name": "stderr",
     "output_type": "stream",
     "text": [
      "10:51:02 - OI2: INFO - Duplicated gene symbols in the prize file (we'll keep the max prize):\n",
      "10:51:02 - OI2: INFO - []\n",
      "10:51:02 - OI2: INFO - Members of the prize file not present in the interactome:\n",
      "10:51:02 - OI2: INFO - ['ARSD', 'C19ORF48', 'C5ORF38', 'GOLT1A', 'HIST1H2BC', 'IRX3', 'PDF', 'SLC35C1', 'TM4SF18', 'TMEM238', 'TMEM47', 'UAP1L1', 'UFSP1', 'ZNF654']\n"
     ]
    },
    {
     "name": "stdout",
     "output_type": "stream",
     "text": [
      "Progress= 0.74\n"
     ]
    },
    {
     "name": "stderr",
     "output_type": "stream",
     "text": [
      "10:51:03 - OI2: INFO - Duplicated gene symbols in the prize file (we'll keep the max prize):\n",
      "10:51:03 - OI2: INFO - []\n",
      "10:51:03 - OI2: INFO - Members of the prize file not present in the interactome:\n",
      "10:51:03 - OI2: INFO - ['ARSD', 'C19ORF48', 'C5ORF38', 'GOLT1A', 'HIST1H2BC', 'IRX3', 'PDF', 'SLC35C1', 'TM4SF18', 'TMEM238', 'TMEM47', 'UAP1L1', 'UFSP1', 'ZNF654']\n"
     ]
    },
    {
     "name": "stdout",
     "output_type": "stream",
     "text": [
      "Progress= 0.75\n"
     ]
    },
    {
     "name": "stderr",
     "output_type": "stream",
     "text": [
      "10:51:05 - OI2: INFO - Duplicated gene symbols in the prize file (we'll keep the max prize):\n",
      "10:51:05 - OI2: INFO - []\n",
      "10:51:05 - OI2: INFO - Members of the prize file not present in the interactome:\n",
      "10:51:05 - OI2: INFO - ['ARSD', 'C19ORF48', 'C5ORF38', 'GOLT1A', 'HIST1H2BC', 'IRX3', 'PDF', 'SLC35C1', 'TM4SF18', 'TMEM238', 'TMEM47', 'UAP1L1', 'UFSP1', 'ZNF654']\n"
     ]
    },
    {
     "name": "stdout",
     "output_type": "stream",
     "text": [
      "Progress= 0.76\n"
     ]
    },
    {
     "name": "stderr",
     "output_type": "stream",
     "text": [
      "10:51:06 - OI2: INFO - Duplicated gene symbols in the prize file (we'll keep the max prize):\n",
      "10:51:06 - OI2: INFO - []\n",
      "10:51:06 - OI2: INFO - Members of the prize file not present in the interactome:\n",
      "10:51:06 - OI2: INFO - ['ARSD', 'C19ORF48', 'C5ORF38', 'GOLT1A', 'HIST1H2BC', 'IRX3', 'PDF', 'SLC35C1', 'TM4SF18', 'TMEM238', 'TMEM47', 'UAP1L1', 'UFSP1', 'ZNF654']\n"
     ]
    },
    {
     "name": "stdout",
     "output_type": "stream",
     "text": [
      "Progress= 0.77\n"
     ]
    },
    {
     "name": "stderr",
     "output_type": "stream",
     "text": [
      "10:51:07 - OI2: INFO - Duplicated gene symbols in the prize file (we'll keep the max prize):\n",
      "10:51:07 - OI2: INFO - []\n",
      "10:51:07 - OI2: INFO - Members of the prize file not present in the interactome:\n",
      "10:51:07 - OI2: INFO - ['ARSD', 'C19ORF48', 'C5ORF38', 'GOLT1A', 'HIST1H2BC', 'IRX3', 'PDF', 'SLC35C1', 'TM4SF18', 'TMEM238', 'TMEM47', 'UAP1L1', 'UFSP1', 'ZNF654']\n"
     ]
    },
    {
     "name": "stdout",
     "output_type": "stream",
     "text": [
      "Progress= 0.78\n"
     ]
    },
    {
     "name": "stderr",
     "output_type": "stream",
     "text": [
      "10:51:08 - OI2: INFO - Duplicated gene symbols in the prize file (we'll keep the max prize):\n",
      "10:51:08 - OI2: INFO - []\n",
      "10:51:08 - OI2: INFO - Members of the prize file not present in the interactome:\n",
      "10:51:08 - OI2: INFO - ['ARSD', 'C19ORF48', 'C5ORF38', 'GOLT1A', 'HIST1H2BC', 'IRX3', 'PDF', 'SLC35C1', 'TM4SF18', 'TMEM238', 'TMEM47', 'UAP1L1', 'UFSP1', 'ZNF654']\n"
     ]
    },
    {
     "name": "stdout",
     "output_type": "stream",
     "text": [
      "Progress= 0.79\n"
     ]
    },
    {
     "name": "stderr",
     "output_type": "stream",
     "text": [
      "10:51:10 - OI2: INFO - Duplicated gene symbols in the prize file (we'll keep the max prize):\n",
      "10:51:10 - OI2: INFO - []\n",
      "10:51:10 - OI2: INFO - Members of the prize file not present in the interactome:\n",
      "10:51:10 - OI2: INFO - ['ARSD', 'C19ORF48', 'C5ORF38', 'GOLT1A', 'HIST1H2BC', 'IRX3', 'PDF', 'SLC35C1', 'TM4SF18', 'TMEM238', 'TMEM47', 'UAP1L1', 'UFSP1', 'ZNF654']\n"
     ]
    },
    {
     "name": "stdout",
     "output_type": "stream",
     "text": [
      "Progress= 0.8\n"
     ]
    },
    {
     "name": "stderr",
     "output_type": "stream",
     "text": [
      "10:51:11 - OI2: INFO - Duplicated gene symbols in the prize file (we'll keep the max prize):\n",
      "10:51:11 - OI2: INFO - []\n",
      "10:51:11 - OI2: INFO - Members of the prize file not present in the interactome:\n",
      "10:51:11 - OI2: INFO - ['ARSD', 'C19ORF48', 'C5ORF38', 'GOLT1A', 'HIST1H2BC', 'IRX3', 'PDF', 'SLC35C1', 'TM4SF18', 'TMEM238', 'TMEM47', 'UAP1L1', 'UFSP1', 'ZNF654']\n"
     ]
    },
    {
     "name": "stdout",
     "output_type": "stream",
     "text": [
      "Progress= 0.81\n"
     ]
    },
    {
     "name": "stderr",
     "output_type": "stream",
     "text": [
      "10:51:12 - OI2: INFO - Duplicated gene symbols in the prize file (we'll keep the max prize):\n",
      "10:51:12 - OI2: INFO - []\n",
      "10:51:12 - OI2: INFO - Members of the prize file not present in the interactome:\n",
      "10:51:12 - OI2: INFO - ['ARSD', 'C19ORF48', 'C5ORF38', 'GOLT1A', 'HIST1H2BC', 'IRX3', 'PDF', 'SLC35C1', 'TM4SF18', 'TMEM238', 'TMEM47', 'UAP1L1', 'UFSP1', 'ZNF654']\n"
     ]
    },
    {
     "name": "stdout",
     "output_type": "stream",
     "text": [
      "Progress= 0.82\n"
     ]
    },
    {
     "name": "stderr",
     "output_type": "stream",
     "text": [
      "10:51:13 - OI2: INFO - Duplicated gene symbols in the prize file (we'll keep the max prize):\n",
      "10:51:13 - OI2: INFO - []\n",
      "10:51:13 - OI2: INFO - Members of the prize file not present in the interactome:\n",
      "10:51:13 - OI2: INFO - ['ARSD', 'C19ORF48', 'C5ORF38', 'GOLT1A', 'HIST1H2BC', 'IRX3', 'PDF', 'SLC35C1', 'TM4SF18', 'TMEM238', 'TMEM47', 'UAP1L1', 'UFSP1', 'ZNF654']\n"
     ]
    },
    {
     "name": "stdout",
     "output_type": "stream",
     "text": [
      "Progress= 0.83\n"
     ]
    },
    {
     "name": "stderr",
     "output_type": "stream",
     "text": [
      "10:51:14 - OI2: INFO - Duplicated gene symbols in the prize file (we'll keep the max prize):\n",
      "10:51:14 - OI2: INFO - []\n",
      "10:51:14 - OI2: INFO - Members of the prize file not present in the interactome:\n",
      "10:51:14 - OI2: INFO - ['ARSD', 'C19ORF48', 'C5ORF38', 'GOLT1A', 'HIST1H2BC', 'IRX3', 'PDF', 'SLC35C1', 'TM4SF18', 'TMEM238', 'TMEM47', 'UAP1L1', 'UFSP1', 'ZNF654']\n"
     ]
    },
    {
     "name": "stdout",
     "output_type": "stream",
     "text": [
      "Progress= 0.84\n"
     ]
    },
    {
     "name": "stderr",
     "output_type": "stream",
     "text": [
      "10:51:15 - OI2: INFO - Duplicated gene symbols in the prize file (we'll keep the max prize):\n",
      "10:51:15 - OI2: INFO - []\n",
      "10:51:15 - OI2: INFO - Members of the prize file not present in the interactome:\n",
      "10:51:15 - OI2: INFO - ['ARSD', 'C19ORF48', 'C5ORF38', 'GOLT1A', 'HIST1H2BC', 'IRX3', 'PDF', 'SLC35C1', 'TM4SF18', 'TMEM238', 'TMEM47', 'UAP1L1', 'UFSP1', 'ZNF654']\n"
     ]
    },
    {
     "name": "stdout",
     "output_type": "stream",
     "text": [
      "Progress= 0.85\n"
     ]
    },
    {
     "name": "stderr",
     "output_type": "stream",
     "text": [
      "10:51:17 - OI2: INFO - Duplicated gene symbols in the prize file (we'll keep the max prize):\n",
      "10:51:17 - OI2: INFO - []\n",
      "10:51:17 - OI2: INFO - Members of the prize file not present in the interactome:\n",
      "10:51:17 - OI2: INFO - ['ARSD', 'C19ORF48', 'C5ORF38', 'GOLT1A', 'HIST1H2BC', 'IRX3', 'PDF', 'SLC35C1', 'TM4SF18', 'TMEM238', 'TMEM47', 'UAP1L1', 'UFSP1', 'ZNF654']\n"
     ]
    },
    {
     "name": "stdout",
     "output_type": "stream",
     "text": [
      "Progress= 0.86\n"
     ]
    },
    {
     "name": "stderr",
     "output_type": "stream",
     "text": [
      "10:51:18 - OI2: INFO - Duplicated gene symbols in the prize file (we'll keep the max prize):\n",
      "10:51:18 - OI2: INFO - []\n",
      "10:51:18 - OI2: INFO - Members of the prize file not present in the interactome:\n",
      "10:51:18 - OI2: INFO - ['ARSD', 'C19ORF48', 'C5ORF38', 'GOLT1A', 'HIST1H2BC', 'IRX3', 'PDF', 'SLC35C1', 'TM4SF18', 'TMEM238', 'TMEM47', 'UAP1L1', 'UFSP1', 'ZNF654']\n"
     ]
    },
    {
     "name": "stdout",
     "output_type": "stream",
     "text": [
      "Progress= 0.87\n"
     ]
    },
    {
     "name": "stderr",
     "output_type": "stream",
     "text": [
      "10:51:19 - OI2: INFO - Duplicated gene symbols in the prize file (we'll keep the max prize):\n",
      "10:51:19 - OI2: INFO - []\n",
      "10:51:19 - OI2: INFO - Members of the prize file not present in the interactome:\n",
      "10:51:19 - OI2: INFO - ['ARSD', 'C19ORF48', 'C5ORF38', 'GOLT1A', 'HIST1H2BC', 'IRX3', 'PDF', 'SLC35C1', 'TM4SF18', 'TMEM238', 'TMEM47', 'UAP1L1', 'UFSP1', 'ZNF654']\n"
     ]
    },
    {
     "name": "stdout",
     "output_type": "stream",
     "text": [
      "Progress= 0.88\n"
     ]
    },
    {
     "name": "stderr",
     "output_type": "stream",
     "text": [
      "10:51:20 - OI2: INFO - Duplicated gene symbols in the prize file (we'll keep the max prize):\n",
      "10:51:20 - OI2: INFO - []\n",
      "10:51:20 - OI2: INFO - Members of the prize file not present in the interactome:\n",
      "10:51:20 - OI2: INFO - ['ARSD', 'C19ORF48', 'C5ORF38', 'GOLT1A', 'HIST1H2BC', 'IRX3', 'PDF', 'SLC35C1', 'TM4SF18', 'TMEM238', 'TMEM47', 'UAP1L1', 'UFSP1', 'ZNF654']\n"
     ]
    },
    {
     "name": "stdout",
     "output_type": "stream",
     "text": [
      "Progress= 0.89\n"
     ]
    },
    {
     "name": "stderr",
     "output_type": "stream",
     "text": [
      "10:51:22 - OI2: INFO - Duplicated gene symbols in the prize file (we'll keep the max prize):\n",
      "10:51:22 - OI2: INFO - []\n",
      "10:51:22 - OI2: INFO - Members of the prize file not present in the interactome:\n",
      "10:51:22 - OI2: INFO - ['ARSD', 'C19ORF48', 'C5ORF38', 'GOLT1A', 'HIST1H2BC', 'IRX3', 'PDF', 'SLC35C1', 'TM4SF18', 'TMEM238', 'TMEM47', 'UAP1L1', 'UFSP1', 'ZNF654']\n"
     ]
    },
    {
     "name": "stdout",
     "output_type": "stream",
     "text": [
      "Progress= 0.9\n"
     ]
    },
    {
     "name": "stderr",
     "output_type": "stream",
     "text": [
      "10:51:23 - OI2: INFO - Duplicated gene symbols in the prize file (we'll keep the max prize):\n",
      "10:51:23 - OI2: INFO - []\n",
      "10:51:23 - OI2: INFO - Members of the prize file not present in the interactome:\n",
      "10:51:23 - OI2: INFO - ['ARSD', 'C19ORF48', 'C5ORF38', 'GOLT1A', 'HIST1H2BC', 'IRX3', 'PDF', 'SLC35C1', 'TM4SF18', 'TMEM238', 'TMEM47', 'UAP1L1', 'UFSP1', 'ZNF654']\n"
     ]
    },
    {
     "name": "stdout",
     "output_type": "stream",
     "text": [
      "Progress= 0.91\n"
     ]
    },
    {
     "name": "stderr",
     "output_type": "stream",
     "text": [
      "10:51:24 - OI2: INFO - Duplicated gene symbols in the prize file (we'll keep the max prize):\n",
      "10:51:24 - OI2: INFO - []\n",
      "10:51:24 - OI2: INFO - Members of the prize file not present in the interactome:\n",
      "10:51:24 - OI2: INFO - ['ARSD', 'C19ORF48', 'C5ORF38', 'GOLT1A', 'HIST1H2BC', 'IRX3', 'PDF', 'SLC35C1', 'TM4SF18', 'TMEM238', 'TMEM47', 'UAP1L1', 'UFSP1', 'ZNF654']\n"
     ]
    },
    {
     "name": "stdout",
     "output_type": "stream",
     "text": [
      "Progress= 0.92\n"
     ]
    },
    {
     "name": "stderr",
     "output_type": "stream",
     "text": [
      "10:51:25 - OI2: INFO - Duplicated gene symbols in the prize file (we'll keep the max prize):\n",
      "10:51:25 - OI2: INFO - []\n",
      "10:51:25 - OI2: INFO - Members of the prize file not present in the interactome:\n",
      "10:51:25 - OI2: INFO - ['ARSD', 'C19ORF48', 'C5ORF38', 'GOLT1A', 'HIST1H2BC', 'IRX3', 'PDF', 'SLC35C1', 'TM4SF18', 'TMEM238', 'TMEM47', 'UAP1L1', 'UFSP1', 'ZNF654']\n"
     ]
    },
    {
     "name": "stdout",
     "output_type": "stream",
     "text": [
      "Progress= 0.93\n"
     ]
    },
    {
     "name": "stderr",
     "output_type": "stream",
     "text": [
      "10:51:27 - OI2: INFO - Duplicated gene symbols in the prize file (we'll keep the max prize):\n",
      "10:51:27 - OI2: INFO - []\n",
      "10:51:27 - OI2: INFO - Members of the prize file not present in the interactome:\n",
      "10:51:27 - OI2: INFO - ['ARSD', 'C19ORF48', 'C5ORF38', 'GOLT1A', 'HIST1H2BC', 'IRX3', 'PDF', 'SLC35C1', 'TM4SF18', 'TMEM238', 'TMEM47', 'UAP1L1', 'UFSP1', 'ZNF654']\n"
     ]
    },
    {
     "name": "stdout",
     "output_type": "stream",
     "text": [
      "Progress= 0.94\n"
     ]
    },
    {
     "name": "stderr",
     "output_type": "stream",
     "text": [
      "10:51:28 - OI2: INFO - Duplicated gene symbols in the prize file (we'll keep the max prize):\n",
      "10:51:28 - OI2: INFO - []\n",
      "10:51:28 - OI2: INFO - Members of the prize file not present in the interactome:\n",
      "10:51:28 - OI2: INFO - ['ARSD', 'C19ORF48', 'C5ORF38', 'GOLT1A', 'HIST1H2BC', 'IRX3', 'PDF', 'SLC35C1', 'TM4SF18', 'TMEM238', 'TMEM47', 'UAP1L1', 'UFSP1', 'ZNF654']\n"
     ]
    },
    {
     "name": "stdout",
     "output_type": "stream",
     "text": [
      "Progress= 0.95\n"
     ]
    },
    {
     "name": "stderr",
     "output_type": "stream",
     "text": [
      "10:51:29 - OI2: INFO - Duplicated gene symbols in the prize file (we'll keep the max prize):\n",
      "10:51:29 - OI2: INFO - []\n",
      "10:51:29 - OI2: INFO - Members of the prize file not present in the interactome:\n",
      "10:51:29 - OI2: INFO - ['ARSD', 'C19ORF48', 'C5ORF38', 'GOLT1A', 'HIST1H2BC', 'IRX3', 'PDF', 'SLC35C1', 'TM4SF18', 'TMEM238', 'TMEM47', 'UAP1L1', 'UFSP1', 'ZNF654']\n"
     ]
    },
    {
     "name": "stdout",
     "output_type": "stream",
     "text": [
      "Progress= 0.96\n"
     ]
    },
    {
     "name": "stderr",
     "output_type": "stream",
     "text": [
      "10:51:30 - OI2: INFO - Duplicated gene symbols in the prize file (we'll keep the max prize):\n",
      "10:51:30 - OI2: INFO - []\n",
      "10:51:30 - OI2: INFO - Members of the prize file not present in the interactome:\n",
      "10:51:30 - OI2: INFO - ['ARSD', 'C19ORF48', 'C5ORF38', 'GOLT1A', 'HIST1H2BC', 'IRX3', 'PDF', 'SLC35C1', 'TM4SF18', 'TMEM238', 'TMEM47', 'UAP1L1', 'UFSP1', 'ZNF654']\n"
     ]
    },
    {
     "name": "stdout",
     "output_type": "stream",
     "text": [
      "Progress= 0.97\n"
     ]
    },
    {
     "name": "stderr",
     "output_type": "stream",
     "text": [
      "10:51:32 - OI2: INFO - Duplicated gene symbols in the prize file (we'll keep the max prize):\n",
      "10:51:32 - OI2: INFO - []\n",
      "10:51:32 - OI2: INFO - Members of the prize file not present in the interactome:\n",
      "10:51:32 - OI2: INFO - ['ARSD', 'C19ORF48', 'C5ORF38', 'GOLT1A', 'HIST1H2BC', 'IRX3', 'PDF', 'SLC35C1', 'TM4SF18', 'TMEM238', 'TMEM47', 'UAP1L1', 'UFSP1', 'ZNF654']\n"
     ]
    },
    {
     "name": "stdout",
     "output_type": "stream",
     "text": [
      "Progress= 0.98\n"
     ]
    },
    {
     "name": "stderr",
     "output_type": "stream",
     "text": [
      "10:51:33 - OI2: INFO - Duplicated gene symbols in the prize file (we'll keep the max prize):\n",
      "10:51:33 - OI2: INFO - []\n",
      "10:51:33 - OI2: INFO - Members of the prize file not present in the interactome:\n",
      "10:51:33 - OI2: INFO - ['ARSD', 'C19ORF48', 'C5ORF38', 'GOLT1A', 'HIST1H2BC', 'IRX3', 'PDF', 'SLC35C1', 'TM4SF18', 'TMEM238', 'TMEM47', 'UAP1L1', 'UFSP1', 'ZNF654']\n"
     ]
    },
    {
     "name": "stdout",
     "output_type": "stream",
     "text": [
      "Progress= 0.99\n"
     ]
    },
    {
     "name": "stderr",
     "output_type": "stream",
     "text": [
      "10:51:34 - OI2: INFO - Duplicated gene symbols in the prize file (we'll keep the max prize):\n",
      "10:51:34 - OI2: INFO - []\n",
      "10:51:34 - OI2: INFO - Members of the prize file not present in the interactome:\n",
      "10:51:34 - OI2: INFO - ['ARSD', 'C19ORF48', 'C5ORF38', 'GOLT1A', 'HIST1H2BC', 'IRX3', 'PDF', 'SLC35C1', 'TM4SF18', 'TMEM238', 'TMEM47', 'UAP1L1', 'UFSP1', 'ZNF654']\n"
     ]
    },
    {
     "name": "stdout",
     "output_type": "stream",
     "text": [
      "Progress= 1.0\n"
     ]
    }
   ],
   "source": [
    "# Run sensitivity analysis\n",
    "networks_dict = sensitivity.run_sensitivity_analysis(interactome_file_name, \n",
    "                                                     prize_file_name, \n",
    "                                                     graph_params, \n",
    "                                                     W_list, \n",
    "                                                     B_list, \n",
    "                                                     G=0)"
   ]
  },
  {
   "cell_type": "code",
   "execution_count": 19,
   "metadata": {},
   "outputs": [],
   "source": [
    "# Save as pickle\n",
    "with open(\"../Save_iav/networks_dict.pkl\", \"wb\") as f: \n",
    "    pickle.dump(networks_dict, f)"
   ]
  },
  {
   "cell_type": "code",
   "execution_count": 14,
   "metadata": {},
   "outputs": [],
   "source": [
    "# Add metatadata\n",
    "networks_dict = pickle.load(open(\"../Save_iav/networks_dict.pkl\", \"rb\"))\n",
    "networks_dict = sensitivity.add_metadata(networks_dict, virus_interacting_genes)"
   ]
  },
  {
   "cell_type": "code",
   "execution_count": 15,
   "metadata": {},
   "outputs": [
    {
     "data": {
      "text/html": [
       "<div>\n",
       "<style scoped>\n",
       "    .dataframe tbody tr th:only-of-type {\n",
       "        vertical-align: middle;\n",
       "    }\n",
       "\n",
       "    .dataframe tbody tr th {\n",
       "        vertical-align: top;\n",
       "    }\n",
       "\n",
       "    .dataframe thead th {\n",
       "        text-align: right;\n",
       "    }\n",
       "</style>\n",
       "<table border=\"1\" class=\"dataframe\">\n",
       "  <thead>\n",
       "    <tr style=\"text-align: right;\">\n",
       "      <th></th>\n",
       "      <th>index</th>\n",
       "      <th>w</th>\n",
       "      <th>b</th>\n",
       "      <th>g</th>\n",
       "      <th>nodes</th>\n",
       "      <th>edges</th>\n",
       "      <th>number_components</th>\n",
       "      <th>size_components</th>\n",
       "      <th>percentage_terminals</th>\n",
       "      <th>upregulated_terminals</th>\n",
       "      <th>downregulated_terminals</th>\n",
       "      <th>number_transcription_regulators</th>\n",
       "      <th>transcription_regulators</th>\n",
       "      <th>number_of_proteins_interacting_sars</th>\n",
       "      <th>proteins_interacting_sars</th>\n",
       "    </tr>\n",
       "  </thead>\n",
       "  <tbody>\n",
       "    <tr>\n",
       "      <th>w_0.2_b_10.0</th>\n",
       "      <td>1</td>\n",
       "      <td>0.2</td>\n",
       "      <td>10.0</td>\n",
       "      <td>0</td>\n",
       "      <td>133</td>\n",
       "      <td>134</td>\n",
       "      <td>31</td>\n",
       "      <td>[103, 1, 1, 1, 1, 1, 1, 1, 1, 1, 1, 1, 1, 1, 1...</td>\n",
       "      <td>0.898551</td>\n",
       "      <td>42</td>\n",
       "      <td>82</td>\n",
       "      <td>5</td>\n",
       "      <td>[BATF3, HOXA2, HOXA5, SPDEF, ZNF267]</td>\n",
       "      <td>1</td>\n",
       "      <td>[EDEM3]</td>\n",
       "    </tr>\n",
       "    <tr>\n",
       "      <th>w_0.2_b_15.0</th>\n",
       "      <td>2</td>\n",
       "      <td>0.2</td>\n",
       "      <td>15.0</td>\n",
       "      <td>0</td>\n",
       "      <td>133</td>\n",
       "      <td>134</td>\n",
       "      <td>31</td>\n",
       "      <td>[103, 1, 1, 1, 1, 1, 1, 1, 1, 1, 1, 1, 1, 1, 1...</td>\n",
       "      <td>0.898551</td>\n",
       "      <td>42</td>\n",
       "      <td>82</td>\n",
       "      <td>5</td>\n",
       "      <td>[BATF3, HOXA2, HOXA5, SPDEF, ZNF267]</td>\n",
       "      <td>1</td>\n",
       "      <td>[EDEM3]</td>\n",
       "    </tr>\n",
       "    <tr>\n",
       "      <th>w_0.2_b_20.0</th>\n",
       "      <td>3</td>\n",
       "      <td>0.2</td>\n",
       "      <td>20.0</td>\n",
       "      <td>0</td>\n",
       "      <td>133</td>\n",
       "      <td>134</td>\n",
       "      <td>31</td>\n",
       "      <td>[103, 1, 1, 1, 1, 1, 1, 1, 1, 1, 1, 1, 1, 1, 1...</td>\n",
       "      <td>0.898551</td>\n",
       "      <td>42</td>\n",
       "      <td>82</td>\n",
       "      <td>5</td>\n",
       "      <td>[BATF3, HOXA2, HOXA5, SPDEF, ZNF267]</td>\n",
       "      <td>1</td>\n",
       "      <td>[EDEM3]</td>\n",
       "    </tr>\n",
       "    <tr>\n",
       "      <th>w_0.2_b_25.0</th>\n",
       "      <td>4</td>\n",
       "      <td>0.2</td>\n",
       "      <td>25.0</td>\n",
       "      <td>0</td>\n",
       "      <td>133</td>\n",
       "      <td>134</td>\n",
       "      <td>31</td>\n",
       "      <td>[103, 1, 1, 1, 1, 1, 1, 1, 1, 1, 1, 1, 1, 1, 1...</td>\n",
       "      <td>0.898551</td>\n",
       "      <td>42</td>\n",
       "      <td>82</td>\n",
       "      <td>5</td>\n",
       "      <td>[BATF3, HOXA2, HOXA5, SPDEF, ZNF267]</td>\n",
       "      <td>1</td>\n",
       "      <td>[EDEM3]</td>\n",
       "    </tr>\n",
       "    <tr>\n",
       "      <th>w_0.2_b_30.0</th>\n",
       "      <td>5</td>\n",
       "      <td>0.2</td>\n",
       "      <td>30.0</td>\n",
       "      <td>0</td>\n",
       "      <td>133</td>\n",
       "      <td>134</td>\n",
       "      <td>31</td>\n",
       "      <td>[103, 1, 1, 1, 1, 1, 1, 1, 1, 1, 1, 1, 1, 1, 1...</td>\n",
       "      <td>0.898551</td>\n",
       "      <td>42</td>\n",
       "      <td>82</td>\n",
       "      <td>5</td>\n",
       "      <td>[BATF3, HOXA2, HOXA5, SPDEF, ZNF267]</td>\n",
       "      <td>1</td>\n",
       "      <td>[EDEM3]</td>\n",
       "    </tr>\n",
       "  </tbody>\n",
       "</table>\n",
       "</div>"
      ],
      "text/plain": [
       "              index    w     b  g  nodes  edges  number_components  \\\n",
       "w_0.2_b_10.0      1  0.2  10.0  0    133    134                 31   \n",
       "w_0.2_b_15.0      2  0.2  15.0  0    133    134                 31   \n",
       "w_0.2_b_20.0      3  0.2  20.0  0    133    134                 31   \n",
       "w_0.2_b_25.0      4  0.2  25.0  0    133    134                 31   \n",
       "w_0.2_b_30.0      5  0.2  30.0  0    133    134                 31   \n",
       "\n",
       "                                                size_components  \\\n",
       "w_0.2_b_10.0  [103, 1, 1, 1, 1, 1, 1, 1, 1, 1, 1, 1, 1, 1, 1...   \n",
       "w_0.2_b_15.0  [103, 1, 1, 1, 1, 1, 1, 1, 1, 1, 1, 1, 1, 1, 1...   \n",
       "w_0.2_b_20.0  [103, 1, 1, 1, 1, 1, 1, 1, 1, 1, 1, 1, 1, 1, 1...   \n",
       "w_0.2_b_25.0  [103, 1, 1, 1, 1, 1, 1, 1, 1, 1, 1, 1, 1, 1, 1...   \n",
       "w_0.2_b_30.0  [103, 1, 1, 1, 1, 1, 1, 1, 1, 1, 1, 1, 1, 1, 1...   \n",
       "\n",
       "              percentage_terminals  upregulated_terminals  \\\n",
       "w_0.2_b_10.0              0.898551                     42   \n",
       "w_0.2_b_15.0              0.898551                     42   \n",
       "w_0.2_b_20.0              0.898551                     42   \n",
       "w_0.2_b_25.0              0.898551                     42   \n",
       "w_0.2_b_30.0              0.898551                     42   \n",
       "\n",
       "              downregulated_terminals  number_transcription_regulators  \\\n",
       "w_0.2_b_10.0                       82                                5   \n",
       "w_0.2_b_15.0                       82                                5   \n",
       "w_0.2_b_20.0                       82                                5   \n",
       "w_0.2_b_25.0                       82                                5   \n",
       "w_0.2_b_30.0                       82                                5   \n",
       "\n",
       "                          transcription_regulators  \\\n",
       "w_0.2_b_10.0  [BATF3, HOXA2, HOXA5, SPDEF, ZNF267]   \n",
       "w_0.2_b_15.0  [BATF3, HOXA2, HOXA5, SPDEF, ZNF267]   \n",
       "w_0.2_b_20.0  [BATF3, HOXA2, HOXA5, SPDEF, ZNF267]   \n",
       "w_0.2_b_25.0  [BATF3, HOXA2, HOXA5, SPDEF, ZNF267]   \n",
       "w_0.2_b_30.0  [BATF3, HOXA2, HOXA5, SPDEF, ZNF267]   \n",
       "\n",
       "              number_of_proteins_interacting_sars proteins_interacting_sars  \n",
       "w_0.2_b_10.0                                    1                   [EDEM3]  \n",
       "w_0.2_b_15.0                                    1                   [EDEM3]  \n",
       "w_0.2_b_20.0                                    1                   [EDEM3]  \n",
       "w_0.2_b_25.0                                    1                   [EDEM3]  \n",
       "w_0.2_b_30.0                                    1                   [EDEM3]  "
      ]
     },
     "execution_count": 15,
     "metadata": {},
     "output_type": "execute_result"
    }
   ],
   "source": [
    "# Make summary\n",
    "networks_summary_df = sensitivity.make_summary(networks_dict, n_terminals, g=0)\n",
    "networks_summary_df.head()"
   ]
  },
  {
   "cell_type": "markdown",
   "metadata": {},
   "source": [
    "## Plot node stability heatmaps"
   ]
  },
  {
   "cell_type": "code",
   "execution_count": 16,
   "metadata": {},
   "outputs": [
    {
     "data": {
      "text/plain": [
       "<Figure size 432x288 with 0 Axes>"
      ]
     },
     "metadata": {},
     "output_type": "display_data"
    },
    {
     "data": {
      "image/png": "[encoded data removed]",
      "text/plain": [
       "<Figure size 288x288 with 2 Axes>"
      ]
     },
     "metadata": {
      "needs_background": "light"
     },
     "output_type": "display_data"
    }
   ],
   "source": [
    "# Stability of selected nodes\n",
    "mat_allnodes = sensitivity.create_matrix_gene_overlap_between_networks(networks_summary_df, networks_dict)\n",
    "plt.figure()\n",
    "plt.matshow(mat_allnodes)\n",
    "plt.xlabel('networks')\n",
    "plt.ylabel('networks')\n",
    "plt.title('Nodes stability')\n",
    "plt.colorbar()\n",
    "plt.show()"
   ]
  },
  {
   "cell_type": "code",
   "execution_count": 23,
   "metadata": {},
   "outputs": [
    {
     "data": {
      "text/plain": [
       "<Figure size 432x288 with 0 Axes>"
      ]
     },
     "metadata": {},
     "output_type": "display_data"
    },
    {
     "data": {
      "image/png": "[encoded data removed]",
      "text/plain": [
       "<Figure size 288x288 with 2 Axes>"
      ]
     },
     "metadata": {
      "needs_background": "light"
     },
     "output_type": "display_data"
    }
   ],
   "source": [
    "# Stability of selected terminals\n",
    "mat_terminals = sensitivity.create_matrix_terminal_overlap_between_networks(networks_summary_df, networks_dict)\n",
    "plt.figure()\n",
    "plt.matshow(mat_terminals)\n",
    "plt.xlabel('networks')\n",
    "plt.ylabel('networks')\n",
    "plt.title('Terminals stability')\n",
    "plt.colorbar()\n",
    "plt.show()"
   ]
  },
  {
   "cell_type": "markdown",
   "metadata": {},
   "source": [
    "## Select robust parameters"
   ]
  },
  {
   "cell_type": "code",
   "execution_count": 17,
   "metadata": {},
   "outputs": [],
   "source": [
    "# Select network corresponding to g=0, w=1.4 and b=40\n",
    "index_selected = 67\n",
    "paramstring_selected = networks_summary_df[networks_summary_df['index']==index_selected].index[0]\n",
    "network_selected = networks_dict[paramstring_selected]"
   ]
  },
  {
   "cell_type": "code",
   "execution_count": 18,
   "metadata": {},
   "outputs": [
    {
     "data": {
      "text/plain": [
       "PosixPath('/home/louiscam/projects/sars_cov_2/Save_iav/network_selected.pickle')"
      ]
     },
     "execution_count": 18,
     "metadata": {},
     "output_type": "execute_result"
    }
   ],
   "source": [
    "# Save selected network to file\n",
    "oi.output_networkx_graph_as_interactive_html(network_selected, filename=\"../Save_iav/network_selected.html\")\n",
    "oi.output_networkx_graph_as_pickle(network_selected, filename= '../Save_iav/network_selected.pickle')\n",
    "#oi.output_networkx_graph_as_graphml_for_cytoscape(robust_network, filename= '../Save_iav/network_selected.graphml')"
   ]
  },
  {
   "cell_type": "code",
   "execution_count": 19,
   "metadata": {},
   "outputs": [
    {
     "data": {
      "text/html": [
       "<div>\n",
       "<style scoped>\n",
       "    .dataframe tbody tr th:only-of-type {\n",
       "        vertical-align: middle;\n",
       "    }\n",
       "\n",
       "    .dataframe tbody tr th {\n",
       "        vertical-align: top;\n",
       "    }\n",
       "\n",
       "    .dataframe thead th {\n",
       "        text-align: right;\n",
       "    }\n",
       "</style>\n",
       "<table border=\"1\" class=\"dataframe\">\n",
       "  <thead>\n",
       "    <tr style=\"text-align: right;\">\n",
       "      <th></th>\n",
       "      <th>index</th>\n",
       "      <th>w</th>\n",
       "      <th>b</th>\n",
       "      <th>g</th>\n",
       "      <th>nodes</th>\n",
       "      <th>edges</th>\n",
       "      <th>number_components</th>\n",
       "      <th>size_components</th>\n",
       "      <th>percentage_terminals</th>\n",
       "      <th>upregulated_terminals</th>\n",
       "      <th>downregulated_terminals</th>\n",
       "      <th>number_transcription_regulators</th>\n",
       "      <th>transcription_regulators</th>\n",
       "      <th>number_of_proteins_interacting_sars</th>\n",
       "      <th>proteins_interacting_sars</th>\n",
       "    </tr>\n",
       "  </thead>\n",
       "  <tbody>\n",
       "    <tr>\n",
       "      <th>w_1.4000000000000001_b_40.0</th>\n",
       "      <td>67</td>\n",
       "      <td>1.4000000000000001</td>\n",
       "      <td>40.0</td>\n",
       "      <td>0</td>\n",
       "      <td>185</td>\n",
       "      <td>486</td>\n",
       "      <td>1</td>\n",
       "      <td>[185]</td>\n",
       "      <td>0.898551</td>\n",
       "      <td>42</td>\n",
       "      <td>82</td>\n",
       "      <td>7</td>\n",
       "      <td>[AES, BATF3, CREB3, HOXA2, HOXA5, SPDEF, ZNF267]</td>\n",
       "      <td>3</td>\n",
       "      <td>[CSNK2B, EDEM3, RIPK1]</td>\n",
       "    </tr>\n",
       "  </tbody>\n",
       "</table>\n",
       "</div>"
      ],
      "text/plain": [
       "                             index                   w     b  g  nodes  edges  \\\n",
       "w_1.4000000000000001_b_40.0     67  1.4000000000000001  40.0  0    185    486   \n",
       "\n",
       "                             number_components size_components  \\\n",
       "w_1.4000000000000001_b_40.0                  1           [185]   \n",
       "\n",
       "                             percentage_terminals  upregulated_terminals  \\\n",
       "w_1.4000000000000001_b_40.0              0.898551                     42   \n",
       "\n",
       "                             downregulated_terminals  \\\n",
       "w_1.4000000000000001_b_40.0                       82   \n",
       "\n",
       "                             number_transcription_regulators  \\\n",
       "w_1.4000000000000001_b_40.0                                7   \n",
       "\n",
       "                                                     transcription_regulators  \\\n",
       "w_1.4000000000000001_b_40.0  [AES, BATF3, CREB3, HOXA2, HOXA5, SPDEF, ZNF267]   \n",
       "\n",
       "                             number_of_proteins_interacting_sars  \\\n",
       "w_1.4000000000000001_b_40.0                                    3   \n",
       "\n",
       "                            proteins_interacting_sars  \n",
       "w_1.4000000000000001_b_40.0    [CSNK2B, EDEM3, RIPK1]  "
      ]
     },
     "execution_count": 19,
     "metadata": {},
     "output_type": "execute_result"
    }
   ],
   "source": [
    "# Characteristics of selected network\n",
    "networks_summary_df[networks_summary_df['index']==index_selected]"
   ]
  },
  {
   "cell_type": "markdown",
   "metadata": {},
   "source": [
    "# Add drug targets to selected network"
   ]
  },
  {
   "cell_type": "markdown",
   "metadata": {},
   "source": [
    "## Construct drug/target data"
   ]
  },
  {
   "cell_type": "code",
   "execution_count": 20,
   "metadata": {},
   "outputs": [],
   "source": [
    "# Compute degree centrality for all nodes in the interactome\n",
    "graph = oi.Graph(interactome_file_name)\n",
    "centrality_dic = nx.degree_centrality(graph.interactome_graph)"
   ]
  },
  {
   "cell_type": "code",
   "execution_count": 21,
   "metadata": {},
   "outputs": [
    {
     "data": {
      "text/html": [
       "<div>\n",
       "<style scoped>\n",
       "    .dataframe tbody tr th:only-of-type {\n",
       "        vertical-align: middle;\n",
       "    }\n",
       "\n",
       "    .dataframe tbody tr th {\n",
       "        vertical-align: top;\n",
       "    }\n",
       "\n",
       "    .dataframe thead th {\n",
       "        text-align: right;\n",
       "    }\n",
       "</style>\n",
       "<table border=\"1\" class=\"dataframe\">\n",
       "  <thead>\n",
       "    <tr style=\"text-align: right;\">\n",
       "      <th></th>\n",
       "      <th>gene</th>\n",
       "      <th>drug</th>\n",
       "      <th>protein_target</th>\n",
       "      <th>affinity_constant</th>\n",
       "      <th>affinity_constant_type</th>\n",
       "      <th>degree_centrality</th>\n",
       "    </tr>\n",
       "  </thead>\n",
       "  <tbody>\n",
       "    <tr>\n",
       "      <th>0</th>\n",
       "      <td>SCN4A</td>\n",
       "      <td>levobupivacaine</td>\n",
       "      <td>Sodium channel protein type 4 subunit alpha</td>\n",
       "      <td>NaN</td>\n",
       "      <td>NaN</td>\n",
       "      <td>0.000635</td>\n",
       "    </tr>\n",
       "    <tr>\n",
       "      <th>1</th>\n",
       "      <td>CYP2D6</td>\n",
       "      <td>levobupivacaine</td>\n",
       "      <td>Cytochrome P450 2D6</td>\n",
       "      <td>6.706859</td>\n",
       "      <td>IC50</td>\n",
       "      <td>NaN</td>\n",
       "    </tr>\n",
       "    <tr>\n",
       "      <th>4</th>\n",
       "      <td>PTGER1</td>\n",
       "      <td>levobupivacaine</td>\n",
       "      <td>Prostaglandin E2 receptor EP1 subtype</td>\n",
       "      <td>NaN</td>\n",
       "      <td>NaN</td>\n",
       "      <td>0.000317</td>\n",
       "    </tr>\n",
       "    <tr>\n",
       "      <th>5</th>\n",
       "      <td>SCN1A</td>\n",
       "      <td>levobupivacaine</td>\n",
       "      <td>Sodium channel protein type 1 subunit alpha</td>\n",
       "      <td>5.790000</td>\n",
       "      <td>IC50</td>\n",
       "      <td>0.000254</td>\n",
       "    </tr>\n",
       "    <tr>\n",
       "      <th>6</th>\n",
       "      <td>KCNA5</td>\n",
       "      <td>levobupivacaine</td>\n",
       "      <td>Potassium voltage-gated channel subfamily A me...</td>\n",
       "      <td>NaN</td>\n",
       "      <td>NaN</td>\n",
       "      <td>0.002031</td>\n",
       "    </tr>\n",
       "  </tbody>\n",
       "</table>\n",
       "</div>"
      ],
      "text/plain": [
       "     gene             drug                                     protein_target  \\\n",
       "0   SCN4A  levobupivacaine        Sodium channel protein type 4 subunit alpha   \n",
       "1  CYP2D6  levobupivacaine                                Cytochrome P450 2D6   \n",
       "4  PTGER1  levobupivacaine              Prostaglandin E2 receptor EP1 subtype   \n",
       "5   SCN1A  levobupivacaine        Sodium channel protein type 1 subunit alpha   \n",
       "6   KCNA5  levobupivacaine  Potassium voltage-gated channel subfamily A me...   \n",
       "\n",
       "   affinity_constant affinity_constant_type  degree_centrality  \n",
       "0                NaN                    NaN           0.000635  \n",
       "1           6.706859                   IC50                NaN  \n",
       "4                NaN                    NaN           0.000317  \n",
       "5           5.790000                   IC50           0.000254  \n",
       "6                NaN                    NaN           0.002031  "
      ]
     },
     "execution_count": 21,
     "metadata": {},
     "output_type": "execute_result"
    }
   ],
   "source": [
    "# Load drug/target data from DrugCentral\n",
    "drug_target_file_name = '../Data/drug.target.interaction.tsv'\n",
    "drugcentral_df = drugs2.load_drug_target_data(drug_target_file_name, aff_cst_thresh=5)\n",
    "drugcentral_df['degree_centrality'] = [centrality_dic[gene] if (gene in list(centrality_dic.keys())) else None for gene in drugcentral_df['gene']]\n",
    "drugcentral_df.head()"
   ]
  },
  {
   "cell_type": "code",
   "execution_count": 22,
   "metadata": {},
   "outputs": [
    {
     "data": {
      "text/html": [
       "<div>\n",
       "<style scoped>\n",
       "    .dataframe tbody tr th:only-of-type {\n",
       "        vertical-align: middle;\n",
       "    }\n",
       "\n",
       "    .dataframe tbody tr th {\n",
       "        vertical-align: top;\n",
       "    }\n",
       "\n",
       "    .dataframe thead th {\n",
       "        text-align: right;\n",
       "    }\n",
       "</style>\n",
       "<table border=\"1\" class=\"dataframe\">\n",
       "  <thead>\n",
       "    <tr style=\"text-align: right;\">\n",
       "      <th></th>\n",
       "      <th>drug</th>\n",
       "      <th>num_targets</th>\n",
       "      <th>num_terminal_targets</th>\n",
       "      <th>max_target_centrality</th>\n",
       "    </tr>\n",
       "  </thead>\n",
       "  <tbody>\n",
       "    <tr>\n",
       "      <th>1830</th>\n",
       "      <td>sunitinib</td>\n",
       "      <td>260</td>\n",
       "      <td>3</td>\n",
       "      <td>0.055718</td>\n",
       "    </tr>\n",
       "    <tr>\n",
       "      <th>1369</th>\n",
       "      <td>nintedanib</td>\n",
       "      <td>218</td>\n",
       "      <td>2</td>\n",
       "      <td>0.037187</td>\n",
       "    </tr>\n",
       "    <tr>\n",
       "      <th>1269</th>\n",
       "      <td>midostaurin</td>\n",
       "      <td>204</td>\n",
       "      <td>3</td>\n",
       "      <td>0.055718</td>\n",
       "    </tr>\n",
       "    <tr>\n",
       "      <th>259</th>\n",
       "      <td>bosutinib</td>\n",
       "      <td>203</td>\n",
       "      <td>4</td>\n",
       "      <td>0.055718</td>\n",
       "    </tr>\n",
       "    <tr>\n",
       "      <th>474</th>\n",
       "      <td>crizotinib</td>\n",
       "      <td>148</td>\n",
       "      <td>0</td>\n",
       "      <td>0.055718</td>\n",
       "    </tr>\n",
       "    <tr>\n",
       "      <th>1735</th>\n",
       "      <td>ruxolitinib</td>\n",
       "      <td>132</td>\n",
       "      <td>2</td>\n",
       "      <td>0.027224</td>\n",
       "    </tr>\n",
       "    <tr>\n",
       "      <th>508</th>\n",
       "      <td>dasatinib</td>\n",
       "      <td>129</td>\n",
       "      <td>3</td>\n",
       "      <td>0.055718</td>\n",
       "    </tr>\n",
       "    <tr>\n",
       "      <th>1730</th>\n",
       "      <td>ruboxistaurin</td>\n",
       "      <td>121</td>\n",
       "      <td>2</td>\n",
       "      <td>0.055718</td>\n",
       "    </tr>\n",
       "    <tr>\n",
       "      <th>1795</th>\n",
       "      <td>sorafenib</td>\n",
       "      <td>116</td>\n",
       "      <td>1</td>\n",
       "      <td>0.037187</td>\n",
       "    </tr>\n",
       "    <tr>\n",
       "      <th>2031</th>\n",
       "      <td>vandetanib</td>\n",
       "      <td>109</td>\n",
       "      <td>2</td>\n",
       "      <td>0.055718</td>\n",
       "    </tr>\n",
       "  </tbody>\n",
       "</table>\n",
       "</div>"
      ],
      "text/plain": [
       "               drug  num_targets  num_terminal_targets  max_target_centrality\n",
       "1830      sunitinib          260                     3               0.055718\n",
       "1369     nintedanib          218                     2               0.037187\n",
       "1269    midostaurin          204                     3               0.055718\n",
       "259       bosutinib          203                     4               0.055718\n",
       "474      crizotinib          148                     0               0.055718\n",
       "1735    ruxolitinib          132                     2               0.027224\n",
       "508       dasatinib          129                     3               0.055718\n",
       "1730  ruboxistaurin          121                     2               0.055718\n",
       "1795      sorafenib          116                     1               0.037187\n",
       "2031     vandetanib          109                     2               0.055718"
      ]
     },
     "execution_count": 22,
     "metadata": {},
     "output_type": "execute_result"
    }
   ],
   "source": [
    "# Construct table that gives the number of targets per drug\n",
    "num_targets_df0 = drugcentral_df.groupby('drug', as_index=False)[['gene']].agg({\n",
    "    ('num_targets','count'),\n",
    "    ('num_terminal_targets',lambda gs: len(set(gs).intersection(set(terminals))))\n",
    "})\n",
    "max_centrality_df0 = drugcentral_df.groupby('drug', as_index=False)[['degree_centrality']].agg({\n",
    "    ('max_degree_centrality',max)\n",
    "})\n",
    "num_targets_df = pd.DataFrame({'drug': num_targets_df0.index,\n",
    "                               'num_targets': num_targets_df0['gene']['num_targets'],\n",
    "                               'num_terminal_targets': num_targets_df0['gene']['num_terminal_targets'],\n",
    "                               'max_target_centrality': max_centrality_df0['degree_centrality']['max_degree_centrality']}).reset_index(drop=True)\n",
    "num_targets_df = num_targets_df.sort_values(by='num_targets', ascending=False, inplace=False)\n",
    "num_targets_df.head(10)"
   ]
  },
  {
   "cell_type": "code",
   "execution_count": 23,
   "metadata": {},
   "outputs": [
    {
     "data": {
      "text/plain": [
       "[]"
      ]
     },
     "execution_count": 23,
     "metadata": {},
     "output_type": "execute_result"
    },
    {
     "data": {
      "image/png": "[encoded data removed]",
      "text/plain": [
       "<Figure size 432x288 with 1 Axes>"
      ]
     },
     "metadata": {
      "needs_background": "light"
     },
     "output_type": "display_data"
    }
   ],
   "source": [
    "# Histogram of number of targets per drug\n",
    "plt.figure()\n",
    "plt.hist(num_targets_df['num_targets'],50)\n",
    "plt.yscale('log')\n",
    "plt.xlabel('Number of targets')\n",
    "plt.ylabel('Count')\n",
    "plt.plot()"
   ]
  },
  {
   "cell_type": "code",
   "execution_count": 27,
   "metadata": {},
   "outputs": [
    {
     "data": {
      "image/png": "[encoded data removed]",
      "text/plain": [
       "<Figure size 432x288 with 1 Axes>"
      ]
     },
     "metadata": {
      "needs_background": "light"
     },
     "output_type": "display_data"
    },
    {
     "name": "stdout",
     "output_type": "stream",
     "text": [
      "                    drug      corr\n",
      "0              topotecan  0.588089\n",
      "1             dienestrol  0.584938\n",
      "2             dantrolene  0.582324\n",
      "3  chenodeoxycholic-acid  0.581662\n",
      "4         cyproheptadine  0.580766\n",
      "              drug      corr\n",
      "137      carteolol  0.562190\n",
      "138    varenicline  0.562166\n",
      "139     sertraline  0.562072\n",
      "140  carbinoxamine  0.561854\n",
      "141     ivermectin  0.561359\n"
     ]
    }
   ],
   "source": [
    "# Load L1000 drugs with correlations\n",
    "embedded_drugs_file_name = '../Data/iav_correlations_autoencoder_space.txt'\n",
    "bestdrugs_df = pd.read_csv(embedded_drugs_file_name, header=None)\n",
    "bestdrugs_df.columns = ['drug','corr']\n",
    "bestdrugs_df['drug'] = bestdrugs_df['drug'].str.strip(\"()' \").str.lower()\n",
    "bestdrugs_df['corr'] = pd.to_numeric(bestdrugs_df['corr'].str.strip(\"() \"))\n",
    "bestdrugs_df.sort_values(by='corr', axis=0, ascending=False, inplace=True)\n",
    "\n",
    "# Plot histogram of correlations\n",
    "plt.figure()\n",
    "plt.hist(bestdrugs_df['corr'],50)\n",
    "plt.xlabel('anticorrelation')\n",
    "plt.ylabel('count')\n",
    "plt.show()\n",
    "\n",
    "# Select top drugs (most anticorrelated with IAV signature)\n",
    "bestdrugs_df = bestdrugs_df.iloc[:142] # so that we have the same number (142) of selected drugs as in the A549-SARS-Cov-2 analysis\n",
    "print(bestdrugs_df.head())\n",
    "print(bestdrugs_df.tail())"
   ]
  },
  {
   "cell_type": "code",
   "execution_count": 25,
   "metadata": {},
   "outputs": [
    {
     "data": {
      "text/html": [
       "<div>\n",
       "<style scoped>\n",
       "    .dataframe tbody tr th:only-of-type {\n",
       "        vertical-align: middle;\n",
       "    }\n",
       "\n",
       "    .dataframe tbody tr th {\n",
       "        vertical-align: top;\n",
       "    }\n",
       "\n",
       "    .dataframe thead th {\n",
       "        text-align: right;\n",
       "    }\n",
       "</style>\n",
       "<table border=\"1\" class=\"dataframe\">\n",
       "  <thead>\n",
       "    <tr style=\"text-align: right;\">\n",
       "      <th></th>\n",
       "      <th>gene</th>\n",
       "      <th>drug</th>\n",
       "      <th>protein_target</th>\n",
       "      <th>affinity_constant</th>\n",
       "      <th>affinity_constant_type</th>\n",
       "      <th>degree_centrality</th>\n",
       "      <th>corr</th>\n",
       "    </tr>\n",
       "  </thead>\n",
       "  <tbody>\n",
       "    <tr>\n",
       "      <th>0</th>\n",
       "      <td>RARA</td>\n",
       "      <td>acitretin</td>\n",
       "      <td>Retinoic acid receptor alpha</td>\n",
       "      <td>NaN</td>\n",
       "      <td>NaN</td>\n",
       "      <td>0.008821</td>\n",
       "      <td>0.573259</td>\n",
       "    </tr>\n",
       "    <tr>\n",
       "      <th>1</th>\n",
       "      <td>RARG</td>\n",
       "      <td>acitretin</td>\n",
       "      <td>Retinoic acid receptor gamma</td>\n",
       "      <td>NaN</td>\n",
       "      <td>NaN</td>\n",
       "      <td>0.002285</td>\n",
       "      <td>0.573259</td>\n",
       "    </tr>\n",
       "    <tr>\n",
       "      <th>2</th>\n",
       "      <td>CYP19A1</td>\n",
       "      <td>aminoglutethimide</td>\n",
       "      <td>Aromatase</td>\n",
       "      <td>5.110000</td>\n",
       "      <td>IC50</td>\n",
       "      <td>0.000063</td>\n",
       "      <td>0.562267</td>\n",
       "    </tr>\n",
       "    <tr>\n",
       "      <th>3</th>\n",
       "      <td>CYP11A1</td>\n",
       "      <td>aminoglutethimide</td>\n",
       "      <td>Cholesterol side-chain cleavage enzyme, mitoch...</td>\n",
       "      <td>NaN</td>\n",
       "      <td>NaN</td>\n",
       "      <td>0.000317</td>\n",
       "      <td>0.562267</td>\n",
       "    </tr>\n",
       "    <tr>\n",
       "      <th>4</th>\n",
       "      <td>ADRA2A</td>\n",
       "      <td>amitriptyline</td>\n",
       "      <td>Alpha-2A adrenergic receptor</td>\n",
       "      <td>6.879426</td>\n",
       "      <td>Ki</td>\n",
       "      <td>0.000762</td>\n",
       "      <td>0.562447</td>\n",
       "    </tr>\n",
       "  </tbody>\n",
       "</table>\n",
       "</div>"
      ],
      "text/plain": [
       "      gene               drug  \\\n",
       "0     RARA          acitretin   \n",
       "1     RARG          acitretin   \n",
       "2  CYP19A1  aminoglutethimide   \n",
       "3  CYP11A1  aminoglutethimide   \n",
       "4   ADRA2A      amitriptyline   \n",
       "\n",
       "                                      protein_target  affinity_constant  \\\n",
       "0                       Retinoic acid receptor alpha                NaN   \n",
       "1                       Retinoic acid receptor gamma                NaN   \n",
       "2                                          Aromatase           5.110000   \n",
       "3  Cholesterol side-chain cleavage enzyme, mitoch...                NaN   \n",
       "4                       Alpha-2A adrenergic receptor           6.879426   \n",
       "\n",
       "  affinity_constant_type  degree_centrality      corr  \n",
       "0                    NaN           0.008821  0.573259  \n",
       "1                    NaN           0.002285  0.573259  \n",
       "2                   IC50           0.000063  0.562267  \n",
       "3                    NaN           0.000317  0.562267  \n",
       "4                     Ki           0.000762  0.562447  "
      ]
     },
     "execution_count": 25,
     "metadata": {},
     "output_type": "execute_result"
    }
   ],
   "source": [
    "# Merge L1000 drugs with DrugCentral drug/target dataset\n",
    "targets_and_drugs_df = drugcentral_df.merge(bestdrugs_df, on = 'drug', how = 'inner')\n",
    "targets_and_drugs_df.head()"
   ]
  },
  {
   "cell_type": "markdown",
   "metadata": {},
   "source": [
    "## Add drug target information to selected network"
   ]
  },
  {
   "cell_type": "code",
   "execution_count": 26,
   "metadata": {},
   "outputs": [
    {
     "data": {
      "text/plain": [
       "PosixPath('/home/louiscam/projects/sars_cov_2/Save_iav/network_selected_with_drug_info.pickle')"
      ]
     },
     "execution_count": 26,
     "metadata": {},
     "output_type": "execute_result"
    }
   ],
   "source": [
    "network_selected = pickle.load(open('../Save_iav/network_selected.pickle', \"rb\"))\n",
    "network_selected = drugs2.add_drug_info_to_selected_network(network_selected, targets_and_drugs_df)\n",
    "# Save enriched network as pickle\n",
    "oi.output_networkx_graph_as_pickle(network_selected, filename= '../Save_iav/network_selected_with_drug_info.pickle')"
   ]
  },
  {
   "cell_type": "code",
   "execution_count": 26,
   "metadata": {
    "scrolled": true
   },
   "outputs": [
    {
     "data": {
      "text/html": [
       "<div>\n",
       "<style scoped>\n",
       "    .dataframe tbody tr th:only-of-type {\n",
       "        vertical-align: middle;\n",
       "    }\n",
       "\n",
       "    .dataframe tbody tr th {\n",
       "        vertical-align: top;\n",
       "    }\n",
       "\n",
       "    .dataframe thead th {\n",
       "        text-align: right;\n",
       "    }\n",
       "</style>\n",
       "<table border=\"1\" class=\"dataframe\">\n",
       "  <thead>\n",
       "    <tr style=\"text-align: right;\">\n",
       "      <th></th>\n",
       "      <th>name</th>\n",
       "      <th>protein_target</th>\n",
       "      <th>drug</th>\n",
       "      <th>corr</th>\n",
       "      <th>affinity</th>\n",
       "      <th>terminal</th>\n",
       "    </tr>\n",
       "  </thead>\n",
       "  <tbody>\n",
       "    <tr>\n",
       "      <th>AR</th>\n",
       "      <td>AR</td>\n",
       "      <td>{Androgen receptor}</td>\n",
       "      <td>bicalutamide</td>\n",
       "      <td>0.5654368000000001</td>\n",
       "      <td>7.720000</td>\n",
       "      <td>False</td>\n",
       "    </tr>\n",
       "    <tr>\n",
       "      <th>AR</th>\n",
       "      <td>AR</td>\n",
       "      <td>{Androgen receptor}</td>\n",
       "      <td>mifepristone</td>\n",
       "      <td>0.5704236999999999</td>\n",
       "      <td>8.330000</td>\n",
       "      <td>False</td>\n",
       "    </tr>\n",
       "    <tr>\n",
       "      <th>AR</th>\n",
       "      <td>AR</td>\n",
       "      <td>{Androgen receptor}</td>\n",
       "      <td>spironolactone</td>\n",
       "      <td>0.567117</td>\n",
       "      <td>7.400000</td>\n",
       "      <td>False</td>\n",
       "    </tr>\n",
       "    <tr>\n",
       "      <th>EGFR</th>\n",
       "      <td>EGFR</td>\n",
       "      <td>{Epidermal growth factor receptor}</td>\n",
       "      <td>dasatinib</td>\n",
       "      <td>0.57535326</td>\n",
       "      <td>7.100000</td>\n",
       "      <td>False</td>\n",
       "    </tr>\n",
       "    <tr>\n",
       "      <th>EGFR</th>\n",
       "      <td>EGFR</td>\n",
       "      <td>{Epidermal growth factor receptor}</td>\n",
       "      <td>docetaxel</td>\n",
       "      <td>0.57547975</td>\n",
       "      <td>9.086200</td>\n",
       "      <td>False</td>\n",
       "    </tr>\n",
       "    <tr>\n",
       "      <th>EGFR</th>\n",
       "      <td>EGFR</td>\n",
       "      <td>{Epidermal growth factor receptor}</td>\n",
       "      <td>erlotinib</td>\n",
       "      <td>0.57915324</td>\n",
       "      <td>9.220000</td>\n",
       "      <td>False</td>\n",
       "    </tr>\n",
       "    <tr>\n",
       "      <th>EGFR</th>\n",
       "      <td>EGFR</td>\n",
       "      <td>{Epidermal growth factor receptor}</td>\n",
       "      <td>imatinib</td>\n",
       "      <td>0.571095</td>\n",
       "      <td>5.120000</td>\n",
       "      <td>False</td>\n",
       "    </tr>\n",
       "    <tr>\n",
       "      <th>EGFR</th>\n",
       "      <td>EGFR</td>\n",
       "      <td>{Epidermal growth factor receptor}</td>\n",
       "      <td>lapatinib</td>\n",
       "      <td>0.56758004</td>\n",
       "      <td>9.040000</td>\n",
       "      <td>False</td>\n",
       "    </tr>\n",
       "    <tr>\n",
       "      <th>EGFR</th>\n",
       "      <td>EGFR</td>\n",
       "      <td>{Epidermal growth factor receptor}</td>\n",
       "      <td>sunitinib</td>\n",
       "      <td>0.57288677</td>\n",
       "      <td>6.070000</td>\n",
       "      <td>False</td>\n",
       "    </tr>\n",
       "    <tr>\n",
       "      <th>EGFR</th>\n",
       "      <td>EGFR</td>\n",
       "      <td>{Epidermal growth factor receptor}</td>\n",
       "      <td>crizotinib</td>\n",
       "      <td>0.5760193</td>\n",
       "      <td>5.570000</td>\n",
       "      <td>False</td>\n",
       "    </tr>\n",
       "    <tr>\n",
       "      <th>EGFR</th>\n",
       "      <td>EGFR</td>\n",
       "      <td>{Epidermal growth factor receptor}</td>\n",
       "      <td>axitinib</td>\n",
       "      <td>0.572133</td>\n",
       "      <td>5.640000</td>\n",
       "      <td>False</td>\n",
       "    </tr>\n",
       "    <tr>\n",
       "      <th>EGFR</th>\n",
       "      <td>EGFR</td>\n",
       "      <td>{Epidermal growth factor receptor}</td>\n",
       "      <td>afatinib</td>\n",
       "      <td>0.5629283</td>\n",
       "      <td>10.000000</td>\n",
       "      <td>False</td>\n",
       "    </tr>\n",
       "    <tr>\n",
       "      <th>EGFR</th>\n",
       "      <td>EGFR</td>\n",
       "      <td>{Epidermal growth factor receptor}</td>\n",
       "      <td>bosutinib</td>\n",
       "      <td>0.57026654</td>\n",
       "      <td>7.740000</td>\n",
       "      <td>False</td>\n",
       "    </tr>\n",
       "    <tr>\n",
       "      <th>HDAC4</th>\n",
       "      <td>HDAC4</td>\n",
       "      <td>{Histone deacetylase, Histone deacetylase 4}</td>\n",
       "      <td>vorinostat</td>\n",
       "      <td>0.5669271</td>\n",
       "      <td>8.000000</td>\n",
       "      <td>False</td>\n",
       "    </tr>\n",
       "    <tr>\n",
       "      <th>HDAC4</th>\n",
       "      <td>HDAC4</td>\n",
       "      <td>{Histone deacetylase, Histone deacetylase 4}</td>\n",
       "      <td>vorinostat</td>\n",
       "      <td>0.5669271</td>\n",
       "      <td>7.800000</td>\n",
       "      <td>False</td>\n",
       "    </tr>\n",
       "    <tr>\n",
       "      <th>HDAC4</th>\n",
       "      <td>HDAC4</td>\n",
       "      <td>{Histone deacetylase, Histone deacetylase 4}</td>\n",
       "      <td>belinostat</td>\n",
       "      <td>0.57017046</td>\n",
       "      <td>7.568636</td>\n",
       "      <td>False</td>\n",
       "    </tr>\n",
       "    <tr>\n",
       "      <th>HIF1A</th>\n",
       "      <td>HIF1A</td>\n",
       "      <td>{Hypoxia-inducible factor 1-alpha}</td>\n",
       "      <td>topotecan</td>\n",
       "      <td>0.5880886</td>\n",
       "      <td>7.220000</td>\n",
       "      <td>False</td>\n",
       "    </tr>\n",
       "    <tr>\n",
       "      <th>HIPK3</th>\n",
       "      <td>HIPK3</td>\n",
       "      <td>{Homeodomain-interacting protein kinase 3}</td>\n",
       "      <td>sorafenib</td>\n",
       "      <td>0.5658449000000001</td>\n",
       "      <td>6.410000</td>\n",
       "      <td>True</td>\n",
       "    </tr>\n",
       "    <tr>\n",
       "      <th>HIPK3</th>\n",
       "      <td>HIPK3</td>\n",
       "      <td>{Homeodomain-interacting protein kinase 3}</td>\n",
       "      <td>sunitinib</td>\n",
       "      <td>0.57288677</td>\n",
       "      <td>7.390000</td>\n",
       "      <td>True</td>\n",
       "    </tr>\n",
       "    <tr>\n",
       "      <th>HIPK3</th>\n",
       "      <td>HIPK3</td>\n",
       "      <td>{Homeodomain-interacting protein kinase 3}</td>\n",
       "      <td>ruxolitinib</td>\n",
       "      <td>0.5766425000000001</td>\n",
       "      <td>5.920000</td>\n",
       "      <td>True</td>\n",
       "    </tr>\n",
       "    <tr>\n",
       "      <th>HIPK3</th>\n",
       "      <td>HIPK3</td>\n",
       "      <td>{Homeodomain-interacting protein kinase 3}</td>\n",
       "      <td>bosutinib</td>\n",
       "      <td>0.57026654</td>\n",
       "      <td>5.490000</td>\n",
       "      <td>True</td>\n",
       "    </tr>\n",
       "    <tr>\n",
       "      <th>PKMYT1</th>\n",
       "      <td>PKMYT1</td>\n",
       "      <td>{Membrane-associated tyrosine- and threonine-s...</td>\n",
       "      <td>dasatinib</td>\n",
       "      <td>0.57535326</td>\n",
       "      <td>6.890000</td>\n",
       "      <td>True</td>\n",
       "    </tr>\n",
       "    <tr>\n",
       "      <th>PKMYT1</th>\n",
       "      <td>PKMYT1</td>\n",
       "      <td>{Membrane-associated tyrosine- and threonine-s...</td>\n",
       "      <td>bosutinib</td>\n",
       "      <td>0.57026654</td>\n",
       "      <td>6.460000</td>\n",
       "      <td>True</td>\n",
       "    </tr>\n",
       "    <tr>\n",
       "      <th>PRKCE</th>\n",
       "      <td>PRKCE</td>\n",
       "      <td>{Protein kinase C epsilon type}</td>\n",
       "      <td>ruxolitinib</td>\n",
       "      <td>0.5766425000000001</td>\n",
       "      <td>6.280000</td>\n",
       "      <td>True</td>\n",
       "    </tr>\n",
       "    <tr>\n",
       "      <th>PRKCE</th>\n",
       "      <td>PRKCE</td>\n",
       "      <td>{Protein kinase C epsilon type}</td>\n",
       "      <td>bosutinib</td>\n",
       "      <td>0.57026654</td>\n",
       "      <td>5.620000</td>\n",
       "      <td>True</td>\n",
       "    </tr>\n",
       "    <tr>\n",
       "      <th>PTK6</th>\n",
       "      <td>PTK6</td>\n",
       "      <td>{Protein-tyrosine kinase 6}</td>\n",
       "      <td>dasatinib</td>\n",
       "      <td>0.57535326</td>\n",
       "      <td>8.110000</td>\n",
       "      <td>True</td>\n",
       "    </tr>\n",
       "    <tr>\n",
       "      <th>PTK6</th>\n",
       "      <td>PTK6</td>\n",
       "      <td>{Protein-tyrosine kinase 6}</td>\n",
       "      <td>sunitinib</td>\n",
       "      <td>0.57288677</td>\n",
       "      <td>5.340000</td>\n",
       "      <td>True</td>\n",
       "    </tr>\n",
       "    <tr>\n",
       "      <th>PTK6</th>\n",
       "      <td>PTK6</td>\n",
       "      <td>{Protein-tyrosine kinase 6}</td>\n",
       "      <td>pazopanib</td>\n",
       "      <td>0.57953477</td>\n",
       "      <td>5.640000</td>\n",
       "      <td>True</td>\n",
       "    </tr>\n",
       "    <tr>\n",
       "      <th>RIPK1</th>\n",
       "      <td>RIPK1</td>\n",
       "      <td>{Receptor-interacting serine/threonine-protein...</td>\n",
       "      <td>sunitinib</td>\n",
       "      <td>0.57288677</td>\n",
       "      <td>6.430000</td>\n",
       "      <td>False</td>\n",
       "    </tr>\n",
       "    <tr>\n",
       "      <th>RIPK1</th>\n",
       "      <td>RIPK1</td>\n",
       "      <td>{Receptor-interacting serine/threonine-protein...</td>\n",
       "      <td>pazopanib</td>\n",
       "      <td>0.57953477</td>\n",
       "      <td>6.590000</td>\n",
       "      <td>False</td>\n",
       "    </tr>\n",
       "    <tr>\n",
       "      <th>RIPK1</th>\n",
       "      <td>RIPK1</td>\n",
       "      <td>{Receptor-interacting serine/threonine-protein...</td>\n",
       "      <td>crizotinib</td>\n",
       "      <td>0.5760193</td>\n",
       "      <td>5.800000</td>\n",
       "      <td>False</td>\n",
       "    </tr>\n",
       "    <tr>\n",
       "      <th>RIPK1</th>\n",
       "      <td>RIPK1</td>\n",
       "      <td>{Receptor-interacting serine/threonine-protein...</td>\n",
       "      <td>axitinib</td>\n",
       "      <td>0.572133</td>\n",
       "      <td>5.600000</td>\n",
       "      <td>False</td>\n",
       "    </tr>\n",
       "    <tr>\n",
       "      <th>SIK1</th>\n",
       "      <td>SIK1</td>\n",
       "      <td>{Serine/threonine-protein kinase SIK1}</td>\n",
       "      <td>dasatinib</td>\n",
       "      <td>0.57535326</td>\n",
       "      <td>8.410000</td>\n",
       "      <td>True</td>\n",
       "    </tr>\n",
       "    <tr>\n",
       "      <th>SIK1</th>\n",
       "      <td>SIK1</td>\n",
       "      <td>{Serine/threonine-protein kinase SIK1}</td>\n",
       "      <td>sunitinib</td>\n",
       "      <td>0.57288677</td>\n",
       "      <td>5.490000</td>\n",
       "      <td>True</td>\n",
       "    </tr>\n",
       "    <tr>\n",
       "      <th>SIK1</th>\n",
       "      <td>SIK1</td>\n",
       "      <td>{Serine/threonine-protein kinase SIK1}</td>\n",
       "      <td>pazopanib</td>\n",
       "      <td>0.57953477</td>\n",
       "      <td>5.660000</td>\n",
       "      <td>True</td>\n",
       "    </tr>\n",
       "    <tr>\n",
       "      <th>SIK1</th>\n",
       "      <td>SIK1</td>\n",
       "      <td>{Serine/threonine-protein kinase SIK1}</td>\n",
       "      <td>axitinib</td>\n",
       "      <td>0.572133</td>\n",
       "      <td>5.680000</td>\n",
       "      <td>True</td>\n",
       "    </tr>\n",
       "    <tr>\n",
       "      <th>SIK1</th>\n",
       "      <td>SIK1</td>\n",
       "      <td>{Serine/threonine-protein kinase SIK1}</td>\n",
       "      <td>bosutinib</td>\n",
       "      <td>0.57026654</td>\n",
       "      <td>7.520000</td>\n",
       "      <td>True</td>\n",
       "    </tr>\n",
       "    <tr>\n",
       "      <th>VKORC1</th>\n",
       "      <td>VKORC1</td>\n",
       "      <td>{Vitamin K epoxide reductase complex subunit 1}</td>\n",
       "      <td>warfarin</td>\n",
       "      <td>0.5645651999999999</td>\n",
       "      <td>7.000000</td>\n",
       "      <td>False</td>\n",
       "    </tr>\n",
       "  </tbody>\n",
       "</table>\n",
       "</div>"
      ],
      "text/plain": [
       "          name                                     protein_target  \\\n",
       "AR          AR                                {Androgen receptor}   \n",
       "AR          AR                                {Androgen receptor}   \n",
       "AR          AR                                {Androgen receptor}   \n",
       "EGFR      EGFR                 {Epidermal growth factor receptor}   \n",
       "EGFR      EGFR                 {Epidermal growth factor receptor}   \n",
       "EGFR      EGFR                 {Epidermal growth factor receptor}   \n",
       "EGFR      EGFR                 {Epidermal growth factor receptor}   \n",
       "EGFR      EGFR                 {Epidermal growth factor receptor}   \n",
       "EGFR      EGFR                 {Epidermal growth factor receptor}   \n",
       "EGFR      EGFR                 {Epidermal growth factor receptor}   \n",
       "EGFR      EGFR                 {Epidermal growth factor receptor}   \n",
       "EGFR      EGFR                 {Epidermal growth factor receptor}   \n",
       "EGFR      EGFR                 {Epidermal growth factor receptor}   \n",
       "HDAC4    HDAC4       {Histone deacetylase, Histone deacetylase 4}   \n",
       "HDAC4    HDAC4       {Histone deacetylase, Histone deacetylase 4}   \n",
       "HDAC4    HDAC4       {Histone deacetylase, Histone deacetylase 4}   \n",
       "HIF1A    HIF1A                 {Hypoxia-inducible factor 1-alpha}   \n",
       "HIPK3    HIPK3         {Homeodomain-interacting protein kinase 3}   \n",
       "HIPK3    HIPK3         {Homeodomain-interacting protein kinase 3}   \n",
       "HIPK3    HIPK3         {Homeodomain-interacting protein kinase 3}   \n",
       "HIPK3    HIPK3         {Homeodomain-interacting protein kinase 3}   \n",
       "PKMYT1  PKMYT1  {Membrane-associated tyrosine- and threonine-s...   \n",
       "PKMYT1  PKMYT1  {Membrane-associated tyrosine- and threonine-s...   \n",
       "PRKCE    PRKCE                    {Protein kinase C epsilon type}   \n",
       "PRKCE    PRKCE                    {Protein kinase C epsilon type}   \n",
       "PTK6      PTK6                        {Protein-tyrosine kinase 6}   \n",
       "PTK6      PTK6                        {Protein-tyrosine kinase 6}   \n",
       "PTK6      PTK6                        {Protein-tyrosine kinase 6}   \n",
       "RIPK1    RIPK1  {Receptor-interacting serine/threonine-protein...   \n",
       "RIPK1    RIPK1  {Receptor-interacting serine/threonine-protein...   \n",
       "RIPK1    RIPK1  {Receptor-interacting serine/threonine-protein...   \n",
       "RIPK1    RIPK1  {Receptor-interacting serine/threonine-protein...   \n",
       "SIK1      SIK1             {Serine/threonine-protein kinase SIK1}   \n",
       "SIK1      SIK1             {Serine/threonine-protein kinase SIK1}   \n",
       "SIK1      SIK1             {Serine/threonine-protein kinase SIK1}   \n",
       "SIK1      SIK1             {Serine/threonine-protein kinase SIK1}   \n",
       "SIK1      SIK1             {Serine/threonine-protein kinase SIK1}   \n",
       "VKORC1  VKORC1    {Vitamin K epoxide reductase complex subunit 1}   \n",
       "\n",
       "                  drug                corr   affinity  terminal  \n",
       "AR        bicalutamide  0.5654368000000001   7.720000     False  \n",
       "AR        mifepristone  0.5704236999999999   8.330000     False  \n",
       "AR      spironolactone            0.567117   7.400000     False  \n",
       "EGFR         dasatinib          0.57535326   7.100000     False  \n",
       "EGFR         docetaxel          0.57547975   9.086200     False  \n",
       "EGFR         erlotinib          0.57915324   9.220000     False  \n",
       "EGFR          imatinib            0.571095   5.120000     False  \n",
       "EGFR         lapatinib          0.56758004   9.040000     False  \n",
       "EGFR         sunitinib          0.57288677   6.070000     False  \n",
       "EGFR        crizotinib           0.5760193   5.570000     False  \n",
       "EGFR          axitinib            0.572133   5.640000     False  \n",
       "EGFR          afatinib           0.5629283  10.000000     False  \n",
       "EGFR         bosutinib          0.57026654   7.740000     False  \n",
       "HDAC4       vorinostat           0.5669271   8.000000     False  \n",
       "HDAC4       vorinostat           0.5669271   7.800000     False  \n",
       "HDAC4       belinostat          0.57017046   7.568636     False  \n",
       "HIF1A        topotecan           0.5880886   7.220000     False  \n",
       "HIPK3        sorafenib  0.5658449000000001   6.410000      True  \n",
       "HIPK3        sunitinib          0.57288677   7.390000      True  \n",
       "HIPK3      ruxolitinib  0.5766425000000001   5.920000      True  \n",
       "HIPK3        bosutinib          0.57026654   5.490000      True  \n",
       "PKMYT1       dasatinib          0.57535326   6.890000      True  \n",
       "PKMYT1       bosutinib          0.57026654   6.460000      True  \n",
       "PRKCE      ruxolitinib  0.5766425000000001   6.280000      True  \n",
       "PRKCE        bosutinib          0.57026654   5.620000      True  \n",
       "PTK6         dasatinib          0.57535326   8.110000      True  \n",
       "PTK6         sunitinib          0.57288677   5.340000      True  \n",
       "PTK6         pazopanib          0.57953477   5.640000      True  \n",
       "RIPK1        sunitinib          0.57288677   6.430000     False  \n",
       "RIPK1        pazopanib          0.57953477   6.590000     False  \n",
       "RIPK1       crizotinib           0.5760193   5.800000     False  \n",
       "RIPK1         axitinib            0.572133   5.600000     False  \n",
       "SIK1         dasatinib          0.57535326   8.410000      True  \n",
       "SIK1         sunitinib          0.57288677   5.490000      True  \n",
       "SIK1         pazopanib          0.57953477   5.660000      True  \n",
       "SIK1          axitinib            0.572133   5.680000      True  \n",
       "SIK1         bosutinib          0.57026654   7.520000      True  \n",
       "VKORC1        warfarin  0.5645651999999999   7.000000     False  "
      ]
     },
     "execution_count": 26,
     "metadata": {},
     "output_type": "execute_result"
    }
   ],
   "source": [
    "# Construct table of drug targets in the network\n",
    "drug_targets_df = drugs2.drug_targets_in_selected_network(network_selected)\n",
    "drug_targets_df.to_csv(r'../Save_iav/drug_targets_in_network.tsv', header=True, index=None, sep='\\t', quoting = csv.QUOTE_NONE, escapechar = '\\t')\n",
    "drug_targets_df['affinity'] = pd.to_numeric(drug_targets_df['affinity'], errors='coerce')\n",
    "drug_targets_df.dropna(subset=['affinity'], inplace=True)\n",
    "drug_targets_df['terminal'] = drug_targets_df['name'].isin(terminals)\n",
    "drug_targets_df"
   ]
  },
  {
   "cell_type": "code",
   "execution_count": 27,
   "metadata": {},
   "outputs": [],
   "source": [
    "# Save drug/target dataframe to csv\n",
    "drug_targets_df.to_csv(r'../Save_iav/final_drug_target_table.tsv', header=True, index=None, sep='\\t', quoting = csv.QUOTE_NONE, escapechar = '\\t')"
   ]
  },
  {
   "cell_type": "markdown",
   "metadata": {},
   "source": [
    "# Compare to A549 cell type"
   ]
  },
  {
   "cell_type": "code",
   "execution_count": 28,
   "metadata": {},
   "outputs": [
    {
     "data": {
      "text/html": [
       "<div>\n",
       "<style scoped>\n",
       "    .dataframe tbody tr th:only-of-type {\n",
       "        vertical-align: middle;\n",
       "    }\n",
       "\n",
       "    .dataframe tbody tr th {\n",
       "        vertical-align: top;\n",
       "    }\n",
       "\n",
       "    .dataframe thead th {\n",
       "        text-align: right;\n",
       "    }\n",
       "</style>\n",
       "<table border=\"1\" class=\"dataframe\">\n",
       "  <thead>\n",
       "    <tr style=\"text-align: right;\">\n",
       "      <th></th>\n",
       "      <th>name</th>\n",
       "      <th>protein_target</th>\n",
       "      <th>drug</th>\n",
       "      <th>corr</th>\n",
       "      <th>affinity</th>\n",
       "    </tr>\n",
       "  </thead>\n",
       "  <tbody>\n",
       "    <tr>\n",
       "      <th>0</th>\n",
       "      <td>ACVR2A</td>\n",
       "      <td>{'Activin receptor type-2A'}</td>\n",
       "      <td>dasatinib</td>\n",
       "      <td>0.882561</td>\n",
       "      <td>6.68</td>\n",
       "    </tr>\n",
       "    <tr>\n",
       "      <th>1</th>\n",
       "      <td>AURKC</td>\n",
       "      <td>{'Aurora kinase C'}</td>\n",
       "      <td>erlotinib</td>\n",
       "      <td>0.873780</td>\n",
       "      <td>6.22</td>\n",
       "    </tr>\n",
       "    <tr>\n",
       "      <th>2</th>\n",
       "      <td>AURKC</td>\n",
       "      <td>{'Aurora kinase C'}</td>\n",
       "      <td>sorafenib</td>\n",
       "      <td>0.865171</td>\n",
       "      <td>6.68</td>\n",
       "    </tr>\n",
       "    <tr>\n",
       "      <th>3</th>\n",
       "      <td>AURKC</td>\n",
       "      <td>{'Aurora kinase C'}</td>\n",
       "      <td>sunitinib</td>\n",
       "      <td>0.868590</td>\n",
       "      <td>6.66</td>\n",
       "    </tr>\n",
       "    <tr>\n",
       "      <th>4</th>\n",
       "      <td>AURKC</td>\n",
       "      <td>{'Aurora kinase C'}</td>\n",
       "      <td>pazopanib</td>\n",
       "      <td>0.866959</td>\n",
       "      <td>6.12</td>\n",
       "    </tr>\n",
       "  </tbody>\n",
       "</table>\n",
       "</div>"
      ],
      "text/plain": [
       "     name                protein_target       drug      corr  affinity\n",
       "0  ACVR2A  {'Activin receptor type-2A'}  dasatinib  0.882561      6.68\n",
       "1   AURKC           {'Aurora kinase C'}  erlotinib  0.873780      6.22\n",
       "2   AURKC           {'Aurora kinase C'}  sorafenib  0.865171      6.68\n",
       "3   AURKC           {'Aurora kinase C'}  sunitinib  0.868590      6.66\n",
       "4   AURKC           {'Aurora kinase C'}  pazopanib  0.866959      6.12"
      ]
     },
     "execution_count": 28,
     "metadata": {},
     "output_type": "execute_result"
    }
   ],
   "source": [
    "# Drug/target dataframe for A549\n",
    "drug_targets_df_a549_file_name = '../Save/final_drug_target_table.tsv'\n",
    "drug_targets_df_a549 = pd.read_csv(drug_targets_df_a549_file_name, sep = '\\t')\n",
    "drug_targets_df_a549.head()"
   ]
  },
  {
   "cell_type": "code",
   "execution_count": 41,
   "metadata": {},
   "outputs": [
    {
     "data": {
      "image/png": "[encoded data removed]",
      "text/plain": [
       "<Figure size 432x288 with 1 Axes>"
      ]
     },
     "metadata": {},
     "output_type": "display_data"
    },
    {
     "name": "stdout",
     "output_type": "stream",
     "text": [
      "['EGFR', 'RIPK1']\n",
      "['AR', 'HDAC4', 'HIF1A', 'HIPK3', 'PKMYT1', 'PRKCE', 'PTK6', 'SIK1', 'VKORC1']\n"
     ]
    }
   ],
   "source": [
    "# Common gene targets\n",
    "targets_iav = set(drug_targets_df['name'])\n",
    "targets_a549 = set(drug_targets_df_a549['name'])\n",
    "\n",
    "# plot Venn diagram IAV vs SARS-Cov-2\n",
    "plt.figure()\n",
    "venn2(subsets = [targets_iav,targets_a549],\n",
    "      set_labels = ('IAV gene targets','SARS-Cov-2 gene targets'),\n",
    "      set_colors=('r', 'g'), \n",
    "      alpha = 0.5)\n",
    "#venn2_circles(subsets = [targets_iav,targets_a549])\n",
    "plt.savefig('../Save_iav/venn2_iav_sars_genes.pdf', format='pdf')\n",
    "plt.show()\n",
    "\n",
    "print(sorted(targets_iav.intersection(targets_a549)))\n",
    "print(sorted(targets_iav.difference(targets_a549)))"
   ]
  },
  {
   "cell_type": "code",
   "execution_count": 46,
   "metadata": {},
   "outputs": [
    {
     "data": {
      "image/png": "[encoded data removed]",
      "text/plain": [
       "<Figure size 432x288 with 1 Axes>"
      ]
     },
     "metadata": {},
     "output_type": "display_data"
    },
    {
     "name": "stdout",
     "output_type": "stream",
     "text": [
      "['formoterol', 'milrinone', 'primaquine', 'tofacitinib', 'vardenafil']\n",
      "['bicalutamide', 'crizotinib', 'lapatinib', 'mifepristone', 'spironolactone', 'topotecan', 'warfarin']\n",
      "['afatinib', 'axitinib', 'belinostat', 'bosutinib', 'dasatinib', 'docetaxel', 'erlotinib', 'imatinib', 'pazopanib', 'ruxolitinib', 'sorafenib', 'sunitinib', 'vorinostat']\n"
     ]
    }
   ],
   "source": [
    "# Common drugs\n",
    "drugs_iav = set(drug_targets_df['drug'])\n",
    "drugs_a549 = set(drug_targets_df_a549['drug'])\n",
    "\n",
    "# plot Venn diagram IAV vs SARS-Cov-2\n",
    "plt.figure()\n",
    "venn2(subsets = [drugs_iav,drugs_a549],\n",
    "      set_labels = ('IAV drugs','SARS-Cov-2 drugs'),\n",
    "      set_colors=('r', 'g'), \n",
    "      alpha = 0.5)\n",
    "#venn2_circles(subsets = [targets_iav,targets_a549])\n",
    "plt.savefig('../Save_iav/venn2_iav_sars_drugs.pdf', format='pdf')\n",
    "plt.show()\n",
    "\n",
    "a549_minus_iav = num_targets_df.loc[num_targets_df['drug'].isin(drugs_a549.difference(drugs_iav))]\n",
    "iav_minus_a549 = num_targets_df.loc[num_targets_df['drug'].isin(drugs_iav.difference(drugs_a549))]\n",
    "a549_inter_iav = num_targets_df.loc[num_targets_df['drug'].isin(drugs_a549.intersection(drugs_iav))]\n",
    "\n",
    "print(sorted(set(a549_minus_iav['drug'])))\n",
    "print(sorted(set(iav_minus_a549['drug'])))\n",
    "print(sorted(set(a549_inter_iav['drug'])))"
   ]
  },
  {
   "cell_type": "code",
   "execution_count": null,
   "metadata": {},
   "outputs": [],
   "source": []
  }
 ],
 "metadata": {
  "kernelspec": {
   "display_name": "Python 3",
   "language": "python",
   "name": "python3"
  },
  "language_info": {
   "codemirror_mode": {
    "name": "ipython",
    "version": 3
   },
   "file_extension": ".py",
   "mimetype": "text/x-python",
   "name": "python",
   "nbconvert_exporter": "python",
   "pygments_lexer": "ipython3",
   "version": "3.7.4"
  }
 },
 "nbformat": 4,
 "nbformat_minor": 2
}
