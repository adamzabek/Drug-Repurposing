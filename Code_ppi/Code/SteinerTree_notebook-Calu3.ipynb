{
 "cells": [
  {
   "cell_type": "markdown",
   "metadata": {},
   "source": [
    "# Imports"
   ]
  },
  {
   "cell_type": "code",
   "execution_count": 3,
   "metadata": {},
   "outputs": [],
   "source": [
    "# Import standard libraries\n",
    "import csv\n",
    "import OmicsIntegrator as oi\n",
    "import pandas as pd\n",
    "import numpy as np\n",
    "import scipy.stats as ss\n",
    "import networkx as nx\n",
    "import matplotlib.pyplot as plt\n",
    "from matplotlib_venn import venn2, venn3\n",
    "import pickle\n",
    "import tqdm\n",
    "import time\n",
    "\n",
    "# Import custom libraries\n",
    "import drugs2\n",
    "import prizes\n",
    "import sensitivity_analysis as sensitivity\n",
    "import sensitivity_sarspartners as svp\n",
    "import neighborhoods as nbh"
   ]
  },
  {
   "cell_type": "markdown",
   "metadata": {},
   "source": [
    "# Create prized list"
   ]
  },
  {
   "cell_type": "markdown",
   "metadata": {},
   "source": [
    "## Select Calu3 differentially expressed genes (with aging information)"
   ]
  },
  {
   "cell_type": "code",
   "execution_count": 4,
   "metadata": {},
   "outputs": [],
   "source": [
    "# Load Calu3 DE genes data\n",
    "calu3_de_genes_file_name = '../Data/calu_genes.csv'\n",
    "calu3_genes_df = pd.read_csv(calu3_de_genes_file_name)"
   ]
  },
  {
   "cell_type": "code",
   "execution_count": 5,
   "metadata": {},
   "outputs": [],
   "source": [
    "# Minor reformatting\n",
    "calu3_genes_df.columns = ['name','log2FC_blanco','log2FC_ageing']\n",
    "calu3_genes_df = calu3_genes_df.replace([np.inf, -np.inf], np.nan)\n",
    "calu3_genes_df = calu3_genes_df.dropna(subset = ['log2FC_blanco','log2FC_ageing'], how='any')\n",
    "calu3_genes_df['name'] = calu3_genes_df['name'].str.upper().str.strip()"
   ]
  },
  {
   "cell_type": "code",
   "execution_count": 6,
   "metadata": {},
   "outputs": [
    {
     "data": {
      "text/html": [
       "<div>\n",
       "<style scoped>\n",
       "    .dataframe tbody tr th:only-of-type {\n",
       "        vertical-align: middle;\n",
       "    }\n",
       "\n",
       "    .dataframe tbody tr th {\n",
       "        vertical-align: top;\n",
       "    }\n",
       "\n",
       "    .dataframe thead th {\n",
       "        text-align: right;\n",
       "    }\n",
       "</style>\n",
       "<table border=\"1\" class=\"dataframe\">\n",
       "  <thead>\n",
       "    <tr style=\"text-align: right;\">\n",
       "      <th></th>\n",
       "      <th>name</th>\n",
       "      <th>log2FC_blanco</th>\n",
       "      <th>log2FC_ageing</th>\n",
       "    </tr>\n",
       "  </thead>\n",
       "  <tbody>\n",
       "    <tr>\n",
       "      <th>0</th>\n",
       "      <td>DLGAP5</td>\n",
       "      <td>-1.424971</td>\n",
       "      <td>-0.683937</td>\n",
       "    </tr>\n",
       "    <tr>\n",
       "      <th>1</th>\n",
       "      <td>B3GNT7</td>\n",
       "      <td>1.531108</td>\n",
       "      <td>-0.616788</td>\n",
       "    </tr>\n",
       "    <tr>\n",
       "      <th>2</th>\n",
       "      <td>POC1A</td>\n",
       "      <td>-0.742422</td>\n",
       "      <td>-0.424127</td>\n",
       "    </tr>\n",
       "    <tr>\n",
       "      <th>3</th>\n",
       "      <td>RASA2</td>\n",
       "      <td>0.694723</td>\n",
       "      <td>0.366058</td>\n",
       "    </tr>\n",
       "    <tr>\n",
       "      <th>4</th>\n",
       "      <td>WHAMM</td>\n",
       "      <td>0.706843</td>\n",
       "      <td>0.424502</td>\n",
       "    </tr>\n",
       "  </tbody>\n",
       "</table>\n",
       "</div>"
      ],
      "text/plain": [
       "     name  log2FC_blanco  log2FC_ageing\n",
       "0  DLGAP5      -1.424971      -0.683937\n",
       "1  B3GNT7       1.531108      -0.616788\n",
       "2   POC1A      -0.742422      -0.424127\n",
       "3   RASA2       0.694723       0.366058\n",
       "4   WHAMM       0.706843       0.424502"
      ]
     },
     "execution_count": 6,
     "metadata": {},
     "output_type": "execute_result"
    }
   ],
   "source": [
    "# Keep only protein coding genes\n",
    "protein_coding_genes_file_name = '../Data/protein_coding_ensembl_gene_id_hgnc_hg19.txt'\n",
    "coding_genes = prizes.load_protein_coding_genes(protein_coding_genes_file_name)\n",
    "calu3_genes_df = calu3_genes_df.merge(coding_genes, on = 'name', how = 'inner')\n",
    "calu3_genes_df.head()"
   ]
  },
  {
   "cell_type": "markdown",
   "metadata": {},
   "source": [
    "## Create final prized list"
   ]
  },
  {
   "cell_type": "code",
   "execution_count": 7,
   "metadata": {},
   "outputs": [
    {
     "data": {
      "text/html": [
       "<div>\n",
       "<style scoped>\n",
       "    .dataframe tbody tr th:only-of-type {\n",
       "        vertical-align: middle;\n",
       "    }\n",
       "\n",
       "    .dataframe tbody tr th {\n",
       "        vertical-align: top;\n",
       "    }\n",
       "\n",
       "    .dataframe thead th {\n",
       "        text-align: right;\n",
       "    }\n",
       "</style>\n",
       "<table border=\"1\" class=\"dataframe\">\n",
       "  <thead>\n",
       "    <tr style=\"text-align: right;\">\n",
       "      <th></th>\n",
       "      <th>name</th>\n",
       "      <th>prize</th>\n",
       "      <th>log2FC_blanco</th>\n",
       "      <th>log2FC_ageing</th>\n",
       "    </tr>\n",
       "  </thead>\n",
       "  <tbody>\n",
       "    <tr>\n",
       "      <th>0</th>\n",
       "      <td>DLGAP5</td>\n",
       "      <td>1.424971</td>\n",
       "      <td>-1.424971</td>\n",
       "      <td>-0.683937</td>\n",
       "    </tr>\n",
       "    <tr>\n",
       "      <th>2</th>\n",
       "      <td>POC1A</td>\n",
       "      <td>0.742422</td>\n",
       "      <td>-0.742422</td>\n",
       "      <td>-0.424127</td>\n",
       "    </tr>\n",
       "    <tr>\n",
       "      <th>3</th>\n",
       "      <td>RASA2</td>\n",
       "      <td>0.694723</td>\n",
       "      <td>0.694723</td>\n",
       "      <td>0.366058</td>\n",
       "    </tr>\n",
       "    <tr>\n",
       "      <th>4</th>\n",
       "      <td>WHAMM</td>\n",
       "      <td>0.706843</td>\n",
       "      <td>0.706843</td>\n",
       "      <td>0.424502</td>\n",
       "    </tr>\n",
       "    <tr>\n",
       "      <th>5</th>\n",
       "      <td>FEN1</td>\n",
       "      <td>0.970364</td>\n",
       "      <td>-0.970364</td>\n",
       "      <td>-0.851541</td>\n",
       "    </tr>\n",
       "  </tbody>\n",
       "</table>\n",
       "</div>"
      ],
      "text/plain": [
       "     name     prize  log2FC_blanco  log2FC_ageing\n",
       "0  DLGAP5  1.424971      -1.424971      -0.683937\n",
       "2   POC1A  0.742422      -0.742422      -0.424127\n",
       "3   RASA2  0.694723       0.694723       0.366058\n",
       "4   WHAMM  0.706843       0.706843       0.424502\n",
       "5    FEN1  0.970364      -0.970364      -0.851541"
      ]
     },
     "execution_count": 7,
     "metadata": {},
     "output_type": "execute_result"
    }
   ],
   "source": [
    "terminal_df = calu3_genes_df\n",
    "terminal_df = terminal_df.loc[terminal_df['log2FC_blanco']*terminal_df['log2FC_ageing']>0]\n",
    "terminal_df.insert(1,'prize', np.abs(terminal_df['log2FC_blanco']))\n",
    "terminal_df.head()"
   ]
  },
  {
   "cell_type": "code",
   "execution_count": 8,
   "metadata": {},
   "outputs": [],
   "source": [
    "# Save terminal df to tsv\n",
    "terminal_df.to_csv(r'../Save_calu3/terminals_ppi_analysis.tsv', header=True, index=None, sep='\\t', quoting = csv.QUOTE_NONE, escapechar = '\\t')"
   ]
  },
  {
   "cell_type": "markdown",
   "metadata": {},
   "source": [
    "# Prepare the sentivity analysis for Stein tree parameters"
   ]
  },
  {
   "cell_type": "markdown",
   "metadata": {},
   "source": [
    "## W range"
   ]
  },
  {
   "cell_type": "code",
   "execution_count": 9,
   "metadata": {},
   "outputs": [],
   "source": [
    "# Load prizes data\n",
    "prizes_data = terminal_df\n",
    "terminals = list(prizes_data['name'])\n",
    "n_terminals = len(terminals)"
   ]
  },
  {
   "cell_type": "code",
   "execution_count": 10,
   "metadata": {},
   "outputs": [],
   "source": [
    "# Load IREF interactome\n",
    "interactome_file = \"../Data/iRefIndex_v14_MIScore_interactome_C9.costs.allcaps.txt\"\n",
    "graph = oi.Graph(interactome_file)"
   ]
  },
  {
   "cell_type": "code",
   "execution_count": 59,
   "metadata": {},
   "outputs": [
    {
     "name": "stderr",
     "output_type": "stream",
     "text": [
      "100%|██████████| 162/162 [38:54<00:00, 14.41s/it] \n"
     ]
    }
   ],
   "source": [
    "# Distribution of cheapest path between any two terminals without penalty (g=-\\infty)\n",
    "network = graph.interactome_graph\n",
    "shortest_dist_mat = np.zeros(shape = (n_terminals,n_terminals))\n",
    "for ix_prot1 in tqdm.tqdm(np.arange(n_terminals)):\n",
    "    time.sleep(0.01)\n",
    "    for ix_prot2 in np.arange(ix_prot1+1, n_terminals, 1):\n",
    "        shortest_dist_mat[ix_prot1,ix_prot2] = nx.dijkstra_path_length(network,\n",
    "                                                                       source = terminals[ix_prot1],\n",
    "                                                                       target = terminals[ix_prot2],\n",
    "                                                                       weight = 'cost')\n",
    "        shortest_dist_mat[ix_prot2,ix_prot2] = shortest_dist_mat[ix_prot1,ix_prot2]"
   ]
  },
  {
   "cell_type": "code",
   "execution_count": 63,
   "metadata": {},
   "outputs": [
    {
     "data": {
      "text/plain": [
       "<matplotlib.colorbar.Colorbar at 0x7f1b9fb11f50>"
      ]
     },
     "execution_count": 63,
     "metadata": {},
     "output_type": "execute_result"
    },
    {
     "data": {
      "image/png": "[encoded data removed]",
      "text/plain": [
       "<Figure size 288x288 with 2 Axes>"
      ]
     },
     "metadata": {
      "needs_background": "light"
     },
     "output_type": "display_data"
    }
   ],
   "source": [
    "# Plot heatmap of cheapest path\n",
    "plt.matshow(np.transpose(shortest_dist_mat))\n",
    "plt.xlabel('terminals')\n",
    "plt.ylabel('terminals')\n",
    "plt.colorbar()"
   ]
  },
  {
   "cell_type": "code",
   "execution_count": 64,
   "metadata": {},
   "outputs": [
    {
     "data": {
      "text/plain": [
       "Text(0, 0.5, 'Number of pairs of terminals')"
      ]
     },
     "execution_count": 64,
     "metadata": {},
     "output_type": "execute_result"
    },
    {
     "data": {
      "image/png": "[encoded data removed]",
      "text/plain": [
       "<Figure size 432x288 with 1 Axes>"
      ]
     },
     "metadata": {
      "needs_background": "light"
     },
     "output_type": "display_data"
    }
   ],
   "source": [
    "# Plot histogram of cheapest path\n",
    "plt.subplot(1,2,1)\n",
    "flat_mat = shortest_dist_mat[np.triu_indices(n_terminals, k=1)]\n",
    "plt.hist(flat_mat,40)\n",
    "plt.xlabel('Cost of shortest path between two terminals')\n",
    "plt.ylabel('Number of pairs of terminals')"
   ]
  },
  {
   "cell_type": "markdown",
   "metadata": {},
   "source": [
    "## G range"
   ]
  },
  {
   "cell_type": "code",
   "execution_count": 11,
   "metadata": {},
   "outputs": [],
   "source": [
    "# Create a dictionary containing edge costs under several choices of g\n",
    "g_range = [0,1,2,3,4,5]\n",
    "edge_costs_dict={'g = -Inf': graph.edge_costs}\n",
    "for g in g_range:\n",
    "    params = {\"w\": 0, \"b\": 1, \"g\": g, \"edge_noise\": 0, \"dummy_mode\": \"terminals\", \"seed\": 0, \"skip_checks\": False}\n",
    "    graph._reset_hyperparameters(params)\n",
    "    edge_costs_dict['g='+str(g)] = graph.costs\n",
    "edge_costs_df = pd.DataFrame(data = edge_costs_dict)"
   ]
  },
  {
   "cell_type": "code",
   "execution_count": 12,
   "metadata": {},
   "outputs": [
    {
     "data": {
      "image/png": "[encoded data removed]",
      "text/plain": [
       "<Figure size 432x288 with 1 Axes>"
      ]
     },
     "metadata": {
      "needs_background": "light"
     },
     "output_type": "display_data"
    }
   ],
   "source": [
    "# Boxplot of edge costs under several choices of g\n",
    "plt.figure()\n",
    "edge_costs_df.boxplot()\n",
    "plt.yscale('log')\n",
    "plt.ylabel('penalized edge cost')\n",
    "plt.title('Boxplots of penalized edge costs in IREF for different values of g')\n",
    "plt.show()"
   ]
  },
  {
   "cell_type": "markdown",
   "metadata": {},
   "source": [
    "## B range"
   ]
  },
  {
   "cell_type": "code",
   "execution_count": 13,
   "metadata": {
    "scrolled": true
   },
   "outputs": [
    {
     "data": {
      "text/html": [
       "<div>\n",
       "<style scoped>\n",
       "    .dataframe tbody tr th:only-of-type {\n",
       "        vertical-align: middle;\n",
       "    }\n",
       "\n",
       "    .dataframe tbody tr th {\n",
       "        vertical-align: top;\n",
       "    }\n",
       "\n",
       "    .dataframe thead th {\n",
       "        text-align: right;\n",
       "    }\n",
       "</style>\n",
       "<table border=\"1\" class=\"dataframe\">\n",
       "  <thead>\n",
       "    <tr style=\"text-align: right;\">\n",
       "      <th></th>\n",
       "      <th>max_penalized_edge_cost</th>\n",
       "    </tr>\n",
       "  </thead>\n",
       "  <tbody>\n",
       "    <tr>\n",
       "      <th>g = -Inf</th>\n",
       "      <td>0.859220</td>\n",
       "    </tr>\n",
       "    <tr>\n",
       "      <th>g=0</th>\n",
       "      <td>0.860892</td>\n",
       "    </tr>\n",
       "    <tr>\n",
       "      <th>g=1</th>\n",
       "      <td>2.015303</td>\n",
       "    </tr>\n",
       "    <tr>\n",
       "      <th>g=2</th>\n",
       "      <td>19.487738</td>\n",
       "    </tr>\n",
       "    <tr>\n",
       "      <th>g=3</th>\n",
       "      <td>194.212079</td>\n",
       "    </tr>\n",
       "    <tr>\n",
       "      <th>g=4</th>\n",
       "      <td>1941.455488</td>\n",
       "    </tr>\n",
       "    <tr>\n",
       "      <th>g=5</th>\n",
       "      <td>19413.889586</td>\n",
       "    </tr>\n",
       "  </tbody>\n",
       "</table>\n",
       "</div>"
      ],
      "text/plain": [
       "          max_penalized_edge_cost\n",
       "g = -Inf                 0.859220\n",
       "g=0                      0.860892\n",
       "g=1                      2.015303\n",
       "g=2                     19.487738\n",
       "g=3                    194.212079\n",
       "g=4                   1941.455488\n",
       "g=5                  19413.889586"
      ]
     },
     "execution_count": 13,
     "metadata": {},
     "output_type": "execute_result"
    }
   ],
   "source": [
    "# For a range of g, compute the maximum penalized edge cost\n",
    "g_range = [0,1,2,3,4,5]\n",
    "max_penalized_edge_cost = pd.DataFrame(edge_costs_df.max())\n",
    "max_penalized_edge_cost.columns=['max_penalized_edge_cost']\n",
    "max_penalized_edge_cost"
   ]
  },
  {
   "cell_type": "markdown",
   "metadata": {},
   "source": [
    "# Sensitivity analysis for Steiner tree parameters"
   ]
  },
  {
   "cell_type": "markdown",
   "metadata": {},
   "source": [
    "## Run sensitivity analysis"
   ]
  },
  {
   "cell_type": "code",
   "execution_count": 14,
   "metadata": {},
   "outputs": [],
   "source": [
    "# Load set of virus interacting genes from Gordon et al.\n",
    "virus_partners_file_name = \"../Data/SARSCov_targets_df.tsv\"\n",
    "virus_interacting_genes = sensitivity.import_virus_partners(virus_partners_file_name)"
   ]
  },
  {
   "cell_type": "code",
   "execution_count": 15,
   "metadata": {},
   "outputs": [],
   "source": [
    "# Parameters for sensitivity analysis\n",
    "interactome_file_name = \"../Data/iRefIndex_v14_MIScore_interactome_C9.costs.allcaps.txt\"\n",
    "prize_file_name = \"../Save_calu3/terminals_ppi_analysis.tsv\"\n",
    "# Graph hyperparameters\n",
    "graph_params =  {\n",
    "                \"noise\": 0.0, \n",
    "                \"dummy_mode\": \"terminals\", \n",
    "                \"exclude_terminals\": False, \n",
    "                \"seed\": 1,\n",
    "                \"pruning\": 'strong',\n",
    "                \"verbosity_level\": 0\n",
    "                }\n",
    "# Set sweeping parameters, i.e. configurations (w,b,g)\n",
    "W_list = np.linspace(start = 0.2, stop = 2, num = 10)\n",
    "B_list = np.array([5., 10., 15., 20., 25., 30., 35., 40., 45., 50.])"
   ]
  },
  {
   "cell_type": "code",
   "execution_count": 42,
   "metadata": {
    "scrolled": true
   },
   "outputs": [
    {
     "name": "stderr",
     "output_type": "stream",
     "text": [
      "10:05:55 - OI2: INFO - Duplicated gene symbols in the prize file (we'll keep the max prize):\n",
      "10:05:55 - OI2: INFO - []\n",
      "10:05:55 - OI2: INFO - Members of the prize file not present in the interactome:\n",
      "10:05:55 - OI2: INFO - ['AADAT', 'C1ORF53', 'C5ORF56', 'CAPN8', 'FILIP1L', 'HIST1H4E', 'IFI44L', 'KIF18B', 'PDF', 'SLC28A3', 'SMIM4', 'TMEM238', 'WHAMM', 'ZNF654', 'ZSWIM4']\n"
     ]
    },
    {
     "name": "stdout",
     "output_type": "stream",
     "text": [
      "Progress= 0.01\n"
     ]
    },
    {
     "name": "stderr",
     "output_type": "stream",
     "text": [
      "10:05:56 - OI2: INFO - Duplicated gene symbols in the prize file (we'll keep the max prize):\n",
      "10:05:56 - OI2: INFO - []\n",
      "10:05:56 - OI2: INFO - Members of the prize file not present in the interactome:\n",
      "10:05:56 - OI2: INFO - ['AADAT', 'C1ORF53', 'C5ORF56', 'CAPN8', 'FILIP1L', 'HIST1H4E', 'IFI44L', 'KIF18B', 'PDF', 'SLC28A3', 'SMIM4', 'TMEM238', 'WHAMM', 'ZNF654', 'ZSWIM4']\n"
     ]
    },
    {
     "name": "stdout",
     "output_type": "stream",
     "text": [
      "Progress= 0.02\n"
     ]
    },
    {
     "name": "stderr",
     "output_type": "stream",
     "text": [
      "10:05:57 - OI2: INFO - Duplicated gene symbols in the prize file (we'll keep the max prize):\n",
      "10:05:57 - OI2: INFO - []\n",
      "10:05:57 - OI2: INFO - Members of the prize file not present in the interactome:\n",
      "10:05:57 - OI2: INFO - ['AADAT', 'C1ORF53', 'C5ORF56', 'CAPN8', 'FILIP1L', 'HIST1H4E', 'IFI44L', 'KIF18B', 'PDF', 'SLC28A3', 'SMIM4', 'TMEM238', 'WHAMM', 'ZNF654', 'ZSWIM4']\n"
     ]
    },
    {
     "name": "stdout",
     "output_type": "stream",
     "text": [
      "Progress= 0.03\n"
     ]
    },
    {
     "name": "stderr",
     "output_type": "stream",
     "text": [
      "10:05:58 - OI2: INFO - Duplicated gene symbols in the prize file (we'll keep the max prize):\n",
      "10:05:58 - OI2: INFO - []\n",
      "10:05:58 - OI2: INFO - Members of the prize file not present in the interactome:\n",
      "10:05:58 - OI2: INFO - ['AADAT', 'C1ORF53', 'C5ORF56', 'CAPN8', 'FILIP1L', 'HIST1H4E', 'IFI44L', 'KIF18B', 'PDF', 'SLC28A3', 'SMIM4', 'TMEM238', 'WHAMM', 'ZNF654', 'ZSWIM4']\n"
     ]
    },
    {
     "name": "stdout",
     "output_type": "stream",
     "text": [
      "Progress= 0.04\n"
     ]
    },
    {
     "name": "stderr",
     "output_type": "stream",
     "text": [
      "10:05:58 - OI2: INFO - Duplicated gene symbols in the prize file (we'll keep the max prize):\n",
      "10:05:58 - OI2: INFO - []\n",
      "10:05:58 - OI2: INFO - Members of the prize file not present in the interactome:\n",
      "10:05:58 - OI2: INFO - ['AADAT', 'C1ORF53', 'C5ORF56', 'CAPN8', 'FILIP1L', 'HIST1H4E', 'IFI44L', 'KIF18B', 'PDF', 'SLC28A3', 'SMIM4', 'TMEM238', 'WHAMM', 'ZNF654', 'ZSWIM4']\n"
     ]
    },
    {
     "name": "stdout",
     "output_type": "stream",
     "text": [
      "Progress= 0.05\n"
     ]
    },
    {
     "name": "stderr",
     "output_type": "stream",
     "text": [
      "10:05:59 - OI2: INFO - Duplicated gene symbols in the prize file (we'll keep the max prize):\n",
      "10:05:59 - OI2: INFO - []\n",
      "10:05:59 - OI2: INFO - Members of the prize file not present in the interactome:\n",
      "10:05:59 - OI2: INFO - ['AADAT', 'C1ORF53', 'C5ORF56', 'CAPN8', 'FILIP1L', 'HIST1H4E', 'IFI44L', 'KIF18B', 'PDF', 'SLC28A3', 'SMIM4', 'TMEM238', 'WHAMM', 'ZNF654', 'ZSWIM4']\n"
     ]
    },
    {
     "name": "stdout",
     "output_type": "stream",
     "text": [
      "Progress= 0.06\n"
     ]
    },
    {
     "name": "stderr",
     "output_type": "stream",
     "text": [
      "10:06:00 - OI2: INFO - Duplicated gene symbols in the prize file (we'll keep the max prize):\n",
      "10:06:00 - OI2: INFO - []\n",
      "10:06:00 - OI2: INFO - Members of the prize file not present in the interactome:\n",
      "10:06:00 - OI2: INFO - ['AADAT', 'C1ORF53', 'C5ORF56', 'CAPN8', 'FILIP1L', 'HIST1H4E', 'IFI44L', 'KIF18B', 'PDF', 'SLC28A3', 'SMIM4', 'TMEM238', 'WHAMM', 'ZNF654', 'ZSWIM4']\n"
     ]
    },
    {
     "name": "stdout",
     "output_type": "stream",
     "text": [
      "Progress= 0.07\n"
     ]
    },
    {
     "name": "stderr",
     "output_type": "stream",
     "text": [
      "10:06:01 - OI2: INFO - Duplicated gene symbols in the prize file (we'll keep the max prize):\n",
      "10:06:01 - OI2: INFO - []\n",
      "10:06:01 - OI2: INFO - Members of the prize file not present in the interactome:\n",
      "10:06:01 - OI2: INFO - ['AADAT', 'C1ORF53', 'C5ORF56', 'CAPN8', 'FILIP1L', 'HIST1H4E', 'IFI44L', 'KIF18B', 'PDF', 'SLC28A3', 'SMIM4', 'TMEM238', 'WHAMM', 'ZNF654', 'ZSWIM4']\n"
     ]
    },
    {
     "name": "stdout",
     "output_type": "stream",
     "text": [
      "Progress= 0.08\n"
     ]
    },
    {
     "name": "stderr",
     "output_type": "stream",
     "text": [
      "10:06:02 - OI2: INFO - Duplicated gene symbols in the prize file (we'll keep the max prize):\n",
      "10:06:02 - OI2: INFO - []\n",
      "10:06:02 - OI2: INFO - Members of the prize file not present in the interactome:\n",
      "10:06:02 - OI2: INFO - ['AADAT', 'C1ORF53', 'C5ORF56', 'CAPN8', 'FILIP1L', 'HIST1H4E', 'IFI44L', 'KIF18B', 'PDF', 'SLC28A3', 'SMIM4', 'TMEM238', 'WHAMM', 'ZNF654', 'ZSWIM4']\n"
     ]
    },
    {
     "name": "stdout",
     "output_type": "stream",
     "text": [
      "Progress= 0.09\n"
     ]
    },
    {
     "name": "stderr",
     "output_type": "stream",
     "text": [
      "10:06:03 - OI2: INFO - Duplicated gene symbols in the prize file (we'll keep the max prize):\n",
      "10:06:03 - OI2: INFO - []\n",
      "10:06:03 - OI2: INFO - Members of the prize file not present in the interactome:\n",
      "10:06:03 - OI2: INFO - ['AADAT', 'C1ORF53', 'C5ORF56', 'CAPN8', 'FILIP1L', 'HIST1H4E', 'IFI44L', 'KIF18B', 'PDF', 'SLC28A3', 'SMIM4', 'TMEM238', 'WHAMM', 'ZNF654', 'ZSWIM4']\n"
     ]
    },
    {
     "name": "stdout",
     "output_type": "stream",
     "text": [
      "Progress= 0.1\n"
     ]
    },
    {
     "name": "stderr",
     "output_type": "stream",
     "text": [
      "10:06:03 - OI2: INFO - Duplicated gene symbols in the prize file (we'll keep the max prize):\n",
      "10:06:03 - OI2: INFO - []\n",
      "10:06:03 - OI2: INFO - Members of the prize file not present in the interactome:\n",
      "10:06:03 - OI2: INFO - ['AADAT', 'C1ORF53', 'C5ORF56', 'CAPN8', 'FILIP1L', 'HIST1H4E', 'IFI44L', 'KIF18B', 'PDF', 'SLC28A3', 'SMIM4', 'TMEM238', 'WHAMM', 'ZNF654', 'ZSWIM4']\n"
     ]
    },
    {
     "name": "stdout",
     "output_type": "stream",
     "text": [
      "Progress= 0.11\n"
     ]
    },
    {
     "name": "stderr",
     "output_type": "stream",
     "text": [
      "10:06:04 - OI2: INFO - Duplicated gene symbols in the prize file (we'll keep the max prize):\n",
      "10:06:04 - OI2: INFO - []\n",
      "10:06:04 - OI2: INFO - Members of the prize file not present in the interactome:\n",
      "10:06:04 - OI2: INFO - ['AADAT', 'C1ORF53', 'C5ORF56', 'CAPN8', 'FILIP1L', 'HIST1H4E', 'IFI44L', 'KIF18B', 'PDF', 'SLC28A3', 'SMIM4', 'TMEM238', 'WHAMM', 'ZNF654', 'ZSWIM4']\n"
     ]
    },
    {
     "name": "stdout",
     "output_type": "stream",
     "text": [
      "Progress= 0.12\n"
     ]
    },
    {
     "name": "stderr",
     "output_type": "stream",
     "text": [
      "10:06:06 - OI2: INFO - Duplicated gene symbols in the prize file (we'll keep the max prize):\n",
      "10:06:06 - OI2: INFO - []\n",
      "10:06:06 - OI2: INFO - Members of the prize file not present in the interactome:\n",
      "10:06:06 - OI2: INFO - ['AADAT', 'C1ORF53', 'C5ORF56', 'CAPN8', 'FILIP1L', 'HIST1H4E', 'IFI44L', 'KIF18B', 'PDF', 'SLC28A3', 'SMIM4', 'TMEM238', 'WHAMM', 'ZNF654', 'ZSWIM4']\n"
     ]
    },
    {
     "name": "stdout",
     "output_type": "stream",
     "text": [
      "Progress= 0.13\n"
     ]
    },
    {
     "name": "stderr",
     "output_type": "stream",
     "text": [
      "10:06:07 - OI2: INFO - Duplicated gene symbols in the prize file (we'll keep the max prize):\n",
      "10:06:07 - OI2: INFO - []\n",
      "10:06:07 - OI2: INFO - Members of the prize file not present in the interactome:\n",
      "10:06:07 - OI2: INFO - ['AADAT', 'C1ORF53', 'C5ORF56', 'CAPN8', 'FILIP1L', 'HIST1H4E', 'IFI44L', 'KIF18B', 'PDF', 'SLC28A3', 'SMIM4', 'TMEM238', 'WHAMM', 'ZNF654', 'ZSWIM4']\n"
     ]
    },
    {
     "name": "stdout",
     "output_type": "stream",
     "text": [
      "Progress= 0.14\n"
     ]
    },
    {
     "name": "stderr",
     "output_type": "stream",
     "text": [
      "10:06:08 - OI2: INFO - Duplicated gene symbols in the prize file (we'll keep the max prize):\n",
      "10:06:08 - OI2: INFO - []\n",
      "10:06:08 - OI2: INFO - Members of the prize file not present in the interactome:\n",
      "10:06:08 - OI2: INFO - ['AADAT', 'C1ORF53', 'C5ORF56', 'CAPN8', 'FILIP1L', 'HIST1H4E', 'IFI44L', 'KIF18B', 'PDF', 'SLC28A3', 'SMIM4', 'TMEM238', 'WHAMM', 'ZNF654', 'ZSWIM4']\n"
     ]
    },
    {
     "name": "stdout",
     "output_type": "stream",
     "text": [
      "Progress= 0.15\n"
     ]
    },
    {
     "name": "stderr",
     "output_type": "stream",
     "text": [
      "10:06:09 - OI2: INFO - Duplicated gene symbols in the prize file (we'll keep the max prize):\n",
      "10:06:09 - OI2: INFO - []\n",
      "10:06:09 - OI2: INFO - Members of the prize file not present in the interactome:\n",
      "10:06:09 - OI2: INFO - ['AADAT', 'C1ORF53', 'C5ORF56', 'CAPN8', 'FILIP1L', 'HIST1H4E', 'IFI44L', 'KIF18B', 'PDF', 'SLC28A3', 'SMIM4', 'TMEM238', 'WHAMM', 'ZNF654', 'ZSWIM4']\n"
     ]
    },
    {
     "name": "stdout",
     "output_type": "stream",
     "text": [
      "Progress= 0.16\n"
     ]
    },
    {
     "name": "stderr",
     "output_type": "stream",
     "text": [
      "10:06:10 - OI2: INFO - Duplicated gene symbols in the prize file (we'll keep the max prize):\n",
      "10:06:10 - OI2: INFO - []\n",
      "10:06:10 - OI2: INFO - Members of the prize file not present in the interactome:\n",
      "10:06:10 - OI2: INFO - ['AADAT', 'C1ORF53', 'C5ORF56', 'CAPN8', 'FILIP1L', 'HIST1H4E', 'IFI44L', 'KIF18B', 'PDF', 'SLC28A3', 'SMIM4', 'TMEM238', 'WHAMM', 'ZNF654', 'ZSWIM4']\n"
     ]
    },
    {
     "name": "stdout",
     "output_type": "stream",
     "text": [
      "Progress= 0.17\n"
     ]
    },
    {
     "name": "stderr",
     "output_type": "stream",
     "text": [
      "10:06:11 - OI2: INFO - Duplicated gene symbols in the prize file (we'll keep the max prize):\n",
      "10:06:11 - OI2: INFO - []\n",
      "10:06:11 - OI2: INFO - Members of the prize file not present in the interactome:\n",
      "10:06:11 - OI2: INFO - ['AADAT', 'C1ORF53', 'C5ORF56', 'CAPN8', 'FILIP1L', 'HIST1H4E', 'IFI44L', 'KIF18B', 'PDF', 'SLC28A3', 'SMIM4', 'TMEM238', 'WHAMM', 'ZNF654', 'ZSWIM4']\n"
     ]
    },
    {
     "name": "stdout",
     "output_type": "stream",
     "text": [
      "Progress= 0.18\n"
     ]
    },
    {
     "name": "stderr",
     "output_type": "stream",
     "text": [
      "10:06:12 - OI2: INFO - Duplicated gene symbols in the prize file (we'll keep the max prize):\n",
      "10:06:12 - OI2: INFO - []\n",
      "10:06:12 - OI2: INFO - Members of the prize file not present in the interactome:\n",
      "10:06:12 - OI2: INFO - ['AADAT', 'C1ORF53', 'C5ORF56', 'CAPN8', 'FILIP1L', 'HIST1H4E', 'IFI44L', 'KIF18B', 'PDF', 'SLC28A3', 'SMIM4', 'TMEM238', 'WHAMM', 'ZNF654', 'ZSWIM4']\n"
     ]
    },
    {
     "name": "stdout",
     "output_type": "stream",
     "text": [
      "Progress= 0.19\n"
     ]
    },
    {
     "name": "stderr",
     "output_type": "stream",
     "text": [
      "10:06:13 - OI2: INFO - Duplicated gene symbols in the prize file (we'll keep the max prize):\n",
      "10:06:13 - OI2: INFO - []\n",
      "10:06:13 - OI2: INFO - Members of the prize file not present in the interactome:\n",
      "10:06:13 - OI2: INFO - ['AADAT', 'C1ORF53', 'C5ORF56', 'CAPN8', 'FILIP1L', 'HIST1H4E', 'IFI44L', 'KIF18B', 'PDF', 'SLC28A3', 'SMIM4', 'TMEM238', 'WHAMM', 'ZNF654', 'ZSWIM4']\n"
     ]
    },
    {
     "name": "stdout",
     "output_type": "stream",
     "text": [
      "Progress= 0.2\n"
     ]
    },
    {
     "name": "stderr",
     "output_type": "stream",
     "text": [
      "10:06:14 - OI2: INFO - Duplicated gene symbols in the prize file (we'll keep the max prize):\n",
      "10:06:14 - OI2: INFO - []\n",
      "10:06:14 - OI2: INFO - Members of the prize file not present in the interactome:\n",
      "10:06:14 - OI2: INFO - ['AADAT', 'C1ORF53', 'C5ORF56', 'CAPN8', 'FILIP1L', 'HIST1H4E', 'IFI44L', 'KIF18B', 'PDF', 'SLC28A3', 'SMIM4', 'TMEM238', 'WHAMM', 'ZNF654', 'ZSWIM4']\n"
     ]
    },
    {
     "name": "stdout",
     "output_type": "stream",
     "text": [
      "Progress= 0.21\n"
     ]
    },
    {
     "name": "stderr",
     "output_type": "stream",
     "text": [
      "10:06:15 - OI2: INFO - Duplicated gene symbols in the prize file (we'll keep the max prize):\n",
      "10:06:15 - OI2: INFO - []\n",
      "10:06:15 - OI2: INFO - Members of the prize file not present in the interactome:\n",
      "10:06:15 - OI2: INFO - ['AADAT', 'C1ORF53', 'C5ORF56', 'CAPN8', 'FILIP1L', 'HIST1H4E', 'IFI44L', 'KIF18B', 'PDF', 'SLC28A3', 'SMIM4', 'TMEM238', 'WHAMM', 'ZNF654', 'ZSWIM4']\n"
     ]
    },
    {
     "name": "stdout",
     "output_type": "stream",
     "text": [
      "Progress= 0.22\n"
     ]
    },
    {
     "name": "stderr",
     "output_type": "stream",
     "text": [
      "10:06:16 - OI2: INFO - Duplicated gene symbols in the prize file (we'll keep the max prize):\n",
      "10:06:16 - OI2: INFO - []\n",
      "10:06:16 - OI2: INFO - Members of the prize file not present in the interactome:\n",
      "10:06:16 - OI2: INFO - ['AADAT', 'C1ORF53', 'C5ORF56', 'CAPN8', 'FILIP1L', 'HIST1H4E', 'IFI44L', 'KIF18B', 'PDF', 'SLC28A3', 'SMIM4', 'TMEM238', 'WHAMM', 'ZNF654', 'ZSWIM4']\n"
     ]
    },
    {
     "name": "stdout",
     "output_type": "stream",
     "text": [
      "Progress= 0.23\n"
     ]
    },
    {
     "name": "stderr",
     "output_type": "stream",
     "text": [
      "10:06:17 - OI2: INFO - Duplicated gene symbols in the prize file (we'll keep the max prize):\n",
      "10:06:17 - OI2: INFO - []\n",
      "10:06:17 - OI2: INFO - Members of the prize file not present in the interactome:\n",
      "10:06:17 - OI2: INFO - ['AADAT', 'C1ORF53', 'C5ORF56', 'CAPN8', 'FILIP1L', 'HIST1H4E', 'IFI44L', 'KIF18B', 'PDF', 'SLC28A3', 'SMIM4', 'TMEM238', 'WHAMM', 'ZNF654', 'ZSWIM4']\n"
     ]
    },
    {
     "name": "stdout",
     "output_type": "stream",
     "text": [
      "Progress= 0.24\n"
     ]
    },
    {
     "name": "stderr",
     "output_type": "stream",
     "text": [
      "10:06:18 - OI2: INFO - Duplicated gene symbols in the prize file (we'll keep the max prize):\n",
      "10:06:18 - OI2: INFO - []\n",
      "10:06:18 - OI2: INFO - Members of the prize file not present in the interactome:\n",
      "10:06:18 - OI2: INFO - ['AADAT', 'C1ORF53', 'C5ORF56', 'CAPN8', 'FILIP1L', 'HIST1H4E', 'IFI44L', 'KIF18B', 'PDF', 'SLC28A3', 'SMIM4', 'TMEM238', 'WHAMM', 'ZNF654', 'ZSWIM4']\n"
     ]
    },
    {
     "name": "stdout",
     "output_type": "stream",
     "text": [
      "Progress= 0.25\n"
     ]
    },
    {
     "name": "stderr",
     "output_type": "stream",
     "text": [
      "10:06:20 - OI2: INFO - Duplicated gene symbols in the prize file (we'll keep the max prize):\n",
      "10:06:20 - OI2: INFO - []\n",
      "10:06:20 - OI2: INFO - Members of the prize file not present in the interactome:\n",
      "10:06:20 - OI2: INFO - ['AADAT', 'C1ORF53', 'C5ORF56', 'CAPN8', 'FILIP1L', 'HIST1H4E', 'IFI44L', 'KIF18B', 'PDF', 'SLC28A3', 'SMIM4', 'TMEM238', 'WHAMM', 'ZNF654', 'ZSWIM4']\n"
     ]
    },
    {
     "name": "stdout",
     "output_type": "stream",
     "text": [
      "Progress= 0.26\n"
     ]
    },
    {
     "name": "stderr",
     "output_type": "stream",
     "text": [
      "10:06:21 - OI2: INFO - Duplicated gene symbols in the prize file (we'll keep the max prize):\n",
      "10:06:21 - OI2: INFO - []\n",
      "10:06:21 - OI2: INFO - Members of the prize file not present in the interactome:\n",
      "10:06:21 - OI2: INFO - ['AADAT', 'C1ORF53', 'C5ORF56', 'CAPN8', 'FILIP1L', 'HIST1H4E', 'IFI44L', 'KIF18B', 'PDF', 'SLC28A3', 'SMIM4', 'TMEM238', 'WHAMM', 'ZNF654', 'ZSWIM4']\n"
     ]
    },
    {
     "name": "stdout",
     "output_type": "stream",
     "text": [
      "Progress= 0.27\n"
     ]
    },
    {
     "name": "stderr",
     "output_type": "stream",
     "text": [
      "10:06:22 - OI2: INFO - Duplicated gene symbols in the prize file (we'll keep the max prize):\n",
      "10:06:22 - OI2: INFO - []\n",
      "10:06:22 - OI2: INFO - Members of the prize file not present in the interactome:\n",
      "10:06:22 - OI2: INFO - ['AADAT', 'C1ORF53', 'C5ORF56', 'CAPN8', 'FILIP1L', 'HIST1H4E', 'IFI44L', 'KIF18B', 'PDF', 'SLC28A3', 'SMIM4', 'TMEM238', 'WHAMM', 'ZNF654', 'ZSWIM4']\n"
     ]
    },
    {
     "name": "stdout",
     "output_type": "stream",
     "text": [
      "Progress= 0.28\n"
     ]
    },
    {
     "name": "stderr",
     "output_type": "stream",
     "text": [
      "10:06:23 - OI2: INFO - Duplicated gene symbols in the prize file (we'll keep the max prize):\n",
      "10:06:23 - OI2: INFO - []\n",
      "10:06:23 - OI2: INFO - Members of the prize file not present in the interactome:\n",
      "10:06:23 - OI2: INFO - ['AADAT', 'C1ORF53', 'C5ORF56', 'CAPN8', 'FILIP1L', 'HIST1H4E', 'IFI44L', 'KIF18B', 'PDF', 'SLC28A3', 'SMIM4', 'TMEM238', 'WHAMM', 'ZNF654', 'ZSWIM4']\n"
     ]
    },
    {
     "name": "stdout",
     "output_type": "stream",
     "text": [
      "Progress= 0.29\n"
     ]
    },
    {
     "name": "stderr",
     "output_type": "stream",
     "text": [
      "10:06:24 - OI2: INFO - Duplicated gene symbols in the prize file (we'll keep the max prize):\n",
      "10:06:24 - OI2: INFO - []\n",
      "10:06:24 - OI2: INFO - Members of the prize file not present in the interactome:\n",
      "10:06:24 - OI2: INFO - ['AADAT', 'C1ORF53', 'C5ORF56', 'CAPN8', 'FILIP1L', 'HIST1H4E', 'IFI44L', 'KIF18B', 'PDF', 'SLC28A3', 'SMIM4', 'TMEM238', 'WHAMM', 'ZNF654', 'ZSWIM4']\n"
     ]
    },
    {
     "name": "stdout",
     "output_type": "stream",
     "text": [
      "Progress= 0.3\n"
     ]
    },
    {
     "name": "stderr",
     "output_type": "stream",
     "text": [
      "10:06:25 - OI2: INFO - Duplicated gene symbols in the prize file (we'll keep the max prize):\n",
      "10:06:25 - OI2: INFO - []\n",
      "10:06:25 - OI2: INFO - Members of the prize file not present in the interactome:\n",
      "10:06:25 - OI2: INFO - ['AADAT', 'C1ORF53', 'C5ORF56', 'CAPN8', 'FILIP1L', 'HIST1H4E', 'IFI44L', 'KIF18B', 'PDF', 'SLC28A3', 'SMIM4', 'TMEM238', 'WHAMM', 'ZNF654', 'ZSWIM4']\n"
     ]
    },
    {
     "name": "stdout",
     "output_type": "stream",
     "text": [
      "Progress= 0.31\n"
     ]
    },
    {
     "name": "stderr",
     "output_type": "stream",
     "text": [
      "10:06:26 - OI2: INFO - Duplicated gene symbols in the prize file (we'll keep the max prize):\n",
      "10:06:26 - OI2: INFO - []\n",
      "10:06:26 - OI2: INFO - Members of the prize file not present in the interactome:\n",
      "10:06:26 - OI2: INFO - ['AADAT', 'C1ORF53', 'C5ORF56', 'CAPN8', 'FILIP1L', 'HIST1H4E', 'IFI44L', 'KIF18B', 'PDF', 'SLC28A3', 'SMIM4', 'TMEM238', 'WHAMM', 'ZNF654', 'ZSWIM4']\n"
     ]
    },
    {
     "name": "stdout",
     "output_type": "stream",
     "text": [
      "Progress= 0.32\n"
     ]
    },
    {
     "name": "stderr",
     "output_type": "stream",
     "text": [
      "10:06:28 - OI2: INFO - Duplicated gene symbols in the prize file (we'll keep the max prize):\n",
      "10:06:28 - OI2: INFO - []\n",
      "10:06:28 - OI2: INFO - Members of the prize file not present in the interactome:\n",
      "10:06:28 - OI2: INFO - ['AADAT', 'C1ORF53', 'C5ORF56', 'CAPN8', 'FILIP1L', 'HIST1H4E', 'IFI44L', 'KIF18B', 'PDF', 'SLC28A3', 'SMIM4', 'TMEM238', 'WHAMM', 'ZNF654', 'ZSWIM4']\n"
     ]
    },
    {
     "name": "stdout",
     "output_type": "stream",
     "text": [
      "Progress= 0.33\n"
     ]
    },
    {
     "name": "stderr",
     "output_type": "stream",
     "text": [
      "10:06:29 - OI2: INFO - Duplicated gene symbols in the prize file (we'll keep the max prize):\n",
      "10:06:29 - OI2: INFO - []\n",
      "10:06:29 - OI2: INFO - Members of the prize file not present in the interactome:\n",
      "10:06:29 - OI2: INFO - ['AADAT', 'C1ORF53', 'C5ORF56', 'CAPN8', 'FILIP1L', 'HIST1H4E', 'IFI44L', 'KIF18B', 'PDF', 'SLC28A3', 'SMIM4', 'TMEM238', 'WHAMM', 'ZNF654', 'ZSWIM4']\n"
     ]
    },
    {
     "name": "stdout",
     "output_type": "stream",
     "text": [
      "Progress= 0.34\n"
     ]
    },
    {
     "name": "stderr",
     "output_type": "stream",
     "text": [
      "10:06:30 - OI2: INFO - Duplicated gene symbols in the prize file (we'll keep the max prize):\n",
      "10:06:30 - OI2: INFO - []\n",
      "10:06:30 - OI2: INFO - Members of the prize file not present in the interactome:\n",
      "10:06:30 - OI2: INFO - ['AADAT', 'C1ORF53', 'C5ORF56', 'CAPN8', 'FILIP1L', 'HIST1H4E', 'IFI44L', 'KIF18B', 'PDF', 'SLC28A3', 'SMIM4', 'TMEM238', 'WHAMM', 'ZNF654', 'ZSWIM4']\n"
     ]
    },
    {
     "name": "stdout",
     "output_type": "stream",
     "text": [
      "Progress= 0.35\n"
     ]
    },
    {
     "name": "stderr",
     "output_type": "stream",
     "text": [
      "10:06:31 - OI2: INFO - Duplicated gene symbols in the prize file (we'll keep the max prize):\n",
      "10:06:31 - OI2: INFO - []\n",
      "10:06:31 - OI2: INFO - Members of the prize file not present in the interactome:\n",
      "10:06:31 - OI2: INFO - ['AADAT', 'C1ORF53', 'C5ORF56', 'CAPN8', 'FILIP1L', 'HIST1H4E', 'IFI44L', 'KIF18B', 'PDF', 'SLC28A3', 'SMIM4', 'TMEM238', 'WHAMM', 'ZNF654', 'ZSWIM4']\n"
     ]
    },
    {
     "name": "stdout",
     "output_type": "stream",
     "text": [
      "Progress= 0.36\n"
     ]
    },
    {
     "name": "stderr",
     "output_type": "stream",
     "text": [
      "10:06:32 - OI2: INFO - Duplicated gene symbols in the prize file (we'll keep the max prize):\n",
      "10:06:32 - OI2: INFO - []\n",
      "10:06:32 - OI2: INFO - Members of the prize file not present in the interactome:\n",
      "10:06:32 - OI2: INFO - ['AADAT', 'C1ORF53', 'C5ORF56', 'CAPN8', 'FILIP1L', 'HIST1H4E', 'IFI44L', 'KIF18B', 'PDF', 'SLC28A3', 'SMIM4', 'TMEM238', 'WHAMM', 'ZNF654', 'ZSWIM4']\n"
     ]
    },
    {
     "name": "stdout",
     "output_type": "stream",
     "text": [
      "Progress= 0.37\n"
     ]
    },
    {
     "name": "stderr",
     "output_type": "stream",
     "text": [
      "10:06:33 - OI2: INFO - Duplicated gene symbols in the prize file (we'll keep the max prize):\n",
      "10:06:33 - OI2: INFO - []\n",
      "10:06:33 - OI2: INFO - Members of the prize file not present in the interactome:\n",
      "10:06:33 - OI2: INFO - ['AADAT', 'C1ORF53', 'C5ORF56', 'CAPN8', 'FILIP1L', 'HIST1H4E', 'IFI44L', 'KIF18B', 'PDF', 'SLC28A3', 'SMIM4', 'TMEM238', 'WHAMM', 'ZNF654', 'ZSWIM4']\n"
     ]
    },
    {
     "name": "stdout",
     "output_type": "stream",
     "text": [
      "Progress= 0.38\n"
     ]
    },
    {
     "name": "stderr",
     "output_type": "stream",
     "text": [
      "10:06:35 - OI2: INFO - Duplicated gene symbols in the prize file (we'll keep the max prize):\n",
      "10:06:35 - OI2: INFO - []\n",
      "10:06:35 - OI2: INFO - Members of the prize file not present in the interactome:\n",
      "10:06:35 - OI2: INFO - ['AADAT', 'C1ORF53', 'C5ORF56', 'CAPN8', 'FILIP1L', 'HIST1H4E', 'IFI44L', 'KIF18B', 'PDF', 'SLC28A3', 'SMIM4', 'TMEM238', 'WHAMM', 'ZNF654', 'ZSWIM4']\n"
     ]
    },
    {
     "name": "stdout",
     "output_type": "stream",
     "text": [
      "Progress= 0.39\n"
     ]
    },
    {
     "name": "stderr",
     "output_type": "stream",
     "text": [
      "10:06:36 - OI2: INFO - Duplicated gene symbols in the prize file (we'll keep the max prize):\n",
      "10:06:36 - OI2: INFO - []\n",
      "10:06:36 - OI2: INFO - Members of the prize file not present in the interactome:\n",
      "10:06:36 - OI2: INFO - ['AADAT', 'C1ORF53', 'C5ORF56', 'CAPN8', 'FILIP1L', 'HIST1H4E', 'IFI44L', 'KIF18B', 'PDF', 'SLC28A3', 'SMIM4', 'TMEM238', 'WHAMM', 'ZNF654', 'ZSWIM4']\n"
     ]
    },
    {
     "name": "stdout",
     "output_type": "stream",
     "text": [
      "Progress= 0.4\n"
     ]
    },
    {
     "name": "stderr",
     "output_type": "stream",
     "text": [
      "10:06:37 - OI2: INFO - Duplicated gene symbols in the prize file (we'll keep the max prize):\n",
      "10:06:37 - OI2: INFO - []\n",
      "10:06:37 - OI2: INFO - Members of the prize file not present in the interactome:\n",
      "10:06:37 - OI2: INFO - ['AADAT', 'C1ORF53', 'C5ORF56', 'CAPN8', 'FILIP1L', 'HIST1H4E', 'IFI44L', 'KIF18B', 'PDF', 'SLC28A3', 'SMIM4', 'TMEM238', 'WHAMM', 'ZNF654', 'ZSWIM4']\n"
     ]
    },
    {
     "name": "stdout",
     "output_type": "stream",
     "text": [
      "Progress= 0.41\n"
     ]
    },
    {
     "name": "stderr",
     "output_type": "stream",
     "text": [
      "10:06:38 - OI2: INFO - Duplicated gene symbols in the prize file (we'll keep the max prize):\n",
      "10:06:38 - OI2: INFO - []\n",
      "10:06:38 - OI2: INFO - Members of the prize file not present in the interactome:\n",
      "10:06:38 - OI2: INFO - ['AADAT', 'C1ORF53', 'C5ORF56', 'CAPN8', 'FILIP1L', 'HIST1H4E', 'IFI44L', 'KIF18B', 'PDF', 'SLC28A3', 'SMIM4', 'TMEM238', 'WHAMM', 'ZNF654', 'ZSWIM4']\n"
     ]
    },
    {
     "name": "stdout",
     "output_type": "stream",
     "text": [
      "Progress= 0.42\n"
     ]
    },
    {
     "name": "stderr",
     "output_type": "stream",
     "text": [
      "10:06:39 - OI2: INFO - Duplicated gene symbols in the prize file (we'll keep the max prize):\n",
      "10:06:39 - OI2: INFO - []\n",
      "10:06:39 - OI2: INFO - Members of the prize file not present in the interactome:\n",
      "10:06:39 - OI2: INFO - ['AADAT', 'C1ORF53', 'C5ORF56', 'CAPN8', 'FILIP1L', 'HIST1H4E', 'IFI44L', 'KIF18B', 'PDF', 'SLC28A3', 'SMIM4', 'TMEM238', 'WHAMM', 'ZNF654', 'ZSWIM4']\n"
     ]
    },
    {
     "name": "stdout",
     "output_type": "stream",
     "text": [
      "Progress= 0.43\n"
     ]
    },
    {
     "name": "stderr",
     "output_type": "stream",
     "text": [
      "10:06:41 - OI2: INFO - Duplicated gene symbols in the prize file (we'll keep the max prize):\n",
      "10:06:41 - OI2: INFO - []\n",
      "10:06:41 - OI2: INFO - Members of the prize file not present in the interactome:\n",
      "10:06:41 - OI2: INFO - ['AADAT', 'C1ORF53', 'C5ORF56', 'CAPN8', 'FILIP1L', 'HIST1H4E', 'IFI44L', 'KIF18B', 'PDF', 'SLC28A3', 'SMIM4', 'TMEM238', 'WHAMM', 'ZNF654', 'ZSWIM4']\n"
     ]
    },
    {
     "name": "stdout",
     "output_type": "stream",
     "text": [
      "Progress= 0.44\n"
     ]
    },
    {
     "name": "stderr",
     "output_type": "stream",
     "text": [
      "10:06:42 - OI2: INFO - Duplicated gene symbols in the prize file (we'll keep the max prize):\n",
      "10:06:42 - OI2: INFO - []\n",
      "10:06:42 - OI2: INFO - Members of the prize file not present in the interactome:\n",
      "10:06:42 - OI2: INFO - ['AADAT', 'C1ORF53', 'C5ORF56', 'CAPN8', 'FILIP1L', 'HIST1H4E', 'IFI44L', 'KIF18B', 'PDF', 'SLC28A3', 'SMIM4', 'TMEM238', 'WHAMM', 'ZNF654', 'ZSWIM4']\n"
     ]
    },
    {
     "name": "stdout",
     "output_type": "stream",
     "text": [
      "Progress= 0.45\n"
     ]
    },
    {
     "name": "stderr",
     "output_type": "stream",
     "text": [
      "10:06:43 - OI2: INFO - Duplicated gene symbols in the prize file (we'll keep the max prize):\n",
      "10:06:43 - OI2: INFO - []\n",
      "10:06:43 - OI2: INFO - Members of the prize file not present in the interactome:\n",
      "10:06:43 - OI2: INFO - ['AADAT', 'C1ORF53', 'C5ORF56', 'CAPN8', 'FILIP1L', 'HIST1H4E', 'IFI44L', 'KIF18B', 'PDF', 'SLC28A3', 'SMIM4', 'TMEM238', 'WHAMM', 'ZNF654', 'ZSWIM4']\n"
     ]
    },
    {
     "name": "stdout",
     "output_type": "stream",
     "text": [
      "Progress= 0.46\n"
     ]
    },
    {
     "name": "stderr",
     "output_type": "stream",
     "text": [
      "10:06:44 - OI2: INFO - Duplicated gene symbols in the prize file (we'll keep the max prize):\n",
      "10:06:44 - OI2: INFO - []\n",
      "10:06:44 - OI2: INFO - Members of the prize file not present in the interactome:\n",
      "10:06:44 - OI2: INFO - ['AADAT', 'C1ORF53', 'C5ORF56', 'CAPN8', 'FILIP1L', 'HIST1H4E', 'IFI44L', 'KIF18B', 'PDF', 'SLC28A3', 'SMIM4', 'TMEM238', 'WHAMM', 'ZNF654', 'ZSWIM4']\n"
     ]
    },
    {
     "name": "stdout",
     "output_type": "stream",
     "text": [
      "Progress= 0.47\n"
     ]
    },
    {
     "name": "stderr",
     "output_type": "stream",
     "text": [
      "10:06:45 - OI2: INFO - Duplicated gene symbols in the prize file (we'll keep the max prize):\n",
      "10:06:45 - OI2: INFO - []\n",
      "10:06:45 - OI2: INFO - Members of the prize file not present in the interactome:\n",
      "10:06:45 - OI2: INFO - ['AADAT', 'C1ORF53', 'C5ORF56', 'CAPN8', 'FILIP1L', 'HIST1H4E', 'IFI44L', 'KIF18B', 'PDF', 'SLC28A3', 'SMIM4', 'TMEM238', 'WHAMM', 'ZNF654', 'ZSWIM4']\n"
     ]
    },
    {
     "name": "stdout",
     "output_type": "stream",
     "text": [
      "Progress= 0.48\n"
     ]
    },
    {
     "name": "stderr",
     "output_type": "stream",
     "text": [
      "10:06:46 - OI2: INFO - Duplicated gene symbols in the prize file (we'll keep the max prize):\n",
      "10:06:46 - OI2: INFO - []\n",
      "10:06:46 - OI2: INFO - Members of the prize file not present in the interactome:\n",
      "10:06:46 - OI2: INFO - ['AADAT', 'C1ORF53', 'C5ORF56', 'CAPN8', 'FILIP1L', 'HIST1H4E', 'IFI44L', 'KIF18B', 'PDF', 'SLC28A3', 'SMIM4', 'TMEM238', 'WHAMM', 'ZNF654', 'ZSWIM4']\n"
     ]
    },
    {
     "name": "stdout",
     "output_type": "stream",
     "text": [
      "Progress= 0.49\n"
     ]
    },
    {
     "name": "stderr",
     "output_type": "stream",
     "text": [
      "10:06:48 - OI2: INFO - Duplicated gene symbols in the prize file (we'll keep the max prize):\n",
      "10:06:48 - OI2: INFO - []\n",
      "10:06:48 - OI2: INFO - Members of the prize file not present in the interactome:\n",
      "10:06:48 - OI2: INFO - ['AADAT', 'C1ORF53', 'C5ORF56', 'CAPN8', 'FILIP1L', 'HIST1H4E', 'IFI44L', 'KIF18B', 'PDF', 'SLC28A3', 'SMIM4', 'TMEM238', 'WHAMM', 'ZNF654', 'ZSWIM4']\n"
     ]
    },
    {
     "name": "stdout",
     "output_type": "stream",
     "text": [
      "Progress= 0.5\n"
     ]
    },
    {
     "name": "stderr",
     "output_type": "stream",
     "text": [
      "10:06:49 - OI2: INFO - Duplicated gene symbols in the prize file (we'll keep the max prize):\n",
      "10:06:49 - OI2: INFO - []\n",
      "10:06:49 - OI2: INFO - Members of the prize file not present in the interactome:\n",
      "10:06:49 - OI2: INFO - ['AADAT', 'C1ORF53', 'C5ORF56', 'CAPN8', 'FILIP1L', 'HIST1H4E', 'IFI44L', 'KIF18B', 'PDF', 'SLC28A3', 'SMIM4', 'TMEM238', 'WHAMM', 'ZNF654', 'ZSWIM4']\n"
     ]
    },
    {
     "name": "stdout",
     "output_type": "stream",
     "text": [
      "Progress= 0.51\n"
     ]
    },
    {
     "name": "stderr",
     "output_type": "stream",
     "text": [
      "10:06:50 - OI2: INFO - Duplicated gene symbols in the prize file (we'll keep the max prize):\n",
      "10:06:50 - OI2: INFO - []\n",
      "10:06:50 - OI2: INFO - Members of the prize file not present in the interactome:\n",
      "10:06:50 - OI2: INFO - ['AADAT', 'C1ORF53', 'C5ORF56', 'CAPN8', 'FILIP1L', 'HIST1H4E', 'IFI44L', 'KIF18B', 'PDF', 'SLC28A3', 'SMIM4', 'TMEM238', 'WHAMM', 'ZNF654', 'ZSWIM4']\n"
     ]
    },
    {
     "name": "stdout",
     "output_type": "stream",
     "text": [
      "Progress= 0.52\n"
     ]
    },
    {
     "name": "stderr",
     "output_type": "stream",
     "text": [
      "10:06:51 - OI2: INFO - Duplicated gene symbols in the prize file (we'll keep the max prize):\n",
      "10:06:51 - OI2: INFO - []\n",
      "10:06:51 - OI2: INFO - Members of the prize file not present in the interactome:\n",
      "10:06:51 - OI2: INFO - ['AADAT', 'C1ORF53', 'C5ORF56', 'CAPN8', 'FILIP1L', 'HIST1H4E', 'IFI44L', 'KIF18B', 'PDF', 'SLC28A3', 'SMIM4', 'TMEM238', 'WHAMM', 'ZNF654', 'ZSWIM4']\n"
     ]
    },
    {
     "name": "stdout",
     "output_type": "stream",
     "text": [
      "Progress= 0.53\n"
     ]
    },
    {
     "name": "stderr",
     "output_type": "stream",
     "text": [
      "10:06:52 - OI2: INFO - Duplicated gene symbols in the prize file (we'll keep the max prize):\n",
      "10:06:52 - OI2: INFO - []\n",
      "10:06:52 - OI2: INFO - Members of the prize file not present in the interactome:\n",
      "10:06:52 - OI2: INFO - ['AADAT', 'C1ORF53', 'C5ORF56', 'CAPN8', 'FILIP1L', 'HIST1H4E', 'IFI44L', 'KIF18B', 'PDF', 'SLC28A3', 'SMIM4', 'TMEM238', 'WHAMM', 'ZNF654', 'ZSWIM4']\n"
     ]
    },
    {
     "name": "stdout",
     "output_type": "stream",
     "text": [
      "Progress= 0.54\n"
     ]
    },
    {
     "name": "stderr",
     "output_type": "stream",
     "text": [
      "10:06:53 - OI2: INFO - Duplicated gene symbols in the prize file (we'll keep the max prize):\n",
      "10:06:53 - OI2: INFO - []\n",
      "10:06:53 - OI2: INFO - Members of the prize file not present in the interactome:\n",
      "10:06:53 - OI2: INFO - ['AADAT', 'C1ORF53', 'C5ORF56', 'CAPN8', 'FILIP1L', 'HIST1H4E', 'IFI44L', 'KIF18B', 'PDF', 'SLC28A3', 'SMIM4', 'TMEM238', 'WHAMM', 'ZNF654', 'ZSWIM4']\n"
     ]
    },
    {
     "name": "stdout",
     "output_type": "stream",
     "text": [
      "Progress= 0.55\n"
     ]
    },
    {
     "name": "stderr",
     "output_type": "stream",
     "text": [
      "10:06:55 - OI2: INFO - Duplicated gene symbols in the prize file (we'll keep the max prize):\n",
      "10:06:55 - OI2: INFO - []\n",
      "10:06:55 - OI2: INFO - Members of the prize file not present in the interactome:\n",
      "10:06:55 - OI2: INFO - ['AADAT', 'C1ORF53', 'C5ORF56', 'CAPN8', 'FILIP1L', 'HIST1H4E', 'IFI44L', 'KIF18B', 'PDF', 'SLC28A3', 'SMIM4', 'TMEM238', 'WHAMM', 'ZNF654', 'ZSWIM4']\n"
     ]
    },
    {
     "name": "stdout",
     "output_type": "stream",
     "text": [
      "Progress= 0.56\n"
     ]
    },
    {
     "name": "stderr",
     "output_type": "stream",
     "text": [
      "10:06:56 - OI2: INFO - Duplicated gene symbols in the prize file (we'll keep the max prize):\n",
      "10:06:56 - OI2: INFO - []\n",
      "10:06:56 - OI2: INFO - Members of the prize file not present in the interactome:\n",
      "10:06:56 - OI2: INFO - ['AADAT', 'C1ORF53', 'C5ORF56', 'CAPN8', 'FILIP1L', 'HIST1H4E', 'IFI44L', 'KIF18B', 'PDF', 'SLC28A3', 'SMIM4', 'TMEM238', 'WHAMM', 'ZNF654', 'ZSWIM4']\n"
     ]
    },
    {
     "name": "stdout",
     "output_type": "stream",
     "text": [
      "Progress= 0.57\n"
     ]
    },
    {
     "name": "stderr",
     "output_type": "stream",
     "text": [
      "10:06:57 - OI2: INFO - Duplicated gene symbols in the prize file (we'll keep the max prize):\n",
      "10:06:57 - OI2: INFO - []\n",
      "10:06:57 - OI2: INFO - Members of the prize file not present in the interactome:\n",
      "10:06:57 - OI2: INFO - ['AADAT', 'C1ORF53', 'C5ORF56', 'CAPN8', 'FILIP1L', 'HIST1H4E', 'IFI44L', 'KIF18B', 'PDF', 'SLC28A3', 'SMIM4', 'TMEM238', 'WHAMM', 'ZNF654', 'ZSWIM4']\n"
     ]
    },
    {
     "name": "stdout",
     "output_type": "stream",
     "text": [
      "Progress= 0.58\n"
     ]
    },
    {
     "name": "stderr",
     "output_type": "stream",
     "text": [
      "10:06:58 - OI2: INFO - Duplicated gene symbols in the prize file (we'll keep the max prize):\n",
      "10:06:58 - OI2: INFO - []\n",
      "10:06:58 - OI2: INFO - Members of the prize file not present in the interactome:\n",
      "10:06:58 - OI2: INFO - ['AADAT', 'C1ORF53', 'C5ORF56', 'CAPN8', 'FILIP1L', 'HIST1H4E', 'IFI44L', 'KIF18B', 'PDF', 'SLC28A3', 'SMIM4', 'TMEM238', 'WHAMM', 'ZNF654', 'ZSWIM4']\n"
     ]
    },
    {
     "name": "stdout",
     "output_type": "stream",
     "text": [
      "Progress= 0.59\n"
     ]
    },
    {
     "name": "stderr",
     "output_type": "stream",
     "text": [
      "10:06:59 - OI2: INFO - Duplicated gene symbols in the prize file (we'll keep the max prize):\n",
      "10:06:59 - OI2: INFO - []\n",
      "10:06:59 - OI2: INFO - Members of the prize file not present in the interactome:\n",
      "10:06:59 - OI2: INFO - ['AADAT', 'C1ORF53', 'C5ORF56', 'CAPN8', 'FILIP1L', 'HIST1H4E', 'IFI44L', 'KIF18B', 'PDF', 'SLC28A3', 'SMIM4', 'TMEM238', 'WHAMM', 'ZNF654', 'ZSWIM4']\n"
     ]
    },
    {
     "name": "stdout",
     "output_type": "stream",
     "text": [
      "Progress= 0.6\n"
     ]
    },
    {
     "name": "stderr",
     "output_type": "stream",
     "text": [
      "10:07:00 - OI2: INFO - Duplicated gene symbols in the prize file (we'll keep the max prize):\n",
      "10:07:00 - OI2: INFO - []\n",
      "10:07:00 - OI2: INFO - Members of the prize file not present in the interactome:\n",
      "10:07:00 - OI2: INFO - ['AADAT', 'C1ORF53', 'C5ORF56', 'CAPN8', 'FILIP1L', 'HIST1H4E', 'IFI44L', 'KIF18B', 'PDF', 'SLC28A3', 'SMIM4', 'TMEM238', 'WHAMM', 'ZNF654', 'ZSWIM4']\n"
     ]
    },
    {
     "name": "stdout",
     "output_type": "stream",
     "text": [
      "Progress= 0.61\n"
     ]
    },
    {
     "name": "stderr",
     "output_type": "stream",
     "text": [
      "10:07:02 - OI2: INFO - Duplicated gene symbols in the prize file (we'll keep the max prize):\n",
      "10:07:02 - OI2: INFO - []\n",
      "10:07:02 - OI2: INFO - Members of the prize file not present in the interactome:\n",
      "10:07:02 - OI2: INFO - ['AADAT', 'C1ORF53', 'C5ORF56', 'CAPN8', 'FILIP1L', 'HIST1H4E', 'IFI44L', 'KIF18B', 'PDF', 'SLC28A3', 'SMIM4', 'TMEM238', 'WHAMM', 'ZNF654', 'ZSWIM4']\n"
     ]
    },
    {
     "name": "stdout",
     "output_type": "stream",
     "text": [
      "Progress= 0.62\n"
     ]
    },
    {
     "name": "stderr",
     "output_type": "stream",
     "text": [
      "10:07:03 - OI2: INFO - Duplicated gene symbols in the prize file (we'll keep the max prize):\n",
      "10:07:03 - OI2: INFO - []\n",
      "10:07:03 - OI2: INFO - Members of the prize file not present in the interactome:\n",
      "10:07:03 - OI2: INFO - ['AADAT', 'C1ORF53', 'C5ORF56', 'CAPN8', 'FILIP1L', 'HIST1H4E', 'IFI44L', 'KIF18B', 'PDF', 'SLC28A3', 'SMIM4', 'TMEM238', 'WHAMM', 'ZNF654', 'ZSWIM4']\n"
     ]
    },
    {
     "name": "stdout",
     "output_type": "stream",
     "text": [
      "Progress= 0.63\n"
     ]
    },
    {
     "name": "stderr",
     "output_type": "stream",
     "text": [
      "10:07:04 - OI2: INFO - Duplicated gene symbols in the prize file (we'll keep the max prize):\n",
      "10:07:04 - OI2: INFO - []\n",
      "10:07:04 - OI2: INFO - Members of the prize file not present in the interactome:\n",
      "10:07:04 - OI2: INFO - ['AADAT', 'C1ORF53', 'C5ORF56', 'CAPN8', 'FILIP1L', 'HIST1H4E', 'IFI44L', 'KIF18B', 'PDF', 'SLC28A3', 'SMIM4', 'TMEM238', 'WHAMM', 'ZNF654', 'ZSWIM4']\n"
     ]
    },
    {
     "name": "stdout",
     "output_type": "stream",
     "text": [
      "Progress= 0.64\n"
     ]
    },
    {
     "name": "stderr",
     "output_type": "stream",
     "text": [
      "10:07:05 - OI2: INFO - Duplicated gene symbols in the prize file (we'll keep the max prize):\n",
      "10:07:05 - OI2: INFO - []\n",
      "10:07:05 - OI2: INFO - Members of the prize file not present in the interactome:\n",
      "10:07:05 - OI2: INFO - ['AADAT', 'C1ORF53', 'C5ORF56', 'CAPN8', 'FILIP1L', 'HIST1H4E', 'IFI44L', 'KIF18B', 'PDF', 'SLC28A3', 'SMIM4', 'TMEM238', 'WHAMM', 'ZNF654', 'ZSWIM4']\n"
     ]
    },
    {
     "name": "stdout",
     "output_type": "stream",
     "text": [
      "Progress= 0.65\n"
     ]
    },
    {
     "name": "stderr",
     "output_type": "stream",
     "text": [
      "10:07:06 - OI2: INFO - Duplicated gene symbols in the prize file (we'll keep the max prize):\n",
      "10:07:06 - OI2: INFO - []\n",
      "10:07:06 - OI2: INFO - Members of the prize file not present in the interactome:\n",
      "10:07:06 - OI2: INFO - ['AADAT', 'C1ORF53', 'C5ORF56', 'CAPN8', 'FILIP1L', 'HIST1H4E', 'IFI44L', 'KIF18B', 'PDF', 'SLC28A3', 'SMIM4', 'TMEM238', 'WHAMM', 'ZNF654', 'ZSWIM4']\n"
     ]
    },
    {
     "name": "stdout",
     "output_type": "stream",
     "text": [
      "Progress= 0.66\n"
     ]
    },
    {
     "name": "stderr",
     "output_type": "stream",
     "text": [
      "10:07:07 - OI2: INFO - Duplicated gene symbols in the prize file (we'll keep the max prize):\n",
      "10:07:07 - OI2: INFO - []\n",
      "10:07:07 - OI2: INFO - Members of the prize file not present in the interactome:\n",
      "10:07:07 - OI2: INFO - ['AADAT', 'C1ORF53', 'C5ORF56', 'CAPN8', 'FILIP1L', 'HIST1H4E', 'IFI44L', 'KIF18B', 'PDF', 'SLC28A3', 'SMIM4', 'TMEM238', 'WHAMM', 'ZNF654', 'ZSWIM4']\n"
     ]
    },
    {
     "name": "stdout",
     "output_type": "stream",
     "text": [
      "Progress= 0.67\n"
     ]
    },
    {
     "name": "stderr",
     "output_type": "stream",
     "text": [
      "10:07:09 - OI2: INFO - Duplicated gene symbols in the prize file (we'll keep the max prize):\n",
      "10:07:09 - OI2: INFO - []\n",
      "10:07:09 - OI2: INFO - Members of the prize file not present in the interactome:\n",
      "10:07:09 - OI2: INFO - ['AADAT', 'C1ORF53', 'C5ORF56', 'CAPN8', 'FILIP1L', 'HIST1H4E', 'IFI44L', 'KIF18B', 'PDF', 'SLC28A3', 'SMIM4', 'TMEM238', 'WHAMM', 'ZNF654', 'ZSWIM4']\n"
     ]
    },
    {
     "name": "stdout",
     "output_type": "stream",
     "text": [
      "Progress= 0.68\n"
     ]
    },
    {
     "name": "stderr",
     "output_type": "stream",
     "text": [
      "10:07:10 - OI2: INFO - Duplicated gene symbols in the prize file (we'll keep the max prize):\n",
      "10:07:10 - OI2: INFO - []\n",
      "10:07:10 - OI2: INFO - Members of the prize file not present in the interactome:\n",
      "10:07:10 - OI2: INFO - ['AADAT', 'C1ORF53', 'C5ORF56', 'CAPN8', 'FILIP1L', 'HIST1H4E', 'IFI44L', 'KIF18B', 'PDF', 'SLC28A3', 'SMIM4', 'TMEM238', 'WHAMM', 'ZNF654', 'ZSWIM4']\n"
     ]
    },
    {
     "name": "stdout",
     "output_type": "stream",
     "text": [
      "Progress= 0.69\n"
     ]
    },
    {
     "name": "stderr",
     "output_type": "stream",
     "text": [
      "10:07:11 - OI2: INFO - Duplicated gene symbols in the prize file (we'll keep the max prize):\n",
      "10:07:11 - OI2: INFO - []\n",
      "10:07:11 - OI2: INFO - Members of the prize file not present in the interactome:\n",
      "10:07:11 - OI2: INFO - ['AADAT', 'C1ORF53', 'C5ORF56', 'CAPN8', 'FILIP1L', 'HIST1H4E', 'IFI44L', 'KIF18B', 'PDF', 'SLC28A3', 'SMIM4', 'TMEM238', 'WHAMM', 'ZNF654', 'ZSWIM4']\n"
     ]
    },
    {
     "name": "stdout",
     "output_type": "stream",
     "text": [
      "Progress= 0.7\n"
     ]
    },
    {
     "name": "stderr",
     "output_type": "stream",
     "text": [
      "10:07:12 - OI2: INFO - Duplicated gene symbols in the prize file (we'll keep the max prize):\n",
      "10:07:12 - OI2: INFO - []\n",
      "10:07:12 - OI2: INFO - Members of the prize file not present in the interactome:\n",
      "10:07:12 - OI2: INFO - ['AADAT', 'C1ORF53', 'C5ORF56', 'CAPN8', 'FILIP1L', 'HIST1H4E', 'IFI44L', 'KIF18B', 'PDF', 'SLC28A3', 'SMIM4', 'TMEM238', 'WHAMM', 'ZNF654', 'ZSWIM4']\n"
     ]
    },
    {
     "name": "stdout",
     "output_type": "stream",
     "text": [
      "Progress= 0.71\n"
     ]
    },
    {
     "name": "stderr",
     "output_type": "stream",
     "text": [
      "10:07:13 - OI2: INFO - Duplicated gene symbols in the prize file (we'll keep the max prize):\n",
      "10:07:13 - OI2: INFO - []\n",
      "10:07:13 - OI2: INFO - Members of the prize file not present in the interactome:\n",
      "10:07:13 - OI2: INFO - ['AADAT', 'C1ORF53', 'C5ORF56', 'CAPN8', 'FILIP1L', 'HIST1H4E', 'IFI44L', 'KIF18B', 'PDF', 'SLC28A3', 'SMIM4', 'TMEM238', 'WHAMM', 'ZNF654', 'ZSWIM4']\n"
     ]
    },
    {
     "name": "stdout",
     "output_type": "stream",
     "text": [
      "Progress= 0.72\n"
     ]
    },
    {
     "name": "stderr",
     "output_type": "stream",
     "text": [
      "10:07:14 - OI2: INFO - Duplicated gene symbols in the prize file (we'll keep the max prize):\n",
      "10:07:14 - OI2: INFO - []\n",
      "10:07:14 - OI2: INFO - Members of the prize file not present in the interactome:\n",
      "10:07:15 - OI2: INFO - ['AADAT', 'C1ORF53', 'C5ORF56', 'CAPN8', 'FILIP1L', 'HIST1H4E', 'IFI44L', 'KIF18B', 'PDF', 'SLC28A3', 'SMIM4', 'TMEM238', 'WHAMM', 'ZNF654', 'ZSWIM4']\n"
     ]
    },
    {
     "name": "stdout",
     "output_type": "stream",
     "text": [
      "Progress= 0.73\n"
     ]
    },
    {
     "name": "stderr",
     "output_type": "stream",
     "text": [
      "10:07:16 - OI2: INFO - Duplicated gene symbols in the prize file (we'll keep the max prize):\n",
      "10:07:16 - OI2: INFO - []\n",
      "10:07:16 - OI2: INFO - Members of the prize file not present in the interactome:\n",
      "10:07:16 - OI2: INFO - ['AADAT', 'C1ORF53', 'C5ORF56', 'CAPN8', 'FILIP1L', 'HIST1H4E', 'IFI44L', 'KIF18B', 'PDF', 'SLC28A3', 'SMIM4', 'TMEM238', 'WHAMM', 'ZNF654', 'ZSWIM4']\n"
     ]
    },
    {
     "name": "stdout",
     "output_type": "stream",
     "text": [
      "Progress= 0.74\n"
     ]
    },
    {
     "name": "stderr",
     "output_type": "stream",
     "text": [
      "10:07:17 - OI2: INFO - Duplicated gene symbols in the prize file (we'll keep the max prize):\n",
      "10:07:17 - OI2: INFO - []\n",
      "10:07:17 - OI2: INFO - Members of the prize file not present in the interactome:\n",
      "10:07:17 - OI2: INFO - ['AADAT', 'C1ORF53', 'C5ORF56', 'CAPN8', 'FILIP1L', 'HIST1H4E', 'IFI44L', 'KIF18B', 'PDF', 'SLC28A3', 'SMIM4', 'TMEM238', 'WHAMM', 'ZNF654', 'ZSWIM4']\n"
     ]
    },
    {
     "name": "stdout",
     "output_type": "stream",
     "text": [
      "Progress= 0.75\n"
     ]
    },
    {
     "name": "stderr",
     "output_type": "stream",
     "text": [
      "10:07:18 - OI2: INFO - Duplicated gene symbols in the prize file (we'll keep the max prize):\n",
      "10:07:18 - OI2: INFO - []\n",
      "10:07:18 - OI2: INFO - Members of the prize file not present in the interactome:\n",
      "10:07:18 - OI2: INFO - ['AADAT', 'C1ORF53', 'C5ORF56', 'CAPN8', 'FILIP1L', 'HIST1H4E', 'IFI44L', 'KIF18B', 'PDF', 'SLC28A3', 'SMIM4', 'TMEM238', 'WHAMM', 'ZNF654', 'ZSWIM4']\n"
     ]
    },
    {
     "name": "stdout",
     "output_type": "stream",
     "text": [
      "Progress= 0.76\n"
     ]
    },
    {
     "name": "stderr",
     "output_type": "stream",
     "text": [
      "10:07:19 - OI2: INFO - Duplicated gene symbols in the prize file (we'll keep the max prize):\n",
      "10:07:19 - OI2: INFO - []\n",
      "10:07:19 - OI2: INFO - Members of the prize file not present in the interactome:\n",
      "10:07:19 - OI2: INFO - ['AADAT', 'C1ORF53', 'C5ORF56', 'CAPN8', 'FILIP1L', 'HIST1H4E', 'IFI44L', 'KIF18B', 'PDF', 'SLC28A3', 'SMIM4', 'TMEM238', 'WHAMM', 'ZNF654', 'ZSWIM4']\n"
     ]
    },
    {
     "name": "stdout",
     "output_type": "stream",
     "text": [
      "Progress= 0.77\n"
     ]
    },
    {
     "name": "stderr",
     "output_type": "stream",
     "text": [
      "10:07:20 - OI2: INFO - Duplicated gene symbols in the prize file (we'll keep the max prize):\n",
      "10:07:20 - OI2: INFO - []\n",
      "10:07:20 - OI2: INFO - Members of the prize file not present in the interactome:\n",
      "10:07:20 - OI2: INFO - ['AADAT', 'C1ORF53', 'C5ORF56', 'CAPN8', 'FILIP1L', 'HIST1H4E', 'IFI44L', 'KIF18B', 'PDF', 'SLC28A3', 'SMIM4', 'TMEM238', 'WHAMM', 'ZNF654', 'ZSWIM4']\n"
     ]
    },
    {
     "name": "stdout",
     "output_type": "stream",
     "text": [
      "Progress= 0.78\n"
     ]
    },
    {
     "name": "stderr",
     "output_type": "stream",
     "text": [
      "10:07:22 - OI2: INFO - Duplicated gene symbols in the prize file (we'll keep the max prize):\n",
      "10:07:22 - OI2: INFO - []\n",
      "10:07:22 - OI2: INFO - Members of the prize file not present in the interactome:\n",
      "10:07:22 - OI2: INFO - ['AADAT', 'C1ORF53', 'C5ORF56', 'CAPN8', 'FILIP1L', 'HIST1H4E', 'IFI44L', 'KIF18B', 'PDF', 'SLC28A3', 'SMIM4', 'TMEM238', 'WHAMM', 'ZNF654', 'ZSWIM4']\n"
     ]
    },
    {
     "name": "stdout",
     "output_type": "stream",
     "text": [
      "Progress= 0.79\n"
     ]
    },
    {
     "name": "stderr",
     "output_type": "stream",
     "text": [
      "10:07:23 - OI2: INFO - Duplicated gene symbols in the prize file (we'll keep the max prize):\n",
      "10:07:23 - OI2: INFO - []\n",
      "10:07:23 - OI2: INFO - Members of the prize file not present in the interactome:\n",
      "10:07:23 - OI2: INFO - ['AADAT', 'C1ORF53', 'C5ORF56', 'CAPN8', 'FILIP1L', 'HIST1H4E', 'IFI44L', 'KIF18B', 'PDF', 'SLC28A3', 'SMIM4', 'TMEM238', 'WHAMM', 'ZNF654', 'ZSWIM4']\n"
     ]
    },
    {
     "name": "stdout",
     "output_type": "stream",
     "text": [
      "Progress= 0.8\n"
     ]
    },
    {
     "name": "stderr",
     "output_type": "stream",
     "text": [
      "10:07:24 - OI2: INFO - Duplicated gene symbols in the prize file (we'll keep the max prize):\n",
      "10:07:24 - OI2: INFO - []\n",
      "10:07:24 - OI2: INFO - Members of the prize file not present in the interactome:\n",
      "10:07:24 - OI2: INFO - ['AADAT', 'C1ORF53', 'C5ORF56', 'CAPN8', 'FILIP1L', 'HIST1H4E', 'IFI44L', 'KIF18B', 'PDF', 'SLC28A3', 'SMIM4', 'TMEM238', 'WHAMM', 'ZNF654', 'ZSWIM4']\n"
     ]
    },
    {
     "name": "stdout",
     "output_type": "stream",
     "text": [
      "Progress= 0.81\n"
     ]
    },
    {
     "name": "stderr",
     "output_type": "stream",
     "text": [
      "10:07:25 - OI2: INFO - Duplicated gene symbols in the prize file (we'll keep the max prize):\n",
      "10:07:25 - OI2: INFO - []\n",
      "10:07:25 - OI2: INFO - Members of the prize file not present in the interactome:\n",
      "10:07:25 - OI2: INFO - ['AADAT', 'C1ORF53', 'C5ORF56', 'CAPN8', 'FILIP1L', 'HIST1H4E', 'IFI44L', 'KIF18B', 'PDF', 'SLC28A3', 'SMIM4', 'TMEM238', 'WHAMM', 'ZNF654', 'ZSWIM4']\n"
     ]
    },
    {
     "name": "stdout",
     "output_type": "stream",
     "text": [
      "Progress= 0.82\n"
     ]
    },
    {
     "name": "stderr",
     "output_type": "stream",
     "text": [
      "10:07:26 - OI2: INFO - Duplicated gene symbols in the prize file (we'll keep the max prize):\n",
      "10:07:26 - OI2: INFO - []\n",
      "10:07:26 - OI2: INFO - Members of the prize file not present in the interactome:\n",
      "10:07:26 - OI2: INFO - ['AADAT', 'C1ORF53', 'C5ORF56', 'CAPN8', 'FILIP1L', 'HIST1H4E', 'IFI44L', 'KIF18B', 'PDF', 'SLC28A3', 'SMIM4', 'TMEM238', 'WHAMM', 'ZNF654', 'ZSWIM4']\n"
     ]
    },
    {
     "name": "stdout",
     "output_type": "stream",
     "text": [
      "Progress= 0.83\n"
     ]
    },
    {
     "name": "stderr",
     "output_type": "stream",
     "text": [
      "10:07:27 - OI2: INFO - Duplicated gene symbols in the prize file (we'll keep the max prize):\n",
      "10:07:27 - OI2: INFO - []\n",
      "10:07:27 - OI2: INFO - Members of the prize file not present in the interactome:\n",
      "10:07:27 - OI2: INFO - ['AADAT', 'C1ORF53', 'C5ORF56', 'CAPN8', 'FILIP1L', 'HIST1H4E', 'IFI44L', 'KIF18B', 'PDF', 'SLC28A3', 'SMIM4', 'TMEM238', 'WHAMM', 'ZNF654', 'ZSWIM4']\n"
     ]
    },
    {
     "name": "stdout",
     "output_type": "stream",
     "text": [
      "Progress= 0.84\n"
     ]
    },
    {
     "name": "stderr",
     "output_type": "stream",
     "text": [
      "10:07:29 - OI2: INFO - Duplicated gene symbols in the prize file (we'll keep the max prize):\n",
      "10:07:29 - OI2: INFO - []\n",
      "10:07:29 - OI2: INFO - Members of the prize file not present in the interactome:\n",
      "10:07:29 - OI2: INFO - ['AADAT', 'C1ORF53', 'C5ORF56', 'CAPN8', 'FILIP1L', 'HIST1H4E', 'IFI44L', 'KIF18B', 'PDF', 'SLC28A3', 'SMIM4', 'TMEM238', 'WHAMM', 'ZNF654', 'ZSWIM4']\n"
     ]
    },
    {
     "name": "stdout",
     "output_type": "stream",
     "text": [
      "Progress= 0.85\n"
     ]
    },
    {
     "name": "stderr",
     "output_type": "stream",
     "text": [
      "10:07:30 - OI2: INFO - Duplicated gene symbols in the prize file (we'll keep the max prize):\n",
      "10:07:30 - OI2: INFO - []\n",
      "10:07:30 - OI2: INFO - Members of the prize file not present in the interactome:\n",
      "10:07:30 - OI2: INFO - ['AADAT', 'C1ORF53', 'C5ORF56', 'CAPN8', 'FILIP1L', 'HIST1H4E', 'IFI44L', 'KIF18B', 'PDF', 'SLC28A3', 'SMIM4', 'TMEM238', 'WHAMM', 'ZNF654', 'ZSWIM4']\n"
     ]
    },
    {
     "name": "stdout",
     "output_type": "stream",
     "text": [
      "Progress= 0.86\n"
     ]
    },
    {
     "name": "stderr",
     "output_type": "stream",
     "text": [
      "10:07:31 - OI2: INFO - Duplicated gene symbols in the prize file (we'll keep the max prize):\n",
      "10:07:31 - OI2: INFO - []\n",
      "10:07:31 - OI2: INFO - Members of the prize file not present in the interactome:\n",
      "10:07:31 - OI2: INFO - ['AADAT', 'C1ORF53', 'C5ORF56', 'CAPN8', 'FILIP1L', 'HIST1H4E', 'IFI44L', 'KIF18B', 'PDF', 'SLC28A3', 'SMIM4', 'TMEM238', 'WHAMM', 'ZNF654', 'ZSWIM4']\n"
     ]
    },
    {
     "name": "stdout",
     "output_type": "stream",
     "text": [
      "Progress= 0.87\n"
     ]
    },
    {
     "name": "stderr",
     "output_type": "stream",
     "text": [
      "10:07:32 - OI2: INFO - Duplicated gene symbols in the prize file (we'll keep the max prize):\n",
      "10:07:32 - OI2: INFO - []\n",
      "10:07:32 - OI2: INFO - Members of the prize file not present in the interactome:\n",
      "10:07:32 - OI2: INFO - ['AADAT', 'C1ORF53', 'C5ORF56', 'CAPN8', 'FILIP1L', 'HIST1H4E', 'IFI44L', 'KIF18B', 'PDF', 'SLC28A3', 'SMIM4', 'TMEM238', 'WHAMM', 'ZNF654', 'ZSWIM4']\n"
     ]
    },
    {
     "name": "stdout",
     "output_type": "stream",
     "text": [
      "Progress= 0.88\n"
     ]
    },
    {
     "name": "stderr",
     "output_type": "stream",
     "text": [
      "10:07:33 - OI2: INFO - Duplicated gene symbols in the prize file (we'll keep the max prize):\n",
      "10:07:33 - OI2: INFO - []\n",
      "10:07:33 - OI2: INFO - Members of the prize file not present in the interactome:\n",
      "10:07:33 - OI2: INFO - ['AADAT', 'C1ORF53', 'C5ORF56', 'CAPN8', 'FILIP1L', 'HIST1H4E', 'IFI44L', 'KIF18B', 'PDF', 'SLC28A3', 'SMIM4', 'TMEM238', 'WHAMM', 'ZNF654', 'ZSWIM4']\n"
     ]
    },
    {
     "name": "stdout",
     "output_type": "stream",
     "text": [
      "Progress= 0.89\n"
     ]
    },
    {
     "name": "stderr",
     "output_type": "stream",
     "text": [
      "10:07:34 - OI2: INFO - Duplicated gene symbols in the prize file (we'll keep the max prize):\n",
      "10:07:34 - OI2: INFO - []\n",
      "10:07:34 - OI2: INFO - Members of the prize file not present in the interactome:\n",
      "10:07:34 - OI2: INFO - ['AADAT', 'C1ORF53', 'C5ORF56', 'CAPN8', 'FILIP1L', 'HIST1H4E', 'IFI44L', 'KIF18B', 'PDF', 'SLC28A3', 'SMIM4', 'TMEM238', 'WHAMM', 'ZNF654', 'ZSWIM4']\n"
     ]
    },
    {
     "name": "stdout",
     "output_type": "stream",
     "text": [
      "Progress= 0.9\n"
     ]
    },
    {
     "name": "stderr",
     "output_type": "stream",
     "text": [
      "10:07:36 - OI2: INFO - Duplicated gene symbols in the prize file (we'll keep the max prize):\n",
      "10:07:36 - OI2: INFO - []\n",
      "10:07:36 - OI2: INFO - Members of the prize file not present in the interactome:\n",
      "10:07:36 - OI2: INFO - ['AADAT', 'C1ORF53', 'C5ORF56', 'CAPN8', 'FILIP1L', 'HIST1H4E', 'IFI44L', 'KIF18B', 'PDF', 'SLC28A3', 'SMIM4', 'TMEM238', 'WHAMM', 'ZNF654', 'ZSWIM4']\n"
     ]
    },
    {
     "name": "stdout",
     "output_type": "stream",
     "text": [
      "Progress= 0.91\n"
     ]
    },
    {
     "name": "stderr",
     "output_type": "stream",
     "text": [
      "10:07:37 - OI2: INFO - Duplicated gene symbols in the prize file (we'll keep the max prize):\n",
      "10:07:37 - OI2: INFO - []\n",
      "10:07:37 - OI2: INFO - Members of the prize file not present in the interactome:\n",
      "10:07:37 - OI2: INFO - ['AADAT', 'C1ORF53', 'C5ORF56', 'CAPN8', 'FILIP1L', 'HIST1H4E', 'IFI44L', 'KIF18B', 'PDF', 'SLC28A3', 'SMIM4', 'TMEM238', 'WHAMM', 'ZNF654', 'ZSWIM4']\n"
     ]
    },
    {
     "name": "stdout",
     "output_type": "stream",
     "text": [
      "Progress= 0.92\n"
     ]
    },
    {
     "name": "stderr",
     "output_type": "stream",
     "text": [
      "10:07:38 - OI2: INFO - Duplicated gene symbols in the prize file (we'll keep the max prize):\n",
      "10:07:38 - OI2: INFO - []\n",
      "10:07:38 - OI2: INFO - Members of the prize file not present in the interactome:\n",
      "10:07:38 - OI2: INFO - ['AADAT', 'C1ORF53', 'C5ORF56', 'CAPN8', 'FILIP1L', 'HIST1H4E', 'IFI44L', 'KIF18B', 'PDF', 'SLC28A3', 'SMIM4', 'TMEM238', 'WHAMM', 'ZNF654', 'ZSWIM4']\n"
     ]
    },
    {
     "name": "stdout",
     "output_type": "stream",
     "text": [
      "Progress= 0.93\n"
     ]
    },
    {
     "name": "stderr",
     "output_type": "stream",
     "text": [
      "10:07:39 - OI2: INFO - Duplicated gene symbols in the prize file (we'll keep the max prize):\n",
      "10:07:39 - OI2: INFO - []\n",
      "10:07:39 - OI2: INFO - Members of the prize file not present in the interactome:\n",
      "10:07:39 - OI2: INFO - ['AADAT', 'C1ORF53', 'C5ORF56', 'CAPN8', 'FILIP1L', 'HIST1H4E', 'IFI44L', 'KIF18B', 'PDF', 'SLC28A3', 'SMIM4', 'TMEM238', 'WHAMM', 'ZNF654', 'ZSWIM4']\n"
     ]
    },
    {
     "name": "stdout",
     "output_type": "stream",
     "text": [
      "Progress= 0.94\n"
     ]
    },
    {
     "name": "stderr",
     "output_type": "stream",
     "text": [
      "10:07:40 - OI2: INFO - Duplicated gene symbols in the prize file (we'll keep the max prize):\n",
      "10:07:40 - OI2: INFO - []\n",
      "10:07:40 - OI2: INFO - Members of the prize file not present in the interactome:\n",
      "10:07:40 - OI2: INFO - ['AADAT', 'C1ORF53', 'C5ORF56', 'CAPN8', 'FILIP1L', 'HIST1H4E', 'IFI44L', 'KIF18B', 'PDF', 'SLC28A3', 'SMIM4', 'TMEM238', 'WHAMM', 'ZNF654', 'ZSWIM4']\n"
     ]
    },
    {
     "name": "stdout",
     "output_type": "stream",
     "text": [
      "Progress= 0.95\n"
     ]
    },
    {
     "name": "stderr",
     "output_type": "stream",
     "text": [
      "10:07:42 - OI2: INFO - Duplicated gene symbols in the prize file (we'll keep the max prize):\n",
      "10:07:42 - OI2: INFO - []\n",
      "10:07:42 - OI2: INFO - Members of the prize file not present in the interactome:\n",
      "10:07:42 - OI2: INFO - ['AADAT', 'C1ORF53', 'C5ORF56', 'CAPN8', 'FILIP1L', 'HIST1H4E', 'IFI44L', 'KIF18B', 'PDF', 'SLC28A3', 'SMIM4', 'TMEM238', 'WHAMM', 'ZNF654', 'ZSWIM4']\n"
     ]
    },
    {
     "name": "stdout",
     "output_type": "stream",
     "text": [
      "Progress= 0.96\n"
     ]
    },
    {
     "name": "stderr",
     "output_type": "stream",
     "text": [
      "10:07:43 - OI2: INFO - Duplicated gene symbols in the prize file (we'll keep the max prize):\n",
      "10:07:43 - OI2: INFO - []\n",
      "10:07:43 - OI2: INFO - Members of the prize file not present in the interactome:\n",
      "10:07:43 - OI2: INFO - ['AADAT', 'C1ORF53', 'C5ORF56', 'CAPN8', 'FILIP1L', 'HIST1H4E', 'IFI44L', 'KIF18B', 'PDF', 'SLC28A3', 'SMIM4', 'TMEM238', 'WHAMM', 'ZNF654', 'ZSWIM4']\n"
     ]
    },
    {
     "name": "stdout",
     "output_type": "stream",
     "text": [
      "Progress= 0.97\n"
     ]
    },
    {
     "name": "stderr",
     "output_type": "stream",
     "text": [
      "10:07:44 - OI2: INFO - Duplicated gene symbols in the prize file (we'll keep the max prize):\n",
      "10:07:44 - OI2: INFO - []\n",
      "10:07:44 - OI2: INFO - Members of the prize file not present in the interactome:\n",
      "10:07:44 - OI2: INFO - ['AADAT', 'C1ORF53', 'C5ORF56', 'CAPN8', 'FILIP1L', 'HIST1H4E', 'IFI44L', 'KIF18B', 'PDF', 'SLC28A3', 'SMIM4', 'TMEM238', 'WHAMM', 'ZNF654', 'ZSWIM4']\n"
     ]
    },
    {
     "name": "stdout",
     "output_type": "stream",
     "text": [
      "Progress= 0.98\n"
     ]
    },
    {
     "name": "stderr",
     "output_type": "stream",
     "text": [
      "10:07:45 - OI2: INFO - Duplicated gene symbols in the prize file (we'll keep the max prize):\n",
      "10:07:45 - OI2: INFO - []\n",
      "10:07:45 - OI2: INFO - Members of the prize file not present in the interactome:\n",
      "10:07:45 - OI2: INFO - ['AADAT', 'C1ORF53', 'C5ORF56', 'CAPN8', 'FILIP1L', 'HIST1H4E', 'IFI44L', 'KIF18B', 'PDF', 'SLC28A3', 'SMIM4', 'TMEM238', 'WHAMM', 'ZNF654', 'ZSWIM4']\n"
     ]
    },
    {
     "name": "stdout",
     "output_type": "stream",
     "text": [
      "Progress= 0.99\n"
     ]
    },
    {
     "name": "stderr",
     "output_type": "stream",
     "text": [
      "10:07:46 - OI2: INFO - Duplicated gene symbols in the prize file (we'll keep the max prize):\n",
      "10:07:46 - OI2: INFO - []\n",
      "10:07:46 - OI2: INFO - Members of the prize file not present in the interactome:\n",
      "10:07:46 - OI2: INFO - ['AADAT', 'C1ORF53', 'C5ORF56', 'CAPN8', 'FILIP1L', 'HIST1H4E', 'IFI44L', 'KIF18B', 'PDF', 'SLC28A3', 'SMIM4', 'TMEM238', 'WHAMM', 'ZNF654', 'ZSWIM4']\n"
     ]
    },
    {
     "name": "stdout",
     "output_type": "stream",
     "text": [
      "Progress= 1.0\n"
     ]
    }
   ],
   "source": [
    "# Run sensitivity analysis\n",
    "networks_dict = sensitivity.run_sensitivity_analysis(interactome_file_name, \n",
    "                                                     prize_file_name, \n",
    "                                                     graph_params, \n",
    "                                                     W_list, \n",
    "                                                     B_list, \n",
    "                                                     G=0)"
   ]
  },
  {
   "cell_type": "code",
   "execution_count": 43,
   "metadata": {},
   "outputs": [],
   "source": [
    "# Save as pickle\n",
    "with open(\"../Save_calu3/networks_dict.pkl\", \"wb\") as f: \n",
    "    pickle.dump(networks_dict, f)"
   ]
  },
  {
   "cell_type": "code",
   "execution_count": 16,
   "metadata": {},
   "outputs": [],
   "source": [
    "# Add metatadata\n",
    "networks_dict = pickle.load(open(\"../Save_calu3/networks_dict.pkl\", \"rb\"))\n",
    "networks_dict = sensitivity.add_metadata(networks_dict, virus_interacting_genes)"
   ]
  },
  {
   "cell_type": "code",
   "execution_count": 17,
   "metadata": {},
   "outputs": [
    {
     "data": {
      "text/html": [
       "<div>\n",
       "<style scoped>\n",
       "    .dataframe tbody tr th:only-of-type {\n",
       "        vertical-align: middle;\n",
       "    }\n",
       "\n",
       "    .dataframe tbody tr th {\n",
       "        vertical-align: top;\n",
       "    }\n",
       "\n",
       "    .dataframe thead th {\n",
       "        text-align: right;\n",
       "    }\n",
       "</style>\n",
       "<table border=\"1\" class=\"dataframe\">\n",
       "  <thead>\n",
       "    <tr style=\"text-align: right;\">\n",
       "      <th></th>\n",
       "      <th>index</th>\n",
       "      <th>w</th>\n",
       "      <th>b</th>\n",
       "      <th>g</th>\n",
       "      <th>nodes</th>\n",
       "      <th>edges</th>\n",
       "      <th>number_components</th>\n",
       "      <th>size_components</th>\n",
       "      <th>percentage_terminals</th>\n",
       "      <th>upregulated_terminals</th>\n",
       "      <th>downregulated_terminals</th>\n",
       "      <th>number_transcription_regulators</th>\n",
       "      <th>transcription_regulators</th>\n",
       "      <th>number_of_proteins_interacting_sars</th>\n",
       "      <th>proteins_interacting_sars</th>\n",
       "    </tr>\n",
       "  </thead>\n",
       "  <tbody>\n",
       "    <tr>\n",
       "      <th>w_0.2_b_10.0</th>\n",
       "      <td>1</td>\n",
       "      <td>0.2</td>\n",
       "      <td>10.0</td>\n",
       "      <td>0</td>\n",
       "      <td>263</td>\n",
       "      <td>688</td>\n",
       "      <td>36</td>\n",
       "      <td>[224, 4, 2, 1, 1, 1, 1, 1, 1, 1, 1, 1, 1, 1, 1...</td>\n",
       "      <td>0.938272</td>\n",
       "      <td>103</td>\n",
       "      <td>125</td>\n",
       "      <td>12</td>\n",
       "      <td>[BACH1, BACH2, CREB5, ETV6, IRF2, MAML2, NFE2L...</td>\n",
       "      <td>4</td>\n",
       "      <td>[FOXRED2, RIPK1, STC2, TMEM97]</td>\n",
       "    </tr>\n",
       "    <tr>\n",
       "      <th>w_0.2_b_15.0</th>\n",
       "      <td>2</td>\n",
       "      <td>0.2</td>\n",
       "      <td>15.0</td>\n",
       "      <td>0</td>\n",
       "      <td>263</td>\n",
       "      <td>688</td>\n",
       "      <td>36</td>\n",
       "      <td>[224, 4, 2, 1, 1, 1, 1, 1, 1, 1, 1, 1, 1, 1, 1...</td>\n",
       "      <td>0.938272</td>\n",
       "      <td>103</td>\n",
       "      <td>125</td>\n",
       "      <td>12</td>\n",
       "      <td>[BACH1, BACH2, CREB5, ETV6, IRF2, MAML2, NFE2L...</td>\n",
       "      <td>4</td>\n",
       "      <td>[FOXRED2, RIPK1, STC2, TMEM97]</td>\n",
       "    </tr>\n",
       "    <tr>\n",
       "      <th>w_0.2_b_20.0</th>\n",
       "      <td>3</td>\n",
       "      <td>0.2</td>\n",
       "      <td>20.0</td>\n",
       "      <td>0</td>\n",
       "      <td>263</td>\n",
       "      <td>688</td>\n",
       "      <td>36</td>\n",
       "      <td>[224, 4, 2, 1, 1, 1, 1, 1, 1, 1, 1, 1, 1, 1, 1...</td>\n",
       "      <td>0.938272</td>\n",
       "      <td>103</td>\n",
       "      <td>125</td>\n",
       "      <td>12</td>\n",
       "      <td>[BACH1, BACH2, CREB5, ETV6, IRF2, MAML2, NFE2L...</td>\n",
       "      <td>4</td>\n",
       "      <td>[FOXRED2, RIPK1, STC2, TMEM97]</td>\n",
       "    </tr>\n",
       "    <tr>\n",
       "      <th>w_0.2_b_25.0</th>\n",
       "      <td>4</td>\n",
       "      <td>0.2</td>\n",
       "      <td>25.0</td>\n",
       "      <td>0</td>\n",
       "      <td>263</td>\n",
       "      <td>688</td>\n",
       "      <td>36</td>\n",
       "      <td>[224, 4, 2, 1, 1, 1, 1, 1, 1, 1, 1, 1, 1, 1, 1...</td>\n",
       "      <td>0.938272</td>\n",
       "      <td>103</td>\n",
       "      <td>125</td>\n",
       "      <td>12</td>\n",
       "      <td>[BACH1, BACH2, CREB5, ETV6, IRF2, MAML2, NFE2L...</td>\n",
       "      <td>4</td>\n",
       "      <td>[FOXRED2, RIPK1, STC2, TMEM97]</td>\n",
       "    </tr>\n",
       "    <tr>\n",
       "      <th>w_0.2_b_30.0</th>\n",
       "      <td>5</td>\n",
       "      <td>0.2</td>\n",
       "      <td>30.0</td>\n",
       "      <td>0</td>\n",
       "      <td>263</td>\n",
       "      <td>688</td>\n",
       "      <td>36</td>\n",
       "      <td>[224, 4, 2, 1, 1, 1, 1, 1, 1, 1, 1, 1, 1, 1, 1...</td>\n",
       "      <td>0.938272</td>\n",
       "      <td>103</td>\n",
       "      <td>125</td>\n",
       "      <td>12</td>\n",
       "      <td>[BACH1, BACH2, CREB5, ETV6, IRF2, MAML2, NFE2L...</td>\n",
       "      <td>4</td>\n",
       "      <td>[FOXRED2, RIPK1, STC2, TMEM97]</td>\n",
       "    </tr>\n",
       "  </tbody>\n",
       "</table>\n",
       "</div>"
      ],
      "text/plain": [
       "              index    w     b  g  nodes  edges  number_components  \\\n",
       "w_0.2_b_10.0      1  0.2  10.0  0    263    688                 36   \n",
       "w_0.2_b_15.0      2  0.2  15.0  0    263    688                 36   \n",
       "w_0.2_b_20.0      3  0.2  20.0  0    263    688                 36   \n",
       "w_0.2_b_25.0      4  0.2  25.0  0    263    688                 36   \n",
       "w_0.2_b_30.0      5  0.2  30.0  0    263    688                 36   \n",
       "\n",
       "                                                size_components  \\\n",
       "w_0.2_b_10.0  [224, 4, 2, 1, 1, 1, 1, 1, 1, 1, 1, 1, 1, 1, 1...   \n",
       "w_0.2_b_15.0  [224, 4, 2, 1, 1, 1, 1, 1, 1, 1, 1, 1, 1, 1, 1...   \n",
       "w_0.2_b_20.0  [224, 4, 2, 1, 1, 1, 1, 1, 1, 1, 1, 1, 1, 1, 1...   \n",
       "w_0.2_b_25.0  [224, 4, 2, 1, 1, 1, 1, 1, 1, 1, 1, 1, 1, 1, 1...   \n",
       "w_0.2_b_30.0  [224, 4, 2, 1, 1, 1, 1, 1, 1, 1, 1, 1, 1, 1, 1...   \n",
       "\n",
       "              percentage_terminals  upregulated_terminals  \\\n",
       "w_0.2_b_10.0              0.938272                    103   \n",
       "w_0.2_b_15.0              0.938272                    103   \n",
       "w_0.2_b_20.0              0.938272                    103   \n",
       "w_0.2_b_25.0              0.938272                    103   \n",
       "w_0.2_b_30.0              0.938272                    103   \n",
       "\n",
       "              downregulated_terminals  number_transcription_regulators  \\\n",
       "w_0.2_b_10.0                      125                               12   \n",
       "w_0.2_b_15.0                      125                               12   \n",
       "w_0.2_b_20.0                      125                               12   \n",
       "w_0.2_b_25.0                      125                               12   \n",
       "w_0.2_b_30.0                      125                               12   \n",
       "\n",
       "                                       transcription_regulators  \\\n",
       "w_0.2_b_10.0  [BACH1, BACH2, CREB5, ETV6, IRF2, MAML2, NFE2L...   \n",
       "w_0.2_b_15.0  [BACH1, BACH2, CREB5, ETV6, IRF2, MAML2, NFE2L...   \n",
       "w_0.2_b_20.0  [BACH1, BACH2, CREB5, ETV6, IRF2, MAML2, NFE2L...   \n",
       "w_0.2_b_25.0  [BACH1, BACH2, CREB5, ETV6, IRF2, MAML2, NFE2L...   \n",
       "w_0.2_b_30.0  [BACH1, BACH2, CREB5, ETV6, IRF2, MAML2, NFE2L...   \n",
       "\n",
       "              number_of_proteins_interacting_sars  \\\n",
       "w_0.2_b_10.0                                    4   \n",
       "w_0.2_b_15.0                                    4   \n",
       "w_0.2_b_20.0                                    4   \n",
       "w_0.2_b_25.0                                    4   \n",
       "w_0.2_b_30.0                                    4   \n",
       "\n",
       "                   proteins_interacting_sars  \n",
       "w_0.2_b_10.0  [FOXRED2, RIPK1, STC2, TMEM97]  \n",
       "w_0.2_b_15.0  [FOXRED2, RIPK1, STC2, TMEM97]  \n",
       "w_0.2_b_20.0  [FOXRED2, RIPK1, STC2, TMEM97]  \n",
       "w_0.2_b_25.0  [FOXRED2, RIPK1, STC2, TMEM97]  \n",
       "w_0.2_b_30.0  [FOXRED2, RIPK1, STC2, TMEM97]  "
      ]
     },
     "execution_count": 17,
     "metadata": {},
     "output_type": "execute_result"
    }
   ],
   "source": [
    "# Make summary\n",
    "networks_summary_df = sensitivity.make_summary(networks_dict, n_terminals, g=0)\n",
    "networks_summary_df.head()"
   ]
  },
  {
   "cell_type": "markdown",
   "metadata": {},
   "source": [
    "## Plot node stability heatmaps"
   ]
  },
  {
   "cell_type": "code",
   "execution_count": 46,
   "metadata": {},
   "outputs": [
    {
     "data": {
      "text/plain": [
       "<Figure size 432x288 with 0 Axes>"
      ]
     },
     "metadata": {},
     "output_type": "display_data"
    },
    {
     "data": {
      "image/png": "[encoded data removed]",
      "text/plain": [
       "<Figure size 288x288 with 2 Axes>"
      ]
     },
     "metadata": {
      "needs_background": "light"
     },
     "output_type": "display_data"
    }
   ],
   "source": [
    "# Stability of selected nodes\n",
    "mat_allnodes = sensitivity.create_matrix_gene_overlap_between_networks(networks_summary_df, networks_dict)\n",
    "plt.figure()\n",
    "plt.matshow(mat_allnodes)\n",
    "plt.xlabel('networks')\n",
    "plt.ylabel('networks')\n",
    "plt.title('Nodes stability')\n",
    "plt.colorbar()\n",
    "plt.show()"
   ]
  },
  {
   "cell_type": "code",
   "execution_count": 47,
   "metadata": {},
   "outputs": [
    {
     "data": {
      "text/plain": [
       "<Figure size 432x288 with 0 Axes>"
      ]
     },
     "metadata": {},
     "output_type": "display_data"
    },
    {
     "data": {
      "image/png": "[encoded data removed]",
      "text/plain": [
       "<Figure size 288x288 with 2 Axes>"
      ]
     },
     "metadata": {
      "needs_background": "light"
     },
     "output_type": "display_data"
    }
   ],
   "source": [
    "# Stability of selected terminals\n",
    "mat_terminals = sensitivity.create_matrix_terminal_overlap_between_networks(networks_summary_df, networks_dict)\n",
    "plt.figure()\n",
    "plt.matshow(mat_terminals)\n",
    "plt.xlabel('networks')\n",
    "plt.ylabel('networks')\n",
    "plt.title('Terminals stability')\n",
    "plt.colorbar()\n",
    "plt.show()"
   ]
  },
  {
   "cell_type": "code",
   "execution_count": 48,
   "metadata": {},
   "outputs": [
    {
     "data": {
      "text/plain": [
       "<Figure size 432x288 with 0 Axes>"
      ]
     },
     "metadata": {},
     "output_type": "display_data"
    },
    {
     "data": {
      "image/png": "[encoded data removed]",
      "text/plain": [
       "<Figure size 288x288 with 2 Axes>"
      ]
     },
     "metadata": {
      "needs_background": "light"
     },
     "output_type": "display_data"
    }
   ],
   "source": [
    "# Stability of selected SARS-Cov-2 partners\n",
    "mat_sars = sensitivity.create_matrix_sars_overlap_between_networks(networks_summary_df, networks_dict)\n",
    "plt.figure()\n",
    "plt.matshow(mat_sars)\n",
    "plt.xlabel('networks')\n",
    "plt.ylabel('networks')\n",
    "plt.title('SARS-Cov-2 partners stability')\n",
    "plt.colorbar()\n",
    "plt.show()"
   ]
  },
  {
   "cell_type": "markdown",
   "metadata": {},
   "source": [
    "## Select robust parameters"
   ]
  },
  {
   "cell_type": "code",
   "execution_count": 18,
   "metadata": {},
   "outputs": [],
   "source": [
    "# Select network corresponding to g=0, w=1.4 and b=40\n",
    "index_selected = 67\n",
    "paramstring_selected = networks_summary_df[networks_summary_df['index']==index_selected].index[0]\n",
    "network_selected = networks_dict[paramstring_selected]"
   ]
  },
  {
   "cell_type": "code",
   "execution_count": 19,
   "metadata": {},
   "outputs": [
    {
     "data": {
      "text/plain": [
       "PosixPath('/home/louiscam/projects/sars_cov_2/Save_calu3/network_selected.pickle')"
      ]
     },
     "execution_count": 19,
     "metadata": {},
     "output_type": "execute_result"
    }
   ],
   "source": [
    "# Save selected network to file\n",
    "oi.output_networkx_graph_as_interactive_html(network_selected, filename=\"../Save_calu3/network_selected.html\")\n",
    "oi.output_networkx_graph_as_pickle(network_selected, filename= '../Save_calu3/network_selected.pickle')\n",
    "#oi.output_networkx_graph_as_graphml_for_cytoscape(robust_network, filename= '../Save_calu3/network_selected.graphml')"
   ]
  },
  {
   "cell_type": "markdown",
   "metadata": {},
   "source": [
    "# Sensitivity analysis for virus partners prize"
   ]
  },
  {
   "cell_type": "markdown",
   "metadata": {},
   "source": [
    "## Run sensitivity analysis"
   ]
  },
  {
   "cell_type": "code",
   "execution_count": 51,
   "metadata": {},
   "outputs": [
    {
     "name": "stdout",
     "output_type": "stream",
     "text": [
      "{'STC2', 'FOXRED2', 'TMEM97'}\n"
     ]
    }
   ],
   "source": [
    "# Identify which SARS-Cov-2 partners are in the terminal list\n",
    "terminal_partners = set(terminals).intersection(virus_interacting_genes)\n",
    "print(terminal_partners)"
   ]
  },
  {
   "cell_type": "code",
   "execution_count": 53,
   "metadata": {
    "scrolled": true
   },
   "outputs": [
    {
     "name": "stderr",
     "output_type": "stream",
     "text": [
      "10:17:16 - OI2: INFO - Duplicated gene symbols in the prize file (we'll keep the max prize):\n",
      "10:17:16 - OI2: INFO - []\n",
      "10:17:16 - OI2: INFO - Members of the prize file not present in the interactome:\n",
      "10:17:16 - OI2: INFO - ['AADAT', 'ATP5MG', 'C1ORF53', 'C5ORF56', 'CAPN8', 'CEP43', 'COQ8B', 'ELOB', 'ELOC', 'ERO1B', 'FILIP1L', 'HIST1H4E', 'HS2ST1', 'HS6ST2', 'IFI44L', 'KIF18B', 'MTARC1', 'NARS2', 'NSD2', 'NUP58', 'PDF', 'POGLUT2', 'POGLUT3', 'RETREG3', 'SELENOS', 'SLC28A3', 'SMIM4', 'SPART', 'TIMM29', 'TLE5', 'TMEM238', 'TOMM70', 'WASHC4', 'WHAMM', 'ZNF654', 'ZSWIM4']\n"
     ]
    },
    {
     "name": "stdout",
     "output_type": "stream",
     "text": [
      "Progress= 0.0625\n"
     ]
    },
    {
     "name": "stderr",
     "output_type": "stream",
     "text": [
      "10:17:17 - OI2: INFO - Duplicated gene symbols in the prize file (we'll keep the max prize):\n",
      "10:17:17 - OI2: INFO - []\n",
      "10:17:17 - OI2: INFO - Members of the prize file not present in the interactome:\n",
      "10:17:17 - OI2: INFO - ['AADAT', 'ATP5MG', 'C1ORF53', 'C5ORF56', 'CAPN8', 'CEP43', 'COQ8B', 'ELOB', 'ELOC', 'ERO1B', 'FILIP1L', 'HIST1H4E', 'HS2ST1', 'HS6ST2', 'IFI44L', 'KIF18B', 'MTARC1', 'NARS2', 'NSD2', 'NUP58', 'PDF', 'POGLUT2', 'POGLUT3', 'RETREG3', 'SELENOS', 'SLC28A3', 'SMIM4', 'SPART', 'TIMM29', 'TLE5', 'TMEM238', 'TOMM70', 'WASHC4', 'WHAMM', 'ZNF654', 'ZSWIM4']\n"
     ]
    },
    {
     "name": "stdout",
     "output_type": "stream",
     "text": [
      "Progress= 0.125\n"
     ]
    },
    {
     "name": "stderr",
     "output_type": "stream",
     "text": [
      "10:17:19 - OI2: INFO - Duplicated gene symbols in the prize file (we'll keep the max prize):\n",
      "10:17:19 - OI2: INFO - []\n",
      "10:17:19 - OI2: INFO - Members of the prize file not present in the interactome:\n",
      "10:17:19 - OI2: INFO - ['AADAT', 'ATP5MG', 'C1ORF53', 'C5ORF56', 'CAPN8', 'CEP43', 'COQ8B', 'ELOB', 'ELOC', 'ERO1B', 'FILIP1L', 'HIST1H4E', 'HS2ST1', 'HS6ST2', 'IFI44L', 'KIF18B', 'MTARC1', 'NARS2', 'NSD2', 'NUP58', 'PDF', 'POGLUT2', 'POGLUT3', 'RETREG3', 'SELENOS', 'SLC28A3', 'SMIM4', 'SPART', 'TIMM29', 'TLE5', 'TMEM238', 'TOMM70', 'WASHC4', 'WHAMM', 'ZNF654', 'ZSWIM4']\n"
     ]
    },
    {
     "name": "stdout",
     "output_type": "stream",
     "text": [
      "Progress= 0.1875\n"
     ]
    },
    {
     "name": "stderr",
     "output_type": "stream",
     "text": [
      "10:17:21 - OI2: INFO - Duplicated gene symbols in the prize file (we'll keep the max prize):\n",
      "10:17:21 - OI2: INFO - []\n",
      "10:17:21 - OI2: INFO - Members of the prize file not present in the interactome:\n",
      "10:17:21 - OI2: INFO - ['AADAT', 'ATP5MG', 'C1ORF53', 'C5ORF56', 'CAPN8', 'CEP43', 'COQ8B', 'ELOB', 'ELOC', 'ERO1B', 'FILIP1L', 'HIST1H4E', 'HS2ST1', 'HS6ST2', 'IFI44L', 'KIF18B', 'MTARC1', 'NARS2', 'NSD2', 'NUP58', 'PDF', 'POGLUT2', 'POGLUT3', 'RETREG3', 'SELENOS', 'SLC28A3', 'SMIM4', 'SPART', 'TIMM29', 'TLE5', 'TMEM238', 'TOMM70', 'WASHC4', 'WHAMM', 'ZNF654', 'ZSWIM4']\n"
     ]
    },
    {
     "name": "stdout",
     "output_type": "stream",
     "text": [
      "Progress= 0.25\n"
     ]
    },
    {
     "name": "stderr",
     "output_type": "stream",
     "text": [
      "10:17:22 - OI2: INFO - Duplicated gene symbols in the prize file (we'll keep the max prize):\n",
      "10:17:22 - OI2: INFO - []\n",
      "10:17:22 - OI2: INFO - Members of the prize file not present in the interactome:\n",
      "10:17:22 - OI2: INFO - ['AADAT', 'ATP5MG', 'C1ORF53', 'C5ORF56', 'CAPN8', 'CEP43', 'COQ8B', 'ELOB', 'ELOC', 'ERO1B', 'FILIP1L', 'HIST1H4E', 'HS2ST1', 'HS6ST2', 'IFI44L', 'KIF18B', 'MTARC1', 'NARS2', 'NSD2', 'NUP58', 'PDF', 'POGLUT2', 'POGLUT3', 'RETREG3', 'SELENOS', 'SLC28A3', 'SMIM4', 'SPART', 'TIMM29', 'TLE5', 'TMEM238', 'TOMM70', 'WASHC4', 'WHAMM', 'ZNF654', 'ZSWIM4']\n"
     ]
    },
    {
     "name": "stdout",
     "output_type": "stream",
     "text": [
      "Progress= 0.3125\n"
     ]
    },
    {
     "name": "stderr",
     "output_type": "stream",
     "text": [
      "10:17:24 - OI2: INFO - Duplicated gene symbols in the prize file (we'll keep the max prize):\n",
      "10:17:24 - OI2: INFO - []\n",
      "10:17:24 - OI2: INFO - Members of the prize file not present in the interactome:\n",
      "10:17:24 - OI2: INFO - ['AADAT', 'ATP5MG', 'C1ORF53', 'C5ORF56', 'CAPN8', 'CEP43', 'COQ8B', 'ELOB', 'ELOC', 'ERO1B', 'FILIP1L', 'HIST1H4E', 'HS2ST1', 'HS6ST2', 'IFI44L', 'KIF18B', 'MTARC1', 'NARS2', 'NSD2', 'NUP58', 'PDF', 'POGLUT2', 'POGLUT3', 'RETREG3', 'SELENOS', 'SLC28A3', 'SMIM4', 'SPART', 'TIMM29', 'TLE5', 'TMEM238', 'TOMM70', 'WASHC4', 'WHAMM', 'ZNF654', 'ZSWIM4']\n"
     ]
    },
    {
     "name": "stdout",
     "output_type": "stream",
     "text": [
      "Progress= 0.375\n"
     ]
    },
    {
     "name": "stderr",
     "output_type": "stream",
     "text": [
      "10:17:26 - OI2: INFO - Duplicated gene symbols in the prize file (we'll keep the max prize):\n",
      "10:17:26 - OI2: INFO - []\n",
      "10:17:26 - OI2: INFO - Members of the prize file not present in the interactome:\n",
      "10:17:26 - OI2: INFO - ['AADAT', 'ATP5MG', 'C1ORF53', 'C5ORF56', 'CAPN8', 'CEP43', 'COQ8B', 'ELOB', 'ELOC', 'ERO1B', 'FILIP1L', 'HIST1H4E', 'HS2ST1', 'HS6ST2', 'IFI44L', 'KIF18B', 'MTARC1', 'NARS2', 'NSD2', 'NUP58', 'PDF', 'POGLUT2', 'POGLUT3', 'RETREG3', 'SELENOS', 'SLC28A3', 'SMIM4', 'SPART', 'TIMM29', 'TLE5', 'TMEM238', 'TOMM70', 'WASHC4', 'WHAMM', 'ZNF654', 'ZSWIM4']\n"
     ]
    },
    {
     "name": "stdout",
     "output_type": "stream",
     "text": [
      "Progress= 0.4375\n"
     ]
    },
    {
     "name": "stderr",
     "output_type": "stream",
     "text": [
      "10:17:28 - OI2: INFO - Duplicated gene symbols in the prize file (we'll keep the max prize):\n",
      "10:17:28 - OI2: INFO - []\n",
      "10:17:28 - OI2: INFO - Members of the prize file not present in the interactome:\n",
      "10:17:28 - OI2: INFO - ['AADAT', 'ATP5MG', 'C1ORF53', 'C5ORF56', 'CAPN8', 'CEP43', 'COQ8B', 'ELOB', 'ELOC', 'ERO1B', 'FILIP1L', 'HIST1H4E', 'HS2ST1', 'HS6ST2', 'IFI44L', 'KIF18B', 'MTARC1', 'NARS2', 'NSD2', 'NUP58', 'PDF', 'POGLUT2', 'POGLUT3', 'RETREG3', 'SELENOS', 'SLC28A3', 'SMIM4', 'SPART', 'TIMM29', 'TLE5', 'TMEM238', 'TOMM70', 'WASHC4', 'WHAMM', 'ZNF654', 'ZSWIM4']\n"
     ]
    },
    {
     "name": "stdout",
     "output_type": "stream",
     "text": [
      "Progress= 0.5\n"
     ]
    },
    {
     "name": "stderr",
     "output_type": "stream",
     "text": [
      "10:17:29 - OI2: INFO - Duplicated gene symbols in the prize file (we'll keep the max prize):\n",
      "10:17:29 - OI2: INFO - []\n",
      "10:17:29 - OI2: INFO - Members of the prize file not present in the interactome:\n",
      "10:17:29 - OI2: INFO - ['AADAT', 'ATP5MG', 'C1ORF53', 'C5ORF56', 'CAPN8', 'CEP43', 'COQ8B', 'ELOB', 'ELOC', 'ERO1B', 'FILIP1L', 'HIST1H4E', 'HS2ST1', 'HS6ST2', 'IFI44L', 'KIF18B', 'MTARC1', 'NARS2', 'NSD2', 'NUP58', 'PDF', 'POGLUT2', 'POGLUT3', 'RETREG3', 'SELENOS', 'SLC28A3', 'SMIM4', 'SPART', 'TIMM29', 'TLE5', 'TMEM238', 'TOMM70', 'WASHC4', 'WHAMM', 'ZNF654', 'ZSWIM4']\n"
     ]
    },
    {
     "name": "stdout",
     "output_type": "stream",
     "text": [
      "Progress= 0.5625\n"
     ]
    },
    {
     "name": "stderr",
     "output_type": "stream",
     "text": [
      "10:17:31 - OI2: INFO - Duplicated gene symbols in the prize file (we'll keep the max prize):\n",
      "10:17:31 - OI2: INFO - []\n",
      "10:17:31 - OI2: INFO - Members of the prize file not present in the interactome:\n",
      "10:17:31 - OI2: INFO - ['AADAT', 'ATP5MG', 'C1ORF53', 'C5ORF56', 'CAPN8', 'CEP43', 'COQ8B', 'ELOB', 'ELOC', 'ERO1B', 'FILIP1L', 'HIST1H4E', 'HS2ST1', 'HS6ST2', 'IFI44L', 'KIF18B', 'MTARC1', 'NARS2', 'NSD2', 'NUP58', 'PDF', 'POGLUT2', 'POGLUT3', 'RETREG3', 'SELENOS', 'SLC28A3', 'SMIM4', 'SPART', 'TIMM29', 'TLE5', 'TMEM238', 'TOMM70', 'WASHC4', 'WHAMM', 'ZNF654', 'ZSWIM4']\n"
     ]
    },
    {
     "name": "stdout",
     "output_type": "stream",
     "text": [
      "Progress= 0.625\n"
     ]
    },
    {
     "name": "stderr",
     "output_type": "stream",
     "text": [
      "10:17:33 - OI2: INFO - Duplicated gene symbols in the prize file (we'll keep the max prize):\n",
      "10:17:33 - OI2: INFO - []\n",
      "10:17:33 - OI2: INFO - Members of the prize file not present in the interactome:\n",
      "10:17:33 - OI2: INFO - ['AADAT', 'ATP5MG', 'C1ORF53', 'C5ORF56', 'CAPN8', 'CEP43', 'COQ8B', 'ELOB', 'ELOC', 'ERO1B', 'FILIP1L', 'HIST1H4E', 'HS2ST1', 'HS6ST2', 'IFI44L', 'KIF18B', 'MTARC1', 'NARS2', 'NSD2', 'NUP58', 'PDF', 'POGLUT2', 'POGLUT3', 'RETREG3', 'SELENOS', 'SLC28A3', 'SMIM4', 'SPART', 'TIMM29', 'TLE5', 'TMEM238', 'TOMM70', 'WASHC4', 'WHAMM', 'ZNF654', 'ZSWIM4']\n"
     ]
    },
    {
     "name": "stdout",
     "output_type": "stream",
     "text": [
      "Progress= 0.6875\n"
     ]
    },
    {
     "name": "stderr",
     "output_type": "stream",
     "text": [
      "10:17:34 - OI2: INFO - Duplicated gene symbols in the prize file (we'll keep the max prize):\n",
      "10:17:34 - OI2: INFO - []\n",
      "10:17:34 - OI2: INFO - Members of the prize file not present in the interactome:\n",
      "10:17:34 - OI2: INFO - ['AADAT', 'ATP5MG', 'C1ORF53', 'C5ORF56', 'CAPN8', 'CEP43', 'COQ8B', 'ELOB', 'ELOC', 'ERO1B', 'FILIP1L', 'HIST1H4E', 'HS2ST1', 'HS6ST2', 'IFI44L', 'KIF18B', 'MTARC1', 'NARS2', 'NSD2', 'NUP58', 'PDF', 'POGLUT2', 'POGLUT3', 'RETREG3', 'SELENOS', 'SLC28A3', 'SMIM4', 'SPART', 'TIMM29', 'TLE5', 'TMEM238', 'TOMM70', 'WASHC4', 'WHAMM', 'ZNF654', 'ZSWIM4']\n"
     ]
    },
    {
     "name": "stdout",
     "output_type": "stream",
     "text": [
      "Progress= 0.75\n"
     ]
    },
    {
     "name": "stderr",
     "output_type": "stream",
     "text": [
      "10:17:36 - OI2: INFO - Duplicated gene symbols in the prize file (we'll keep the max prize):\n",
      "10:17:36 - OI2: INFO - []\n",
      "10:17:36 - OI2: INFO - Members of the prize file not present in the interactome:\n",
      "10:17:36 - OI2: INFO - ['AADAT', 'ATP5MG', 'C1ORF53', 'C5ORF56', 'CAPN8', 'CEP43', 'COQ8B', 'ELOB', 'ELOC', 'ERO1B', 'FILIP1L', 'HIST1H4E', 'HS2ST1', 'HS6ST2', 'IFI44L', 'KIF18B', 'MTARC1', 'NARS2', 'NSD2', 'NUP58', 'PDF', 'POGLUT2', 'POGLUT3', 'RETREG3', 'SELENOS', 'SLC28A3', 'SMIM4', 'SPART', 'TIMM29', 'TLE5', 'TMEM238', 'TOMM70', 'WASHC4', 'WHAMM', 'ZNF654', 'ZSWIM4']\n"
     ]
    },
    {
     "name": "stdout",
     "output_type": "stream",
     "text": [
      "Progress= 0.8125\n"
     ]
    },
    {
     "name": "stderr",
     "output_type": "stream",
     "text": [
      "10:17:38 - OI2: INFO - Duplicated gene symbols in the prize file (we'll keep the max prize):\n",
      "10:17:38 - OI2: INFO - []\n",
      "10:17:38 - OI2: INFO - Members of the prize file not present in the interactome:\n",
      "10:17:38 - OI2: INFO - ['AADAT', 'ATP5MG', 'C1ORF53', 'C5ORF56', 'CAPN8', 'CEP43', 'COQ8B', 'ELOB', 'ELOC', 'ERO1B', 'FILIP1L', 'HIST1H4E', 'HS2ST1', 'HS6ST2', 'IFI44L', 'KIF18B', 'MTARC1', 'NARS2', 'NSD2', 'NUP58', 'PDF', 'POGLUT2', 'POGLUT3', 'RETREG3', 'SELENOS', 'SLC28A3', 'SMIM4', 'SPART', 'TIMM29', 'TLE5', 'TMEM238', 'TOMM70', 'WASHC4', 'WHAMM', 'ZNF654', 'ZSWIM4']\n"
     ]
    },
    {
     "name": "stdout",
     "output_type": "stream",
     "text": [
      "Progress= 0.875\n"
     ]
    },
    {
     "name": "stderr",
     "output_type": "stream",
     "text": [
      "10:17:40 - OI2: INFO - Duplicated gene symbols in the prize file (we'll keep the max prize):\n",
      "10:17:40 - OI2: INFO - []\n",
      "10:17:40 - OI2: INFO - Members of the prize file not present in the interactome:\n",
      "10:17:40 - OI2: INFO - ['AADAT', 'ATP5MG', 'C1ORF53', 'C5ORF56', 'CAPN8', 'CEP43', 'COQ8B', 'ELOB', 'ELOC', 'ERO1B', 'FILIP1L', 'HIST1H4E', 'HS2ST1', 'HS6ST2', 'IFI44L', 'KIF18B', 'MTARC1', 'NARS2', 'NSD2', 'NUP58', 'PDF', 'POGLUT2', 'POGLUT3', 'RETREG3', 'SELENOS', 'SLC28A3', 'SMIM4', 'SPART', 'TIMM29', 'TLE5', 'TMEM238', 'TOMM70', 'WASHC4', 'WHAMM', 'ZNF654', 'ZSWIM4']\n"
     ]
    },
    {
     "name": "stdout",
     "output_type": "stream",
     "text": [
      "Progress= 0.9375\n"
     ]
    },
    {
     "name": "stderr",
     "output_type": "stream",
     "text": [
      "10:17:41 - OI2: INFO - Duplicated gene symbols in the prize file (we'll keep the max prize):\n",
      "10:17:41 - OI2: INFO - []\n",
      "10:17:41 - OI2: INFO - Members of the prize file not present in the interactome:\n",
      "10:17:41 - OI2: INFO - ['AADAT', 'ATP5MG', 'C1ORF53', 'C5ORF56', 'CAPN8', 'CEP43', 'COQ8B', 'ELOB', 'ELOC', 'ERO1B', 'FILIP1L', 'HIST1H4E', 'HS2ST1', 'HS6ST2', 'IFI44L', 'KIF18B', 'MTARC1', 'NARS2', 'NSD2', 'NUP58', 'PDF', 'POGLUT2', 'POGLUT3', 'RETREG3', 'SELENOS', 'SLC28A3', 'SMIM4', 'SPART', 'TIMM29', 'TLE5', 'TMEM238', 'TOMM70', 'WASHC4', 'WHAMM', 'ZNF654', 'ZSWIM4']\n"
     ]
    },
    {
     "name": "stdout",
     "output_type": "stream",
     "text": [
      "Progress= 1.0\n"
     ]
    }
   ],
   "source": [
    "# Run sensitivity analysis\n",
    "interactome_file_name = \"../Data/iRefIndex_v14_MIScore_interactome_C9.costs.allcaps.txt\"\n",
    "prize_file_name = \"../Save_calu3/terminals_ppi_analysis.tsv\"\n",
    "# Graph hyperparameters\n",
    "graph_params =  {\n",
    "                \"noise\": 0.0, \n",
    "                \"dummy_mode\": \"terminals\", \n",
    "                \"exclude_terminals\": False, \n",
    "                \"seed\": 1,\n",
    "                \"pruning\": 'strong',\n",
    "                \"verbosity_level\": 0,\n",
    "                \"w\": 1.4,\n",
    "                \"b\": 40,\n",
    "                \"g\": 0\n",
    "                }\n",
    "# List of values of P\n",
    "P_list = np.arange(0,0.0016,0.0001)\n",
    "\n",
    "networks_dict = svp.run_prize_sensitivity_analysis(interactome_file_name, \n",
    "                                                   prize_file_name, \n",
    "                                                   graph_params, \n",
    "                                                   virus_interacting_genes, \n",
    "                                                   terminal_partners, \n",
    "                                                   P_list)"
   ]
  },
  {
   "cell_type": "code",
   "execution_count": 55,
   "metadata": {},
   "outputs": [],
   "source": [
    "# Save as pickle\n",
    "with open(\"../Save_calu3/networks_dict_sarspartners.pkl\", \"wb\") as f: \n",
    "    pickle.dump(networks_dict, f)"
   ]
  },
  {
   "cell_type": "code",
   "execution_count": 56,
   "metadata": {},
   "outputs": [],
   "source": [
    "# Add metadata\n",
    "networks_dict = pickle.load(open(\"../Save_calu3/networks_dict_sarspartners.pkl\", \"rb\"))\n",
    "networks_dict = svp.add_metadata(networks_dict, virus_interacting_genes)"
   ]
  },
  {
   "cell_type": "code",
   "execution_count": 57,
   "metadata": {},
   "outputs": [
    {
     "data": {
      "text/html": [
       "<div>\n",
       "<style scoped>\n",
       "    .dataframe tbody tr th:only-of-type {\n",
       "        vertical-align: middle;\n",
       "    }\n",
       "\n",
       "    .dataframe tbody tr th {\n",
       "        vertical-align: top;\n",
       "    }\n",
       "\n",
       "    .dataframe thead th {\n",
       "        text-align: right;\n",
       "    }\n",
       "</style>\n",
       "<table border=\"1\" class=\"dataframe\">\n",
       "  <thead>\n",
       "    <tr style=\"text-align: right;\">\n",
       "      <th></th>\n",
       "      <th>index</th>\n",
       "      <th>p</th>\n",
       "      <th>nodes</th>\n",
       "      <th>edges</th>\n",
       "      <th>number_components</th>\n",
       "      <th>size_components</th>\n",
       "      <th>percentage_terminals</th>\n",
       "      <th>transcription_regulators</th>\n",
       "      <th>number_of_proteins_interacting_sars</th>\n",
       "      <th>proteins_interacting_sars</th>\n",
       "    </tr>\n",
       "  </thead>\n",
       "  <tbody>\n",
       "    <tr>\n",
       "      <th>p_0.0</th>\n",
       "      <td>0</td>\n",
       "      <td>0.0</td>\n",
       "      <td>324</td>\n",
       "      <td>1385</td>\n",
       "      <td>1</td>\n",
       "      <td>[324]</td>\n",
       "      <td>0.938272</td>\n",
       "      <td>[BACH1, BACH2, CREB5, ETV6, IRF2, MAML2, NFE2L...</td>\n",
       "      <td>4</td>\n",
       "      <td>[FOXRED2, RIPK1, STC2, TMEM97]</td>\n",
       "    </tr>\n",
       "    <tr>\n",
       "      <th>p_0.0001</th>\n",
       "      <td>1</td>\n",
       "      <td>0.0001</td>\n",
       "      <td>323</td>\n",
       "      <td>1367</td>\n",
       "      <td>1</td>\n",
       "      <td>[323]</td>\n",
       "      <td>0.938272</td>\n",
       "      <td>[BACH1, BACH2, CREB5, ETV6, IRF2, MAML2, NFE2L...</td>\n",
       "      <td>5</td>\n",
       "      <td>[EXOSC2, FOXRED2, RIPK1, STC2, TMEM97]</td>\n",
       "    </tr>\n",
       "    <tr>\n",
       "      <th>p_0.0002</th>\n",
       "      <td>2</td>\n",
       "      <td>0.0002</td>\n",
       "      <td>323</td>\n",
       "      <td>1367</td>\n",
       "      <td>1</td>\n",
       "      <td>[323]</td>\n",
       "      <td>0.938272</td>\n",
       "      <td>[BACH1, BACH2, CREB5, ETV6, IRF2, MAML2, NFE2L...</td>\n",
       "      <td>5</td>\n",
       "      <td>[EXOSC2, FOXRED2, RIPK1, STC2, TMEM97]</td>\n",
       "    </tr>\n",
       "    <tr>\n",
       "      <th>p_0.00030000000000000003</th>\n",
       "      <td>3</td>\n",
       "      <td>0.00030000000000000003</td>\n",
       "      <td>324</td>\n",
       "      <td>1395</td>\n",
       "      <td>1</td>\n",
       "      <td>[324]</td>\n",
       "      <td>0.938272</td>\n",
       "      <td>[BACH1, BACH2, CREB5, ETV6, IRF2, MAML2, NFE2L...</td>\n",
       "      <td>7</td>\n",
       "      <td>[CUL2, EXOSC2, FOXRED2, RBX1, RIPK1, STC2, TME...</td>\n",
       "    </tr>\n",
       "    <tr>\n",
       "      <th>p_0.0004</th>\n",
       "      <td>4</td>\n",
       "      <td>0.0004</td>\n",
       "      <td>325</td>\n",
       "      <td>1435</td>\n",
       "      <td>1</td>\n",
       "      <td>[325]</td>\n",
       "      <td>0.938272</td>\n",
       "      <td>[BACH1, BACH2, CREB5, ETV6, IRF2, MAML2, NFE2L...</td>\n",
       "      <td>8</td>\n",
       "      <td>[CUL2, EXOSC2, FOXRED2, HDAC2, RBX1, RIPK1, ST...</td>\n",
       "    </tr>\n",
       "  </tbody>\n",
       "</table>\n",
       "</div>"
      ],
      "text/plain": [
       "                          index                       p  nodes  edges  \\\n",
       "p_0.0                         0                     0.0    324   1385   \n",
       "p_0.0001                      1                  0.0001    323   1367   \n",
       "p_0.0002                      2                  0.0002    323   1367   \n",
       "p_0.00030000000000000003      3  0.00030000000000000003    324   1395   \n",
       "p_0.0004                      4                  0.0004    325   1435   \n",
       "\n",
       "                          number_components size_components  \\\n",
       "p_0.0                                     1           [324]   \n",
       "p_0.0001                                  1           [323]   \n",
       "p_0.0002                                  1           [323]   \n",
       "p_0.00030000000000000003                  1           [324]   \n",
       "p_0.0004                                  1           [325]   \n",
       "\n",
       "                          percentage_terminals  \\\n",
       "p_0.0                                 0.938272   \n",
       "p_0.0001                              0.938272   \n",
       "p_0.0002                              0.938272   \n",
       "p_0.00030000000000000003              0.938272   \n",
       "p_0.0004                              0.938272   \n",
       "\n",
       "                                                   transcription_regulators  \\\n",
       "p_0.0                     [BACH1, BACH2, CREB5, ETV6, IRF2, MAML2, NFE2L...   \n",
       "p_0.0001                  [BACH1, BACH2, CREB5, ETV6, IRF2, MAML2, NFE2L...   \n",
       "p_0.0002                  [BACH1, BACH2, CREB5, ETV6, IRF2, MAML2, NFE2L...   \n",
       "p_0.00030000000000000003  [BACH1, BACH2, CREB5, ETV6, IRF2, MAML2, NFE2L...   \n",
       "p_0.0004                  [BACH1, BACH2, CREB5, ETV6, IRF2, MAML2, NFE2L...   \n",
       "\n",
       "                          number_of_proteins_interacting_sars  \\\n",
       "p_0.0                                                       4   \n",
       "p_0.0001                                                    5   \n",
       "p_0.0002                                                    5   \n",
       "p_0.00030000000000000003                                    7   \n",
       "p_0.0004                                                    8   \n",
       "\n",
       "                                                  proteins_interacting_sars  \n",
       "p_0.0                                        [FOXRED2, RIPK1, STC2, TMEM97]  \n",
       "p_0.0001                             [EXOSC2, FOXRED2, RIPK1, STC2, TMEM97]  \n",
       "p_0.0002                             [EXOSC2, FOXRED2, RIPK1, STC2, TMEM97]  \n",
       "p_0.00030000000000000003  [CUL2, EXOSC2, FOXRED2, RBX1, RIPK1, STC2, TME...  \n",
       "p_0.0004                  [CUL2, EXOSC2, FOXRED2, HDAC2, RBX1, RIPK1, ST...  "
      ]
     },
     "execution_count": 57,
     "metadata": {},
     "output_type": "execute_result"
    }
   ],
   "source": [
    "# Make summary\n",
    "networks_summary_df = svp.make_summary(networks_dict, n_terminals)\n",
    "networks_summary_df.head()"
   ]
  },
  {
   "cell_type": "markdown",
   "metadata": {},
   "source": [
    "## Plot number of SARS-Cov-2 partners picked up versus p"
   ]
  },
  {
   "cell_type": "code",
   "execution_count": 58,
   "metadata": {},
   "outputs": [
    {
     "data": {
      "image/png": "[encoded data removed]",
      "text/plain": [
       "<Figure size 432x288 with 1 Axes>"
      ]
     },
     "metadata": {
      "needs_background": "light"
     },
     "output_type": "display_data"
    }
   ],
   "source": [
    "plt.figure()\n",
    "plt.scatter(x = networks_summary_df['p'], \n",
    "            y = networks_summary_df['number_of_proteins_interacting_sars'],\n",
    "            s = 0.1*networks_summary_df['nodes'])\n",
    "plt.xlabel('p (1e-4)')\n",
    "plt.ylabel('Number of SARS-Cov-2 partners in solution')\n",
    "plt.xticks(np.arange(0,17,4),['0','4','8','12','16'])\n",
    "plt.yticks(np.arange(0,25,5))\n",
    "plt.show()"
   ]
  },
  {
   "cell_type": "markdown",
   "metadata": {},
   "source": [
    "## Plot node stability heatmaps"
   ]
  },
  {
   "cell_type": "code",
   "execution_count": 59,
   "metadata": {},
   "outputs": [
    {
     "data": {
      "text/plain": [
       "<Figure size 432x288 with 0 Axes>"
      ]
     },
     "metadata": {},
     "output_type": "display_data"
    },
    {
     "data": {
      "image/png": "[encoded data removed]",
      "text/plain": [
       "<Figure size 288x288 with 2 Axes>"
      ]
     },
     "metadata": {
      "needs_background": "light"
     },
     "output_type": "display_data"
    }
   ],
   "source": [
    "# Stability of selected nodes\n",
    "mat_allnodes = svp.create_matrix_gene_overlap_between_networks(networks_summary_df, networks_dict)\n",
    "plt.figure()\n",
    "plt.matshow(mat_allnodes)\n",
    "plt.xlabel('networks')\n",
    "plt.ylabel('networks')\n",
    "plt.title('Nodes stability')\n",
    "plt.colorbar()\n",
    "plt.show()"
   ]
  },
  {
   "cell_type": "code",
   "execution_count": 60,
   "metadata": {},
   "outputs": [
    {
     "data": {
      "text/plain": [
       "<Figure size 432x288 with 0 Axes>"
      ]
     },
     "metadata": {},
     "output_type": "display_data"
    },
    {
     "data": {
      "image/png": "[encoded data removed]",
      "text/plain": [
       "<Figure size 288x288 with 2 Axes>"
      ]
     },
     "metadata": {
      "needs_background": "light"
     },
     "output_type": "display_data"
    }
   ],
   "source": [
    "# Stability of selected terminals\n",
    "mat_terminals = svp.create_matrix_terminal_overlap_between_networks(networks_summary_df, networks_dict)\n",
    "plt.figure()\n",
    "plt.matshow(mat_terminals)\n",
    "plt.xlabel('networks')\n",
    "plt.ylabel('networks')\n",
    "plt.title('Terminals stability')\n",
    "plt.colorbar()\n",
    "plt.show()"
   ]
  },
  {
   "cell_type": "code",
   "execution_count": 61,
   "metadata": {},
   "outputs": [
    {
     "data": {
      "text/plain": [
       "<Figure size 432x288 with 0 Axes>"
      ]
     },
     "metadata": {},
     "output_type": "display_data"
    },
    {
     "data": {
      "image/png": "[encoded data removed]",
      "text/plain": [
       "<Figure size 288x288 with 2 Axes>"
      ]
     },
     "metadata": {
      "needs_background": "light"
     },
     "output_type": "display_data"
    }
   ],
   "source": [
    "# Stability of selected SARS-Cov-2 partners\n",
    "mat_sars = svp.create_matrix_sars_overlap_between_networks(networks_summary_df, networks_dict)\n",
    "plt.figure()\n",
    "plt.matshow(mat_sars)\n",
    "plt.xlabel('networks')\n",
    "plt.ylabel('networks')\n",
    "plt.title('SARS-Cov-2 partners stability')\n",
    "plt.colorbar()\n",
    "plt.show()"
   ]
  },
  {
   "cell_type": "markdown",
   "metadata": {},
   "source": [
    "## Select robust parameters"
   ]
  },
  {
   "cell_type": "code",
   "execution_count": 62,
   "metadata": {},
   "outputs": [],
   "source": [
    "# Save network\n",
    "index_selected = 8\n",
    "paramstring_selected = networks_summary_df[networks_summary_df['index']==index_selected].index[0]\n",
    "network_selected2 = networks_dict[paramstring_selected]"
   ]
  },
  {
   "cell_type": "code",
   "execution_count": 63,
   "metadata": {},
   "outputs": [
    {
     "data": {
      "text/plain": [
       "PosixPath('/home/louiscam/projects/sars_cov_2/Save_calu3/network_selected_sarspartners.pickle')"
      ]
     },
     "execution_count": 63,
     "metadata": {},
     "output_type": "execute_result"
    }
   ],
   "source": [
    "# Save selected network to file\n",
    "oi.output_networkx_graph_as_interactive_html(network_selected2, filename=\"../Save_calu3/network_selected_sarspartners.html\")\n",
    "oi.output_networkx_graph_as_pickle(network_selected2, filename= '../Save_calu3/network_selected_sarspartners.pickle')\n",
    "#oi.output_networkx_graph_as_graphml_for_cytoscape(network_selected, filename= r'../Save_calu3/network_selected_sarspartners.graphml')"
   ]
  },
  {
   "cell_type": "markdown",
   "metadata": {},
   "source": [
    "# Add drug targets to selected network"
   ]
  },
  {
   "cell_type": "markdown",
   "metadata": {},
   "source": [
    "## Construct drug/target data"
   ]
  },
  {
   "cell_type": "code",
   "execution_count": 20,
   "metadata": {},
   "outputs": [],
   "source": [
    "# Compute degree centrality for all nodes in the interactome\n",
    "graph = oi.Graph(interactome_file_name)\n",
    "centrality_dic = nx.degree_centrality(graph.interactome_graph)"
   ]
  },
  {
   "cell_type": "code",
   "execution_count": 21,
   "metadata": {},
   "outputs": [
    {
     "data": {
      "text/html": [
       "<div>\n",
       "<style scoped>\n",
       "    .dataframe tbody tr th:only-of-type {\n",
       "        vertical-align: middle;\n",
       "    }\n",
       "\n",
       "    .dataframe tbody tr th {\n",
       "        vertical-align: top;\n",
       "    }\n",
       "\n",
       "    .dataframe thead th {\n",
       "        text-align: right;\n",
       "    }\n",
       "</style>\n",
       "<table border=\"1\" class=\"dataframe\">\n",
       "  <thead>\n",
       "    <tr style=\"text-align: right;\">\n",
       "      <th></th>\n",
       "      <th>gene</th>\n",
       "      <th>drug</th>\n",
       "      <th>protein_target</th>\n",
       "      <th>affinity_constant</th>\n",
       "      <th>affinity_constant_type</th>\n",
       "      <th>degree_centrality</th>\n",
       "    </tr>\n",
       "  </thead>\n",
       "  <tbody>\n",
       "    <tr>\n",
       "      <th>0</th>\n",
       "      <td>SCN4A</td>\n",
       "      <td>levobupivacaine</td>\n",
       "      <td>Sodium channel protein type 4 subunit alpha</td>\n",
       "      <td>NaN</td>\n",
       "      <td>NaN</td>\n",
       "      <td>0.000635</td>\n",
       "    </tr>\n",
       "    <tr>\n",
       "      <th>1</th>\n",
       "      <td>CYP2D6</td>\n",
       "      <td>levobupivacaine</td>\n",
       "      <td>Cytochrome P450 2D6</td>\n",
       "      <td>6.706859</td>\n",
       "      <td>IC50</td>\n",
       "      <td>NaN</td>\n",
       "    </tr>\n",
       "    <tr>\n",
       "      <th>4</th>\n",
       "      <td>PTGER1</td>\n",
       "      <td>levobupivacaine</td>\n",
       "      <td>Prostaglandin E2 receptor EP1 subtype</td>\n",
       "      <td>NaN</td>\n",
       "      <td>NaN</td>\n",
       "      <td>0.000317</td>\n",
       "    </tr>\n",
       "    <tr>\n",
       "      <th>5</th>\n",
       "      <td>SCN1A</td>\n",
       "      <td>levobupivacaine</td>\n",
       "      <td>Sodium channel protein type 1 subunit alpha</td>\n",
       "      <td>5.790000</td>\n",
       "      <td>IC50</td>\n",
       "      <td>0.000254</td>\n",
       "    </tr>\n",
       "    <tr>\n",
       "      <th>6</th>\n",
       "      <td>KCNA5</td>\n",
       "      <td>levobupivacaine</td>\n",
       "      <td>Potassium voltage-gated channel subfamily A me...</td>\n",
       "      <td>NaN</td>\n",
       "      <td>NaN</td>\n",
       "      <td>0.002031</td>\n",
       "    </tr>\n",
       "  </tbody>\n",
       "</table>\n",
       "</div>"
      ],
      "text/plain": [
       "     gene             drug                                     protein_target  \\\n",
       "0   SCN4A  levobupivacaine        Sodium channel protein type 4 subunit alpha   \n",
       "1  CYP2D6  levobupivacaine                                Cytochrome P450 2D6   \n",
       "4  PTGER1  levobupivacaine              Prostaglandin E2 receptor EP1 subtype   \n",
       "5   SCN1A  levobupivacaine        Sodium channel protein type 1 subunit alpha   \n",
       "6   KCNA5  levobupivacaine  Potassium voltage-gated channel subfamily A me...   \n",
       "\n",
       "   affinity_constant affinity_constant_type  degree_centrality  \n",
       "0                NaN                    NaN           0.000635  \n",
       "1           6.706859                   IC50                NaN  \n",
       "4                NaN                    NaN           0.000317  \n",
       "5           5.790000                   IC50           0.000254  \n",
       "6                NaN                    NaN           0.002031  "
      ]
     },
     "execution_count": 21,
     "metadata": {},
     "output_type": "execute_result"
    }
   ],
   "source": [
    "# Load drug/target data from DrugCentral\n",
    "drug_target_file_name = '../Data/drug.target.interaction.tsv'\n",
    "drugcentral_df = drugs2.load_drug_target_data(drug_target_file_name, aff_cst_thresh=5)\n",
    "drugcentral_df['degree_centrality'] = [centrality_dic[gene] if (gene in list(centrality_dic.keys())) else None for gene in drugcentral_df['gene']]\n",
    "drugcentral_df.head()"
   ]
  },
  {
   "cell_type": "code",
   "execution_count": 22,
   "metadata": {},
   "outputs": [
    {
     "data": {
      "text/html": [
       "<div>\n",
       "<style scoped>\n",
       "    .dataframe tbody tr th:only-of-type {\n",
       "        vertical-align: middle;\n",
       "    }\n",
       "\n",
       "    .dataframe tbody tr th {\n",
       "        vertical-align: top;\n",
       "    }\n",
       "\n",
       "    .dataframe thead th {\n",
       "        text-align: right;\n",
       "    }\n",
       "</style>\n",
       "<table border=\"1\" class=\"dataframe\">\n",
       "  <thead>\n",
       "    <tr style=\"text-align: right;\">\n",
       "      <th></th>\n",
       "      <th>drug</th>\n",
       "      <th>num_targets</th>\n",
       "      <th>num_terminal_targets</th>\n",
       "      <th>max_target_centrality</th>\n",
       "    </tr>\n",
       "  </thead>\n",
       "  <tbody>\n",
       "    <tr>\n",
       "      <th>1830</th>\n",
       "      <td>sunitinib</td>\n",
       "      <td>260</td>\n",
       "      <td>7</td>\n",
       "      <td>0.055718</td>\n",
       "    </tr>\n",
       "    <tr>\n",
       "      <th>1369</th>\n",
       "      <td>nintedanib</td>\n",
       "      <td>218</td>\n",
       "      <td>5</td>\n",
       "      <td>0.037187</td>\n",
       "    </tr>\n",
       "    <tr>\n",
       "      <th>1269</th>\n",
       "      <td>midostaurin</td>\n",
       "      <td>204</td>\n",
       "      <td>5</td>\n",
       "      <td>0.055718</td>\n",
       "    </tr>\n",
       "    <tr>\n",
       "      <th>259</th>\n",
       "      <td>bosutinib</td>\n",
       "      <td>203</td>\n",
       "      <td>3</td>\n",
       "      <td>0.055718</td>\n",
       "    </tr>\n",
       "    <tr>\n",
       "      <th>474</th>\n",
       "      <td>crizotinib</td>\n",
       "      <td>148</td>\n",
       "      <td>5</td>\n",
       "      <td>0.055718</td>\n",
       "    </tr>\n",
       "    <tr>\n",
       "      <th>1735</th>\n",
       "      <td>ruxolitinib</td>\n",
       "      <td>132</td>\n",
       "      <td>2</td>\n",
       "      <td>0.027224</td>\n",
       "    </tr>\n",
       "    <tr>\n",
       "      <th>508</th>\n",
       "      <td>dasatinib</td>\n",
       "      <td>129</td>\n",
       "      <td>4</td>\n",
       "      <td>0.055718</td>\n",
       "    </tr>\n",
       "    <tr>\n",
       "      <th>1730</th>\n",
       "      <td>ruboxistaurin</td>\n",
       "      <td>121</td>\n",
       "      <td>2</td>\n",
       "      <td>0.055718</td>\n",
       "    </tr>\n",
       "    <tr>\n",
       "      <th>1795</th>\n",
       "      <td>sorafenib</td>\n",
       "      <td>116</td>\n",
       "      <td>5</td>\n",
       "      <td>0.037187</td>\n",
       "    </tr>\n",
       "    <tr>\n",
       "      <th>2031</th>\n",
       "      <td>vandetanib</td>\n",
       "      <td>109</td>\n",
       "      <td>2</td>\n",
       "      <td>0.055718</td>\n",
       "    </tr>\n",
       "  </tbody>\n",
       "</table>\n",
       "</div>"
      ],
      "text/plain": [
       "               drug  num_targets  num_terminal_targets  max_target_centrality\n",
       "1830      sunitinib          260                     7               0.055718\n",
       "1369     nintedanib          218                     5               0.037187\n",
       "1269    midostaurin          204                     5               0.055718\n",
       "259       bosutinib          203                     3               0.055718\n",
       "474      crizotinib          148                     5               0.055718\n",
       "1735    ruxolitinib          132                     2               0.027224\n",
       "508       dasatinib          129                     4               0.055718\n",
       "1730  ruboxistaurin          121                     2               0.055718\n",
       "1795      sorafenib          116                     5               0.037187\n",
       "2031     vandetanib          109                     2               0.055718"
      ]
     },
     "execution_count": 22,
     "metadata": {},
     "output_type": "execute_result"
    }
   ],
   "source": [
    "# Construct table that gives the number of targets per drug\n",
    "num_targets_df0 = drugcentral_df.groupby('drug', as_index=False)[['gene']].agg({\n",
    "    ('num_targets','count'),\n",
    "    ('num_terminal_targets',lambda gs: len(set(gs).intersection(set(terminals))))\n",
    "})\n",
    "max_centrality_df0 = drugcentral_df.groupby('drug', as_index=False)[['degree_centrality']].agg({\n",
    "    ('max_degree_centrality',max)\n",
    "})\n",
    "num_targets_df = pd.DataFrame({'drug': num_targets_df0.index,\n",
    "                               'num_targets': num_targets_df0['gene']['num_targets'],\n",
    "                               'num_terminal_targets': num_targets_df0['gene']['num_terminal_targets'],\n",
    "                               'max_target_centrality': max_centrality_df0['degree_centrality']['max_degree_centrality']}).reset_index(drop=True)\n",
    "num_targets_df = num_targets_df.sort_values(by='num_targets', ascending=False, inplace=False)\n",
    "num_targets_df.head(10)"
   ]
  },
  {
   "cell_type": "code",
   "execution_count": 25,
   "metadata": {},
   "outputs": [
    {
     "data": {
      "text/html": [
       "<div>\n",
       "<style scoped>\n",
       "    .dataframe tbody tr th:only-of-type {\n",
       "        vertical-align: middle;\n",
       "    }\n",
       "\n",
       "    .dataframe tbody tr th {\n",
       "        vertical-align: top;\n",
       "    }\n",
       "\n",
       "    .dataframe thead th {\n",
       "        text-align: right;\n",
       "    }\n",
       "</style>\n",
       "<table border=\"1\" class=\"dataframe\">\n",
       "  <thead>\n",
       "    <tr style=\"text-align: right;\">\n",
       "      <th></th>\n",
       "      <th>drug</th>\n",
       "      <th>corr</th>\n",
       "    </tr>\n",
       "  </thead>\n",
       "  <tbody>\n",
       "    <tr>\n",
       "      <th>0</th>\n",
       "      <td>indinavir</td>\n",
       "      <td>0.302464</td>\n",
       "    </tr>\n",
       "    <tr>\n",
       "      <th>1</th>\n",
       "      <td>zafirlukast</td>\n",
       "      <td>0.298350</td>\n",
       "    </tr>\n",
       "    <tr>\n",
       "      <th>2</th>\n",
       "      <td>atorvastatin</td>\n",
       "      <td>0.294954</td>\n",
       "    </tr>\n",
       "    <tr>\n",
       "      <th>3</th>\n",
       "      <td>sumatriptan</td>\n",
       "      <td>0.294873</td>\n",
       "    </tr>\n",
       "    <tr>\n",
       "      <th>4</th>\n",
       "      <td>lansoprazole</td>\n",
       "      <td>0.294614</td>\n",
       "    </tr>\n",
       "  </tbody>\n",
       "</table>\n",
       "</div>"
      ],
      "text/plain": [
       "           drug      corr\n",
       "0     indinavir  0.302464\n",
       "1   zafirlukast  0.298350\n",
       "2  atorvastatin  0.294954\n",
       "3   sumatriptan  0.294873\n",
       "4  lansoprazole  0.294614"
      ]
     },
     "execution_count": 25,
     "metadata": {},
     "output_type": "execute_result"
    }
   ],
   "source": [
    "# Load L1000 drugs with correlations\n",
    "embedded_drugs_file_name = '../Data/calu_correlations_autoencoder_space.txt'\n",
    "bestdrugs_df = pd.read_csv(embedded_drugs_file_name, header=None)\n",
    "bestdrugs_df.columns = ['drug','corr']\n",
    "bestdrugs_df['drug'] = bestdrugs_df['drug'].str.strip(\"()' \").str.lower()\n",
    "bestdrugs_df['corr'] = pd.to_numeric(bestdrugs_df['corr'].str.strip(\"() \"))\n",
    "bestdrugs_df.sort_values(by='corr', axis=0, ascending=False, inplace=True)\n",
    "bestdrugs_df = bestdrugs_df.iloc[0:141] # so that we have the same number (142) of selected drugs as in the A549-SARS-Cov-2 analysis\n",
    "bestdrugs_df.head()"
   ]
  },
  {
   "cell_type": "code",
   "execution_count": 26,
   "metadata": {},
   "outputs": [
    {
     "data": {
      "text/html": [
       "<div>\n",
       "<style scoped>\n",
       "    .dataframe tbody tr th:only-of-type {\n",
       "        vertical-align: middle;\n",
       "    }\n",
       "\n",
       "    .dataframe tbody tr th {\n",
       "        vertical-align: top;\n",
       "    }\n",
       "\n",
       "    .dataframe thead th {\n",
       "        text-align: right;\n",
       "    }\n",
       "</style>\n",
       "<table border=\"1\" class=\"dataframe\">\n",
       "  <thead>\n",
       "    <tr style=\"text-align: right;\">\n",
       "      <th></th>\n",
       "      <th>gene</th>\n",
       "      <th>drug</th>\n",
       "      <th>protein_target</th>\n",
       "      <th>affinity_constant</th>\n",
       "      <th>affinity_constant_type</th>\n",
       "      <th>degree_centrality</th>\n",
       "      <th>corr</th>\n",
       "    </tr>\n",
       "  </thead>\n",
       "  <tbody>\n",
       "    <tr>\n",
       "      <th>0</th>\n",
       "      <td>ADRB1</td>\n",
       "      <td>acebutolol</td>\n",
       "      <td>Beta-1 adrenergic receptor</td>\n",
       "      <td>7.300000</td>\n",
       "      <td>Ki</td>\n",
       "      <td>0.001206</td>\n",
       "      <td>0.274673</td>\n",
       "    </tr>\n",
       "    <tr>\n",
       "      <th>1</th>\n",
       "      <td>ADRB2</td>\n",
       "      <td>acebutolol</td>\n",
       "      <td>Beta-2 adrenergic receptor</td>\n",
       "      <td>6.400000</td>\n",
       "      <td>Ki</td>\n",
       "      <td>0.015421</td>\n",
       "      <td>0.274673</td>\n",
       "    </tr>\n",
       "    <tr>\n",
       "      <th>2</th>\n",
       "      <td>MAOA</td>\n",
       "      <td>amiloride</td>\n",
       "      <td>Amine oxidase [flavin-containing] A</td>\n",
       "      <td>5.407934</td>\n",
       "      <td>IC50</td>\n",
       "      <td>0.000698</td>\n",
       "      <td>0.273852</td>\n",
       "    </tr>\n",
       "    <tr>\n",
       "      <th>3</th>\n",
       "      <td>SCNN1A</td>\n",
       "      <td>amiloride</td>\n",
       "      <td>Amiloride-sensitive sodium channel, ENaC</td>\n",
       "      <td>6.700000</td>\n",
       "      <td>IC50</td>\n",
       "      <td>0.001333</td>\n",
       "      <td>0.273852</td>\n",
       "    </tr>\n",
       "    <tr>\n",
       "      <th>4</th>\n",
       "      <td>SCNN1B</td>\n",
       "      <td>amiloride</td>\n",
       "      <td>Amiloride-sensitive sodium channel, ENaC</td>\n",
       "      <td>6.700000</td>\n",
       "      <td>IC50</td>\n",
       "      <td>0.001396</td>\n",
       "      <td>0.273852</td>\n",
       "    </tr>\n",
       "  </tbody>\n",
       "</table>\n",
       "</div>"
      ],
      "text/plain": [
       "     gene        drug                            protein_target  \\\n",
       "0   ADRB1  acebutolol                Beta-1 adrenergic receptor   \n",
       "1   ADRB2  acebutolol                Beta-2 adrenergic receptor   \n",
       "2    MAOA   amiloride       Amine oxidase [flavin-containing] A   \n",
       "3  SCNN1A   amiloride  Amiloride-sensitive sodium channel, ENaC   \n",
       "4  SCNN1B   amiloride  Amiloride-sensitive sodium channel, ENaC   \n",
       "\n",
       "   affinity_constant affinity_constant_type  degree_centrality      corr  \n",
       "0           7.300000                     Ki           0.001206  0.274673  \n",
       "1           6.400000                     Ki           0.015421  0.274673  \n",
       "2           5.407934                   IC50           0.000698  0.273852  \n",
       "3           6.700000                   IC50           0.001333  0.273852  \n",
       "4           6.700000                   IC50           0.001396  0.273852  "
      ]
     },
     "execution_count": 26,
     "metadata": {},
     "output_type": "execute_result"
    }
   ],
   "source": [
    "# Merge L1000 drugs with DrugCentral drug/target dataset\n",
    "targets_and_drugs_df = drugcentral_df.merge(bestdrugs_df, on = 'drug', how = 'inner')\n",
    "targets_and_drugs_df.head()"
   ]
  },
  {
   "cell_type": "markdown",
   "metadata": {},
   "source": [
    "## Add drug target information to selected network"
   ]
  },
  {
   "cell_type": "code",
   "execution_count": 27,
   "metadata": {},
   "outputs": [
    {
     "data": {
      "text/plain": [
       "PosixPath('/home/louiscam/projects/sars_cov_2/Save_calu3/network_selected_with_drug_info.pickle')"
      ]
     },
     "execution_count": 27,
     "metadata": {},
     "output_type": "execute_result"
    }
   ],
   "source": [
    "network_selected = pickle.load(open('../Save_calu3/network_selected.pickle', \"rb\"))\n",
    "network_selected = drugs2.add_drug_info_to_selected_network(network_selected, targets_and_drugs_df)\n",
    "# Save enriched network as pickle\n",
    "oi.output_networkx_graph_as_pickle(network_selected, filename= '../Save_calu3/network_selected_with_drug_info.pickle')"
   ]
  },
  {
   "cell_type": "code",
   "execution_count": 28,
   "metadata": {
    "scrolled": true
   },
   "outputs": [
    {
     "data": {
      "text/html": [
       "<div>\n",
       "<style scoped>\n",
       "    .dataframe tbody tr th:only-of-type {\n",
       "        vertical-align: middle;\n",
       "    }\n",
       "\n",
       "    .dataframe tbody tr th {\n",
       "        vertical-align: top;\n",
       "    }\n",
       "\n",
       "    .dataframe thead th {\n",
       "        text-align: right;\n",
       "    }\n",
       "</style>\n",
       "<table border=\"1\" class=\"dataframe\">\n",
       "  <thead>\n",
       "    <tr style=\"text-align: right;\">\n",
       "      <th></th>\n",
       "      <th>name</th>\n",
       "      <th>protein_target</th>\n",
       "      <th>drug</th>\n",
       "      <th>corr</th>\n",
       "      <th>affinity</th>\n",
       "    </tr>\n",
       "  </thead>\n",
       "  <tbody>\n",
       "    <tr>\n",
       "      <th>ACHE</th>\n",
       "      <td>ACHE</td>\n",
       "      <td>{Acetylcholinesterase}</td>\n",
       "      <td>nizatidine</td>\n",
       "      <td>0.27935183</td>\n",
       "      <td>5.250681</td>\n",
       "    </tr>\n",
       "    <tr>\n",
       "      <th>ACHE</th>\n",
       "      <td>ACHE</td>\n",
       "      <td>{Acetylcholinesterase}</td>\n",
       "      <td>pentoxifylline</td>\n",
       "      <td>0.28606582</td>\n",
       "      <td>5.180000</td>\n",
       "    </tr>\n",
       "    <tr>\n",
       "      <th>ADORA2A</th>\n",
       "      <td>ADORA2A</td>\n",
       "      <td>{Adenosine receptor A2a}</td>\n",
       "      <td>amiloride</td>\n",
       "      <td>0.273852</td>\n",
       "      <td>5.480000</td>\n",
       "    </tr>\n",
       "    <tr>\n",
       "      <th>ADORA2A</th>\n",
       "      <td>ADORA2A</td>\n",
       "      <td>{Adenosine receptor A2a}</td>\n",
       "      <td>econazole</td>\n",
       "      <td>0.28886765</td>\n",
       "      <td>5.085868</td>\n",
       "    </tr>\n",
       "    <tr>\n",
       "      <th>ADORA2A</th>\n",
       "      <td>ADORA2A</td>\n",
       "      <td>{Adenosine receptor A2a}</td>\n",
       "      <td>sildenafil</td>\n",
       "      <td>0.2821101</td>\n",
       "      <td>6.700000</td>\n",
       "    </tr>\n",
       "    <tr>\n",
       "      <th>ADORA2A</th>\n",
       "      <td>ADORA2A</td>\n",
       "      <td>{Adenosine receptor A2a}</td>\n",
       "      <td>trioxsalen</td>\n",
       "      <td>0.28003362</td>\n",
       "      <td>6.132533</td>\n",
       "    </tr>\n",
       "    <tr>\n",
       "      <th>AR</th>\n",
       "      <td>AR</td>\n",
       "      <td>{Androgen receptor}</td>\n",
       "      <td>bicalutamide</td>\n",
       "      <td>0.2838195</td>\n",
       "      <td>7.720000</td>\n",
       "    </tr>\n",
       "    <tr>\n",
       "      <th>AR</th>\n",
       "      <td>AR</td>\n",
       "      <td>{Androgen receptor}</td>\n",
       "      <td>dexamethasone</td>\n",
       "      <td>0.27767324</td>\n",
       "      <td>5.850000</td>\n",
       "    </tr>\n",
       "    <tr>\n",
       "      <th>AR</th>\n",
       "      <td>AR</td>\n",
       "      <td>{Androgen receptor}</td>\n",
       "      <td>medroxyprogesterone</td>\n",
       "      <td>0.2735338</td>\n",
       "      <td>8.200000</td>\n",
       "    </tr>\n",
       "    <tr>\n",
       "      <th>AR</th>\n",
       "      <td>AR</td>\n",
       "      <td>{Androgen receptor}</td>\n",
       "      <td>enzalutamide</td>\n",
       "      <td>0.2886959</td>\n",
       "      <td>7.310000</td>\n",
       "    </tr>\n",
       "    <tr>\n",
       "      <th>AURKA</th>\n",
       "      <td>AURKA</td>\n",
       "      <td>{Aurora kinase A}</td>\n",
       "      <td>pazopanib</td>\n",
       "      <td>0.27827322</td>\n",
       "      <td>5.150000</td>\n",
       "    </tr>\n",
       "    <tr>\n",
       "      <th>CYP51A1</th>\n",
       "      <td>CYP51A1</td>\n",
       "      <td>{Lanosterol 14-alpha demethylase}</td>\n",
       "      <td>econazole</td>\n",
       "      <td>0.28886765</td>\n",
       "      <td>7.300000</td>\n",
       "    </tr>\n",
       "    <tr>\n",
       "      <th>CYP51A1</th>\n",
       "      <td>CYP51A1</td>\n",
       "      <td>{Lanosterol 14-alpha demethylase}</td>\n",
       "      <td>ketoconazole</td>\n",
       "      <td>0.27365157</td>\n",
       "      <td>7.197200</td>\n",
       "    </tr>\n",
       "    <tr>\n",
       "      <th>DHFR</th>\n",
       "      <td>DHFR</td>\n",
       "      <td>{Dihydrofolate reductase}</td>\n",
       "      <td>pemetrexed</td>\n",
       "      <td>0.27435344</td>\n",
       "      <td>5.180500</td>\n",
       "    </tr>\n",
       "    <tr>\n",
       "      <th>DHFR</th>\n",
       "      <td>DHFR</td>\n",
       "      <td>{Dihydrofolate reductase}</td>\n",
       "      <td>pyrimethamine</td>\n",
       "      <td>0.27496484</td>\n",
       "      <td>8.100000</td>\n",
       "    </tr>\n",
       "    <tr>\n",
       "      <th>FGFR1</th>\n",
       "      <td>FGFR1</td>\n",
       "      <td>{Fibroblast growth factor receptor 1}</td>\n",
       "      <td>pazopanib</td>\n",
       "      <td>0.27827322</td>\n",
       "      <td>6.000000</td>\n",
       "    </tr>\n",
       "    <tr>\n",
       "      <th>FGFR3</th>\n",
       "      <td>FGFR3</td>\n",
       "      <td>{Fibroblast growth factor receptor 3}</td>\n",
       "      <td>pazopanib</td>\n",
       "      <td>0.27827322</td>\n",
       "      <td>6.210000</td>\n",
       "    </tr>\n",
       "    <tr>\n",
       "      <th>HMGCR</th>\n",
       "      <td>HMGCR</td>\n",
       "      <td>{3-hydroxy-3-methylglutaryl-coenzyme A reductase}</td>\n",
       "      <td>atorvastatin</td>\n",
       "      <td>0.29495355</td>\n",
       "      <td>8.000000</td>\n",
       "    </tr>\n",
       "    <tr>\n",
       "      <th>HMGCR</th>\n",
       "      <td>HMGCR</td>\n",
       "      <td>{3-hydroxy-3-methylglutaryl-coenzyme A reductase}</td>\n",
       "      <td>fluvastatin</td>\n",
       "      <td>0.27679664</td>\n",
       "      <td>7.550000</td>\n",
       "    </tr>\n",
       "    <tr>\n",
       "      <th>HMGCR</th>\n",
       "      <td>HMGCR</td>\n",
       "      <td>{3-hydroxy-3-methylglutaryl-coenzyme A reductase}</td>\n",
       "      <td>pitavastatin</td>\n",
       "      <td>0.28929868</td>\n",
       "      <td>8.167500</td>\n",
       "    </tr>\n",
       "    <tr>\n",
       "      <th>HRH1</th>\n",
       "      <td>HRH1</td>\n",
       "      <td>{Histamine H1 receptor}</td>\n",
       "      <td>amoxapine</td>\n",
       "      <td>0.28119066</td>\n",
       "      <td>7.958607</td>\n",
       "    </tr>\n",
       "    <tr>\n",
       "      <th>HRH1</th>\n",
       "      <td>HRH1</td>\n",
       "      <td>{Histamine H1 receptor}</td>\n",
       "      <td>clomipramine</td>\n",
       "      <td>0.28299358</td>\n",
       "      <td>8.007446</td>\n",
       "    </tr>\n",
       "    <tr>\n",
       "      <th>HRH1</th>\n",
       "      <td>HRH1</td>\n",
       "      <td>{Histamine H1 receptor}</td>\n",
       "      <td>clozapine</td>\n",
       "      <td>0.28652155</td>\n",
       "      <td>9.200000</td>\n",
       "    </tr>\n",
       "    <tr>\n",
       "      <th>HRH1</th>\n",
       "      <td>HRH1</td>\n",
       "      <td>{Histamine H1 receptor}</td>\n",
       "      <td>levocetirizine</td>\n",
       "      <td>0.27523544</td>\n",
       "      <td>7.950000</td>\n",
       "    </tr>\n",
       "    <tr>\n",
       "      <th>HRH1</th>\n",
       "      <td>HRH1</td>\n",
       "      <td>{Histamine H1 receptor}</td>\n",
       "      <td>loperamide</td>\n",
       "      <td>0.27449578</td>\n",
       "      <td>5.699000</td>\n",
       "    </tr>\n",
       "    <tr>\n",
       "      <th>HRH1</th>\n",
       "      <td>HRH1</td>\n",
       "      <td>{Histamine H1 receptor}</td>\n",
       "      <td>olanzapine</td>\n",
       "      <td>0.28352824</td>\n",
       "      <td>8.154900</td>\n",
       "    </tr>\n",
       "    <tr>\n",
       "      <th>HRH1</th>\n",
       "      <td>HRH1</td>\n",
       "      <td>{Histamine H1 receptor}</td>\n",
       "      <td>prochlorperazine</td>\n",
       "      <td>0.2812134</td>\n",
       "      <td>7.722800</td>\n",
       "    </tr>\n",
       "    <tr>\n",
       "      <th>HRH1</th>\n",
       "      <td>HRH1</td>\n",
       "      <td>{Histamine H1 receptor}</td>\n",
       "      <td>promazine</td>\n",
       "      <td>0.27708083</td>\n",
       "      <td>8.699000</td>\n",
       "    </tr>\n",
       "    <tr>\n",
       "      <th>HRH1</th>\n",
       "      <td>HRH1</td>\n",
       "      <td>{Histamine H1 receptor}</td>\n",
       "      <td>promethazine</td>\n",
       "      <td>0.28796503</td>\n",
       "      <td>9.619800</td>\n",
       "    </tr>\n",
       "    <tr>\n",
       "      <th>HRH1</th>\n",
       "      <td>HRH1</td>\n",
       "      <td>{Histamine H1 receptor}</td>\n",
       "      <td>quetiapine</td>\n",
       "      <td>0.28051943</td>\n",
       "      <td>8.350000</td>\n",
       "    </tr>\n",
       "    <tr>\n",
       "      <th>HRH1</th>\n",
       "      <td>HRH1</td>\n",
       "      <td>{Histamine H1 receptor}</td>\n",
       "      <td>ziprasidone</td>\n",
       "      <td>0.2806817</td>\n",
       "      <td>7.330000</td>\n",
       "    </tr>\n",
       "    <tr>\n",
       "      <th>HRH1</th>\n",
       "      <td>HRH1</td>\n",
       "      <td>{Histamine H1 receptor}</td>\n",
       "      <td>iloperidone</td>\n",
       "      <td>0.27667420000000004</td>\n",
       "      <td>7.910000</td>\n",
       "    </tr>\n",
       "    <tr>\n",
       "      <th>LIMK1</th>\n",
       "      <td>LIMK1</td>\n",
       "      <td>{LIM domain kinase 1}</td>\n",
       "      <td>pazopanib</td>\n",
       "      <td>0.27827322</td>\n",
       "      <td>6.140000</td>\n",
       "    </tr>\n",
       "    <tr>\n",
       "      <th>MAP4K4</th>\n",
       "      <td>MAP4K4</td>\n",
       "      <td>{Mitogen-activated protein kinase kinase kinas...</td>\n",
       "      <td>pazopanib</td>\n",
       "      <td>0.27827322</td>\n",
       "      <td>5.660000</td>\n",
       "    </tr>\n",
       "    <tr>\n",
       "      <th>PDE4B</th>\n",
       "      <td>PDE4B</td>\n",
       "      <td>{Phosphodiesterase 4, cAMP-specific 3',5'-cycl...</td>\n",
       "      <td>sildenafil</td>\n",
       "      <td>0.2821101</td>\n",
       "      <td>5.110000</td>\n",
       "    </tr>\n",
       "    <tr>\n",
       "      <th>PDGFRA</th>\n",
       "      <td>PDGFRA</td>\n",
       "      <td>{Platelet-derived growth factor receptor alpha}</td>\n",
       "      <td>pazopanib</td>\n",
       "      <td>0.27827322</td>\n",
       "      <td>8.310000</td>\n",
       "    </tr>\n",
       "    <tr>\n",
       "      <th>RIPK1</th>\n",
       "      <td>RIPK1</td>\n",
       "      <td>{Receptor-interacting serine/threonine-protein...</td>\n",
       "      <td>pazopanib</td>\n",
       "      <td>0.27827322</td>\n",
       "      <td>6.590000</td>\n",
       "    </tr>\n",
       "    <tr>\n",
       "      <th>RIPK2</th>\n",
       "      <td>RIPK2</td>\n",
       "      <td>{Receptor-interacting serine/threonine-protein...</td>\n",
       "      <td>gefitinib</td>\n",
       "      <td>0.27422616</td>\n",
       "      <td>6.280000</td>\n",
       "    </tr>\n",
       "    <tr>\n",
       "      <th>RIPK2</th>\n",
       "      <td>RIPK2</td>\n",
       "      <td>{Receptor-interacting serine/threonine-protein...</td>\n",
       "      <td>lapatinib</td>\n",
       "      <td>0.27800244</td>\n",
       "      <td>5.440000</td>\n",
       "    </tr>\n",
       "    <tr>\n",
       "      <th>RIPK2</th>\n",
       "      <td>RIPK2</td>\n",
       "      <td>{Receptor-interacting serine/threonine-protein...</td>\n",
       "      <td>pazopanib</td>\n",
       "      <td>0.27827322</td>\n",
       "      <td>6.240000</td>\n",
       "    </tr>\n",
       "    <tr>\n",
       "      <th>TYMS</th>\n",
       "      <td>TYMS</td>\n",
       "      <td>{Thymidylate synthase}</td>\n",
       "      <td>pemetrexed</td>\n",
       "      <td>0.27435344</td>\n",
       "      <td>6.468500</td>\n",
       "    </tr>\n",
       "  </tbody>\n",
       "</table>\n",
       "</div>"
      ],
      "text/plain": [
       "            name                                     protein_target  \\\n",
       "ACHE        ACHE                             {Acetylcholinesterase}   \n",
       "ACHE        ACHE                             {Acetylcholinesterase}   \n",
       "ADORA2A  ADORA2A                           {Adenosine receptor A2a}   \n",
       "ADORA2A  ADORA2A                           {Adenosine receptor A2a}   \n",
       "ADORA2A  ADORA2A                           {Adenosine receptor A2a}   \n",
       "ADORA2A  ADORA2A                           {Adenosine receptor A2a}   \n",
       "AR            AR                                {Androgen receptor}   \n",
       "AR            AR                                {Androgen receptor}   \n",
       "AR            AR                                {Androgen receptor}   \n",
       "AR            AR                                {Androgen receptor}   \n",
       "AURKA      AURKA                                  {Aurora kinase A}   \n",
       "CYP51A1  CYP51A1                  {Lanosterol 14-alpha demethylase}   \n",
       "CYP51A1  CYP51A1                  {Lanosterol 14-alpha demethylase}   \n",
       "DHFR        DHFR                          {Dihydrofolate reductase}   \n",
       "DHFR        DHFR                          {Dihydrofolate reductase}   \n",
       "FGFR1      FGFR1              {Fibroblast growth factor receptor 1}   \n",
       "FGFR3      FGFR3              {Fibroblast growth factor receptor 3}   \n",
       "HMGCR      HMGCR  {3-hydroxy-3-methylglutaryl-coenzyme A reductase}   \n",
       "HMGCR      HMGCR  {3-hydroxy-3-methylglutaryl-coenzyme A reductase}   \n",
       "HMGCR      HMGCR  {3-hydroxy-3-methylglutaryl-coenzyme A reductase}   \n",
       "HRH1        HRH1                            {Histamine H1 receptor}   \n",
       "HRH1        HRH1                            {Histamine H1 receptor}   \n",
       "HRH1        HRH1                            {Histamine H1 receptor}   \n",
       "HRH1        HRH1                            {Histamine H1 receptor}   \n",
       "HRH1        HRH1                            {Histamine H1 receptor}   \n",
       "HRH1        HRH1                            {Histamine H1 receptor}   \n",
       "HRH1        HRH1                            {Histamine H1 receptor}   \n",
       "HRH1        HRH1                            {Histamine H1 receptor}   \n",
       "HRH1        HRH1                            {Histamine H1 receptor}   \n",
       "HRH1        HRH1                            {Histamine H1 receptor}   \n",
       "HRH1        HRH1                            {Histamine H1 receptor}   \n",
       "HRH1        HRH1                            {Histamine H1 receptor}   \n",
       "LIMK1      LIMK1                              {LIM domain kinase 1}   \n",
       "MAP4K4    MAP4K4  {Mitogen-activated protein kinase kinase kinas...   \n",
       "PDE4B      PDE4B  {Phosphodiesterase 4, cAMP-specific 3',5'-cycl...   \n",
       "PDGFRA    PDGFRA    {Platelet-derived growth factor receptor alpha}   \n",
       "RIPK1      RIPK1  {Receptor-interacting serine/threonine-protein...   \n",
       "RIPK2      RIPK2  {Receptor-interacting serine/threonine-protein...   \n",
       "RIPK2      RIPK2  {Receptor-interacting serine/threonine-protein...   \n",
       "RIPK2      RIPK2  {Receptor-interacting serine/threonine-protein...   \n",
       "TYMS        TYMS                             {Thymidylate synthase}   \n",
       "\n",
       "                        drug                 corr  affinity  \n",
       "ACHE              nizatidine           0.27935183  5.250681  \n",
       "ACHE          pentoxifylline           0.28606582  5.180000  \n",
       "ADORA2A            amiloride             0.273852  5.480000  \n",
       "ADORA2A            econazole           0.28886765  5.085868  \n",
       "ADORA2A           sildenafil            0.2821101  6.700000  \n",
       "ADORA2A           trioxsalen           0.28003362  6.132533  \n",
       "AR              bicalutamide            0.2838195  7.720000  \n",
       "AR             dexamethasone           0.27767324  5.850000  \n",
       "AR       medroxyprogesterone            0.2735338  8.200000  \n",
       "AR              enzalutamide            0.2886959  7.310000  \n",
       "AURKA              pazopanib           0.27827322  5.150000  \n",
       "CYP51A1            econazole           0.28886765  7.300000  \n",
       "CYP51A1         ketoconazole           0.27365157  7.197200  \n",
       "DHFR              pemetrexed           0.27435344  5.180500  \n",
       "DHFR           pyrimethamine           0.27496484  8.100000  \n",
       "FGFR1              pazopanib           0.27827322  6.000000  \n",
       "FGFR3              pazopanib           0.27827322  6.210000  \n",
       "HMGCR           atorvastatin           0.29495355  8.000000  \n",
       "HMGCR            fluvastatin           0.27679664  7.550000  \n",
       "HMGCR           pitavastatin           0.28929868  8.167500  \n",
       "HRH1               amoxapine           0.28119066  7.958607  \n",
       "HRH1            clomipramine           0.28299358  8.007446  \n",
       "HRH1               clozapine           0.28652155  9.200000  \n",
       "HRH1          levocetirizine           0.27523544  7.950000  \n",
       "HRH1              loperamide           0.27449578  5.699000  \n",
       "HRH1              olanzapine           0.28352824  8.154900  \n",
       "HRH1        prochlorperazine            0.2812134  7.722800  \n",
       "HRH1               promazine           0.27708083  8.699000  \n",
       "HRH1            promethazine           0.28796503  9.619800  \n",
       "HRH1              quetiapine           0.28051943  8.350000  \n",
       "HRH1             ziprasidone            0.2806817  7.330000  \n",
       "HRH1             iloperidone  0.27667420000000004  7.910000  \n",
       "LIMK1              pazopanib           0.27827322  6.140000  \n",
       "MAP4K4             pazopanib           0.27827322  5.660000  \n",
       "PDE4B             sildenafil            0.2821101  5.110000  \n",
       "PDGFRA             pazopanib           0.27827322  8.310000  \n",
       "RIPK1              pazopanib           0.27827322  6.590000  \n",
       "RIPK2              gefitinib           0.27422616  6.280000  \n",
       "RIPK2              lapatinib           0.27800244  5.440000  \n",
       "RIPK2              pazopanib           0.27827322  6.240000  \n",
       "TYMS              pemetrexed           0.27435344  6.468500  "
      ]
     },
     "execution_count": 28,
     "metadata": {},
     "output_type": "execute_result"
    }
   ],
   "source": [
    "# Construct table of drug targets in the network\n",
    "drug_targets_df = drugs2.drug_targets_in_selected_network(network_selected)\n",
    "drug_targets_df.to_csv(r'../Save_calu3/drug_targets_in_network.tsv', header=True, index=None, sep='\\t', quoting = csv.QUOTE_NONE, escapechar = '\\t')\n",
    "drug_targets_df['affinity'] = pd.to_numeric(drug_targets_df['affinity'], errors='coerce')\n",
    "drug_targets_df.dropna(subset=['affinity'], inplace=True)\n",
    "drug_targets_df"
   ]
  },
  {
   "cell_type": "code",
   "execution_count": 29,
   "metadata": {},
   "outputs": [],
   "source": [
    "# Save drug/target dataframe to csv\n",
    "drug_targets_df.to_csv(r'../Save_calu3/final_drug_target_table.tsv', header=True, index=None, sep='\\t', quoting = csv.QUOTE_NONE, escapechar = '\\t')"
   ]
  },
  {
   "cell_type": "markdown",
   "metadata": {},
   "source": [
    "# Compare to A549 cell type"
   ]
  },
  {
   "cell_type": "code",
   "execution_count": 35,
   "metadata": {},
   "outputs": [
    {
     "data": {
      "text/html": [
       "<div>\n",
       "<style scoped>\n",
       "    .dataframe tbody tr th:only-of-type {\n",
       "        vertical-align: middle;\n",
       "    }\n",
       "\n",
       "    .dataframe tbody tr th {\n",
       "        vertical-align: top;\n",
       "    }\n",
       "\n",
       "    .dataframe thead th {\n",
       "        text-align: right;\n",
       "    }\n",
       "</style>\n",
       "<table border=\"1\" class=\"dataframe\">\n",
       "  <thead>\n",
       "    <tr style=\"text-align: right;\">\n",
       "      <th></th>\n",
       "      <th>name</th>\n",
       "      <th>protein_target</th>\n",
       "      <th>drug</th>\n",
       "      <th>corr</th>\n",
       "      <th>affinity</th>\n",
       "    </tr>\n",
       "  </thead>\n",
       "  <tbody>\n",
       "    <tr>\n",
       "      <th>0</th>\n",
       "      <td>ACVR2A</td>\n",
       "      <td>{'Activin receptor type-2A'}</td>\n",
       "      <td>dasatinib</td>\n",
       "      <td>0.882561</td>\n",
       "      <td>6.68</td>\n",
       "    </tr>\n",
       "    <tr>\n",
       "      <th>1</th>\n",
       "      <td>AURKC</td>\n",
       "      <td>{'Aurora kinase C'}</td>\n",
       "      <td>erlotinib</td>\n",
       "      <td>0.873780</td>\n",
       "      <td>6.22</td>\n",
       "    </tr>\n",
       "    <tr>\n",
       "      <th>2</th>\n",
       "      <td>AURKC</td>\n",
       "      <td>{'Aurora kinase C'}</td>\n",
       "      <td>sorafenib</td>\n",
       "      <td>0.865171</td>\n",
       "      <td>6.68</td>\n",
       "    </tr>\n",
       "    <tr>\n",
       "      <th>3</th>\n",
       "      <td>AURKC</td>\n",
       "      <td>{'Aurora kinase C'}</td>\n",
       "      <td>sunitinib</td>\n",
       "      <td>0.868590</td>\n",
       "      <td>6.66</td>\n",
       "    </tr>\n",
       "    <tr>\n",
       "      <th>4</th>\n",
       "      <td>AURKC</td>\n",
       "      <td>{'Aurora kinase C'}</td>\n",
       "      <td>pazopanib</td>\n",
       "      <td>0.866959</td>\n",
       "      <td>6.12</td>\n",
       "    </tr>\n",
       "  </tbody>\n",
       "</table>\n",
       "</div>"
      ],
      "text/plain": [
       "     name                protein_target       drug      corr  affinity\n",
       "0  ACVR2A  {'Activin receptor type-2A'}  dasatinib  0.882561      6.68\n",
       "1   AURKC           {'Aurora kinase C'}  erlotinib  0.873780      6.22\n",
       "2   AURKC           {'Aurora kinase C'}  sorafenib  0.865171      6.68\n",
       "3   AURKC           {'Aurora kinase C'}  sunitinib  0.868590      6.66\n",
       "4   AURKC           {'Aurora kinase C'}  pazopanib  0.866959      6.12"
      ]
     },
     "execution_count": 35,
     "metadata": {},
     "output_type": "execute_result"
    }
   ],
   "source": [
    "# Drug/target dataframe for A549\n",
    "drug_targets_df_a549_file_name = '../Save/final_drug_target_table.tsv'\n",
    "drug_targets_df_a549 = pd.read_csv(drug_targets_df_a549_file_name, sep = '\\t')\n",
    "drug_targets_df_a549.head()"
   ]
  },
  {
   "cell_type": "code",
   "execution_count": 31,
   "metadata": {},
   "outputs": [
    {
     "data": {
      "text/plain": [
       "<matplotlib_venn._common.VennDiagram at 0x7fe1c1488b50>"
      ]
     },
     "execution_count": 31,
     "metadata": {},
     "output_type": "execute_result"
    },
    {
     "data": {
      "image/png": "[encoded data removed]",
      "text/plain": [
       "<Figure size 432x288 with 1 Axes>"
      ]
     },
     "metadata": {},
     "output_type": "display_data"
    }
   ],
   "source": [
    "# Common gene targets\n",
    "targets_calu3 = set(drug_targets_df['name'])\n",
    "targets_a549 = set(drug_targets_df_a549['name'])\n",
    "venn2(subsets = [targets_calu3,targets_a549],set_labels = ('Gene targets (Calu3)','Gene targets (A549)'))"
   ]
  },
  {
   "cell_type": "code",
   "execution_count": 33,
   "metadata": {},
   "outputs": [
    {
     "name": "stdout",
     "output_type": "stream",
     "text": [
      "             drug  num_targets  num_terminal_targets  max_target_centrality\n",
      "1830    sunitinib          260                     7               0.055718\n",
      "259     bosutinib          203                     3               0.055718\n",
      "1735  ruxolitinib          132                     2               0.027224\n",
      "508     dasatinib          129                     4               0.055718\n",
      "1795    sorafenib          116                     5               0.037187\n",
      "167      axitinib           99                     4               0.055718\n",
      "719     erlotinib           96                     3               0.055718\n",
      "991      imatinib           70                     0               0.055718\n",
      "1938  tofacitinib           43                     0               0.020434\n",
      "43       afatinib           38                     1               0.055718\n",
      "2063   vorinostat           32                     0               0.030334\n",
      "615     docetaxel           15                     0               0.055718\n",
      "2032   vardenafil           13                     1               0.002538\n",
      "193    belinostat           11                     0               0.030334\n",
      "1276    milrinone            9                     1               0.002538\n",
      "1601   primaquine            7                     0               0.049054\n",
      "859    formoterol            5                     0               0.049054\n",
      "                     drug  num_targets  num_terminal_targets  \\\n",
      "884             gefitinib           72                     1   \n",
      "654             econazole           41                     2   \n",
      "452             clozapine           39                     1   \n",
      "1402           olanzapine           36                     1   \n",
      "1643           quetiapine           34                     1   \n",
      "2083          ziprasidone           34                     1   \n",
      "1615         promethazine           32                     1   \n",
      "1613            promazine           30                     1   \n",
      "107             amoxapine           28                     1   \n",
      "1608     prochlorperazine           28                     1   \n",
      "1138           loperamide           26                     1   \n",
      "442          clomipramine           26                     1   \n",
      "989           iloperidone           24                     1   \n",
      "1771           sildenafil           21                     2   \n",
      "1057         ketoconazole           21                     1   \n",
      "1071            lapatinib           16                     1   \n",
      "1184  medroxyprogesterone           11                     0   \n",
      "91              amiloride            9                     1   \n",
      "541         dexamethasone            8                     0   \n",
      "1490           pemetrexed            8                     2   \n",
      "1637        pyrimethamine            5                     1   \n",
      "1500       pentoxifylline            4                     2   \n",
      "155          atorvastatin            3                     1   \n",
      "1997           trioxsalen            3                     1   \n",
      "853           fluvastatin            3                     1   \n",
      "1383           nizatidine            2                     1   \n",
      "237          bicalutamide            2                     0   \n",
      "1100       levocetirizine            1                     1   \n",
      "695          enzalutamide            1                     0   \n",
      "1563         pitavastatin            1                     1   \n",
      "\n",
      "      max_target_centrality  \n",
      "884                0.055718  \n",
      "654                0.002602  \n",
      "452                0.015421  \n",
      "1402               0.015421  \n",
      "1643               0.015421  \n",
      "2083               0.015421  \n",
      "1615               0.005711  \n",
      "1613               0.005711  \n",
      "107                0.001460  \n",
      "1608               0.018721  \n",
      "1138               0.022021  \n",
      "442                0.002475  \n",
      "989                0.001460  \n",
      "1771               0.002538  \n",
      "1057               0.002348  \n",
      "1071               0.055718  \n",
      "1184               0.040043  \n",
      "91                 0.001586  \n",
      "541                0.021005  \n",
      "1490               0.002538  \n",
      "1637               0.001777  \n",
      "1500               0.000888  \n",
      "155                0.001079  \n",
      "1997               0.000762  \n",
      "853                0.001079  \n",
      "1383               0.000888  \n",
      "237                0.021005  \n",
      "1100               0.000127  \n",
      "695                0.021005  \n",
      "1563               0.000888  \n",
      "           drug  num_targets  num_terminal_targets  max_target_centrality\n",
      "1479  pazopanib          104                     3                0.02843\n"
     ]
    },
    {
     "data": {
      "image/png": "[encoded data removed]",
      "text/plain": [
       "<Figure size 432x288 with 1 Axes>"
      ]
     },
     "metadata": {},
     "output_type": "display_data"
    }
   ],
   "source": [
    "# Common drugs (note that all 5 genes in the intersection are targeted by pazopanib)\n",
    "drugs_calu3 = set(drug_targets_df['drug'])\n",
    "drugs_a549 = set(drug_targets_df_a549['drug'])\n",
    "venn2(subsets = [drugs_calu3,drugs_a549],set_labels = ('Calu3 drugs','A549 drugs'))\n",
    "\n",
    "a549_minus_calu3 = num_targets_df.loc[num_targets_df['drug'].isin(drugs_a549.difference(drugs_calu3))]\n",
    "calu3_minus_a549 = num_targets_df.loc[num_targets_df['drug'].isin(drugs_calu3.difference(drugs_a549))]\n",
    "a549_inter_calu3 = num_targets_df.loc[num_targets_df['drug'].isin(drugs_a549.intersection(drugs_calu3))]\n",
    "print(a549_minus_calu3)\n",
    "print(calu3_minus_a549)\n",
    "print(a549_inter_calu3)"
   ]
  },
  {
   "cell_type": "code",
   "execution_count": null,
   "metadata": {},
   "outputs": [],
   "source": []
  }
 ],
 "metadata": {
  "kernelspec": {
   "display_name": "Python 3",
   "language": "python",
   "name": "python3"
  },
  "language_info": {
   "codemirror_mode": {
    "name": "ipython",
    "version": 3
   },
   "file_extension": ".py",
   "mimetype": "text/x-python",
   "name": "python",
   "nbconvert_exporter": "python",
   "pygments_lexer": "ipython3",
   "version": "3.7.4"
  }
 },
 "nbformat": 4,
 "nbformat_minor": 2
}
