{
 "cells": [
  {
   "cell_type": "markdown",
   "metadata": {},
   "source": [
    "# Imports"
   ]
  },
  {
   "cell_type": "code",
   "execution_count": 1,
   "metadata": {},
   "outputs": [],
   "source": [
    "# Import standard libraries\n",
    "import csv\n",
    "import OmicsIntegrator as oi\n",
    "import pandas as pd\n",
    "import numpy as np\n",
    "import scipy.stats as ss\n",
    "import networkx as nx\n",
    "import matplotlib.pyplot as plt\n",
    "from matplotlib_venn import venn2, venn3\n",
    "import pickle\n",
    "import tqdm\n",
    "import time\n",
    "\n",
    "# Import custom libraries\n",
    "import drugs2\n",
    "import prizes\n",
    "import sensitivity_analysis as sensitivity\n",
    "import sensitivity_sarspartners as svp\n",
    "import neighborhoods as nbh"
   ]
  },
  {
   "cell_type": "markdown",
   "metadata": {},
   "source": [
    "# Create randomized PPI file"
   ]
  },
  {
   "cell_type": "code",
   "execution_count": 2,
   "metadata": {},
   "outputs": [],
   "source": [
    "interactome_file = \"../Data/iRefIndex_v14_MIScore_interactome_C9.costs.allcaps.txt\"\n",
    "edges_list = pd.read_csv(interactome_file, sep = '\\t')\n",
    "\n",
    "# Randomly shuffle proteins in the first column\n",
    "np.random.seed(13)\n",
    "edges_list['protein1'] = np.random.choice(edges_list['protein1'], size = len(edges_list['protein1']), replace=False)\n",
    "edges_list['protein2'] = np.random.choice(edges_list['protein2'], size = len(edges_list['protein2']), replace=False)\n",
    "edges_list.to_csv(r'../Save_RandomizePPI/iRefIndex_v14_MIScore_interactome_C9.costs.allcaps.txt', header=True, index=None, sep='\\t', quoting = csv.QUOTE_NONE, escapechar = '\\t')\n",
    "interactome_file = \"../Save_RandomizePPI/iRefIndex_v14_MIScore_interactome_C9.costs.allcaps.txt\""
   ]
  },
  {
   "cell_type": "markdown",
   "metadata": {},
   "source": [
    "# Create prized list"
   ]
  },
  {
   "cell_type": "markdown",
   "metadata": {},
   "source": [
    "## Selected aging genes"
   ]
  },
  {
   "cell_type": "code",
   "execution_count": 3,
   "metadata": {},
   "outputs": [
    {
     "data": {
      "text/html": [
       "<div>\n",
       "<style scoped>\n",
       "    .dataframe tbody tr th:only-of-type {\n",
       "        vertical-align: middle;\n",
       "    }\n",
       "\n",
       "    .dataframe tbody tr th {\n",
       "        vertical-align: top;\n",
       "    }\n",
       "\n",
       "    .dataframe thead th {\n",
       "        text-align: right;\n",
       "    }\n",
       "</style>\n",
       "<table border=\"1\" class=\"dataframe\">\n",
       "  <thead>\n",
       "    <tr style=\"text-align: right;\">\n",
       "      <th></th>\n",
       "      <th>name</th>\n",
       "      <th>mean_treatment</th>\n",
       "      <th>mean_control</th>\n",
       "      <th>log2FC</th>\n",
       "      <th>abslog2FC</th>\n",
       "    </tr>\n",
       "  </thead>\n",
       "  <tbody>\n",
       "    <tr>\n",
       "      <th>1639</th>\n",
       "      <td>ROS1</td>\n",
       "      <td>3.483151</td>\n",
       "      <td>13.566431</td>\n",
       "      <td>-1.700063</td>\n",
       "      <td>1.700063</td>\n",
       "    </tr>\n",
       "    <tr>\n",
       "      <th>2385</th>\n",
       "      <td>F8</td>\n",
       "      <td>8.505311</td>\n",
       "      <td>2.139793</td>\n",
       "      <td>1.598064</td>\n",
       "      <td>1.598064</td>\n",
       "    </tr>\n",
       "    <tr>\n",
       "      <th>4922</th>\n",
       "      <td>NTRK2</td>\n",
       "      <td>2.866247</td>\n",
       "      <td>0.303249</td>\n",
       "      <td>1.568821</td>\n",
       "      <td>1.568821</td>\n",
       "    </tr>\n",
       "    <tr>\n",
       "      <th>11846</th>\n",
       "      <td>HBQ1</td>\n",
       "      <td>2.723305</td>\n",
       "      <td>0.322290</td>\n",
       "      <td>1.493545</td>\n",
       "      <td>1.493545</td>\n",
       "    </tr>\n",
       "    <tr>\n",
       "      <th>5321</th>\n",
       "      <td>FRZB</td>\n",
       "      <td>9.709402</td>\n",
       "      <td>2.959846</td>\n",
       "      <td>1.435362</td>\n",
       "      <td>1.435362</td>\n",
       "    </tr>\n",
       "  </tbody>\n",
       "</table>\n",
       "</div>"
      ],
      "text/plain": [
       "        name  mean_treatment  mean_control    log2FC  abslog2FC\n",
       "1639    ROS1        3.483151     13.566431 -1.700063   1.700063\n",
       "2385      F8        8.505311      2.139793  1.598064   1.598064\n",
       "4922   NTRK2        2.866247      0.303249  1.568821   1.568821\n",
       "11846   HBQ1        2.723305      0.322290  1.493545   1.493545\n",
       "5321    FRZB        9.709402      2.959846  1.435362   1.435362"
      ]
     },
     "execution_count": 3,
     "metadata": {},
     "output_type": "execute_result"
    }
   ],
   "source": [
    "aging_rnaseq_data_file_name = '../Data/GTEX_log2_RPKMquantile.csv'\n",
    "metadata_file_name = '../Data/metadata.csv.gz'\n",
    "protein_coding_genes_file_name = '../Data/protein_coding_ensembl_gene_id_hgnc_hg19.txt'\n",
    "gtex_rpkm_selected_df = prizes.load_selected_aging_rnaseq_data(aging_rnaseq_data_file_name,\n",
    "                                                               metadata_file_name,\n",
    "                                                               protein_coding_genes_file_name)\n",
    "gtex_rpkm_selected_df.head()"
   ]
  },
  {
   "cell_type": "markdown",
   "metadata": {},
   "source": [
    "## Selected Blanco et al. genes"
   ]
  },
  {
   "cell_type": "code",
   "execution_count": 4,
   "metadata": {},
   "outputs": [],
   "source": [
    "# First load and process data from Blanco et al.\n",
    "blanco_data_file_name = '../Data/GSE147507_log2_RPKMquantile.csv'\n",
    "blanco1_rpkm, blanco2_rpkm, blanco3_rpkm = prizes.load_and_process_blanco_data(blanco_data_file_name, \n",
    "                                                                               protein_coding_genes_file_name,\n",
    "                                                                               shuffle=False)"
   ]
  },
  {
   "cell_type": "code",
   "execution_count": 5,
   "metadata": {},
   "outputs": [
    {
     "data": {
      "text/html": [
       "<div>\n",
       "<style scoped>\n",
       "    .dataframe tbody tr th:only-of-type {\n",
       "        vertical-align: middle;\n",
       "    }\n",
       "\n",
       "    .dataframe tbody tr th {\n",
       "        vertical-align: top;\n",
       "    }\n",
       "\n",
       "    .dataframe thead th {\n",
       "        text-align: right;\n",
       "    }\n",
       "</style>\n",
       "<table border=\"1\" class=\"dataframe\">\n",
       "  <thead>\n",
       "    <tr style=\"text-align: right;\">\n",
       "      <th></th>\n",
       "      <th>name</th>\n",
       "      <th>Series16_A549.ACE2_Mock_1</th>\n",
       "      <th>Series16_A549.ACE2_Mock_2</th>\n",
       "      <th>Series16_A549.ACE2_Mock_3</th>\n",
       "      <th>Series16_A549.ACE2_SARS.CoV.2_1</th>\n",
       "      <th>Series16_A549.ACE2_SARS.CoV.2_2</th>\n",
       "      <th>Series16_A549.ACE2_SARS.CoV.2_3</th>\n",
       "      <th>mean_treatment</th>\n",
       "      <th>mean_control</th>\n",
       "      <th>log2FC</th>\n",
       "      <th>abslog2FC</th>\n",
       "    </tr>\n",
       "  </thead>\n",
       "  <tbody>\n",
       "    <tr>\n",
       "      <th>16</th>\n",
       "      <td>MRPL20</td>\n",
       "      <td>23.476467</td>\n",
       "      <td>21.996085</td>\n",
       "      <td>22.725973</td>\n",
       "      <td>10.491229</td>\n",
       "      <td>10.301154</td>\n",
       "      <td>9.132030</td>\n",
       "      <td>9.974804</td>\n",
       "      <td>22.732841</td>\n",
       "      <td>-1.112690</td>\n",
       "      <td>1.112690</td>\n",
       "    </tr>\n",
       "    <tr>\n",
       "      <th>31</th>\n",
       "      <td>FAM213B</td>\n",
       "      <td>5.360438</td>\n",
       "      <td>3.903674</td>\n",
       "      <td>3.700970</td>\n",
       "      <td>1.084121</td>\n",
       "      <td>0.474477</td>\n",
       "      <td>1.628909</td>\n",
       "      <td>1.062502</td>\n",
       "      <td>4.321694</td>\n",
       "      <td>-1.367490</td>\n",
       "      <td>1.367490</td>\n",
       "    </tr>\n",
       "    <tr>\n",
       "      <th>34</th>\n",
       "      <td>TPRG1L</td>\n",
       "      <td>20.528304</td>\n",
       "      <td>19.654982</td>\n",
       "      <td>21.892141</td>\n",
       "      <td>8.881052</td>\n",
       "      <td>8.683763</td>\n",
       "      <td>7.923967</td>\n",
       "      <td>8.496260</td>\n",
       "      <td>20.691809</td>\n",
       "      <td>-1.191719</td>\n",
       "      <td>1.191719</td>\n",
       "    </tr>\n",
       "    <tr>\n",
       "      <th>41</th>\n",
       "      <td>KCNAB2</td>\n",
       "      <td>3.732427</td>\n",
       "      <td>2.494125</td>\n",
       "      <td>2.801351</td>\n",
       "      <td>0.308315</td>\n",
       "      <td>0.553297</td>\n",
       "      <td>0.147803</td>\n",
       "      <td>0.336471</td>\n",
       "      <td>3.009301</td>\n",
       "      <td>-1.584922</td>\n",
       "      <td>1.584922</td>\n",
       "    </tr>\n",
       "    <tr>\n",
       "      <th>44</th>\n",
       "      <td>ICMT</td>\n",
       "      <td>21.144779</td>\n",
       "      <td>22.122032</td>\n",
       "      <td>20.299840</td>\n",
       "      <td>8.961928</td>\n",
       "      <td>6.999973</td>\n",
       "      <td>9.068861</td>\n",
       "      <td>8.343587</td>\n",
       "      <td>21.188884</td>\n",
       "      <td>-1.247789</td>\n",
       "      <td>1.247789</td>\n",
       "    </tr>\n",
       "  </tbody>\n",
       "</table>\n",
       "</div>"
      ],
      "text/plain": [
       "       name  Series16_A549.ACE2_Mock_1  Series16_A549.ACE2_Mock_2  \\\n",
       "16   MRPL20                  23.476467                  21.996085   \n",
       "31  FAM213B                   5.360438                   3.903674   \n",
       "34   TPRG1L                  20.528304                  19.654982   \n",
       "41   KCNAB2                   3.732427                   2.494125   \n",
       "44     ICMT                  21.144779                  22.122032   \n",
       "\n",
       "    Series16_A549.ACE2_Mock_3  Series16_A549.ACE2_SARS.CoV.2_1  \\\n",
       "16                  22.725973                        10.491229   \n",
       "31                   3.700970                         1.084121   \n",
       "34                  21.892141                         8.881052   \n",
       "41                   2.801351                         0.308315   \n",
       "44                  20.299840                         8.961928   \n",
       "\n",
       "    Series16_A549.ACE2_SARS.CoV.2_2  Series16_A549.ACE2_SARS.CoV.2_3  \\\n",
       "16                        10.301154                         9.132030   \n",
       "31                         0.474477                         1.628909   \n",
       "34                         8.683763                         7.923967   \n",
       "41                         0.553297                         0.147803   \n",
       "44                         6.999973                         9.068861   \n",
       "\n",
       "    mean_treatment  mean_control    log2FC  abslog2FC  \n",
       "16        9.974804     22.732841 -1.112690   1.112690  \n",
       "31        1.062502      4.321694 -1.367490   1.367490  \n",
       "34        8.496260     20.691809 -1.191719   1.191719  \n",
       "41        0.336471      3.009301 -1.584922   1.584922  \n",
       "44        8.343587     21.188884 -1.247789   1.247789  "
      ]
     },
     "execution_count": 5,
     "metadata": {},
     "output_type": "execute_result"
    }
   ],
   "source": [
    "# Then compute selected genes from Blanco et al.\n",
    "blanco_rpkm_selected = prizes.load_selected_blanco_genes(  blanco1_rpkm,\n",
    "                                                           blanco2_rpkm,\n",
    "                                                           blanco3_rpkm,\n",
    "                                                           protein_coding_genes_file_name,\n",
    "                                                           plot_venn_diagrams=False)\n",
    "blanco_rpkm_selected.head()"
   ]
  },
  {
   "cell_type": "markdown",
   "metadata": {},
   "source": [
    "## Create final prized list"
   ]
  },
  {
   "cell_type": "code",
   "execution_count": 6,
   "metadata": {},
   "outputs": [],
   "source": [
    "# Load L1000 gene list\n",
    "lincs_genes_file_name = '../Data/GSE92742_Broad_LINCS_gene_info.txt'\n",
    "l1000_genes = prizes.load_lincs_genes(lincs_genes_file_name)\n",
    "\n",
    "# Load proteins in ppi list\n",
    "ppi_data_file_name = '../Save_RandomizePPI/iRefIndex_v14_MIScore_interactome_C9.costs.allcaps.txt'\n",
    "proteins_in_ppi = prizes.load_iref_genes(ppi_data_file_name)"
   ]
  },
  {
   "cell_type": "code",
   "execution_count": 7,
   "metadata": {},
   "outputs": [
    {
     "data": {
      "text/html": [
       "<div>\n",
       "<style scoped>\n",
       "    .dataframe tbody tr th:only-of-type {\n",
       "        vertical-align: middle;\n",
       "    }\n",
       "\n",
       "    .dataframe tbody tr th {\n",
       "        vertical-align: top;\n",
       "    }\n",
       "\n",
       "    .dataframe thead th {\n",
       "        text-align: right;\n",
       "    }\n",
       "</style>\n",
       "<table border=\"1\" class=\"dataframe\">\n",
       "  <thead>\n",
       "    <tr style=\"text-align: right;\">\n",
       "      <th></th>\n",
       "      <th>name</th>\n",
       "      <th>prize</th>\n",
       "      <th>log2FC_blanco</th>\n",
       "      <th>log2FC_ageing</th>\n",
       "    </tr>\n",
       "  </thead>\n",
       "  <tbody>\n",
       "    <tr>\n",
       "      <th>2006</th>\n",
       "      <td>ACAT1</td>\n",
       "      <td>1.203090</td>\n",
       "      <td>-1.203090</td>\n",
       "      <td>-0.509400</td>\n",
       "    </tr>\n",
       "    <tr>\n",
       "      <th>1269</th>\n",
       "      <td>ADK</td>\n",
       "      <td>1.186245</td>\n",
       "      <td>-1.186245</td>\n",
       "      <td>-0.568995</td>\n",
       "    </tr>\n",
       "    <tr>\n",
       "      <th>8001</th>\n",
       "      <td>AGA</td>\n",
       "      <td>1.590582</td>\n",
       "      <td>-1.590582</td>\n",
       "      <td>-0.404011</td>\n",
       "    </tr>\n",
       "    <tr>\n",
       "      <th>10617</th>\n",
       "      <td>AIFM1</td>\n",
       "      <td>1.418865</td>\n",
       "      <td>-1.418865</td>\n",
       "      <td>-0.454493</td>\n",
       "    </tr>\n",
       "    <tr>\n",
       "      <th>10025</th>\n",
       "      <td>ALDH1B1</td>\n",
       "      <td>1.478519</td>\n",
       "      <td>-1.478519</td>\n",
       "      <td>-0.438291</td>\n",
       "    </tr>\n",
       "    <tr>\n",
       "      <th>3673</th>\n",
       "      <td>ALG1</td>\n",
       "      <td>1.302155</td>\n",
       "      <td>-1.302155</td>\n",
       "      <td>-0.365349</td>\n",
       "    </tr>\n",
       "    <tr>\n",
       "      <th>7235</th>\n",
       "      <td>APEH</td>\n",
       "      <td>1.403288</td>\n",
       "      <td>-1.403288</td>\n",
       "      <td>-0.476856</td>\n",
       "    </tr>\n",
       "    <tr>\n",
       "      <th>4423</th>\n",
       "      <td>ARL4D</td>\n",
       "      <td>1.474380</td>\n",
       "      <td>1.474380</td>\n",
       "      <td>0.570956</td>\n",
       "    </tr>\n",
       "    <tr>\n",
       "      <th>6258</th>\n",
       "      <td>ATIC</td>\n",
       "      <td>1.304655</td>\n",
       "      <td>-1.304655</td>\n",
       "      <td>-0.417875</td>\n",
       "    </tr>\n",
       "    <tr>\n",
       "      <th>5610</th>\n",
       "      <td>AURKC</td>\n",
       "      <td>1.207711</td>\n",
       "      <td>1.207711</td>\n",
       "      <td>0.452153</td>\n",
       "    </tr>\n",
       "  </tbody>\n",
       "</table>\n",
       "</div>"
      ],
      "text/plain": [
       "          name     prize  log2FC_blanco  log2FC_ageing\n",
       "2006     ACAT1  1.203090      -1.203090      -0.509400\n",
       "1269       ADK  1.186245      -1.186245      -0.568995\n",
       "8001       AGA  1.590582      -1.590582      -0.404011\n",
       "10617    AIFM1  1.418865      -1.418865      -0.454493\n",
       "10025  ALDH1B1  1.478519      -1.478519      -0.438291\n",
       "3673      ALG1  1.302155      -1.302155      -0.365349\n",
       "7235      APEH  1.403288      -1.403288      -0.476856\n",
       "4423     ARL4D  1.474380       1.474380       0.570956\n",
       "6258      ATIC  1.304655      -1.304655      -0.417875\n",
       "5610     AURKC  1.207711       1.207711       0.452153"
      ]
     },
     "execution_count": 7,
     "metadata": {},
     "output_type": "execute_result"
    }
   ],
   "source": [
    "terminal_df = prizes.create_prized_genes_list(blanco2_rpkm,\n",
    "                                             blanco_rpkm_selected,\n",
    "                                             gtex_rpkm_selected_df,\n",
    "                                             l1000_genes,\n",
    "                                             proteins_in_ppi,\n",
    "                                             plot_venn_diagrams=False)\n",
    "terminal_df.head(10)"
   ]
  },
  {
   "cell_type": "code",
   "execution_count": 8,
   "metadata": {},
   "outputs": [],
   "source": [
    "# Save terminal df to tsv\n",
    "terminal_df.to_csv(r'../Save_RandomizePPI/terminals_ppi_analysis.tsv', header=True, index=None, sep='\\t', quoting = csv.QUOTE_NONE, escapechar = '\\t')"
   ]
  },
  {
   "cell_type": "markdown",
   "metadata": {},
   "source": [
    "# Prepare the sentivity analysis for Stein tree parameters"
   ]
  },
  {
   "cell_type": "markdown",
   "metadata": {},
   "source": [
    "## W range"
   ]
  },
  {
   "cell_type": "code",
   "execution_count": 9,
   "metadata": {},
   "outputs": [],
   "source": [
    "# Load prizes data\n",
    "prizes_data = terminal_df\n",
    "terminals = list(prizes_data['name'])\n",
    "n_terminals = len(terminals)"
   ]
  },
  {
   "cell_type": "code",
   "execution_count": 10,
   "metadata": {},
   "outputs": [],
   "source": [
    "# Load IREF interactome\n",
    "interactome_file = \"../Save_RandomizePPI/iRefIndex_v14_MIScore_interactome_C9.costs.allcaps.txt\"\n",
    "graph = oi.Graph(interactome_file)"
   ]
  },
  {
   "cell_type": "code",
   "execution_count": null,
   "metadata": {},
   "outputs": [
    {
     "name": "stderr",
     "output_type": "stream",
     "text": [
      " 19%|█▊        | 30/162 [12:04<48:37, 22.10s/it]  "
     ]
    }
   ],
   "source": [
    "# Distribution of cheapest path between any two terminals without penalty (g=-\\infty)\n",
    "network = graph.interactome_graph\n",
    "shortest_dist_mat = np.zeros(shape = (n_terminals,n_terminals))\n",
    "for ix_prot1 in tqdm.tqdm(np.arange(n_terminals)):\n",
    "    time.sleep(0.01)\n",
    "    for ix_prot2 in np.arange(ix_prot1+1, n_terminals, 1):\n",
    "        shortest_dist_mat[ix_prot1,ix_prot2] = nx.dijkstra_path_length(network,\n",
    "                                                                       source = terminals[ix_prot1],\n",
    "                                                                       target = terminals[ix_prot2],\n",
    "                                                                       weight = 'cost')\n",
    "        shortest_dist_mat[ix_prot2,ix_prot2] = shortest_dist_mat[ix_prot1,ix_prot2]"
   ]
  },
  {
   "cell_type": "code",
   "execution_count": null,
   "metadata": {},
   "outputs": [],
   "source": [
    "# Plot heatmap of cheapest path\n",
    "plt.matshow(np.transpose(shortest_dist_mat))\n",
    "plt.xlabel('terminals')\n",
    "plt.ylabel('terminals')\n",
    "plt.colorbar()"
   ]
  },
  {
   "cell_type": "code",
   "execution_count": null,
   "metadata": {},
   "outputs": [],
   "source": [
    "# Plot histogram of cheapest path\n",
    "plt.subplot(1,2,1)\n",
    "flat_mat = shortest_dist_mat[np.triu_indices(n_terminals, k=1)]\n",
    "plt.hist(flat_mat,40)\n",
    "plt.xlabel('Cost of shortest path between two terminals')\n",
    "plt.ylabel('Number of pairs of terminals')"
   ]
  },
  {
   "cell_type": "markdown",
   "metadata": {},
   "source": [
    "## G range"
   ]
  },
  {
   "cell_type": "code",
   "execution_count": 11,
   "metadata": {},
   "outputs": [],
   "source": [
    "# Create a dictionary containing edge costs under several choices of g\n",
    "g_range = [0,1,2,3,4,5]\n",
    "edge_costs_dict={'g = -Inf': graph.edge_costs}\n",
    "for g in g_range:\n",
    "    params = {\"w\": 0, \"b\": 1, \"g\": g, \"edge_noise\": 0, \"dummy_mode\": \"terminals\", \"seed\": 0, \"skip_checks\": False}\n",
    "    graph._reset_hyperparameters(params)\n",
    "    edge_costs_dict['g='+str(g)] = graph.costs\n",
    "edge_costs_df = pd.DataFrame(data = edge_costs_dict)"
   ]
  },
  {
   "cell_type": "code",
   "execution_count": 12,
   "metadata": {},
   "outputs": [
    {
     "data": {
      "image/png": "[encoded data removed]",
      "text/plain": [
       "<Figure size 432x288 with 1 Axes>"
      ]
     },
     "metadata": {
      "needs_background": "light"
     },
     "output_type": "display_data"
    }
   ],
   "source": [
    "# Boxplot of edge costs under several choices of g\n",
    "plt.figure()\n",
    "edge_costs_df.boxplot()\n",
    "plt.yscale('log')\n",
    "plt.ylabel('penalized edge cost')\n",
    "plt.title('Boxplots of penalized edge costs in IREF for different values of g')\n",
    "plt.show()"
   ]
  },
  {
   "cell_type": "markdown",
   "metadata": {},
   "source": [
    "## B range"
   ]
  },
  {
   "cell_type": "code",
   "execution_count": 13,
   "metadata": {
    "scrolled": true
   },
   "outputs": [
    {
     "data": {
      "text/html": [
       "<div>\n",
       "<style scoped>\n",
       "    .dataframe tbody tr th:only-of-type {\n",
       "        vertical-align: middle;\n",
       "    }\n",
       "\n",
       "    .dataframe tbody tr th {\n",
       "        vertical-align: top;\n",
       "    }\n",
       "\n",
       "    .dataframe thead th {\n",
       "        text-align: right;\n",
       "    }\n",
       "</style>\n",
       "<table border=\"1\" class=\"dataframe\">\n",
       "  <thead>\n",
       "    <tr style=\"text-align: right;\">\n",
       "      <th></th>\n",
       "      <th>max_penalized_edge_cost</th>\n",
       "    </tr>\n",
       "  </thead>\n",
       "  <tbody>\n",
       "    <tr>\n",
       "      <th>g = -Inf</th>\n",
       "      <td>0.859220</td>\n",
       "    </tr>\n",
       "    <tr>\n",
       "      <th>g=0</th>\n",
       "      <td>1.588927</td>\n",
       "    </tr>\n",
       "    <tr>\n",
       "      <th>g=1</th>\n",
       "      <td>8.156290</td>\n",
       "    </tr>\n",
       "    <tr>\n",
       "      <th>g=2</th>\n",
       "      <td>73.829915</td>\n",
       "    </tr>\n",
       "    <tr>\n",
       "      <th>g=3</th>\n",
       "      <td>730.566173</td>\n",
       "    </tr>\n",
       "    <tr>\n",
       "      <th>g=4</th>\n",
       "      <td>7297.928746</td>\n",
       "    </tr>\n",
       "    <tr>\n",
       "      <th>g=5</th>\n",
       "      <td>72971.554482</td>\n",
       "    </tr>\n",
       "  </tbody>\n",
       "</table>\n",
       "</div>"
      ],
      "text/plain": [
       "          max_penalized_edge_cost\n",
       "g = -Inf                 0.859220\n",
       "g=0                      1.588927\n",
       "g=1                      8.156290\n",
       "g=2                     73.829915\n",
       "g=3                    730.566173\n",
       "g=4                   7297.928746\n",
       "g=5                  72971.554482"
      ]
     },
     "execution_count": 13,
     "metadata": {},
     "output_type": "execute_result"
    }
   ],
   "source": [
    "# For a range of g, compute the maximum penalized edge cost\n",
    "g_range = [0,1,2,3,4,5]\n",
    "max_penalized_edge_cost = pd.DataFrame(edge_costs_df.max())\n",
    "max_penalized_edge_cost.columns=['max_penalized_edge_cost']\n",
    "max_penalized_edge_cost"
   ]
  },
  {
   "cell_type": "markdown",
   "metadata": {},
   "source": [
    "# Sensitivity analysis for Steiner tree parameters"
   ]
  },
  {
   "cell_type": "markdown",
   "metadata": {},
   "source": [
    "## Run sensitivity analysis"
   ]
  },
  {
   "cell_type": "code",
   "execution_count": 14,
   "metadata": {},
   "outputs": [],
   "source": [
    "# Load set of virus interacting genes from Gordon et al.\n",
    "virus_partners_file_name = \"../Data/SARSCov_targets_df.tsv\"\n",
    "virus_interacting_genes = sensitivity.import_virus_partners(virus_partners_file_name)"
   ]
  },
  {
   "cell_type": "code",
   "execution_count": 15,
   "metadata": {},
   "outputs": [],
   "source": [
    "# Parameters for sensitivity analysis\n",
    "interactome_file_name = \"../Save_RandomizePPI/iRefIndex_v14_MIScore_interactome_C9.costs.allcaps.txt\"\n",
    "prize_file_name = \"../Save_RandomizePPI/terminals_ppi_analysis.tsv\"\n",
    "# Graph hyperparameters\n",
    "graph_params =  {\n",
    "                \"noise\": 0.0, \n",
    "                \"dummy_mode\": \"terminals\", \n",
    "                \"exclude_terminals\": False, \n",
    "                \"seed\": 1,\n",
    "                \"pruning\": 'strong',\n",
    "                \"verbosity_level\": 0\n",
    "                }\n",
    "# Set sweeping parameters, i.e. configurations (w,b,g)\n",
    "W_list = np.linspace(start = 0.2, stop = 2, num = 10)\n",
    "B_list = np.array([5., 10., 15., 20., 25., 30., 35., 40., 45., 50.])"
   ]
  },
  {
   "cell_type": "code",
   "execution_count": 55,
   "metadata": {
    "scrolled": true
   },
   "outputs": [
    {
     "name": "stderr",
     "output_type": "stream",
     "text": [
      "10:34:58 - OI2: INFO - Duplicated gene symbols in the prize file (we'll keep the max prize):\n",
      "10:34:58 - OI2: INFO - []\n",
      "10:34:58 - OI2: INFO - Members of the prize file not present in the interactome:\n",
      "10:34:58 - OI2: INFO - []\n"
     ]
    },
    {
     "name": "stdout",
     "output_type": "stream",
     "text": [
      "Progress= 0.01\n"
     ]
    },
    {
     "name": "stderr",
     "output_type": "stream",
     "text": [
      "10:34:59 - OI2: INFO - Duplicated gene symbols in the prize file (we'll keep the max prize):\n",
      "10:34:59 - OI2: INFO - []\n",
      "10:34:59 - OI2: INFO - Members of the prize file not present in the interactome:\n",
      "10:34:59 - OI2: INFO - []\n"
     ]
    },
    {
     "name": "stdout",
     "output_type": "stream",
     "text": [
      "Progress= 0.02\n"
     ]
    },
    {
     "name": "stderr",
     "output_type": "stream",
     "text": [
      "10:34:59 - OI2: INFO - Duplicated gene symbols in the prize file (we'll keep the max prize):\n",
      "10:34:59 - OI2: INFO - []\n",
      "10:34:59 - OI2: INFO - Members of the prize file not present in the interactome:\n",
      "10:34:59 - OI2: INFO - []\n"
     ]
    },
    {
     "name": "stdout",
     "output_type": "stream",
     "text": [
      "Progress= 0.03\n"
     ]
    },
    {
     "name": "stderr",
     "output_type": "stream",
     "text": [
      "10:35:00 - OI2: INFO - Duplicated gene symbols in the prize file (we'll keep the max prize):\n",
      "10:35:00 - OI2: INFO - []\n",
      "10:35:00 - OI2: INFO - Members of the prize file not present in the interactome:\n",
      "10:35:00 - OI2: INFO - []\n"
     ]
    },
    {
     "name": "stdout",
     "output_type": "stream",
     "text": [
      "Progress= 0.04\n"
     ]
    },
    {
     "name": "stderr",
     "output_type": "stream",
     "text": [
      "10:35:01 - OI2: INFO - Duplicated gene symbols in the prize file (we'll keep the max prize):\n",
      "10:35:01 - OI2: INFO - []\n",
      "10:35:01 - OI2: INFO - Members of the prize file not present in the interactome:\n",
      "10:35:01 - OI2: INFO - []\n"
     ]
    },
    {
     "name": "stdout",
     "output_type": "stream",
     "text": [
      "Progress= 0.05\n"
     ]
    },
    {
     "name": "stderr",
     "output_type": "stream",
     "text": [
      "10:35:02 - OI2: INFO - Duplicated gene symbols in the prize file (we'll keep the max prize):\n",
      "10:35:02 - OI2: INFO - []\n",
      "10:35:02 - OI2: INFO - Members of the prize file not present in the interactome:\n",
      "10:35:02 - OI2: INFO - []\n"
     ]
    },
    {
     "name": "stdout",
     "output_type": "stream",
     "text": [
      "Progress= 0.06\n"
     ]
    },
    {
     "name": "stderr",
     "output_type": "stream",
     "text": [
      "10:35:03 - OI2: INFO - Duplicated gene symbols in the prize file (we'll keep the max prize):\n",
      "10:35:03 - OI2: INFO - []\n",
      "10:35:03 - OI2: INFO - Members of the prize file not present in the interactome:\n",
      "10:35:03 - OI2: INFO - []\n"
     ]
    },
    {
     "name": "stdout",
     "output_type": "stream",
     "text": [
      "Progress= 0.07\n"
     ]
    },
    {
     "name": "stderr",
     "output_type": "stream",
     "text": [
      "10:35:03 - OI2: INFO - Duplicated gene symbols in the prize file (we'll keep the max prize):\n",
      "10:35:03 - OI2: INFO - []\n",
      "10:35:03 - OI2: INFO - Members of the prize file not present in the interactome:\n",
      "10:35:03 - OI2: INFO - []\n"
     ]
    },
    {
     "name": "stdout",
     "output_type": "stream",
     "text": [
      "Progress= 0.08\n"
     ]
    },
    {
     "name": "stderr",
     "output_type": "stream",
     "text": [
      "10:35:04 - OI2: INFO - Duplicated gene symbols in the prize file (we'll keep the max prize):\n",
      "10:35:04 - OI2: INFO - []\n",
      "10:35:04 - OI2: INFO - Members of the prize file not present in the interactome:\n",
      "10:35:04 - OI2: INFO - []\n"
     ]
    },
    {
     "name": "stdout",
     "output_type": "stream",
     "text": [
      "Progress= 0.09\n"
     ]
    },
    {
     "name": "stderr",
     "output_type": "stream",
     "text": [
      "10:35:05 - OI2: INFO - Duplicated gene symbols in the prize file (we'll keep the max prize):\n",
      "10:35:05 - OI2: INFO - []\n",
      "10:35:05 - OI2: INFO - Members of the prize file not present in the interactome:\n",
      "10:35:05 - OI2: INFO - []\n"
     ]
    },
    {
     "name": "stdout",
     "output_type": "stream",
     "text": [
      "Progress= 0.1\n"
     ]
    },
    {
     "name": "stderr",
     "output_type": "stream",
     "text": [
      "10:35:06 - OI2: INFO - Duplicated gene symbols in the prize file (we'll keep the max prize):\n",
      "10:35:06 - OI2: INFO - []\n",
      "10:35:06 - OI2: INFO - Members of the prize file not present in the interactome:\n",
      "10:35:06 - OI2: INFO - []\n"
     ]
    },
    {
     "name": "stdout",
     "output_type": "stream",
     "text": [
      "Progress= 0.11\n"
     ]
    },
    {
     "name": "stderr",
     "output_type": "stream",
     "text": [
      "10:35:07 - OI2: INFO - Duplicated gene symbols in the prize file (we'll keep the max prize):\n",
      "10:35:07 - OI2: INFO - []\n",
      "10:35:07 - OI2: INFO - Members of the prize file not present in the interactome:\n",
      "10:35:07 - OI2: INFO - []\n"
     ]
    },
    {
     "name": "stdout",
     "output_type": "stream",
     "text": [
      "Progress= 0.12\n"
     ]
    },
    {
     "name": "stderr",
     "output_type": "stream",
     "text": [
      "10:35:08 - OI2: INFO - Duplicated gene symbols in the prize file (we'll keep the max prize):\n",
      "10:35:08 - OI2: INFO - []\n",
      "10:35:08 - OI2: INFO - Members of the prize file not present in the interactome:\n",
      "10:35:08 - OI2: INFO - []\n"
     ]
    },
    {
     "name": "stdout",
     "output_type": "stream",
     "text": [
      "Progress= 0.13\n"
     ]
    },
    {
     "name": "stderr",
     "output_type": "stream",
     "text": [
      "10:35:09 - OI2: INFO - Duplicated gene symbols in the prize file (we'll keep the max prize):\n",
      "10:35:09 - OI2: INFO - []\n",
      "10:35:09 - OI2: INFO - Members of the prize file not present in the interactome:\n",
      "10:35:09 - OI2: INFO - []\n"
     ]
    },
    {
     "name": "stdout",
     "output_type": "stream",
     "text": [
      "Progress= 0.14\n"
     ]
    },
    {
     "name": "stderr",
     "output_type": "stream",
     "text": [
      "10:35:10 - OI2: INFO - Duplicated gene symbols in the prize file (we'll keep the max prize):\n",
      "10:35:10 - OI2: INFO - []\n",
      "10:35:10 - OI2: INFO - Members of the prize file not present in the interactome:\n",
      "10:35:10 - OI2: INFO - []\n"
     ]
    },
    {
     "name": "stdout",
     "output_type": "stream",
     "text": [
      "Progress= 0.15\n"
     ]
    },
    {
     "name": "stderr",
     "output_type": "stream",
     "text": [
      "10:35:11 - OI2: INFO - Duplicated gene symbols in the prize file (we'll keep the max prize):\n",
      "10:35:11 - OI2: INFO - []\n",
      "10:35:11 - OI2: INFO - Members of the prize file not present in the interactome:\n",
      "10:35:11 - OI2: INFO - []\n"
     ]
    },
    {
     "name": "stdout",
     "output_type": "stream",
     "text": [
      "Progress= 0.16\n"
     ]
    },
    {
     "name": "stderr",
     "output_type": "stream",
     "text": [
      "10:35:12 - OI2: INFO - Duplicated gene symbols in the prize file (we'll keep the max prize):\n",
      "10:35:12 - OI2: INFO - []\n",
      "10:35:12 - OI2: INFO - Members of the prize file not present in the interactome:\n",
      "10:35:12 - OI2: INFO - []\n"
     ]
    },
    {
     "name": "stdout",
     "output_type": "stream",
     "text": [
      "Progress= 0.17\n"
     ]
    },
    {
     "name": "stderr",
     "output_type": "stream",
     "text": [
      "10:35:13 - OI2: INFO - Duplicated gene symbols in the prize file (we'll keep the max prize):\n",
      "10:35:13 - OI2: INFO - []\n",
      "10:35:13 - OI2: INFO - Members of the prize file not present in the interactome:\n",
      "10:35:13 - OI2: INFO - []\n"
     ]
    },
    {
     "name": "stdout",
     "output_type": "stream",
     "text": [
      "Progress= 0.18\n"
     ]
    },
    {
     "name": "stderr",
     "output_type": "stream",
     "text": [
      "10:35:14 - OI2: INFO - Duplicated gene symbols in the prize file (we'll keep the max prize):\n",
      "10:35:14 - OI2: INFO - []\n",
      "10:35:14 - OI2: INFO - Members of the prize file not present in the interactome:\n",
      "10:35:14 - OI2: INFO - []\n"
     ]
    },
    {
     "name": "stdout",
     "output_type": "stream",
     "text": [
      "Progress= 0.19\n"
     ]
    },
    {
     "name": "stderr",
     "output_type": "stream",
     "text": [
      "10:35:15 - OI2: INFO - Duplicated gene symbols in the prize file (we'll keep the max prize):\n",
      "10:35:15 - OI2: INFO - []\n",
      "10:35:15 - OI2: INFO - Members of the prize file not present in the interactome:\n",
      "10:35:15 - OI2: INFO - []\n"
     ]
    },
    {
     "name": "stdout",
     "output_type": "stream",
     "text": [
      "Progress= 0.2\n"
     ]
    },
    {
     "name": "stderr",
     "output_type": "stream",
     "text": [
      "10:35:16 - OI2: INFO - Duplicated gene symbols in the prize file (we'll keep the max prize):\n",
      "10:35:16 - OI2: INFO - []\n",
      "10:35:16 - OI2: INFO - Members of the prize file not present in the interactome:\n",
      "10:35:16 - OI2: INFO - []\n"
     ]
    },
    {
     "name": "stdout",
     "output_type": "stream",
     "text": [
      "Progress= 0.21\n"
     ]
    },
    {
     "name": "stderr",
     "output_type": "stream",
     "text": [
      "10:35:18 - OI2: INFO - Duplicated gene symbols in the prize file (we'll keep the max prize):\n",
      "10:35:18 - OI2: INFO - []\n",
      "10:35:18 - OI2: INFO - Members of the prize file not present in the interactome:\n",
      "10:35:18 - OI2: INFO - []\n"
     ]
    },
    {
     "name": "stdout",
     "output_type": "stream",
     "text": [
      "Progress= 0.22\n"
     ]
    },
    {
     "name": "stderr",
     "output_type": "stream",
     "text": [
      "10:35:19 - OI2: INFO - Duplicated gene symbols in the prize file (we'll keep the max prize):\n",
      "10:35:19 - OI2: INFO - []\n",
      "10:35:19 - OI2: INFO - Members of the prize file not present in the interactome:\n",
      "10:35:19 - OI2: INFO - []\n"
     ]
    },
    {
     "name": "stdout",
     "output_type": "stream",
     "text": [
      "Progress= 0.23\n"
     ]
    },
    {
     "name": "stderr",
     "output_type": "stream",
     "text": [
      "10:35:20 - OI2: INFO - Duplicated gene symbols in the prize file (we'll keep the max prize):\n",
      "10:35:20 - OI2: INFO - []\n",
      "10:35:20 - OI2: INFO - Members of the prize file not present in the interactome:\n",
      "10:35:20 - OI2: INFO - []\n"
     ]
    },
    {
     "name": "stdout",
     "output_type": "stream",
     "text": [
      "Progress= 0.24\n"
     ]
    },
    {
     "name": "stderr",
     "output_type": "stream",
     "text": [
      "10:35:21 - OI2: INFO - Duplicated gene symbols in the prize file (we'll keep the max prize):\n",
      "10:35:21 - OI2: INFO - []\n",
      "10:35:21 - OI2: INFO - Members of the prize file not present in the interactome:\n",
      "10:35:21 - OI2: INFO - []\n"
     ]
    },
    {
     "name": "stdout",
     "output_type": "stream",
     "text": [
      "Progress= 0.25\n"
     ]
    },
    {
     "name": "stderr",
     "output_type": "stream",
     "text": [
      "10:35:23 - OI2: INFO - Duplicated gene symbols in the prize file (we'll keep the max prize):\n",
      "10:35:23 - OI2: INFO - []\n",
      "10:35:23 - OI2: INFO - Members of the prize file not present in the interactome:\n",
      "10:35:23 - OI2: INFO - []\n"
     ]
    },
    {
     "name": "stdout",
     "output_type": "stream",
     "text": [
      "Progress= 0.26\n"
     ]
    },
    {
     "name": "stderr",
     "output_type": "stream",
     "text": [
      "10:35:24 - OI2: INFO - Duplicated gene symbols in the prize file (we'll keep the max prize):\n",
      "10:35:24 - OI2: INFO - []\n",
      "10:35:24 - OI2: INFO - Members of the prize file not present in the interactome:\n",
      "10:35:24 - OI2: INFO - []\n"
     ]
    },
    {
     "name": "stdout",
     "output_type": "stream",
     "text": [
      "Progress= 0.27\n"
     ]
    },
    {
     "name": "stderr",
     "output_type": "stream",
     "text": [
      "10:35:25 - OI2: INFO - Duplicated gene symbols in the prize file (we'll keep the max prize):\n",
      "10:35:25 - OI2: INFO - []\n",
      "10:35:25 - OI2: INFO - Members of the prize file not present in the interactome:\n",
      "10:35:25 - OI2: INFO - []\n"
     ]
    },
    {
     "name": "stdout",
     "output_type": "stream",
     "text": [
      "Progress= 0.28\n"
     ]
    },
    {
     "name": "stderr",
     "output_type": "stream",
     "text": [
      "10:35:26 - OI2: INFO - Duplicated gene symbols in the prize file (we'll keep the max prize):\n",
      "10:35:26 - OI2: INFO - []\n",
      "10:35:26 - OI2: INFO - Members of the prize file not present in the interactome:\n",
      "10:35:26 - OI2: INFO - []\n"
     ]
    },
    {
     "name": "stdout",
     "output_type": "stream",
     "text": [
      "Progress= 0.29\n"
     ]
    },
    {
     "name": "stderr",
     "output_type": "stream",
     "text": [
      "10:35:27 - OI2: INFO - Duplicated gene symbols in the prize file (we'll keep the max prize):\n",
      "10:35:27 - OI2: INFO - []\n",
      "10:35:27 - OI2: INFO - Members of the prize file not present in the interactome:\n",
      "10:35:27 - OI2: INFO - []\n"
     ]
    },
    {
     "name": "stdout",
     "output_type": "stream",
     "text": [
      "Progress= 0.3\n"
     ]
    },
    {
     "name": "stderr",
     "output_type": "stream",
     "text": [
      "10:35:29 - OI2: INFO - Duplicated gene symbols in the prize file (we'll keep the max prize):\n",
      "10:35:29 - OI2: INFO - []\n",
      "10:35:29 - OI2: INFO - Members of the prize file not present in the interactome:\n",
      "10:35:29 - OI2: INFO - []\n"
     ]
    },
    {
     "name": "stdout",
     "output_type": "stream",
     "text": [
      "Progress= 0.31\n"
     ]
    },
    {
     "name": "stderr",
     "output_type": "stream",
     "text": [
      "10:35:30 - OI2: INFO - Duplicated gene symbols in the prize file (we'll keep the max prize):\n",
      "10:35:30 - OI2: INFO - []\n",
      "10:35:30 - OI2: INFO - Members of the prize file not present in the interactome:\n",
      "10:35:30 - OI2: INFO - []\n"
     ]
    },
    {
     "name": "stdout",
     "output_type": "stream",
     "text": [
      "Progress= 0.32\n"
     ]
    },
    {
     "name": "stderr",
     "output_type": "stream",
     "text": [
      "10:35:31 - OI2: INFO - Duplicated gene symbols in the prize file (we'll keep the max prize):\n",
      "10:35:31 - OI2: INFO - []\n",
      "10:35:31 - OI2: INFO - Members of the prize file not present in the interactome:\n",
      "10:35:31 - OI2: INFO - []\n"
     ]
    },
    {
     "name": "stdout",
     "output_type": "stream",
     "text": [
      "Progress= 0.33\n"
     ]
    },
    {
     "name": "stderr",
     "output_type": "stream",
     "text": [
      "10:35:33 - OI2: INFO - Duplicated gene symbols in the prize file (we'll keep the max prize):\n",
      "10:35:33 - OI2: INFO - []\n",
      "10:35:33 - OI2: INFO - Members of the prize file not present in the interactome:\n",
      "10:35:33 - OI2: INFO - []\n"
     ]
    },
    {
     "name": "stdout",
     "output_type": "stream",
     "text": [
      "Progress= 0.34\n"
     ]
    },
    {
     "name": "stderr",
     "output_type": "stream",
     "text": [
      "10:35:34 - OI2: INFO - Duplicated gene symbols in the prize file (we'll keep the max prize):\n",
      "10:35:34 - OI2: INFO - []\n",
      "10:35:34 - OI2: INFO - Members of the prize file not present in the interactome:\n",
      "10:35:34 - OI2: INFO - []\n"
     ]
    },
    {
     "name": "stdout",
     "output_type": "stream",
     "text": [
      "Progress= 0.35\n"
     ]
    },
    {
     "name": "stderr",
     "output_type": "stream",
     "text": [
      "10:35:35 - OI2: INFO - Duplicated gene symbols in the prize file (we'll keep the max prize):\n",
      "10:35:35 - OI2: INFO - []\n",
      "10:35:35 - OI2: INFO - Members of the prize file not present in the interactome:\n",
      "10:35:35 - OI2: INFO - []\n"
     ]
    },
    {
     "name": "stdout",
     "output_type": "stream",
     "text": [
      "Progress= 0.36\n"
     ]
    },
    {
     "name": "stderr",
     "output_type": "stream",
     "text": [
      "10:35:36 - OI2: INFO - Duplicated gene symbols in the prize file (we'll keep the max prize):\n",
      "10:35:36 - OI2: INFO - []\n",
      "10:35:36 - OI2: INFO - Members of the prize file not present in the interactome:\n",
      "10:35:36 - OI2: INFO - []\n"
     ]
    },
    {
     "name": "stdout",
     "output_type": "stream",
     "text": [
      "Progress= 0.37\n"
     ]
    },
    {
     "name": "stderr",
     "output_type": "stream",
     "text": [
      "10:35:38 - OI2: INFO - Duplicated gene symbols in the prize file (we'll keep the max prize):\n",
      "10:35:38 - OI2: INFO - []\n",
      "10:35:38 - OI2: INFO - Members of the prize file not present in the interactome:\n",
      "10:35:38 - OI2: INFO - []\n"
     ]
    },
    {
     "name": "stdout",
     "output_type": "stream",
     "text": [
      "Progress= 0.38\n"
     ]
    },
    {
     "name": "stderr",
     "output_type": "stream",
     "text": [
      "10:35:39 - OI2: INFO - Duplicated gene symbols in the prize file (we'll keep the max prize):\n",
      "10:35:39 - OI2: INFO - []\n",
      "10:35:39 - OI2: INFO - Members of the prize file not present in the interactome:\n",
      "10:35:39 - OI2: INFO - []\n"
     ]
    },
    {
     "name": "stdout",
     "output_type": "stream",
     "text": [
      "Progress= 0.39\n"
     ]
    },
    {
     "name": "stderr",
     "output_type": "stream",
     "text": [
      "10:35:40 - OI2: INFO - Duplicated gene symbols in the prize file (we'll keep the max prize):\n",
      "10:35:40 - OI2: INFO - []\n",
      "10:35:40 - OI2: INFO - Members of the prize file not present in the interactome:\n",
      "10:35:40 - OI2: INFO - []\n"
     ]
    },
    {
     "name": "stdout",
     "output_type": "stream",
     "text": [
      "Progress= 0.4\n"
     ]
    },
    {
     "name": "stderr",
     "output_type": "stream",
     "text": [
      "10:35:42 - OI2: INFO - Duplicated gene symbols in the prize file (we'll keep the max prize):\n",
      "10:35:42 - OI2: INFO - []\n",
      "10:35:42 - OI2: INFO - Members of the prize file not present in the interactome:\n",
      "10:35:42 - OI2: INFO - []\n"
     ]
    },
    {
     "name": "stdout",
     "output_type": "stream",
     "text": [
      "Progress= 0.41\n"
     ]
    },
    {
     "name": "stderr",
     "output_type": "stream",
     "text": [
      "10:35:43 - OI2: INFO - Duplicated gene symbols in the prize file (we'll keep the max prize):\n",
      "10:35:43 - OI2: INFO - []\n",
      "10:35:43 - OI2: INFO - Members of the prize file not present in the interactome:\n",
      "10:35:43 - OI2: INFO - []\n"
     ]
    },
    {
     "name": "stdout",
     "output_type": "stream",
     "text": [
      "Progress= 0.42\n"
     ]
    },
    {
     "name": "stderr",
     "output_type": "stream",
     "text": [
      "10:35:44 - OI2: INFO - Duplicated gene symbols in the prize file (we'll keep the max prize):\n",
      "10:35:44 - OI2: INFO - []\n",
      "10:35:44 - OI2: INFO - Members of the prize file not present in the interactome:\n",
      "10:35:44 - OI2: INFO - []\n"
     ]
    },
    {
     "name": "stdout",
     "output_type": "stream",
     "text": [
      "Progress= 0.43\n"
     ]
    },
    {
     "name": "stderr",
     "output_type": "stream",
     "text": [
      "10:35:45 - OI2: INFO - Duplicated gene symbols in the prize file (we'll keep the max prize):\n",
      "10:35:45 - OI2: INFO - []\n",
      "10:35:45 - OI2: INFO - Members of the prize file not present in the interactome:\n",
      "10:35:45 - OI2: INFO - []\n"
     ]
    },
    {
     "name": "stdout",
     "output_type": "stream",
     "text": [
      "Progress= 0.44\n"
     ]
    },
    {
     "name": "stderr",
     "output_type": "stream",
     "text": [
      "10:35:47 - OI2: INFO - Duplicated gene symbols in the prize file (we'll keep the max prize):\n",
      "10:35:47 - OI2: INFO - []\n",
      "10:35:47 - OI2: INFO - Members of the prize file not present in the interactome:\n",
      "10:35:47 - OI2: INFO - []\n"
     ]
    },
    {
     "name": "stdout",
     "output_type": "stream",
     "text": [
      "Progress= 0.45\n"
     ]
    },
    {
     "name": "stderr",
     "output_type": "stream",
     "text": [
      "10:35:48 - OI2: INFO - Duplicated gene symbols in the prize file (we'll keep the max prize):\n",
      "10:35:48 - OI2: INFO - []\n",
      "10:35:48 - OI2: INFO - Members of the prize file not present in the interactome:\n",
      "10:35:48 - OI2: INFO - []\n"
     ]
    },
    {
     "name": "stdout",
     "output_type": "stream",
     "text": [
      "Progress= 0.46\n"
     ]
    },
    {
     "name": "stderr",
     "output_type": "stream",
     "text": [
      "10:35:49 - OI2: INFO - Duplicated gene symbols in the prize file (we'll keep the max prize):\n",
      "10:35:49 - OI2: INFO - []\n",
      "10:35:49 - OI2: INFO - Members of the prize file not present in the interactome:\n",
      "10:35:49 - OI2: INFO - []\n"
     ]
    },
    {
     "name": "stdout",
     "output_type": "stream",
     "text": [
      "Progress= 0.47\n"
     ]
    },
    {
     "name": "stderr",
     "output_type": "stream",
     "text": [
      "10:35:51 - OI2: INFO - Duplicated gene symbols in the prize file (we'll keep the max prize):\n",
      "10:35:51 - OI2: INFO - []\n",
      "10:35:51 - OI2: INFO - Members of the prize file not present in the interactome:\n",
      "10:35:51 - OI2: INFO - []\n"
     ]
    },
    {
     "name": "stdout",
     "output_type": "stream",
     "text": [
      "Progress= 0.48\n"
     ]
    },
    {
     "name": "stderr",
     "output_type": "stream",
     "text": [
      "10:35:52 - OI2: INFO - Duplicated gene symbols in the prize file (we'll keep the max prize):\n",
      "10:35:52 - OI2: INFO - []\n",
      "10:35:52 - OI2: INFO - Members of the prize file not present in the interactome:\n",
      "10:35:52 - OI2: INFO - []\n"
     ]
    },
    {
     "name": "stdout",
     "output_type": "stream",
     "text": [
      "Progress= 0.49\n"
     ]
    },
    {
     "name": "stderr",
     "output_type": "stream",
     "text": [
      "10:35:53 - OI2: INFO - Duplicated gene symbols in the prize file (we'll keep the max prize):\n",
      "10:35:53 - OI2: INFO - []\n",
      "10:35:53 - OI2: INFO - Members of the prize file not present in the interactome:\n",
      "10:35:53 - OI2: INFO - []\n"
     ]
    },
    {
     "name": "stdout",
     "output_type": "stream",
     "text": [
      "Progress= 0.5\n"
     ]
    },
    {
     "name": "stderr",
     "output_type": "stream",
     "text": [
      "10:35:54 - OI2: INFO - Duplicated gene symbols in the prize file (we'll keep the max prize):\n",
      "10:35:54 - OI2: INFO - []\n",
      "10:35:54 - OI2: INFO - Members of the prize file not present in the interactome:\n",
      "10:35:54 - OI2: INFO - []\n"
     ]
    },
    {
     "name": "stdout",
     "output_type": "stream",
     "text": [
      "Progress= 0.51\n"
     ]
    },
    {
     "name": "stderr",
     "output_type": "stream",
     "text": [
      "10:35:56 - OI2: INFO - Duplicated gene symbols in the prize file (we'll keep the max prize):\n",
      "10:35:56 - OI2: INFO - []\n",
      "10:35:56 - OI2: INFO - Members of the prize file not present in the interactome:\n",
      "10:35:56 - OI2: INFO - []\n"
     ]
    },
    {
     "name": "stdout",
     "output_type": "stream",
     "text": [
      "Progress= 0.52\n"
     ]
    },
    {
     "name": "stderr",
     "output_type": "stream",
     "text": [
      "10:35:57 - OI2: INFO - Duplicated gene symbols in the prize file (we'll keep the max prize):\n",
      "10:35:57 - OI2: INFO - []\n",
      "10:35:57 - OI2: INFO - Members of the prize file not present in the interactome:\n",
      "10:35:57 - OI2: INFO - []\n"
     ]
    },
    {
     "name": "stdout",
     "output_type": "stream",
     "text": [
      "Progress= 0.53\n"
     ]
    },
    {
     "name": "stderr",
     "output_type": "stream",
     "text": [
      "10:35:58 - OI2: INFO - Duplicated gene symbols in the prize file (we'll keep the max prize):\n",
      "10:35:58 - OI2: INFO - []\n",
      "10:35:58 - OI2: INFO - Members of the prize file not present in the interactome:\n",
      "10:35:58 - OI2: INFO - []\n"
     ]
    },
    {
     "name": "stdout",
     "output_type": "stream",
     "text": [
      "Progress= 0.54\n"
     ]
    },
    {
     "name": "stderr",
     "output_type": "stream",
     "text": [
      "10:36:00 - OI2: INFO - Duplicated gene symbols in the prize file (we'll keep the max prize):\n",
      "10:36:00 - OI2: INFO - []\n",
      "10:36:00 - OI2: INFO - Members of the prize file not present in the interactome:\n",
      "10:36:00 - OI2: INFO - []\n"
     ]
    },
    {
     "name": "stdout",
     "output_type": "stream",
     "text": [
      "Progress= 0.55\n"
     ]
    },
    {
     "name": "stderr",
     "output_type": "stream",
     "text": [
      "10:36:01 - OI2: INFO - Duplicated gene symbols in the prize file (we'll keep the max prize):\n",
      "10:36:01 - OI2: INFO - []\n",
      "10:36:01 - OI2: INFO - Members of the prize file not present in the interactome:\n",
      "10:36:01 - OI2: INFO - []\n"
     ]
    },
    {
     "name": "stdout",
     "output_type": "stream",
     "text": [
      "Progress= 0.56\n"
     ]
    },
    {
     "name": "stderr",
     "output_type": "stream",
     "text": [
      "10:36:02 - OI2: INFO - Duplicated gene symbols in the prize file (we'll keep the max prize):\n",
      "10:36:02 - OI2: INFO - []\n",
      "10:36:02 - OI2: INFO - Members of the prize file not present in the interactome:\n",
      "10:36:02 - OI2: INFO - []\n"
     ]
    },
    {
     "name": "stdout",
     "output_type": "stream",
     "text": [
      "Progress= 0.57\n"
     ]
    },
    {
     "name": "stderr",
     "output_type": "stream",
     "text": [
      "10:36:04 - OI2: INFO - Duplicated gene symbols in the prize file (we'll keep the max prize):\n",
      "10:36:04 - OI2: INFO - []\n",
      "10:36:04 - OI2: INFO - Members of the prize file not present in the interactome:\n",
      "10:36:04 - OI2: INFO - []\n"
     ]
    },
    {
     "name": "stdout",
     "output_type": "stream",
     "text": [
      "Progress= 0.58\n"
     ]
    },
    {
     "name": "stderr",
     "output_type": "stream",
     "text": [
      "10:36:05 - OI2: INFO - Duplicated gene symbols in the prize file (we'll keep the max prize):\n",
      "10:36:05 - OI2: INFO - []\n",
      "10:36:05 - OI2: INFO - Members of the prize file not present in the interactome:\n",
      "10:36:05 - OI2: INFO - []\n"
     ]
    },
    {
     "name": "stdout",
     "output_type": "stream",
     "text": [
      "Progress= 0.59\n"
     ]
    },
    {
     "name": "stderr",
     "output_type": "stream",
     "text": [
      "10:36:06 - OI2: INFO - Duplicated gene symbols in the prize file (we'll keep the max prize):\n",
      "10:36:06 - OI2: INFO - []\n",
      "10:36:06 - OI2: INFO - Members of the prize file not present in the interactome:\n",
      "10:36:06 - OI2: INFO - []\n"
     ]
    },
    {
     "name": "stdout",
     "output_type": "stream",
     "text": [
      "Progress= 0.6\n"
     ]
    },
    {
     "name": "stderr",
     "output_type": "stream",
     "text": [
      "10:36:07 - OI2: INFO - Duplicated gene symbols in the prize file (we'll keep the max prize):\n",
      "10:36:07 - OI2: INFO - []\n",
      "10:36:07 - OI2: INFO - Members of the prize file not present in the interactome:\n",
      "10:36:07 - OI2: INFO - []\n"
     ]
    },
    {
     "name": "stdout",
     "output_type": "stream",
     "text": [
      "Progress= 0.61\n"
     ]
    },
    {
     "name": "stderr",
     "output_type": "stream",
     "text": [
      "10:36:09 - OI2: INFO - Duplicated gene symbols in the prize file (we'll keep the max prize):\n",
      "10:36:09 - OI2: INFO - []\n",
      "10:36:09 - OI2: INFO - Members of the prize file not present in the interactome:\n",
      "10:36:09 - OI2: INFO - []\n"
     ]
    },
    {
     "name": "stdout",
     "output_type": "stream",
     "text": [
      "Progress= 0.62\n"
     ]
    },
    {
     "name": "stderr",
     "output_type": "stream",
     "text": [
      "10:36:10 - OI2: INFO - Duplicated gene symbols in the prize file (we'll keep the max prize):\n",
      "10:36:10 - OI2: INFO - []\n",
      "10:36:10 - OI2: INFO - Members of the prize file not present in the interactome:\n",
      "10:36:10 - OI2: INFO - []\n"
     ]
    },
    {
     "name": "stdout",
     "output_type": "stream",
     "text": [
      "Progress= 0.63\n"
     ]
    },
    {
     "name": "stderr",
     "output_type": "stream",
     "text": [
      "10:36:11 - OI2: INFO - Duplicated gene symbols in the prize file (we'll keep the max prize):\n",
      "10:36:11 - OI2: INFO - []\n",
      "10:36:11 - OI2: INFO - Members of the prize file not present in the interactome:\n",
      "10:36:12 - OI2: INFO - []\n"
     ]
    },
    {
     "name": "stdout",
     "output_type": "stream",
     "text": [
      "Progress= 0.64\n"
     ]
    },
    {
     "name": "stderr",
     "output_type": "stream",
     "text": [
      "10:36:13 - OI2: INFO - Duplicated gene symbols in the prize file (we'll keep the max prize):\n",
      "10:36:13 - OI2: INFO - []\n",
      "10:36:13 - OI2: INFO - Members of the prize file not present in the interactome:\n",
      "10:36:13 - OI2: INFO - []\n"
     ]
    },
    {
     "name": "stdout",
     "output_type": "stream",
     "text": [
      "Progress= 0.65\n"
     ]
    },
    {
     "name": "stderr",
     "output_type": "stream",
     "text": [
      "10:36:14 - OI2: INFO - Duplicated gene symbols in the prize file (we'll keep the max prize):\n",
      "10:36:14 - OI2: INFO - []\n",
      "10:36:14 - OI2: INFO - Members of the prize file not present in the interactome:\n",
      "10:36:14 - OI2: INFO - []\n"
     ]
    },
    {
     "name": "stdout",
     "output_type": "stream",
     "text": [
      "Progress= 0.66\n"
     ]
    },
    {
     "name": "stderr",
     "output_type": "stream",
     "text": [
      "10:36:15 - OI2: INFO - Duplicated gene symbols in the prize file (we'll keep the max prize):\n",
      "10:36:15 - OI2: INFO - []\n",
      "10:36:15 - OI2: INFO - Members of the prize file not present in the interactome:\n",
      "10:36:15 - OI2: INFO - []\n"
     ]
    },
    {
     "name": "stdout",
     "output_type": "stream",
     "text": [
      "Progress= 0.67\n"
     ]
    },
    {
     "name": "stderr",
     "output_type": "stream",
     "text": [
      "10:36:17 - OI2: INFO - Duplicated gene symbols in the prize file (we'll keep the max prize):\n",
      "10:36:17 - OI2: INFO - []\n",
      "10:36:17 - OI2: INFO - Members of the prize file not present in the interactome:\n",
      "10:36:17 - OI2: INFO - []\n"
     ]
    },
    {
     "name": "stdout",
     "output_type": "stream",
     "text": [
      "Progress= 0.68\n"
     ]
    },
    {
     "name": "stderr",
     "output_type": "stream",
     "text": [
      "10:36:18 - OI2: INFO - Duplicated gene symbols in the prize file (we'll keep the max prize):\n",
      "10:36:18 - OI2: INFO - []\n",
      "10:36:18 - OI2: INFO - Members of the prize file not present in the interactome:\n",
      "10:36:18 - OI2: INFO - []\n"
     ]
    },
    {
     "name": "stdout",
     "output_type": "stream",
     "text": [
      "Progress= 0.69\n"
     ]
    },
    {
     "name": "stderr",
     "output_type": "stream",
     "text": [
      "10:36:19 - OI2: INFO - Duplicated gene symbols in the prize file (we'll keep the max prize):\n",
      "10:36:19 - OI2: INFO - []\n",
      "10:36:19 - OI2: INFO - Members of the prize file not present in the interactome:\n",
      "10:36:19 - OI2: INFO - []\n"
     ]
    },
    {
     "name": "stdout",
     "output_type": "stream",
     "text": [
      "Progress= 0.7\n"
     ]
    },
    {
     "name": "stderr",
     "output_type": "stream",
     "text": [
      "10:36:21 - OI2: INFO - Duplicated gene symbols in the prize file (we'll keep the max prize):\n",
      "10:36:21 - OI2: INFO - []\n",
      "10:36:21 - OI2: INFO - Members of the prize file not present in the interactome:\n",
      "10:36:21 - OI2: INFO - []\n"
     ]
    },
    {
     "name": "stdout",
     "output_type": "stream",
     "text": [
      "Progress= 0.71\n"
     ]
    },
    {
     "name": "stderr",
     "output_type": "stream",
     "text": [
      "10:36:22 - OI2: INFO - Duplicated gene symbols in the prize file (we'll keep the max prize):\n",
      "10:36:22 - OI2: INFO - []\n",
      "10:36:22 - OI2: INFO - Members of the prize file not present in the interactome:\n",
      "10:36:22 - OI2: INFO - []\n"
     ]
    },
    {
     "name": "stdout",
     "output_type": "stream",
     "text": [
      "Progress= 0.72\n"
     ]
    },
    {
     "name": "stderr",
     "output_type": "stream",
     "text": [
      "10:36:23 - OI2: INFO - Duplicated gene symbols in the prize file (we'll keep the max prize):\n",
      "10:36:23 - OI2: INFO - []\n",
      "10:36:23 - OI2: INFO - Members of the prize file not present in the interactome:\n",
      "10:36:23 - OI2: INFO - []\n"
     ]
    },
    {
     "name": "stdout",
     "output_type": "stream",
     "text": [
      "Progress= 0.73\n"
     ]
    },
    {
     "name": "stderr",
     "output_type": "stream",
     "text": [
      "10:36:25 - OI2: INFO - Duplicated gene symbols in the prize file (we'll keep the max prize):\n",
      "10:36:25 - OI2: INFO - []\n",
      "10:36:25 - OI2: INFO - Members of the prize file not present in the interactome:\n",
      "10:36:25 - OI2: INFO - []\n"
     ]
    },
    {
     "name": "stdout",
     "output_type": "stream",
     "text": [
      "Progress= 0.74\n"
     ]
    },
    {
     "name": "stderr",
     "output_type": "stream",
     "text": [
      "10:36:26 - OI2: INFO - Duplicated gene symbols in the prize file (we'll keep the max prize):\n",
      "10:36:26 - OI2: INFO - []\n",
      "10:36:26 - OI2: INFO - Members of the prize file not present in the interactome:\n",
      "10:36:26 - OI2: INFO - []\n"
     ]
    },
    {
     "name": "stdout",
     "output_type": "stream",
     "text": [
      "Progress= 0.75\n"
     ]
    },
    {
     "name": "stderr",
     "output_type": "stream",
     "text": [
      "10:36:27 - OI2: INFO - Duplicated gene symbols in the prize file (we'll keep the max prize):\n",
      "10:36:27 - OI2: INFO - []\n",
      "10:36:27 - OI2: INFO - Members of the prize file not present in the interactome:\n",
      "10:36:27 - OI2: INFO - []\n"
     ]
    },
    {
     "name": "stdout",
     "output_type": "stream",
     "text": [
      "Progress= 0.76\n"
     ]
    },
    {
     "name": "stderr",
     "output_type": "stream",
     "text": [
      "10:36:28 - OI2: INFO - Duplicated gene symbols in the prize file (we'll keep the max prize):\n",
      "10:36:28 - OI2: INFO - []\n",
      "10:36:28 - OI2: INFO - Members of the prize file not present in the interactome:\n",
      "10:36:28 - OI2: INFO - []\n"
     ]
    },
    {
     "name": "stdout",
     "output_type": "stream",
     "text": [
      "Progress= 0.77\n"
     ]
    },
    {
     "name": "stderr",
     "output_type": "stream",
     "text": [
      "10:36:30 - OI2: INFO - Duplicated gene symbols in the prize file (we'll keep the max prize):\n",
      "10:36:30 - OI2: INFO - []\n",
      "10:36:30 - OI2: INFO - Members of the prize file not present in the interactome:\n",
      "10:36:30 - OI2: INFO - []\n"
     ]
    },
    {
     "name": "stdout",
     "output_type": "stream",
     "text": [
      "Progress= 0.78\n"
     ]
    },
    {
     "name": "stderr",
     "output_type": "stream",
     "text": [
      "10:36:31 - OI2: INFO - Duplicated gene symbols in the prize file (we'll keep the max prize):\n",
      "10:36:31 - OI2: INFO - []\n",
      "10:36:31 - OI2: INFO - Members of the prize file not present in the interactome:\n",
      "10:36:31 - OI2: INFO - []\n"
     ]
    },
    {
     "name": "stdout",
     "output_type": "stream",
     "text": [
      "Progress= 0.79\n"
     ]
    },
    {
     "name": "stderr",
     "output_type": "stream",
     "text": [
      "10:36:32 - OI2: INFO - Duplicated gene symbols in the prize file (we'll keep the max prize):\n",
      "10:36:32 - OI2: INFO - []\n",
      "10:36:32 - OI2: INFO - Members of the prize file not present in the interactome:\n",
      "10:36:32 - OI2: INFO - []\n"
     ]
    },
    {
     "name": "stdout",
     "output_type": "stream",
     "text": [
      "Progress= 0.8\n"
     ]
    },
    {
     "name": "stderr",
     "output_type": "stream",
     "text": [
      "10:36:34 - OI2: INFO - Duplicated gene symbols in the prize file (we'll keep the max prize):\n",
      "10:36:34 - OI2: INFO - []\n",
      "10:36:34 - OI2: INFO - Members of the prize file not present in the interactome:\n",
      "10:36:34 - OI2: INFO - []\n"
     ]
    },
    {
     "name": "stdout",
     "output_type": "stream",
     "text": [
      "Progress= 0.81\n"
     ]
    },
    {
     "name": "stderr",
     "output_type": "stream",
     "text": [
      "10:36:35 - OI2: INFO - Duplicated gene symbols in the prize file (we'll keep the max prize):\n",
      "10:36:35 - OI2: INFO - []\n",
      "10:36:35 - OI2: INFO - Members of the prize file not present in the interactome:\n",
      "10:36:35 - OI2: INFO - []\n"
     ]
    },
    {
     "name": "stdout",
     "output_type": "stream",
     "text": [
      "Progress= 0.82\n"
     ]
    },
    {
     "name": "stderr",
     "output_type": "stream",
     "text": [
      "10:36:36 - OI2: INFO - Duplicated gene symbols in the prize file (we'll keep the max prize):\n",
      "10:36:36 - OI2: INFO - []\n",
      "10:36:36 - OI2: INFO - Members of the prize file not present in the interactome:\n",
      "10:36:36 - OI2: INFO - []\n"
     ]
    },
    {
     "name": "stdout",
     "output_type": "stream",
     "text": [
      "Progress= 0.83\n"
     ]
    },
    {
     "name": "stderr",
     "output_type": "stream",
     "text": [
      "10:36:38 - OI2: INFO - Duplicated gene symbols in the prize file (we'll keep the max prize):\n",
      "10:36:38 - OI2: INFO - []\n",
      "10:36:38 - OI2: INFO - Members of the prize file not present in the interactome:\n",
      "10:36:38 - OI2: INFO - []\n"
     ]
    },
    {
     "name": "stdout",
     "output_type": "stream",
     "text": [
      "Progress= 0.84\n"
     ]
    },
    {
     "name": "stderr",
     "output_type": "stream",
     "text": [
      "10:36:39 - OI2: INFO - Duplicated gene symbols in the prize file (we'll keep the max prize):\n",
      "10:36:39 - OI2: INFO - []\n",
      "10:36:39 - OI2: INFO - Members of the prize file not present in the interactome:\n",
      "10:36:39 - OI2: INFO - []\n"
     ]
    },
    {
     "name": "stdout",
     "output_type": "stream",
     "text": [
      "Progress= 0.85\n"
     ]
    },
    {
     "name": "stderr",
     "output_type": "stream",
     "text": [
      "10:36:40 - OI2: INFO - Duplicated gene symbols in the prize file (we'll keep the max prize):\n",
      "10:36:40 - OI2: INFO - []\n",
      "10:36:40 - OI2: INFO - Members of the prize file not present in the interactome:\n",
      "10:36:40 - OI2: INFO - []\n"
     ]
    },
    {
     "name": "stdout",
     "output_type": "stream",
     "text": [
      "Progress= 0.86\n"
     ]
    },
    {
     "name": "stderr",
     "output_type": "stream",
     "text": [
      "10:36:41 - OI2: INFO - Duplicated gene symbols in the prize file (we'll keep the max prize):\n",
      "10:36:41 - OI2: INFO - []\n",
      "10:36:41 - OI2: INFO - Members of the prize file not present in the interactome:\n",
      "10:36:41 - OI2: INFO - []\n"
     ]
    },
    {
     "name": "stdout",
     "output_type": "stream",
     "text": [
      "Progress= 0.87\n"
     ]
    },
    {
     "name": "stderr",
     "output_type": "stream",
     "text": [
      "10:36:43 - OI2: INFO - Duplicated gene symbols in the prize file (we'll keep the max prize):\n",
      "10:36:43 - OI2: INFO - []\n",
      "10:36:43 - OI2: INFO - Members of the prize file not present in the interactome:\n",
      "10:36:43 - OI2: INFO - []\n"
     ]
    },
    {
     "name": "stdout",
     "output_type": "stream",
     "text": [
      "Progress= 0.88\n"
     ]
    },
    {
     "name": "stderr",
     "output_type": "stream",
     "text": [
      "10:36:44 - OI2: INFO - Duplicated gene symbols in the prize file (we'll keep the max prize):\n",
      "10:36:44 - OI2: INFO - []\n",
      "10:36:44 - OI2: INFO - Members of the prize file not present in the interactome:\n",
      "10:36:44 - OI2: INFO - []\n"
     ]
    },
    {
     "name": "stdout",
     "output_type": "stream",
     "text": [
      "Progress= 0.89\n"
     ]
    },
    {
     "name": "stderr",
     "output_type": "stream",
     "text": [
      "10:36:45 - OI2: INFO - Duplicated gene symbols in the prize file (we'll keep the max prize):\n",
      "10:36:45 - OI2: INFO - []\n",
      "10:36:45 - OI2: INFO - Members of the prize file not present in the interactome:\n",
      "10:36:45 - OI2: INFO - []\n"
     ]
    },
    {
     "name": "stdout",
     "output_type": "stream",
     "text": [
      "Progress= 0.9\n"
     ]
    },
    {
     "name": "stderr",
     "output_type": "stream",
     "text": [
      "10:36:47 - OI2: INFO - Duplicated gene symbols in the prize file (we'll keep the max prize):\n",
      "10:36:47 - OI2: INFO - []\n",
      "10:36:47 - OI2: INFO - Members of the prize file not present in the interactome:\n",
      "10:36:47 - OI2: INFO - []\n"
     ]
    },
    {
     "name": "stdout",
     "output_type": "stream",
     "text": [
      "Progress= 0.91\n"
     ]
    },
    {
     "name": "stderr",
     "output_type": "stream",
     "text": [
      "10:36:48 - OI2: INFO - Duplicated gene symbols in the prize file (we'll keep the max prize):\n",
      "10:36:48 - OI2: INFO - []\n",
      "10:36:48 - OI2: INFO - Members of the prize file not present in the interactome:\n",
      "10:36:48 - OI2: INFO - []\n"
     ]
    },
    {
     "name": "stdout",
     "output_type": "stream",
     "text": [
      "Progress= 0.92\n"
     ]
    },
    {
     "name": "stderr",
     "output_type": "stream",
     "text": [
      "10:36:49 - OI2: INFO - Duplicated gene symbols in the prize file (we'll keep the max prize):\n",
      "10:36:49 - OI2: INFO - []\n",
      "10:36:49 - OI2: INFO - Members of the prize file not present in the interactome:\n",
      "10:36:49 - OI2: INFO - []\n"
     ]
    },
    {
     "name": "stdout",
     "output_type": "stream",
     "text": [
      "Progress= 0.93\n"
     ]
    },
    {
     "name": "stderr",
     "output_type": "stream",
     "text": [
      "10:36:50 - OI2: INFO - Duplicated gene symbols in the prize file (we'll keep the max prize):\n",
      "10:36:50 - OI2: INFO - []\n",
      "10:36:50 - OI2: INFO - Members of the prize file not present in the interactome:\n",
      "10:36:50 - OI2: INFO - []\n"
     ]
    },
    {
     "name": "stdout",
     "output_type": "stream",
     "text": [
      "Progress= 0.94\n"
     ]
    },
    {
     "name": "stderr",
     "output_type": "stream",
     "text": [
      "10:36:52 - OI2: INFO - Duplicated gene symbols in the prize file (we'll keep the max prize):\n",
      "10:36:52 - OI2: INFO - []\n",
      "10:36:52 - OI2: INFO - Members of the prize file not present in the interactome:\n",
      "10:36:52 - OI2: INFO - []\n"
     ]
    },
    {
     "name": "stdout",
     "output_type": "stream",
     "text": [
      "Progress= 0.95\n"
     ]
    },
    {
     "name": "stderr",
     "output_type": "stream",
     "text": [
      "10:36:53 - OI2: INFO - Duplicated gene symbols in the prize file (we'll keep the max prize):\n",
      "10:36:53 - OI2: INFO - []\n",
      "10:36:53 - OI2: INFO - Members of the prize file not present in the interactome:\n",
      "10:36:53 - OI2: INFO - []\n"
     ]
    },
    {
     "name": "stdout",
     "output_type": "stream",
     "text": [
      "Progress= 0.96\n"
     ]
    },
    {
     "name": "stderr",
     "output_type": "stream",
     "text": [
      "10:36:54 - OI2: INFO - Duplicated gene symbols in the prize file (we'll keep the max prize):\n",
      "10:36:54 - OI2: INFO - []\n",
      "10:36:54 - OI2: INFO - Members of the prize file not present in the interactome:\n",
      "10:36:54 - OI2: INFO - []\n"
     ]
    },
    {
     "name": "stdout",
     "output_type": "stream",
     "text": [
      "Progress= 0.97\n"
     ]
    },
    {
     "name": "stderr",
     "output_type": "stream",
     "text": [
      "10:36:56 - OI2: INFO - Duplicated gene symbols in the prize file (we'll keep the max prize):\n",
      "10:36:56 - OI2: INFO - []\n",
      "10:36:56 - OI2: INFO - Members of the prize file not present in the interactome:\n",
      "10:36:56 - OI2: INFO - []\n"
     ]
    },
    {
     "name": "stdout",
     "output_type": "stream",
     "text": [
      "Progress= 0.98\n"
     ]
    },
    {
     "name": "stderr",
     "output_type": "stream",
     "text": [
      "10:36:57 - OI2: INFO - Duplicated gene symbols in the prize file (we'll keep the max prize):\n",
      "10:36:57 - OI2: INFO - []\n",
      "10:36:57 - OI2: INFO - Members of the prize file not present in the interactome:\n",
      "10:36:57 - OI2: INFO - []\n"
     ]
    },
    {
     "name": "stdout",
     "output_type": "stream",
     "text": [
      "Progress= 0.99\n"
     ]
    },
    {
     "name": "stderr",
     "output_type": "stream",
     "text": [
      "10:36:58 - OI2: INFO - Duplicated gene symbols in the prize file (we'll keep the max prize):\n",
      "10:36:58 - OI2: INFO - []\n",
      "10:36:58 - OI2: INFO - Members of the prize file not present in the interactome:\n",
      "10:36:58 - OI2: INFO - []\n"
     ]
    },
    {
     "name": "stdout",
     "output_type": "stream",
     "text": [
      "Progress= 1.0\n"
     ]
    }
   ],
   "source": [
    "# Run sensitivity analysis\n",
    "networks_dict = sensitivity.run_sensitivity_analysis(interactome_file_name, \n",
    "                                                     prize_file_name, \n",
    "                                                     graph_params, \n",
    "                                                     W_list, \n",
    "                                                     B_list, \n",
    "                                                     G=0)"
   ]
  },
  {
   "cell_type": "code",
   "execution_count": 56,
   "metadata": {},
   "outputs": [],
   "source": [
    "# Save as pickle\n",
    "with open(\"../Save_RandomizePPI/networks_dict.pkl\", \"wb\") as f: \n",
    "    pickle.dump(networks_dict, f)"
   ]
  },
  {
   "cell_type": "code",
   "execution_count": 16,
   "metadata": {},
   "outputs": [],
   "source": [
    "# Add metatadata\n",
    "networks_dict = pickle.load(open(\"../Save_RandomizePPI/networks_dict.pkl\", \"rb\"))\n",
    "networks_dict = sensitivity.add_metadata(networks_dict, virus_interacting_genes)"
   ]
  },
  {
   "cell_type": "code",
   "execution_count": 17,
   "metadata": {},
   "outputs": [
    {
     "data": {
      "text/html": [
       "<div>\n",
       "<style scoped>\n",
       "    .dataframe tbody tr th:only-of-type {\n",
       "        vertical-align: middle;\n",
       "    }\n",
       "\n",
       "    .dataframe tbody tr th {\n",
       "        vertical-align: top;\n",
       "    }\n",
       "\n",
       "    .dataframe thead th {\n",
       "        text-align: right;\n",
       "    }\n",
       "</style>\n",
       "<table border=\"1\" class=\"dataframe\">\n",
       "  <thead>\n",
       "    <tr style=\"text-align: right;\">\n",
       "      <th></th>\n",
       "      <th>index</th>\n",
       "      <th>w</th>\n",
       "      <th>b</th>\n",
       "      <th>g</th>\n",
       "      <th>nodes</th>\n",
       "      <th>edges</th>\n",
       "      <th>number_components</th>\n",
       "      <th>size_components</th>\n",
       "      <th>percentage_terminals</th>\n",
       "      <th>upregulated_terminals</th>\n",
       "      <th>downregulated_terminals</th>\n",
       "      <th>number_transcription_regulators</th>\n",
       "      <th>transcription_regulators</th>\n",
       "      <th>number_of_proteins_interacting_sars</th>\n",
       "      <th>proteins_interacting_sars</th>\n",
       "    </tr>\n",
       "  </thead>\n",
       "  <tbody>\n",
       "    <tr>\n",
       "      <th>w_0.2_b_10.0</th>\n",
       "      <td>1</td>\n",
       "      <td>0.2</td>\n",
       "      <td>10.0</td>\n",
       "      <td>0</td>\n",
       "      <td>198</td>\n",
       "      <td>296</td>\n",
       "      <td>72</td>\n",
       "      <td>[127, 1, 1, 1, 1, 1, 1, 1, 1, 1, 1, 1, 1, 1, 1...</td>\n",
       "      <td>1.0</td>\n",
       "      <td>75</td>\n",
       "      <td>87</td>\n",
       "      <td>6</td>\n",
       "      <td>[CREB5, ETV6, HOXB3, IRF2, MEOX2, TSC22D2]</td>\n",
       "      <td>3</td>\n",
       "      <td>[EXOSC5, FOXRED2, LOX]</td>\n",
       "    </tr>\n",
       "    <tr>\n",
       "      <th>w_0.2_b_15.0</th>\n",
       "      <td>2</td>\n",
       "      <td>0.2</td>\n",
       "      <td>15.0</td>\n",
       "      <td>0</td>\n",
       "      <td>198</td>\n",
       "      <td>296</td>\n",
       "      <td>72</td>\n",
       "      <td>[127, 1, 1, 1, 1, 1, 1, 1, 1, 1, 1, 1, 1, 1, 1...</td>\n",
       "      <td>1.0</td>\n",
       "      <td>75</td>\n",
       "      <td>87</td>\n",
       "      <td>6</td>\n",
       "      <td>[CREB5, ETV6, HOXB3, IRF2, MEOX2, TSC22D2]</td>\n",
       "      <td>3</td>\n",
       "      <td>[EXOSC5, FOXRED2, LOX]</td>\n",
       "    </tr>\n",
       "    <tr>\n",
       "      <th>w_0.2_b_20.0</th>\n",
       "      <td>3</td>\n",
       "      <td>0.2</td>\n",
       "      <td>20.0</td>\n",
       "      <td>0</td>\n",
       "      <td>198</td>\n",
       "      <td>296</td>\n",
       "      <td>72</td>\n",
       "      <td>[127, 1, 1, 1, 1, 1, 1, 1, 1, 1, 1, 1, 1, 1, 1...</td>\n",
       "      <td>1.0</td>\n",
       "      <td>75</td>\n",
       "      <td>87</td>\n",
       "      <td>6</td>\n",
       "      <td>[CREB5, ETV6, HOXB3, IRF2, MEOX2, TSC22D2]</td>\n",
       "      <td>3</td>\n",
       "      <td>[EXOSC5, FOXRED2, LOX]</td>\n",
       "    </tr>\n",
       "    <tr>\n",
       "      <th>w_0.2_b_25.0</th>\n",
       "      <td>4</td>\n",
       "      <td>0.2</td>\n",
       "      <td>25.0</td>\n",
       "      <td>0</td>\n",
       "      <td>198</td>\n",
       "      <td>296</td>\n",
       "      <td>72</td>\n",
       "      <td>[127, 1, 1, 1, 1, 1, 1, 1, 1, 1, 1, 1, 1, 1, 1...</td>\n",
       "      <td>1.0</td>\n",
       "      <td>75</td>\n",
       "      <td>87</td>\n",
       "      <td>6</td>\n",
       "      <td>[CREB5, ETV6, HOXB3, IRF2, MEOX2, TSC22D2]</td>\n",
       "      <td>3</td>\n",
       "      <td>[EXOSC5, FOXRED2, LOX]</td>\n",
       "    </tr>\n",
       "    <tr>\n",
       "      <th>w_0.2_b_30.0</th>\n",
       "      <td>5</td>\n",
       "      <td>0.2</td>\n",
       "      <td>30.0</td>\n",
       "      <td>0</td>\n",
       "      <td>198</td>\n",
       "      <td>296</td>\n",
       "      <td>72</td>\n",
       "      <td>[127, 1, 1, 1, 1, 1, 1, 1, 1, 1, 1, 1, 1, 1, 1...</td>\n",
       "      <td>1.0</td>\n",
       "      <td>75</td>\n",
       "      <td>87</td>\n",
       "      <td>6</td>\n",
       "      <td>[CREB5, ETV6, HOXB3, IRF2, MEOX2, TSC22D2]</td>\n",
       "      <td>3</td>\n",
       "      <td>[EXOSC5, FOXRED2, LOX]</td>\n",
       "    </tr>\n",
       "  </tbody>\n",
       "</table>\n",
       "</div>"
      ],
      "text/plain": [
       "              index    w     b  g  nodes  edges  number_components  \\\n",
       "w_0.2_b_10.0      1  0.2  10.0  0    198    296                 72   \n",
       "w_0.2_b_15.0      2  0.2  15.0  0    198    296                 72   \n",
       "w_0.2_b_20.0      3  0.2  20.0  0    198    296                 72   \n",
       "w_0.2_b_25.0      4  0.2  25.0  0    198    296                 72   \n",
       "w_0.2_b_30.0      5  0.2  30.0  0    198    296                 72   \n",
       "\n",
       "                                                size_components  \\\n",
       "w_0.2_b_10.0  [127, 1, 1, 1, 1, 1, 1, 1, 1, 1, 1, 1, 1, 1, 1...   \n",
       "w_0.2_b_15.0  [127, 1, 1, 1, 1, 1, 1, 1, 1, 1, 1, 1, 1, 1, 1...   \n",
       "w_0.2_b_20.0  [127, 1, 1, 1, 1, 1, 1, 1, 1, 1, 1, 1, 1, 1, 1...   \n",
       "w_0.2_b_25.0  [127, 1, 1, 1, 1, 1, 1, 1, 1, 1, 1, 1, 1, 1, 1...   \n",
       "w_0.2_b_30.0  [127, 1, 1, 1, 1, 1, 1, 1, 1, 1, 1, 1, 1, 1, 1...   \n",
       "\n",
       "              percentage_terminals  upregulated_terminals  \\\n",
       "w_0.2_b_10.0                   1.0                     75   \n",
       "w_0.2_b_15.0                   1.0                     75   \n",
       "w_0.2_b_20.0                   1.0                     75   \n",
       "w_0.2_b_25.0                   1.0                     75   \n",
       "w_0.2_b_30.0                   1.0                     75   \n",
       "\n",
       "              downregulated_terminals  number_transcription_regulators  \\\n",
       "w_0.2_b_10.0                       87                                6   \n",
       "w_0.2_b_15.0                       87                                6   \n",
       "w_0.2_b_20.0                       87                                6   \n",
       "w_0.2_b_25.0                       87                                6   \n",
       "w_0.2_b_30.0                       87                                6   \n",
       "\n",
       "                                transcription_regulators  \\\n",
       "w_0.2_b_10.0  [CREB5, ETV6, HOXB3, IRF2, MEOX2, TSC22D2]   \n",
       "w_0.2_b_15.0  [CREB5, ETV6, HOXB3, IRF2, MEOX2, TSC22D2]   \n",
       "w_0.2_b_20.0  [CREB5, ETV6, HOXB3, IRF2, MEOX2, TSC22D2]   \n",
       "w_0.2_b_25.0  [CREB5, ETV6, HOXB3, IRF2, MEOX2, TSC22D2]   \n",
       "w_0.2_b_30.0  [CREB5, ETV6, HOXB3, IRF2, MEOX2, TSC22D2]   \n",
       "\n",
       "              number_of_proteins_interacting_sars proteins_interacting_sars  \n",
       "w_0.2_b_10.0                                    3    [EXOSC5, FOXRED2, LOX]  \n",
       "w_0.2_b_15.0                                    3    [EXOSC5, FOXRED2, LOX]  \n",
       "w_0.2_b_20.0                                    3    [EXOSC5, FOXRED2, LOX]  \n",
       "w_0.2_b_25.0                                    3    [EXOSC5, FOXRED2, LOX]  \n",
       "w_0.2_b_30.0                                    3    [EXOSC5, FOXRED2, LOX]  "
      ]
     },
     "execution_count": 17,
     "metadata": {},
     "output_type": "execute_result"
    }
   ],
   "source": [
    "# Make summary\n",
    "networks_summary_df = sensitivity.make_summary(networks_dict, n_terminals, g=0)\n",
    "networks_summary_df.head()"
   ]
  },
  {
   "cell_type": "markdown",
   "metadata": {},
   "source": [
    "## Plot node stability heatmaps"
   ]
  },
  {
   "cell_type": "code",
   "execution_count": 18,
   "metadata": {},
   "outputs": [
    {
     "data": {
      "text/plain": [
       "<Figure size 432x288 with 0 Axes>"
      ]
     },
     "metadata": {},
     "output_type": "display_data"
    },
    {
     "data": {
      "image/png": "[encoded data removed]",
      "text/plain": [
       "<Figure size 288x288 with 2 Axes>"
      ]
     },
     "metadata": {
      "needs_background": "light"
     },
     "output_type": "display_data"
    }
   ],
   "source": [
    "# Stability of selected nodes\n",
    "mat_allnodes = sensitivity.create_matrix_gene_overlap_between_networks(networks_summary_df, networks_dict)\n",
    "plt.figure()\n",
    "plt.matshow(mat_allnodes)\n",
    "plt.xlabel('networks')\n",
    "plt.ylabel('networks')\n",
    "plt.title('Nodes stability')\n",
    "plt.colorbar()\n",
    "plt.show()"
   ]
  },
  {
   "cell_type": "code",
   "execution_count": 19,
   "metadata": {},
   "outputs": [
    {
     "data": {
      "text/plain": [
       "<Figure size 432x288 with 0 Axes>"
      ]
     },
     "metadata": {},
     "output_type": "display_data"
    },
    {
     "data": {
      "image/png": "[encoded data removed]",
      "text/plain": [
       "<Figure size 288x288 with 2 Axes>"
      ]
     },
     "metadata": {
      "needs_background": "light"
     },
     "output_type": "display_data"
    }
   ],
   "source": [
    "# Stability of selected terminals\n",
    "mat_terminals = sensitivity.create_matrix_terminal_overlap_between_networks(networks_summary_df, networks_dict)\n",
    "plt.figure()\n",
    "plt.matshow(mat_terminals)\n",
    "plt.xlabel('networks')\n",
    "plt.ylabel('networks')\n",
    "plt.title('Terminals stability')\n",
    "plt.colorbar()\n",
    "plt.show()"
   ]
  },
  {
   "cell_type": "code",
   "execution_count": 20,
   "metadata": {},
   "outputs": [
    {
     "data": {
      "text/plain": [
       "<Figure size 432x288 with 0 Axes>"
      ]
     },
     "metadata": {},
     "output_type": "display_data"
    },
    {
     "data": {
      "image/png": "[encoded data removed]",
      "text/plain": [
       "<Figure size 288x288 with 2 Axes>"
      ]
     },
     "metadata": {
      "needs_background": "light"
     },
     "output_type": "display_data"
    }
   ],
   "source": [
    "# Stability of selected SARS-Cov-2 partners\n",
    "mat_sars = sensitivity.create_matrix_sars_overlap_between_networks(networks_summary_df, networks_dict)\n",
    "plt.figure()\n",
    "plt.matshow(mat_sars)\n",
    "plt.xlabel('networks')\n",
    "plt.ylabel('networks')\n",
    "plt.title('SARS-Cov-2 partners stability')\n",
    "plt.colorbar()\n",
    "plt.show()"
   ]
  },
  {
   "cell_type": "markdown",
   "metadata": {},
   "source": [
    "## Select robust parameters"
   ]
  },
  {
   "cell_type": "code",
   "execution_count": 19,
   "metadata": {},
   "outputs": [],
   "source": [
    "# Select network corresponding to g=0, w=1.4 and b=40\n",
    "index_selected = 67\n",
    "paramstring_selected = networks_summary_df[networks_summary_df['index']==index_selected].index[0]\n",
    "network_selected = networks_dict[paramstring_selected]"
   ]
  },
  {
   "cell_type": "code",
   "execution_count": 20,
   "metadata": {},
   "outputs": [
    {
     "data": {
      "text/plain": [
       "PosixPath('/home/louiscam/projects/sars_cov_2/Save_RandomizePPI/network_selected.pickle')"
      ]
     },
     "execution_count": 20,
     "metadata": {},
     "output_type": "execute_result"
    }
   ],
   "source": [
    "# Save selected network to file\n",
    "oi.output_networkx_graph_as_interactive_html(network_selected, filename=\"../Save_RandomizePPI/network_selected.html\")\n",
    "oi.output_networkx_graph_as_pickle(network_selected, filename= '../Save_RandomizePPI/network_selected.pickle')\n",
    "#oi.output_networkx_graph_as_graphml_for_cytoscape(robust_network, filename= '../Save_RandomizePPI/network_selected.graphml')"
   ]
  },
  {
   "cell_type": "markdown",
   "metadata": {},
   "source": [
    "# Sensitivity analysis for virus partners prize"
   ]
  },
  {
   "cell_type": "markdown",
   "metadata": {},
   "source": [
    "## Run sensitivity analysis"
   ]
  },
  {
   "cell_type": "code",
   "execution_count": 64,
   "metadata": {},
   "outputs": [
    {
     "name": "stdout",
     "output_type": "stream",
     "text": [
      "{'EXOSC5', 'FOXRED2', 'LOX'}\n"
     ]
    }
   ],
   "source": [
    "# Identify which SARS-Cov-2 partners are in the terminal list\n",
    "terminal_partners = set(terminals).intersection(virus_interacting_genes)\n",
    "print(terminal_partners)"
   ]
  },
  {
   "cell_type": "code",
   "execution_count": 65,
   "metadata": {
    "scrolled": true
   },
   "outputs": [
    {
     "name": "stderr",
     "output_type": "stream",
     "text": [
      "10:40:04 - OI2: INFO - Duplicated gene symbols in the prize file (we'll keep the max prize):\n",
      "10:40:04 - OI2: INFO - []\n",
      "10:40:04 - OI2: INFO - Members of the prize file not present in the interactome:\n",
      "10:40:04 - OI2: INFO - ['ATP5MG', 'CEP43', 'COQ8B', 'ELOB', 'ELOC', 'ERO1B', 'HS2ST1', 'HS6ST2', 'MTARC1', 'NARS2', 'NSD2', 'NUP58', 'POGLUT2', 'POGLUT3', 'RETREG3', 'SELENOS', 'SPART', 'TIMM29', 'TLE5', 'TOMM70', 'WASHC4']\n"
     ]
    },
    {
     "name": "stdout",
     "output_type": "stream",
     "text": [
      "Progress= 0.0625\n"
     ]
    },
    {
     "name": "stderr",
     "output_type": "stream",
     "text": [
      "10:40:06 - OI2: INFO - Duplicated gene symbols in the prize file (we'll keep the max prize):\n",
      "10:40:06 - OI2: INFO - []\n",
      "10:40:06 - OI2: INFO - Members of the prize file not present in the interactome:\n",
      "10:40:06 - OI2: INFO - ['ATP5MG', 'CEP43', 'COQ8B', 'ELOB', 'ELOC', 'ERO1B', 'HS2ST1', 'HS6ST2', 'MTARC1', 'NARS2', 'NSD2', 'NUP58', 'POGLUT2', 'POGLUT3', 'RETREG3', 'SELENOS', 'SPART', 'TIMM29', 'TLE5', 'TOMM70', 'WASHC4']\n"
     ]
    },
    {
     "name": "stdout",
     "output_type": "stream",
     "text": [
      "Progress= 0.125\n"
     ]
    },
    {
     "name": "stderr",
     "output_type": "stream",
     "text": [
      "10:40:08 - OI2: INFO - Duplicated gene symbols in the prize file (we'll keep the max prize):\n",
      "10:40:08 - OI2: INFO - []\n",
      "10:40:08 - OI2: INFO - Members of the prize file not present in the interactome:\n",
      "10:40:08 - OI2: INFO - ['ATP5MG', 'CEP43', 'COQ8B', 'ELOB', 'ELOC', 'ERO1B', 'HS2ST1', 'HS6ST2', 'MTARC1', 'NARS2', 'NSD2', 'NUP58', 'POGLUT2', 'POGLUT3', 'RETREG3', 'SELENOS', 'SPART', 'TIMM29', 'TLE5', 'TOMM70', 'WASHC4']\n"
     ]
    },
    {
     "name": "stdout",
     "output_type": "stream",
     "text": [
      "Progress= 0.1875\n"
     ]
    },
    {
     "name": "stderr",
     "output_type": "stream",
     "text": [
      "10:40:10 - OI2: INFO - Duplicated gene symbols in the prize file (we'll keep the max prize):\n",
      "10:40:10 - OI2: INFO - []\n",
      "10:40:10 - OI2: INFO - Members of the prize file not present in the interactome:\n",
      "10:40:10 - OI2: INFO - ['ATP5MG', 'CEP43', 'COQ8B', 'ELOB', 'ELOC', 'ERO1B', 'HS2ST1', 'HS6ST2', 'MTARC1', 'NARS2', 'NSD2', 'NUP58', 'POGLUT2', 'POGLUT3', 'RETREG3', 'SELENOS', 'SPART', 'TIMM29', 'TLE5', 'TOMM70', 'WASHC4']\n"
     ]
    },
    {
     "name": "stdout",
     "output_type": "stream",
     "text": [
      "Progress= 0.25\n"
     ]
    },
    {
     "name": "stderr",
     "output_type": "stream",
     "text": [
      "10:40:11 - OI2: INFO - Duplicated gene symbols in the prize file (we'll keep the max prize):\n",
      "10:40:11 - OI2: INFO - []\n",
      "10:40:11 - OI2: INFO - Members of the prize file not present in the interactome:\n",
      "10:40:11 - OI2: INFO - ['ATP5MG', 'CEP43', 'COQ8B', 'ELOB', 'ELOC', 'ERO1B', 'HS2ST1', 'HS6ST2', 'MTARC1', 'NARS2', 'NSD2', 'NUP58', 'POGLUT2', 'POGLUT3', 'RETREG3', 'SELENOS', 'SPART', 'TIMM29', 'TLE5', 'TOMM70', 'WASHC4']\n"
     ]
    },
    {
     "name": "stdout",
     "output_type": "stream",
     "text": [
      "Progress= 0.3125\n"
     ]
    },
    {
     "name": "stderr",
     "output_type": "stream",
     "text": [
      "10:40:13 - OI2: INFO - Duplicated gene symbols in the prize file (we'll keep the max prize):\n",
      "10:40:13 - OI2: INFO - []\n",
      "10:40:13 - OI2: INFO - Members of the prize file not present in the interactome:\n",
      "10:40:13 - OI2: INFO - ['ATP5MG', 'CEP43', 'COQ8B', 'ELOB', 'ELOC', 'ERO1B', 'HS2ST1', 'HS6ST2', 'MTARC1', 'NARS2', 'NSD2', 'NUP58', 'POGLUT2', 'POGLUT3', 'RETREG3', 'SELENOS', 'SPART', 'TIMM29', 'TLE5', 'TOMM70', 'WASHC4']\n"
     ]
    },
    {
     "name": "stdout",
     "output_type": "stream",
     "text": [
      "Progress= 0.375\n"
     ]
    },
    {
     "name": "stderr",
     "output_type": "stream",
     "text": [
      "10:40:15 - OI2: INFO - Duplicated gene symbols in the prize file (we'll keep the max prize):\n",
      "10:40:15 - OI2: INFO - []\n",
      "10:40:15 - OI2: INFO - Members of the prize file not present in the interactome:\n",
      "10:40:15 - OI2: INFO - ['ATP5MG', 'CEP43', 'COQ8B', 'ELOB', 'ELOC', 'ERO1B', 'HS2ST1', 'HS6ST2', 'MTARC1', 'NARS2', 'NSD2', 'NUP58', 'POGLUT2', 'POGLUT3', 'RETREG3', 'SELENOS', 'SPART', 'TIMM29', 'TLE5', 'TOMM70', 'WASHC4']\n"
     ]
    },
    {
     "name": "stdout",
     "output_type": "stream",
     "text": [
      "Progress= 0.4375\n"
     ]
    },
    {
     "name": "stderr",
     "output_type": "stream",
     "text": [
      "10:40:17 - OI2: INFO - Duplicated gene symbols in the prize file (we'll keep the max prize):\n",
      "10:40:17 - OI2: INFO - []\n",
      "10:40:17 - OI2: INFO - Members of the prize file not present in the interactome:\n",
      "10:40:17 - OI2: INFO - ['ATP5MG', 'CEP43', 'COQ8B', 'ELOB', 'ELOC', 'ERO1B', 'HS2ST1', 'HS6ST2', 'MTARC1', 'NARS2', 'NSD2', 'NUP58', 'POGLUT2', 'POGLUT3', 'RETREG3', 'SELENOS', 'SPART', 'TIMM29', 'TLE5', 'TOMM70', 'WASHC4']\n"
     ]
    },
    {
     "name": "stdout",
     "output_type": "stream",
     "text": [
      "Progress= 0.5\n"
     ]
    },
    {
     "name": "stderr",
     "output_type": "stream",
     "text": [
      "10:40:19 - OI2: INFO - Duplicated gene symbols in the prize file (we'll keep the max prize):\n",
      "10:40:19 - OI2: INFO - []\n",
      "10:40:19 - OI2: INFO - Members of the prize file not present in the interactome:\n",
      "10:40:19 - OI2: INFO - ['ATP5MG', 'CEP43', 'COQ8B', 'ELOB', 'ELOC', 'ERO1B', 'HS2ST1', 'HS6ST2', 'MTARC1', 'NARS2', 'NSD2', 'NUP58', 'POGLUT2', 'POGLUT3', 'RETREG3', 'SELENOS', 'SPART', 'TIMM29', 'TLE5', 'TOMM70', 'WASHC4']\n"
     ]
    },
    {
     "name": "stdout",
     "output_type": "stream",
     "text": [
      "Progress= 0.5625\n"
     ]
    },
    {
     "name": "stderr",
     "output_type": "stream",
     "text": [
      "10:40:20 - OI2: INFO - Duplicated gene symbols in the prize file (we'll keep the max prize):\n",
      "10:40:20 - OI2: INFO - []\n",
      "10:40:20 - OI2: INFO - Members of the prize file not present in the interactome:\n",
      "10:40:20 - OI2: INFO - ['ATP5MG', 'CEP43', 'COQ8B', 'ELOB', 'ELOC', 'ERO1B', 'HS2ST1', 'HS6ST2', 'MTARC1', 'NARS2', 'NSD2', 'NUP58', 'POGLUT2', 'POGLUT3', 'RETREG3', 'SELENOS', 'SPART', 'TIMM29', 'TLE5', 'TOMM70', 'WASHC4']\n"
     ]
    },
    {
     "name": "stdout",
     "output_type": "stream",
     "text": [
      "Progress= 0.625\n"
     ]
    },
    {
     "name": "stderr",
     "output_type": "stream",
     "text": [
      "10:40:22 - OI2: INFO - Duplicated gene symbols in the prize file (we'll keep the max prize):\n",
      "10:40:22 - OI2: INFO - []\n",
      "10:40:22 - OI2: INFO - Members of the prize file not present in the interactome:\n",
      "10:40:22 - OI2: INFO - ['ATP5MG', 'CEP43', 'COQ8B', 'ELOB', 'ELOC', 'ERO1B', 'HS2ST1', 'HS6ST2', 'MTARC1', 'NARS2', 'NSD2', 'NUP58', 'POGLUT2', 'POGLUT3', 'RETREG3', 'SELENOS', 'SPART', 'TIMM29', 'TLE5', 'TOMM70', 'WASHC4']\n"
     ]
    },
    {
     "name": "stdout",
     "output_type": "stream",
     "text": [
      "Progress= 0.6875\n"
     ]
    },
    {
     "name": "stderr",
     "output_type": "stream",
     "text": [
      "10:40:24 - OI2: INFO - Duplicated gene symbols in the prize file (we'll keep the max prize):\n",
      "10:40:24 - OI2: INFO - []\n",
      "10:40:24 - OI2: INFO - Members of the prize file not present in the interactome:\n",
      "10:40:24 - OI2: INFO - ['ATP5MG', 'CEP43', 'COQ8B', 'ELOB', 'ELOC', 'ERO1B', 'HS2ST1', 'HS6ST2', 'MTARC1', 'NARS2', 'NSD2', 'NUP58', 'POGLUT2', 'POGLUT3', 'RETREG3', 'SELENOS', 'SPART', 'TIMM29', 'TLE5', 'TOMM70', 'WASHC4']\n"
     ]
    },
    {
     "name": "stdout",
     "output_type": "stream",
     "text": [
      "Progress= 0.75\n"
     ]
    },
    {
     "name": "stderr",
     "output_type": "stream",
     "text": [
      "10:40:26 - OI2: INFO - Duplicated gene symbols in the prize file (we'll keep the max prize):\n",
      "10:40:26 - OI2: INFO - []\n",
      "10:40:26 - OI2: INFO - Members of the prize file not present in the interactome:\n",
      "10:40:26 - OI2: INFO - ['ATP5MG', 'CEP43', 'COQ8B', 'ELOB', 'ELOC', 'ERO1B', 'HS2ST1', 'HS6ST2', 'MTARC1', 'NARS2', 'NSD2', 'NUP58', 'POGLUT2', 'POGLUT3', 'RETREG3', 'SELENOS', 'SPART', 'TIMM29', 'TLE5', 'TOMM70', 'WASHC4']\n"
     ]
    },
    {
     "name": "stdout",
     "output_type": "stream",
     "text": [
      "Progress= 0.8125\n"
     ]
    },
    {
     "name": "stderr",
     "output_type": "stream",
     "text": [
      "10:40:28 - OI2: INFO - Duplicated gene symbols in the prize file (we'll keep the max prize):\n",
      "10:40:28 - OI2: INFO - []\n",
      "10:40:28 - OI2: INFO - Members of the prize file not present in the interactome:\n",
      "10:40:28 - OI2: INFO - ['ATP5MG', 'CEP43', 'COQ8B', 'ELOB', 'ELOC', 'ERO1B', 'HS2ST1', 'HS6ST2', 'MTARC1', 'NARS2', 'NSD2', 'NUP58', 'POGLUT2', 'POGLUT3', 'RETREG3', 'SELENOS', 'SPART', 'TIMM29', 'TLE5', 'TOMM70', 'WASHC4']\n"
     ]
    },
    {
     "name": "stdout",
     "output_type": "stream",
     "text": [
      "Progress= 0.875\n"
     ]
    },
    {
     "name": "stderr",
     "output_type": "stream",
     "text": [
      "10:40:30 - OI2: INFO - Duplicated gene symbols in the prize file (we'll keep the max prize):\n",
      "10:40:30 - OI2: INFO - []\n",
      "10:40:30 - OI2: INFO - Members of the prize file not present in the interactome:\n",
      "10:40:30 - OI2: INFO - ['ATP5MG', 'CEP43', 'COQ8B', 'ELOB', 'ELOC', 'ERO1B', 'HS2ST1', 'HS6ST2', 'MTARC1', 'NARS2', 'NSD2', 'NUP58', 'POGLUT2', 'POGLUT3', 'RETREG3', 'SELENOS', 'SPART', 'TIMM29', 'TLE5', 'TOMM70', 'WASHC4']\n"
     ]
    },
    {
     "name": "stdout",
     "output_type": "stream",
     "text": [
      "Progress= 0.9375\n"
     ]
    },
    {
     "name": "stderr",
     "output_type": "stream",
     "text": [
      "10:40:32 - OI2: INFO - Duplicated gene symbols in the prize file (we'll keep the max prize):\n",
      "10:40:32 - OI2: INFO - []\n",
      "10:40:32 - OI2: INFO - Members of the prize file not present in the interactome:\n",
      "10:40:32 - OI2: INFO - ['ATP5MG', 'CEP43', 'COQ8B', 'ELOB', 'ELOC', 'ERO1B', 'HS2ST1', 'HS6ST2', 'MTARC1', 'NARS2', 'NSD2', 'NUP58', 'POGLUT2', 'POGLUT3', 'RETREG3', 'SELENOS', 'SPART', 'TIMM29', 'TLE5', 'TOMM70', 'WASHC4']\n"
     ]
    },
    {
     "name": "stdout",
     "output_type": "stream",
     "text": [
      "Progress= 1.0\n"
     ]
    }
   ],
   "source": [
    "# Run sensitivity analysis\n",
    "interactome_file_name = \"../Save_RandomizePPI/iRefIndex_v14_MIScore_interactome_C9.costs.allcaps.txt\"\n",
    "prize_file_name = \"../Save_RandomizePPI/terminals_ppi_analysis.tsv\"\n",
    "# Graph hyperparameters\n",
    "graph_params =  {\n",
    "                \"noise\": 0.0, \n",
    "                \"dummy_mode\": \"terminals\", \n",
    "                \"exclude_terminals\": False, \n",
    "                \"seed\": 1,\n",
    "                \"pruning\": 'strong',\n",
    "                \"verbosity_level\": 0,\n",
    "                \"w\": 1.4,\n",
    "                \"b\": 40,\n",
    "                \"g\": 0\n",
    "                }\n",
    "# List of values of P\n",
    "P_list = np.arange(0,0.0016,0.0001)\n",
    "\n",
    "networks_dict = svp.run_prize_sensitivity_analysis(interactome_file_name, \n",
    "                                                   prize_file_name, \n",
    "                                                   graph_params, \n",
    "                                                   virus_interacting_genes, \n",
    "                                                   terminal_partners, \n",
    "                                                   P_list)"
   ]
  },
  {
   "cell_type": "code",
   "execution_count": 66,
   "metadata": {},
   "outputs": [],
   "source": [
    "# Save as pickle\n",
    "with open(\"../Save_RandomizePPI/networks_dict_sarspartners.pkl\", \"wb\") as f: \n",
    "    pickle.dump(networks_dict, f)"
   ]
  },
  {
   "cell_type": "code",
   "execution_count": 67,
   "metadata": {},
   "outputs": [],
   "source": [
    "# Add metadata\n",
    "networks_dict = pickle.load(open(\"../Save_RandomizePPI/networks_dict_sarspartners.pkl\", \"rb\"))\n",
    "networks_dict = svp.add_metadata(networks_dict, virus_interacting_genes)"
   ]
  },
  {
   "cell_type": "code",
   "execution_count": 68,
   "metadata": {},
   "outputs": [
    {
     "data": {
      "text/html": [
       "<div>\n",
       "<style scoped>\n",
       "    .dataframe tbody tr th:only-of-type {\n",
       "        vertical-align: middle;\n",
       "    }\n",
       "\n",
       "    .dataframe tbody tr th {\n",
       "        vertical-align: top;\n",
       "    }\n",
       "\n",
       "    .dataframe thead th {\n",
       "        text-align: right;\n",
       "    }\n",
       "</style>\n",
       "<table border=\"1\" class=\"dataframe\">\n",
       "  <thead>\n",
       "    <tr style=\"text-align: right;\">\n",
       "      <th></th>\n",
       "      <th>index</th>\n",
       "      <th>p</th>\n",
       "      <th>nodes</th>\n",
       "      <th>edges</th>\n",
       "      <th>number_components</th>\n",
       "      <th>size_components</th>\n",
       "      <th>percentage_terminals</th>\n",
       "      <th>transcription_regulators</th>\n",
       "      <th>number_of_proteins_interacting_sars</th>\n",
       "      <th>proteins_interacting_sars</th>\n",
       "    </tr>\n",
       "  </thead>\n",
       "  <tbody>\n",
       "    <tr>\n",
       "      <th>p_0.0</th>\n",
       "      <td>0</td>\n",
       "      <td>0.0</td>\n",
       "      <td>318</td>\n",
       "      <td>1573</td>\n",
       "      <td>1</td>\n",
       "      <td>[318]</td>\n",
       "      <td>1.0</td>\n",
       "      <td>[CREB3, CREB5, ETV6, HOXB3, IRF2, MEOX2, REL, ...</td>\n",
       "      <td>10</td>\n",
       "      <td>[ABCC1, CSNK2A2, DDX21, EXOSC5, FOXRED2, LOX, ...</td>\n",
       "    </tr>\n",
       "    <tr>\n",
       "      <th>p_0.0001</th>\n",
       "      <td>1</td>\n",
       "      <td>0.0001</td>\n",
       "      <td>318</td>\n",
       "      <td>1573</td>\n",
       "      <td>1</td>\n",
       "      <td>[318]</td>\n",
       "      <td>1.0</td>\n",
       "      <td>[CREB3, CREB5, ETV6, HOXB3, IRF2, MEOX2, REL, ...</td>\n",
       "      <td>10</td>\n",
       "      <td>[ABCC1, CSNK2A2, DDX21, EXOSC5, FOXRED2, LOX, ...</td>\n",
       "    </tr>\n",
       "    <tr>\n",
       "      <th>p_0.0002</th>\n",
       "      <td>2</td>\n",
       "      <td>0.0002</td>\n",
       "      <td>318</td>\n",
       "      <td>1568</td>\n",
       "      <td>1</td>\n",
       "      <td>[318]</td>\n",
       "      <td>1.0</td>\n",
       "      <td>[CREB3, CREB5, ETV6, HOXB3, IRF2, MEOX2, REL, ...</td>\n",
       "      <td>11</td>\n",
       "      <td>[ABCC1, CSNK2A2, DDX21, EXOSC5, FOXRED2, LOX, ...</td>\n",
       "    </tr>\n",
       "    <tr>\n",
       "      <th>p_0.00030000000000000003</th>\n",
       "      <td>3</td>\n",
       "      <td>0.00030000000000000003</td>\n",
       "      <td>321</td>\n",
       "      <td>1574</td>\n",
       "      <td>1</td>\n",
       "      <td>[321]</td>\n",
       "      <td>1.0</td>\n",
       "      <td>[CREB3, CREB5, ETV6, HOXB3, IRF2, MEOX2, REL, ...</td>\n",
       "      <td>13</td>\n",
       "      <td>[ABCC1, BRD4, CSNK2A2, DDX21, EXOSC5, FOXRED2,...</td>\n",
       "    </tr>\n",
       "    <tr>\n",
       "      <th>p_0.0004</th>\n",
       "      <td>4</td>\n",
       "      <td>0.0004</td>\n",
       "      <td>321</td>\n",
       "      <td>1553</td>\n",
       "      <td>1</td>\n",
       "      <td>[321]</td>\n",
       "      <td>1.0</td>\n",
       "      <td>[CREB3, CREB5, ETV6, HOXB3, IRF2, MEOX2, REL, ...</td>\n",
       "      <td>15</td>\n",
       "      <td>[ABCC1, BRD4, CSNK2A2, DDX21, EXOSC5, FOXRED2,...</td>\n",
       "    </tr>\n",
       "  </tbody>\n",
       "</table>\n",
       "</div>"
      ],
      "text/plain": [
       "                          index                       p  nodes  edges  \\\n",
       "p_0.0                         0                     0.0    318   1573   \n",
       "p_0.0001                      1                  0.0001    318   1573   \n",
       "p_0.0002                      2                  0.0002    318   1568   \n",
       "p_0.00030000000000000003      3  0.00030000000000000003    321   1574   \n",
       "p_0.0004                      4                  0.0004    321   1553   \n",
       "\n",
       "                          number_components size_components  \\\n",
       "p_0.0                                     1           [318]   \n",
       "p_0.0001                                  1           [318]   \n",
       "p_0.0002                                  1           [318]   \n",
       "p_0.00030000000000000003                  1           [321]   \n",
       "p_0.0004                                  1           [321]   \n",
       "\n",
       "                          percentage_terminals  \\\n",
       "p_0.0                                      1.0   \n",
       "p_0.0001                                   1.0   \n",
       "p_0.0002                                   1.0   \n",
       "p_0.00030000000000000003                   1.0   \n",
       "p_0.0004                                   1.0   \n",
       "\n",
       "                                                   transcription_regulators  \\\n",
       "p_0.0                     [CREB3, CREB5, ETV6, HOXB3, IRF2, MEOX2, REL, ...   \n",
       "p_0.0001                  [CREB3, CREB5, ETV6, HOXB3, IRF2, MEOX2, REL, ...   \n",
       "p_0.0002                  [CREB3, CREB5, ETV6, HOXB3, IRF2, MEOX2, REL, ...   \n",
       "p_0.00030000000000000003  [CREB3, CREB5, ETV6, HOXB3, IRF2, MEOX2, REL, ...   \n",
       "p_0.0004                  [CREB3, CREB5, ETV6, HOXB3, IRF2, MEOX2, REL, ...   \n",
       "\n",
       "                          number_of_proteins_interacting_sars  \\\n",
       "p_0.0                                                      10   \n",
       "p_0.0001                                                   10   \n",
       "p_0.0002                                                   11   \n",
       "p_0.00030000000000000003                                   13   \n",
       "p_0.0004                                                   15   \n",
       "\n",
       "                                                  proteins_interacting_sars  \n",
       "p_0.0                     [ABCC1, CSNK2A2, DDX21, EXOSC5, FOXRED2, LOX, ...  \n",
       "p_0.0001                  [ABCC1, CSNK2A2, DDX21, EXOSC5, FOXRED2, LOX, ...  \n",
       "p_0.0002                  [ABCC1, CSNK2A2, DDX21, EXOSC5, FOXRED2, LOX, ...  \n",
       "p_0.00030000000000000003  [ABCC1, BRD4, CSNK2A2, DDX21, EXOSC5, FOXRED2,...  \n",
       "p_0.0004                  [ABCC1, BRD4, CSNK2A2, DDX21, EXOSC5, FOXRED2,...  "
      ]
     },
     "execution_count": 68,
     "metadata": {},
     "output_type": "execute_result"
    }
   ],
   "source": [
    "# Make summary\n",
    "networks_summary_df = svp.make_summary(networks_dict, n_terminals)\n",
    "networks_summary_df.head()"
   ]
  },
  {
   "cell_type": "markdown",
   "metadata": {},
   "source": [
    "## Plot number of SARS-Cov-2 partners picked up versus p"
   ]
  },
  {
   "cell_type": "code",
   "execution_count": 70,
   "metadata": {},
   "outputs": [
    {
     "data": {
      "image/png": "[encoded data removed]",
      "text/plain": [
       "<Figure size 432x288 with 1 Axes>"
      ]
     },
     "metadata": {
      "needs_background": "light"
     },
     "output_type": "display_data"
    }
   ],
   "source": [
    "plt.figure()\n",
    "plt.scatter(x = networks_summary_df['p'], \n",
    "            y = networks_summary_df['number_of_proteins_interacting_sars'],\n",
    "            s = 0.1*networks_summary_df['nodes'])\n",
    "plt.xlabel('p (1e-4)')\n",
    "plt.ylabel('Number of SARS-Cov-2 partners in solution')\n",
    "plt.xticks(np.arange(0,17,4),['0','4','8','12','16'])\n",
    "plt.yticks(np.arange(0,50,5))\n",
    "plt.show()"
   ]
  },
  {
   "cell_type": "markdown",
   "metadata": {},
   "source": [
    "## Plot node stability heatmaps"
   ]
  },
  {
   "cell_type": "code",
   "execution_count": 71,
   "metadata": {},
   "outputs": [
    {
     "data": {
      "text/plain": [
       "<Figure size 432x288 with 0 Axes>"
      ]
     },
     "metadata": {},
     "output_type": "display_data"
    },
    {
     "data": {
      "image/png": "[encoded data removed]",
      "text/plain": [
       "<Figure size 288x288 with 2 Axes>"
      ]
     },
     "metadata": {
      "needs_background": "light"
     },
     "output_type": "display_data"
    }
   ],
   "source": [
    "# Stability of selected nodes\n",
    "mat_allnodes = svp.create_matrix_gene_overlap_between_networks(networks_summary_df, networks_dict)\n",
    "plt.figure()\n",
    "plt.matshow(mat_allnodes)\n",
    "plt.xlabel('networks')\n",
    "plt.ylabel('networks')\n",
    "plt.title('Nodes stability')\n",
    "plt.colorbar()\n",
    "plt.show()"
   ]
  },
  {
   "cell_type": "code",
   "execution_count": 72,
   "metadata": {},
   "outputs": [
    {
     "data": {
      "text/plain": [
       "<Figure size 432x288 with 0 Axes>"
      ]
     },
     "metadata": {},
     "output_type": "display_data"
    },
    {
     "data": {
      "image/png": "[encoded data removed]",
      "text/plain": [
       "<Figure size 288x288 with 2 Axes>"
      ]
     },
     "metadata": {
      "needs_background": "light"
     },
     "output_type": "display_data"
    }
   ],
   "source": [
    "# Stability of selected terminals\n",
    "mat_terminals = svp.create_matrix_terminal_overlap_between_networks(networks_summary_df, networks_dict)\n",
    "plt.figure()\n",
    "plt.matshow(mat_terminals)\n",
    "plt.xlabel('networks')\n",
    "plt.ylabel('networks')\n",
    "plt.title('Terminals stability')\n",
    "plt.colorbar()\n",
    "plt.show()"
   ]
  },
  {
   "cell_type": "code",
   "execution_count": 73,
   "metadata": {},
   "outputs": [
    {
     "data": {
      "text/plain": [
       "<Figure size 432x288 with 0 Axes>"
      ]
     },
     "metadata": {},
     "output_type": "display_data"
    },
    {
     "data": {
      "image/png": "[encoded data removed]",
      "text/plain": [
       "<Figure size 288x288 with 2 Axes>"
      ]
     },
     "metadata": {
      "needs_background": "light"
     },
     "output_type": "display_data"
    }
   ],
   "source": [
    "# Stability of selected SARS-Cov-2 partners\n",
    "mat_sars = svp.create_matrix_sars_overlap_between_networks(networks_summary_df, networks_dict)\n",
    "plt.figure()\n",
    "plt.matshow(mat_sars)\n",
    "plt.xlabel('networks')\n",
    "plt.ylabel('networks')\n",
    "plt.title('SARS-Cov-2 partners stability')\n",
    "plt.colorbar()\n",
    "plt.show()"
   ]
  },
  {
   "cell_type": "markdown",
   "metadata": {},
   "source": [
    "## Select robust parameters"
   ]
  },
  {
   "cell_type": "code",
   "execution_count": 74,
   "metadata": {},
   "outputs": [],
   "source": [
    "# Save network\n",
    "index_selected = 8\n",
    "paramstring_selected = networks_summary_df[networks_summary_df['index']==index_selected].index[0]\n",
    "network_selected2 = networks_dict[paramstring_selected]"
   ]
  },
  {
   "cell_type": "code",
   "execution_count": 75,
   "metadata": {},
   "outputs": [
    {
     "data": {
      "text/plain": [
       "PosixPath('/home/louiscam/projects/sars_cov_2/Save_RandomizePPI/network_selected_sarspartners.pickle')"
      ]
     },
     "execution_count": 75,
     "metadata": {},
     "output_type": "execute_result"
    }
   ],
   "source": [
    "# Save selected network to file\n",
    "oi.output_networkx_graph_as_interactive_html(network_selected2, filename=\"../Save_RandomizePPI/network_selected_sarspartners.html\")\n",
    "oi.output_networkx_graph_as_pickle(network_selected2, filename= '../Save_RandomizePPI/network_selected_sarspartners.pickle')\n",
    "#oi.output_networkx_graph_as_graphml_for_cytoscape(network_selected, filename= r'../Save_RandomizePPI/network_selected_sarspartners.graphml')"
   ]
  },
  {
   "cell_type": "markdown",
   "metadata": {},
   "source": [
    "# Add drug targets to selected network"
   ]
  },
  {
   "cell_type": "markdown",
   "metadata": {},
   "source": [
    "## Construct drug/target data"
   ]
  },
  {
   "cell_type": "code",
   "execution_count": 21,
   "metadata": {},
   "outputs": [],
   "source": [
    "# Compute degree centrality for all nodes in the interactome\n",
    "graph = oi.Graph(interactome_file_name)\n",
    "centrality_dic = nx.degree_centrality(graph.interactome_graph)"
   ]
  },
  {
   "cell_type": "code",
   "execution_count": 22,
   "metadata": {},
   "outputs": [
    {
     "data": {
      "text/html": [
       "<div>\n",
       "<style scoped>\n",
       "    .dataframe tbody tr th:only-of-type {\n",
       "        vertical-align: middle;\n",
       "    }\n",
       "\n",
       "    .dataframe tbody tr th {\n",
       "        vertical-align: top;\n",
       "    }\n",
       "\n",
       "    .dataframe thead th {\n",
       "        text-align: right;\n",
       "    }\n",
       "</style>\n",
       "<table border=\"1\" class=\"dataframe\">\n",
       "  <thead>\n",
       "    <tr style=\"text-align: right;\">\n",
       "      <th></th>\n",
       "      <th>gene</th>\n",
       "      <th>drug</th>\n",
       "      <th>protein_target</th>\n",
       "      <th>affinity_constant</th>\n",
       "      <th>affinity_constant_type</th>\n",
       "      <th>degree_centrality</th>\n",
       "    </tr>\n",
       "  </thead>\n",
       "  <tbody>\n",
       "    <tr>\n",
       "      <th>1</th>\n",
       "      <td>CYP2D6</td>\n",
       "      <td>levobupivacaine</td>\n",
       "      <td>Cytochrome P450 2D6</td>\n",
       "      <td>6.706859</td>\n",
       "      <td>IC50</td>\n",
       "      <td>NaN</td>\n",
       "    </tr>\n",
       "    <tr>\n",
       "      <th>5</th>\n",
       "      <td>SCN1A</td>\n",
       "      <td>levobupivacaine</td>\n",
       "      <td>Sodium channel protein type 1 subunit alpha</td>\n",
       "      <td>5.790000</td>\n",
       "      <td>IC50</td>\n",
       "      <td>0.000254</td>\n",
       "    </tr>\n",
       "    <tr>\n",
       "      <th>9</th>\n",
       "      <td>KCNN4</td>\n",
       "      <td>(s)-nitrendipine</td>\n",
       "      <td>Intermediate conductance calcium-activated pot...</td>\n",
       "      <td>7.600000</td>\n",
       "      <td>IC50</td>\n",
       "      <td>0.000444</td>\n",
       "    </tr>\n",
       "    <tr>\n",
       "      <th>10</th>\n",
       "      <td>CACNA1F</td>\n",
       "      <td>(s)-nitrendipine</td>\n",
       "      <td>Voltage-dependent L-type calcium channel subun...</td>\n",
       "      <td>6.000000</td>\n",
       "      <td>IC50</td>\n",
       "      <td>0.000127</td>\n",
       "    </tr>\n",
       "    <tr>\n",
       "      <th>13</th>\n",
       "      <td>CACNA1D</td>\n",
       "      <td>(s)-nitrendipine</td>\n",
       "      <td>Voltage-dependent L-type calcium channel subun...</td>\n",
       "      <td>8.400000</td>\n",
       "      <td>IC50</td>\n",
       "      <td>0.000254</td>\n",
       "    </tr>\n",
       "  </tbody>\n",
       "</table>\n",
       "</div>"
      ],
      "text/plain": [
       "       gene              drug  \\\n",
       "1    CYP2D6   levobupivacaine   \n",
       "5     SCN1A   levobupivacaine   \n",
       "9     KCNN4  (s)-nitrendipine   \n",
       "10  CACNA1F  (s)-nitrendipine   \n",
       "13  CACNA1D  (s)-nitrendipine   \n",
       "\n",
       "                                       protein_target  affinity_constant  \\\n",
       "1                                 Cytochrome P450 2D6           6.706859   \n",
       "5         Sodium channel protein type 1 subunit alpha           5.790000   \n",
       "9   Intermediate conductance calcium-activated pot...           7.600000   \n",
       "10  Voltage-dependent L-type calcium channel subun...           6.000000   \n",
       "13  Voltage-dependent L-type calcium channel subun...           8.400000   \n",
       "\n",
       "   affinity_constant_type  degree_centrality  \n",
       "1                    IC50                NaN  \n",
       "5                    IC50           0.000254  \n",
       "9                    IC50           0.000444  \n",
       "10                   IC50           0.000127  \n",
       "13                   IC50           0.000254  "
      ]
     },
     "execution_count": 22,
     "metadata": {},
     "output_type": "execute_result"
    }
   ],
   "source": [
    "# Load drug/target data from DrugCentral\n",
    "drug_target_file_name = '../Data/drug.target.interaction.tsv'\n",
    "drugcentral_df = drugs2.load_drug_target_data(drug_target_file_name, aff_cst_thresh=5)\n",
    "# Add degree centrality of gene target and drop drug/target pairs with no affinity constant information\n",
    "drugcentral_df['degree_centrality'] = [centrality_dic[gene] if (gene in list(centrality_dic.keys())) else None for gene in drugcentral_df['gene']]\n",
    "drugcentral_df.dropna(axis=0, subset=['affinity_constant'], inplace=True)\n",
    "drugcentral_df.head()"
   ]
  },
  {
   "cell_type": "code",
   "execution_count": 23,
   "metadata": {},
   "outputs": [
    {
     "data": {
      "text/plain": [
       "47"
      ]
     },
     "execution_count": 23,
     "metadata": {},
     "output_type": "execute_result"
    }
   ],
   "source": [
    "# Compute total number of tyrosine kinase inhibitors (tinib suffix)\n",
    "tinib_drugs = np.unique(drugcentral_df.set_index('drug').filter(like='tinib', axis=0).index)\n",
    "len(tinib_drugs)"
   ]
  },
  {
   "cell_type": "code",
   "execution_count": 24,
   "metadata": {},
   "outputs": [
    {
     "data": {
      "text/html": [
       "<div>\n",
       "<style scoped>\n",
       "    .dataframe tbody tr th:only-of-type {\n",
       "        vertical-align: middle;\n",
       "    }\n",
       "\n",
       "    .dataframe tbody tr th {\n",
       "        vertical-align: top;\n",
       "    }\n",
       "\n",
       "    .dataframe thead th {\n",
       "        text-align: right;\n",
       "    }\n",
       "</style>\n",
       "<table border=\"1\" class=\"dataframe\">\n",
       "  <thead>\n",
       "    <tr style=\"text-align: right;\">\n",
       "      <th></th>\n",
       "      <th>drug</th>\n",
       "      <th>num_targets</th>\n",
       "      <th>num_terminal_targets</th>\n",
       "      <th>max_target_centrality</th>\n",
       "    </tr>\n",
       "  </thead>\n",
       "  <tbody>\n",
       "    <tr>\n",
       "      <th>1399</th>\n",
       "      <td>sunitinib</td>\n",
       "      <td>260</td>\n",
       "      <td>4</td>\n",
       "      <td>0.047849</td>\n",
       "    </tr>\n",
       "    <tr>\n",
       "      <th>1039</th>\n",
       "      <td>nintedanib</td>\n",
       "      <td>218</td>\n",
       "      <td>3</td>\n",
       "      <td>0.033063</td>\n",
       "    </tr>\n",
       "    <tr>\n",
       "      <th>951</th>\n",
       "      <td>midostaurin</td>\n",
       "      <td>204</td>\n",
       "      <td>3</td>\n",
       "      <td>0.047849</td>\n",
       "    </tr>\n",
       "    <tr>\n",
       "      <th>189</th>\n",
       "      <td>bosutinib</td>\n",
       "      <td>203</td>\n",
       "      <td>1</td>\n",
       "      <td>0.047849</td>\n",
       "    </tr>\n",
       "    <tr>\n",
       "      <th>363</th>\n",
       "      <td>crizotinib</td>\n",
       "      <td>148</td>\n",
       "      <td>3</td>\n",
       "      <td>0.047849</td>\n",
       "    </tr>\n",
       "    <tr>\n",
       "      <th>1319</th>\n",
       "      <td>ruxolitinib</td>\n",
       "      <td>132</td>\n",
       "      <td>1</td>\n",
       "      <td>0.024242</td>\n",
       "    </tr>\n",
       "    <tr>\n",
       "      <th>393</th>\n",
       "      <td>dasatinib</td>\n",
       "      <td>128</td>\n",
       "      <td>2</td>\n",
       "      <td>0.047849</td>\n",
       "    </tr>\n",
       "    <tr>\n",
       "      <th>1315</th>\n",
       "      <td>ruboxistaurin</td>\n",
       "      <td>121</td>\n",
       "      <td>1</td>\n",
       "      <td>0.047849</td>\n",
       "    </tr>\n",
       "    <tr>\n",
       "      <th>1368</th>\n",
       "      <td>sorafenib</td>\n",
       "      <td>116</td>\n",
       "      <td>4</td>\n",
       "      <td>0.033063</td>\n",
       "    </tr>\n",
       "    <tr>\n",
       "      <th>1562</th>\n",
       "      <td>vandetanib</td>\n",
       "      <td>109</td>\n",
       "      <td>3</td>\n",
       "      <td>0.047849</td>\n",
       "    </tr>\n",
       "  </tbody>\n",
       "</table>\n",
       "</div>"
      ],
      "text/plain": [
       "               drug  num_targets  num_terminal_targets  max_target_centrality\n",
       "1399      sunitinib          260                     4               0.047849\n",
       "1039     nintedanib          218                     3               0.033063\n",
       "951     midostaurin          204                     3               0.047849\n",
       "189       bosutinib          203                     1               0.047849\n",
       "363      crizotinib          148                     3               0.047849\n",
       "1319    ruxolitinib          132                     1               0.024242\n",
       "393       dasatinib          128                     2               0.047849\n",
       "1315  ruboxistaurin          121                     1               0.047849\n",
       "1368      sorafenib          116                     4               0.033063\n",
       "1562     vandetanib          109                     3               0.047849"
      ]
     },
     "execution_count": 24,
     "metadata": {},
     "output_type": "execute_result"
    }
   ],
   "source": [
    "# Construct table that gives the number of targets per drug\n",
    "num_targets_df0 = drugcentral_df.groupby('drug', as_index=False)[['gene']].agg({\n",
    "    ('num_targets','count'),\n",
    "    ('num_terminal_targets',lambda gs: len(set(gs).intersection(set(terminals))))\n",
    "})\n",
    "max_centrality_df0 = drugcentral_df.groupby('drug', as_index=False)[['degree_centrality']].agg({\n",
    "    ('max_degree_centrality',max)\n",
    "})\n",
    "num_targets_df = pd.DataFrame({'drug': num_targets_df0.index,\n",
    "                               'num_targets': num_targets_df0['gene']['num_targets'],\n",
    "                               'num_terminal_targets': num_targets_df0['gene']['num_terminal_targets'],\n",
    "                               'max_target_centrality': max_centrality_df0['degree_centrality']['max_degree_centrality']}).reset_index(drop=True)\n",
    "num_targets_df = num_targets_df.sort_values(by='num_targets', ascending=False, inplace=False)\n",
    "num_targets_df.head(10)"
   ]
  },
  {
   "cell_type": "code",
   "execution_count": 25,
   "metadata": {},
   "outputs": [
    {
     "data": {
      "text/html": [
       "<div>\n",
       "<style scoped>\n",
       "    .dataframe tbody tr th:only-of-type {\n",
       "        vertical-align: middle;\n",
       "    }\n",
       "\n",
       "    .dataframe tbody tr th {\n",
       "        vertical-align: top;\n",
       "    }\n",
       "\n",
       "    .dataframe thead th {\n",
       "        text-align: right;\n",
       "    }\n",
       "</style>\n",
       "<table border=\"1\" class=\"dataframe\">\n",
       "  <thead>\n",
       "    <tr style=\"text-align: right;\">\n",
       "      <th></th>\n",
       "      <th>drug</th>\n",
       "      <th>corr</th>\n",
       "    </tr>\n",
       "  </thead>\n",
       "  <tbody>\n",
       "    <tr>\n",
       "      <th>0</th>\n",
       "      <td>doxapram</td>\n",
       "      <td>0.882798</td>\n",
       "    </tr>\n",
       "    <tr>\n",
       "      <th>1</th>\n",
       "      <td>dasatinib</td>\n",
       "      <td>0.882561</td>\n",
       "    </tr>\n",
       "    <tr>\n",
       "      <th>2</th>\n",
       "      <td>cyproheptadine</td>\n",
       "      <td>0.882541</td>\n",
       "    </tr>\n",
       "    <tr>\n",
       "      <th>3</th>\n",
       "      <td>ribavirin</td>\n",
       "      <td>0.881823</td>\n",
       "    </tr>\n",
       "    <tr>\n",
       "      <th>4</th>\n",
       "      <td>ethambutol</td>\n",
       "      <td>0.881799</td>\n",
       "    </tr>\n",
       "  </tbody>\n",
       "</table>\n",
       "</div>"
      ],
      "text/plain": [
       "             drug      corr\n",
       "0        doxapram  0.882798\n",
       "1       dasatinib  0.882561\n",
       "2  cyproheptadine  0.882541\n",
       "3       ribavirin  0.881823\n",
       "4      ethambutol  0.881799"
      ]
     },
     "execution_count": 25,
     "metadata": {},
     "output_type": "execute_result"
    }
   ],
   "source": [
    "# Load L1000 drugs with correlations\n",
    "embedded_drugs_file_name = '../Data/final_A549_drug_correlations.csv'\n",
    "bestdrugs_df = drugs2.load_embedded_drugs(embedded_drugs_file_name, lower_corr_thresh=0.86)\n",
    "bestdrugs_df.head()"
   ]
  },
  {
   "cell_type": "code",
   "execution_count": 26,
   "metadata": {},
   "outputs": [
    {
     "name": "stdout",
     "output_type": "stream",
     "text": [
      "610\n"
     ]
    },
    {
     "data": {
      "text/html": [
       "<div>\n",
       "<style scoped>\n",
       "    .dataframe tbody tr th:only-of-type {\n",
       "        vertical-align: middle;\n",
       "    }\n",
       "\n",
       "    .dataframe tbody tr th {\n",
       "        vertical-align: top;\n",
       "    }\n",
       "\n",
       "    .dataframe thead th {\n",
       "        text-align: right;\n",
       "    }\n",
       "</style>\n",
       "<table border=\"1\" class=\"dataframe\">\n",
       "  <thead>\n",
       "    <tr style=\"text-align: right;\">\n",
       "      <th></th>\n",
       "      <th>gene</th>\n",
       "      <th>drug</th>\n",
       "      <th>protein_target</th>\n",
       "      <th>affinity_constant</th>\n",
       "      <th>affinity_constant_type</th>\n",
       "      <th>degree_centrality</th>\n",
       "      <th>corr</th>\n",
       "    </tr>\n",
       "  </thead>\n",
       "  <tbody>\n",
       "    <tr>\n",
       "      <th>0</th>\n",
       "      <td>CYP19A1</td>\n",
       "      <td>aminoglutethimide</td>\n",
       "      <td>Aromatase</td>\n",
       "      <td>5.110000</td>\n",
       "      <td>IC50</td>\n",
       "      <td>0.000063</td>\n",
       "      <td>0.860848</td>\n",
       "    </tr>\n",
       "    <tr>\n",
       "      <th>1</th>\n",
       "      <td>ADRA2A</td>\n",
       "      <td>amitriptyline</td>\n",
       "      <td>Alpha-2A adrenergic receptor</td>\n",
       "      <td>6.879426</td>\n",
       "      <td>Ki</td>\n",
       "      <td>0.000698</td>\n",
       "      <td>0.872172</td>\n",
       "    </tr>\n",
       "    <tr>\n",
       "      <th>2</th>\n",
       "      <td>ADRA2C</td>\n",
       "      <td>amitriptyline</td>\n",
       "      <td>Alpha-2C adrenergic receptor</td>\n",
       "      <td>8.065502</td>\n",
       "      <td>Ki</td>\n",
       "      <td>0.000254</td>\n",
       "      <td>0.872172</td>\n",
       "    </tr>\n",
       "    <tr>\n",
       "      <th>3</th>\n",
       "      <td>ADRA1D</td>\n",
       "      <td>amitriptyline</td>\n",
       "      <td>Alpha-1D adrenergic receptor</td>\n",
       "      <td>8.251812</td>\n",
       "      <td>Ki</td>\n",
       "      <td>0.001015</td>\n",
       "      <td>0.872172</td>\n",
       "    </tr>\n",
       "    <tr>\n",
       "      <th>4</th>\n",
       "      <td>SCN5A</td>\n",
       "      <td>amitriptyline</td>\n",
       "      <td>Sodium channel protein type 5 subunit alpha</td>\n",
       "      <td>5.800000</td>\n",
       "      <td>IC50</td>\n",
       "      <td>0.001777</td>\n",
       "      <td>0.872172</td>\n",
       "    </tr>\n",
       "  </tbody>\n",
       "</table>\n",
       "</div>"
      ],
      "text/plain": [
       "      gene               drug                               protein_target  \\\n",
       "0  CYP19A1  aminoglutethimide                                    Aromatase   \n",
       "1   ADRA2A      amitriptyline                 Alpha-2A adrenergic receptor   \n",
       "2   ADRA2C      amitriptyline                 Alpha-2C adrenergic receptor   \n",
       "3   ADRA1D      amitriptyline                 Alpha-1D adrenergic receptor   \n",
       "4    SCN5A      amitriptyline  Sodium channel protein type 5 subunit alpha   \n",
       "\n",
       "   affinity_constant affinity_constant_type  degree_centrality      corr  \n",
       "0           5.110000                   IC50           0.000063  0.860848  \n",
       "1           6.879426                     Ki           0.000698  0.872172  \n",
       "2           8.065502                     Ki           0.000254  0.872172  \n",
       "3           8.251812                     Ki           0.001015  0.872172  \n",
       "4           5.800000                   IC50           0.001777  0.872172  "
      ]
     },
     "execution_count": 26,
     "metadata": {},
     "output_type": "execute_result"
    }
   ],
   "source": [
    "# Merge L1000 drugs with DrugCentral drug/target dataset\n",
    "targets_and_drugs_df = drugcentral_df.merge(bestdrugs_df, on = 'drug', how = 'inner')\n",
    "print(len(np.unique(targets_and_drugs_df['gene'])))\n",
    "targets_and_drugs_df.head()"
   ]
  },
  {
   "cell_type": "code",
   "execution_count": 27,
   "metadata": {},
   "outputs": [
    {
     "name": "stdout",
     "output_type": "stream",
     "text": [
      "0.004092769440654843\n"
     ]
    }
   ],
   "source": [
    "# Compute proportion of drugs in the intersection that are tinibs\n",
    "tinib_drugs = np.unique(targets_and_drugs_df.set_index('drug').filter(like='tinib', axis=0).index)\n",
    "prop_tinib = len(tinib_drugs)/len(targets_and_drugs_df)\n",
    "print(prop_tinib)"
   ]
  },
  {
   "cell_type": "markdown",
   "metadata": {},
   "source": [
    "## Add drug target information to selected network"
   ]
  },
  {
   "cell_type": "code",
   "execution_count": 28,
   "metadata": {},
   "outputs": [
    {
     "data": {
      "text/plain": [
       "PosixPath('/home/louiscam/projects/sars_cov_2/Save_RandomizePPI/network_selected_with_drug_info.pickle')"
      ]
     },
     "execution_count": 28,
     "metadata": {},
     "output_type": "execute_result"
    }
   ],
   "source": [
    "network_selected = pickle.load(open('../Save_RandomizePPI/network_selected.pickle', \"rb\"))\n",
    "network_selected = drugs2.add_drug_info_to_selected_network(network_selected, targets_and_drugs_df)\n",
    "# Save enriched network as pickle\n",
    "oi.output_networkx_graph_as_pickle(network_selected, filename= '../Save_RandomizePPI/network_selected_with_drug_info.pickle')"
   ]
  },
  {
   "cell_type": "code",
   "execution_count": 29,
   "metadata": {
    "scrolled": true
   },
   "outputs": [
    {
     "data": {
      "text/html": [
       "<div>\n",
       "<style scoped>\n",
       "    .dataframe tbody tr th:only-of-type {\n",
       "        vertical-align: middle;\n",
       "    }\n",
       "\n",
       "    .dataframe tbody tr th {\n",
       "        vertical-align: top;\n",
       "    }\n",
       "\n",
       "    .dataframe thead th {\n",
       "        text-align: right;\n",
       "    }\n",
       "</style>\n",
       "<table border=\"1\" class=\"dataframe\">\n",
       "  <thead>\n",
       "    <tr style=\"text-align: right;\">\n",
       "      <th></th>\n",
       "      <th>name</th>\n",
       "      <th>protein_target</th>\n",
       "      <th>drug</th>\n",
       "      <th>corr</th>\n",
       "      <th>affinity</th>\n",
       "    </tr>\n",
       "  </thead>\n",
       "  <tbody>\n",
       "    <tr>\n",
       "      <th>AR</th>\n",
       "      <td>AR</td>\n",
       "      <td>{Androgen receptor}</td>\n",
       "      <td>bicalutamide</td>\n",
       "      <td>0.87447727</td>\n",
       "      <td>7.720</td>\n",
       "    </tr>\n",
       "    <tr>\n",
       "      <th>AR</th>\n",
       "      <td>AR</td>\n",
       "      <td>{Androgen receptor}</td>\n",
       "      <td>mifepristone</td>\n",
       "      <td>0.8636598</td>\n",
       "      <td>8.330</td>\n",
       "    </tr>\n",
       "    <tr>\n",
       "      <th>AURKC</th>\n",
       "      <td>AURKC</td>\n",
       "      <td>{Aurora kinase C}</td>\n",
       "      <td>erlotinib</td>\n",
       "      <td>0.8737799</td>\n",
       "      <td>6.220</td>\n",
       "    </tr>\n",
       "    <tr>\n",
       "      <th>AURKC</th>\n",
       "      <td>AURKC</td>\n",
       "      <td>{Aurora kinase C}</td>\n",
       "      <td>sorafenib</td>\n",
       "      <td>0.86517066</td>\n",
       "      <td>6.680</td>\n",
       "    </tr>\n",
       "    <tr>\n",
       "      <th>AURKC</th>\n",
       "      <td>AURKC</td>\n",
       "      <td>{Aurora kinase C}</td>\n",
       "      <td>sunitinib</td>\n",
       "      <td>0.8685898</td>\n",
       "      <td>6.660</td>\n",
       "    </tr>\n",
       "    <tr>\n",
       "      <th>AURKC</th>\n",
       "      <td>AURKC</td>\n",
       "      <td>{Aurora kinase C}</td>\n",
       "      <td>pazopanib</td>\n",
       "      <td>0.86695886</td>\n",
       "      <td>6.120</td>\n",
       "    </tr>\n",
       "    <tr>\n",
       "      <th>AURKC</th>\n",
       "      <td>AURKC</td>\n",
       "      <td>{Aurora kinase C}</td>\n",
       "      <td>ruxolitinib</td>\n",
       "      <td>0.87487674</td>\n",
       "      <td>5.060</td>\n",
       "    </tr>\n",
       "    <tr>\n",
       "      <th>AURKC</th>\n",
       "      <td>AURKC</td>\n",
       "      <td>{Aurora kinase C}</td>\n",
       "      <td>axitinib</td>\n",
       "      <td>0.8779775</td>\n",
       "      <td>8.890</td>\n",
       "    </tr>\n",
       "    <tr>\n",
       "      <th>BRSK1</th>\n",
       "      <td>BRSK1</td>\n",
       "      <td>{Serine/threonine-protein kinase BRSK1}</td>\n",
       "      <td>sunitinib</td>\n",
       "      <td>0.8685898</td>\n",
       "      <td>5.460</td>\n",
       "    </tr>\n",
       "    <tr>\n",
       "      <th>CDK17</th>\n",
       "      <td>CDK17</td>\n",
       "      <td>{Cyclin-dependent kinase 17}</td>\n",
       "      <td>sorafenib</td>\n",
       "      <td>0.86517066</td>\n",
       "      <td>5.800</td>\n",
       "    </tr>\n",
       "    <tr>\n",
       "      <th>CDK17</th>\n",
       "      <td>CDK17</td>\n",
       "      <td>{Cyclin-dependent kinase 17}</td>\n",
       "      <td>sunitinib</td>\n",
       "      <td>0.8685898</td>\n",
       "      <td>5.920</td>\n",
       "    </tr>\n",
       "    <tr>\n",
       "      <th>CSNK2A2</th>\n",
       "      <td>CSNK2A2</td>\n",
       "      <td>{Casein kinase II subunit alpha'}</td>\n",
       "      <td>sunitinib</td>\n",
       "      <td>0.8685898</td>\n",
       "      <td>6.800</td>\n",
       "    </tr>\n",
       "    <tr>\n",
       "      <th>CSNK2A2</th>\n",
       "      <td>CSNK2A2</td>\n",
       "      <td>{Casein kinase II subunit alpha'}</td>\n",
       "      <td>ruxolitinib</td>\n",
       "      <td>0.87487674</td>\n",
       "      <td>5.480</td>\n",
       "    </tr>\n",
       "    <tr>\n",
       "      <th>CSNK2A2</th>\n",
       "      <td>CSNK2A2</td>\n",
       "      <td>{Casein kinase II subunit alpha'}</td>\n",
       "      <td>axitinib</td>\n",
       "      <td>0.8779775</td>\n",
       "      <td>5.550</td>\n",
       "    </tr>\n",
       "    <tr>\n",
       "      <th>DPP4</th>\n",
       "      <td>DPP4</td>\n",
       "      <td>{Dipeptidyl peptidase 4}</td>\n",
       "      <td>sitagliptin</td>\n",
       "      <td>0.87657654</td>\n",
       "      <td>7.774</td>\n",
       "    </tr>\n",
       "    <tr>\n",
       "      <th>ERBB3</th>\n",
       "      <td>ERBB3</td>\n",
       "      <td>{Receptor tyrosine-protein kinase erbB-3}</td>\n",
       "      <td>dasatinib</td>\n",
       "      <td>0.88256145</td>\n",
       "      <td>7.740</td>\n",
       "    </tr>\n",
       "    <tr>\n",
       "      <th>ERBB3</th>\n",
       "      <td>ERBB3</td>\n",
       "      <td>{Receptor tyrosine-protein kinase erbB-3}</td>\n",
       "      <td>erlotinib</td>\n",
       "      <td>0.8737799</td>\n",
       "      <td>5.960</td>\n",
       "    </tr>\n",
       "    <tr>\n",
       "      <th>ERBB3</th>\n",
       "      <td>ERBB3</td>\n",
       "      <td>{Receptor tyrosine-protein kinase erbB-3}</td>\n",
       "      <td>afatinib</td>\n",
       "      <td>0.8623272</td>\n",
       "      <td>5.350</td>\n",
       "    </tr>\n",
       "    <tr>\n",
       "      <th>ERBB3</th>\n",
       "      <td>ERBB3</td>\n",
       "      <td>{Receptor tyrosine-protein kinase erbB-3}</td>\n",
       "      <td>bosutinib</td>\n",
       "      <td>0.86295736</td>\n",
       "      <td>9.110</td>\n",
       "    </tr>\n",
       "    <tr>\n",
       "      <th>FGFR3</th>\n",
       "      <td>FGFR3</td>\n",
       "      <td>{Fibroblast growth factor receptor 3}</td>\n",
       "      <td>dasatinib</td>\n",
       "      <td>0.88256145</td>\n",
       "      <td>5.410</td>\n",
       "    </tr>\n",
       "    <tr>\n",
       "      <th>FGFR3</th>\n",
       "      <td>FGFR3</td>\n",
       "      <td>{Fibroblast growth factor receptor 3}</td>\n",
       "      <td>sorafenib</td>\n",
       "      <td>0.86517066</td>\n",
       "      <td>5.380</td>\n",
       "    </tr>\n",
       "    <tr>\n",
       "      <th>FGFR3</th>\n",
       "      <td>FGFR3</td>\n",
       "      <td>{Fibroblast growth factor receptor 3}</td>\n",
       "      <td>sunitinib</td>\n",
       "      <td>0.8685898</td>\n",
       "      <td>6.540</td>\n",
       "    </tr>\n",
       "    <tr>\n",
       "      <th>FGFR3</th>\n",
       "      <td>FGFR3</td>\n",
       "      <td>{Fibroblast growth factor receptor 3}</td>\n",
       "      <td>pazopanib</td>\n",
       "      <td>0.86695886</td>\n",
       "      <td>6.210</td>\n",
       "    </tr>\n",
       "    <tr>\n",
       "      <th>FGFR3</th>\n",
       "      <td>FGFR3</td>\n",
       "      <td>{Fibroblast growth factor receptor 3}</td>\n",
       "      <td>axitinib</td>\n",
       "      <td>0.8779775</td>\n",
       "      <td>6.680</td>\n",
       "    </tr>\n",
       "    <tr>\n",
       "      <th>MAP3K1</th>\n",
       "      <td>MAP3K1</td>\n",
       "      <td>{Mitogen-activated protein kinase kinase kinas...</td>\n",
       "      <td>pazopanib</td>\n",
       "      <td>0.86695886</td>\n",
       "      <td>5.540</td>\n",
       "    </tr>\n",
       "    <tr>\n",
       "      <th>MAP3K1</th>\n",
       "      <td>MAP3K1</td>\n",
       "      <td>{Mitogen-activated protein kinase kinase kinas...</td>\n",
       "      <td>ruxolitinib</td>\n",
       "      <td>0.87487674</td>\n",
       "      <td>5.380</td>\n",
       "    </tr>\n",
       "    <tr>\n",
       "      <th>MAP3K1</th>\n",
       "      <td>MAP3K1</td>\n",
       "      <td>{Mitogen-activated protein kinase kinase kinas...</td>\n",
       "      <td>bosutinib</td>\n",
       "      <td>0.86295736</td>\n",
       "      <td>5.360</td>\n",
       "    </tr>\n",
       "    <tr>\n",
       "      <th>MAPK1</th>\n",
       "      <td>MAPK1</td>\n",
       "      <td>{Mitogen-activated protein kinase 1}</td>\n",
       "      <td>sorafenib</td>\n",
       "      <td>0.86517066</td>\n",
       "      <td>6.960</td>\n",
       "    </tr>\n",
       "    <tr>\n",
       "      <th>MAPK8</th>\n",
       "      <td>MAPK8</td>\n",
       "      <td>{Mitogen-activated protein kinase 8}</td>\n",
       "      <td>imatinib</td>\n",
       "      <td>0.8705536</td>\n",
       "      <td>5.490</td>\n",
       "    </tr>\n",
       "    <tr>\n",
       "      <th>MAPK8</th>\n",
       "      <td>MAPK8</td>\n",
       "      <td>{Mitogen-activated protein kinase 8}</td>\n",
       "      <td>pazopanib</td>\n",
       "      <td>0.86695886</td>\n",
       "      <td>5.700</td>\n",
       "    </tr>\n",
       "    <tr>\n",
       "      <th>MAPK8</th>\n",
       "      <td>MAPK8</td>\n",
       "      <td>{Mitogen-activated protein kinase 8}</td>\n",
       "      <td>ruxolitinib</td>\n",
       "      <td>0.87487674</td>\n",
       "      <td>5.320</td>\n",
       "    </tr>\n",
       "    <tr>\n",
       "      <th>MAPK8</th>\n",
       "      <td>MAPK8</td>\n",
       "      <td>{Mitogen-activated protein kinase 8}</td>\n",
       "      <td>axitinib</td>\n",
       "      <td>0.8779775</td>\n",
       "      <td>5.410</td>\n",
       "    </tr>\n",
       "    <tr>\n",
       "      <th>MET</th>\n",
       "      <td>MET</td>\n",
       "      <td>{Hepatocyte growth factor receptor}</td>\n",
       "      <td>erlotinib</td>\n",
       "      <td>0.8737799</td>\n",
       "      <td>5.960</td>\n",
       "    </tr>\n",
       "    <tr>\n",
       "      <th>MET</th>\n",
       "      <td>MET</td>\n",
       "      <td>{Hepatocyte growth factor receptor}</td>\n",
       "      <td>sunitinib</td>\n",
       "      <td>0.8685898</td>\n",
       "      <td>5.920</td>\n",
       "    </tr>\n",
       "    <tr>\n",
       "      <th>MET</th>\n",
       "      <td>MET</td>\n",
       "      <td>{Hepatocyte growth factor receptor}</td>\n",
       "      <td>pazopanib</td>\n",
       "      <td>0.86695886</td>\n",
       "      <td>5.700</td>\n",
       "    </tr>\n",
       "    <tr>\n",
       "      <th>MET</th>\n",
       "      <td>MET</td>\n",
       "      <td>{Hepatocyte growth factor receptor}</td>\n",
       "      <td>axitinib</td>\n",
       "      <td>0.8779775</td>\n",
       "      <td>6.090</td>\n",
       "    </tr>\n",
       "    <tr>\n",
       "      <th>MET</th>\n",
       "      <td>MET</td>\n",
       "      <td>{Hepatocyte growth factor receptor}</td>\n",
       "      <td>afatinib</td>\n",
       "      <td>0.8623272</td>\n",
       "      <td>5.660</td>\n",
       "    </tr>\n",
       "    <tr>\n",
       "      <th>MET</th>\n",
       "      <td>MET</td>\n",
       "      <td>{Hepatocyte growth factor receptor}</td>\n",
       "      <td>bosutinib</td>\n",
       "      <td>0.86295736</td>\n",
       "      <td>5.660</td>\n",
       "    </tr>\n",
       "    <tr>\n",
       "      <th>PDE4B</th>\n",
       "      <td>PDE4B</td>\n",
       "      <td>{Phosphodiesterase 4}</td>\n",
       "      <td>milrinone</td>\n",
       "      <td>0.86071634</td>\n",
       "      <td>5.220</td>\n",
       "    </tr>\n",
       "    <tr>\n",
       "      <th>PDE4B</th>\n",
       "      <td>PDE4B</td>\n",
       "      <td>{Phosphodiesterase 4}</td>\n",
       "      <td>vardenafil</td>\n",
       "      <td>0.86345553</td>\n",
       "      <td>5.350</td>\n",
       "    </tr>\n",
       "    <tr>\n",
       "      <th>RIPK2</th>\n",
       "      <td>RIPK2</td>\n",
       "      <td>{Receptor-interacting serine/threonine-protein...</td>\n",
       "      <td>dasatinib</td>\n",
       "      <td>0.88256145</td>\n",
       "      <td>7.510</td>\n",
       "    </tr>\n",
       "    <tr>\n",
       "      <th>RIPK2</th>\n",
       "      <td>RIPK2</td>\n",
       "      <td>{Receptor-interacting serine/threonine-protein...</td>\n",
       "      <td>erlotinib</td>\n",
       "      <td>0.8737799</td>\n",
       "      <td>6.390</td>\n",
       "    </tr>\n",
       "    <tr>\n",
       "      <th>RIPK2</th>\n",
       "      <td>RIPK2</td>\n",
       "      <td>{Receptor-interacting serine/threonine-protein...</td>\n",
       "      <td>sorafenib</td>\n",
       "      <td>0.86517066</td>\n",
       "      <td>5.890</td>\n",
       "    </tr>\n",
       "    <tr>\n",
       "      <th>RIPK2</th>\n",
       "      <td>RIPK2</td>\n",
       "      <td>{Receptor-interacting serine/threonine-protein...</td>\n",
       "      <td>pazopanib</td>\n",
       "      <td>0.86695886</td>\n",
       "      <td>6.240</td>\n",
       "    </tr>\n",
       "    <tr>\n",
       "      <th>RIPK2</th>\n",
       "      <td>RIPK2</td>\n",
       "      <td>{Receptor-interacting serine/threonine-protein...</td>\n",
       "      <td>axitinib</td>\n",
       "      <td>0.8779775</td>\n",
       "      <td>5.000</td>\n",
       "    </tr>\n",
       "    <tr>\n",
       "      <th>RIPK2</th>\n",
       "      <td>RIPK2</td>\n",
       "      <td>{Receptor-interacting serine/threonine-protein...</td>\n",
       "      <td>afatinib</td>\n",
       "      <td>0.8623272</td>\n",
       "      <td>5.570</td>\n",
       "    </tr>\n",
       "    <tr>\n",
       "      <th>RIPK2</th>\n",
       "      <td>RIPK2</td>\n",
       "      <td>{Receptor-interacting serine/threonine-protein...</td>\n",
       "      <td>bosutinib</td>\n",
       "      <td>0.86295736</td>\n",
       "      <td>5.430</td>\n",
       "    </tr>\n",
       "    <tr>\n",
       "      <th>STAT3</th>\n",
       "      <td>STAT3</td>\n",
       "      <td>{Signal transducer and activator of transcript...</td>\n",
       "      <td>digitoxin</td>\n",
       "      <td>0.8624164</td>\n",
       "      <td>6.150</td>\n",
       "    </tr>\n",
       "    <tr>\n",
       "      <th>TBK1</th>\n",
       "      <td>TBK1</td>\n",
       "      <td>{Serine/threonine-protein kinase TBK1}</td>\n",
       "      <td>erlotinib</td>\n",
       "      <td>0.8737799</td>\n",
       "      <td>5.510</td>\n",
       "    </tr>\n",
       "    <tr>\n",
       "      <th>TBK1</th>\n",
       "      <td>TBK1</td>\n",
       "      <td>{Serine/threonine-protein kinase TBK1}</td>\n",
       "      <td>sunitinib</td>\n",
       "      <td>0.8685898</td>\n",
       "      <td>6.920</td>\n",
       "    </tr>\n",
       "    <tr>\n",
       "      <th>TBK1</th>\n",
       "      <td>TBK1</td>\n",
       "      <td>{Serine/threonine-protein kinase TBK1}</td>\n",
       "      <td>ruxolitinib</td>\n",
       "      <td>0.87487674</td>\n",
       "      <td>5.770</td>\n",
       "    </tr>\n",
       "    <tr>\n",
       "      <th>TBK1</th>\n",
       "      <td>TBK1</td>\n",
       "      <td>{Serine/threonine-protein kinase TBK1}</td>\n",
       "      <td>bosutinib</td>\n",
       "      <td>0.86295736</td>\n",
       "      <td>6.600</td>\n",
       "    </tr>\n",
       "  </tbody>\n",
       "</table>\n",
       "</div>"
      ],
      "text/plain": [
       "            name                                     protein_target  \\\n",
       "AR            AR                                {Androgen receptor}   \n",
       "AR            AR                                {Androgen receptor}   \n",
       "AURKC      AURKC                                  {Aurora kinase C}   \n",
       "AURKC      AURKC                                  {Aurora kinase C}   \n",
       "AURKC      AURKC                                  {Aurora kinase C}   \n",
       "AURKC      AURKC                                  {Aurora kinase C}   \n",
       "AURKC      AURKC                                  {Aurora kinase C}   \n",
       "AURKC      AURKC                                  {Aurora kinase C}   \n",
       "BRSK1      BRSK1            {Serine/threonine-protein kinase BRSK1}   \n",
       "CDK17      CDK17                       {Cyclin-dependent kinase 17}   \n",
       "CDK17      CDK17                       {Cyclin-dependent kinase 17}   \n",
       "CSNK2A2  CSNK2A2                  {Casein kinase II subunit alpha'}   \n",
       "CSNK2A2  CSNK2A2                  {Casein kinase II subunit alpha'}   \n",
       "CSNK2A2  CSNK2A2                  {Casein kinase II subunit alpha'}   \n",
       "DPP4        DPP4                           {Dipeptidyl peptidase 4}   \n",
       "ERBB3      ERBB3          {Receptor tyrosine-protein kinase erbB-3}   \n",
       "ERBB3      ERBB3          {Receptor tyrosine-protein kinase erbB-3}   \n",
       "ERBB3      ERBB3          {Receptor tyrosine-protein kinase erbB-3}   \n",
       "ERBB3      ERBB3          {Receptor tyrosine-protein kinase erbB-3}   \n",
       "FGFR3      FGFR3              {Fibroblast growth factor receptor 3}   \n",
       "FGFR3      FGFR3              {Fibroblast growth factor receptor 3}   \n",
       "FGFR3      FGFR3              {Fibroblast growth factor receptor 3}   \n",
       "FGFR3      FGFR3              {Fibroblast growth factor receptor 3}   \n",
       "FGFR3      FGFR3              {Fibroblast growth factor receptor 3}   \n",
       "MAP3K1    MAP3K1  {Mitogen-activated protein kinase kinase kinas...   \n",
       "MAP3K1    MAP3K1  {Mitogen-activated protein kinase kinase kinas...   \n",
       "MAP3K1    MAP3K1  {Mitogen-activated protein kinase kinase kinas...   \n",
       "MAPK1      MAPK1               {Mitogen-activated protein kinase 1}   \n",
       "MAPK8      MAPK8               {Mitogen-activated protein kinase 8}   \n",
       "MAPK8      MAPK8               {Mitogen-activated protein kinase 8}   \n",
       "MAPK8      MAPK8               {Mitogen-activated protein kinase 8}   \n",
       "MAPK8      MAPK8               {Mitogen-activated protein kinase 8}   \n",
       "MET          MET                {Hepatocyte growth factor receptor}   \n",
       "MET          MET                {Hepatocyte growth factor receptor}   \n",
       "MET          MET                {Hepatocyte growth factor receptor}   \n",
       "MET          MET                {Hepatocyte growth factor receptor}   \n",
       "MET          MET                {Hepatocyte growth factor receptor}   \n",
       "MET          MET                {Hepatocyte growth factor receptor}   \n",
       "PDE4B      PDE4B                              {Phosphodiesterase 4}   \n",
       "PDE4B      PDE4B                              {Phosphodiesterase 4}   \n",
       "RIPK2      RIPK2  {Receptor-interacting serine/threonine-protein...   \n",
       "RIPK2      RIPK2  {Receptor-interacting serine/threonine-protein...   \n",
       "RIPK2      RIPK2  {Receptor-interacting serine/threonine-protein...   \n",
       "RIPK2      RIPK2  {Receptor-interacting serine/threonine-protein...   \n",
       "RIPK2      RIPK2  {Receptor-interacting serine/threonine-protein...   \n",
       "RIPK2      RIPK2  {Receptor-interacting serine/threonine-protein...   \n",
       "RIPK2      RIPK2  {Receptor-interacting serine/threonine-protein...   \n",
       "STAT3      STAT3  {Signal transducer and activator of transcript...   \n",
       "TBK1        TBK1             {Serine/threonine-protein kinase TBK1}   \n",
       "TBK1        TBK1             {Serine/threonine-protein kinase TBK1}   \n",
       "TBK1        TBK1             {Serine/threonine-protein kinase TBK1}   \n",
       "TBK1        TBK1             {Serine/threonine-protein kinase TBK1}   \n",
       "\n",
       "                 drug        corr  affinity  \n",
       "AR       bicalutamide  0.87447727     7.720  \n",
       "AR       mifepristone   0.8636598     8.330  \n",
       "AURKC       erlotinib   0.8737799     6.220  \n",
       "AURKC       sorafenib  0.86517066     6.680  \n",
       "AURKC       sunitinib   0.8685898     6.660  \n",
       "AURKC       pazopanib  0.86695886     6.120  \n",
       "AURKC     ruxolitinib  0.87487674     5.060  \n",
       "AURKC        axitinib   0.8779775     8.890  \n",
       "BRSK1       sunitinib   0.8685898     5.460  \n",
       "CDK17       sorafenib  0.86517066     5.800  \n",
       "CDK17       sunitinib   0.8685898     5.920  \n",
       "CSNK2A2     sunitinib   0.8685898     6.800  \n",
       "CSNK2A2   ruxolitinib  0.87487674     5.480  \n",
       "CSNK2A2      axitinib   0.8779775     5.550  \n",
       "DPP4      sitagliptin  0.87657654     7.774  \n",
       "ERBB3       dasatinib  0.88256145     7.740  \n",
       "ERBB3       erlotinib   0.8737799     5.960  \n",
       "ERBB3        afatinib   0.8623272     5.350  \n",
       "ERBB3       bosutinib  0.86295736     9.110  \n",
       "FGFR3       dasatinib  0.88256145     5.410  \n",
       "FGFR3       sorafenib  0.86517066     5.380  \n",
       "FGFR3       sunitinib   0.8685898     6.540  \n",
       "FGFR3       pazopanib  0.86695886     6.210  \n",
       "FGFR3        axitinib   0.8779775     6.680  \n",
       "MAP3K1      pazopanib  0.86695886     5.540  \n",
       "MAP3K1    ruxolitinib  0.87487674     5.380  \n",
       "MAP3K1      bosutinib  0.86295736     5.360  \n",
       "MAPK1       sorafenib  0.86517066     6.960  \n",
       "MAPK8        imatinib   0.8705536     5.490  \n",
       "MAPK8       pazopanib  0.86695886     5.700  \n",
       "MAPK8     ruxolitinib  0.87487674     5.320  \n",
       "MAPK8        axitinib   0.8779775     5.410  \n",
       "MET         erlotinib   0.8737799     5.960  \n",
       "MET         sunitinib   0.8685898     5.920  \n",
       "MET         pazopanib  0.86695886     5.700  \n",
       "MET          axitinib   0.8779775     6.090  \n",
       "MET          afatinib   0.8623272     5.660  \n",
       "MET         bosutinib  0.86295736     5.660  \n",
       "PDE4B       milrinone  0.86071634     5.220  \n",
       "PDE4B      vardenafil  0.86345553     5.350  \n",
       "RIPK2       dasatinib  0.88256145     7.510  \n",
       "RIPK2       erlotinib   0.8737799     6.390  \n",
       "RIPK2       sorafenib  0.86517066     5.890  \n",
       "RIPK2       pazopanib  0.86695886     6.240  \n",
       "RIPK2        axitinib   0.8779775     5.000  \n",
       "RIPK2        afatinib   0.8623272     5.570  \n",
       "RIPK2       bosutinib  0.86295736     5.430  \n",
       "STAT3       digitoxin   0.8624164     6.150  \n",
       "TBK1        erlotinib   0.8737799     5.510  \n",
       "TBK1        sunitinib   0.8685898     6.920  \n",
       "TBK1      ruxolitinib  0.87487674     5.770  \n",
       "TBK1        bosutinib  0.86295736     6.600  "
      ]
     },
     "execution_count": 29,
     "metadata": {},
     "output_type": "execute_result"
    }
   ],
   "source": [
    "# Construct table of drug targets in the network\n",
    "drug_targets_df = drugs2.drug_targets_in_selected_network(network_selected)\n",
    "drug_targets_df.to_csv(r'../Save_RandomizePPI/drug_targets_in_network.tsv', header=True, index=None, sep='\\t', quoting = csv.QUOTE_NONE, escapechar = '\\t')\n",
    "drug_targets_df['affinity'] = pd.to_numeric(drug_targets_df['affinity'], errors='coerce')\n",
    "drug_targets_df.dropna(subset=['affinity'], inplace=True)\n",
    "drug_targets_df"
   ]
  },
  {
   "cell_type": "code",
   "execution_count": 30,
   "metadata": {},
   "outputs": [],
   "source": [
    "# Save drug/target dataframe to csv\n",
    "drug_targets_df.to_csv(r'../Save_RandomizePPI/final_drug_target_table.tsv', header=True, index=None, sep='\\t', quoting = csv.QUOTE_NONE, escapechar = '\\t')"
   ]
  },
  {
   "cell_type": "markdown",
   "metadata": {},
   "source": [
    "# Compare to non-randomized analysis"
   ]
  },
  {
   "cell_type": "code",
   "execution_count": 31,
   "metadata": {},
   "outputs": [
    {
     "data": {
      "text/html": [
       "<div>\n",
       "<style scoped>\n",
       "    .dataframe tbody tr th:only-of-type {\n",
       "        vertical-align: middle;\n",
       "    }\n",
       "\n",
       "    .dataframe tbody tr th {\n",
       "        vertical-align: top;\n",
       "    }\n",
       "\n",
       "    .dataframe thead th {\n",
       "        text-align: right;\n",
       "    }\n",
       "</style>\n",
       "<table border=\"1\" class=\"dataframe\">\n",
       "  <thead>\n",
       "    <tr style=\"text-align: right;\">\n",
       "      <th></th>\n",
       "      <th>name</th>\n",
       "      <th>protein_target</th>\n",
       "      <th>drug</th>\n",
       "      <th>corr</th>\n",
       "      <th>affinity</th>\n",
       "    </tr>\n",
       "  </thead>\n",
       "  <tbody>\n",
       "    <tr>\n",
       "      <th>0</th>\n",
       "      <td>ACVR2A</td>\n",
       "      <td>{'Activin receptor type-2A'}</td>\n",
       "      <td>dasatinib</td>\n",
       "      <td>0.882561</td>\n",
       "      <td>6.68</td>\n",
       "    </tr>\n",
       "    <tr>\n",
       "      <th>1</th>\n",
       "      <td>AURKC</td>\n",
       "      <td>{'Aurora kinase C'}</td>\n",
       "      <td>erlotinib</td>\n",
       "      <td>0.873780</td>\n",
       "      <td>6.22</td>\n",
       "    </tr>\n",
       "    <tr>\n",
       "      <th>2</th>\n",
       "      <td>AURKC</td>\n",
       "      <td>{'Aurora kinase C'}</td>\n",
       "      <td>sorafenib</td>\n",
       "      <td>0.865171</td>\n",
       "      <td>6.68</td>\n",
       "    </tr>\n",
       "    <tr>\n",
       "      <th>3</th>\n",
       "      <td>AURKC</td>\n",
       "      <td>{'Aurora kinase C'}</td>\n",
       "      <td>sunitinib</td>\n",
       "      <td>0.868590</td>\n",
       "      <td>6.66</td>\n",
       "    </tr>\n",
       "    <tr>\n",
       "      <th>4</th>\n",
       "      <td>AURKC</td>\n",
       "      <td>{'Aurora kinase C'}</td>\n",
       "      <td>pazopanib</td>\n",
       "      <td>0.866959</td>\n",
       "      <td>6.12</td>\n",
       "    </tr>\n",
       "  </tbody>\n",
       "</table>\n",
       "</div>"
      ],
      "text/plain": [
       "     name                protein_target       drug      corr  affinity\n",
       "0  ACVR2A  {'Activin receptor type-2A'}  dasatinib  0.882561      6.68\n",
       "1   AURKC           {'Aurora kinase C'}  erlotinib  0.873780      6.22\n",
       "2   AURKC           {'Aurora kinase C'}  sorafenib  0.865171      6.68\n",
       "3   AURKC           {'Aurora kinase C'}  sunitinib  0.868590      6.66\n",
       "4   AURKC           {'Aurora kinase C'}  pazopanib  0.866959      6.12"
      ]
     },
     "execution_count": 31,
     "metadata": {},
     "output_type": "execute_result"
    }
   ],
   "source": [
    "# Drug/target dataframe in the non-randomized case\n",
    "drug_targets_df_norandom_file_name = '../Save/final_drug_target_table.tsv'\n",
    "drug_targets_df_norandom = pd.read_csv(drug_targets_df_norandom_file_name, sep = '\\t')\n",
    "drug_targets_df_norandom.head()"
   ]
  },
  {
   "cell_type": "code",
   "execution_count": 32,
   "metadata": {},
   "outputs": [
    {
     "data": {
      "text/plain": [
       "<matplotlib_venn._common.VennDiagram at 0x7f9314195310>"
      ]
     },
     "execution_count": 32,
     "metadata": {},
     "output_type": "execute_result"
    },
    {
     "data": {
      "image/png": "[encoded data removed]",
      "text/plain": [
       "<Figure size 432x288 with 1 Axes>"
      ]
     },
     "metadata": {},
     "output_type": "display_data"
    }
   ],
   "source": [
    "# Common gene targets\n",
    "targets_random = set(drug_targets_df['name'])\n",
    "targets_norandom = set(drug_targets_df_norandom['name'])\n",
    "venn2(subsets = [targets_random,targets_norandom],set_labels = ('Randomized gene labels','Original analysis'))"
   ]
  },
  {
   "cell_type": "code",
   "execution_count": 33,
   "metadata": {},
   "outputs": [
    {
     "name": "stdout",
     "output_type": "stream",
     "text": [
      "             drug  num_targets  num_terminal_targets  max_target_centrality\n",
      "1485  tofacitinib           43                     0               0.018657\n",
      "1590   vorinostat           32                     0               0.027478\n",
      "469     docetaxel           13                     0               0.047849\n",
      "140    belinostat           11                     0               0.027478\n",
      "652    formoterol            5                     0               0.040678\n",
      "1213   primaquine            5                     0               0.040678\n",
      "              drug  num_targets  num_terminal_targets  max_target_centrality\n",
      "952   mifepristone           10                     0               0.034268\n",
      "443      digitoxin            9                     0               0.013073\n",
      "1356   sitagliptin            2                     0               0.001840\n",
      "170   bicalutamide            2                     0               0.018721\n",
      "             drug  num_targets  num_terminal_targets  max_target_centrality\n",
      "1399    sunitinib          260                     4               0.047849\n",
      "189     bosutinib          203                     1               0.047849\n",
      "1319  ruxolitinib          132                     1               0.024242\n",
      "393     dasatinib          128                     2               0.047849\n",
      "1368    sorafenib          116                     4               0.033063\n",
      "1125    pazopanib          103                     3               0.024876\n",
      "127      axitinib           99                     3               0.047849\n",
      "545     erlotinib           96                     2               0.047849\n",
      "747      imatinib           69                     0               0.047849\n",
      "31       afatinib           38                     1               0.047849\n",
      "1563   vardenafil           13                     1               0.002538\n",
      "957     milrinone            9                     1               0.002538\n"
     ]
    },
    {
     "data": {
      "image/png": "[encoded data removed]",
      "text/plain": [
       "<Figure size 432x288 with 1 Axes>"
      ]
     },
     "metadata": {},
     "output_type": "display_data"
    }
   ],
   "source": [
    "# Common drugs\n",
    "drugs_random = set(drug_targets_df['drug'])\n",
    "drugs_norandom = set(drug_targets_df_norandom['drug'])\n",
    "venn2(subsets = [drugs_random,drugs_norandom],set_labels = ('Randomized gene labels','Original analysis'))\n",
    "original_minus_random = num_targets_df.loc[num_targets_df['drug'].isin(drugs_norandom.difference(drugs_random))]\n",
    "random_minus_original = num_targets_df.loc[num_targets_df['drug'].isin(drugs_random.difference(drugs_norandom))]\n",
    "original_inter_random = num_targets_df.loc[num_targets_df['drug'].isin(drugs_norandom.intersection(drugs_random))]\n",
    "print(original_minus_random)\n",
    "print(random_minus_original)\n",
    "print(original_inter_random)"
   ]
  },
  {
   "cell_type": "markdown",
   "metadata": {},
   "source": [
    "# Repeat randomization and measure robustness of selected drugs"
   ]
  },
  {
   "cell_type": "code",
   "execution_count": 35,
   "metadata": {},
   "outputs": [],
   "source": [
    "# Number of repetitions\n",
    "N = 1000\n",
    "\n",
    "# Steiner tree parameter\n",
    "hyperparams = {\"w\": 1.4, \n",
    "               \"b\": 40, \n",
    "               \"g\": 0,\n",
    "               \"pruning\": 'strong',\n",
    "               \"edge_noise\": 0, \n",
    "               \"dummy_mode\": \"terminals\", \n",
    "               \"seed\": 0, \n",
    "               \"skip_checks\": False,\n",
    "               \"verbosity_level\": 0}\n",
    "\n",
    "# Table of selected drugs in the original study\n",
    "original_drugs = num_targets_df.copy()\n",
    "original_drugs = original_drugs[num_targets_df['drug'].isin(drugs_norandom)]\n",
    "original_drugs.insert(3,\"num_appearance\",np.zeros(len(original_drugs['drug'])))\n",
    "\n",
    "# Table of drugs that were not selected in the original study\n",
    "non_original_drugs = num_targets_df.copy()\n",
    "non_original_drugs = non_original_drugs[~num_targets_df['drug'].isin(drugs_norandom)]\n",
    "non_original_drugs.insert(3,\"num_appearance\",np.zeros(len(non_original_drugs['drug'])))"
   ]
  },
  {
   "cell_type": "code",
   "execution_count": 36,
   "metadata": {
    "scrolled": true
   },
   "outputs": [
    {
     "name": "stderr",
     "output_type": "stream",
     "text": [
      "05:08:31 - OI2: INFO - Duplicated gene symbols in the prize file (we'll keep the max prize):\n",
      "05:08:31 - OI2: INFO - []\n",
      "05:08:31 - OI2: INFO - Members of the prize file not present in the interactome:\n",
      "05:08:31 - OI2: INFO - []\n"
     ]
    },
    {
     "name": "stdout",
     "output_type": "stream",
     "text": [
      "progress = 0.0%\n"
     ]
    },
    {
     "name": "stderr",
     "output_type": "stream",
     "text": [
      "05:08:35 - OI2: INFO - Duplicated gene symbols in the prize file (we'll keep the max prize):\n",
      "05:08:35 - OI2: INFO - []\n",
      "05:08:35 - OI2: INFO - Members of the prize file not present in the interactome:\n",
      "05:08:35 - OI2: INFO - []\n"
     ]
    },
    {
     "name": "stdout",
     "output_type": "stream",
     "text": [
      "progress = 0.1%\n"
     ]
    },
    {
     "name": "stderr",
     "output_type": "stream",
     "text": [
      "05:08:39 - OI2: INFO - Duplicated gene symbols in the prize file (we'll keep the max prize):\n",
      "05:08:39 - OI2: INFO - []\n",
      "05:08:39 - OI2: INFO - Members of the prize file not present in the interactome:\n",
      "05:08:39 - OI2: INFO - []\n"
     ]
    },
    {
     "name": "stdout",
     "output_type": "stream",
     "text": [
      "progress = 0.2%\n"
     ]
    },
    {
     "name": "stderr",
     "output_type": "stream",
     "text": [
      "05:08:44 - OI2: INFO - Duplicated gene symbols in the prize file (we'll keep the max prize):\n",
      "05:08:44 - OI2: INFO - []\n",
      "05:08:44 - OI2: INFO - Members of the prize file not present in the interactome:\n",
      "05:08:44 - OI2: INFO - []\n"
     ]
    },
    {
     "name": "stdout",
     "output_type": "stream",
     "text": [
      "progress = 0.3%\n"
     ]
    },
    {
     "name": "stderr",
     "output_type": "stream",
     "text": [
      "05:08:51 - OI2: INFO - Duplicated gene symbols in the prize file (we'll keep the max prize):\n",
      "05:08:51 - OI2: INFO - []\n",
      "05:08:51 - OI2: INFO - Members of the prize file not present in the interactome:\n",
      "05:08:51 - OI2: INFO - []\n"
     ]
    },
    {
     "name": "stdout",
     "output_type": "stream",
     "text": [
      "progress = 0.4%\n"
     ]
    },
    {
     "name": "stderr",
     "output_type": "stream",
     "text": [
      "05:08:56 - OI2: INFO - Duplicated gene symbols in the prize file (we'll keep the max prize):\n",
      "05:08:56 - OI2: INFO - []\n",
      "05:08:56 - OI2: INFO - Members of the prize file not present in the interactome:\n",
      "05:08:56 - OI2: INFO - []\n"
     ]
    },
    {
     "name": "stdout",
     "output_type": "stream",
     "text": [
      "progress = 0.5%\n"
     ]
    },
    {
     "name": "stderr",
     "output_type": "stream",
     "text": [
      "05:08:59 - OI2: INFO - Duplicated gene symbols in the prize file (we'll keep the max prize):\n",
      "05:08:59 - OI2: INFO - []\n",
      "05:08:59 - OI2: INFO - Members of the prize file not present in the interactome:\n",
      "05:08:59 - OI2: INFO - []\n"
     ]
    },
    {
     "name": "stdout",
     "output_type": "stream",
     "text": [
      "progress = 0.6%\n"
     ]
    },
    {
     "name": "stderr",
     "output_type": "stream",
     "text": [
      "05:09:03 - OI2: INFO - Duplicated gene symbols in the prize file (we'll keep the max prize):\n",
      "05:09:03 - OI2: INFO - []\n",
      "05:09:03 - OI2: INFO - Members of the prize file not present in the interactome:\n",
      "05:09:03 - OI2: INFO - []\n"
     ]
    },
    {
     "name": "stdout",
     "output_type": "stream",
     "text": [
      "progress = 0.7000000000000001%\n"
     ]
    },
    {
     "name": "stderr",
     "output_type": "stream",
     "text": [
      "05:09:06 - OI2: INFO - Duplicated gene symbols in the prize file (we'll keep the max prize):\n",
      "05:09:06 - OI2: INFO - []\n",
      "05:09:06 - OI2: INFO - Members of the prize file not present in the interactome:\n",
      "05:09:06 - OI2: INFO - []\n"
     ]
    },
    {
     "name": "stdout",
     "output_type": "stream",
     "text": [
      "progress = 0.8%\n"
     ]
    },
    {
     "name": "stderr",
     "output_type": "stream",
     "text": [
      "05:09:10 - OI2: INFO - Duplicated gene symbols in the prize file (we'll keep the max prize):\n",
      "05:09:10 - OI2: INFO - []\n",
      "05:09:10 - OI2: INFO - Members of the prize file not present in the interactome:\n",
      "05:09:10 - OI2: INFO - []\n"
     ]
    },
    {
     "name": "stdout",
     "output_type": "stream",
     "text": [
      "progress = 0.8999999999999999%\n"
     ]
    },
    {
     "name": "stderr",
     "output_type": "stream",
     "text": [
      "05:09:14 - OI2: INFO - Duplicated gene symbols in the prize file (we'll keep the max prize):\n",
      "05:09:14 - OI2: INFO - []\n",
      "05:09:14 - OI2: INFO - Members of the prize file not present in the interactome:\n",
      "05:09:14 - OI2: INFO - []\n"
     ]
    },
    {
     "name": "stdout",
     "output_type": "stream",
     "text": [
      "progress = 1.0%\n"
     ]
    },
    {
     "name": "stderr",
     "output_type": "stream",
     "text": [
      "05:09:18 - OI2: INFO - Duplicated gene symbols in the prize file (we'll keep the max prize):\n",
      "05:09:18 - OI2: INFO - []\n",
      "05:09:18 - OI2: INFO - Members of the prize file not present in the interactome:\n",
      "05:09:18 - OI2: INFO - []\n"
     ]
    },
    {
     "name": "stdout",
     "output_type": "stream",
     "text": [
      "progress = 1.0999999999999999%\n"
     ]
    },
    {
     "name": "stderr",
     "output_type": "stream",
     "text": [
      "05:09:21 - OI2: INFO - Duplicated gene symbols in the prize file (we'll keep the max prize):\n",
      "05:09:21 - OI2: INFO - []\n",
      "05:09:21 - OI2: INFO - Members of the prize file not present in the interactome:\n",
      "05:09:21 - OI2: INFO - []\n"
     ]
    },
    {
     "name": "stdout",
     "output_type": "stream",
     "text": [
      "progress = 1.2%\n"
     ]
    },
    {
     "name": "stderr",
     "output_type": "stream",
     "text": [
      "05:09:24 - OI2: INFO - Duplicated gene symbols in the prize file (we'll keep the max prize):\n",
      "05:09:24 - OI2: INFO - []\n",
      "05:09:24 - OI2: INFO - Members of the prize file not present in the interactome:\n",
      "05:09:24 - OI2: INFO - []\n"
     ]
    },
    {
     "name": "stdout",
     "output_type": "stream",
     "text": [
      "progress = 1.3%\n"
     ]
    },
    {
     "name": "stderr",
     "output_type": "stream",
     "text": [
      "05:09:28 - OI2: INFO - Duplicated gene symbols in the prize file (we'll keep the max prize):\n",
      "05:09:28 - OI2: INFO - []\n",
      "05:09:28 - OI2: INFO - Members of the prize file not present in the interactome:\n",
      "05:09:28 - OI2: INFO - []\n"
     ]
    },
    {
     "name": "stdout",
     "output_type": "stream",
     "text": [
      "progress = 1.4000000000000001%\n"
     ]
    },
    {
     "name": "stderr",
     "output_type": "stream",
     "text": [
      "05:09:31 - OI2: INFO - Duplicated gene symbols in the prize file (we'll keep the max prize):\n",
      "05:09:31 - OI2: INFO - []\n",
      "05:09:31 - OI2: INFO - Members of the prize file not present in the interactome:\n",
      "05:09:31 - OI2: INFO - []\n"
     ]
    },
    {
     "name": "stdout",
     "output_type": "stream",
     "text": [
      "progress = 1.5%\n"
     ]
    },
    {
     "name": "stderr",
     "output_type": "stream",
     "text": [
      "05:09:34 - OI2: INFO - Duplicated gene symbols in the prize file (we'll keep the max prize):\n",
      "05:09:34 - OI2: INFO - []\n",
      "05:09:34 - OI2: INFO - Members of the prize file not present in the interactome:\n",
      "05:09:34 - OI2: INFO - []\n"
     ]
    },
    {
     "name": "stdout",
     "output_type": "stream",
     "text": [
      "progress = 1.6%\n"
     ]
    },
    {
     "name": "stderr",
     "output_type": "stream",
     "text": [
      "05:09:38 - OI2: INFO - Duplicated gene symbols in the prize file (we'll keep the max prize):\n",
      "05:09:38 - OI2: INFO - []\n",
      "05:09:38 - OI2: INFO - Members of the prize file not present in the interactome:\n",
      "05:09:38 - OI2: INFO - []\n"
     ]
    },
    {
     "name": "stdout",
     "output_type": "stream",
     "text": [
      "progress = 1.7000000000000002%\n"
     ]
    },
    {
     "name": "stderr",
     "output_type": "stream",
     "text": [
      "05:09:41 - OI2: INFO - Duplicated gene symbols in the prize file (we'll keep the max prize):\n",
      "05:09:41 - OI2: INFO - []\n",
      "05:09:41 - OI2: INFO - Members of the prize file not present in the interactome:\n",
      "05:09:41 - OI2: INFO - []\n"
     ]
    },
    {
     "name": "stdout",
     "output_type": "stream",
     "text": [
      "progress = 1.7999999999999998%\n"
     ]
    },
    {
     "name": "stderr",
     "output_type": "stream",
     "text": [
      "05:09:44 - OI2: INFO - Duplicated gene symbols in the prize file (we'll keep the max prize):\n",
      "05:09:44 - OI2: INFO - []\n",
      "05:09:44 - OI2: INFO - Members of the prize file not present in the interactome:\n",
      "05:09:44 - OI2: INFO - []\n"
     ]
    },
    {
     "name": "stdout",
     "output_type": "stream",
     "text": [
      "progress = 1.9%\n"
     ]
    },
    {
     "name": "stderr",
     "output_type": "stream",
     "text": [
      "05:09:47 - OI2: INFO - Duplicated gene symbols in the prize file (we'll keep the max prize):\n",
      "05:09:47 - OI2: INFO - []\n",
      "05:09:47 - OI2: INFO - Members of the prize file not present in the interactome:\n",
      "05:09:47 - OI2: INFO - []\n"
     ]
    },
    {
     "name": "stdout",
     "output_type": "stream",
     "text": [
      "progress = 2.0%\n"
     ]
    },
    {
     "name": "stderr",
     "output_type": "stream",
     "text": [
      "05:09:50 - OI2: INFO - Duplicated gene symbols in the prize file (we'll keep the max prize):\n",
      "05:09:50 - OI2: INFO - []\n",
      "05:09:50 - OI2: INFO - Members of the prize file not present in the interactome:\n",
      "05:09:50 - OI2: INFO - []\n"
     ]
    },
    {
     "name": "stdout",
     "output_type": "stream",
     "text": [
      "progress = 2.1%\n"
     ]
    },
    {
     "name": "stderr",
     "output_type": "stream",
     "text": [
      "05:09:54 - OI2: INFO - Duplicated gene symbols in the prize file (we'll keep the max prize):\n",
      "05:09:54 - OI2: INFO - []\n",
      "05:09:54 - OI2: INFO - Members of the prize file not present in the interactome:\n",
      "05:09:54 - OI2: INFO - []\n"
     ]
    },
    {
     "name": "stdout",
     "output_type": "stream",
     "text": [
      "progress = 2.1999999999999997%\n"
     ]
    },
    {
     "name": "stderr",
     "output_type": "stream",
     "text": [
      "05:09:57 - OI2: INFO - Duplicated gene symbols in the prize file (we'll keep the max prize):\n",
      "05:09:57 - OI2: INFO - []\n",
      "05:09:57 - OI2: INFO - Members of the prize file not present in the interactome:\n",
      "05:09:57 - OI2: INFO - []\n"
     ]
    },
    {
     "name": "stdout",
     "output_type": "stream",
     "text": [
      "progress = 2.3%\n"
     ]
    },
    {
     "name": "stderr",
     "output_type": "stream",
     "text": [
      "05:10:00 - OI2: INFO - Duplicated gene symbols in the prize file (we'll keep the max prize):\n",
      "05:10:00 - OI2: INFO - []\n",
      "05:10:00 - OI2: INFO - Members of the prize file not present in the interactome:\n",
      "05:10:00 - OI2: INFO - []\n"
     ]
    },
    {
     "name": "stdout",
     "output_type": "stream",
     "text": [
      "progress = 2.4%\n"
     ]
    },
    {
     "name": "stderr",
     "output_type": "stream",
     "text": [
      "05:10:03 - OI2: INFO - Duplicated gene symbols in the prize file (we'll keep the max prize):\n",
      "05:10:03 - OI2: INFO - []\n",
      "05:10:03 - OI2: INFO - Members of the prize file not present in the interactome:\n",
      "05:10:03 - OI2: INFO - []\n"
     ]
    },
    {
     "name": "stdout",
     "output_type": "stream",
     "text": [
      "progress = 2.5%\n"
     ]
    },
    {
     "name": "stderr",
     "output_type": "stream",
     "text": [
      "05:10:06 - OI2: INFO - Duplicated gene symbols in the prize file (we'll keep the max prize):\n",
      "05:10:06 - OI2: INFO - []\n",
      "05:10:06 - OI2: INFO - Members of the prize file not present in the interactome:\n",
      "05:10:06 - OI2: INFO - []\n"
     ]
    },
    {
     "name": "stdout",
     "output_type": "stream",
     "text": [
      "progress = 2.6%\n"
     ]
    },
    {
     "name": "stderr",
     "output_type": "stream",
     "text": [
      "05:10:10 - OI2: INFO - Duplicated gene symbols in the prize file (we'll keep the max prize):\n",
      "05:10:10 - OI2: INFO - []\n",
      "05:10:10 - OI2: INFO - Members of the prize file not present in the interactome:\n",
      "05:10:10 - OI2: INFO - []\n"
     ]
    },
    {
     "name": "stdout",
     "output_type": "stream",
     "text": [
      "progress = 2.7%\n"
     ]
    },
    {
     "name": "stderr",
     "output_type": "stream",
     "text": [
      "05:10:14 - OI2: INFO - Duplicated gene symbols in the prize file (we'll keep the max prize):\n",
      "05:10:14 - OI2: INFO - []\n",
      "05:10:14 - OI2: INFO - Members of the prize file not present in the interactome:\n",
      "05:10:14 - OI2: INFO - []\n"
     ]
    },
    {
     "name": "stdout",
     "output_type": "stream",
     "text": [
      "progress = 2.8000000000000003%\n"
     ]
    },
    {
     "name": "stderr",
     "output_type": "stream",
     "text": [
      "05:10:17 - OI2: INFO - Duplicated gene symbols in the prize file (we'll keep the max prize):\n",
      "05:10:17 - OI2: INFO - []\n",
      "05:10:17 - OI2: INFO - Members of the prize file not present in the interactome:\n",
      "05:10:17 - OI2: INFO - []\n"
     ]
    },
    {
     "name": "stdout",
     "output_type": "stream",
     "text": [
      "progress = 2.9000000000000004%\n"
     ]
    },
    {
     "name": "stderr",
     "output_type": "stream",
     "text": [
      "05:10:21 - OI2: INFO - Duplicated gene symbols in the prize file (we'll keep the max prize):\n",
      "05:10:21 - OI2: INFO - []\n",
      "05:10:21 - OI2: INFO - Members of the prize file not present in the interactome:\n",
      "05:10:21 - OI2: INFO - []\n"
     ]
    },
    {
     "name": "stdout",
     "output_type": "stream",
     "text": [
      "progress = 3.0%\n"
     ]
    },
    {
     "name": "stderr",
     "output_type": "stream",
     "text": [
      "05:10:25 - OI2: INFO - Duplicated gene symbols in the prize file (we'll keep the max prize):\n",
      "05:10:25 - OI2: INFO - []\n",
      "05:10:25 - OI2: INFO - Members of the prize file not present in the interactome:\n",
      "05:10:25 - OI2: INFO - []\n"
     ]
    },
    {
     "name": "stdout",
     "output_type": "stream",
     "text": [
      "progress = 3.1%\n"
     ]
    },
    {
     "name": "stderr",
     "output_type": "stream",
     "text": [
      "05:10:29 - OI2: INFO - Duplicated gene symbols in the prize file (we'll keep the max prize):\n",
      "05:10:29 - OI2: INFO - []\n",
      "05:10:29 - OI2: INFO - Members of the prize file not present in the interactome:\n",
      "05:10:29 - OI2: INFO - []\n"
     ]
    },
    {
     "name": "stdout",
     "output_type": "stream",
     "text": [
      "progress = 3.2%\n"
     ]
    },
    {
     "name": "stderr",
     "output_type": "stream",
     "text": [
      "05:10:33 - OI2: INFO - Duplicated gene symbols in the prize file (we'll keep the max prize):\n",
      "05:10:33 - OI2: INFO - []\n",
      "05:10:33 - OI2: INFO - Members of the prize file not present in the interactome:\n",
      "05:10:33 - OI2: INFO - []\n"
     ]
    },
    {
     "name": "stdout",
     "output_type": "stream",
     "text": [
      "progress = 3.3000000000000003%\n"
     ]
    },
    {
     "name": "stderr",
     "output_type": "stream",
     "text": [
      "05:10:36 - OI2: INFO - Duplicated gene symbols in the prize file (we'll keep the max prize):\n",
      "05:10:36 - OI2: INFO - []\n",
      "05:10:36 - OI2: INFO - Members of the prize file not present in the interactome:\n",
      "05:10:36 - OI2: INFO - []\n"
     ]
    },
    {
     "name": "stdout",
     "output_type": "stream",
     "text": [
      "progress = 3.4000000000000004%\n"
     ]
    },
    {
     "name": "stderr",
     "output_type": "stream",
     "text": [
      "05:10:40 - OI2: INFO - Duplicated gene symbols in the prize file (we'll keep the max prize):\n",
      "05:10:40 - OI2: INFO - []\n",
      "05:10:40 - OI2: INFO - Members of the prize file not present in the interactome:\n",
      "05:10:40 - OI2: INFO - []\n"
     ]
    },
    {
     "name": "stdout",
     "output_type": "stream",
     "text": [
      "progress = 3.5000000000000004%\n"
     ]
    },
    {
     "name": "stderr",
     "output_type": "stream",
     "text": [
      "05:10:43 - OI2: INFO - Duplicated gene symbols in the prize file (we'll keep the max prize):\n",
      "05:10:43 - OI2: INFO - []\n",
      "05:10:44 - OI2: INFO - Members of the prize file not present in the interactome:\n",
      "05:10:44 - OI2: INFO - []\n"
     ]
    },
    {
     "name": "stdout",
     "output_type": "stream",
     "text": [
      "progress = 3.5999999999999996%\n"
     ]
    },
    {
     "name": "stderr",
     "output_type": "stream",
     "text": [
      "05:10:47 - OI2: INFO - Duplicated gene symbols in the prize file (we'll keep the max prize):\n",
      "05:10:47 - OI2: INFO - []\n",
      "05:10:47 - OI2: INFO - Members of the prize file not present in the interactome:\n",
      "05:10:47 - OI2: INFO - []\n"
     ]
    },
    {
     "name": "stdout",
     "output_type": "stream",
     "text": [
      "progress = 3.6999999999999997%\n"
     ]
    },
    {
     "name": "stderr",
     "output_type": "stream",
     "text": [
      "05:10:51 - OI2: INFO - Duplicated gene symbols in the prize file (we'll keep the max prize):\n",
      "05:10:51 - OI2: INFO - []\n",
      "05:10:51 - OI2: INFO - Members of the prize file not present in the interactome:\n",
      "05:10:51 - OI2: INFO - []\n"
     ]
    },
    {
     "name": "stdout",
     "output_type": "stream",
     "text": [
      "progress = 3.8%\n"
     ]
    },
    {
     "name": "stderr",
     "output_type": "stream",
     "text": [
      "05:10:54 - OI2: INFO - Duplicated gene symbols in the prize file (we'll keep the max prize):\n",
      "05:10:54 - OI2: INFO - []\n",
      "05:10:54 - OI2: INFO - Members of the prize file not present in the interactome:\n",
      "05:10:54 - OI2: INFO - []\n"
     ]
    },
    {
     "name": "stdout",
     "output_type": "stream",
     "text": [
      "progress = 3.9%\n"
     ]
    },
    {
     "name": "stderr",
     "output_type": "stream",
     "text": [
      "05:10:58 - OI2: INFO - Duplicated gene symbols in the prize file (we'll keep the max prize):\n",
      "05:10:58 - OI2: INFO - []\n",
      "05:10:58 - OI2: INFO - Members of the prize file not present in the interactome:\n",
      "05:10:58 - OI2: INFO - []\n"
     ]
    },
    {
     "name": "stdout",
     "output_type": "stream",
     "text": [
      "progress = 4.0%\n"
     ]
    },
    {
     "name": "stderr",
     "output_type": "stream",
     "text": [
      "05:11:02 - OI2: INFO - Duplicated gene symbols in the prize file (we'll keep the max prize):\n",
      "05:11:02 - OI2: INFO - []\n",
      "05:11:02 - OI2: INFO - Members of the prize file not present in the interactome:\n",
      "05:11:02 - OI2: INFO - []\n"
     ]
    },
    {
     "name": "stdout",
     "output_type": "stream",
     "text": [
      "progress = 4.1000000000000005%\n"
     ]
    },
    {
     "name": "stderr",
     "output_type": "stream",
     "text": [
      "05:11:06 - OI2: INFO - Duplicated gene symbols in the prize file (we'll keep the max prize):\n",
      "05:11:06 - OI2: INFO - []\n",
      "05:11:06 - OI2: INFO - Members of the prize file not present in the interactome:\n",
      "05:11:06 - OI2: INFO - []\n"
     ]
    },
    {
     "name": "stdout",
     "output_type": "stream",
     "text": [
      "progress = 4.2%\n"
     ]
    },
    {
     "name": "stderr",
     "output_type": "stream",
     "text": [
      "05:11:10 - OI2: INFO - Duplicated gene symbols in the prize file (we'll keep the max prize):\n",
      "05:11:10 - OI2: INFO - []\n",
      "05:11:10 - OI2: INFO - Members of the prize file not present in the interactome:\n",
      "05:11:10 - OI2: INFO - []\n"
     ]
    },
    {
     "name": "stdout",
     "output_type": "stream",
     "text": [
      "progress = 4.3%\n"
     ]
    },
    {
     "name": "stderr",
     "output_type": "stream",
     "text": [
      "05:11:13 - OI2: INFO - Duplicated gene symbols in the prize file (we'll keep the max prize):\n",
      "05:11:13 - OI2: INFO - []\n",
      "05:11:13 - OI2: INFO - Members of the prize file not present in the interactome:\n",
      "05:11:13 - OI2: INFO - []\n"
     ]
    },
    {
     "name": "stdout",
     "output_type": "stream",
     "text": [
      "progress = 4.3999999999999995%\n"
     ]
    },
    {
     "name": "stderr",
     "output_type": "stream",
     "text": [
      "05:11:17 - OI2: INFO - Duplicated gene symbols in the prize file (we'll keep the max prize):\n",
      "05:11:17 - OI2: INFO - []\n",
      "05:11:17 - OI2: INFO - Members of the prize file not present in the interactome:\n",
      "05:11:17 - OI2: INFO - []\n"
     ]
    },
    {
     "name": "stdout",
     "output_type": "stream",
     "text": [
      "progress = 4.5%\n"
     ]
    },
    {
     "name": "stderr",
     "output_type": "stream",
     "text": [
      "05:11:21 - OI2: INFO - Duplicated gene symbols in the prize file (we'll keep the max prize):\n",
      "05:11:21 - OI2: INFO - []\n",
      "05:11:21 - OI2: INFO - Members of the prize file not present in the interactome:\n",
      "05:11:21 - OI2: INFO - []\n"
     ]
    },
    {
     "name": "stdout",
     "output_type": "stream",
     "text": [
      "progress = 4.6%\n"
     ]
    },
    {
     "name": "stderr",
     "output_type": "stream",
     "text": [
      "05:11:25 - OI2: INFO - Duplicated gene symbols in the prize file (we'll keep the max prize):\n",
      "05:11:25 - OI2: INFO - []\n",
      "05:11:25 - OI2: INFO - Members of the prize file not present in the interactome:\n",
      "05:11:25 - OI2: INFO - []\n"
     ]
    },
    {
     "name": "stdout",
     "output_type": "stream",
     "text": [
      "progress = 4.7%\n"
     ]
    },
    {
     "name": "stderr",
     "output_type": "stream",
     "text": [
      "05:11:28 - OI2: INFO - Duplicated gene symbols in the prize file (we'll keep the max prize):\n",
      "05:11:28 - OI2: INFO - []\n",
      "05:11:28 - OI2: INFO - Members of the prize file not present in the interactome:\n",
      "05:11:28 - OI2: INFO - []\n"
     ]
    },
    {
     "name": "stdout",
     "output_type": "stream",
     "text": [
      "progress = 4.8%\n"
     ]
    },
    {
     "name": "stderr",
     "output_type": "stream",
     "text": [
      "05:11:32 - OI2: INFO - Duplicated gene symbols in the prize file (we'll keep the max prize):\n",
      "05:11:32 - OI2: INFO - []\n",
      "05:11:32 - OI2: INFO - Members of the prize file not present in the interactome:\n",
      "05:11:32 - OI2: INFO - []\n"
     ]
    },
    {
     "name": "stdout",
     "output_type": "stream",
     "text": [
      "progress = 4.9%\n"
     ]
    },
    {
     "name": "stderr",
     "output_type": "stream",
     "text": [
      "05:11:36 - OI2: INFO - Duplicated gene symbols in the prize file (we'll keep the max prize):\n",
      "05:11:36 - OI2: INFO - []\n",
      "05:11:36 - OI2: INFO - Members of the prize file not present in the interactome:\n",
      "05:11:36 - OI2: INFO - []\n"
     ]
    },
    {
     "name": "stdout",
     "output_type": "stream",
     "text": [
      "progress = 5.0%\n"
     ]
    },
    {
     "name": "stderr",
     "output_type": "stream",
     "text": [
      "05:11:39 - OI2: INFO - Duplicated gene symbols in the prize file (we'll keep the max prize):\n",
      "05:11:39 - OI2: INFO - []\n",
      "05:11:39 - OI2: INFO - Members of the prize file not present in the interactome:\n",
      "05:11:39 - OI2: INFO - []\n"
     ]
    },
    {
     "name": "stdout",
     "output_type": "stream",
     "text": [
      "progress = 5.1%\n"
     ]
    },
    {
     "name": "stderr",
     "output_type": "stream",
     "text": [
      "05:11:43 - OI2: INFO - Duplicated gene symbols in the prize file (we'll keep the max prize):\n",
      "05:11:43 - OI2: INFO - []\n",
      "05:11:43 - OI2: INFO - Members of the prize file not present in the interactome:\n",
      "05:11:43 - OI2: INFO - []\n"
     ]
    },
    {
     "name": "stdout",
     "output_type": "stream",
     "text": [
      "progress = 5.2%\n"
     ]
    },
    {
     "name": "stderr",
     "output_type": "stream",
     "text": [
      "05:11:47 - OI2: INFO - Duplicated gene symbols in the prize file (we'll keep the max prize):\n",
      "05:11:47 - OI2: INFO - []\n",
      "05:11:47 - OI2: INFO - Members of the prize file not present in the interactome:\n",
      "05:11:47 - OI2: INFO - []\n"
     ]
    },
    {
     "name": "stdout",
     "output_type": "stream",
     "text": [
      "progress = 5.3%\n"
     ]
    },
    {
     "name": "stderr",
     "output_type": "stream",
     "text": [
      "05:11:50 - OI2: INFO - Duplicated gene symbols in the prize file (we'll keep the max prize):\n",
      "05:11:50 - OI2: INFO - []\n",
      "05:11:50 - OI2: INFO - Members of the prize file not present in the interactome:\n",
      "05:11:50 - OI2: INFO - []\n"
     ]
    },
    {
     "name": "stdout",
     "output_type": "stream",
     "text": [
      "progress = 5.4%\n"
     ]
    },
    {
     "name": "stderr",
     "output_type": "stream",
     "text": [
      "05:11:54 - OI2: INFO - Duplicated gene symbols in the prize file (we'll keep the max prize):\n",
      "05:11:54 - OI2: INFO - []\n",
      "05:11:54 - OI2: INFO - Members of the prize file not present in the interactome:\n",
      "05:11:54 - OI2: INFO - []\n"
     ]
    },
    {
     "name": "stdout",
     "output_type": "stream",
     "text": [
      "progress = 5.5%\n"
     ]
    },
    {
     "name": "stderr",
     "output_type": "stream",
     "text": [
      "05:11:58 - OI2: INFO - Duplicated gene symbols in the prize file (we'll keep the max prize):\n",
      "05:11:58 - OI2: INFO - []\n",
      "05:11:58 - OI2: INFO - Members of the prize file not present in the interactome:\n",
      "05:11:58 - OI2: INFO - []\n"
     ]
    },
    {
     "name": "stdout",
     "output_type": "stream",
     "text": [
      "progress = 5.6000000000000005%\n"
     ]
    },
    {
     "name": "stderr",
     "output_type": "stream",
     "text": [
      "05:12:01 - OI2: INFO - Duplicated gene symbols in the prize file (we'll keep the max prize):\n",
      "05:12:01 - OI2: INFO - []\n",
      "05:12:01 - OI2: INFO - Members of the prize file not present in the interactome:\n",
      "05:12:01 - OI2: INFO - []\n"
     ]
    },
    {
     "name": "stdout",
     "output_type": "stream",
     "text": [
      "progress = 5.7%\n"
     ]
    },
    {
     "name": "stderr",
     "output_type": "stream",
     "text": [
      "05:12:05 - OI2: INFO - Duplicated gene symbols in the prize file (we'll keep the max prize):\n",
      "05:12:05 - OI2: INFO - []\n",
      "05:12:05 - OI2: INFO - Members of the prize file not present in the interactome:\n",
      "05:12:05 - OI2: INFO - []\n"
     ]
    },
    {
     "name": "stdout",
     "output_type": "stream",
     "text": [
      "progress = 5.800000000000001%\n"
     ]
    },
    {
     "name": "stderr",
     "output_type": "stream",
     "text": [
      "05:12:08 - OI2: INFO - Duplicated gene symbols in the prize file (we'll keep the max prize):\n",
      "05:12:08 - OI2: INFO - []\n",
      "05:12:08 - OI2: INFO - Members of the prize file not present in the interactome:\n",
      "05:12:08 - OI2: INFO - []\n"
     ]
    },
    {
     "name": "stdout",
     "output_type": "stream",
     "text": [
      "progress = 5.8999999999999995%\n"
     ]
    },
    {
     "name": "stderr",
     "output_type": "stream",
     "text": [
      "05:12:12 - OI2: INFO - Duplicated gene symbols in the prize file (we'll keep the max prize):\n",
      "05:12:12 - OI2: INFO - []\n",
      "05:12:12 - OI2: INFO - Members of the prize file not present in the interactome:\n",
      "05:12:12 - OI2: INFO - []\n"
     ]
    },
    {
     "name": "stdout",
     "output_type": "stream",
     "text": [
      "progress = 6.0%\n"
     ]
    },
    {
     "name": "stderr",
     "output_type": "stream",
     "text": [
      "05:12:16 - OI2: INFO - Duplicated gene symbols in the prize file (we'll keep the max prize):\n",
      "05:12:16 - OI2: INFO - []\n",
      "05:12:16 - OI2: INFO - Members of the prize file not present in the interactome:\n",
      "05:12:16 - OI2: INFO - []\n"
     ]
    },
    {
     "name": "stdout",
     "output_type": "stream",
     "text": [
      "progress = 6.1%\n"
     ]
    },
    {
     "name": "stderr",
     "output_type": "stream",
     "text": [
      "05:12:19 - OI2: INFO - Duplicated gene symbols in the prize file (we'll keep the max prize):\n",
      "05:12:19 - OI2: INFO - []\n",
      "05:12:19 - OI2: INFO - Members of the prize file not present in the interactome:\n",
      "05:12:19 - OI2: INFO - []\n"
     ]
    },
    {
     "name": "stdout",
     "output_type": "stream",
     "text": [
      "progress = 6.2%\n"
     ]
    },
    {
     "name": "stderr",
     "output_type": "stream",
     "text": [
      "05:12:23 - OI2: INFO - Duplicated gene symbols in the prize file (we'll keep the max prize):\n",
      "05:12:23 - OI2: INFO - []\n",
      "05:12:23 - OI2: INFO - Members of the prize file not present in the interactome:\n",
      "05:12:23 - OI2: INFO - []\n"
     ]
    },
    {
     "name": "stdout",
     "output_type": "stream",
     "text": [
      "progress = 6.3%\n"
     ]
    },
    {
     "name": "stderr",
     "output_type": "stream",
     "text": [
      "05:12:27 - OI2: INFO - Duplicated gene symbols in the prize file (we'll keep the max prize):\n",
      "05:12:27 - OI2: INFO - []\n",
      "05:12:27 - OI2: INFO - Members of the prize file not present in the interactome:\n",
      "05:12:27 - OI2: INFO - []\n"
     ]
    },
    {
     "name": "stdout",
     "output_type": "stream",
     "text": [
      "progress = 6.4%\n"
     ]
    },
    {
     "name": "stderr",
     "output_type": "stream",
     "text": [
      "05:12:31 - OI2: INFO - Duplicated gene symbols in the prize file (we'll keep the max prize):\n",
      "05:12:31 - OI2: INFO - []\n",
      "05:12:31 - OI2: INFO - Members of the prize file not present in the interactome:\n",
      "05:12:31 - OI2: INFO - []\n"
     ]
    },
    {
     "name": "stdout",
     "output_type": "stream",
     "text": [
      "progress = 6.5%\n"
     ]
    },
    {
     "name": "stderr",
     "output_type": "stream",
     "text": [
      "05:12:34 - OI2: INFO - Duplicated gene symbols in the prize file (we'll keep the max prize):\n",
      "05:12:34 - OI2: INFO - []\n",
      "05:12:34 - OI2: INFO - Members of the prize file not present in the interactome:\n",
      "05:12:34 - OI2: INFO - []\n"
     ]
    },
    {
     "name": "stdout",
     "output_type": "stream",
     "text": [
      "progress = 6.6000000000000005%\n"
     ]
    },
    {
     "name": "stderr",
     "output_type": "stream",
     "text": [
      "05:12:38 - OI2: INFO - Duplicated gene symbols in the prize file (we'll keep the max prize):\n",
      "05:12:38 - OI2: INFO - []\n",
      "05:12:38 - OI2: INFO - Members of the prize file not present in the interactome:\n",
      "05:12:38 - OI2: INFO - []\n"
     ]
    },
    {
     "name": "stdout",
     "output_type": "stream",
     "text": [
      "progress = 6.7%\n"
     ]
    },
    {
     "name": "stderr",
     "output_type": "stream",
     "text": [
      "05:12:42 - OI2: INFO - Duplicated gene symbols in the prize file (we'll keep the max prize):\n",
      "05:12:42 - OI2: INFO - []\n",
      "05:12:42 - OI2: INFO - Members of the prize file not present in the interactome:\n",
      "05:12:42 - OI2: INFO - []\n"
     ]
    },
    {
     "name": "stdout",
     "output_type": "stream",
     "text": [
      "progress = 6.800000000000001%\n"
     ]
    },
    {
     "name": "stderr",
     "output_type": "stream",
     "text": [
      "05:12:46 - OI2: INFO - Duplicated gene symbols in the prize file (we'll keep the max prize):\n",
      "05:12:46 - OI2: INFO - []\n",
      "05:12:46 - OI2: INFO - Members of the prize file not present in the interactome:\n",
      "05:12:46 - OI2: INFO - []\n"
     ]
    },
    {
     "name": "stdout",
     "output_type": "stream",
     "text": [
      "progress = 6.9%\n"
     ]
    },
    {
     "name": "stderr",
     "output_type": "stream",
     "text": [
      "05:12:49 - OI2: INFO - Duplicated gene symbols in the prize file (we'll keep the max prize):\n",
      "05:12:49 - OI2: INFO - []\n",
      "05:12:49 - OI2: INFO - Members of the prize file not present in the interactome:\n",
      "05:12:49 - OI2: INFO - []\n"
     ]
    },
    {
     "name": "stdout",
     "output_type": "stream",
     "text": [
      "progress = 7.000000000000001%\n"
     ]
    },
    {
     "name": "stderr",
     "output_type": "stream",
     "text": [
      "05:12:53 - OI2: INFO - Duplicated gene symbols in the prize file (we'll keep the max prize):\n",
      "05:12:53 - OI2: INFO - []\n",
      "05:12:53 - OI2: INFO - Members of the prize file not present in the interactome:\n",
      "05:12:53 - OI2: INFO - []\n"
     ]
    },
    {
     "name": "stdout",
     "output_type": "stream",
     "text": [
      "progress = 7.1%\n"
     ]
    },
    {
     "name": "stderr",
     "output_type": "stream",
     "text": [
      "05:12:57 - OI2: INFO - Duplicated gene symbols in the prize file (we'll keep the max prize):\n",
      "05:12:57 - OI2: INFO - []\n",
      "05:12:57 - OI2: INFO - Members of the prize file not present in the interactome:\n",
      "05:12:57 - OI2: INFO - []\n"
     ]
    },
    {
     "name": "stdout",
     "output_type": "stream",
     "text": [
      "progress = 7.199999999999999%\n"
     ]
    },
    {
     "name": "stderr",
     "output_type": "stream",
     "text": [
      "05:13:01 - OI2: INFO - Duplicated gene symbols in the prize file (we'll keep the max prize):\n",
      "05:13:01 - OI2: INFO - []\n",
      "05:13:01 - OI2: INFO - Members of the prize file not present in the interactome:\n",
      "05:13:01 - OI2: INFO - []\n"
     ]
    },
    {
     "name": "stdout",
     "output_type": "stream",
     "text": [
      "progress = 7.3%\n"
     ]
    },
    {
     "name": "stderr",
     "output_type": "stream",
     "text": [
      "05:13:05 - OI2: INFO - Duplicated gene symbols in the prize file (we'll keep the max prize):\n",
      "05:13:05 - OI2: INFO - []\n",
      "05:13:05 - OI2: INFO - Members of the prize file not present in the interactome:\n",
      "05:13:05 - OI2: INFO - []\n"
     ]
    },
    {
     "name": "stdout",
     "output_type": "stream",
     "text": [
      "progress = 7.3999999999999995%\n"
     ]
    },
    {
     "name": "stderr",
     "output_type": "stream",
     "text": [
      "05:13:08 - OI2: INFO - Duplicated gene symbols in the prize file (we'll keep the max prize):\n",
      "05:13:08 - OI2: INFO - []\n",
      "05:13:08 - OI2: INFO - Members of the prize file not present in the interactome:\n",
      "05:13:08 - OI2: INFO - []\n"
     ]
    },
    {
     "name": "stdout",
     "output_type": "stream",
     "text": [
      "progress = 7.5%\n"
     ]
    },
    {
     "name": "stderr",
     "output_type": "stream",
     "text": [
      "05:13:12 - OI2: INFO - Duplicated gene symbols in the prize file (we'll keep the max prize):\n",
      "05:13:12 - OI2: INFO - []\n",
      "05:13:12 - OI2: INFO - Members of the prize file not present in the interactome:\n",
      "05:13:12 - OI2: INFO - []\n"
     ]
    },
    {
     "name": "stdout",
     "output_type": "stream",
     "text": [
      "progress = 7.6%\n"
     ]
    },
    {
     "name": "stderr",
     "output_type": "stream",
     "text": [
      "05:13:16 - OI2: INFO - Duplicated gene symbols in the prize file (we'll keep the max prize):\n",
      "05:13:16 - OI2: INFO - []\n",
      "05:13:16 - OI2: INFO - Members of the prize file not present in the interactome:\n",
      "05:13:16 - OI2: INFO - []\n"
     ]
    },
    {
     "name": "stdout",
     "output_type": "stream",
     "text": [
      "progress = 7.7%\n"
     ]
    },
    {
     "name": "stderr",
     "output_type": "stream",
     "text": [
      "05:13:20 - OI2: INFO - Duplicated gene symbols in the prize file (we'll keep the max prize):\n",
      "05:13:20 - OI2: INFO - []\n",
      "05:13:20 - OI2: INFO - Members of the prize file not present in the interactome:\n",
      "05:13:20 - OI2: INFO - []\n"
     ]
    },
    {
     "name": "stdout",
     "output_type": "stream",
     "text": [
      "progress = 7.8%\n"
     ]
    },
    {
     "name": "stderr",
     "output_type": "stream",
     "text": [
      "05:13:23 - OI2: INFO - Duplicated gene symbols in the prize file (we'll keep the max prize):\n",
      "05:13:23 - OI2: INFO - []\n",
      "05:13:23 - OI2: INFO - Members of the prize file not present in the interactome:\n",
      "05:13:23 - OI2: INFO - []\n"
     ]
    },
    {
     "name": "stdout",
     "output_type": "stream",
     "text": [
      "progress = 7.9%\n"
     ]
    },
    {
     "name": "stderr",
     "output_type": "stream",
     "text": [
      "05:13:27 - OI2: INFO - Duplicated gene symbols in the prize file (we'll keep the max prize):\n",
      "05:13:27 - OI2: INFO - []\n",
      "05:13:27 - OI2: INFO - Members of the prize file not present in the interactome:\n",
      "05:13:27 - OI2: INFO - []\n"
     ]
    },
    {
     "name": "stdout",
     "output_type": "stream",
     "text": [
      "progress = 8.0%\n"
     ]
    },
    {
     "name": "stderr",
     "output_type": "stream",
     "text": [
      "05:13:31 - OI2: INFO - Duplicated gene symbols in the prize file (we'll keep the max prize):\n",
      "05:13:31 - OI2: INFO - []\n",
      "05:13:31 - OI2: INFO - Members of the prize file not present in the interactome:\n",
      "05:13:31 - OI2: INFO - []\n"
     ]
    },
    {
     "name": "stdout",
     "output_type": "stream",
     "text": [
      "progress = 8.1%\n"
     ]
    },
    {
     "name": "stderr",
     "output_type": "stream",
     "text": [
      "05:13:34 - OI2: INFO - Duplicated gene symbols in the prize file (we'll keep the max prize):\n",
      "05:13:34 - OI2: INFO - []\n",
      "05:13:34 - OI2: INFO - Members of the prize file not present in the interactome:\n",
      "05:13:34 - OI2: INFO - []\n"
     ]
    },
    {
     "name": "stdout",
     "output_type": "stream",
     "text": [
      "progress = 8.200000000000001%\n"
     ]
    },
    {
     "name": "stderr",
     "output_type": "stream",
     "text": [
      "05:13:38 - OI2: INFO - Duplicated gene symbols in the prize file (we'll keep the max prize):\n",
      "05:13:38 - OI2: INFO - []\n",
      "05:13:38 - OI2: INFO - Members of the prize file not present in the interactome:\n",
      "05:13:38 - OI2: INFO - []\n"
     ]
    },
    {
     "name": "stdout",
     "output_type": "stream",
     "text": [
      "progress = 8.3%\n"
     ]
    },
    {
     "name": "stderr",
     "output_type": "stream",
     "text": [
      "05:13:42 - OI2: INFO - Duplicated gene symbols in the prize file (we'll keep the max prize):\n",
      "05:13:42 - OI2: INFO - []\n",
      "05:13:42 - OI2: INFO - Members of the prize file not present in the interactome:\n",
      "05:13:42 - OI2: INFO - []\n"
     ]
    },
    {
     "name": "stdout",
     "output_type": "stream",
     "text": [
      "progress = 8.4%\n"
     ]
    },
    {
     "name": "stderr",
     "output_type": "stream",
     "text": [
      "05:13:46 - OI2: INFO - Duplicated gene symbols in the prize file (we'll keep the max prize):\n",
      "05:13:46 - OI2: INFO - []\n",
      "05:13:46 - OI2: INFO - Members of the prize file not present in the interactome:\n",
      "05:13:46 - OI2: INFO - []\n"
     ]
    },
    {
     "name": "stdout",
     "output_type": "stream",
     "text": [
      "progress = 8.5%\n"
     ]
    },
    {
     "name": "stderr",
     "output_type": "stream",
     "text": [
      "05:13:49 - OI2: INFO - Duplicated gene symbols in the prize file (we'll keep the max prize):\n",
      "05:13:49 - OI2: INFO - []\n",
      "05:13:49 - OI2: INFO - Members of the prize file not present in the interactome:\n",
      "05:13:49 - OI2: INFO - []\n"
     ]
    },
    {
     "name": "stdout",
     "output_type": "stream",
     "text": [
      "progress = 8.6%\n"
     ]
    },
    {
     "name": "stderr",
     "output_type": "stream",
     "text": [
      "05:13:53 - OI2: INFO - Duplicated gene symbols in the prize file (we'll keep the max prize):\n",
      "05:13:53 - OI2: INFO - []\n",
      "05:13:53 - OI2: INFO - Members of the prize file not present in the interactome:\n",
      "05:13:53 - OI2: INFO - []\n"
     ]
    },
    {
     "name": "stdout",
     "output_type": "stream",
     "text": [
      "progress = 8.7%\n"
     ]
    },
    {
     "name": "stderr",
     "output_type": "stream",
     "text": [
      "05:13:57 - OI2: INFO - Duplicated gene symbols in the prize file (we'll keep the max prize):\n",
      "05:13:57 - OI2: INFO - []\n",
      "05:13:57 - OI2: INFO - Members of the prize file not present in the interactome:\n",
      "05:13:57 - OI2: INFO - []\n"
     ]
    },
    {
     "name": "stdout",
     "output_type": "stream",
     "text": [
      "progress = 8.799999999999999%\n"
     ]
    },
    {
     "name": "stderr",
     "output_type": "stream",
     "text": [
      "05:14:01 - OI2: INFO - Duplicated gene symbols in the prize file (we'll keep the max prize):\n",
      "05:14:01 - OI2: INFO - []\n",
      "05:14:01 - OI2: INFO - Members of the prize file not present in the interactome:\n",
      "05:14:01 - OI2: INFO - []\n"
     ]
    },
    {
     "name": "stdout",
     "output_type": "stream",
     "text": [
      "progress = 8.9%\n"
     ]
    },
    {
     "name": "stderr",
     "output_type": "stream",
     "text": [
      "05:14:05 - OI2: INFO - Duplicated gene symbols in the prize file (we'll keep the max prize):\n",
      "05:14:05 - OI2: INFO - []\n",
      "05:14:05 - OI2: INFO - Members of the prize file not present in the interactome:\n",
      "05:14:05 - OI2: INFO - []\n"
     ]
    },
    {
     "name": "stdout",
     "output_type": "stream",
     "text": [
      "progress = 9.0%\n"
     ]
    },
    {
     "name": "stderr",
     "output_type": "stream",
     "text": [
      "05:14:08 - OI2: INFO - Duplicated gene symbols in the prize file (we'll keep the max prize):\n",
      "05:14:08 - OI2: INFO - []\n",
      "05:14:08 - OI2: INFO - Members of the prize file not present in the interactome:\n",
      "05:14:08 - OI2: INFO - []\n"
     ]
    },
    {
     "name": "stdout",
     "output_type": "stream",
     "text": [
      "progress = 9.1%\n"
     ]
    },
    {
     "name": "stderr",
     "output_type": "stream",
     "text": [
      "05:14:12 - OI2: INFO - Duplicated gene symbols in the prize file (we'll keep the max prize):\n",
      "05:14:12 - OI2: INFO - []\n",
      "05:14:12 - OI2: INFO - Members of the prize file not present in the interactome:\n",
      "05:14:12 - OI2: INFO - []\n"
     ]
    },
    {
     "name": "stdout",
     "output_type": "stream",
     "text": [
      "progress = 9.2%\n"
     ]
    },
    {
     "name": "stderr",
     "output_type": "stream",
     "text": [
      "05:14:16 - OI2: INFO - Duplicated gene symbols in the prize file (we'll keep the max prize):\n",
      "05:14:16 - OI2: INFO - []\n",
      "05:14:16 - OI2: INFO - Members of the prize file not present in the interactome:\n",
      "05:14:16 - OI2: INFO - []\n"
     ]
    },
    {
     "name": "stdout",
     "output_type": "stream",
     "text": [
      "progress = 9.3%\n"
     ]
    },
    {
     "name": "stderr",
     "output_type": "stream",
     "text": [
      "05:14:20 - OI2: INFO - Duplicated gene symbols in the prize file (we'll keep the max prize):\n",
      "05:14:20 - OI2: INFO - []\n",
      "05:14:20 - OI2: INFO - Members of the prize file not present in the interactome:\n",
      "05:14:20 - OI2: INFO - []\n"
     ]
    },
    {
     "name": "stdout",
     "output_type": "stream",
     "text": [
      "progress = 9.4%\n"
     ]
    },
    {
     "name": "stderr",
     "output_type": "stream",
     "text": [
      "05:14:24 - OI2: INFO - Duplicated gene symbols in the prize file (we'll keep the max prize):\n",
      "05:14:24 - OI2: INFO - []\n",
      "05:14:24 - OI2: INFO - Members of the prize file not present in the interactome:\n",
      "05:14:24 - OI2: INFO - []\n"
     ]
    },
    {
     "name": "stdout",
     "output_type": "stream",
     "text": [
      "progress = 9.5%\n"
     ]
    },
    {
     "name": "stderr",
     "output_type": "stream",
     "text": [
      "05:14:27 - OI2: INFO - Duplicated gene symbols in the prize file (we'll keep the max prize):\n",
      "05:14:27 - OI2: INFO - []\n",
      "05:14:27 - OI2: INFO - Members of the prize file not present in the interactome:\n",
      "05:14:27 - OI2: INFO - []\n"
     ]
    },
    {
     "name": "stdout",
     "output_type": "stream",
     "text": [
      "progress = 9.6%\n"
     ]
    },
    {
     "name": "stderr",
     "output_type": "stream",
     "text": [
      "05:14:31 - OI2: INFO - Duplicated gene symbols in the prize file (we'll keep the max prize):\n",
      "05:14:31 - OI2: INFO - []\n",
      "05:14:31 - OI2: INFO - Members of the prize file not present in the interactome:\n",
      "05:14:31 - OI2: INFO - []\n"
     ]
    },
    {
     "name": "stdout",
     "output_type": "stream",
     "text": [
      "progress = 9.700000000000001%\n"
     ]
    },
    {
     "name": "stderr",
     "output_type": "stream",
     "text": [
      "05:14:35 - OI2: INFO - Duplicated gene symbols in the prize file (we'll keep the max prize):\n",
      "05:14:35 - OI2: INFO - []\n",
      "05:14:35 - OI2: INFO - Members of the prize file not present in the interactome:\n",
      "05:14:35 - OI2: INFO - []\n"
     ]
    },
    {
     "name": "stdout",
     "output_type": "stream",
     "text": [
      "progress = 9.8%\n"
     ]
    },
    {
     "name": "stderr",
     "output_type": "stream",
     "text": [
      "05:14:39 - OI2: INFO - Duplicated gene symbols in the prize file (we'll keep the max prize):\n",
      "05:14:39 - OI2: INFO - []\n",
      "05:14:39 - OI2: INFO - Members of the prize file not present in the interactome:\n",
      "05:14:39 - OI2: INFO - []\n"
     ]
    },
    {
     "name": "stdout",
     "output_type": "stream",
     "text": [
      "progress = 9.9%\n"
     ]
    },
    {
     "name": "stderr",
     "output_type": "stream",
     "text": [
      "05:14:42 - OI2: INFO - Duplicated gene symbols in the prize file (we'll keep the max prize):\n",
      "05:14:42 - OI2: INFO - []\n",
      "05:14:42 - OI2: INFO - Members of the prize file not present in the interactome:\n",
      "05:14:42 - OI2: INFO - []\n"
     ]
    },
    {
     "name": "stdout",
     "output_type": "stream",
     "text": [
      "progress = 10.0%\n"
     ]
    },
    {
     "name": "stderr",
     "output_type": "stream",
     "text": [
      "05:14:46 - OI2: INFO - Duplicated gene symbols in the prize file (we'll keep the max prize):\n",
      "05:14:46 - OI2: INFO - []\n",
      "05:14:46 - OI2: INFO - Members of the prize file not present in the interactome:\n",
      "05:14:46 - OI2: INFO - []\n"
     ]
    },
    {
     "name": "stdout",
     "output_type": "stream",
     "text": [
      "progress = 10.100000000000001%\n"
     ]
    },
    {
     "name": "stderr",
     "output_type": "stream",
     "text": [
      "05:14:50 - OI2: INFO - Duplicated gene symbols in the prize file (we'll keep the max prize):\n",
      "05:14:50 - OI2: INFO - []\n",
      "05:14:50 - OI2: INFO - Members of the prize file not present in the interactome:\n",
      "05:14:50 - OI2: INFO - []\n"
     ]
    },
    {
     "name": "stdout",
     "output_type": "stream",
     "text": [
      "progress = 10.2%\n"
     ]
    },
    {
     "name": "stderr",
     "output_type": "stream",
     "text": [
      "05:14:53 - OI2: INFO - Duplicated gene symbols in the prize file (we'll keep the max prize):\n",
      "05:14:53 - OI2: INFO - []\n",
      "05:14:53 - OI2: INFO - Members of the prize file not present in the interactome:\n",
      "05:14:53 - OI2: INFO - []\n"
     ]
    },
    {
     "name": "stdout",
     "output_type": "stream",
     "text": [
      "progress = 10.299999999999999%\n"
     ]
    },
    {
     "name": "stderr",
     "output_type": "stream",
     "text": [
      "05:14:57 - OI2: INFO - Duplicated gene symbols in the prize file (we'll keep the max prize):\n",
      "05:14:57 - OI2: INFO - []\n",
      "05:14:57 - OI2: INFO - Members of the prize file not present in the interactome:\n",
      "05:14:57 - OI2: INFO - []\n"
     ]
    },
    {
     "name": "stdout",
     "output_type": "stream",
     "text": [
      "progress = 10.4%\n"
     ]
    },
    {
     "name": "stderr",
     "output_type": "stream",
     "text": [
      "05:15:01 - OI2: INFO - Duplicated gene symbols in the prize file (we'll keep the max prize):\n",
      "05:15:01 - OI2: INFO - []\n",
      "05:15:01 - OI2: INFO - Members of the prize file not present in the interactome:\n",
      "05:15:01 - OI2: INFO - []\n"
     ]
    },
    {
     "name": "stdout",
     "output_type": "stream",
     "text": [
      "progress = 10.5%\n"
     ]
    },
    {
     "name": "stderr",
     "output_type": "stream",
     "text": [
      "05:15:05 - OI2: INFO - Duplicated gene symbols in the prize file (we'll keep the max prize):\n",
      "05:15:05 - OI2: INFO - []\n",
      "05:15:05 - OI2: INFO - Members of the prize file not present in the interactome:\n",
      "05:15:05 - OI2: INFO - []\n"
     ]
    },
    {
     "name": "stdout",
     "output_type": "stream",
     "text": [
      "progress = 10.6%\n"
     ]
    },
    {
     "name": "stderr",
     "output_type": "stream",
     "text": [
      "05:15:09 - OI2: INFO - Duplicated gene symbols in the prize file (we'll keep the max prize):\n",
      "05:15:09 - OI2: INFO - []\n",
      "05:15:09 - OI2: INFO - Members of the prize file not present in the interactome:\n",
      "05:15:09 - OI2: INFO - []\n"
     ]
    },
    {
     "name": "stdout",
     "output_type": "stream",
     "text": [
      "progress = 10.7%\n"
     ]
    },
    {
     "name": "stderr",
     "output_type": "stream",
     "text": [
      "05:15:13 - OI2: INFO - Duplicated gene symbols in the prize file (we'll keep the max prize):\n",
      "05:15:13 - OI2: INFO - []\n",
      "05:15:13 - OI2: INFO - Members of the prize file not present in the interactome:\n",
      "05:15:13 - OI2: INFO - []\n"
     ]
    },
    {
     "name": "stdout",
     "output_type": "stream",
     "text": [
      "progress = 10.8%\n"
     ]
    },
    {
     "name": "stderr",
     "output_type": "stream",
     "text": [
      "05:15:16 - OI2: INFO - Duplicated gene symbols in the prize file (we'll keep the max prize):\n",
      "05:15:16 - OI2: INFO - []\n",
      "05:15:16 - OI2: INFO - Members of the prize file not present in the interactome:\n",
      "05:15:16 - OI2: INFO - []\n"
     ]
    },
    {
     "name": "stdout",
     "output_type": "stream",
     "text": [
      "progress = 10.9%\n"
     ]
    },
    {
     "name": "stderr",
     "output_type": "stream",
     "text": [
      "05:15:20 - OI2: INFO - Duplicated gene symbols in the prize file (we'll keep the max prize):\n",
      "05:15:20 - OI2: INFO - []\n",
      "05:15:20 - OI2: INFO - Members of the prize file not present in the interactome:\n",
      "05:15:20 - OI2: INFO - []\n"
     ]
    },
    {
     "name": "stdout",
     "output_type": "stream",
     "text": [
      "progress = 11.0%\n"
     ]
    },
    {
     "name": "stderr",
     "output_type": "stream",
     "text": [
      "05:15:24 - OI2: INFO - Duplicated gene symbols in the prize file (we'll keep the max prize):\n",
      "05:15:24 - OI2: INFO - []\n",
      "05:15:24 - OI2: INFO - Members of the prize file not present in the interactome:\n",
      "05:15:24 - OI2: INFO - []\n"
     ]
    },
    {
     "name": "stdout",
     "output_type": "stream",
     "text": [
      "progress = 11.1%\n"
     ]
    },
    {
     "name": "stderr",
     "output_type": "stream",
     "text": [
      "05:15:28 - OI2: INFO - Duplicated gene symbols in the prize file (we'll keep the max prize):\n",
      "05:15:28 - OI2: INFO - []\n",
      "05:15:28 - OI2: INFO - Members of the prize file not present in the interactome:\n",
      "05:15:28 - OI2: INFO - []\n"
     ]
    },
    {
     "name": "stdout",
     "output_type": "stream",
     "text": [
      "progress = 11.200000000000001%\n"
     ]
    },
    {
     "name": "stderr",
     "output_type": "stream",
     "text": [
      "05:15:31 - OI2: INFO - Duplicated gene symbols in the prize file (we'll keep the max prize):\n",
      "05:15:31 - OI2: INFO - []\n",
      "05:15:31 - OI2: INFO - Members of the prize file not present in the interactome:\n",
      "05:15:31 - OI2: INFO - []\n"
     ]
    },
    {
     "name": "stdout",
     "output_type": "stream",
     "text": [
      "progress = 11.3%\n"
     ]
    },
    {
     "name": "stderr",
     "output_type": "stream",
     "text": [
      "05:15:35 - OI2: INFO - Duplicated gene symbols in the prize file (we'll keep the max prize):\n",
      "05:15:35 - OI2: INFO - []\n",
      "05:15:35 - OI2: INFO - Members of the prize file not present in the interactome:\n",
      "05:15:35 - OI2: INFO - []\n"
     ]
    },
    {
     "name": "stdout",
     "output_type": "stream",
     "text": [
      "progress = 11.4%\n"
     ]
    },
    {
     "name": "stderr",
     "output_type": "stream",
     "text": [
      "05:15:39 - OI2: INFO - Duplicated gene symbols in the prize file (we'll keep the max prize):\n",
      "05:15:39 - OI2: INFO - []\n",
      "05:15:39 - OI2: INFO - Members of the prize file not present in the interactome:\n",
      "05:15:39 - OI2: INFO - []\n"
     ]
    },
    {
     "name": "stdout",
     "output_type": "stream",
     "text": [
      "progress = 11.5%\n"
     ]
    },
    {
     "name": "stderr",
     "output_type": "stream",
     "text": [
      "05:15:43 - OI2: INFO - Duplicated gene symbols in the prize file (we'll keep the max prize):\n",
      "05:15:43 - OI2: INFO - []\n",
      "05:15:43 - OI2: INFO - Members of the prize file not present in the interactome:\n",
      "05:15:43 - OI2: INFO - []\n"
     ]
    },
    {
     "name": "stdout",
     "output_type": "stream",
     "text": [
      "progress = 11.600000000000001%\n"
     ]
    },
    {
     "name": "stderr",
     "output_type": "stream",
     "text": [
      "05:15:46 - OI2: INFO - Duplicated gene symbols in the prize file (we'll keep the max prize):\n",
      "05:15:46 - OI2: INFO - []\n",
      "05:15:46 - OI2: INFO - Members of the prize file not present in the interactome:\n",
      "05:15:46 - OI2: INFO - []\n"
     ]
    },
    {
     "name": "stdout",
     "output_type": "stream",
     "text": [
      "progress = 11.700000000000001%\n"
     ]
    },
    {
     "name": "stderr",
     "output_type": "stream",
     "text": [
      "05:15:50 - OI2: INFO - Duplicated gene symbols in the prize file (we'll keep the max prize):\n",
      "05:15:50 - OI2: INFO - []\n",
      "05:15:50 - OI2: INFO - Members of the prize file not present in the interactome:\n",
      "05:15:50 - OI2: INFO - []\n"
     ]
    },
    {
     "name": "stdout",
     "output_type": "stream",
     "text": [
      "progress = 11.799999999999999%\n"
     ]
    },
    {
     "name": "stderr",
     "output_type": "stream",
     "text": [
      "05:15:54 - OI2: INFO - Duplicated gene symbols in the prize file (we'll keep the max prize):\n",
      "05:15:54 - OI2: INFO - []\n",
      "05:15:54 - OI2: INFO - Members of the prize file not present in the interactome:\n",
      "05:15:54 - OI2: INFO - []\n"
     ]
    },
    {
     "name": "stdout",
     "output_type": "stream",
     "text": [
      "progress = 11.899999999999999%\n"
     ]
    },
    {
     "name": "stderr",
     "output_type": "stream",
     "text": [
      "05:15:58 - OI2: INFO - Duplicated gene symbols in the prize file (we'll keep the max prize):\n",
      "05:15:58 - OI2: INFO - []\n",
      "05:15:58 - OI2: INFO - Members of the prize file not present in the interactome:\n",
      "05:15:58 - OI2: INFO - []\n"
     ]
    },
    {
     "name": "stdout",
     "output_type": "stream",
     "text": [
      "progress = 12.0%\n"
     ]
    },
    {
     "name": "stderr",
     "output_type": "stream",
     "text": [
      "05:16:02 - OI2: INFO - Duplicated gene symbols in the prize file (we'll keep the max prize):\n",
      "05:16:02 - OI2: INFO - []\n",
      "05:16:02 - OI2: INFO - Members of the prize file not present in the interactome:\n",
      "05:16:02 - OI2: INFO - []\n"
     ]
    },
    {
     "name": "stdout",
     "output_type": "stream",
     "text": [
      "progress = 12.1%\n"
     ]
    },
    {
     "name": "stderr",
     "output_type": "stream",
     "text": [
      "05:16:05 - OI2: INFO - Duplicated gene symbols in the prize file (we'll keep the max prize):\n",
      "05:16:05 - OI2: INFO - []\n",
      "05:16:05 - OI2: INFO - Members of the prize file not present in the interactome:\n",
      "05:16:05 - OI2: INFO - []\n"
     ]
    },
    {
     "name": "stdout",
     "output_type": "stream",
     "text": [
      "progress = 12.2%\n"
     ]
    },
    {
     "name": "stderr",
     "output_type": "stream",
     "text": [
      "05:16:09 - OI2: INFO - Duplicated gene symbols in the prize file (we'll keep the max prize):\n",
      "05:16:09 - OI2: INFO - []\n",
      "05:16:09 - OI2: INFO - Members of the prize file not present in the interactome:\n",
      "05:16:09 - OI2: INFO - []\n"
     ]
    },
    {
     "name": "stdout",
     "output_type": "stream",
     "text": [
      "progress = 12.3%\n"
     ]
    },
    {
     "name": "stderr",
     "output_type": "stream",
     "text": [
      "05:16:13 - OI2: INFO - Duplicated gene symbols in the prize file (we'll keep the max prize):\n",
      "05:16:13 - OI2: INFO - []\n",
      "05:16:13 - OI2: INFO - Members of the prize file not present in the interactome:\n",
      "05:16:13 - OI2: INFO - []\n"
     ]
    },
    {
     "name": "stdout",
     "output_type": "stream",
     "text": [
      "progress = 12.4%\n"
     ]
    },
    {
     "name": "stderr",
     "output_type": "stream",
     "text": [
      "05:16:17 - OI2: INFO - Duplicated gene symbols in the prize file (we'll keep the max prize):\n",
      "05:16:17 - OI2: INFO - []\n",
      "05:16:17 - OI2: INFO - Members of the prize file not present in the interactome:\n",
      "05:16:17 - OI2: INFO - []\n"
     ]
    },
    {
     "name": "stdout",
     "output_type": "stream",
     "text": [
      "progress = 12.5%\n"
     ]
    },
    {
     "name": "stderr",
     "output_type": "stream",
     "text": [
      "05:16:21 - OI2: INFO - Duplicated gene symbols in the prize file (we'll keep the max prize):\n",
      "05:16:21 - OI2: INFO - []\n",
      "05:16:21 - OI2: INFO - Members of the prize file not present in the interactome:\n",
      "05:16:21 - OI2: INFO - []\n"
     ]
    },
    {
     "name": "stdout",
     "output_type": "stream",
     "text": [
      "progress = 12.6%\n"
     ]
    },
    {
     "name": "stderr",
     "output_type": "stream",
     "text": [
      "05:16:25 - OI2: INFO - Duplicated gene symbols in the prize file (we'll keep the max prize):\n",
      "05:16:25 - OI2: INFO - []\n",
      "05:16:25 - OI2: INFO - Members of the prize file not present in the interactome:\n",
      "05:16:25 - OI2: INFO - []\n"
     ]
    },
    {
     "name": "stdout",
     "output_type": "stream",
     "text": [
      "progress = 12.7%\n"
     ]
    },
    {
     "name": "stderr",
     "output_type": "stream",
     "text": [
      "05:16:28 - OI2: INFO - Duplicated gene symbols in the prize file (we'll keep the max prize):\n",
      "05:16:28 - OI2: INFO - []\n",
      "05:16:28 - OI2: INFO - Members of the prize file not present in the interactome:\n",
      "05:16:28 - OI2: INFO - []\n"
     ]
    },
    {
     "name": "stdout",
     "output_type": "stream",
     "text": [
      "progress = 12.8%\n"
     ]
    },
    {
     "name": "stderr",
     "output_type": "stream",
     "text": [
      "05:16:32 - OI2: INFO - Duplicated gene symbols in the prize file (we'll keep the max prize):\n",
      "05:16:32 - OI2: INFO - []\n",
      "05:16:32 - OI2: INFO - Members of the prize file not present in the interactome:\n",
      "05:16:32 - OI2: INFO - []\n"
     ]
    },
    {
     "name": "stdout",
     "output_type": "stream",
     "text": [
      "progress = 12.9%\n"
     ]
    },
    {
     "name": "stderr",
     "output_type": "stream",
     "text": [
      "05:16:36 - OI2: INFO - Duplicated gene symbols in the prize file (we'll keep the max prize):\n",
      "05:16:36 - OI2: INFO - []\n",
      "05:16:36 - OI2: INFO - Members of the prize file not present in the interactome:\n",
      "05:16:36 - OI2: INFO - []\n"
     ]
    },
    {
     "name": "stdout",
     "output_type": "stream",
     "text": [
      "progress = 13.0%\n"
     ]
    },
    {
     "name": "stderr",
     "output_type": "stream",
     "text": [
      "05:16:40 - OI2: INFO - Duplicated gene symbols in the prize file (we'll keep the max prize):\n",
      "05:16:40 - OI2: INFO - []\n",
      "05:16:40 - OI2: INFO - Members of the prize file not present in the interactome:\n",
      "05:16:40 - OI2: INFO - []\n"
     ]
    },
    {
     "name": "stdout",
     "output_type": "stream",
     "text": [
      "progress = 13.100000000000001%\n"
     ]
    },
    {
     "name": "stderr",
     "output_type": "stream",
     "text": [
      "05:16:43 - OI2: INFO - Duplicated gene symbols in the prize file (we'll keep the max prize):\n",
      "05:16:43 - OI2: INFO - []\n",
      "05:16:43 - OI2: INFO - Members of the prize file not present in the interactome:\n",
      "05:16:43 - OI2: INFO - []\n"
     ]
    },
    {
     "name": "stdout",
     "output_type": "stream",
     "text": [
      "progress = 13.200000000000001%\n"
     ]
    },
    {
     "name": "stderr",
     "output_type": "stream",
     "text": [
      "05:16:47 - OI2: INFO - Duplicated gene symbols in the prize file (we'll keep the max prize):\n",
      "05:16:47 - OI2: INFO - []\n",
      "05:16:47 - OI2: INFO - Members of the prize file not present in the interactome:\n",
      "05:16:47 - OI2: INFO - []\n"
     ]
    },
    {
     "name": "stdout",
     "output_type": "stream",
     "text": [
      "progress = 13.3%\n"
     ]
    },
    {
     "name": "stderr",
     "output_type": "stream",
     "text": [
      "05:16:51 - OI2: INFO - Duplicated gene symbols in the prize file (we'll keep the max prize):\n",
      "05:16:51 - OI2: INFO - []\n",
      "05:16:51 - OI2: INFO - Members of the prize file not present in the interactome:\n",
      "05:16:51 - OI2: INFO - []\n"
     ]
    },
    {
     "name": "stdout",
     "output_type": "stream",
     "text": [
      "progress = 13.4%\n"
     ]
    },
    {
     "name": "stderr",
     "output_type": "stream",
     "text": [
      "05:16:55 - OI2: INFO - Duplicated gene symbols in the prize file (we'll keep the max prize):\n",
      "05:16:55 - OI2: INFO - []\n",
      "05:16:55 - OI2: INFO - Members of the prize file not present in the interactome:\n",
      "05:16:55 - OI2: INFO - []\n"
     ]
    },
    {
     "name": "stdout",
     "output_type": "stream",
     "text": [
      "progress = 13.5%\n"
     ]
    },
    {
     "name": "stderr",
     "output_type": "stream",
     "text": [
      "05:16:59 - OI2: INFO - Duplicated gene symbols in the prize file (we'll keep the max prize):\n",
      "05:16:59 - OI2: INFO - []\n",
      "05:16:59 - OI2: INFO - Members of the prize file not present in the interactome:\n",
      "05:16:59 - OI2: INFO - []\n"
     ]
    },
    {
     "name": "stdout",
     "output_type": "stream",
     "text": [
      "progress = 13.600000000000001%\n"
     ]
    },
    {
     "name": "stderr",
     "output_type": "stream",
     "text": [
      "05:17:02 - OI2: INFO - Duplicated gene symbols in the prize file (we'll keep the max prize):\n",
      "05:17:02 - OI2: INFO - []\n",
      "05:17:02 - OI2: INFO - Members of the prize file not present in the interactome:\n",
      "05:17:02 - OI2: INFO - []\n"
     ]
    },
    {
     "name": "stdout",
     "output_type": "stream",
     "text": [
      "progress = 13.700000000000001%\n"
     ]
    },
    {
     "name": "stderr",
     "output_type": "stream",
     "text": [
      "05:17:06 - OI2: INFO - Duplicated gene symbols in the prize file (we'll keep the max prize):\n",
      "05:17:06 - OI2: INFO - []\n",
      "05:17:06 - OI2: INFO - Members of the prize file not present in the interactome:\n",
      "05:17:06 - OI2: INFO - []\n"
     ]
    },
    {
     "name": "stdout",
     "output_type": "stream",
     "text": [
      "progress = 13.8%\n"
     ]
    },
    {
     "name": "stderr",
     "output_type": "stream",
     "text": [
      "05:17:10 - OI2: INFO - Duplicated gene symbols in the prize file (we'll keep the max prize):\n",
      "05:17:10 - OI2: INFO - []\n",
      "05:17:10 - OI2: INFO - Members of the prize file not present in the interactome:\n",
      "05:17:10 - OI2: INFO - []\n"
     ]
    },
    {
     "name": "stdout",
     "output_type": "stream",
     "text": [
      "progress = 13.900000000000002%\n"
     ]
    },
    {
     "name": "stderr",
     "output_type": "stream",
     "text": [
      "05:17:14 - OI2: INFO - Duplicated gene symbols in the prize file (we'll keep the max prize):\n",
      "05:17:14 - OI2: INFO - []\n",
      "05:17:14 - OI2: INFO - Members of the prize file not present in the interactome:\n",
      "05:17:14 - OI2: INFO - []\n"
     ]
    },
    {
     "name": "stdout",
     "output_type": "stream",
     "text": [
      "progress = 14.000000000000002%\n"
     ]
    },
    {
     "name": "stderr",
     "output_type": "stream",
     "text": [
      "05:17:17 - OI2: INFO - Duplicated gene symbols in the prize file (we'll keep the max prize):\n",
      "05:17:17 - OI2: INFO - []\n",
      "05:17:17 - OI2: INFO - Members of the prize file not present in the interactome:\n",
      "05:17:17 - OI2: INFO - []\n"
     ]
    },
    {
     "name": "stdout",
     "output_type": "stream",
     "text": [
      "progress = 14.099999999999998%\n"
     ]
    },
    {
     "name": "stderr",
     "output_type": "stream",
     "text": [
      "05:17:21 - OI2: INFO - Duplicated gene symbols in the prize file (we'll keep the max prize):\n",
      "05:17:21 - OI2: INFO - []\n",
      "05:17:21 - OI2: INFO - Members of the prize file not present in the interactome:\n",
      "05:17:21 - OI2: INFO - []\n"
     ]
    },
    {
     "name": "stdout",
     "output_type": "stream",
     "text": [
      "progress = 14.2%\n"
     ]
    },
    {
     "name": "stderr",
     "output_type": "stream",
     "text": [
      "05:17:25 - OI2: INFO - Duplicated gene symbols in the prize file (we'll keep the max prize):\n",
      "05:17:25 - OI2: INFO - []\n",
      "05:17:25 - OI2: INFO - Members of the prize file not present in the interactome:\n",
      "05:17:25 - OI2: INFO - []\n"
     ]
    },
    {
     "name": "stdout",
     "output_type": "stream",
     "text": [
      "progress = 14.299999999999999%\n"
     ]
    },
    {
     "name": "stderr",
     "output_type": "stream",
     "text": [
      "05:17:29 - OI2: INFO - Duplicated gene symbols in the prize file (we'll keep the max prize):\n",
      "05:17:29 - OI2: INFO - []\n",
      "05:17:29 - OI2: INFO - Members of the prize file not present in the interactome:\n",
      "05:17:29 - OI2: INFO - []\n"
     ]
    },
    {
     "name": "stdout",
     "output_type": "stream",
     "text": [
      "progress = 14.399999999999999%\n"
     ]
    },
    {
     "name": "stderr",
     "output_type": "stream",
     "text": [
      "05:17:33 - OI2: INFO - Duplicated gene symbols in the prize file (we'll keep the max prize):\n",
      "05:17:33 - OI2: INFO - []\n",
      "05:17:33 - OI2: INFO - Members of the prize file not present in the interactome:\n",
      "05:17:33 - OI2: INFO - []\n"
     ]
    },
    {
     "name": "stdout",
     "output_type": "stream",
     "text": [
      "progress = 14.499999999999998%\n"
     ]
    },
    {
     "name": "stderr",
     "output_type": "stream",
     "text": [
      "05:17:36 - OI2: INFO - Duplicated gene symbols in the prize file (we'll keep the max prize):\n",
      "05:17:36 - OI2: INFO - []\n",
      "05:17:36 - OI2: INFO - Members of the prize file not present in the interactome:\n",
      "05:17:36 - OI2: INFO - []\n"
     ]
    },
    {
     "name": "stdout",
     "output_type": "stream",
     "text": [
      "progress = 14.6%\n"
     ]
    },
    {
     "name": "stderr",
     "output_type": "stream",
     "text": [
      "05:17:40 - OI2: INFO - Duplicated gene symbols in the prize file (we'll keep the max prize):\n",
      "05:17:40 - OI2: INFO - []\n",
      "05:17:40 - OI2: INFO - Members of the prize file not present in the interactome:\n",
      "05:17:40 - OI2: INFO - []\n"
     ]
    },
    {
     "name": "stdout",
     "output_type": "stream",
     "text": [
      "progress = 14.7%\n"
     ]
    },
    {
     "name": "stderr",
     "output_type": "stream",
     "text": [
      "05:17:44 - OI2: INFO - Duplicated gene symbols in the prize file (we'll keep the max prize):\n",
      "05:17:44 - OI2: INFO - []\n",
      "05:17:44 - OI2: INFO - Members of the prize file not present in the interactome:\n",
      "05:17:44 - OI2: INFO - []\n"
     ]
    },
    {
     "name": "stdout",
     "output_type": "stream",
     "text": [
      "progress = 14.799999999999999%\n"
     ]
    },
    {
     "name": "stderr",
     "output_type": "stream",
     "text": [
      "05:17:47 - OI2: INFO - Duplicated gene symbols in the prize file (we'll keep the max prize):\n",
      "05:17:47 - OI2: INFO - []\n",
      "05:17:47 - OI2: INFO - Members of the prize file not present in the interactome:\n",
      "05:17:47 - OI2: INFO - []\n"
     ]
    },
    {
     "name": "stdout",
     "output_type": "stream",
     "text": [
      "progress = 14.899999999999999%\n"
     ]
    },
    {
     "name": "stderr",
     "output_type": "stream",
     "text": [
      "05:17:51 - OI2: INFO - Duplicated gene symbols in the prize file (we'll keep the max prize):\n",
      "05:17:51 - OI2: INFO - []\n",
      "05:17:51 - OI2: INFO - Members of the prize file not present in the interactome:\n",
      "05:17:51 - OI2: INFO - []\n"
     ]
    },
    {
     "name": "stdout",
     "output_type": "stream",
     "text": [
      "progress = 15.0%\n"
     ]
    },
    {
     "name": "stderr",
     "output_type": "stream",
     "text": [
      "05:17:55 - OI2: INFO - Duplicated gene symbols in the prize file (we'll keep the max prize):\n",
      "05:17:55 - OI2: INFO - []\n",
      "05:17:55 - OI2: INFO - Members of the prize file not present in the interactome:\n",
      "05:17:55 - OI2: INFO - []\n"
     ]
    },
    {
     "name": "stdout",
     "output_type": "stream",
     "text": [
      "progress = 15.1%\n"
     ]
    },
    {
     "name": "stderr",
     "output_type": "stream",
     "text": [
      "05:17:58 - OI2: INFO - Duplicated gene symbols in the prize file (we'll keep the max prize):\n",
      "05:17:58 - OI2: INFO - []\n",
      "05:17:59 - OI2: INFO - Members of the prize file not present in the interactome:\n",
      "05:17:59 - OI2: INFO - []\n"
     ]
    },
    {
     "name": "stdout",
     "output_type": "stream",
     "text": [
      "progress = 15.2%\n"
     ]
    },
    {
     "name": "stderr",
     "output_type": "stream",
     "text": [
      "05:18:02 - OI2: INFO - Duplicated gene symbols in the prize file (we'll keep the max prize):\n",
      "05:18:02 - OI2: INFO - []\n",
      "05:18:02 - OI2: INFO - Members of the prize file not present in the interactome:\n",
      "05:18:02 - OI2: INFO - []\n"
     ]
    },
    {
     "name": "stdout",
     "output_type": "stream",
     "text": [
      "progress = 15.299999999999999%\n"
     ]
    },
    {
     "name": "stderr",
     "output_type": "stream",
     "text": [
      "05:18:06 - OI2: INFO - Duplicated gene symbols in the prize file (we'll keep the max prize):\n",
      "05:18:06 - OI2: INFO - []\n",
      "05:18:06 - OI2: INFO - Members of the prize file not present in the interactome:\n",
      "05:18:06 - OI2: INFO - []\n"
     ]
    },
    {
     "name": "stdout",
     "output_type": "stream",
     "text": [
      "progress = 15.4%\n"
     ]
    },
    {
     "name": "stderr",
     "output_type": "stream",
     "text": [
      "05:18:10 - OI2: INFO - Duplicated gene symbols in the prize file (we'll keep the max prize):\n",
      "05:18:10 - OI2: INFO - []\n",
      "05:18:10 - OI2: INFO - Members of the prize file not present in the interactome:\n",
      "05:18:10 - OI2: INFO - []\n"
     ]
    },
    {
     "name": "stdout",
     "output_type": "stream",
     "text": [
      "progress = 15.5%\n"
     ]
    },
    {
     "name": "stderr",
     "output_type": "stream",
     "text": [
      "05:18:14 - OI2: INFO - Duplicated gene symbols in the prize file (we'll keep the max prize):\n",
      "05:18:14 - OI2: INFO - []\n",
      "05:18:14 - OI2: INFO - Members of the prize file not present in the interactome:\n",
      "05:18:14 - OI2: INFO - []\n"
     ]
    },
    {
     "name": "stdout",
     "output_type": "stream",
     "text": [
      "progress = 15.6%\n"
     ]
    },
    {
     "name": "stderr",
     "output_type": "stream",
     "text": [
      "05:18:17 - OI2: INFO - Duplicated gene symbols in the prize file (we'll keep the max prize):\n",
      "05:18:17 - OI2: INFO - []\n",
      "05:18:17 - OI2: INFO - Members of the prize file not present in the interactome:\n",
      "05:18:17 - OI2: INFO - []\n"
     ]
    },
    {
     "name": "stdout",
     "output_type": "stream",
     "text": [
      "progress = 15.7%\n"
     ]
    },
    {
     "name": "stderr",
     "output_type": "stream",
     "text": [
      "05:18:22 - OI2: INFO - Duplicated gene symbols in the prize file (we'll keep the max prize):\n",
      "05:18:22 - OI2: INFO - []\n",
      "05:18:22 - OI2: INFO - Members of the prize file not present in the interactome:\n",
      "05:18:22 - OI2: INFO - []\n"
     ]
    },
    {
     "name": "stdout",
     "output_type": "stream",
     "text": [
      "progress = 15.8%\n"
     ]
    },
    {
     "name": "stderr",
     "output_type": "stream",
     "text": [
      "05:18:25 - OI2: INFO - Duplicated gene symbols in the prize file (we'll keep the max prize):\n",
      "05:18:25 - OI2: INFO - []\n",
      "05:18:25 - OI2: INFO - Members of the prize file not present in the interactome:\n",
      "05:18:25 - OI2: INFO - []\n"
     ]
    },
    {
     "name": "stdout",
     "output_type": "stream",
     "text": [
      "progress = 15.9%\n"
     ]
    },
    {
     "name": "stderr",
     "output_type": "stream",
     "text": [
      "05:18:29 - OI2: INFO - Duplicated gene symbols in the prize file (we'll keep the max prize):\n",
      "05:18:29 - OI2: INFO - []\n",
      "05:18:29 - OI2: INFO - Members of the prize file not present in the interactome:\n",
      "05:18:29 - OI2: INFO - []\n"
     ]
    },
    {
     "name": "stdout",
     "output_type": "stream",
     "text": [
      "progress = 16.0%\n"
     ]
    },
    {
     "name": "stderr",
     "output_type": "stream",
     "text": [
      "05:18:33 - OI2: INFO - Duplicated gene symbols in the prize file (we'll keep the max prize):\n",
      "05:18:33 - OI2: INFO - []\n",
      "05:18:33 - OI2: INFO - Members of the prize file not present in the interactome:\n",
      "05:18:33 - OI2: INFO - []\n"
     ]
    },
    {
     "name": "stdout",
     "output_type": "stream",
     "text": [
      "progress = 16.1%\n"
     ]
    },
    {
     "name": "stderr",
     "output_type": "stream",
     "text": [
      "05:18:37 - OI2: INFO - Duplicated gene symbols in the prize file (we'll keep the max prize):\n",
      "05:18:37 - OI2: INFO - []\n",
      "05:18:37 - OI2: INFO - Members of the prize file not present in the interactome:\n",
      "05:18:37 - OI2: INFO - []\n"
     ]
    },
    {
     "name": "stdout",
     "output_type": "stream",
     "text": [
      "progress = 16.2%\n"
     ]
    },
    {
     "name": "stderr",
     "output_type": "stream",
     "text": [
      "05:18:41 - OI2: INFO - Duplicated gene symbols in the prize file (we'll keep the max prize):\n",
      "05:18:41 - OI2: INFO - []\n",
      "05:18:41 - OI2: INFO - Members of the prize file not present in the interactome:\n",
      "05:18:41 - OI2: INFO - []\n"
     ]
    },
    {
     "name": "stdout",
     "output_type": "stream",
     "text": [
      "progress = 16.3%\n"
     ]
    },
    {
     "name": "stderr",
     "output_type": "stream",
     "text": [
      "05:18:44 - OI2: INFO - Duplicated gene symbols in the prize file (we'll keep the max prize):\n",
      "05:18:44 - OI2: INFO - []\n",
      "05:18:44 - OI2: INFO - Members of the prize file not present in the interactome:\n",
      "05:18:44 - OI2: INFO - []\n"
     ]
    },
    {
     "name": "stdout",
     "output_type": "stream",
     "text": [
      "progress = 16.400000000000002%\n"
     ]
    },
    {
     "name": "stderr",
     "output_type": "stream",
     "text": [
      "05:18:48 - OI2: INFO - Duplicated gene symbols in the prize file (we'll keep the max prize):\n",
      "05:18:48 - OI2: INFO - []\n",
      "05:18:48 - OI2: INFO - Members of the prize file not present in the interactome:\n",
      "05:18:48 - OI2: INFO - []\n"
     ]
    },
    {
     "name": "stdout",
     "output_type": "stream",
     "text": [
      "progress = 16.5%\n"
     ]
    },
    {
     "name": "stderr",
     "output_type": "stream",
     "text": [
      "05:18:52 - OI2: INFO - Duplicated gene symbols in the prize file (we'll keep the max prize):\n",
      "05:18:52 - OI2: INFO - []\n",
      "05:18:52 - OI2: INFO - Members of the prize file not present in the interactome:\n",
      "05:18:52 - OI2: INFO - []\n"
     ]
    },
    {
     "name": "stdout",
     "output_type": "stream",
     "text": [
      "progress = 16.6%\n"
     ]
    },
    {
     "name": "stderr",
     "output_type": "stream",
     "text": [
      "05:18:56 - OI2: INFO - Duplicated gene symbols in the prize file (we'll keep the max prize):\n",
      "05:18:56 - OI2: INFO - []\n",
      "05:18:56 - OI2: INFO - Members of the prize file not present in the interactome:\n",
      "05:18:56 - OI2: INFO - []\n"
     ]
    },
    {
     "name": "stdout",
     "output_type": "stream",
     "text": [
      "progress = 16.7%\n"
     ]
    },
    {
     "name": "stderr",
     "output_type": "stream",
     "text": [
      "05:18:59 - OI2: INFO - Duplicated gene symbols in the prize file (we'll keep the max prize):\n",
      "05:18:59 - OI2: INFO - []\n",
      "05:18:59 - OI2: INFO - Members of the prize file not present in the interactome:\n",
      "05:18:59 - OI2: INFO - []\n"
     ]
    },
    {
     "name": "stdout",
     "output_type": "stream",
     "text": [
      "progress = 16.8%\n"
     ]
    },
    {
     "name": "stderr",
     "output_type": "stream",
     "text": [
      "05:19:03 - OI2: INFO - Duplicated gene symbols in the prize file (we'll keep the max prize):\n",
      "05:19:03 - OI2: INFO - []\n",
      "05:19:03 - OI2: INFO - Members of the prize file not present in the interactome:\n",
      "05:19:03 - OI2: INFO - []\n"
     ]
    },
    {
     "name": "stdout",
     "output_type": "stream",
     "text": [
      "progress = 16.900000000000002%\n"
     ]
    },
    {
     "name": "stderr",
     "output_type": "stream",
     "text": [
      "05:19:07 - OI2: INFO - Duplicated gene symbols in the prize file (we'll keep the max prize):\n",
      "05:19:07 - OI2: INFO - []\n",
      "05:19:07 - OI2: INFO - Members of the prize file not present in the interactome:\n",
      "05:19:07 - OI2: INFO - []\n"
     ]
    },
    {
     "name": "stdout",
     "output_type": "stream",
     "text": [
      "progress = 17.0%\n"
     ]
    },
    {
     "name": "stderr",
     "output_type": "stream",
     "text": [
      "05:19:11 - OI2: INFO - Duplicated gene symbols in the prize file (we'll keep the max prize):\n",
      "05:19:11 - OI2: INFO - []\n",
      "05:19:11 - OI2: INFO - Members of the prize file not present in the interactome:\n",
      "05:19:11 - OI2: INFO - []\n"
     ]
    },
    {
     "name": "stdout",
     "output_type": "stream",
     "text": [
      "progress = 17.1%\n"
     ]
    },
    {
     "name": "stderr",
     "output_type": "stream",
     "text": [
      "05:19:14 - OI2: INFO - Duplicated gene symbols in the prize file (we'll keep the max prize):\n",
      "05:19:14 - OI2: INFO - []\n",
      "05:19:14 - OI2: INFO - Members of the prize file not present in the interactome:\n",
      "05:19:14 - OI2: INFO - []\n"
     ]
    },
    {
     "name": "stdout",
     "output_type": "stream",
     "text": [
      "progress = 17.2%\n"
     ]
    },
    {
     "name": "stderr",
     "output_type": "stream",
     "text": [
      "05:19:18 - OI2: INFO - Duplicated gene symbols in the prize file (we'll keep the max prize):\n",
      "05:19:18 - OI2: INFO - []\n",
      "05:19:18 - OI2: INFO - Members of the prize file not present in the interactome:\n",
      "05:19:18 - OI2: INFO - []\n"
     ]
    },
    {
     "name": "stdout",
     "output_type": "stream",
     "text": [
      "progress = 17.299999999999997%\n"
     ]
    },
    {
     "name": "stderr",
     "output_type": "stream",
     "text": [
      "05:19:22 - OI2: INFO - Duplicated gene symbols in the prize file (we'll keep the max prize):\n",
      "05:19:22 - OI2: INFO - []\n",
      "05:19:22 - OI2: INFO - Members of the prize file not present in the interactome:\n",
      "05:19:22 - OI2: INFO - []\n"
     ]
    },
    {
     "name": "stdout",
     "output_type": "stream",
     "text": [
      "progress = 17.4%\n"
     ]
    },
    {
     "name": "stderr",
     "output_type": "stream",
     "text": [
      "05:19:26 - OI2: INFO - Duplicated gene symbols in the prize file (we'll keep the max prize):\n",
      "05:19:26 - OI2: INFO - []\n",
      "05:19:26 - OI2: INFO - Members of the prize file not present in the interactome:\n",
      "05:19:26 - OI2: INFO - []\n"
     ]
    },
    {
     "name": "stdout",
     "output_type": "stream",
     "text": [
      "progress = 17.5%\n"
     ]
    },
    {
     "name": "stderr",
     "output_type": "stream",
     "text": [
      "05:19:29 - OI2: INFO - Duplicated gene symbols in the prize file (we'll keep the max prize):\n",
      "05:19:29 - OI2: INFO - []\n",
      "05:19:29 - OI2: INFO - Members of the prize file not present in the interactome:\n",
      "05:19:29 - OI2: INFO - []\n"
     ]
    },
    {
     "name": "stdout",
     "output_type": "stream",
     "text": [
      "progress = 17.599999999999998%\n"
     ]
    },
    {
     "name": "stderr",
     "output_type": "stream",
     "text": [
      "05:19:33 - OI2: INFO - Duplicated gene symbols in the prize file (we'll keep the max prize):\n",
      "05:19:33 - OI2: INFO - []\n",
      "05:19:33 - OI2: INFO - Members of the prize file not present in the interactome:\n",
      "05:19:33 - OI2: INFO - []\n"
     ]
    },
    {
     "name": "stdout",
     "output_type": "stream",
     "text": [
      "progress = 17.7%\n"
     ]
    },
    {
     "name": "stderr",
     "output_type": "stream",
     "text": [
      "05:19:37 - OI2: INFO - Duplicated gene symbols in the prize file (we'll keep the max prize):\n",
      "05:19:37 - OI2: INFO - []\n",
      "05:19:37 - OI2: INFO - Members of the prize file not present in the interactome:\n",
      "05:19:37 - OI2: INFO - []\n"
     ]
    },
    {
     "name": "stdout",
     "output_type": "stream",
     "text": [
      "progress = 17.8%\n"
     ]
    },
    {
     "name": "stderr",
     "output_type": "stream",
     "text": [
      "05:19:41 - OI2: INFO - Duplicated gene symbols in the prize file (we'll keep the max prize):\n",
      "05:19:41 - OI2: INFO - []\n",
      "05:19:41 - OI2: INFO - Members of the prize file not present in the interactome:\n",
      "05:19:41 - OI2: INFO - []\n"
     ]
    },
    {
     "name": "stdout",
     "output_type": "stream",
     "text": [
      "progress = 17.9%\n"
     ]
    },
    {
     "name": "stderr",
     "output_type": "stream",
     "text": [
      "05:19:45 - OI2: INFO - Duplicated gene symbols in the prize file (we'll keep the max prize):\n",
      "05:19:45 - OI2: INFO - []\n",
      "05:19:45 - OI2: INFO - Members of the prize file not present in the interactome:\n",
      "05:19:45 - OI2: INFO - []\n"
     ]
    },
    {
     "name": "stdout",
     "output_type": "stream",
     "text": [
      "progress = 18.0%\n"
     ]
    },
    {
     "name": "stderr",
     "output_type": "stream",
     "text": [
      "05:19:48 - OI2: INFO - Duplicated gene symbols in the prize file (we'll keep the max prize):\n",
      "05:19:48 - OI2: INFO - []\n",
      "05:19:48 - OI2: INFO - Members of the prize file not present in the interactome:\n",
      "05:19:48 - OI2: INFO - []\n"
     ]
    },
    {
     "name": "stdout",
     "output_type": "stream",
     "text": [
      "progress = 18.099999999999998%\n"
     ]
    },
    {
     "name": "stderr",
     "output_type": "stream",
     "text": [
      "05:19:52 - OI2: INFO - Duplicated gene symbols in the prize file (we'll keep the max prize):\n",
      "05:19:52 - OI2: INFO - []\n",
      "05:19:52 - OI2: INFO - Members of the prize file not present in the interactome:\n",
      "05:19:52 - OI2: INFO - []\n"
     ]
    },
    {
     "name": "stdout",
     "output_type": "stream",
     "text": [
      "progress = 18.2%\n"
     ]
    },
    {
     "name": "stderr",
     "output_type": "stream",
     "text": [
      "05:19:56 - OI2: INFO - Duplicated gene symbols in the prize file (we'll keep the max prize):\n",
      "05:19:56 - OI2: INFO - []\n",
      "05:19:56 - OI2: INFO - Members of the prize file not present in the interactome:\n",
      "05:19:56 - OI2: INFO - []\n"
     ]
    },
    {
     "name": "stdout",
     "output_type": "stream",
     "text": [
      "progress = 18.3%\n"
     ]
    },
    {
     "name": "stderr",
     "output_type": "stream",
     "text": [
      "05:20:00 - OI2: INFO - Duplicated gene symbols in the prize file (we'll keep the max prize):\n",
      "05:20:00 - OI2: INFO - []\n",
      "05:20:00 - OI2: INFO - Members of the prize file not present in the interactome:\n",
      "05:20:00 - OI2: INFO - []\n"
     ]
    },
    {
     "name": "stdout",
     "output_type": "stream",
     "text": [
      "progress = 18.4%\n"
     ]
    },
    {
     "name": "stderr",
     "output_type": "stream",
     "text": [
      "05:20:04 - OI2: INFO - Duplicated gene symbols in the prize file (we'll keep the max prize):\n",
      "05:20:04 - OI2: INFO - []\n",
      "05:20:04 - OI2: INFO - Members of the prize file not present in the interactome:\n",
      "05:20:04 - OI2: INFO - []\n"
     ]
    },
    {
     "name": "stdout",
     "output_type": "stream",
     "text": [
      "progress = 18.5%\n"
     ]
    },
    {
     "name": "stderr",
     "output_type": "stream",
     "text": [
      "05:20:07 - OI2: INFO - Duplicated gene symbols in the prize file (we'll keep the max prize):\n",
      "05:20:07 - OI2: INFO - []\n",
      "05:20:07 - OI2: INFO - Members of the prize file not present in the interactome:\n",
      "05:20:07 - OI2: INFO - []\n"
     ]
    },
    {
     "name": "stdout",
     "output_type": "stream",
     "text": [
      "progress = 18.6%\n"
     ]
    },
    {
     "name": "stderr",
     "output_type": "stream",
     "text": [
      "05:20:11 - OI2: INFO - Duplicated gene symbols in the prize file (we'll keep the max prize):\n",
      "05:20:11 - OI2: INFO - []\n",
      "05:20:11 - OI2: INFO - Members of the prize file not present in the interactome:\n",
      "05:20:11 - OI2: INFO - []\n"
     ]
    },
    {
     "name": "stdout",
     "output_type": "stream",
     "text": [
      "progress = 18.7%\n"
     ]
    },
    {
     "name": "stderr",
     "output_type": "stream",
     "text": [
      "05:20:15 - OI2: INFO - Duplicated gene symbols in the prize file (we'll keep the max prize):\n",
      "05:20:15 - OI2: INFO - []\n",
      "05:20:15 - OI2: INFO - Members of the prize file not present in the interactome:\n",
      "05:20:15 - OI2: INFO - []\n"
     ]
    },
    {
     "name": "stdout",
     "output_type": "stream",
     "text": [
      "progress = 18.8%\n"
     ]
    },
    {
     "name": "stderr",
     "output_type": "stream",
     "text": [
      "05:20:19 - OI2: INFO - Duplicated gene symbols in the prize file (we'll keep the max prize):\n",
      "05:20:19 - OI2: INFO - []\n",
      "05:20:19 - OI2: INFO - Members of the prize file not present in the interactome:\n",
      "05:20:19 - OI2: INFO - []\n"
     ]
    },
    {
     "name": "stdout",
     "output_type": "stream",
     "text": [
      "progress = 18.9%\n"
     ]
    },
    {
     "name": "stderr",
     "output_type": "stream",
     "text": [
      "05:20:22 - OI2: INFO - Duplicated gene symbols in the prize file (we'll keep the max prize):\n",
      "05:20:22 - OI2: INFO - []\n",
      "05:20:22 - OI2: INFO - Members of the prize file not present in the interactome:\n",
      "05:20:22 - OI2: INFO - []\n"
     ]
    },
    {
     "name": "stdout",
     "output_type": "stream",
     "text": [
      "progress = 19.0%\n"
     ]
    },
    {
     "name": "stderr",
     "output_type": "stream",
     "text": [
      "05:20:26 - OI2: INFO - Duplicated gene symbols in the prize file (we'll keep the max prize):\n",
      "05:20:26 - OI2: INFO - []\n",
      "05:20:26 - OI2: INFO - Members of the prize file not present in the interactome:\n",
      "05:20:26 - OI2: INFO - []\n"
     ]
    },
    {
     "name": "stdout",
     "output_type": "stream",
     "text": [
      "progress = 19.1%\n"
     ]
    },
    {
     "name": "stderr",
     "output_type": "stream",
     "text": [
      "05:20:30 - OI2: INFO - Duplicated gene symbols in the prize file (we'll keep the max prize):\n",
      "05:20:30 - OI2: INFO - []\n",
      "05:20:30 - OI2: INFO - Members of the prize file not present in the interactome:\n",
      "05:20:30 - OI2: INFO - []\n"
     ]
    },
    {
     "name": "stdout",
     "output_type": "stream",
     "text": [
      "progress = 19.2%\n"
     ]
    },
    {
     "name": "stderr",
     "output_type": "stream",
     "text": [
      "05:20:34 - OI2: INFO - Duplicated gene symbols in the prize file (we'll keep the max prize):\n",
      "05:20:34 - OI2: INFO - []\n",
      "05:20:34 - OI2: INFO - Members of the prize file not present in the interactome:\n",
      "05:20:34 - OI2: INFO - []\n"
     ]
    },
    {
     "name": "stdout",
     "output_type": "stream",
     "text": [
      "progress = 19.3%\n"
     ]
    },
    {
     "name": "stderr",
     "output_type": "stream",
     "text": [
      "05:20:37 - OI2: INFO - Duplicated gene symbols in the prize file (we'll keep the max prize):\n",
      "05:20:37 - OI2: INFO - []\n",
      "05:20:37 - OI2: INFO - Members of the prize file not present in the interactome:\n",
      "05:20:37 - OI2: INFO - []\n"
     ]
    },
    {
     "name": "stdout",
     "output_type": "stream",
     "text": [
      "progress = 19.400000000000002%\n"
     ]
    },
    {
     "name": "stderr",
     "output_type": "stream",
     "text": [
      "05:20:41 - OI2: INFO - Duplicated gene symbols in the prize file (we'll keep the max prize):\n",
      "05:20:41 - OI2: INFO - []\n",
      "05:20:41 - OI2: INFO - Members of the prize file not present in the interactome:\n",
      "05:20:41 - OI2: INFO - []\n"
     ]
    },
    {
     "name": "stdout",
     "output_type": "stream",
     "text": [
      "progress = 19.5%\n"
     ]
    },
    {
     "name": "stderr",
     "output_type": "stream",
     "text": [
      "05:20:45 - OI2: INFO - Duplicated gene symbols in the prize file (we'll keep the max prize):\n",
      "05:20:45 - OI2: INFO - []\n",
      "05:20:45 - OI2: INFO - Members of the prize file not present in the interactome:\n",
      "05:20:45 - OI2: INFO - []\n"
     ]
    },
    {
     "name": "stdout",
     "output_type": "stream",
     "text": [
      "progress = 19.6%\n"
     ]
    },
    {
     "name": "stderr",
     "output_type": "stream",
     "text": [
      "05:20:49 - OI2: INFO - Duplicated gene symbols in the prize file (we'll keep the max prize):\n",
      "05:20:49 - OI2: INFO - []\n",
      "05:20:49 - OI2: INFO - Members of the prize file not present in the interactome:\n",
      "05:20:49 - OI2: INFO - []\n"
     ]
    },
    {
     "name": "stdout",
     "output_type": "stream",
     "text": [
      "progress = 19.7%\n"
     ]
    },
    {
     "name": "stderr",
     "output_type": "stream",
     "text": [
      "05:20:52 - OI2: INFO - Duplicated gene symbols in the prize file (we'll keep the max prize):\n",
      "05:20:52 - OI2: INFO - []\n",
      "05:20:52 - OI2: INFO - Members of the prize file not present in the interactome:\n",
      "05:20:52 - OI2: INFO - []\n"
     ]
    },
    {
     "name": "stdout",
     "output_type": "stream",
     "text": [
      "progress = 19.8%\n"
     ]
    },
    {
     "name": "stderr",
     "output_type": "stream",
     "text": [
      "05:20:56 - OI2: INFO - Duplicated gene symbols in the prize file (we'll keep the max prize):\n",
      "05:20:56 - OI2: INFO - []\n",
      "05:20:56 - OI2: INFO - Members of the prize file not present in the interactome:\n",
      "05:20:56 - OI2: INFO - []\n"
     ]
    },
    {
     "name": "stdout",
     "output_type": "stream",
     "text": [
      "progress = 19.900000000000002%\n"
     ]
    },
    {
     "name": "stderr",
     "output_type": "stream",
     "text": [
      "05:21:00 - OI2: INFO - Duplicated gene symbols in the prize file (we'll keep the max prize):\n",
      "05:21:00 - OI2: INFO - []\n",
      "05:21:00 - OI2: INFO - Members of the prize file not present in the interactome:\n",
      "05:21:00 - OI2: INFO - []\n"
     ]
    },
    {
     "name": "stdout",
     "output_type": "stream",
     "text": [
      "progress = 20.0%\n"
     ]
    },
    {
     "name": "stderr",
     "output_type": "stream",
     "text": [
      "05:21:03 - OI2: INFO - Duplicated gene symbols in the prize file (we'll keep the max prize):\n",
      "05:21:03 - OI2: INFO - []\n",
      "05:21:03 - OI2: INFO - Members of the prize file not present in the interactome:\n",
      "05:21:03 - OI2: INFO - []\n"
     ]
    },
    {
     "name": "stdout",
     "output_type": "stream",
     "text": [
      "progress = 20.1%\n"
     ]
    },
    {
     "name": "stderr",
     "output_type": "stream",
     "text": [
      "05:21:07 - OI2: INFO - Duplicated gene symbols in the prize file (we'll keep the max prize):\n",
      "05:21:07 - OI2: INFO - []\n",
      "05:21:07 - OI2: INFO - Members of the prize file not present in the interactome:\n",
      "05:21:07 - OI2: INFO - []\n"
     ]
    },
    {
     "name": "stdout",
     "output_type": "stream",
     "text": [
      "progress = 20.200000000000003%\n"
     ]
    },
    {
     "name": "stderr",
     "output_type": "stream",
     "text": [
      "05:21:11 - OI2: INFO - Duplicated gene symbols in the prize file (we'll keep the max prize):\n",
      "05:21:11 - OI2: INFO - []\n",
      "05:21:11 - OI2: INFO - Members of the prize file not present in the interactome:\n",
      "05:21:11 - OI2: INFO - []\n"
     ]
    },
    {
     "name": "stdout",
     "output_type": "stream",
     "text": [
      "progress = 20.3%\n"
     ]
    },
    {
     "name": "stderr",
     "output_type": "stream",
     "text": [
      "05:21:15 - OI2: INFO - Duplicated gene symbols in the prize file (we'll keep the max prize):\n",
      "05:21:15 - OI2: INFO - []\n",
      "05:21:15 - OI2: INFO - Members of the prize file not present in the interactome:\n",
      "05:21:15 - OI2: INFO - []\n"
     ]
    },
    {
     "name": "stdout",
     "output_type": "stream",
     "text": [
      "progress = 20.4%\n"
     ]
    },
    {
     "name": "stderr",
     "output_type": "stream",
     "text": [
      "05:21:19 - OI2: INFO - Duplicated gene symbols in the prize file (we'll keep the max prize):\n",
      "05:21:19 - OI2: INFO - []\n",
      "05:21:19 - OI2: INFO - Members of the prize file not present in the interactome:\n",
      "05:21:19 - OI2: INFO - []\n"
     ]
    },
    {
     "name": "stdout",
     "output_type": "stream",
     "text": [
      "progress = 20.5%\n"
     ]
    },
    {
     "name": "stderr",
     "output_type": "stream",
     "text": [
      "05:21:23 - OI2: INFO - Duplicated gene symbols in the prize file (we'll keep the max prize):\n",
      "05:21:23 - OI2: INFO - []\n",
      "05:21:23 - OI2: INFO - Members of the prize file not present in the interactome:\n",
      "05:21:23 - OI2: INFO - []\n"
     ]
    },
    {
     "name": "stdout",
     "output_type": "stream",
     "text": [
      "progress = 20.599999999999998%\n"
     ]
    },
    {
     "name": "stderr",
     "output_type": "stream",
     "text": [
      "05:21:27 - OI2: INFO - Duplicated gene symbols in the prize file (we'll keep the max prize):\n",
      "05:21:27 - OI2: INFO - []\n",
      "05:21:27 - OI2: INFO - Members of the prize file not present in the interactome:\n",
      "05:21:27 - OI2: INFO - []\n"
     ]
    },
    {
     "name": "stdout",
     "output_type": "stream",
     "text": [
      "progress = 20.7%\n"
     ]
    },
    {
     "name": "stderr",
     "output_type": "stream",
     "text": [
      "05:21:30 - OI2: INFO - Duplicated gene symbols in the prize file (we'll keep the max prize):\n",
      "05:21:30 - OI2: INFO - []\n",
      "05:21:30 - OI2: INFO - Members of the prize file not present in the interactome:\n",
      "05:21:30 - OI2: INFO - []\n"
     ]
    },
    {
     "name": "stdout",
     "output_type": "stream",
     "text": [
      "progress = 20.8%\n"
     ]
    },
    {
     "name": "stderr",
     "output_type": "stream",
     "text": [
      "05:21:34 - OI2: INFO - Duplicated gene symbols in the prize file (we'll keep the max prize):\n",
      "05:21:34 - OI2: INFO - []\n",
      "05:21:34 - OI2: INFO - Members of the prize file not present in the interactome:\n",
      "05:21:34 - OI2: INFO - []\n"
     ]
    },
    {
     "name": "stdout",
     "output_type": "stream",
     "text": [
      "progress = 20.9%\n"
     ]
    },
    {
     "name": "stderr",
     "output_type": "stream",
     "text": [
      "05:21:38 - OI2: INFO - Duplicated gene symbols in the prize file (we'll keep the max prize):\n",
      "05:21:38 - OI2: INFO - []\n",
      "05:21:38 - OI2: INFO - Members of the prize file not present in the interactome:\n",
      "05:21:38 - OI2: INFO - []\n"
     ]
    },
    {
     "name": "stdout",
     "output_type": "stream",
     "text": [
      "progress = 21.0%\n"
     ]
    },
    {
     "name": "stderr",
     "output_type": "stream",
     "text": [
      "05:21:42 - OI2: INFO - Duplicated gene symbols in the prize file (we'll keep the max prize):\n",
      "05:21:42 - OI2: INFO - []\n",
      "05:21:42 - OI2: INFO - Members of the prize file not present in the interactome:\n",
      "05:21:42 - OI2: INFO - []\n"
     ]
    },
    {
     "name": "stdout",
     "output_type": "stream",
     "text": [
      "progress = 21.099999999999998%\n"
     ]
    },
    {
     "name": "stderr",
     "output_type": "stream",
     "text": [
      "05:21:45 - OI2: INFO - Duplicated gene symbols in the prize file (we'll keep the max prize):\n",
      "05:21:45 - OI2: INFO - []\n",
      "05:21:45 - OI2: INFO - Members of the prize file not present in the interactome:\n",
      "05:21:45 - OI2: INFO - []\n"
     ]
    },
    {
     "name": "stdout",
     "output_type": "stream",
     "text": [
      "progress = 21.2%\n"
     ]
    },
    {
     "name": "stderr",
     "output_type": "stream",
     "text": [
      "05:21:49 - OI2: INFO - Duplicated gene symbols in the prize file (we'll keep the max prize):\n",
      "05:21:49 - OI2: INFO - []\n",
      "05:21:49 - OI2: INFO - Members of the prize file not present in the interactome:\n",
      "05:21:49 - OI2: INFO - []\n"
     ]
    },
    {
     "name": "stdout",
     "output_type": "stream",
     "text": [
      "progress = 21.3%\n"
     ]
    },
    {
     "name": "stderr",
     "output_type": "stream",
     "text": [
      "05:21:53 - OI2: INFO - Duplicated gene symbols in the prize file (we'll keep the max prize):\n",
      "05:21:53 - OI2: INFO - []\n",
      "05:21:53 - OI2: INFO - Members of the prize file not present in the interactome:\n",
      "05:21:53 - OI2: INFO - []\n"
     ]
    },
    {
     "name": "stdout",
     "output_type": "stream",
     "text": [
      "progress = 21.4%\n"
     ]
    },
    {
     "name": "stderr",
     "output_type": "stream",
     "text": [
      "05:21:56 - OI2: INFO - Duplicated gene symbols in the prize file (we'll keep the max prize):\n",
      "05:21:56 - OI2: INFO - []\n",
      "05:21:57 - OI2: INFO - Members of the prize file not present in the interactome:\n",
      "05:21:57 - OI2: INFO - []\n"
     ]
    },
    {
     "name": "stdout",
     "output_type": "stream",
     "text": [
      "progress = 21.5%\n"
     ]
    },
    {
     "name": "stderr",
     "output_type": "stream",
     "text": [
      "05:22:01 - OI2: INFO - Duplicated gene symbols in the prize file (we'll keep the max prize):\n",
      "05:22:01 - OI2: INFO - []\n",
      "05:22:01 - OI2: INFO - Members of the prize file not present in the interactome:\n",
      "05:22:01 - OI2: INFO - []\n"
     ]
    },
    {
     "name": "stdout",
     "output_type": "stream",
     "text": [
      "progress = 21.6%\n"
     ]
    },
    {
     "name": "stderr",
     "output_type": "stream",
     "text": [
      "05:22:04 - OI2: INFO - Duplicated gene symbols in the prize file (we'll keep the max prize):\n",
      "05:22:04 - OI2: INFO - []\n",
      "05:22:04 - OI2: INFO - Members of the prize file not present in the interactome:\n",
      "05:22:04 - OI2: INFO - []\n"
     ]
    },
    {
     "name": "stdout",
     "output_type": "stream",
     "text": [
      "progress = 21.7%\n"
     ]
    },
    {
     "name": "stderr",
     "output_type": "stream",
     "text": [
      "05:22:08 - OI2: INFO - Duplicated gene symbols in the prize file (we'll keep the max prize):\n",
      "05:22:08 - OI2: INFO - []\n",
      "05:22:08 - OI2: INFO - Members of the prize file not present in the interactome:\n",
      "05:22:08 - OI2: INFO - []\n"
     ]
    },
    {
     "name": "stdout",
     "output_type": "stream",
     "text": [
      "progress = 21.8%\n"
     ]
    },
    {
     "name": "stderr",
     "output_type": "stream",
     "text": [
      "05:22:12 - OI2: INFO - Duplicated gene symbols in the prize file (we'll keep the max prize):\n",
      "05:22:12 - OI2: INFO - []\n",
      "05:22:12 - OI2: INFO - Members of the prize file not present in the interactome:\n",
      "05:22:12 - OI2: INFO - []\n"
     ]
    },
    {
     "name": "stdout",
     "output_type": "stream",
     "text": [
      "progress = 21.9%\n"
     ]
    },
    {
     "name": "stderr",
     "output_type": "stream",
     "text": [
      "05:22:16 - OI2: INFO - Duplicated gene symbols in the prize file (we'll keep the max prize):\n",
      "05:22:16 - OI2: INFO - []\n",
      "05:22:16 - OI2: INFO - Members of the prize file not present in the interactome:\n",
      "05:22:16 - OI2: INFO - []\n"
     ]
    },
    {
     "name": "stdout",
     "output_type": "stream",
     "text": [
      "progress = 22.0%\n"
     ]
    },
    {
     "name": "stderr",
     "output_type": "stream",
     "text": [
      "05:22:20 - OI2: INFO - Duplicated gene symbols in the prize file (we'll keep the max prize):\n",
      "05:22:20 - OI2: INFO - []\n",
      "05:22:20 - OI2: INFO - Members of the prize file not present in the interactome:\n",
      "05:22:20 - OI2: INFO - []\n"
     ]
    },
    {
     "name": "stdout",
     "output_type": "stream",
     "text": [
      "progress = 22.1%\n"
     ]
    },
    {
     "name": "stderr",
     "output_type": "stream",
     "text": [
      "05:22:23 - OI2: INFO - Duplicated gene symbols in the prize file (we'll keep the max prize):\n",
      "05:22:23 - OI2: INFO - []\n",
      "05:22:23 - OI2: INFO - Members of the prize file not present in the interactome:\n",
      "05:22:23 - OI2: INFO - []\n"
     ]
    },
    {
     "name": "stdout",
     "output_type": "stream",
     "text": [
      "progress = 22.2%\n"
     ]
    },
    {
     "name": "stderr",
     "output_type": "stream",
     "text": [
      "05:22:27 - OI2: INFO - Duplicated gene symbols in the prize file (we'll keep the max prize):\n",
      "05:22:27 - OI2: INFO - []\n",
      "05:22:27 - OI2: INFO - Members of the prize file not present in the interactome:\n",
      "05:22:27 - OI2: INFO - []\n"
     ]
    },
    {
     "name": "stdout",
     "output_type": "stream",
     "text": [
      "progress = 22.3%\n"
     ]
    },
    {
     "name": "stderr",
     "output_type": "stream",
     "text": [
      "05:22:31 - OI2: INFO - Duplicated gene symbols in the prize file (we'll keep the max prize):\n",
      "05:22:31 - OI2: INFO - []\n",
      "05:22:31 - OI2: INFO - Members of the prize file not present in the interactome:\n",
      "05:22:31 - OI2: INFO - []\n"
     ]
    },
    {
     "name": "stdout",
     "output_type": "stream",
     "text": [
      "progress = 22.400000000000002%\n"
     ]
    },
    {
     "name": "stderr",
     "output_type": "stream",
     "text": [
      "05:22:35 - OI2: INFO - Duplicated gene symbols in the prize file (we'll keep the max prize):\n",
      "05:22:35 - OI2: INFO - []\n",
      "05:22:35 - OI2: INFO - Members of the prize file not present in the interactome:\n",
      "05:22:35 - OI2: INFO - []\n"
     ]
    },
    {
     "name": "stdout",
     "output_type": "stream",
     "text": [
      "progress = 22.5%\n"
     ]
    },
    {
     "name": "stderr",
     "output_type": "stream",
     "text": [
      "05:22:39 - OI2: INFO - Duplicated gene symbols in the prize file (we'll keep the max prize):\n",
      "05:22:39 - OI2: INFO - []\n",
      "05:22:39 - OI2: INFO - Members of the prize file not present in the interactome:\n",
      "05:22:39 - OI2: INFO - []\n"
     ]
    },
    {
     "name": "stdout",
     "output_type": "stream",
     "text": [
      "progress = 22.6%\n"
     ]
    },
    {
     "name": "stderr",
     "output_type": "stream",
     "text": [
      "05:22:42 - OI2: INFO - Duplicated gene symbols in the prize file (we'll keep the max prize):\n",
      "05:22:42 - OI2: INFO - []\n",
      "05:22:42 - OI2: INFO - Members of the prize file not present in the interactome:\n",
      "05:22:42 - OI2: INFO - []\n"
     ]
    },
    {
     "name": "stdout",
     "output_type": "stream",
     "text": [
      "progress = 22.7%\n"
     ]
    },
    {
     "name": "stderr",
     "output_type": "stream",
     "text": [
      "05:22:46 - OI2: INFO - Duplicated gene symbols in the prize file (we'll keep the max prize):\n",
      "05:22:46 - OI2: INFO - []\n",
      "05:22:46 - OI2: INFO - Members of the prize file not present in the interactome:\n",
      "05:22:46 - OI2: INFO - []\n"
     ]
    },
    {
     "name": "stdout",
     "output_type": "stream",
     "text": [
      "progress = 22.8%\n"
     ]
    },
    {
     "name": "stderr",
     "output_type": "stream",
     "text": [
      "05:22:50 - OI2: INFO - Duplicated gene symbols in the prize file (we'll keep the max prize):\n",
      "05:22:50 - OI2: INFO - []\n",
      "05:22:50 - OI2: INFO - Members of the prize file not present in the interactome:\n",
      "05:22:50 - OI2: INFO - []\n"
     ]
    },
    {
     "name": "stdout",
     "output_type": "stream",
     "text": [
      "progress = 22.900000000000002%\n"
     ]
    },
    {
     "name": "stderr",
     "output_type": "stream",
     "text": [
      "05:22:54 - OI2: INFO - Duplicated gene symbols in the prize file (we'll keep the max prize):\n",
      "05:22:54 - OI2: INFO - []\n",
      "05:22:54 - OI2: INFO - Members of the prize file not present in the interactome:\n",
      "05:22:54 - OI2: INFO - []\n"
     ]
    },
    {
     "name": "stdout",
     "output_type": "stream",
     "text": [
      "progress = 23.0%\n"
     ]
    },
    {
     "name": "stderr",
     "output_type": "stream",
     "text": [
      "05:22:57 - OI2: INFO - Duplicated gene symbols in the prize file (we'll keep the max prize):\n",
      "05:22:57 - OI2: INFO - []\n",
      "05:22:57 - OI2: INFO - Members of the prize file not present in the interactome:\n",
      "05:22:57 - OI2: INFO - []\n"
     ]
    },
    {
     "name": "stdout",
     "output_type": "stream",
     "text": [
      "progress = 23.1%\n"
     ]
    },
    {
     "name": "stderr",
     "output_type": "stream",
     "text": [
      "05:23:01 - OI2: INFO - Duplicated gene symbols in the prize file (we'll keep the max prize):\n",
      "05:23:01 - OI2: INFO - []\n",
      "05:23:01 - OI2: INFO - Members of the prize file not present in the interactome:\n",
      "05:23:01 - OI2: INFO - []\n"
     ]
    },
    {
     "name": "stdout",
     "output_type": "stream",
     "text": [
      "progress = 23.200000000000003%\n"
     ]
    },
    {
     "name": "stderr",
     "output_type": "stream",
     "text": [
      "05:23:05 - OI2: INFO - Duplicated gene symbols in the prize file (we'll keep the max prize):\n",
      "05:23:05 - OI2: INFO - []\n",
      "05:23:05 - OI2: INFO - Members of the prize file not present in the interactome:\n",
      "05:23:05 - OI2: INFO - []\n"
     ]
    },
    {
     "name": "stdout",
     "output_type": "stream",
     "text": [
      "progress = 23.3%\n"
     ]
    },
    {
     "name": "stderr",
     "output_type": "stream",
     "text": [
      "05:23:09 - OI2: INFO - Duplicated gene symbols in the prize file (we'll keep the max prize):\n",
      "05:23:09 - OI2: INFO - []\n",
      "05:23:09 - OI2: INFO - Members of the prize file not present in the interactome:\n",
      "05:23:09 - OI2: INFO - []\n"
     ]
    },
    {
     "name": "stdout",
     "output_type": "stream",
     "text": [
      "progress = 23.400000000000002%\n"
     ]
    },
    {
     "name": "stderr",
     "output_type": "stream",
     "text": [
      "05:23:13 - OI2: INFO - Duplicated gene symbols in the prize file (we'll keep the max prize):\n",
      "05:23:13 - OI2: INFO - []\n",
      "05:23:13 - OI2: INFO - Members of the prize file not present in the interactome:\n",
      "05:23:13 - OI2: INFO - []\n"
     ]
    },
    {
     "name": "stdout",
     "output_type": "stream",
     "text": [
      "progress = 23.5%\n"
     ]
    },
    {
     "name": "stderr",
     "output_type": "stream",
     "text": [
      "05:23:16 - OI2: INFO - Duplicated gene symbols in the prize file (we'll keep the max prize):\n",
      "05:23:16 - OI2: INFO - []\n",
      "05:23:16 - OI2: INFO - Members of the prize file not present in the interactome:\n",
      "05:23:16 - OI2: INFO - []\n"
     ]
    },
    {
     "name": "stdout",
     "output_type": "stream",
     "text": [
      "progress = 23.599999999999998%\n"
     ]
    },
    {
     "name": "stderr",
     "output_type": "stream",
     "text": [
      "05:23:20 - OI2: INFO - Duplicated gene symbols in the prize file (we'll keep the max prize):\n",
      "05:23:20 - OI2: INFO - []\n",
      "05:23:20 - OI2: INFO - Members of the prize file not present in the interactome:\n",
      "05:23:20 - OI2: INFO - []\n"
     ]
    },
    {
     "name": "stdout",
     "output_type": "stream",
     "text": [
      "progress = 23.7%\n"
     ]
    },
    {
     "name": "stderr",
     "output_type": "stream",
     "text": [
      "05:23:24 - OI2: INFO - Duplicated gene symbols in the prize file (we'll keep the max prize):\n",
      "05:23:24 - OI2: INFO - []\n",
      "05:23:24 - OI2: INFO - Members of the prize file not present in the interactome:\n",
      "05:23:24 - OI2: INFO - []\n"
     ]
    },
    {
     "name": "stdout",
     "output_type": "stream",
     "text": [
      "progress = 23.799999999999997%\n"
     ]
    },
    {
     "name": "stderr",
     "output_type": "stream",
     "text": [
      "05:23:27 - OI2: INFO - Duplicated gene symbols in the prize file (we'll keep the max prize):\n",
      "05:23:27 - OI2: INFO - []\n",
      "05:23:27 - OI2: INFO - Members of the prize file not present in the interactome:\n",
      "05:23:27 - OI2: INFO - []\n"
     ]
    },
    {
     "name": "stdout",
     "output_type": "stream",
     "text": [
      "progress = 23.9%\n"
     ]
    },
    {
     "name": "stderr",
     "output_type": "stream",
     "text": [
      "05:23:31 - OI2: INFO - Duplicated gene symbols in the prize file (we'll keep the max prize):\n",
      "05:23:31 - OI2: INFO - []\n",
      "05:23:31 - OI2: INFO - Members of the prize file not present in the interactome:\n",
      "05:23:31 - OI2: INFO - []\n"
     ]
    },
    {
     "name": "stdout",
     "output_type": "stream",
     "text": [
      "progress = 24.0%\n"
     ]
    },
    {
     "name": "stderr",
     "output_type": "stream",
     "text": [
      "05:23:35 - OI2: INFO - Duplicated gene symbols in the prize file (we'll keep the max prize):\n",
      "05:23:35 - OI2: INFO - []\n",
      "05:23:35 - OI2: INFO - Members of the prize file not present in the interactome:\n",
      "05:23:35 - OI2: INFO - []\n"
     ]
    },
    {
     "name": "stdout",
     "output_type": "stream",
     "text": [
      "progress = 24.099999999999998%\n"
     ]
    },
    {
     "name": "stderr",
     "output_type": "stream",
     "text": [
      "05:23:39 - OI2: INFO - Duplicated gene symbols in the prize file (we'll keep the max prize):\n",
      "05:23:39 - OI2: INFO - []\n",
      "05:23:39 - OI2: INFO - Members of the prize file not present in the interactome:\n",
      "05:23:39 - OI2: INFO - []\n"
     ]
    },
    {
     "name": "stdout",
     "output_type": "stream",
     "text": [
      "progress = 24.2%\n"
     ]
    },
    {
     "name": "stderr",
     "output_type": "stream",
     "text": [
      "05:23:42 - OI2: INFO - Duplicated gene symbols in the prize file (we'll keep the max prize):\n",
      "05:23:42 - OI2: INFO - []\n",
      "05:23:43 - OI2: INFO - Members of the prize file not present in the interactome:\n",
      "05:23:43 - OI2: INFO - []\n"
     ]
    },
    {
     "name": "stdout",
     "output_type": "stream",
     "text": [
      "progress = 24.3%\n"
     ]
    },
    {
     "name": "stderr",
     "output_type": "stream",
     "text": [
      "05:23:47 - OI2: INFO - Duplicated gene symbols in the prize file (we'll keep the max prize):\n",
      "05:23:47 - OI2: INFO - []\n",
      "05:23:47 - OI2: INFO - Members of the prize file not present in the interactome:\n",
      "05:23:47 - OI2: INFO - []\n"
     ]
    },
    {
     "name": "stdout",
     "output_type": "stream",
     "text": [
      "progress = 24.4%\n"
     ]
    },
    {
     "name": "stderr",
     "output_type": "stream",
     "text": [
      "05:23:50 - OI2: INFO - Duplicated gene symbols in the prize file (we'll keep the max prize):\n",
      "05:23:50 - OI2: INFO - []\n",
      "05:23:50 - OI2: INFO - Members of the prize file not present in the interactome:\n",
      "05:23:50 - OI2: INFO - []\n"
     ]
    },
    {
     "name": "stdout",
     "output_type": "stream",
     "text": [
      "progress = 24.5%\n"
     ]
    },
    {
     "name": "stderr",
     "output_type": "stream",
     "text": [
      "05:23:54 - OI2: INFO - Duplicated gene symbols in the prize file (we'll keep the max prize):\n",
      "05:23:54 - OI2: INFO - []\n",
      "05:23:54 - OI2: INFO - Members of the prize file not present in the interactome:\n",
      "05:23:54 - OI2: INFO - []\n"
     ]
    },
    {
     "name": "stdout",
     "output_type": "stream",
     "text": [
      "progress = 24.6%\n"
     ]
    },
    {
     "name": "stderr",
     "output_type": "stream",
     "text": [
      "05:23:58 - OI2: INFO - Duplicated gene symbols in the prize file (we'll keep the max prize):\n",
      "05:23:58 - OI2: INFO - []\n",
      "05:23:58 - OI2: INFO - Members of the prize file not present in the interactome:\n",
      "05:23:58 - OI2: INFO - []\n"
     ]
    },
    {
     "name": "stdout",
     "output_type": "stream",
     "text": [
      "progress = 24.7%\n"
     ]
    },
    {
     "name": "stderr",
     "output_type": "stream",
     "text": [
      "05:24:02 - OI2: INFO - Duplicated gene symbols in the prize file (we'll keep the max prize):\n",
      "05:24:02 - OI2: INFO - []\n",
      "05:24:02 - OI2: INFO - Members of the prize file not present in the interactome:\n",
      "05:24:02 - OI2: INFO - []\n"
     ]
    },
    {
     "name": "stdout",
     "output_type": "stream",
     "text": [
      "progress = 24.8%\n"
     ]
    },
    {
     "name": "stderr",
     "output_type": "stream",
     "text": [
      "05:24:05 - OI2: INFO - Duplicated gene symbols in the prize file (we'll keep the max prize):\n",
      "05:24:05 - OI2: INFO - []\n",
      "05:24:05 - OI2: INFO - Members of the prize file not present in the interactome:\n",
      "05:24:05 - OI2: INFO - []\n"
     ]
    },
    {
     "name": "stdout",
     "output_type": "stream",
     "text": [
      "progress = 24.9%\n"
     ]
    },
    {
     "name": "stderr",
     "output_type": "stream",
     "text": [
      "05:24:09 - OI2: INFO - Duplicated gene symbols in the prize file (we'll keep the max prize):\n",
      "05:24:09 - OI2: INFO - []\n",
      "05:24:09 - OI2: INFO - Members of the prize file not present in the interactome:\n",
      "05:24:09 - OI2: INFO - []\n"
     ]
    },
    {
     "name": "stdout",
     "output_type": "stream",
     "text": [
      "progress = 25.0%\n"
     ]
    },
    {
     "name": "stderr",
     "output_type": "stream",
     "text": [
      "05:24:13 - OI2: INFO - Duplicated gene symbols in the prize file (we'll keep the max prize):\n",
      "05:24:13 - OI2: INFO - []\n",
      "05:24:13 - OI2: INFO - Members of the prize file not present in the interactome:\n",
      "05:24:13 - OI2: INFO - []\n"
     ]
    },
    {
     "name": "stdout",
     "output_type": "stream",
     "text": [
      "progress = 25.1%\n"
     ]
    },
    {
     "name": "stderr",
     "output_type": "stream",
     "text": [
      "05:24:17 - OI2: INFO - Duplicated gene symbols in the prize file (we'll keep the max prize):\n",
      "05:24:17 - OI2: INFO - []\n",
      "05:24:17 - OI2: INFO - Members of the prize file not present in the interactome:\n",
      "05:24:17 - OI2: INFO - []\n"
     ]
    },
    {
     "name": "stdout",
     "output_type": "stream",
     "text": [
      "progress = 25.2%\n"
     ]
    },
    {
     "name": "stderr",
     "output_type": "stream",
     "text": [
      "05:24:21 - OI2: INFO - Duplicated gene symbols in the prize file (we'll keep the max prize):\n",
      "05:24:21 - OI2: INFO - []\n",
      "05:24:21 - OI2: INFO - Members of the prize file not present in the interactome:\n",
      "05:24:21 - OI2: INFO - []\n"
     ]
    },
    {
     "name": "stdout",
     "output_type": "stream",
     "text": [
      "progress = 25.3%\n"
     ]
    },
    {
     "name": "stderr",
     "output_type": "stream",
     "text": [
      "05:24:24 - OI2: INFO - Duplicated gene symbols in the prize file (we'll keep the max prize):\n",
      "05:24:24 - OI2: INFO - []\n",
      "05:24:24 - OI2: INFO - Members of the prize file not present in the interactome:\n",
      "05:24:24 - OI2: INFO - []\n"
     ]
    },
    {
     "name": "stdout",
     "output_type": "stream",
     "text": [
      "progress = 25.4%\n"
     ]
    },
    {
     "name": "stderr",
     "output_type": "stream",
     "text": [
      "05:24:28 - OI2: INFO - Duplicated gene symbols in the prize file (we'll keep the max prize):\n",
      "05:24:28 - OI2: INFO - []\n",
      "05:24:28 - OI2: INFO - Members of the prize file not present in the interactome:\n",
      "05:24:28 - OI2: INFO - []\n"
     ]
    },
    {
     "name": "stdout",
     "output_type": "stream",
     "text": [
      "progress = 25.5%\n"
     ]
    },
    {
     "name": "stderr",
     "output_type": "stream",
     "text": [
      "05:24:32 - OI2: INFO - Duplicated gene symbols in the prize file (we'll keep the max prize):\n",
      "05:24:32 - OI2: INFO - []\n",
      "05:24:32 - OI2: INFO - Members of the prize file not present in the interactome:\n",
      "05:24:32 - OI2: INFO - []\n"
     ]
    },
    {
     "name": "stdout",
     "output_type": "stream",
     "text": [
      "progress = 25.6%\n"
     ]
    },
    {
     "name": "stderr",
     "output_type": "stream",
     "text": [
      "05:24:36 - OI2: INFO - Duplicated gene symbols in the prize file (we'll keep the max prize):\n",
      "05:24:36 - OI2: INFO - []\n",
      "05:24:36 - OI2: INFO - Members of the prize file not present in the interactome:\n",
      "05:24:36 - OI2: INFO - []\n"
     ]
    },
    {
     "name": "stdout",
     "output_type": "stream",
     "text": [
      "progress = 25.7%\n"
     ]
    },
    {
     "name": "stderr",
     "output_type": "stream",
     "text": [
      "05:24:40 - OI2: INFO - Duplicated gene symbols in the prize file (we'll keep the max prize):\n",
      "05:24:40 - OI2: INFO - []\n",
      "05:24:40 - OI2: INFO - Members of the prize file not present in the interactome:\n",
      "05:24:40 - OI2: INFO - []\n"
     ]
    },
    {
     "name": "stdout",
     "output_type": "stream",
     "text": [
      "progress = 25.8%\n"
     ]
    },
    {
     "name": "stderr",
     "output_type": "stream",
     "text": [
      "05:24:43 - OI2: INFO - Duplicated gene symbols in the prize file (we'll keep the max prize):\n",
      "05:24:43 - OI2: INFO - []\n",
      "05:24:43 - OI2: INFO - Members of the prize file not present in the interactome:\n",
      "05:24:43 - OI2: INFO - []\n"
     ]
    },
    {
     "name": "stdout",
     "output_type": "stream",
     "text": [
      "progress = 25.900000000000002%\n"
     ]
    },
    {
     "name": "stderr",
     "output_type": "stream",
     "text": [
      "05:24:47 - OI2: INFO - Duplicated gene symbols in the prize file (we'll keep the max prize):\n",
      "05:24:47 - OI2: INFO - []\n",
      "05:24:47 - OI2: INFO - Members of the prize file not present in the interactome:\n",
      "05:24:47 - OI2: INFO - []\n"
     ]
    },
    {
     "name": "stdout",
     "output_type": "stream",
     "text": [
      "progress = 26.0%\n"
     ]
    },
    {
     "name": "stderr",
     "output_type": "stream",
     "text": [
      "05:24:51 - OI2: INFO - Duplicated gene symbols in the prize file (we'll keep the max prize):\n",
      "05:24:51 - OI2: INFO - []\n",
      "05:24:51 - OI2: INFO - Members of the prize file not present in the interactome:\n",
      "05:24:51 - OI2: INFO - []\n"
     ]
    },
    {
     "name": "stdout",
     "output_type": "stream",
     "text": [
      "progress = 26.1%\n"
     ]
    },
    {
     "name": "stderr",
     "output_type": "stream",
     "text": [
      "05:24:54 - OI2: INFO - Duplicated gene symbols in the prize file (we'll keep the max prize):\n",
      "05:24:54 - OI2: INFO - []\n",
      "05:24:54 - OI2: INFO - Members of the prize file not present in the interactome:\n",
      "05:24:54 - OI2: INFO - []\n"
     ]
    },
    {
     "name": "stdout",
     "output_type": "stream",
     "text": [
      "progress = 26.200000000000003%\n"
     ]
    },
    {
     "name": "stderr",
     "output_type": "stream",
     "text": [
      "05:24:58 - OI2: INFO - Duplicated gene symbols in the prize file (we'll keep the max prize):\n",
      "05:24:58 - OI2: INFO - []\n",
      "05:24:58 - OI2: INFO - Members of the prize file not present in the interactome:\n",
      "05:24:58 - OI2: INFO - []\n"
     ]
    },
    {
     "name": "stdout",
     "output_type": "stream",
     "text": [
      "progress = 26.3%\n"
     ]
    },
    {
     "name": "stderr",
     "output_type": "stream",
     "text": [
      "05:25:02 - OI2: INFO - Duplicated gene symbols in the prize file (we'll keep the max prize):\n",
      "05:25:02 - OI2: INFO - []\n",
      "05:25:02 - OI2: INFO - Members of the prize file not present in the interactome:\n",
      "05:25:02 - OI2: INFO - []\n"
     ]
    },
    {
     "name": "stdout",
     "output_type": "stream",
     "text": [
      "progress = 26.400000000000002%\n"
     ]
    },
    {
     "name": "stderr",
     "output_type": "stream",
     "text": [
      "05:25:06 - OI2: INFO - Duplicated gene symbols in the prize file (we'll keep the max prize):\n",
      "05:25:06 - OI2: INFO - []\n",
      "05:25:06 - OI2: INFO - Members of the prize file not present in the interactome:\n",
      "05:25:06 - OI2: INFO - []\n"
     ]
    },
    {
     "name": "stdout",
     "output_type": "stream",
     "text": [
      "progress = 26.5%\n"
     ]
    },
    {
     "name": "stderr",
     "output_type": "stream",
     "text": [
      "05:25:09 - OI2: INFO - Duplicated gene symbols in the prize file (we'll keep the max prize):\n",
      "05:25:09 - OI2: INFO - []\n",
      "05:25:09 - OI2: INFO - Members of the prize file not present in the interactome:\n",
      "05:25:09 - OI2: INFO - []\n"
     ]
    },
    {
     "name": "stdout",
     "output_type": "stream",
     "text": [
      "progress = 26.6%\n"
     ]
    },
    {
     "name": "stderr",
     "output_type": "stream",
     "text": [
      "05:25:13 - OI2: INFO - Duplicated gene symbols in the prize file (we'll keep the max prize):\n",
      "05:25:13 - OI2: INFO - []\n",
      "05:25:13 - OI2: INFO - Members of the prize file not present in the interactome:\n",
      "05:25:13 - OI2: INFO - []\n"
     ]
    },
    {
     "name": "stdout",
     "output_type": "stream",
     "text": [
      "progress = 26.700000000000003%\n"
     ]
    },
    {
     "name": "stderr",
     "output_type": "stream",
     "text": [
      "05:25:17 - OI2: INFO - Duplicated gene symbols in the prize file (we'll keep the max prize):\n",
      "05:25:17 - OI2: INFO - []\n",
      "05:25:17 - OI2: INFO - Members of the prize file not present in the interactome:\n",
      "05:25:17 - OI2: INFO - []\n"
     ]
    },
    {
     "name": "stdout",
     "output_type": "stream",
     "text": [
      "progress = 26.8%\n"
     ]
    },
    {
     "name": "stderr",
     "output_type": "stream",
     "text": [
      "05:25:21 - OI2: INFO - Duplicated gene symbols in the prize file (we'll keep the max prize):\n",
      "05:25:21 - OI2: INFO - []\n",
      "05:25:21 - OI2: INFO - Members of the prize file not present in the interactome:\n",
      "05:25:21 - OI2: INFO - []\n"
     ]
    },
    {
     "name": "stdout",
     "output_type": "stream",
     "text": [
      "progress = 26.900000000000002%\n"
     ]
    },
    {
     "name": "stderr",
     "output_type": "stream",
     "text": [
      "05:25:24 - OI2: INFO - Duplicated gene symbols in the prize file (we'll keep the max prize):\n",
      "05:25:24 - OI2: INFO - []\n",
      "05:25:24 - OI2: INFO - Members of the prize file not present in the interactome:\n",
      "05:25:24 - OI2: INFO - []\n"
     ]
    },
    {
     "name": "stdout",
     "output_type": "stream",
     "text": [
      "progress = 27.0%\n"
     ]
    },
    {
     "name": "stderr",
     "output_type": "stream",
     "text": [
      "05:25:28 - OI2: INFO - Duplicated gene symbols in the prize file (we'll keep the max prize):\n",
      "05:25:28 - OI2: INFO - []\n",
      "05:25:28 - OI2: INFO - Members of the prize file not present in the interactome:\n",
      "05:25:28 - OI2: INFO - []\n"
     ]
    },
    {
     "name": "stdout",
     "output_type": "stream",
     "text": [
      "progress = 27.1%\n"
     ]
    },
    {
     "name": "stderr",
     "output_type": "stream",
     "text": [
      "05:25:32 - OI2: INFO - Duplicated gene symbols in the prize file (we'll keep the max prize):\n",
      "05:25:32 - OI2: INFO - []\n",
      "05:25:32 - OI2: INFO - Members of the prize file not present in the interactome:\n",
      "05:25:32 - OI2: INFO - []\n"
     ]
    },
    {
     "name": "stdout",
     "output_type": "stream",
     "text": [
      "progress = 27.200000000000003%\n"
     ]
    },
    {
     "name": "stderr",
     "output_type": "stream",
     "text": [
      "05:25:35 - OI2: INFO - Duplicated gene symbols in the prize file (we'll keep the max prize):\n",
      "05:25:35 - OI2: INFO - []\n",
      "05:25:35 - OI2: INFO - Members of the prize file not present in the interactome:\n",
      "05:25:35 - OI2: INFO - []\n"
     ]
    },
    {
     "name": "stdout",
     "output_type": "stream",
     "text": [
      "progress = 27.3%\n"
     ]
    },
    {
     "name": "stderr",
     "output_type": "stream",
     "text": [
      "05:25:39 - OI2: INFO - Duplicated gene symbols in the prize file (we'll keep the max prize):\n",
      "05:25:39 - OI2: INFO - []\n",
      "05:25:39 - OI2: INFO - Members of the prize file not present in the interactome:\n",
      "05:25:39 - OI2: INFO - []\n"
     ]
    },
    {
     "name": "stdout",
     "output_type": "stream",
     "text": [
      "progress = 27.400000000000002%\n"
     ]
    },
    {
     "name": "stderr",
     "output_type": "stream",
     "text": [
      "05:25:43 - OI2: INFO - Duplicated gene symbols in the prize file (we'll keep the max prize):\n",
      "05:25:43 - OI2: INFO - []\n",
      "05:25:43 - OI2: INFO - Members of the prize file not present in the interactome:\n",
      "05:25:43 - OI2: INFO - []\n"
     ]
    },
    {
     "name": "stdout",
     "output_type": "stream",
     "text": [
      "progress = 27.500000000000004%\n"
     ]
    },
    {
     "name": "stderr",
     "output_type": "stream",
     "text": [
      "05:25:46 - OI2: INFO - Duplicated gene symbols in the prize file (we'll keep the max prize):\n",
      "05:25:46 - OI2: INFO - []\n",
      "05:25:46 - OI2: INFO - Members of the prize file not present in the interactome:\n",
      "05:25:46 - OI2: INFO - []\n"
     ]
    },
    {
     "name": "stdout",
     "output_type": "stream",
     "text": [
      "progress = 27.6%\n"
     ]
    },
    {
     "name": "stderr",
     "output_type": "stream",
     "text": [
      "05:25:50 - OI2: INFO - Duplicated gene symbols in the prize file (we'll keep the max prize):\n",
      "05:25:50 - OI2: INFO - []\n",
      "05:25:50 - OI2: INFO - Members of the prize file not present in the interactome:\n",
      "05:25:50 - OI2: INFO - []\n"
     ]
    },
    {
     "name": "stdout",
     "output_type": "stream",
     "text": [
      "progress = 27.700000000000003%\n"
     ]
    },
    {
     "name": "stderr",
     "output_type": "stream",
     "text": [
      "05:25:54 - OI2: INFO - Duplicated gene symbols in the prize file (we'll keep the max prize):\n",
      "05:25:54 - OI2: INFO - []\n",
      "05:25:54 - OI2: INFO - Members of the prize file not present in the interactome:\n",
      "05:25:54 - OI2: INFO - []\n"
     ]
    },
    {
     "name": "stdout",
     "output_type": "stream",
     "text": [
      "progress = 27.800000000000004%\n"
     ]
    },
    {
     "name": "stderr",
     "output_type": "stream",
     "text": [
      "05:25:58 - OI2: INFO - Duplicated gene symbols in the prize file (we'll keep the max prize):\n",
      "05:25:58 - OI2: INFO - []\n",
      "05:25:58 - OI2: INFO - Members of the prize file not present in the interactome:\n",
      "05:25:58 - OI2: INFO - []\n"
     ]
    },
    {
     "name": "stdout",
     "output_type": "stream",
     "text": [
      "progress = 27.900000000000002%\n"
     ]
    },
    {
     "name": "stderr",
     "output_type": "stream",
     "text": [
      "05:26:01 - OI2: INFO - Duplicated gene symbols in the prize file (we'll keep the max prize):\n",
      "05:26:01 - OI2: INFO - []\n",
      "05:26:01 - OI2: INFO - Members of the prize file not present in the interactome:\n",
      "05:26:01 - OI2: INFO - []\n"
     ]
    },
    {
     "name": "stdout",
     "output_type": "stream",
     "text": [
      "progress = 28.000000000000004%\n"
     ]
    },
    {
     "name": "stderr",
     "output_type": "stream",
     "text": [
      "05:26:05 - OI2: INFO - Duplicated gene symbols in the prize file (we'll keep the max prize):\n",
      "05:26:05 - OI2: INFO - []\n",
      "05:26:05 - OI2: INFO - Members of the prize file not present in the interactome:\n",
      "05:26:05 - OI2: INFO - []\n"
     ]
    },
    {
     "name": "stdout",
     "output_type": "stream",
     "text": [
      "progress = 28.1%\n"
     ]
    },
    {
     "name": "stderr",
     "output_type": "stream",
     "text": [
      "05:26:09 - OI2: INFO - Duplicated gene symbols in the prize file (we'll keep the max prize):\n",
      "05:26:09 - OI2: INFO - []\n",
      "05:26:09 - OI2: INFO - Members of the prize file not present in the interactome:\n",
      "05:26:09 - OI2: INFO - []\n"
     ]
    },
    {
     "name": "stdout",
     "output_type": "stream",
     "text": [
      "progress = 28.199999999999996%\n"
     ]
    },
    {
     "name": "stderr",
     "output_type": "stream",
     "text": [
      "05:26:13 - OI2: INFO - Duplicated gene symbols in the prize file (we'll keep the max prize):\n",
      "05:26:13 - OI2: INFO - []\n",
      "05:26:13 - OI2: INFO - Members of the prize file not present in the interactome:\n",
      "05:26:13 - OI2: INFO - []\n"
     ]
    },
    {
     "name": "stdout",
     "output_type": "stream",
     "text": [
      "progress = 28.299999999999997%\n"
     ]
    },
    {
     "name": "stderr",
     "output_type": "stream",
     "text": [
      "05:26:17 - OI2: INFO - Duplicated gene symbols in the prize file (we'll keep the max prize):\n",
      "05:26:17 - OI2: INFO - []\n",
      "05:26:17 - OI2: INFO - Members of the prize file not present in the interactome:\n",
      "05:26:17 - OI2: INFO - []\n"
     ]
    },
    {
     "name": "stdout",
     "output_type": "stream",
     "text": [
      "progress = 28.4%\n"
     ]
    },
    {
     "name": "stderr",
     "output_type": "stream",
     "text": [
      "05:26:20 - OI2: INFO - Duplicated gene symbols in the prize file (we'll keep the max prize):\n",
      "05:26:20 - OI2: INFO - []\n",
      "05:26:20 - OI2: INFO - Members of the prize file not present in the interactome:\n",
      "05:26:20 - OI2: INFO - []\n"
     ]
    },
    {
     "name": "stdout",
     "output_type": "stream",
     "text": [
      "progress = 28.499999999999996%\n"
     ]
    },
    {
     "name": "stderr",
     "output_type": "stream",
     "text": [
      "05:26:24 - OI2: INFO - Duplicated gene symbols in the prize file (we'll keep the max prize):\n",
      "05:26:24 - OI2: INFO - []\n",
      "05:26:24 - OI2: INFO - Members of the prize file not present in the interactome:\n",
      "05:26:24 - OI2: INFO - []\n"
     ]
    },
    {
     "name": "stdout",
     "output_type": "stream",
     "text": [
      "progress = 28.599999999999998%\n"
     ]
    },
    {
     "name": "stderr",
     "output_type": "stream",
     "text": [
      "05:26:28 - OI2: INFO - Duplicated gene symbols in the prize file (we'll keep the max prize):\n",
      "05:26:28 - OI2: INFO - []\n",
      "05:26:28 - OI2: INFO - Members of the prize file not present in the interactome:\n",
      "05:26:28 - OI2: INFO - []\n"
     ]
    },
    {
     "name": "stdout",
     "output_type": "stream",
     "text": [
      "progress = 28.7%\n"
     ]
    },
    {
     "name": "stderr",
     "output_type": "stream",
     "text": [
      "05:26:32 - OI2: INFO - Duplicated gene symbols in the prize file (we'll keep the max prize):\n",
      "05:26:32 - OI2: INFO - []\n",
      "05:26:32 - OI2: INFO - Members of the prize file not present in the interactome:\n",
      "05:26:32 - OI2: INFO - []\n"
     ]
    },
    {
     "name": "stdout",
     "output_type": "stream",
     "text": [
      "progress = 28.799999999999997%\n"
     ]
    },
    {
     "name": "stderr",
     "output_type": "stream",
     "text": [
      "05:26:36 - OI2: INFO - Duplicated gene symbols in the prize file (we'll keep the max prize):\n",
      "05:26:36 - OI2: INFO - []\n",
      "05:26:36 - OI2: INFO - Members of the prize file not present in the interactome:\n",
      "05:26:36 - OI2: INFO - []\n"
     ]
    },
    {
     "name": "stdout",
     "output_type": "stream",
     "text": [
      "progress = 28.9%\n"
     ]
    },
    {
     "name": "stderr",
     "output_type": "stream",
     "text": [
      "05:26:39 - OI2: INFO - Duplicated gene symbols in the prize file (we'll keep the max prize):\n",
      "05:26:39 - OI2: INFO - []\n",
      "05:26:39 - OI2: INFO - Members of the prize file not present in the interactome:\n",
      "05:26:40 - OI2: INFO - []\n"
     ]
    },
    {
     "name": "stdout",
     "output_type": "stream",
     "text": [
      "progress = 28.999999999999996%\n"
     ]
    },
    {
     "name": "stderr",
     "output_type": "stream",
     "text": [
      "05:26:43 - OI2: INFO - Duplicated gene symbols in the prize file (we'll keep the max prize):\n",
      "05:26:43 - OI2: INFO - []\n",
      "05:26:43 - OI2: INFO - Members of the prize file not present in the interactome:\n",
      "05:26:43 - OI2: INFO - []\n"
     ]
    },
    {
     "name": "stdout",
     "output_type": "stream",
     "text": [
      "progress = 29.099999999999998%\n"
     ]
    },
    {
     "name": "stderr",
     "output_type": "stream",
     "text": [
      "05:26:47 - OI2: INFO - Duplicated gene symbols in the prize file (we'll keep the max prize):\n",
      "05:26:47 - OI2: INFO - []\n",
      "05:26:47 - OI2: INFO - Members of the prize file not present in the interactome:\n",
      "05:26:47 - OI2: INFO - []\n"
     ]
    },
    {
     "name": "stdout",
     "output_type": "stream",
     "text": [
      "progress = 29.2%\n"
     ]
    },
    {
     "name": "stderr",
     "output_type": "stream",
     "text": [
      "05:26:51 - OI2: INFO - Duplicated gene symbols in the prize file (we'll keep the max prize):\n",
      "05:26:51 - OI2: INFO - []\n",
      "05:26:51 - OI2: INFO - Members of the prize file not present in the interactome:\n",
      "05:26:51 - OI2: INFO - []\n"
     ]
    },
    {
     "name": "stdout",
     "output_type": "stream",
     "text": [
      "progress = 29.299999999999997%\n"
     ]
    },
    {
     "name": "stderr",
     "output_type": "stream",
     "text": [
      "05:26:55 - OI2: INFO - Duplicated gene symbols in the prize file (we'll keep the max prize):\n",
      "05:26:55 - OI2: INFO - []\n",
      "05:26:55 - OI2: INFO - Members of the prize file not present in the interactome:\n",
      "05:26:55 - OI2: INFO - []\n"
     ]
    },
    {
     "name": "stdout",
     "output_type": "stream",
     "text": [
      "progress = 29.4%\n"
     ]
    },
    {
     "name": "stderr",
     "output_type": "stream",
     "text": [
      "05:26:58 - OI2: INFO - Duplicated gene symbols in the prize file (we'll keep the max prize):\n",
      "05:26:58 - OI2: INFO - []\n",
      "05:26:58 - OI2: INFO - Members of the prize file not present in the interactome:\n",
      "05:26:58 - OI2: INFO - []\n"
     ]
    },
    {
     "name": "stdout",
     "output_type": "stream",
     "text": [
      "progress = 29.5%\n"
     ]
    },
    {
     "name": "stderr",
     "output_type": "stream",
     "text": [
      "05:27:02 - OI2: INFO - Duplicated gene symbols in the prize file (we'll keep the max prize):\n",
      "05:27:02 - OI2: INFO - []\n",
      "05:27:02 - OI2: INFO - Members of the prize file not present in the interactome:\n",
      "05:27:02 - OI2: INFO - []\n"
     ]
    },
    {
     "name": "stdout",
     "output_type": "stream",
     "text": [
      "progress = 29.599999999999998%\n"
     ]
    },
    {
     "name": "stderr",
     "output_type": "stream",
     "text": [
      "05:27:06 - OI2: INFO - Duplicated gene symbols in the prize file (we'll keep the max prize):\n",
      "05:27:06 - OI2: INFO - []\n",
      "05:27:06 - OI2: INFO - Members of the prize file not present in the interactome:\n",
      "05:27:06 - OI2: INFO - []\n"
     ]
    },
    {
     "name": "stdout",
     "output_type": "stream",
     "text": [
      "progress = 29.7%\n"
     ]
    },
    {
     "name": "stderr",
     "output_type": "stream",
     "text": [
      "05:27:10 - OI2: INFO - Duplicated gene symbols in the prize file (we'll keep the max prize):\n",
      "05:27:10 - OI2: INFO - []\n",
      "05:27:10 - OI2: INFO - Members of the prize file not present in the interactome:\n",
      "05:27:10 - OI2: INFO - []\n"
     ]
    },
    {
     "name": "stdout",
     "output_type": "stream",
     "text": [
      "progress = 29.799999999999997%\n"
     ]
    },
    {
     "name": "stderr",
     "output_type": "stream",
     "text": [
      "05:27:14 - OI2: INFO - Duplicated gene symbols in the prize file (we'll keep the max prize):\n",
      "05:27:14 - OI2: INFO - []\n",
      "05:27:14 - OI2: INFO - Members of the prize file not present in the interactome:\n",
      "05:27:14 - OI2: INFO - []\n"
     ]
    },
    {
     "name": "stdout",
     "output_type": "stream",
     "text": [
      "progress = 29.9%\n"
     ]
    },
    {
     "name": "stderr",
     "output_type": "stream",
     "text": [
      "05:27:18 - OI2: INFO - Duplicated gene symbols in the prize file (we'll keep the max prize):\n",
      "05:27:18 - OI2: INFO - []\n",
      "05:27:18 - OI2: INFO - Members of the prize file not present in the interactome:\n",
      "05:27:18 - OI2: INFO - []\n"
     ]
    },
    {
     "name": "stdout",
     "output_type": "stream",
     "text": [
      "progress = 30.0%\n"
     ]
    },
    {
     "name": "stderr",
     "output_type": "stream",
     "text": [
      "05:27:21 - OI2: INFO - Duplicated gene symbols in the prize file (we'll keep the max prize):\n",
      "05:27:21 - OI2: INFO - []\n",
      "05:27:21 - OI2: INFO - Members of the prize file not present in the interactome:\n",
      "05:27:21 - OI2: INFO - []\n"
     ]
    },
    {
     "name": "stdout",
     "output_type": "stream",
     "text": [
      "progress = 30.099999999999998%\n"
     ]
    },
    {
     "name": "stderr",
     "output_type": "stream",
     "text": [
      "05:27:25 - OI2: INFO - Duplicated gene symbols in the prize file (we'll keep the max prize):\n",
      "05:27:25 - OI2: INFO - []\n",
      "05:27:25 - OI2: INFO - Members of the prize file not present in the interactome:\n",
      "05:27:25 - OI2: INFO - []\n"
     ]
    },
    {
     "name": "stdout",
     "output_type": "stream",
     "text": [
      "progress = 30.2%\n"
     ]
    },
    {
     "name": "stderr",
     "output_type": "stream",
     "text": [
      "05:27:29 - OI2: INFO - Duplicated gene symbols in the prize file (we'll keep the max prize):\n",
      "05:27:29 - OI2: INFO - []\n",
      "05:27:29 - OI2: INFO - Members of the prize file not present in the interactome:\n",
      "05:27:29 - OI2: INFO - []\n"
     ]
    },
    {
     "name": "stdout",
     "output_type": "stream",
     "text": [
      "progress = 30.3%\n"
     ]
    },
    {
     "name": "stderr",
     "output_type": "stream",
     "text": [
      "05:27:33 - OI2: INFO - Duplicated gene symbols in the prize file (we'll keep the max prize):\n",
      "05:27:33 - OI2: INFO - []\n",
      "05:27:33 - OI2: INFO - Members of the prize file not present in the interactome:\n",
      "05:27:33 - OI2: INFO - []\n"
     ]
    },
    {
     "name": "stdout",
     "output_type": "stream",
     "text": [
      "progress = 30.4%\n"
     ]
    },
    {
     "name": "stderr",
     "output_type": "stream",
     "text": [
      "05:27:37 - OI2: INFO - Duplicated gene symbols in the prize file (we'll keep the max prize):\n",
      "05:27:37 - OI2: INFO - []\n",
      "05:27:37 - OI2: INFO - Members of the prize file not present in the interactome:\n",
      "05:27:37 - OI2: INFO - []\n"
     ]
    },
    {
     "name": "stdout",
     "output_type": "stream",
     "text": [
      "progress = 30.5%\n"
     ]
    },
    {
     "name": "stderr",
     "output_type": "stream",
     "text": [
      "05:27:40 - OI2: INFO - Duplicated gene symbols in the prize file (we'll keep the max prize):\n",
      "05:27:40 - OI2: INFO - []\n",
      "05:27:40 - OI2: INFO - Members of the prize file not present in the interactome:\n",
      "05:27:40 - OI2: INFO - []\n"
     ]
    },
    {
     "name": "stdout",
     "output_type": "stream",
     "text": [
      "progress = 30.599999999999998%\n"
     ]
    },
    {
     "name": "stderr",
     "output_type": "stream",
     "text": [
      "05:27:44 - OI2: INFO - Duplicated gene symbols in the prize file (we'll keep the max prize):\n",
      "05:27:44 - OI2: INFO - []\n",
      "05:27:44 - OI2: INFO - Members of the prize file not present in the interactome:\n",
      "05:27:44 - OI2: INFO - []\n"
     ]
    },
    {
     "name": "stdout",
     "output_type": "stream",
     "text": [
      "progress = 30.7%\n"
     ]
    },
    {
     "name": "stderr",
     "output_type": "stream",
     "text": [
      "05:27:48 - OI2: INFO - Duplicated gene symbols in the prize file (we'll keep the max prize):\n",
      "05:27:48 - OI2: INFO - []\n",
      "05:27:48 - OI2: INFO - Members of the prize file not present in the interactome:\n",
      "05:27:48 - OI2: INFO - []\n"
     ]
    },
    {
     "name": "stdout",
     "output_type": "stream",
     "text": [
      "progress = 30.8%\n"
     ]
    },
    {
     "name": "stderr",
     "output_type": "stream",
     "text": [
      "05:27:52 - OI2: INFO - Duplicated gene symbols in the prize file (we'll keep the max prize):\n",
      "05:27:52 - OI2: INFO - []\n",
      "05:27:52 - OI2: INFO - Members of the prize file not present in the interactome:\n",
      "05:27:52 - OI2: INFO - []\n"
     ]
    },
    {
     "name": "stdout",
     "output_type": "stream",
     "text": [
      "progress = 30.9%\n"
     ]
    },
    {
     "name": "stderr",
     "output_type": "stream",
     "text": [
      "05:27:55 - OI2: INFO - Duplicated gene symbols in the prize file (we'll keep the max prize):\n",
      "05:27:55 - OI2: INFO - []\n",
      "05:27:55 - OI2: INFO - Members of the prize file not present in the interactome:\n",
      "05:27:55 - OI2: INFO - []\n"
     ]
    },
    {
     "name": "stdout",
     "output_type": "stream",
     "text": [
      "progress = 31.0%\n"
     ]
    },
    {
     "name": "stderr",
     "output_type": "stream",
     "text": [
      "05:27:59 - OI2: INFO - Duplicated gene symbols in the prize file (we'll keep the max prize):\n",
      "05:27:59 - OI2: INFO - []\n",
      "05:27:59 - OI2: INFO - Members of the prize file not present in the interactome:\n",
      "05:27:59 - OI2: INFO - []\n"
     ]
    },
    {
     "name": "stdout",
     "output_type": "stream",
     "text": [
      "progress = 31.1%\n"
     ]
    },
    {
     "name": "stderr",
     "output_type": "stream",
     "text": [
      "05:28:03 - OI2: INFO - Duplicated gene symbols in the prize file (we'll keep the max prize):\n",
      "05:28:03 - OI2: INFO - []\n",
      "05:28:03 - OI2: INFO - Members of the prize file not present in the interactome:\n",
      "05:28:03 - OI2: INFO - []\n"
     ]
    },
    {
     "name": "stdout",
     "output_type": "stream",
     "text": [
      "progress = 31.2%\n"
     ]
    },
    {
     "name": "stderr",
     "output_type": "stream",
     "text": [
      "05:28:07 - OI2: INFO - Duplicated gene symbols in the prize file (we'll keep the max prize):\n",
      "05:28:07 - OI2: INFO - []\n",
      "05:28:07 - OI2: INFO - Members of the prize file not present in the interactome:\n",
      "05:28:07 - OI2: INFO - []\n"
     ]
    },
    {
     "name": "stdout",
     "output_type": "stream",
     "text": [
      "progress = 31.3%\n"
     ]
    },
    {
     "name": "stderr",
     "output_type": "stream",
     "text": [
      "05:28:11 - OI2: INFO - Duplicated gene symbols in the prize file (we'll keep the max prize):\n",
      "05:28:11 - OI2: INFO - []\n",
      "05:28:11 - OI2: INFO - Members of the prize file not present in the interactome:\n",
      "05:28:11 - OI2: INFO - []\n"
     ]
    },
    {
     "name": "stdout",
     "output_type": "stream",
     "text": [
      "progress = 31.4%\n"
     ]
    },
    {
     "name": "stderr",
     "output_type": "stream",
     "text": [
      "05:28:14 - OI2: INFO - Duplicated gene symbols in the prize file (we'll keep the max prize):\n",
      "05:28:14 - OI2: INFO - []\n",
      "05:28:14 - OI2: INFO - Members of the prize file not present in the interactome:\n",
      "05:28:14 - OI2: INFO - []\n"
     ]
    },
    {
     "name": "stdout",
     "output_type": "stream",
     "text": [
      "progress = 31.5%\n"
     ]
    },
    {
     "name": "stderr",
     "output_type": "stream",
     "text": [
      "05:28:18 - OI2: INFO - Duplicated gene symbols in the prize file (we'll keep the max prize):\n",
      "05:28:18 - OI2: INFO - []\n",
      "05:28:18 - OI2: INFO - Members of the prize file not present in the interactome:\n",
      "05:28:18 - OI2: INFO - []\n"
     ]
    },
    {
     "name": "stdout",
     "output_type": "stream",
     "text": [
      "progress = 31.6%\n"
     ]
    },
    {
     "name": "stderr",
     "output_type": "stream",
     "text": [
      "05:28:22 - OI2: INFO - Duplicated gene symbols in the prize file (we'll keep the max prize):\n",
      "05:28:22 - OI2: INFO - []\n",
      "05:28:22 - OI2: INFO - Members of the prize file not present in the interactome:\n",
      "05:28:22 - OI2: INFO - []\n"
     ]
    },
    {
     "name": "stdout",
     "output_type": "stream",
     "text": [
      "progress = 31.7%\n"
     ]
    },
    {
     "name": "stderr",
     "output_type": "stream",
     "text": [
      "05:28:26 - OI2: INFO - Duplicated gene symbols in the prize file (we'll keep the max prize):\n",
      "05:28:26 - OI2: INFO - []\n",
      "05:28:26 - OI2: INFO - Members of the prize file not present in the interactome:\n",
      "05:28:26 - OI2: INFO - []\n"
     ]
    },
    {
     "name": "stdout",
     "output_type": "stream",
     "text": [
      "progress = 31.8%\n"
     ]
    },
    {
     "name": "stderr",
     "output_type": "stream",
     "text": [
      "05:28:30 - OI2: INFO - Duplicated gene symbols in the prize file (we'll keep the max prize):\n",
      "05:28:30 - OI2: INFO - []\n",
      "05:28:30 - OI2: INFO - Members of the prize file not present in the interactome:\n",
      "05:28:30 - OI2: INFO - []\n"
     ]
    },
    {
     "name": "stdout",
     "output_type": "stream",
     "text": [
      "progress = 31.900000000000002%\n"
     ]
    },
    {
     "name": "stderr",
     "output_type": "stream",
     "text": [
      "05:28:33 - OI2: INFO - Duplicated gene symbols in the prize file (we'll keep the max prize):\n",
      "05:28:33 - OI2: INFO - []\n",
      "05:28:33 - OI2: INFO - Members of the prize file not present in the interactome:\n",
      "05:28:33 - OI2: INFO - []\n"
     ]
    },
    {
     "name": "stdout",
     "output_type": "stream",
     "text": [
      "progress = 32.0%\n"
     ]
    },
    {
     "name": "stderr",
     "output_type": "stream",
     "text": [
      "05:28:37 - OI2: INFO - Duplicated gene symbols in the prize file (we'll keep the max prize):\n",
      "05:28:37 - OI2: INFO - []\n",
      "05:28:37 - OI2: INFO - Members of the prize file not present in the interactome:\n",
      "05:28:37 - OI2: INFO - []\n"
     ]
    },
    {
     "name": "stdout",
     "output_type": "stream",
     "text": [
      "progress = 32.1%\n"
     ]
    },
    {
     "name": "stderr",
     "output_type": "stream",
     "text": [
      "05:28:41 - OI2: INFO - Duplicated gene symbols in the prize file (we'll keep the max prize):\n",
      "05:28:41 - OI2: INFO - []\n",
      "05:28:41 - OI2: INFO - Members of the prize file not present in the interactome:\n",
      "05:28:41 - OI2: INFO - []\n"
     ]
    },
    {
     "name": "stdout",
     "output_type": "stream",
     "text": [
      "progress = 32.2%\n"
     ]
    },
    {
     "name": "stderr",
     "output_type": "stream",
     "text": [
      "05:28:44 - OI2: INFO - Duplicated gene symbols in the prize file (we'll keep the max prize):\n",
      "05:28:44 - OI2: INFO - []\n",
      "05:28:44 - OI2: INFO - Members of the prize file not present in the interactome:\n",
      "05:28:44 - OI2: INFO - []\n"
     ]
    },
    {
     "name": "stdout",
     "output_type": "stream",
     "text": [
      "progress = 32.300000000000004%\n"
     ]
    },
    {
     "name": "stderr",
     "output_type": "stream",
     "text": [
      "05:28:48 - OI2: INFO - Duplicated gene symbols in the prize file (we'll keep the max prize):\n",
      "05:28:48 - OI2: INFO - []\n",
      "05:28:48 - OI2: INFO - Members of the prize file not present in the interactome:\n",
      "05:28:48 - OI2: INFO - []\n"
     ]
    },
    {
     "name": "stdout",
     "output_type": "stream",
     "text": [
      "progress = 32.4%\n"
     ]
    },
    {
     "name": "stderr",
     "output_type": "stream",
     "text": [
      "05:28:52 - OI2: INFO - Duplicated gene symbols in the prize file (we'll keep the max prize):\n",
      "05:28:52 - OI2: INFO - []\n",
      "05:28:52 - OI2: INFO - Members of the prize file not present in the interactome:\n",
      "05:28:52 - OI2: INFO - []\n"
     ]
    },
    {
     "name": "stdout",
     "output_type": "stream",
     "text": [
      "progress = 32.5%\n"
     ]
    },
    {
     "name": "stderr",
     "output_type": "stream",
     "text": [
      "05:28:56 - OI2: INFO - Duplicated gene symbols in the prize file (we'll keep the max prize):\n",
      "05:28:56 - OI2: INFO - []\n",
      "05:28:56 - OI2: INFO - Members of the prize file not present in the interactome:\n",
      "05:28:56 - OI2: INFO - []\n"
     ]
    },
    {
     "name": "stdout",
     "output_type": "stream",
     "text": [
      "progress = 32.6%\n"
     ]
    },
    {
     "name": "stderr",
     "output_type": "stream",
     "text": [
      "05:28:59 - OI2: INFO - Duplicated gene symbols in the prize file (we'll keep the max prize):\n",
      "05:28:59 - OI2: INFO - []\n",
      "05:28:59 - OI2: INFO - Members of the prize file not present in the interactome:\n",
      "05:28:59 - OI2: INFO - []\n"
     ]
    },
    {
     "name": "stdout",
     "output_type": "stream",
     "text": [
      "progress = 32.7%\n"
     ]
    },
    {
     "name": "stderr",
     "output_type": "stream",
     "text": [
      "05:29:03 - OI2: INFO - Duplicated gene symbols in the prize file (we'll keep the max prize):\n",
      "05:29:03 - OI2: INFO - []\n",
      "05:29:03 - OI2: INFO - Members of the prize file not present in the interactome:\n",
      "05:29:03 - OI2: INFO - []\n"
     ]
    },
    {
     "name": "stdout",
     "output_type": "stream",
     "text": [
      "progress = 32.800000000000004%\n"
     ]
    },
    {
     "name": "stderr",
     "output_type": "stream",
     "text": [
      "05:29:07 - OI2: INFO - Duplicated gene symbols in the prize file (we'll keep the max prize):\n",
      "05:29:07 - OI2: INFO - []\n",
      "05:29:07 - OI2: INFO - Members of the prize file not present in the interactome:\n",
      "05:29:07 - OI2: INFO - []\n"
     ]
    },
    {
     "name": "stdout",
     "output_type": "stream",
     "text": [
      "progress = 32.9%\n"
     ]
    },
    {
     "name": "stderr",
     "output_type": "stream",
     "text": [
      "05:29:11 - OI2: INFO - Duplicated gene symbols in the prize file (we'll keep the max prize):\n",
      "05:29:11 - OI2: INFO - []\n",
      "05:29:11 - OI2: INFO - Members of the prize file not present in the interactome:\n",
      "05:29:11 - OI2: INFO - []\n"
     ]
    },
    {
     "name": "stdout",
     "output_type": "stream",
     "text": [
      "progress = 33.0%\n"
     ]
    },
    {
     "name": "stderr",
     "output_type": "stream",
     "text": [
      "05:29:14 - OI2: INFO - Duplicated gene symbols in the prize file (we'll keep the max prize):\n",
      "05:29:14 - OI2: INFO - []\n",
      "05:29:14 - OI2: INFO - Members of the prize file not present in the interactome:\n",
      "05:29:14 - OI2: INFO - []\n"
     ]
    },
    {
     "name": "stdout",
     "output_type": "stream",
     "text": [
      "progress = 33.1%\n"
     ]
    },
    {
     "name": "stderr",
     "output_type": "stream",
     "text": [
      "05:29:18 - OI2: INFO - Duplicated gene symbols in the prize file (we'll keep the max prize):\n",
      "05:29:18 - OI2: INFO - []\n",
      "05:29:18 - OI2: INFO - Members of the prize file not present in the interactome:\n",
      "05:29:18 - OI2: INFO - []\n"
     ]
    },
    {
     "name": "stdout",
     "output_type": "stream",
     "text": [
      "progress = 33.2%\n"
     ]
    },
    {
     "name": "stderr",
     "output_type": "stream",
     "text": [
      "05:29:22 - OI2: INFO - Duplicated gene symbols in the prize file (we'll keep the max prize):\n",
      "05:29:22 - OI2: INFO - []\n",
      "05:29:22 - OI2: INFO - Members of the prize file not present in the interactome:\n",
      "05:29:22 - OI2: INFO - []\n"
     ]
    },
    {
     "name": "stdout",
     "output_type": "stream",
     "text": [
      "progress = 33.300000000000004%\n"
     ]
    },
    {
     "name": "stderr",
     "output_type": "stream",
     "text": [
      "05:29:26 - OI2: INFO - Duplicated gene symbols in the prize file (we'll keep the max prize):\n",
      "05:29:26 - OI2: INFO - []\n",
      "05:29:26 - OI2: INFO - Members of the prize file not present in the interactome:\n",
      "05:29:26 - OI2: INFO - []\n"
     ]
    },
    {
     "name": "stdout",
     "output_type": "stream",
     "text": [
      "progress = 33.4%\n"
     ]
    },
    {
     "name": "stderr",
     "output_type": "stream",
     "text": [
      "05:29:29 - OI2: INFO - Duplicated gene symbols in the prize file (we'll keep the max prize):\n",
      "05:29:29 - OI2: INFO - []\n",
      "05:29:29 - OI2: INFO - Members of the prize file not present in the interactome:\n",
      "05:29:29 - OI2: INFO - []\n"
     ]
    },
    {
     "name": "stdout",
     "output_type": "stream",
     "text": [
      "progress = 33.5%\n"
     ]
    },
    {
     "name": "stderr",
     "output_type": "stream",
     "text": [
      "05:29:33 - OI2: INFO - Duplicated gene symbols in the prize file (we'll keep the max prize):\n",
      "05:29:33 - OI2: INFO - []\n",
      "05:29:33 - OI2: INFO - Members of the prize file not present in the interactome:\n",
      "05:29:33 - OI2: INFO - []\n"
     ]
    },
    {
     "name": "stdout",
     "output_type": "stream",
     "text": [
      "progress = 33.6%\n"
     ]
    },
    {
     "name": "stderr",
     "output_type": "stream",
     "text": [
      "05:29:37 - OI2: INFO - Duplicated gene symbols in the prize file (we'll keep the max prize):\n",
      "05:29:37 - OI2: INFO - []\n",
      "05:29:37 - OI2: INFO - Members of the prize file not present in the interactome:\n",
      "05:29:37 - OI2: INFO - []\n"
     ]
    },
    {
     "name": "stdout",
     "output_type": "stream",
     "text": [
      "progress = 33.7%\n"
     ]
    },
    {
     "name": "stderr",
     "output_type": "stream",
     "text": [
      "05:29:41 - OI2: INFO - Duplicated gene symbols in the prize file (we'll keep the max prize):\n",
      "05:29:41 - OI2: INFO - []\n",
      "05:29:41 - OI2: INFO - Members of the prize file not present in the interactome:\n",
      "05:29:41 - OI2: INFO - []\n"
     ]
    },
    {
     "name": "stdout",
     "output_type": "stream",
     "text": [
      "progress = 33.800000000000004%\n"
     ]
    },
    {
     "name": "stderr",
     "output_type": "stream",
     "text": [
      "05:29:45 - OI2: INFO - Duplicated gene symbols in the prize file (we'll keep the max prize):\n",
      "05:29:45 - OI2: INFO - []\n",
      "05:29:45 - OI2: INFO - Members of the prize file not present in the interactome:\n",
      "05:29:45 - OI2: INFO - []\n"
     ]
    },
    {
     "name": "stdout",
     "output_type": "stream",
     "text": [
      "progress = 33.900000000000006%\n"
     ]
    },
    {
     "name": "stderr",
     "output_type": "stream",
     "text": [
      "05:29:48 - OI2: INFO - Duplicated gene symbols in the prize file (we'll keep the max prize):\n",
      "05:29:48 - OI2: INFO - []\n",
      "05:29:48 - OI2: INFO - Members of the prize file not present in the interactome:\n",
      "05:29:48 - OI2: INFO - []\n"
     ]
    },
    {
     "name": "stdout",
     "output_type": "stream",
     "text": [
      "progress = 34.0%\n"
     ]
    },
    {
     "name": "stderr",
     "output_type": "stream",
     "text": [
      "05:29:52 - OI2: INFO - Duplicated gene symbols in the prize file (we'll keep the max prize):\n",
      "05:29:52 - OI2: INFO - []\n",
      "05:29:52 - OI2: INFO - Members of the prize file not present in the interactome:\n",
      "05:29:52 - OI2: INFO - []\n"
     ]
    },
    {
     "name": "stdout",
     "output_type": "stream",
     "text": [
      "progress = 34.1%\n"
     ]
    },
    {
     "name": "stderr",
     "output_type": "stream",
     "text": [
      "05:29:56 - OI2: INFO - Duplicated gene symbols in the prize file (we'll keep the max prize):\n",
      "05:29:56 - OI2: INFO - []\n",
      "05:29:56 - OI2: INFO - Members of the prize file not present in the interactome:\n",
      "05:29:56 - OI2: INFO - []\n"
     ]
    },
    {
     "name": "stdout",
     "output_type": "stream",
     "text": [
      "progress = 34.2%\n"
     ]
    },
    {
     "name": "stderr",
     "output_type": "stream",
     "text": [
      "05:29:59 - OI2: INFO - Duplicated gene symbols in the prize file (we'll keep the max prize):\n",
      "05:29:59 - OI2: INFO - []\n",
      "05:29:59 - OI2: INFO - Members of the prize file not present in the interactome:\n",
      "05:29:59 - OI2: INFO - []\n"
     ]
    },
    {
     "name": "stdout",
     "output_type": "stream",
     "text": [
      "progress = 34.300000000000004%\n"
     ]
    },
    {
     "name": "stderr",
     "output_type": "stream",
     "text": [
      "05:30:03 - OI2: INFO - Duplicated gene symbols in the prize file (we'll keep the max prize):\n",
      "05:30:03 - OI2: INFO - []\n",
      "05:30:03 - OI2: INFO - Members of the prize file not present in the interactome:\n",
      "05:30:03 - OI2: INFO - []\n"
     ]
    },
    {
     "name": "stdout",
     "output_type": "stream",
     "text": [
      "progress = 34.4%\n"
     ]
    },
    {
     "name": "stderr",
     "output_type": "stream",
     "text": [
      "05:30:07 - OI2: INFO - Duplicated gene symbols in the prize file (we'll keep the max prize):\n",
      "05:30:07 - OI2: INFO - []\n",
      "05:30:07 - OI2: INFO - Members of the prize file not present in the interactome:\n",
      "05:30:07 - OI2: INFO - []\n"
     ]
    },
    {
     "name": "stdout",
     "output_type": "stream",
     "text": [
      "progress = 34.5%\n"
     ]
    },
    {
     "name": "stderr",
     "output_type": "stream",
     "text": [
      "05:30:11 - OI2: INFO - Duplicated gene symbols in the prize file (we'll keep the max prize):\n",
      "05:30:11 - OI2: INFO - []\n",
      "05:30:11 - OI2: INFO - Members of the prize file not present in the interactome:\n",
      "05:30:11 - OI2: INFO - []\n"
     ]
    },
    {
     "name": "stdout",
     "output_type": "stream",
     "text": [
      "progress = 34.599999999999994%\n"
     ]
    },
    {
     "name": "stderr",
     "output_type": "stream",
     "text": [
      "05:30:15 - OI2: INFO - Duplicated gene symbols in the prize file (we'll keep the max prize):\n",
      "05:30:15 - OI2: INFO - []\n",
      "05:30:15 - OI2: INFO - Members of the prize file not present in the interactome:\n",
      "05:30:15 - OI2: INFO - []\n"
     ]
    },
    {
     "name": "stdout",
     "output_type": "stream",
     "text": [
      "progress = 34.699999999999996%\n"
     ]
    },
    {
     "name": "stderr",
     "output_type": "stream",
     "text": [
      "05:30:18 - OI2: INFO - Duplicated gene symbols in the prize file (we'll keep the max prize):\n",
      "05:30:18 - OI2: INFO - []\n",
      "05:30:18 - OI2: INFO - Members of the prize file not present in the interactome:\n",
      "05:30:18 - OI2: INFO - []\n"
     ]
    },
    {
     "name": "stdout",
     "output_type": "stream",
     "text": [
      "progress = 34.8%\n"
     ]
    },
    {
     "name": "stderr",
     "output_type": "stream",
     "text": [
      "05:30:22 - OI2: INFO - Duplicated gene symbols in the prize file (we'll keep the max prize):\n",
      "05:30:22 - OI2: INFO - []\n",
      "05:30:22 - OI2: INFO - Members of the prize file not present in the interactome:\n",
      "05:30:22 - OI2: INFO - []\n"
     ]
    },
    {
     "name": "stdout",
     "output_type": "stream",
     "text": [
      "progress = 34.9%\n"
     ]
    },
    {
     "name": "stderr",
     "output_type": "stream",
     "text": [
      "05:30:25 - OI2: INFO - Duplicated gene symbols in the prize file (we'll keep the max prize):\n",
      "05:30:25 - OI2: INFO - []\n",
      "05:30:25 - OI2: INFO - Members of the prize file not present in the interactome:\n",
      "05:30:26 - OI2: INFO - []\n"
     ]
    },
    {
     "name": "stdout",
     "output_type": "stream",
     "text": [
      "progress = 35.0%\n"
     ]
    },
    {
     "name": "stderr",
     "output_type": "stream",
     "text": [
      "05:30:29 - OI2: INFO - Duplicated gene symbols in the prize file (we'll keep the max prize):\n",
      "05:30:29 - OI2: INFO - []\n",
      "05:30:29 - OI2: INFO - Members of the prize file not present in the interactome:\n",
      "05:30:29 - OI2: INFO - []\n"
     ]
    },
    {
     "name": "stdout",
     "output_type": "stream",
     "text": [
      "progress = 35.099999999999994%\n"
     ]
    },
    {
     "name": "stderr",
     "output_type": "stream",
     "text": [
      "05:30:33 - OI2: INFO - Duplicated gene symbols in the prize file (we'll keep the max prize):\n",
      "05:30:33 - OI2: INFO - []\n",
      "05:30:33 - OI2: INFO - Members of the prize file not present in the interactome:\n",
      "05:30:33 - OI2: INFO - []\n"
     ]
    },
    {
     "name": "stdout",
     "output_type": "stream",
     "text": [
      "progress = 35.199999999999996%\n"
     ]
    },
    {
     "name": "stderr",
     "output_type": "stream",
     "text": [
      "05:30:37 - OI2: INFO - Duplicated gene symbols in the prize file (we'll keep the max prize):\n",
      "05:30:37 - OI2: INFO - []\n",
      "05:30:37 - OI2: INFO - Members of the prize file not present in the interactome:\n",
      "05:30:37 - OI2: INFO - []\n"
     ]
    },
    {
     "name": "stdout",
     "output_type": "stream",
     "text": [
      "progress = 35.3%\n"
     ]
    },
    {
     "name": "stderr",
     "output_type": "stream",
     "text": [
      "05:30:40 - OI2: INFO - Duplicated gene symbols in the prize file (we'll keep the max prize):\n",
      "05:30:40 - OI2: INFO - []\n",
      "05:30:40 - OI2: INFO - Members of the prize file not present in the interactome:\n",
      "05:30:40 - OI2: INFO - []\n"
     ]
    },
    {
     "name": "stdout",
     "output_type": "stream",
     "text": [
      "progress = 35.4%\n"
     ]
    },
    {
     "name": "stderr",
     "output_type": "stream",
     "text": [
      "05:30:45 - OI2: INFO - Duplicated gene symbols in the prize file (we'll keep the max prize):\n",
      "05:30:45 - OI2: INFO - []\n",
      "05:30:45 - OI2: INFO - Members of the prize file not present in the interactome:\n",
      "05:30:45 - OI2: INFO - []\n"
     ]
    },
    {
     "name": "stdout",
     "output_type": "stream",
     "text": [
      "progress = 35.5%\n"
     ]
    },
    {
     "name": "stderr",
     "output_type": "stream",
     "text": [
      "05:30:48 - OI2: INFO - Duplicated gene symbols in the prize file (we'll keep the max prize):\n",
      "05:30:48 - OI2: INFO - []\n",
      "05:30:48 - OI2: INFO - Members of the prize file not present in the interactome:\n",
      "05:30:48 - OI2: INFO - []\n"
     ]
    },
    {
     "name": "stdout",
     "output_type": "stream",
     "text": [
      "progress = 35.6%\n"
     ]
    },
    {
     "name": "stderr",
     "output_type": "stream",
     "text": [
      "05:30:52 - OI2: INFO - Duplicated gene symbols in the prize file (we'll keep the max prize):\n",
      "05:30:52 - OI2: INFO - []\n",
      "05:30:52 - OI2: INFO - Members of the prize file not present in the interactome:\n",
      "05:30:52 - OI2: INFO - []\n"
     ]
    },
    {
     "name": "stdout",
     "output_type": "stream",
     "text": [
      "progress = 35.699999999999996%\n"
     ]
    },
    {
     "name": "stderr",
     "output_type": "stream",
     "text": [
      "05:30:56 - OI2: INFO - Duplicated gene symbols in the prize file (we'll keep the max prize):\n",
      "05:30:56 - OI2: INFO - []\n",
      "05:30:56 - OI2: INFO - Members of the prize file not present in the interactome:\n",
      "05:30:56 - OI2: INFO - []\n"
     ]
    },
    {
     "name": "stdout",
     "output_type": "stream",
     "text": [
      "progress = 35.8%\n"
     ]
    },
    {
     "name": "stderr",
     "output_type": "stream",
     "text": [
      "05:31:00 - OI2: INFO - Duplicated gene symbols in the prize file (we'll keep the max prize):\n",
      "05:31:00 - OI2: INFO - []\n",
      "05:31:00 - OI2: INFO - Members of the prize file not present in the interactome:\n",
      "05:31:00 - OI2: INFO - []\n"
     ]
    },
    {
     "name": "stdout",
     "output_type": "stream",
     "text": [
      "progress = 35.9%\n"
     ]
    },
    {
     "name": "stderr",
     "output_type": "stream",
     "text": [
      "05:31:03 - OI2: INFO - Duplicated gene symbols in the prize file (we'll keep the max prize):\n",
      "05:31:03 - OI2: INFO - []\n",
      "05:31:03 - OI2: INFO - Members of the prize file not present in the interactome:\n",
      "05:31:03 - OI2: INFO - []\n"
     ]
    },
    {
     "name": "stdout",
     "output_type": "stream",
     "text": [
      "progress = 36.0%\n"
     ]
    },
    {
     "name": "stderr",
     "output_type": "stream",
     "text": [
      "05:31:07 - OI2: INFO - Duplicated gene symbols in the prize file (we'll keep the max prize):\n",
      "05:31:07 - OI2: INFO - []\n",
      "05:31:07 - OI2: INFO - Members of the prize file not present in the interactome:\n",
      "05:31:07 - OI2: INFO - []\n"
     ]
    },
    {
     "name": "stdout",
     "output_type": "stream",
     "text": [
      "progress = 36.1%\n"
     ]
    },
    {
     "name": "stderr",
     "output_type": "stream",
     "text": [
      "05:31:11 - OI2: INFO - Duplicated gene symbols in the prize file (we'll keep the max prize):\n",
      "05:31:11 - OI2: INFO - []\n",
      "05:31:11 - OI2: INFO - Members of the prize file not present in the interactome:\n",
      "05:31:11 - OI2: INFO - []\n"
     ]
    },
    {
     "name": "stdout",
     "output_type": "stream",
     "text": [
      "progress = 36.199999999999996%\n"
     ]
    },
    {
     "name": "stderr",
     "output_type": "stream",
     "text": [
      "05:31:14 - OI2: INFO - Duplicated gene symbols in the prize file (we'll keep the max prize):\n",
      "05:31:14 - OI2: INFO - []\n",
      "05:31:14 - OI2: INFO - Members of the prize file not present in the interactome:\n",
      "05:31:14 - OI2: INFO - []\n"
     ]
    },
    {
     "name": "stdout",
     "output_type": "stream",
     "text": [
      "progress = 36.3%\n"
     ]
    },
    {
     "name": "stderr",
     "output_type": "stream",
     "text": [
      "05:31:18 - OI2: INFO - Duplicated gene symbols in the prize file (we'll keep the max prize):\n",
      "05:31:18 - OI2: INFO - []\n",
      "05:31:18 - OI2: INFO - Members of the prize file not present in the interactome:\n",
      "05:31:18 - OI2: INFO - []\n"
     ]
    },
    {
     "name": "stdout",
     "output_type": "stream",
     "text": [
      "progress = 36.4%\n"
     ]
    },
    {
     "name": "stderr",
     "output_type": "stream",
     "text": [
      "05:31:22 - OI2: INFO - Duplicated gene symbols in the prize file (we'll keep the max prize):\n",
      "05:31:22 - OI2: INFO - []\n",
      "05:31:22 - OI2: INFO - Members of the prize file not present in the interactome:\n",
      "05:31:22 - OI2: INFO - []\n"
     ]
    },
    {
     "name": "stdout",
     "output_type": "stream",
     "text": [
      "progress = 36.5%\n"
     ]
    },
    {
     "name": "stderr",
     "output_type": "stream",
     "text": [
      "05:31:26 - OI2: INFO - Duplicated gene symbols in the prize file (we'll keep the max prize):\n",
      "05:31:26 - OI2: INFO - []\n",
      "05:31:26 - OI2: INFO - Members of the prize file not present in the interactome:\n",
      "05:31:26 - OI2: INFO - []\n"
     ]
    },
    {
     "name": "stdout",
     "output_type": "stream",
     "text": [
      "progress = 36.6%\n"
     ]
    },
    {
     "name": "stderr",
     "output_type": "stream",
     "text": [
      "05:31:29 - OI2: INFO - Duplicated gene symbols in the prize file (we'll keep the max prize):\n",
      "05:31:29 - OI2: INFO - []\n",
      "05:31:29 - OI2: INFO - Members of the prize file not present in the interactome:\n",
      "05:31:29 - OI2: INFO - []\n"
     ]
    },
    {
     "name": "stdout",
     "output_type": "stream",
     "text": [
      "progress = 36.7%\n"
     ]
    },
    {
     "name": "stderr",
     "output_type": "stream",
     "text": [
      "05:31:33 - OI2: INFO - Duplicated gene symbols in the prize file (we'll keep the max prize):\n",
      "05:31:33 - OI2: INFO - []\n",
      "05:31:33 - OI2: INFO - Members of the prize file not present in the interactome:\n",
      "05:31:33 - OI2: INFO - []\n"
     ]
    },
    {
     "name": "stdout",
     "output_type": "stream",
     "text": [
      "progress = 36.8%\n"
     ]
    },
    {
     "name": "stderr",
     "output_type": "stream",
     "text": [
      "05:31:37 - OI2: INFO - Duplicated gene symbols in the prize file (we'll keep the max prize):\n",
      "05:31:37 - OI2: INFO - []\n",
      "05:31:37 - OI2: INFO - Members of the prize file not present in the interactome:\n",
      "05:31:37 - OI2: INFO - []\n"
     ]
    },
    {
     "name": "stdout",
     "output_type": "stream",
     "text": [
      "progress = 36.9%\n"
     ]
    },
    {
     "name": "stderr",
     "output_type": "stream",
     "text": [
      "05:31:41 - OI2: INFO - Duplicated gene symbols in the prize file (we'll keep the max prize):\n",
      "05:31:41 - OI2: INFO - []\n",
      "05:31:41 - OI2: INFO - Members of the prize file not present in the interactome:\n",
      "05:31:41 - OI2: INFO - []\n"
     ]
    },
    {
     "name": "stdout",
     "output_type": "stream",
     "text": [
      "progress = 37.0%\n"
     ]
    },
    {
     "name": "stderr",
     "output_type": "stream",
     "text": [
      "05:31:45 - OI2: INFO - Duplicated gene symbols in the prize file (we'll keep the max prize):\n",
      "05:31:45 - OI2: INFO - []\n",
      "05:31:45 - OI2: INFO - Members of the prize file not present in the interactome:\n",
      "05:31:45 - OI2: INFO - []\n"
     ]
    },
    {
     "name": "stdout",
     "output_type": "stream",
     "text": [
      "progress = 37.1%\n"
     ]
    },
    {
     "name": "stderr",
     "output_type": "stream",
     "text": [
      "05:31:48 - OI2: INFO - Duplicated gene symbols in the prize file (we'll keep the max prize):\n",
      "05:31:48 - OI2: INFO - []\n",
      "05:31:48 - OI2: INFO - Members of the prize file not present in the interactome:\n",
      "05:31:48 - OI2: INFO - []\n"
     ]
    },
    {
     "name": "stdout",
     "output_type": "stream",
     "text": [
      "progress = 37.2%\n"
     ]
    },
    {
     "name": "stderr",
     "output_type": "stream",
     "text": [
      "05:31:52 - OI2: INFO - Duplicated gene symbols in the prize file (we'll keep the max prize):\n",
      "05:31:52 - OI2: INFO - []\n",
      "05:31:52 - OI2: INFO - Members of the prize file not present in the interactome:\n",
      "05:31:52 - OI2: INFO - []\n"
     ]
    },
    {
     "name": "stdout",
     "output_type": "stream",
     "text": [
      "progress = 37.3%\n"
     ]
    },
    {
     "name": "stderr",
     "output_type": "stream",
     "text": [
      "05:31:56 - OI2: INFO - Duplicated gene symbols in the prize file (we'll keep the max prize):\n",
      "05:31:56 - OI2: INFO - []\n",
      "05:31:56 - OI2: INFO - Members of the prize file not present in the interactome:\n",
      "05:31:56 - OI2: INFO - []\n"
     ]
    },
    {
     "name": "stdout",
     "output_type": "stream",
     "text": [
      "progress = 37.4%\n"
     ]
    },
    {
     "name": "stderr",
     "output_type": "stream",
     "text": [
      "05:32:00 - OI2: INFO - Duplicated gene symbols in the prize file (we'll keep the max prize):\n",
      "05:32:00 - OI2: INFO - []\n",
      "05:32:00 - OI2: INFO - Members of the prize file not present in the interactome:\n",
      "05:32:00 - OI2: INFO - []\n"
     ]
    },
    {
     "name": "stdout",
     "output_type": "stream",
     "text": [
      "progress = 37.5%\n"
     ]
    },
    {
     "name": "stderr",
     "output_type": "stream",
     "text": [
      "05:32:04 - OI2: INFO - Duplicated gene symbols in the prize file (we'll keep the max prize):\n",
      "05:32:04 - OI2: INFO - []\n",
      "05:32:04 - OI2: INFO - Members of the prize file not present in the interactome:\n",
      "05:32:04 - OI2: INFO - []\n"
     ]
    },
    {
     "name": "stdout",
     "output_type": "stream",
     "text": [
      "progress = 37.6%\n"
     ]
    },
    {
     "name": "stderr",
     "output_type": "stream",
     "text": [
      "05:32:07 - OI2: INFO - Duplicated gene symbols in the prize file (we'll keep the max prize):\n",
      "05:32:07 - OI2: INFO - []\n",
      "05:32:07 - OI2: INFO - Members of the prize file not present in the interactome:\n",
      "05:32:07 - OI2: INFO - []\n"
     ]
    },
    {
     "name": "stdout",
     "output_type": "stream",
     "text": [
      "progress = 37.7%\n"
     ]
    },
    {
     "name": "stderr",
     "output_type": "stream",
     "text": [
      "05:32:11 - OI2: INFO - Duplicated gene symbols in the prize file (we'll keep the max prize):\n",
      "05:32:11 - OI2: INFO - []\n",
      "05:32:11 - OI2: INFO - Members of the prize file not present in the interactome:\n",
      "05:32:11 - OI2: INFO - []\n"
     ]
    },
    {
     "name": "stdout",
     "output_type": "stream",
     "text": [
      "progress = 37.8%\n"
     ]
    },
    {
     "name": "stderr",
     "output_type": "stream",
     "text": [
      "05:32:15 - OI2: INFO - Duplicated gene symbols in the prize file (we'll keep the max prize):\n",
      "05:32:15 - OI2: INFO - []\n",
      "05:32:15 - OI2: INFO - Members of the prize file not present in the interactome:\n",
      "05:32:15 - OI2: INFO - []\n"
     ]
    },
    {
     "name": "stdout",
     "output_type": "stream",
     "text": [
      "progress = 37.9%\n"
     ]
    },
    {
     "name": "stderr",
     "output_type": "stream",
     "text": [
      "05:32:19 - OI2: INFO - Duplicated gene symbols in the prize file (we'll keep the max prize):\n",
      "05:32:19 - OI2: INFO - []\n",
      "05:32:19 - OI2: INFO - Members of the prize file not present in the interactome:\n",
      "05:32:19 - OI2: INFO - []\n"
     ]
    },
    {
     "name": "stdout",
     "output_type": "stream",
     "text": [
      "progress = 38.0%\n"
     ]
    },
    {
     "name": "stderr",
     "output_type": "stream",
     "text": [
      "05:32:22 - OI2: INFO - Duplicated gene symbols in the prize file (we'll keep the max prize):\n",
      "05:32:22 - OI2: INFO - []\n",
      "05:32:22 - OI2: INFO - Members of the prize file not present in the interactome:\n",
      "05:32:22 - OI2: INFO - []\n"
     ]
    },
    {
     "name": "stdout",
     "output_type": "stream",
     "text": [
      "progress = 38.1%\n"
     ]
    },
    {
     "name": "stderr",
     "output_type": "stream",
     "text": [
      "05:32:26 - OI2: INFO - Duplicated gene symbols in the prize file (we'll keep the max prize):\n",
      "05:32:26 - OI2: INFO - []\n",
      "05:32:26 - OI2: INFO - Members of the prize file not present in the interactome:\n",
      "05:32:26 - OI2: INFO - []\n"
     ]
    },
    {
     "name": "stdout",
     "output_type": "stream",
     "text": [
      "progress = 38.2%\n"
     ]
    },
    {
     "name": "stderr",
     "output_type": "stream",
     "text": [
      "05:32:30 - OI2: INFO - Duplicated gene symbols in the prize file (we'll keep the max prize):\n",
      "05:32:30 - OI2: INFO - []\n",
      "05:32:30 - OI2: INFO - Members of the prize file not present in the interactome:\n",
      "05:32:30 - OI2: INFO - []\n"
     ]
    },
    {
     "name": "stdout",
     "output_type": "stream",
     "text": [
      "progress = 38.3%\n"
     ]
    },
    {
     "name": "stderr",
     "output_type": "stream",
     "text": [
      "05:32:34 - OI2: INFO - Duplicated gene symbols in the prize file (we'll keep the max prize):\n",
      "05:32:34 - OI2: INFO - []\n",
      "05:32:34 - OI2: INFO - Members of the prize file not present in the interactome:\n",
      "05:32:34 - OI2: INFO - []\n"
     ]
    },
    {
     "name": "stdout",
     "output_type": "stream",
     "text": [
      "progress = 38.4%\n"
     ]
    },
    {
     "name": "stderr",
     "output_type": "stream",
     "text": [
      "05:32:37 - OI2: INFO - Duplicated gene symbols in the prize file (we'll keep the max prize):\n",
      "05:32:37 - OI2: INFO - []\n",
      "05:32:37 - OI2: INFO - Members of the prize file not present in the interactome:\n",
      "05:32:37 - OI2: INFO - []\n"
     ]
    },
    {
     "name": "stdout",
     "output_type": "stream",
     "text": [
      "progress = 38.5%\n"
     ]
    },
    {
     "name": "stderr",
     "output_type": "stream",
     "text": [
      "05:32:41 - OI2: INFO - Duplicated gene symbols in the prize file (we'll keep the max prize):\n",
      "05:32:41 - OI2: INFO - []\n",
      "05:32:41 - OI2: INFO - Members of the prize file not present in the interactome:\n",
      "05:32:41 - OI2: INFO - []\n"
     ]
    },
    {
     "name": "stdout",
     "output_type": "stream",
     "text": [
      "progress = 38.6%\n"
     ]
    },
    {
     "name": "stderr",
     "output_type": "stream",
     "text": [
      "05:32:45 - OI2: INFO - Duplicated gene symbols in the prize file (we'll keep the max prize):\n",
      "05:32:45 - OI2: INFO - []\n",
      "05:32:45 - OI2: INFO - Members of the prize file not present in the interactome:\n",
      "05:32:45 - OI2: INFO - []\n"
     ]
    },
    {
     "name": "stdout",
     "output_type": "stream",
     "text": [
      "progress = 38.7%\n"
     ]
    },
    {
     "name": "stderr",
     "output_type": "stream",
     "text": [
      "05:32:49 - OI2: INFO - Duplicated gene symbols in the prize file (we'll keep the max prize):\n",
      "05:32:49 - OI2: INFO - []\n",
      "05:32:49 - OI2: INFO - Members of the prize file not present in the interactome:\n",
      "05:32:49 - OI2: INFO - []\n"
     ]
    },
    {
     "name": "stdout",
     "output_type": "stream",
     "text": [
      "progress = 38.800000000000004%\n"
     ]
    },
    {
     "name": "stderr",
     "output_type": "stream",
     "text": [
      "05:32:52 - OI2: INFO - Duplicated gene symbols in the prize file (we'll keep the max prize):\n",
      "05:32:52 - OI2: INFO - []\n",
      "05:32:52 - OI2: INFO - Members of the prize file not present in the interactome:\n",
      "05:32:52 - OI2: INFO - []\n"
     ]
    },
    {
     "name": "stdout",
     "output_type": "stream",
     "text": [
      "progress = 38.9%\n"
     ]
    },
    {
     "name": "stderr",
     "output_type": "stream",
     "text": [
      "05:32:56 - OI2: INFO - Duplicated gene symbols in the prize file (we'll keep the max prize):\n",
      "05:32:56 - OI2: INFO - []\n",
      "05:32:56 - OI2: INFO - Members of the prize file not present in the interactome:\n",
      "05:32:56 - OI2: INFO - []\n"
     ]
    },
    {
     "name": "stdout",
     "output_type": "stream",
     "text": [
      "progress = 39.0%\n"
     ]
    },
    {
     "name": "stderr",
     "output_type": "stream",
     "text": [
      "05:33:00 - OI2: INFO - Duplicated gene symbols in the prize file (we'll keep the max prize):\n",
      "05:33:00 - OI2: INFO - []\n",
      "05:33:00 - OI2: INFO - Members of the prize file not present in the interactome:\n",
      "05:33:00 - OI2: INFO - []\n"
     ]
    },
    {
     "name": "stdout",
     "output_type": "stream",
     "text": [
      "progress = 39.1%\n"
     ]
    },
    {
     "name": "stderr",
     "output_type": "stream",
     "text": [
      "05:33:03 - OI2: INFO - Duplicated gene symbols in the prize file (we'll keep the max prize):\n",
      "05:33:03 - OI2: INFO - []\n",
      "05:33:03 - OI2: INFO - Members of the prize file not present in the interactome:\n",
      "05:33:03 - OI2: INFO - []\n"
     ]
    },
    {
     "name": "stdout",
     "output_type": "stream",
     "text": [
      "progress = 39.2%\n"
     ]
    },
    {
     "name": "stderr",
     "output_type": "stream",
     "text": [
      "05:33:07 - OI2: INFO - Duplicated gene symbols in the prize file (we'll keep the max prize):\n",
      "05:33:07 - OI2: INFO - []\n",
      "05:33:07 - OI2: INFO - Members of the prize file not present in the interactome:\n",
      "05:33:07 - OI2: INFO - []\n"
     ]
    },
    {
     "name": "stdout",
     "output_type": "stream",
     "text": [
      "progress = 39.300000000000004%\n"
     ]
    },
    {
     "name": "stderr",
     "output_type": "stream",
     "text": [
      "05:33:11 - OI2: INFO - Duplicated gene symbols in the prize file (we'll keep the max prize):\n",
      "05:33:11 - OI2: INFO - []\n",
      "05:33:11 - OI2: INFO - Members of the prize file not present in the interactome:\n",
      "05:33:11 - OI2: INFO - []\n"
     ]
    },
    {
     "name": "stdout",
     "output_type": "stream",
     "text": [
      "progress = 39.4%\n"
     ]
    },
    {
     "name": "stderr",
     "output_type": "stream",
     "text": [
      "05:33:15 - OI2: INFO - Duplicated gene symbols in the prize file (we'll keep the max prize):\n",
      "05:33:15 - OI2: INFO - []\n",
      "05:33:15 - OI2: INFO - Members of the prize file not present in the interactome:\n",
      "05:33:15 - OI2: INFO - []\n"
     ]
    },
    {
     "name": "stdout",
     "output_type": "stream",
     "text": [
      "progress = 39.5%\n"
     ]
    },
    {
     "name": "stderr",
     "output_type": "stream",
     "text": [
      "05:33:19 - OI2: INFO - Duplicated gene symbols in the prize file (we'll keep the max prize):\n",
      "05:33:19 - OI2: INFO - []\n",
      "05:33:19 - OI2: INFO - Members of the prize file not present in the interactome:\n",
      "05:33:19 - OI2: INFO - []\n"
     ]
    },
    {
     "name": "stdout",
     "output_type": "stream",
     "text": [
      "progress = 39.6%\n"
     ]
    },
    {
     "name": "stderr",
     "output_type": "stream",
     "text": [
      "05:33:22 - OI2: INFO - Duplicated gene symbols in the prize file (we'll keep the max prize):\n",
      "05:33:22 - OI2: INFO - []\n",
      "05:33:22 - OI2: INFO - Members of the prize file not present in the interactome:\n",
      "05:33:22 - OI2: INFO - []\n"
     ]
    },
    {
     "name": "stdout",
     "output_type": "stream",
     "text": [
      "progress = 39.7%\n"
     ]
    },
    {
     "name": "stderr",
     "output_type": "stream",
     "text": [
      "05:33:26 - OI2: INFO - Duplicated gene symbols in the prize file (we'll keep the max prize):\n",
      "05:33:26 - OI2: INFO - []\n",
      "05:33:26 - OI2: INFO - Members of the prize file not present in the interactome:\n",
      "05:33:26 - OI2: INFO - []\n"
     ]
    },
    {
     "name": "stdout",
     "output_type": "stream",
     "text": [
      "progress = 39.800000000000004%\n"
     ]
    },
    {
     "name": "stderr",
     "output_type": "stream",
     "text": [
      "05:33:30 - OI2: INFO - Duplicated gene symbols in the prize file (we'll keep the max prize):\n",
      "05:33:30 - OI2: INFO - []\n",
      "05:33:30 - OI2: INFO - Members of the prize file not present in the interactome:\n",
      "05:33:30 - OI2: INFO - []\n"
     ]
    },
    {
     "name": "stdout",
     "output_type": "stream",
     "text": [
      "progress = 39.900000000000006%\n"
     ]
    },
    {
     "name": "stderr",
     "output_type": "stream",
     "text": [
      "05:33:34 - OI2: INFO - Duplicated gene symbols in the prize file (we'll keep the max prize):\n",
      "05:33:34 - OI2: INFO - []\n",
      "05:33:34 - OI2: INFO - Members of the prize file not present in the interactome:\n",
      "05:33:34 - OI2: INFO - []\n"
     ]
    },
    {
     "name": "stdout",
     "output_type": "stream",
     "text": [
      "progress = 40.0%\n"
     ]
    },
    {
     "name": "stderr",
     "output_type": "stream",
     "text": [
      "05:33:38 - OI2: INFO - Duplicated gene symbols in the prize file (we'll keep the max prize):\n",
      "05:33:38 - OI2: INFO - []\n",
      "05:33:38 - OI2: INFO - Members of the prize file not present in the interactome:\n",
      "05:33:38 - OI2: INFO - []\n"
     ]
    },
    {
     "name": "stdout",
     "output_type": "stream",
     "text": [
      "progress = 40.1%\n"
     ]
    },
    {
     "name": "stderr",
     "output_type": "stream",
     "text": [
      "05:33:41 - OI2: INFO - Duplicated gene symbols in the prize file (we'll keep the max prize):\n",
      "05:33:41 - OI2: INFO - []\n",
      "05:33:41 - OI2: INFO - Members of the prize file not present in the interactome:\n",
      "05:33:41 - OI2: INFO - []\n"
     ]
    },
    {
     "name": "stdout",
     "output_type": "stream",
     "text": [
      "progress = 40.2%\n"
     ]
    },
    {
     "name": "stderr",
     "output_type": "stream",
     "text": [
      "05:33:45 - OI2: INFO - Duplicated gene symbols in the prize file (we'll keep the max prize):\n",
      "05:33:45 - OI2: INFO - []\n",
      "05:33:45 - OI2: INFO - Members of the prize file not present in the interactome:\n",
      "05:33:45 - OI2: INFO - []\n"
     ]
    },
    {
     "name": "stdout",
     "output_type": "stream",
     "text": [
      "progress = 40.300000000000004%\n"
     ]
    },
    {
     "name": "stderr",
     "output_type": "stream",
     "text": [
      "05:33:49 - OI2: INFO - Duplicated gene symbols in the prize file (we'll keep the max prize):\n",
      "05:33:49 - OI2: INFO - []\n",
      "05:33:49 - OI2: INFO - Members of the prize file not present in the interactome:\n",
      "05:33:49 - OI2: INFO - []\n"
     ]
    },
    {
     "name": "stdout",
     "output_type": "stream",
     "text": [
      "progress = 40.400000000000006%\n"
     ]
    },
    {
     "name": "stderr",
     "output_type": "stream",
     "text": [
      "05:33:53 - OI2: INFO - Duplicated gene symbols in the prize file (we'll keep the max prize):\n",
      "05:33:53 - OI2: INFO - []\n",
      "05:33:53 - OI2: INFO - Members of the prize file not present in the interactome:\n",
      "05:33:53 - OI2: INFO - []\n"
     ]
    },
    {
     "name": "stdout",
     "output_type": "stream",
     "text": [
      "progress = 40.5%\n"
     ]
    },
    {
     "name": "stderr",
     "output_type": "stream",
     "text": [
      "05:33:56 - OI2: INFO - Duplicated gene symbols in the prize file (we'll keep the max prize):\n",
      "05:33:56 - OI2: INFO - []\n",
      "05:33:56 - OI2: INFO - Members of the prize file not present in the interactome:\n",
      "05:33:56 - OI2: INFO - []\n"
     ]
    },
    {
     "name": "stdout",
     "output_type": "stream",
     "text": [
      "progress = 40.6%\n"
     ]
    },
    {
     "name": "stderr",
     "output_type": "stream",
     "text": [
      "05:34:00 - OI2: INFO - Duplicated gene symbols in the prize file (we'll keep the max prize):\n",
      "05:34:00 - OI2: INFO - []\n",
      "05:34:00 - OI2: INFO - Members of the prize file not present in the interactome:\n",
      "05:34:00 - OI2: INFO - []\n"
     ]
    },
    {
     "name": "stdout",
     "output_type": "stream",
     "text": [
      "progress = 40.699999999999996%\n"
     ]
    },
    {
     "name": "stderr",
     "output_type": "stream",
     "text": [
      "05:34:04 - OI2: INFO - Duplicated gene symbols in the prize file (we'll keep the max prize):\n",
      "05:34:04 - OI2: INFO - []\n",
      "05:34:04 - OI2: INFO - Members of the prize file not present in the interactome:\n",
      "05:34:04 - OI2: INFO - []\n"
     ]
    },
    {
     "name": "stdout",
     "output_type": "stream",
     "text": [
      "progress = 40.8%\n"
     ]
    },
    {
     "name": "stderr",
     "output_type": "stream",
     "text": [
      "05:34:08 - OI2: INFO - Duplicated gene symbols in the prize file (we'll keep the max prize):\n",
      "05:34:08 - OI2: INFO - []\n",
      "05:34:08 - OI2: INFO - Members of the prize file not present in the interactome:\n",
      "05:34:08 - OI2: INFO - []\n"
     ]
    },
    {
     "name": "stdout",
     "output_type": "stream",
     "text": [
      "progress = 40.9%\n"
     ]
    },
    {
     "name": "stderr",
     "output_type": "stream",
     "text": [
      "05:34:11 - OI2: INFO - Duplicated gene symbols in the prize file (we'll keep the max prize):\n",
      "05:34:11 - OI2: INFO - []\n",
      "05:34:11 - OI2: INFO - Members of the prize file not present in the interactome:\n",
      "05:34:11 - OI2: INFO - []\n"
     ]
    },
    {
     "name": "stdout",
     "output_type": "stream",
     "text": [
      "progress = 41.0%\n"
     ]
    },
    {
     "name": "stderr",
     "output_type": "stream",
     "text": [
      "05:34:15 - OI2: INFO - Duplicated gene symbols in the prize file (we'll keep the max prize):\n",
      "05:34:15 - OI2: INFO - []\n",
      "05:34:15 - OI2: INFO - Members of the prize file not present in the interactome:\n",
      "05:34:15 - OI2: INFO - []\n"
     ]
    },
    {
     "name": "stdout",
     "output_type": "stream",
     "text": [
      "progress = 41.099999999999994%\n"
     ]
    },
    {
     "name": "stderr",
     "output_type": "stream",
     "text": [
      "05:34:19 - OI2: INFO - Duplicated gene symbols in the prize file (we'll keep the max prize):\n",
      "05:34:19 - OI2: INFO - []\n",
      "05:34:19 - OI2: INFO - Members of the prize file not present in the interactome:\n",
      "05:34:19 - OI2: INFO - []\n"
     ]
    },
    {
     "name": "stdout",
     "output_type": "stream",
     "text": [
      "progress = 41.199999999999996%\n"
     ]
    },
    {
     "name": "stderr",
     "output_type": "stream",
     "text": [
      "05:34:23 - OI2: INFO - Duplicated gene symbols in the prize file (we'll keep the max prize):\n",
      "05:34:23 - OI2: INFO - []\n",
      "05:34:23 - OI2: INFO - Members of the prize file not present in the interactome:\n",
      "05:34:23 - OI2: INFO - []\n"
     ]
    },
    {
     "name": "stdout",
     "output_type": "stream",
     "text": [
      "progress = 41.3%\n"
     ]
    },
    {
     "name": "stderr",
     "output_type": "stream",
     "text": [
      "05:34:26 - OI2: INFO - Duplicated gene symbols in the prize file (we'll keep the max prize):\n",
      "05:34:26 - OI2: INFO - []\n",
      "05:34:26 - OI2: INFO - Members of the prize file not present in the interactome:\n",
      "05:34:26 - OI2: INFO - []\n"
     ]
    },
    {
     "name": "stdout",
     "output_type": "stream",
     "text": [
      "progress = 41.4%\n"
     ]
    },
    {
     "name": "stderr",
     "output_type": "stream",
     "text": [
      "05:34:30 - OI2: INFO - Duplicated gene symbols in the prize file (we'll keep the max prize):\n",
      "05:34:30 - OI2: INFO - []\n",
      "05:34:30 - OI2: INFO - Members of the prize file not present in the interactome:\n",
      "05:34:30 - OI2: INFO - []\n"
     ]
    },
    {
     "name": "stdout",
     "output_type": "stream",
     "text": [
      "progress = 41.5%\n"
     ]
    },
    {
     "name": "stderr",
     "output_type": "stream",
     "text": [
      "05:34:34 - OI2: INFO - Duplicated gene symbols in the prize file (we'll keep the max prize):\n",
      "05:34:34 - OI2: INFO - []\n",
      "05:34:34 - OI2: INFO - Members of the prize file not present in the interactome:\n",
      "05:34:34 - OI2: INFO - []\n"
     ]
    },
    {
     "name": "stdout",
     "output_type": "stream",
     "text": [
      "progress = 41.6%\n"
     ]
    },
    {
     "name": "stderr",
     "output_type": "stream",
     "text": [
      "05:34:38 - OI2: INFO - Duplicated gene symbols in the prize file (we'll keep the max prize):\n",
      "05:34:38 - OI2: INFO - []\n",
      "05:34:38 - OI2: INFO - Members of the prize file not present in the interactome:\n",
      "05:34:38 - OI2: INFO - []\n"
     ]
    },
    {
     "name": "stdout",
     "output_type": "stream",
     "text": [
      "progress = 41.699999999999996%\n"
     ]
    },
    {
     "name": "stderr",
     "output_type": "stream",
     "text": [
      "05:34:42 - OI2: INFO - Duplicated gene symbols in the prize file (we'll keep the max prize):\n",
      "05:34:42 - OI2: INFO - []\n",
      "05:34:42 - OI2: INFO - Members of the prize file not present in the interactome:\n",
      "05:34:42 - OI2: INFO - []\n"
     ]
    },
    {
     "name": "stdout",
     "output_type": "stream",
     "text": [
      "progress = 41.8%\n"
     ]
    },
    {
     "name": "stderr",
     "output_type": "stream",
     "text": [
      "05:34:45 - OI2: INFO - Duplicated gene symbols in the prize file (we'll keep the max prize):\n",
      "05:34:45 - OI2: INFO - []\n",
      "05:34:45 - OI2: INFO - Members of the prize file not present in the interactome:\n",
      "05:34:45 - OI2: INFO - []\n"
     ]
    },
    {
     "name": "stdout",
     "output_type": "stream",
     "text": [
      "progress = 41.9%\n"
     ]
    },
    {
     "name": "stderr",
     "output_type": "stream",
     "text": [
      "05:34:49 - OI2: INFO - Duplicated gene symbols in the prize file (we'll keep the max prize):\n",
      "05:34:49 - OI2: INFO - []\n",
      "05:34:49 - OI2: INFO - Members of the prize file not present in the interactome:\n",
      "05:34:49 - OI2: INFO - []\n"
     ]
    },
    {
     "name": "stdout",
     "output_type": "stream",
     "text": [
      "progress = 42.0%\n"
     ]
    },
    {
     "name": "stderr",
     "output_type": "stream",
     "text": [
      "05:34:53 - OI2: INFO - Duplicated gene symbols in the prize file (we'll keep the max prize):\n",
      "05:34:53 - OI2: INFO - []\n",
      "05:34:53 - OI2: INFO - Members of the prize file not present in the interactome:\n",
      "05:34:53 - OI2: INFO - []\n"
     ]
    },
    {
     "name": "stdout",
     "output_type": "stream",
     "text": [
      "progress = 42.1%\n"
     ]
    },
    {
     "name": "stderr",
     "output_type": "stream",
     "text": [
      "05:34:57 - OI2: INFO - Duplicated gene symbols in the prize file (we'll keep the max prize):\n",
      "05:34:57 - OI2: INFO - []\n",
      "05:34:57 - OI2: INFO - Members of the prize file not present in the interactome:\n",
      "05:34:57 - OI2: INFO - []\n"
     ]
    },
    {
     "name": "stdout",
     "output_type": "stream",
     "text": [
      "progress = 42.199999999999996%\n"
     ]
    },
    {
     "name": "stderr",
     "output_type": "stream",
     "text": [
      "05:35:01 - OI2: INFO - Duplicated gene symbols in the prize file (we'll keep the max prize):\n",
      "05:35:01 - OI2: INFO - []\n",
      "05:35:01 - OI2: INFO - Members of the prize file not present in the interactome:\n",
      "05:35:01 - OI2: INFO - []\n"
     ]
    },
    {
     "name": "stdout",
     "output_type": "stream",
     "text": [
      "progress = 42.3%\n"
     ]
    },
    {
     "name": "stderr",
     "output_type": "stream",
     "text": [
      "05:35:05 - OI2: INFO - Duplicated gene symbols in the prize file (we'll keep the max prize):\n",
      "05:35:05 - OI2: INFO - []\n",
      "05:35:05 - OI2: INFO - Members of the prize file not present in the interactome:\n",
      "05:35:05 - OI2: INFO - []\n"
     ]
    },
    {
     "name": "stdout",
     "output_type": "stream",
     "text": [
      "progress = 42.4%\n"
     ]
    },
    {
     "name": "stderr",
     "output_type": "stream",
     "text": [
      "05:35:08 - OI2: INFO - Duplicated gene symbols in the prize file (we'll keep the max prize):\n",
      "05:35:08 - OI2: INFO - []\n",
      "05:35:08 - OI2: INFO - Members of the prize file not present in the interactome:\n",
      "05:35:08 - OI2: INFO - []\n"
     ]
    },
    {
     "name": "stdout",
     "output_type": "stream",
     "text": [
      "progress = 42.5%\n"
     ]
    },
    {
     "name": "stderr",
     "output_type": "stream",
     "text": [
      "05:35:12 - OI2: INFO - Duplicated gene symbols in the prize file (we'll keep the max prize):\n",
      "05:35:12 - OI2: INFO - []\n",
      "05:35:12 - OI2: INFO - Members of the prize file not present in the interactome:\n",
      "05:35:12 - OI2: INFO - []\n"
     ]
    },
    {
     "name": "stdout",
     "output_type": "stream",
     "text": [
      "progress = 42.6%\n"
     ]
    },
    {
     "name": "stderr",
     "output_type": "stream",
     "text": [
      "05:35:16 - OI2: INFO - Duplicated gene symbols in the prize file (we'll keep the max prize):\n",
      "05:35:16 - OI2: INFO - []\n",
      "05:35:16 - OI2: INFO - Members of the prize file not present in the interactome:\n",
      "05:35:16 - OI2: INFO - []\n"
     ]
    },
    {
     "name": "stdout",
     "output_type": "stream",
     "text": [
      "progress = 42.699999999999996%\n"
     ]
    },
    {
     "name": "stderr",
     "output_type": "stream",
     "text": [
      "05:35:20 - OI2: INFO - Duplicated gene symbols in the prize file (we'll keep the max prize):\n",
      "05:35:20 - OI2: INFO - []\n",
      "05:35:20 - OI2: INFO - Members of the prize file not present in the interactome:\n",
      "05:35:20 - OI2: INFO - []\n"
     ]
    },
    {
     "name": "stdout",
     "output_type": "stream",
     "text": [
      "progress = 42.8%\n"
     ]
    },
    {
     "name": "stderr",
     "output_type": "stream",
     "text": [
      "05:35:23 - OI2: INFO - Duplicated gene symbols in the prize file (we'll keep the max prize):\n",
      "05:35:23 - OI2: INFO - []\n",
      "05:35:23 - OI2: INFO - Members of the prize file not present in the interactome:\n",
      "05:35:23 - OI2: INFO - []\n"
     ]
    },
    {
     "name": "stdout",
     "output_type": "stream",
     "text": [
      "progress = 42.9%\n"
     ]
    },
    {
     "name": "stderr",
     "output_type": "stream",
     "text": [
      "05:35:27 - OI2: INFO - Duplicated gene symbols in the prize file (we'll keep the max prize):\n",
      "05:35:27 - OI2: INFO - []\n",
      "05:35:27 - OI2: INFO - Members of the prize file not present in the interactome:\n",
      "05:35:27 - OI2: INFO - []\n"
     ]
    },
    {
     "name": "stdout",
     "output_type": "stream",
     "text": [
      "progress = 43.0%\n"
     ]
    },
    {
     "name": "stderr",
     "output_type": "stream",
     "text": [
      "05:35:31 - OI2: INFO - Duplicated gene symbols in the prize file (we'll keep the max prize):\n",
      "05:35:31 - OI2: INFO - []\n",
      "05:35:31 - OI2: INFO - Members of the prize file not present in the interactome:\n",
      "05:35:31 - OI2: INFO - []\n"
     ]
    },
    {
     "name": "stdout",
     "output_type": "stream",
     "text": [
      "progress = 43.1%\n"
     ]
    },
    {
     "name": "stderr",
     "output_type": "stream",
     "text": [
      "05:35:35 - OI2: INFO - Duplicated gene symbols in the prize file (we'll keep the max prize):\n",
      "05:35:35 - OI2: INFO - []\n",
      "05:35:35 - OI2: INFO - Members of the prize file not present in the interactome:\n",
      "05:35:35 - OI2: INFO - []\n"
     ]
    },
    {
     "name": "stdout",
     "output_type": "stream",
     "text": [
      "progress = 43.2%\n"
     ]
    },
    {
     "name": "stderr",
     "output_type": "stream",
     "text": [
      "05:35:39 - OI2: INFO - Duplicated gene symbols in the prize file (we'll keep the max prize):\n",
      "05:35:39 - OI2: INFO - []\n",
      "05:35:39 - OI2: INFO - Members of the prize file not present in the interactome:\n",
      "05:35:39 - OI2: INFO - []\n"
     ]
    },
    {
     "name": "stdout",
     "output_type": "stream",
     "text": [
      "progress = 43.3%\n"
     ]
    },
    {
     "name": "stderr",
     "output_type": "stream",
     "text": [
      "05:35:42 - OI2: INFO - Duplicated gene symbols in the prize file (we'll keep the max prize):\n",
      "05:35:42 - OI2: INFO - []\n",
      "05:35:42 - OI2: INFO - Members of the prize file not present in the interactome:\n",
      "05:35:42 - OI2: INFO - []\n"
     ]
    },
    {
     "name": "stdout",
     "output_type": "stream",
     "text": [
      "progress = 43.4%\n"
     ]
    },
    {
     "name": "stderr",
     "output_type": "stream",
     "text": [
      "05:35:46 - OI2: INFO - Duplicated gene symbols in the prize file (we'll keep the max prize):\n",
      "05:35:46 - OI2: INFO - []\n",
      "05:35:46 - OI2: INFO - Members of the prize file not present in the interactome:\n",
      "05:35:46 - OI2: INFO - []\n"
     ]
    },
    {
     "name": "stdout",
     "output_type": "stream",
     "text": [
      "progress = 43.5%\n"
     ]
    },
    {
     "name": "stderr",
     "output_type": "stream",
     "text": [
      "05:35:50 - OI2: INFO - Duplicated gene symbols in the prize file (we'll keep the max prize):\n",
      "05:35:50 - OI2: INFO - []\n",
      "05:35:50 - OI2: INFO - Members of the prize file not present in the interactome:\n",
      "05:35:50 - OI2: INFO - []\n"
     ]
    },
    {
     "name": "stdout",
     "output_type": "stream",
     "text": [
      "progress = 43.6%\n"
     ]
    },
    {
     "name": "stderr",
     "output_type": "stream",
     "text": [
      "05:35:54 - OI2: INFO - Duplicated gene symbols in the prize file (we'll keep the max prize):\n",
      "05:35:54 - OI2: INFO - []\n",
      "05:35:54 - OI2: INFO - Members of the prize file not present in the interactome:\n",
      "05:35:54 - OI2: INFO - []\n"
     ]
    },
    {
     "name": "stdout",
     "output_type": "stream",
     "text": [
      "progress = 43.7%\n"
     ]
    },
    {
     "name": "stderr",
     "output_type": "stream",
     "text": [
      "05:35:58 - OI2: INFO - Duplicated gene symbols in the prize file (we'll keep the max prize):\n",
      "05:35:58 - OI2: INFO - []\n",
      "05:35:58 - OI2: INFO - Members of the prize file not present in the interactome:\n",
      "05:35:58 - OI2: INFO - []\n"
     ]
    },
    {
     "name": "stdout",
     "output_type": "stream",
     "text": [
      "progress = 43.8%\n"
     ]
    },
    {
     "name": "stderr",
     "output_type": "stream",
     "text": [
      "05:36:02 - OI2: INFO - Duplicated gene symbols in the prize file (we'll keep the max prize):\n",
      "05:36:02 - OI2: INFO - []\n",
      "05:36:02 - OI2: INFO - Members of the prize file not present in the interactome:\n",
      "05:36:02 - OI2: INFO - []\n"
     ]
    },
    {
     "name": "stdout",
     "output_type": "stream",
     "text": [
      "progress = 43.9%\n"
     ]
    },
    {
     "name": "stderr",
     "output_type": "stream",
     "text": [
      "05:36:05 - OI2: INFO - Duplicated gene symbols in the prize file (we'll keep the max prize):\n",
      "05:36:05 - OI2: INFO - []\n",
      "05:36:05 - OI2: INFO - Members of the prize file not present in the interactome:\n",
      "05:36:05 - OI2: INFO - []\n"
     ]
    },
    {
     "name": "stdout",
     "output_type": "stream",
     "text": [
      "progress = 44.0%\n"
     ]
    },
    {
     "name": "stderr",
     "output_type": "stream",
     "text": [
      "05:36:09 - OI2: INFO - Duplicated gene symbols in the prize file (we'll keep the max prize):\n",
      "05:36:09 - OI2: INFO - []\n",
      "05:36:09 - OI2: INFO - Members of the prize file not present in the interactome:\n",
      "05:36:09 - OI2: INFO - []\n"
     ]
    },
    {
     "name": "stdout",
     "output_type": "stream",
     "text": [
      "progress = 44.1%\n"
     ]
    },
    {
     "name": "stderr",
     "output_type": "stream",
     "text": [
      "05:36:13 - OI2: INFO - Duplicated gene symbols in the prize file (we'll keep the max prize):\n",
      "05:36:13 - OI2: INFO - []\n",
      "05:36:13 - OI2: INFO - Members of the prize file not present in the interactome:\n",
      "05:36:13 - OI2: INFO - []\n"
     ]
    },
    {
     "name": "stdout",
     "output_type": "stream",
     "text": [
      "progress = 44.2%\n"
     ]
    },
    {
     "name": "stderr",
     "output_type": "stream",
     "text": [
      "05:36:17 - OI2: INFO - Duplicated gene symbols in the prize file (we'll keep the max prize):\n",
      "05:36:17 - OI2: INFO - []\n",
      "05:36:17 - OI2: INFO - Members of the prize file not present in the interactome:\n",
      "05:36:17 - OI2: INFO - []\n"
     ]
    },
    {
     "name": "stdout",
     "output_type": "stream",
     "text": [
      "progress = 44.3%\n"
     ]
    },
    {
     "name": "stderr",
     "output_type": "stream",
     "text": [
      "05:36:21 - OI2: INFO - Duplicated gene symbols in the prize file (we'll keep the max prize):\n",
      "05:36:21 - OI2: INFO - []\n",
      "05:36:21 - OI2: INFO - Members of the prize file not present in the interactome:\n",
      "05:36:21 - OI2: INFO - []\n"
     ]
    },
    {
     "name": "stdout",
     "output_type": "stream",
     "text": [
      "progress = 44.4%\n"
     ]
    },
    {
     "name": "stderr",
     "output_type": "stream",
     "text": [
      "05:36:24 - OI2: INFO - Duplicated gene symbols in the prize file (we'll keep the max prize):\n",
      "05:36:24 - OI2: INFO - []\n",
      "05:36:24 - OI2: INFO - Members of the prize file not present in the interactome:\n",
      "05:36:24 - OI2: INFO - []\n"
     ]
    },
    {
     "name": "stdout",
     "output_type": "stream",
     "text": [
      "progress = 44.5%\n"
     ]
    },
    {
     "name": "stderr",
     "output_type": "stream",
     "text": [
      "05:36:28 - OI2: INFO - Duplicated gene symbols in the prize file (we'll keep the max prize):\n",
      "05:36:28 - OI2: INFO - []\n",
      "05:36:28 - OI2: INFO - Members of the prize file not present in the interactome:\n",
      "05:36:28 - OI2: INFO - []\n"
     ]
    },
    {
     "name": "stdout",
     "output_type": "stream",
     "text": [
      "progress = 44.6%\n"
     ]
    },
    {
     "name": "stderr",
     "output_type": "stream",
     "text": [
      "05:36:32 - OI2: INFO - Duplicated gene symbols in the prize file (we'll keep the max prize):\n",
      "05:36:32 - OI2: INFO - []\n",
      "05:36:32 - OI2: INFO - Members of the prize file not present in the interactome:\n",
      "05:36:32 - OI2: INFO - []\n"
     ]
    },
    {
     "name": "stdout",
     "output_type": "stream",
     "text": [
      "progress = 44.7%\n"
     ]
    },
    {
     "name": "stderr",
     "output_type": "stream",
     "text": [
      "05:36:36 - OI2: INFO - Duplicated gene symbols in the prize file (we'll keep the max prize):\n",
      "05:36:36 - OI2: INFO - []\n",
      "05:36:36 - OI2: INFO - Members of the prize file not present in the interactome:\n",
      "05:36:36 - OI2: INFO - []\n"
     ]
    },
    {
     "name": "stdout",
     "output_type": "stream",
     "text": [
      "progress = 44.800000000000004%\n"
     ]
    },
    {
     "name": "stderr",
     "output_type": "stream",
     "text": [
      "05:36:39 - OI2: INFO - Duplicated gene symbols in the prize file (we'll keep the max prize):\n",
      "05:36:39 - OI2: INFO - []\n",
      "05:36:39 - OI2: INFO - Members of the prize file not present in the interactome:\n",
      "05:36:39 - OI2: INFO - []\n"
     ]
    },
    {
     "name": "stdout",
     "output_type": "stream",
     "text": [
      "progress = 44.9%\n"
     ]
    },
    {
     "name": "stderr",
     "output_type": "stream",
     "text": [
      "05:36:43 - OI2: INFO - Duplicated gene symbols in the prize file (we'll keep the max prize):\n",
      "05:36:43 - OI2: INFO - []\n",
      "05:36:43 - OI2: INFO - Members of the prize file not present in the interactome:\n",
      "05:36:43 - OI2: INFO - []\n"
     ]
    },
    {
     "name": "stdout",
     "output_type": "stream",
     "text": [
      "progress = 45.0%\n"
     ]
    },
    {
     "name": "stderr",
     "output_type": "stream",
     "text": [
      "05:36:47 - OI2: INFO - Duplicated gene symbols in the prize file (we'll keep the max prize):\n",
      "05:36:47 - OI2: INFO - []\n",
      "05:36:47 - OI2: INFO - Members of the prize file not present in the interactome:\n",
      "05:36:47 - OI2: INFO - []\n"
     ]
    },
    {
     "name": "stdout",
     "output_type": "stream",
     "text": [
      "progress = 45.1%\n"
     ]
    },
    {
     "name": "stderr",
     "output_type": "stream",
     "text": [
      "05:36:51 - OI2: INFO - Duplicated gene symbols in the prize file (we'll keep the max prize):\n",
      "05:36:51 - OI2: INFO - []\n",
      "05:36:51 - OI2: INFO - Members of the prize file not present in the interactome:\n",
      "05:36:51 - OI2: INFO - []\n"
     ]
    },
    {
     "name": "stdout",
     "output_type": "stream",
     "text": [
      "progress = 45.2%\n"
     ]
    },
    {
     "name": "stderr",
     "output_type": "stream",
     "text": [
      "05:36:55 - OI2: INFO - Duplicated gene symbols in the prize file (we'll keep the max prize):\n",
      "05:36:55 - OI2: INFO - []\n",
      "05:36:55 - OI2: INFO - Members of the prize file not present in the interactome:\n",
      "05:36:55 - OI2: INFO - []\n"
     ]
    },
    {
     "name": "stdout",
     "output_type": "stream",
     "text": [
      "progress = 45.300000000000004%\n"
     ]
    },
    {
     "name": "stderr",
     "output_type": "stream",
     "text": [
      "05:36:58 - OI2: INFO - Duplicated gene symbols in the prize file (we'll keep the max prize):\n",
      "05:36:58 - OI2: INFO - []\n",
      "05:36:58 - OI2: INFO - Members of the prize file not present in the interactome:\n",
      "05:36:58 - OI2: INFO - []\n"
     ]
    },
    {
     "name": "stdout",
     "output_type": "stream",
     "text": [
      "progress = 45.4%\n"
     ]
    },
    {
     "name": "stderr",
     "output_type": "stream",
     "text": [
      "05:37:02 - OI2: INFO - Duplicated gene symbols in the prize file (we'll keep the max prize):\n",
      "05:37:02 - OI2: INFO - []\n",
      "05:37:02 - OI2: INFO - Members of the prize file not present in the interactome:\n",
      "05:37:02 - OI2: INFO - []\n"
     ]
    },
    {
     "name": "stdout",
     "output_type": "stream",
     "text": [
      "progress = 45.5%\n"
     ]
    },
    {
     "name": "stderr",
     "output_type": "stream",
     "text": [
      "05:37:06 - OI2: INFO - Duplicated gene symbols in the prize file (we'll keep the max prize):\n",
      "05:37:06 - OI2: INFO - []\n",
      "05:37:06 - OI2: INFO - Members of the prize file not present in the interactome:\n",
      "05:37:06 - OI2: INFO - []\n"
     ]
    },
    {
     "name": "stdout",
     "output_type": "stream",
     "text": [
      "progress = 45.6%\n"
     ]
    },
    {
     "name": "stderr",
     "output_type": "stream",
     "text": [
      "05:37:10 - OI2: INFO - Duplicated gene symbols in the prize file (we'll keep the max prize):\n",
      "05:37:10 - OI2: INFO - []\n",
      "05:37:10 - OI2: INFO - Members of the prize file not present in the interactome:\n",
      "05:37:10 - OI2: INFO - []\n"
     ]
    },
    {
     "name": "stdout",
     "output_type": "stream",
     "text": [
      "progress = 45.7%\n"
     ]
    },
    {
     "name": "stderr",
     "output_type": "stream",
     "text": [
      "05:37:14 - OI2: INFO - Duplicated gene symbols in the prize file (we'll keep the max prize):\n",
      "05:37:14 - OI2: INFO - []\n",
      "05:37:14 - OI2: INFO - Members of the prize file not present in the interactome:\n",
      "05:37:14 - OI2: INFO - []\n"
     ]
    },
    {
     "name": "stdout",
     "output_type": "stream",
     "text": [
      "progress = 45.800000000000004%\n"
     ]
    },
    {
     "name": "stderr",
     "output_type": "stream",
     "text": [
      "05:37:17 - OI2: INFO - Duplicated gene symbols in the prize file (we'll keep the max prize):\n",
      "05:37:17 - OI2: INFO - []\n",
      "05:37:17 - OI2: INFO - Members of the prize file not present in the interactome:\n",
      "05:37:17 - OI2: INFO - []\n"
     ]
    },
    {
     "name": "stdout",
     "output_type": "stream",
     "text": [
      "progress = 45.9%\n"
     ]
    },
    {
     "name": "stderr",
     "output_type": "stream",
     "text": [
      "05:37:21 - OI2: INFO - Duplicated gene symbols in the prize file (we'll keep the max prize):\n",
      "05:37:21 - OI2: INFO - []\n",
      "05:37:21 - OI2: INFO - Members of the prize file not present in the interactome:\n",
      "05:37:21 - OI2: INFO - []\n"
     ]
    },
    {
     "name": "stdout",
     "output_type": "stream",
     "text": [
      "progress = 46.0%\n"
     ]
    },
    {
     "name": "stderr",
     "output_type": "stream",
     "text": [
      "05:37:25 - OI2: INFO - Duplicated gene symbols in the prize file (we'll keep the max prize):\n",
      "05:37:25 - OI2: INFO - []\n",
      "05:37:25 - OI2: INFO - Members of the prize file not present in the interactome:\n",
      "05:37:25 - OI2: INFO - []\n"
     ]
    },
    {
     "name": "stdout",
     "output_type": "stream",
     "text": [
      "progress = 46.1%\n"
     ]
    },
    {
     "name": "stderr",
     "output_type": "stream",
     "text": [
      "05:37:29 - OI2: INFO - Duplicated gene symbols in the prize file (we'll keep the max prize):\n",
      "05:37:29 - OI2: INFO - []\n",
      "05:37:29 - OI2: INFO - Members of the prize file not present in the interactome:\n",
      "05:37:29 - OI2: INFO - []\n"
     ]
    },
    {
     "name": "stdout",
     "output_type": "stream",
     "text": [
      "progress = 46.2%\n"
     ]
    },
    {
     "name": "stderr",
     "output_type": "stream",
     "text": [
      "05:37:33 - OI2: INFO - Duplicated gene symbols in the prize file (we'll keep the max prize):\n",
      "05:37:33 - OI2: INFO - []\n",
      "05:37:33 - OI2: INFO - Members of the prize file not present in the interactome:\n",
      "05:37:33 - OI2: INFO - []\n"
     ]
    },
    {
     "name": "stdout",
     "output_type": "stream",
     "text": [
      "progress = 46.300000000000004%\n"
     ]
    },
    {
     "name": "stderr",
     "output_type": "stream",
     "text": [
      "05:37:36 - OI2: INFO - Duplicated gene symbols in the prize file (we'll keep the max prize):\n",
      "05:37:36 - OI2: INFO - []\n",
      "05:37:36 - OI2: INFO - Members of the prize file not present in the interactome:\n",
      "05:37:36 - OI2: INFO - []\n"
     ]
    },
    {
     "name": "stdout",
     "output_type": "stream",
     "text": [
      "progress = 46.400000000000006%\n"
     ]
    },
    {
     "name": "stderr",
     "output_type": "stream",
     "text": [
      "05:37:40 - OI2: INFO - Duplicated gene symbols in the prize file (we'll keep the max prize):\n",
      "05:37:40 - OI2: INFO - []\n",
      "05:37:40 - OI2: INFO - Members of the prize file not present in the interactome:\n",
      "05:37:40 - OI2: INFO - []\n"
     ]
    },
    {
     "name": "stdout",
     "output_type": "stream",
     "text": [
      "progress = 46.5%\n"
     ]
    },
    {
     "name": "stderr",
     "output_type": "stream",
     "text": [
      "05:37:44 - OI2: INFO - Duplicated gene symbols in the prize file (we'll keep the max prize):\n",
      "05:37:44 - OI2: INFO - []\n",
      "05:37:44 - OI2: INFO - Members of the prize file not present in the interactome:\n",
      "05:37:44 - OI2: INFO - []\n"
     ]
    },
    {
     "name": "stdout",
     "output_type": "stream",
     "text": [
      "progress = 46.6%\n"
     ]
    },
    {
     "name": "stderr",
     "output_type": "stream",
     "text": [
      "05:37:48 - OI2: INFO - Duplicated gene symbols in the prize file (we'll keep the max prize):\n",
      "05:37:48 - OI2: INFO - []\n",
      "05:37:48 - OI2: INFO - Members of the prize file not present in the interactome:\n",
      "05:37:48 - OI2: INFO - []\n"
     ]
    },
    {
     "name": "stdout",
     "output_type": "stream",
     "text": [
      "progress = 46.7%\n"
     ]
    },
    {
     "name": "stderr",
     "output_type": "stream",
     "text": [
      "05:37:52 - OI2: INFO - Duplicated gene symbols in the prize file (we'll keep the max prize):\n",
      "05:37:52 - OI2: INFO - []\n",
      "05:37:52 - OI2: INFO - Members of the prize file not present in the interactome:\n",
      "05:37:52 - OI2: INFO - []\n"
     ]
    },
    {
     "name": "stdout",
     "output_type": "stream",
     "text": [
      "progress = 46.800000000000004%\n"
     ]
    },
    {
     "name": "stderr",
     "output_type": "stream",
     "text": [
      "05:37:56 - OI2: INFO - Duplicated gene symbols in the prize file (we'll keep the max prize):\n",
      "05:37:56 - OI2: INFO - []\n",
      "05:37:56 - OI2: INFO - Members of the prize file not present in the interactome:\n",
      "05:37:56 - OI2: INFO - []\n"
     ]
    },
    {
     "name": "stdout",
     "output_type": "stream",
     "text": [
      "progress = 46.9%\n"
     ]
    },
    {
     "name": "stderr",
     "output_type": "stream",
     "text": [
      "05:37:59 - OI2: INFO - Duplicated gene symbols in the prize file (we'll keep the max prize):\n",
      "05:37:59 - OI2: INFO - []\n",
      "05:37:59 - OI2: INFO - Members of the prize file not present in the interactome:\n",
      "05:37:59 - OI2: INFO - []\n"
     ]
    },
    {
     "name": "stdout",
     "output_type": "stream",
     "text": [
      "progress = 47.0%\n"
     ]
    },
    {
     "name": "stderr",
     "output_type": "stream",
     "text": [
      "05:38:03 - OI2: INFO - Duplicated gene symbols in the prize file (we'll keep the max prize):\n",
      "05:38:03 - OI2: INFO - []\n",
      "05:38:03 - OI2: INFO - Members of the prize file not present in the interactome:\n",
      "05:38:03 - OI2: INFO - []\n"
     ]
    },
    {
     "name": "stdout",
     "output_type": "stream",
     "text": [
      "progress = 47.099999999999994%\n"
     ]
    },
    {
     "name": "stderr",
     "output_type": "stream",
     "text": [
      "05:38:07 - OI2: INFO - Duplicated gene symbols in the prize file (we'll keep the max prize):\n",
      "05:38:07 - OI2: INFO - []\n",
      "05:38:07 - OI2: INFO - Members of the prize file not present in the interactome:\n",
      "05:38:07 - OI2: INFO - []\n"
     ]
    },
    {
     "name": "stdout",
     "output_type": "stream",
     "text": [
      "progress = 47.199999999999996%\n"
     ]
    },
    {
     "name": "stderr",
     "output_type": "stream",
     "text": [
      "05:38:11 - OI2: INFO - Duplicated gene symbols in the prize file (we'll keep the max prize):\n",
      "05:38:11 - OI2: INFO - []\n",
      "05:38:11 - OI2: INFO - Members of the prize file not present in the interactome:\n",
      "05:38:11 - OI2: INFO - []\n"
     ]
    },
    {
     "name": "stdout",
     "output_type": "stream",
     "text": [
      "progress = 47.3%\n"
     ]
    },
    {
     "name": "stderr",
     "output_type": "stream",
     "text": [
      "05:38:15 - OI2: INFO - Duplicated gene symbols in the prize file (we'll keep the max prize):\n",
      "05:38:15 - OI2: INFO - []\n",
      "05:38:15 - OI2: INFO - Members of the prize file not present in the interactome:\n",
      "05:38:15 - OI2: INFO - []\n"
     ]
    },
    {
     "name": "stdout",
     "output_type": "stream",
     "text": [
      "progress = 47.4%\n"
     ]
    },
    {
     "name": "stderr",
     "output_type": "stream",
     "text": [
      "05:38:18 - OI2: INFO - Duplicated gene symbols in the prize file (we'll keep the max prize):\n",
      "05:38:18 - OI2: INFO - []\n",
      "05:38:18 - OI2: INFO - Members of the prize file not present in the interactome:\n",
      "05:38:18 - OI2: INFO - []\n"
     ]
    },
    {
     "name": "stdout",
     "output_type": "stream",
     "text": [
      "progress = 47.5%\n"
     ]
    },
    {
     "name": "stderr",
     "output_type": "stream",
     "text": [
      "05:38:22 - OI2: INFO - Duplicated gene symbols in the prize file (we'll keep the max prize):\n",
      "05:38:22 - OI2: INFO - []\n",
      "05:38:22 - OI2: INFO - Members of the prize file not present in the interactome:\n",
      "05:38:22 - OI2: INFO - []\n"
     ]
    },
    {
     "name": "stdout",
     "output_type": "stream",
     "text": [
      "progress = 47.599999999999994%\n"
     ]
    },
    {
     "name": "stderr",
     "output_type": "stream",
     "text": [
      "05:38:26 - OI2: INFO - Duplicated gene symbols in the prize file (we'll keep the max prize):\n",
      "05:38:26 - OI2: INFO - []\n",
      "05:38:26 - OI2: INFO - Members of the prize file not present in the interactome:\n",
      "05:38:26 - OI2: INFO - []\n"
     ]
    },
    {
     "name": "stdout",
     "output_type": "stream",
     "text": [
      "progress = 47.699999999999996%\n"
     ]
    },
    {
     "name": "stderr",
     "output_type": "stream",
     "text": [
      "05:38:30 - OI2: INFO - Duplicated gene symbols in the prize file (we'll keep the max prize):\n",
      "05:38:30 - OI2: INFO - []\n",
      "05:38:30 - OI2: INFO - Members of the prize file not present in the interactome:\n",
      "05:38:30 - OI2: INFO - []\n"
     ]
    },
    {
     "name": "stdout",
     "output_type": "stream",
     "text": [
      "progress = 47.8%\n"
     ]
    },
    {
     "name": "stderr",
     "output_type": "stream",
     "text": [
      "05:38:34 - OI2: INFO - Duplicated gene symbols in the prize file (we'll keep the max prize):\n",
      "05:38:34 - OI2: INFO - []\n",
      "05:38:34 - OI2: INFO - Members of the prize file not present in the interactome:\n",
      "05:38:34 - OI2: INFO - []\n"
     ]
    },
    {
     "name": "stdout",
     "output_type": "stream",
     "text": [
      "progress = 47.9%\n"
     ]
    },
    {
     "name": "stderr",
     "output_type": "stream",
     "text": [
      "05:38:37 - OI2: INFO - Duplicated gene symbols in the prize file (we'll keep the max prize):\n",
      "05:38:37 - OI2: INFO - []\n",
      "05:38:37 - OI2: INFO - Members of the prize file not present in the interactome:\n",
      "05:38:37 - OI2: INFO - []\n"
     ]
    },
    {
     "name": "stdout",
     "output_type": "stream",
     "text": [
      "progress = 48.0%\n"
     ]
    },
    {
     "name": "stderr",
     "output_type": "stream",
     "text": [
      "05:38:41 - OI2: INFO - Duplicated gene symbols in the prize file (we'll keep the max prize):\n",
      "05:38:41 - OI2: INFO - []\n",
      "05:38:41 - OI2: INFO - Members of the prize file not present in the interactome:\n",
      "05:38:41 - OI2: INFO - []\n"
     ]
    },
    {
     "name": "stdout",
     "output_type": "stream",
     "text": [
      "progress = 48.1%\n"
     ]
    },
    {
     "name": "stderr",
     "output_type": "stream",
     "text": [
      "05:38:45 - OI2: INFO - Duplicated gene symbols in the prize file (we'll keep the max prize):\n",
      "05:38:45 - OI2: INFO - []\n",
      "05:38:45 - OI2: INFO - Members of the prize file not present in the interactome:\n",
      "05:38:45 - OI2: INFO - []\n"
     ]
    },
    {
     "name": "stdout",
     "output_type": "stream",
     "text": [
      "progress = 48.199999999999996%\n"
     ]
    },
    {
     "name": "stderr",
     "output_type": "stream",
     "text": [
      "05:38:49 - OI2: INFO - Duplicated gene symbols in the prize file (we'll keep the max prize):\n",
      "05:38:49 - OI2: INFO - []\n",
      "05:38:49 - OI2: INFO - Members of the prize file not present in the interactome:\n",
      "05:38:49 - OI2: INFO - []\n"
     ]
    },
    {
     "name": "stdout",
     "output_type": "stream",
     "text": [
      "progress = 48.3%\n"
     ]
    },
    {
     "name": "stderr",
     "output_type": "stream",
     "text": [
      "05:38:53 - OI2: INFO - Duplicated gene symbols in the prize file (we'll keep the max prize):\n",
      "05:38:53 - OI2: INFO - []\n",
      "05:38:53 - OI2: INFO - Members of the prize file not present in the interactome:\n",
      "05:38:53 - OI2: INFO - []\n"
     ]
    },
    {
     "name": "stdout",
     "output_type": "stream",
     "text": [
      "progress = 48.4%\n"
     ]
    },
    {
     "name": "stderr",
     "output_type": "stream",
     "text": [
      "05:38:56 - OI2: INFO - Duplicated gene symbols in the prize file (we'll keep the max prize):\n",
      "05:38:56 - OI2: INFO - []\n",
      "05:38:56 - OI2: INFO - Members of the prize file not present in the interactome:\n",
      "05:38:56 - OI2: INFO - []\n"
     ]
    },
    {
     "name": "stdout",
     "output_type": "stream",
     "text": [
      "progress = 48.5%\n"
     ]
    },
    {
     "name": "stderr",
     "output_type": "stream",
     "text": [
      "05:39:00 - OI2: INFO - Duplicated gene symbols in the prize file (we'll keep the max prize):\n",
      "05:39:00 - OI2: INFO - []\n",
      "05:39:00 - OI2: INFO - Members of the prize file not present in the interactome:\n",
      "05:39:00 - OI2: INFO - []\n"
     ]
    },
    {
     "name": "stdout",
     "output_type": "stream",
     "text": [
      "progress = 48.6%\n"
     ]
    },
    {
     "name": "stderr",
     "output_type": "stream",
     "text": [
      "05:39:04 - OI2: INFO - Duplicated gene symbols in the prize file (we'll keep the max prize):\n",
      "05:39:04 - OI2: INFO - []\n",
      "05:39:04 - OI2: INFO - Members of the prize file not present in the interactome:\n",
      "05:39:04 - OI2: INFO - []\n"
     ]
    },
    {
     "name": "stdout",
     "output_type": "stream",
     "text": [
      "progress = 48.699999999999996%\n"
     ]
    },
    {
     "name": "stderr",
     "output_type": "stream",
     "text": [
      "05:39:08 - OI2: INFO - Duplicated gene symbols in the prize file (we'll keep the max prize):\n",
      "05:39:08 - OI2: INFO - []\n",
      "05:39:08 - OI2: INFO - Members of the prize file not present in the interactome:\n",
      "05:39:08 - OI2: INFO - []\n"
     ]
    },
    {
     "name": "stdout",
     "output_type": "stream",
     "text": [
      "progress = 48.8%\n"
     ]
    },
    {
     "name": "stderr",
     "output_type": "stream",
     "text": [
      "05:39:11 - OI2: INFO - Duplicated gene symbols in the prize file (we'll keep the max prize):\n",
      "05:39:11 - OI2: INFO - []\n",
      "05:39:11 - OI2: INFO - Members of the prize file not present in the interactome:\n",
      "05:39:11 - OI2: INFO - []\n"
     ]
    },
    {
     "name": "stdout",
     "output_type": "stream",
     "text": [
      "progress = 48.9%\n"
     ]
    },
    {
     "name": "stderr",
     "output_type": "stream",
     "text": [
      "05:39:15 - OI2: INFO - Duplicated gene symbols in the prize file (we'll keep the max prize):\n",
      "05:39:15 - OI2: INFO - []\n",
      "05:39:15 - OI2: INFO - Members of the prize file not present in the interactome:\n",
      "05:39:15 - OI2: INFO - []\n"
     ]
    },
    {
     "name": "stdout",
     "output_type": "stream",
     "text": [
      "progress = 49.0%\n"
     ]
    },
    {
     "name": "stderr",
     "output_type": "stream",
     "text": [
      "05:39:19 - OI2: INFO - Duplicated gene symbols in the prize file (we'll keep the max prize):\n",
      "05:39:19 - OI2: INFO - []\n",
      "05:39:19 - OI2: INFO - Members of the prize file not present in the interactome:\n",
      "05:39:19 - OI2: INFO - []\n"
     ]
    },
    {
     "name": "stdout",
     "output_type": "stream",
     "text": [
      "progress = 49.1%\n"
     ]
    },
    {
     "name": "stderr",
     "output_type": "stream",
     "text": [
      "05:39:23 - OI2: INFO - Duplicated gene symbols in the prize file (we'll keep the max prize):\n",
      "05:39:23 - OI2: INFO - []\n",
      "05:39:23 - OI2: INFO - Members of the prize file not present in the interactome:\n",
      "05:39:23 - OI2: INFO - []\n"
     ]
    },
    {
     "name": "stdout",
     "output_type": "stream",
     "text": [
      "progress = 49.2%\n"
     ]
    },
    {
     "name": "stderr",
     "output_type": "stream",
     "text": [
      "05:39:26 - OI2: INFO - Duplicated gene symbols in the prize file (we'll keep the max prize):\n",
      "05:39:26 - OI2: INFO - []\n",
      "05:39:26 - OI2: INFO - Members of the prize file not present in the interactome:\n",
      "05:39:26 - OI2: INFO - []\n"
     ]
    },
    {
     "name": "stdout",
     "output_type": "stream",
     "text": [
      "progress = 49.3%\n"
     ]
    },
    {
     "name": "stderr",
     "output_type": "stream",
     "text": [
      "05:39:30 - OI2: INFO - Duplicated gene symbols in the prize file (we'll keep the max prize):\n",
      "05:39:30 - OI2: INFO - []\n",
      "05:39:30 - OI2: INFO - Members of the prize file not present in the interactome:\n",
      "05:39:30 - OI2: INFO - []\n"
     ]
    },
    {
     "name": "stdout",
     "output_type": "stream",
     "text": [
      "progress = 49.4%\n"
     ]
    },
    {
     "name": "stderr",
     "output_type": "stream",
     "text": [
      "05:39:34 - OI2: INFO - Duplicated gene symbols in the prize file (we'll keep the max prize):\n",
      "05:39:34 - OI2: INFO - []\n",
      "05:39:34 - OI2: INFO - Members of the prize file not present in the interactome:\n",
      "05:39:34 - OI2: INFO - []\n"
     ]
    },
    {
     "name": "stdout",
     "output_type": "stream",
     "text": [
      "progress = 49.5%\n"
     ]
    },
    {
     "name": "stderr",
     "output_type": "stream",
     "text": [
      "05:39:37 - OI2: INFO - Duplicated gene symbols in the prize file (we'll keep the max prize):\n",
      "05:39:37 - OI2: INFO - []\n",
      "05:39:37 - OI2: INFO - Members of the prize file not present in the interactome:\n",
      "05:39:37 - OI2: INFO - []\n"
     ]
    },
    {
     "name": "stdout",
     "output_type": "stream",
     "text": [
      "progress = 49.6%\n"
     ]
    },
    {
     "name": "stderr",
     "output_type": "stream",
     "text": [
      "05:39:41 - OI2: INFO - Duplicated gene symbols in the prize file (we'll keep the max prize):\n",
      "05:39:41 - OI2: INFO - []\n",
      "05:39:41 - OI2: INFO - Members of the prize file not present in the interactome:\n",
      "05:39:41 - OI2: INFO - []\n"
     ]
    },
    {
     "name": "stdout",
     "output_type": "stream",
     "text": [
      "progress = 49.7%\n"
     ]
    },
    {
     "name": "stderr",
     "output_type": "stream",
     "text": [
      "05:39:45 - OI2: INFO - Duplicated gene symbols in the prize file (we'll keep the max prize):\n",
      "05:39:45 - OI2: INFO - []\n",
      "05:39:45 - OI2: INFO - Members of the prize file not present in the interactome:\n",
      "05:39:45 - OI2: INFO - []\n"
     ]
    },
    {
     "name": "stdout",
     "output_type": "stream",
     "text": [
      "progress = 49.8%\n"
     ]
    },
    {
     "name": "stderr",
     "output_type": "stream",
     "text": [
      "05:39:49 - OI2: INFO - Duplicated gene symbols in the prize file (we'll keep the max prize):\n",
      "05:39:49 - OI2: INFO - []\n",
      "05:39:49 - OI2: INFO - Members of the prize file not present in the interactome:\n",
      "05:39:49 - OI2: INFO - []\n"
     ]
    },
    {
     "name": "stdout",
     "output_type": "stream",
     "text": [
      "progress = 49.9%\n"
     ]
    },
    {
     "name": "stderr",
     "output_type": "stream",
     "text": [
      "05:39:53 - OI2: INFO - Duplicated gene symbols in the prize file (we'll keep the max prize):\n",
      "05:39:53 - OI2: INFO - []\n",
      "05:39:53 - OI2: INFO - Members of the prize file not present in the interactome:\n",
      "05:39:53 - OI2: INFO - []\n"
     ]
    },
    {
     "name": "stdout",
     "output_type": "stream",
     "text": [
      "progress = 50.0%\n"
     ]
    },
    {
     "name": "stderr",
     "output_type": "stream",
     "text": [
      "05:39:56 - OI2: INFO - Duplicated gene symbols in the prize file (we'll keep the max prize):\n",
      "05:39:56 - OI2: INFO - []\n",
      "05:39:56 - OI2: INFO - Members of the prize file not present in the interactome:\n",
      "05:39:56 - OI2: INFO - []\n"
     ]
    },
    {
     "name": "stdout",
     "output_type": "stream",
     "text": [
      "progress = 50.1%\n"
     ]
    },
    {
     "name": "stderr",
     "output_type": "stream",
     "text": [
      "05:40:00 - OI2: INFO - Duplicated gene symbols in the prize file (we'll keep the max prize):\n",
      "05:40:00 - OI2: INFO - []\n",
      "05:40:00 - OI2: INFO - Members of the prize file not present in the interactome:\n",
      "05:40:00 - OI2: INFO - []\n"
     ]
    },
    {
     "name": "stdout",
     "output_type": "stream",
     "text": [
      "progress = 50.2%\n"
     ]
    },
    {
     "name": "stderr",
     "output_type": "stream",
     "text": [
      "05:40:04 - OI2: INFO - Duplicated gene symbols in the prize file (we'll keep the max prize):\n",
      "05:40:04 - OI2: INFO - []\n",
      "05:40:04 - OI2: INFO - Members of the prize file not present in the interactome:\n",
      "05:40:04 - OI2: INFO - []\n"
     ]
    },
    {
     "name": "stdout",
     "output_type": "stream",
     "text": [
      "progress = 50.3%\n"
     ]
    },
    {
     "name": "stderr",
     "output_type": "stream",
     "text": [
      "05:40:08 - OI2: INFO - Duplicated gene symbols in the prize file (we'll keep the max prize):\n",
      "05:40:08 - OI2: INFO - []\n",
      "05:40:08 - OI2: INFO - Members of the prize file not present in the interactome:\n",
      "05:40:08 - OI2: INFO - []\n"
     ]
    },
    {
     "name": "stdout",
     "output_type": "stream",
     "text": [
      "progress = 50.4%\n"
     ]
    },
    {
     "name": "stderr",
     "output_type": "stream",
     "text": [
      "05:40:11 - OI2: INFO - Duplicated gene symbols in the prize file (we'll keep the max prize):\n",
      "05:40:11 - OI2: INFO - []\n",
      "05:40:11 - OI2: INFO - Members of the prize file not present in the interactome:\n",
      "05:40:11 - OI2: INFO - []\n"
     ]
    },
    {
     "name": "stdout",
     "output_type": "stream",
     "text": [
      "progress = 50.5%\n"
     ]
    },
    {
     "name": "stderr",
     "output_type": "stream",
     "text": [
      "05:40:15 - OI2: INFO - Duplicated gene symbols in the prize file (we'll keep the max prize):\n",
      "05:40:15 - OI2: INFO - []\n",
      "05:40:15 - OI2: INFO - Members of the prize file not present in the interactome:\n",
      "05:40:15 - OI2: INFO - []\n"
     ]
    },
    {
     "name": "stdout",
     "output_type": "stream",
     "text": [
      "progress = 50.6%\n"
     ]
    },
    {
     "name": "stderr",
     "output_type": "stream",
     "text": [
      "05:40:19 - OI2: INFO - Duplicated gene symbols in the prize file (we'll keep the max prize):\n",
      "05:40:19 - OI2: INFO - []\n",
      "05:40:19 - OI2: INFO - Members of the prize file not present in the interactome:\n",
      "05:40:19 - OI2: INFO - []\n"
     ]
    },
    {
     "name": "stdout",
     "output_type": "stream",
     "text": [
      "progress = 50.7%\n"
     ]
    },
    {
     "name": "stderr",
     "output_type": "stream",
     "text": [
      "05:40:23 - OI2: INFO - Duplicated gene symbols in the prize file (we'll keep the max prize):\n",
      "05:40:23 - OI2: INFO - []\n",
      "05:40:23 - OI2: INFO - Members of the prize file not present in the interactome:\n",
      "05:40:23 - OI2: INFO - []\n"
     ]
    },
    {
     "name": "stdout",
     "output_type": "stream",
     "text": [
      "progress = 50.8%\n"
     ]
    },
    {
     "name": "stderr",
     "output_type": "stream",
     "text": [
      "05:40:27 - OI2: INFO - Duplicated gene symbols in the prize file (we'll keep the max prize):\n",
      "05:40:27 - OI2: INFO - []\n",
      "05:40:27 - OI2: INFO - Members of the prize file not present in the interactome:\n",
      "05:40:27 - OI2: INFO - []\n"
     ]
    },
    {
     "name": "stdout",
     "output_type": "stream",
     "text": [
      "progress = 50.9%\n"
     ]
    },
    {
     "name": "stderr",
     "output_type": "stream",
     "text": [
      "05:40:30 - OI2: INFO - Duplicated gene symbols in the prize file (we'll keep the max prize):\n",
      "05:40:30 - OI2: INFO - []\n",
      "05:40:30 - OI2: INFO - Members of the prize file not present in the interactome:\n",
      "05:40:30 - OI2: INFO - []\n"
     ]
    },
    {
     "name": "stdout",
     "output_type": "stream",
     "text": [
      "progress = 51.0%\n"
     ]
    },
    {
     "name": "stderr",
     "output_type": "stream",
     "text": [
      "05:40:34 - OI2: INFO - Duplicated gene symbols in the prize file (we'll keep the max prize):\n",
      "05:40:34 - OI2: INFO - []\n",
      "05:40:34 - OI2: INFO - Members of the prize file not present in the interactome:\n",
      "05:40:34 - OI2: INFO - []\n"
     ]
    },
    {
     "name": "stdout",
     "output_type": "stream",
     "text": [
      "progress = 51.1%\n"
     ]
    },
    {
     "name": "stderr",
     "output_type": "stream",
     "text": [
      "05:40:38 - OI2: INFO - Duplicated gene symbols in the prize file (we'll keep the max prize):\n",
      "05:40:38 - OI2: INFO - []\n",
      "05:40:38 - OI2: INFO - Members of the prize file not present in the interactome:\n",
      "05:40:38 - OI2: INFO - []\n"
     ]
    },
    {
     "name": "stdout",
     "output_type": "stream",
     "text": [
      "progress = 51.2%\n"
     ]
    },
    {
     "name": "stderr",
     "output_type": "stream",
     "text": [
      "05:40:42 - OI2: INFO - Duplicated gene symbols in the prize file (we'll keep the max prize):\n",
      "05:40:42 - OI2: INFO - []\n",
      "05:40:42 - OI2: INFO - Members of the prize file not present in the interactome:\n",
      "05:40:42 - OI2: INFO - []\n"
     ]
    },
    {
     "name": "stdout",
     "output_type": "stream",
     "text": [
      "progress = 51.300000000000004%\n"
     ]
    },
    {
     "name": "stderr",
     "output_type": "stream",
     "text": [
      "05:40:46 - OI2: INFO - Duplicated gene symbols in the prize file (we'll keep the max prize):\n",
      "05:40:46 - OI2: INFO - []\n",
      "05:40:46 - OI2: INFO - Members of the prize file not present in the interactome:\n",
      "05:40:46 - OI2: INFO - []\n"
     ]
    },
    {
     "name": "stdout",
     "output_type": "stream",
     "text": [
      "progress = 51.4%\n"
     ]
    },
    {
     "name": "stderr",
     "output_type": "stream",
     "text": [
      "05:40:49 - OI2: INFO - Duplicated gene symbols in the prize file (we'll keep the max prize):\n",
      "05:40:49 - OI2: INFO - []\n",
      "05:40:49 - OI2: INFO - Members of the prize file not present in the interactome:\n",
      "05:40:49 - OI2: INFO - []\n"
     ]
    },
    {
     "name": "stdout",
     "output_type": "stream",
     "text": [
      "progress = 51.5%\n"
     ]
    },
    {
     "name": "stderr",
     "output_type": "stream",
     "text": [
      "05:40:53 - OI2: INFO - Duplicated gene symbols in the prize file (we'll keep the max prize):\n",
      "05:40:53 - OI2: INFO - []\n",
      "05:40:53 - OI2: INFO - Members of the prize file not present in the interactome:\n",
      "05:40:53 - OI2: INFO - []\n"
     ]
    },
    {
     "name": "stdout",
     "output_type": "stream",
     "text": [
      "progress = 51.6%\n"
     ]
    },
    {
     "name": "stderr",
     "output_type": "stream",
     "text": [
      "05:40:57 - OI2: INFO - Duplicated gene symbols in the prize file (we'll keep the max prize):\n",
      "05:40:57 - OI2: INFO - []\n",
      "05:40:57 - OI2: INFO - Members of the prize file not present in the interactome:\n",
      "05:40:57 - OI2: INFO - []\n"
     ]
    },
    {
     "name": "stdout",
     "output_type": "stream",
     "text": [
      "progress = 51.7%\n"
     ]
    },
    {
     "name": "stderr",
     "output_type": "stream",
     "text": [
      "05:41:01 - OI2: INFO - Duplicated gene symbols in the prize file (we'll keep the max prize):\n",
      "05:41:01 - OI2: INFO - []\n",
      "05:41:01 - OI2: INFO - Members of the prize file not present in the interactome:\n",
      "05:41:01 - OI2: INFO - []\n"
     ]
    },
    {
     "name": "stdout",
     "output_type": "stream",
     "text": [
      "progress = 51.800000000000004%\n"
     ]
    },
    {
     "name": "stderr",
     "output_type": "stream",
     "text": [
      "05:41:05 - OI2: INFO - Duplicated gene symbols in the prize file (we'll keep the max prize):\n",
      "05:41:05 - OI2: INFO - []\n",
      "05:41:05 - OI2: INFO - Members of the prize file not present in the interactome:\n",
      "05:41:05 - OI2: INFO - []\n"
     ]
    },
    {
     "name": "stdout",
     "output_type": "stream",
     "text": [
      "progress = 51.9%\n"
     ]
    },
    {
     "name": "stderr",
     "output_type": "stream",
     "text": [
      "05:41:08 - OI2: INFO - Duplicated gene symbols in the prize file (we'll keep the max prize):\n",
      "05:41:08 - OI2: INFO - []\n",
      "05:41:08 - OI2: INFO - Members of the prize file not present in the interactome:\n",
      "05:41:08 - OI2: INFO - []\n"
     ]
    },
    {
     "name": "stdout",
     "output_type": "stream",
     "text": [
      "progress = 52.0%\n"
     ]
    },
    {
     "name": "stderr",
     "output_type": "stream",
     "text": [
      "05:41:12 - OI2: INFO - Duplicated gene symbols in the prize file (we'll keep the max prize):\n",
      "05:41:12 - OI2: INFO - []\n",
      "05:41:12 - OI2: INFO - Members of the prize file not present in the interactome:\n",
      "05:41:12 - OI2: INFO - []\n"
     ]
    },
    {
     "name": "stdout",
     "output_type": "stream",
     "text": [
      "progress = 52.1%\n"
     ]
    },
    {
     "name": "stderr",
     "output_type": "stream",
     "text": [
      "05:41:16 - OI2: INFO - Duplicated gene symbols in the prize file (we'll keep the max prize):\n",
      "05:41:16 - OI2: INFO - []\n",
      "05:41:16 - OI2: INFO - Members of the prize file not present in the interactome:\n",
      "05:41:16 - OI2: INFO - []\n"
     ]
    },
    {
     "name": "stdout",
     "output_type": "stream",
     "text": [
      "progress = 52.2%\n"
     ]
    },
    {
     "name": "stderr",
     "output_type": "stream",
     "text": [
      "05:41:20 - OI2: INFO - Duplicated gene symbols in the prize file (we'll keep the max prize):\n",
      "05:41:20 - OI2: INFO - []\n",
      "05:41:20 - OI2: INFO - Members of the prize file not present in the interactome:\n",
      "05:41:20 - OI2: INFO - []\n"
     ]
    },
    {
     "name": "stdout",
     "output_type": "stream",
     "text": [
      "progress = 52.300000000000004%\n"
     ]
    },
    {
     "name": "stderr",
     "output_type": "stream",
     "text": [
      "05:41:23 - OI2: INFO - Duplicated gene symbols in the prize file (we'll keep the max prize):\n",
      "05:41:23 - OI2: INFO - []\n",
      "05:41:23 - OI2: INFO - Members of the prize file not present in the interactome:\n",
      "05:41:23 - OI2: INFO - []\n"
     ]
    },
    {
     "name": "stdout",
     "output_type": "stream",
     "text": [
      "progress = 52.400000000000006%\n"
     ]
    },
    {
     "name": "stderr",
     "output_type": "stream",
     "text": [
      "05:41:27 - OI2: INFO - Duplicated gene symbols in the prize file (we'll keep the max prize):\n",
      "05:41:27 - OI2: INFO - []\n",
      "05:41:27 - OI2: INFO - Members of the prize file not present in the interactome:\n",
      "05:41:27 - OI2: INFO - []\n"
     ]
    },
    {
     "name": "stdout",
     "output_type": "stream",
     "text": [
      "progress = 52.5%\n"
     ]
    },
    {
     "name": "stderr",
     "output_type": "stream",
     "text": [
      "05:41:31 - OI2: INFO - Duplicated gene symbols in the prize file (we'll keep the max prize):\n",
      "05:41:31 - OI2: INFO - []\n",
      "05:41:31 - OI2: INFO - Members of the prize file not present in the interactome:\n",
      "05:41:31 - OI2: INFO - []\n"
     ]
    },
    {
     "name": "stdout",
     "output_type": "stream",
     "text": [
      "progress = 52.6%\n"
     ]
    },
    {
     "name": "stderr",
     "output_type": "stream",
     "text": [
      "05:41:35 - OI2: INFO - Duplicated gene symbols in the prize file (we'll keep the max prize):\n",
      "05:41:35 - OI2: INFO - []\n",
      "05:41:35 - OI2: INFO - Members of the prize file not present in the interactome:\n",
      "05:41:35 - OI2: INFO - []\n"
     ]
    },
    {
     "name": "stdout",
     "output_type": "stream",
     "text": [
      "progress = 52.7%\n"
     ]
    },
    {
     "name": "stderr",
     "output_type": "stream",
     "text": [
      "05:41:39 - OI2: INFO - Duplicated gene symbols in the prize file (we'll keep the max prize):\n",
      "05:41:39 - OI2: INFO - []\n",
      "05:41:39 - OI2: INFO - Members of the prize file not present in the interactome:\n",
      "05:41:39 - OI2: INFO - []\n"
     ]
    },
    {
     "name": "stdout",
     "output_type": "stream",
     "text": [
      "progress = 52.800000000000004%\n"
     ]
    },
    {
     "name": "stderr",
     "output_type": "stream",
     "text": [
      "05:41:42 - OI2: INFO - Duplicated gene symbols in the prize file (we'll keep the max prize):\n",
      "05:41:42 - OI2: INFO - []\n",
      "05:41:42 - OI2: INFO - Members of the prize file not present in the interactome:\n",
      "05:41:42 - OI2: INFO - []\n"
     ]
    },
    {
     "name": "stdout",
     "output_type": "stream",
     "text": [
      "progress = 52.900000000000006%\n"
     ]
    },
    {
     "name": "stderr",
     "output_type": "stream",
     "text": [
      "05:41:46 - OI2: INFO - Duplicated gene symbols in the prize file (we'll keep the max prize):\n",
      "05:41:46 - OI2: INFO - []\n",
      "05:41:46 - OI2: INFO - Members of the prize file not present in the interactome:\n",
      "05:41:46 - OI2: INFO - []\n"
     ]
    },
    {
     "name": "stdout",
     "output_type": "stream",
     "text": [
      "progress = 53.0%\n"
     ]
    },
    {
     "name": "stderr",
     "output_type": "stream",
     "text": [
      "05:41:50 - OI2: INFO - Duplicated gene symbols in the prize file (we'll keep the max prize):\n",
      "05:41:50 - OI2: INFO - []\n",
      "05:41:50 - OI2: INFO - Members of the prize file not present in the interactome:\n",
      "05:41:50 - OI2: INFO - []\n"
     ]
    },
    {
     "name": "stdout",
     "output_type": "stream",
     "text": [
      "progress = 53.1%\n"
     ]
    },
    {
     "name": "stderr",
     "output_type": "stream",
     "text": [
      "05:41:54 - OI2: INFO - Duplicated gene symbols in the prize file (we'll keep the max prize):\n",
      "05:41:54 - OI2: INFO - []\n",
      "05:41:54 - OI2: INFO - Members of the prize file not present in the interactome:\n",
      "05:41:54 - OI2: INFO - []\n"
     ]
    },
    {
     "name": "stdout",
     "output_type": "stream",
     "text": [
      "progress = 53.2%\n"
     ]
    },
    {
     "name": "stderr",
     "output_type": "stream",
     "text": [
      "05:41:58 - OI2: INFO - Duplicated gene symbols in the prize file (we'll keep the max prize):\n",
      "05:41:58 - OI2: INFO - []\n",
      "05:41:58 - OI2: INFO - Members of the prize file not present in the interactome:\n",
      "05:41:58 - OI2: INFO - []\n"
     ]
    },
    {
     "name": "stdout",
     "output_type": "stream",
     "text": [
      "progress = 53.300000000000004%\n"
     ]
    },
    {
     "name": "stderr",
     "output_type": "stream",
     "text": [
      "05:42:01 - OI2: INFO - Duplicated gene symbols in the prize file (we'll keep the max prize):\n",
      "05:42:01 - OI2: INFO - []\n",
      "05:42:01 - OI2: INFO - Members of the prize file not present in the interactome:\n",
      "05:42:01 - OI2: INFO - []\n"
     ]
    },
    {
     "name": "stdout",
     "output_type": "stream",
     "text": [
      "progress = 53.400000000000006%\n"
     ]
    },
    {
     "name": "stderr",
     "output_type": "stream",
     "text": [
      "05:42:05 - OI2: INFO - Duplicated gene symbols in the prize file (we'll keep the max prize):\n",
      "05:42:05 - OI2: INFO - []\n",
      "05:42:05 - OI2: INFO - Members of the prize file not present in the interactome:\n",
      "05:42:05 - OI2: INFO - []\n"
     ]
    },
    {
     "name": "stdout",
     "output_type": "stream",
     "text": [
      "progress = 53.5%\n"
     ]
    },
    {
     "name": "stderr",
     "output_type": "stream",
     "text": [
      "05:42:09 - OI2: INFO - Duplicated gene symbols in the prize file (we'll keep the max prize):\n",
      "05:42:09 - OI2: INFO - []\n",
      "05:42:09 - OI2: INFO - Members of the prize file not present in the interactome:\n",
      "05:42:09 - OI2: INFO - []\n"
     ]
    },
    {
     "name": "stdout",
     "output_type": "stream",
     "text": [
      "progress = 53.6%\n"
     ]
    },
    {
     "name": "stderr",
     "output_type": "stream",
     "text": [
      "05:42:13 - OI2: INFO - Duplicated gene symbols in the prize file (we'll keep the max prize):\n",
      "05:42:13 - OI2: INFO - []\n",
      "05:42:13 - OI2: INFO - Members of the prize file not present in the interactome:\n",
      "05:42:13 - OI2: INFO - []\n"
     ]
    },
    {
     "name": "stdout",
     "output_type": "stream",
     "text": [
      "progress = 53.7%\n"
     ]
    },
    {
     "name": "stderr",
     "output_type": "stream",
     "text": [
      "05:42:16 - OI2: INFO - Duplicated gene symbols in the prize file (we'll keep the max prize):\n",
      "05:42:16 - OI2: INFO - []\n",
      "05:42:16 - OI2: INFO - Members of the prize file not present in the interactome:\n",
      "05:42:16 - OI2: INFO - []\n"
     ]
    },
    {
     "name": "stdout",
     "output_type": "stream",
     "text": [
      "progress = 53.800000000000004%\n"
     ]
    },
    {
     "name": "stderr",
     "output_type": "stream",
     "text": [
      "05:42:20 - OI2: INFO - Duplicated gene symbols in the prize file (we'll keep the max prize):\n",
      "05:42:20 - OI2: INFO - []\n",
      "05:42:20 - OI2: INFO - Members of the prize file not present in the interactome:\n",
      "05:42:20 - OI2: INFO - []\n"
     ]
    },
    {
     "name": "stdout",
     "output_type": "stream",
     "text": [
      "progress = 53.900000000000006%\n"
     ]
    },
    {
     "name": "stderr",
     "output_type": "stream",
     "text": [
      "05:42:24 - OI2: INFO - Duplicated gene symbols in the prize file (we'll keep the max prize):\n",
      "05:42:24 - OI2: INFO - []\n",
      "05:42:24 - OI2: INFO - Members of the prize file not present in the interactome:\n",
      "05:42:24 - OI2: INFO - []\n"
     ]
    },
    {
     "name": "stdout",
     "output_type": "stream",
     "text": [
      "progress = 54.0%\n"
     ]
    },
    {
     "name": "stderr",
     "output_type": "stream",
     "text": [
      "05:42:28 - OI2: INFO - Duplicated gene symbols in the prize file (we'll keep the max prize):\n",
      "05:42:28 - OI2: INFO - []\n",
      "05:42:28 - OI2: INFO - Members of the prize file not present in the interactome:\n",
      "05:42:28 - OI2: INFO - []\n"
     ]
    },
    {
     "name": "stdout",
     "output_type": "stream",
     "text": [
      "progress = 54.1%\n"
     ]
    },
    {
     "name": "stderr",
     "output_type": "stream",
     "text": [
      "05:42:31 - OI2: INFO - Duplicated gene symbols in the prize file (we'll keep the max prize):\n",
      "05:42:31 - OI2: INFO - []\n",
      "05:42:31 - OI2: INFO - Members of the prize file not present in the interactome:\n",
      "05:42:31 - OI2: INFO - []\n"
     ]
    },
    {
     "name": "stdout",
     "output_type": "stream",
     "text": [
      "progress = 54.2%\n"
     ]
    },
    {
     "name": "stderr",
     "output_type": "stream",
     "text": [
      "05:42:35 - OI2: INFO - Duplicated gene symbols in the prize file (we'll keep the max prize):\n",
      "05:42:35 - OI2: INFO - []\n",
      "05:42:35 - OI2: INFO - Members of the prize file not present in the interactome:\n",
      "05:42:35 - OI2: INFO - []\n"
     ]
    },
    {
     "name": "stdout",
     "output_type": "stream",
     "text": [
      "progress = 54.300000000000004%\n"
     ]
    },
    {
     "name": "stderr",
     "output_type": "stream",
     "text": [
      "05:42:39 - OI2: INFO - Duplicated gene symbols in the prize file (we'll keep the max prize):\n",
      "05:42:39 - OI2: INFO - []\n",
      "05:42:39 - OI2: INFO - Members of the prize file not present in the interactome:\n",
      "05:42:39 - OI2: INFO - []\n"
     ]
    },
    {
     "name": "stdout",
     "output_type": "stream",
     "text": [
      "progress = 54.400000000000006%\n"
     ]
    },
    {
     "name": "stderr",
     "output_type": "stream",
     "text": [
      "05:42:43 - OI2: INFO - Duplicated gene symbols in the prize file (we'll keep the max prize):\n",
      "05:42:43 - OI2: INFO - []\n",
      "05:42:43 - OI2: INFO - Members of the prize file not present in the interactome:\n",
      "05:42:43 - OI2: INFO - []\n"
     ]
    },
    {
     "name": "stdout",
     "output_type": "stream",
     "text": [
      "progress = 54.50000000000001%\n"
     ]
    },
    {
     "name": "stderr",
     "output_type": "stream",
     "text": [
      "05:42:46 - OI2: INFO - Duplicated gene symbols in the prize file (we'll keep the max prize):\n",
      "05:42:46 - OI2: INFO - []\n",
      "05:42:46 - OI2: INFO - Members of the prize file not present in the interactome:\n",
      "05:42:46 - OI2: INFO - []\n"
     ]
    },
    {
     "name": "stdout",
     "output_type": "stream",
     "text": [
      "progress = 54.6%\n"
     ]
    },
    {
     "name": "stderr",
     "output_type": "stream",
     "text": [
      "05:42:50 - OI2: INFO - Duplicated gene symbols in the prize file (we'll keep the max prize):\n",
      "05:42:50 - OI2: INFO - []\n",
      "05:42:50 - OI2: INFO - Members of the prize file not present in the interactome:\n",
      "05:42:50 - OI2: INFO - []\n"
     ]
    },
    {
     "name": "stdout",
     "output_type": "stream",
     "text": [
      "progress = 54.7%\n"
     ]
    },
    {
     "name": "stderr",
     "output_type": "stream",
     "text": [
      "05:42:54 - OI2: INFO - Duplicated gene symbols in the prize file (we'll keep the max prize):\n",
      "05:42:54 - OI2: INFO - []\n",
      "05:42:54 - OI2: INFO - Members of the prize file not present in the interactome:\n",
      "05:42:54 - OI2: INFO - []\n"
     ]
    },
    {
     "name": "stdout",
     "output_type": "stream",
     "text": [
      "progress = 54.800000000000004%\n"
     ]
    },
    {
     "name": "stderr",
     "output_type": "stream",
     "text": [
      "05:42:58 - OI2: INFO - Duplicated gene symbols in the prize file (we'll keep the max prize):\n",
      "05:42:58 - OI2: INFO - []\n",
      "05:42:58 - OI2: INFO - Members of the prize file not present in the interactome:\n",
      "05:42:58 - OI2: INFO - []\n"
     ]
    },
    {
     "name": "stdout",
     "output_type": "stream",
     "text": [
      "progress = 54.900000000000006%\n"
     ]
    },
    {
     "name": "stderr",
     "output_type": "stream",
     "text": [
      "05:43:02 - OI2: INFO - Duplicated gene symbols in the prize file (we'll keep the max prize):\n",
      "05:43:02 - OI2: INFO - []\n",
      "05:43:02 - OI2: INFO - Members of the prize file not present in the interactome:\n",
      "05:43:02 - OI2: INFO - []\n"
     ]
    },
    {
     "name": "stdout",
     "output_type": "stream",
     "text": [
      "progress = 55.00000000000001%\n"
     ]
    },
    {
     "name": "stderr",
     "output_type": "stream",
     "text": [
      "05:43:06 - OI2: INFO - Duplicated gene symbols in the prize file (we'll keep the max prize):\n",
      "05:43:06 - OI2: INFO - []\n",
      "05:43:06 - OI2: INFO - Members of the prize file not present in the interactome:\n",
      "05:43:06 - OI2: INFO - []\n"
     ]
    },
    {
     "name": "stdout",
     "output_type": "stream",
     "text": [
      "progress = 55.1%\n"
     ]
    },
    {
     "name": "stderr",
     "output_type": "stream",
     "text": [
      "05:43:09 - OI2: INFO - Duplicated gene symbols in the prize file (we'll keep the max prize):\n",
      "05:43:09 - OI2: INFO - []\n",
      "05:43:09 - OI2: INFO - Members of the prize file not present in the interactome:\n",
      "05:43:09 - OI2: INFO - []\n"
     ]
    },
    {
     "name": "stdout",
     "output_type": "stream",
     "text": [
      "progress = 55.2%\n"
     ]
    },
    {
     "name": "stderr",
     "output_type": "stream",
     "text": [
      "05:43:13 - OI2: INFO - Duplicated gene symbols in the prize file (we'll keep the max prize):\n",
      "05:43:13 - OI2: INFO - []\n",
      "05:43:13 - OI2: INFO - Members of the prize file not present in the interactome:\n",
      "05:43:13 - OI2: INFO - []\n"
     ]
    },
    {
     "name": "stdout",
     "output_type": "stream",
     "text": [
      "progress = 55.300000000000004%\n"
     ]
    },
    {
     "name": "stderr",
     "output_type": "stream",
     "text": [
      "05:43:17 - OI2: INFO - Duplicated gene symbols in the prize file (we'll keep the max prize):\n",
      "05:43:17 - OI2: INFO - []\n",
      "05:43:17 - OI2: INFO - Members of the prize file not present in the interactome:\n",
      "05:43:17 - OI2: INFO - []\n"
     ]
    },
    {
     "name": "stdout",
     "output_type": "stream",
     "text": [
      "progress = 55.400000000000006%\n"
     ]
    },
    {
     "name": "stderr",
     "output_type": "stream",
     "text": [
      "05:43:21 - OI2: INFO - Duplicated gene symbols in the prize file (we'll keep the max prize):\n",
      "05:43:21 - OI2: INFO - []\n",
      "05:43:21 - OI2: INFO - Members of the prize file not present in the interactome:\n",
      "05:43:21 - OI2: INFO - []\n"
     ]
    },
    {
     "name": "stdout",
     "output_type": "stream",
     "text": [
      "progress = 55.50000000000001%\n"
     ]
    },
    {
     "name": "stderr",
     "output_type": "stream",
     "text": [
      "05:43:25 - OI2: INFO - Duplicated gene symbols in the prize file (we'll keep the max prize):\n",
      "05:43:25 - OI2: INFO - []\n",
      "05:43:25 - OI2: INFO - Members of the prize file not present in the interactome:\n",
      "05:43:25 - OI2: INFO - []\n"
     ]
    },
    {
     "name": "stdout",
     "output_type": "stream",
     "text": [
      "progress = 55.60000000000001%\n"
     ]
    },
    {
     "name": "stderr",
     "output_type": "stream",
     "text": [
      "05:43:28 - OI2: INFO - Duplicated gene symbols in the prize file (we'll keep the max prize):\n",
      "05:43:28 - OI2: INFO - []\n",
      "05:43:28 - OI2: INFO - Members of the prize file not present in the interactome:\n",
      "05:43:28 - OI2: INFO - []\n"
     ]
    },
    {
     "name": "stdout",
     "output_type": "stream",
     "text": [
      "progress = 55.7%\n"
     ]
    },
    {
     "name": "stderr",
     "output_type": "stream",
     "text": [
      "05:43:32 - OI2: INFO - Duplicated gene symbols in the prize file (we'll keep the max prize):\n",
      "05:43:32 - OI2: INFO - []\n",
      "05:43:32 - OI2: INFO - Members of the prize file not present in the interactome:\n",
      "05:43:32 - OI2: INFO - []\n"
     ]
    },
    {
     "name": "stdout",
     "output_type": "stream",
     "text": [
      "progress = 55.800000000000004%\n"
     ]
    },
    {
     "name": "stderr",
     "output_type": "stream",
     "text": [
      "05:43:36 - OI2: INFO - Duplicated gene symbols in the prize file (we'll keep the max prize):\n",
      "05:43:36 - OI2: INFO - []\n",
      "05:43:36 - OI2: INFO - Members of the prize file not present in the interactome:\n",
      "05:43:36 - OI2: INFO - []\n"
     ]
    },
    {
     "name": "stdout",
     "output_type": "stream",
     "text": [
      "progress = 55.900000000000006%\n"
     ]
    },
    {
     "name": "stderr",
     "output_type": "stream",
     "text": [
      "05:43:40 - OI2: INFO - Duplicated gene symbols in the prize file (we'll keep the max prize):\n",
      "05:43:40 - OI2: INFO - []\n",
      "05:43:40 - OI2: INFO - Members of the prize file not present in the interactome:\n",
      "05:43:40 - OI2: INFO - []\n"
     ]
    },
    {
     "name": "stdout",
     "output_type": "stream",
     "text": [
      "progress = 56.00000000000001%\n"
     ]
    },
    {
     "name": "stderr",
     "output_type": "stream",
     "text": [
      "05:43:44 - OI2: INFO - Duplicated gene symbols in the prize file (we'll keep the max prize):\n",
      "05:43:44 - OI2: INFO - []\n",
      "05:43:44 - OI2: INFO - Members of the prize file not present in the interactome:\n",
      "05:43:44 - OI2: INFO - []\n"
     ]
    },
    {
     "name": "stdout",
     "output_type": "stream",
     "text": [
      "progress = 56.10000000000001%\n"
     ]
    },
    {
     "name": "stderr",
     "output_type": "stream",
     "text": [
      "05:43:47 - OI2: INFO - Duplicated gene symbols in the prize file (we'll keep the max prize):\n",
      "05:43:47 - OI2: INFO - []\n",
      "05:43:47 - OI2: INFO - Members of the prize file not present in the interactome:\n",
      "05:43:47 - OI2: INFO - []\n"
     ]
    },
    {
     "name": "stdout",
     "output_type": "stream",
     "text": [
      "progress = 56.2%\n"
     ]
    },
    {
     "name": "stderr",
     "output_type": "stream",
     "text": [
      "05:43:51 - OI2: INFO - Duplicated gene symbols in the prize file (we'll keep the max prize):\n",
      "05:43:51 - OI2: INFO - []\n",
      "05:43:51 - OI2: INFO - Members of the prize file not present in the interactome:\n",
      "05:43:51 - OI2: INFO - []\n"
     ]
    },
    {
     "name": "stdout",
     "output_type": "stream",
     "text": [
      "progress = 56.3%\n"
     ]
    },
    {
     "name": "stderr",
     "output_type": "stream",
     "text": [
      "05:43:55 - OI2: INFO - Duplicated gene symbols in the prize file (we'll keep the max prize):\n",
      "05:43:55 - OI2: INFO - []\n",
      "05:43:55 - OI2: INFO - Members of the prize file not present in the interactome:\n",
      "05:43:55 - OI2: INFO - []\n"
     ]
    },
    {
     "name": "stdout",
     "output_type": "stream",
     "text": [
      "progress = 56.39999999999999%\n"
     ]
    },
    {
     "name": "stderr",
     "output_type": "stream",
     "text": [
      "05:43:58 - OI2: INFO - Duplicated gene symbols in the prize file (we'll keep the max prize):\n",
      "05:43:58 - OI2: INFO - []\n",
      "05:43:59 - OI2: INFO - Members of the prize file not present in the interactome:\n",
      "05:43:59 - OI2: INFO - []\n"
     ]
    },
    {
     "name": "stdout",
     "output_type": "stream",
     "text": [
      "progress = 56.49999999999999%\n"
     ]
    },
    {
     "name": "stderr",
     "output_type": "stream",
     "text": [
      "05:44:02 - OI2: INFO - Duplicated gene symbols in the prize file (we'll keep the max prize):\n",
      "05:44:02 - OI2: INFO - []\n",
      "05:44:02 - OI2: INFO - Members of the prize file not present in the interactome:\n",
      "05:44:02 - OI2: INFO - []\n"
     ]
    },
    {
     "name": "stdout",
     "output_type": "stream",
     "text": [
      "progress = 56.599999999999994%\n"
     ]
    },
    {
     "name": "stderr",
     "output_type": "stream",
     "text": [
      "05:44:06 - OI2: INFO - Duplicated gene symbols in the prize file (we'll keep the max prize):\n",
      "05:44:06 - OI2: INFO - []\n",
      "05:44:06 - OI2: INFO - Members of the prize file not present in the interactome:\n",
      "05:44:06 - OI2: INFO - []\n"
     ]
    },
    {
     "name": "stdout",
     "output_type": "stream",
     "text": [
      "progress = 56.699999999999996%\n"
     ]
    },
    {
     "name": "stderr",
     "output_type": "stream",
     "text": [
      "05:44:10 - OI2: INFO - Duplicated gene symbols in the prize file (we'll keep the max prize):\n",
      "05:44:10 - OI2: INFO - []\n",
      "05:44:10 - OI2: INFO - Members of the prize file not present in the interactome:\n",
      "05:44:10 - OI2: INFO - []\n"
     ]
    },
    {
     "name": "stdout",
     "output_type": "stream",
     "text": [
      "progress = 56.8%\n"
     ]
    },
    {
     "name": "stderr",
     "output_type": "stream",
     "text": [
      "05:44:14 - OI2: INFO - Duplicated gene symbols in the prize file (we'll keep the max prize):\n",
      "05:44:14 - OI2: INFO - []\n",
      "05:44:14 - OI2: INFO - Members of the prize file not present in the interactome:\n",
      "05:44:14 - OI2: INFO - []\n"
     ]
    },
    {
     "name": "stdout",
     "output_type": "stream",
     "text": [
      "progress = 56.89999999999999%\n"
     ]
    },
    {
     "name": "stderr",
     "output_type": "stream",
     "text": [
      "05:44:18 - OI2: INFO - Duplicated gene symbols in the prize file (we'll keep the max prize):\n",
      "05:44:18 - OI2: INFO - []\n",
      "05:44:18 - OI2: INFO - Members of the prize file not present in the interactome:\n",
      "05:44:18 - OI2: INFO - []\n"
     ]
    },
    {
     "name": "stdout",
     "output_type": "stream",
     "text": [
      "progress = 56.99999999999999%\n"
     ]
    },
    {
     "name": "stderr",
     "output_type": "stream",
     "text": [
      "05:44:21 - OI2: INFO - Duplicated gene symbols in the prize file (we'll keep the max prize):\n",
      "05:44:21 - OI2: INFO - []\n",
      "05:44:21 - OI2: INFO - Members of the prize file not present in the interactome:\n",
      "05:44:21 - OI2: INFO - []\n"
     ]
    },
    {
     "name": "stdout",
     "output_type": "stream",
     "text": [
      "progress = 57.099999999999994%\n"
     ]
    },
    {
     "name": "stderr",
     "output_type": "stream",
     "text": [
      "05:44:25 - OI2: INFO - Duplicated gene symbols in the prize file (we'll keep the max prize):\n",
      "05:44:25 - OI2: INFO - []\n",
      "05:44:25 - OI2: INFO - Members of the prize file not present in the interactome:\n",
      "05:44:25 - OI2: INFO - []\n"
     ]
    },
    {
     "name": "stdout",
     "output_type": "stream",
     "text": [
      "progress = 57.199999999999996%\n"
     ]
    },
    {
     "name": "stderr",
     "output_type": "stream",
     "text": [
      "05:44:29 - OI2: INFO - Duplicated gene symbols in the prize file (we'll keep the max prize):\n",
      "05:44:29 - OI2: INFO - []\n",
      "05:44:29 - OI2: INFO - Members of the prize file not present in the interactome:\n",
      "05:44:29 - OI2: INFO - []\n"
     ]
    },
    {
     "name": "stdout",
     "output_type": "stream",
     "text": [
      "progress = 57.3%\n"
     ]
    },
    {
     "name": "stderr",
     "output_type": "stream",
     "text": [
      "05:44:33 - OI2: INFO - Duplicated gene symbols in the prize file (we'll keep the max prize):\n",
      "05:44:33 - OI2: INFO - []\n",
      "05:44:33 - OI2: INFO - Members of the prize file not present in the interactome:\n",
      "05:44:33 - OI2: INFO - []\n"
     ]
    },
    {
     "name": "stdout",
     "output_type": "stream",
     "text": [
      "progress = 57.4%\n"
     ]
    },
    {
     "name": "stderr",
     "output_type": "stream",
     "text": [
      "05:44:37 - OI2: INFO - Duplicated gene symbols in the prize file (we'll keep the max prize):\n",
      "05:44:37 - OI2: INFO - []\n",
      "05:44:37 - OI2: INFO - Members of the prize file not present in the interactome:\n",
      "05:44:37 - OI2: INFO - []\n"
     ]
    },
    {
     "name": "stdout",
     "output_type": "stream",
     "text": [
      "progress = 57.49999999999999%\n"
     ]
    },
    {
     "name": "stderr",
     "output_type": "stream",
     "text": [
      "05:44:40 - OI2: INFO - Duplicated gene symbols in the prize file (we'll keep the max prize):\n",
      "05:44:40 - OI2: INFO - []\n",
      "05:44:40 - OI2: INFO - Members of the prize file not present in the interactome:\n",
      "05:44:40 - OI2: INFO - []\n"
     ]
    },
    {
     "name": "stdout",
     "output_type": "stream",
     "text": [
      "progress = 57.599999999999994%\n"
     ]
    },
    {
     "name": "stderr",
     "output_type": "stream",
     "text": [
      "05:44:44 - OI2: INFO - Duplicated gene symbols in the prize file (we'll keep the max prize):\n",
      "05:44:44 - OI2: INFO - []\n",
      "05:44:44 - OI2: INFO - Members of the prize file not present in the interactome:\n",
      "05:44:44 - OI2: INFO - []\n"
     ]
    },
    {
     "name": "stdout",
     "output_type": "stream",
     "text": [
      "progress = 57.699999999999996%\n"
     ]
    },
    {
     "name": "stderr",
     "output_type": "stream",
     "text": [
      "05:44:48 - OI2: INFO - Duplicated gene symbols in the prize file (we'll keep the max prize):\n",
      "05:44:48 - OI2: INFO - []\n",
      "05:44:48 - OI2: INFO - Members of the prize file not present in the interactome:\n",
      "05:44:48 - OI2: INFO - []\n"
     ]
    },
    {
     "name": "stdout",
     "output_type": "stream",
     "text": [
      "progress = 57.8%\n"
     ]
    },
    {
     "name": "stderr",
     "output_type": "stream",
     "text": [
      "05:44:52 - OI2: INFO - Duplicated gene symbols in the prize file (we'll keep the max prize):\n",
      "05:44:52 - OI2: INFO - []\n",
      "05:44:52 - OI2: INFO - Members of the prize file not present in the interactome:\n",
      "05:44:52 - OI2: INFO - []\n"
     ]
    },
    {
     "name": "stdout",
     "output_type": "stream",
     "text": [
      "progress = 57.9%\n"
     ]
    },
    {
     "name": "stderr",
     "output_type": "stream",
     "text": [
      "05:44:56 - OI2: INFO - Duplicated gene symbols in the prize file (we'll keep the max prize):\n",
      "05:44:56 - OI2: INFO - []\n",
      "05:44:56 - OI2: INFO - Members of the prize file not present in the interactome:\n",
      "05:44:56 - OI2: INFO - []\n"
     ]
    },
    {
     "name": "stdout",
     "output_type": "stream",
     "text": [
      "progress = 57.99999999999999%\n"
     ]
    },
    {
     "name": "stderr",
     "output_type": "stream",
     "text": [
      "05:44:59 - OI2: INFO - Duplicated gene symbols in the prize file (we'll keep the max prize):\n",
      "05:44:59 - OI2: INFO - []\n",
      "05:44:59 - OI2: INFO - Members of the prize file not present in the interactome:\n",
      "05:44:59 - OI2: INFO - []\n"
     ]
    },
    {
     "name": "stdout",
     "output_type": "stream",
     "text": [
      "progress = 58.099999999999994%\n"
     ]
    },
    {
     "name": "stderr",
     "output_type": "stream",
     "text": [
      "05:45:03 - OI2: INFO - Duplicated gene symbols in the prize file (we'll keep the max prize):\n",
      "05:45:03 - OI2: INFO - []\n",
      "05:45:03 - OI2: INFO - Members of the prize file not present in the interactome:\n",
      "05:45:03 - OI2: INFO - []\n"
     ]
    },
    {
     "name": "stdout",
     "output_type": "stream",
     "text": [
      "progress = 58.199999999999996%\n"
     ]
    },
    {
     "name": "stderr",
     "output_type": "stream",
     "text": [
      "05:45:07 - OI2: INFO - Duplicated gene symbols in the prize file (we'll keep the max prize):\n",
      "05:45:07 - OI2: INFO - []\n",
      "05:45:07 - OI2: INFO - Members of the prize file not present in the interactome:\n",
      "05:45:07 - OI2: INFO - []\n"
     ]
    },
    {
     "name": "stdout",
     "output_type": "stream",
     "text": [
      "progress = 58.3%\n"
     ]
    },
    {
     "name": "stderr",
     "output_type": "stream",
     "text": [
      "05:45:11 - OI2: INFO - Duplicated gene symbols in the prize file (we'll keep the max prize):\n",
      "05:45:11 - OI2: INFO - []\n",
      "05:45:11 - OI2: INFO - Members of the prize file not present in the interactome:\n",
      "05:45:11 - OI2: INFO - []\n"
     ]
    },
    {
     "name": "stdout",
     "output_type": "stream",
     "text": [
      "progress = 58.4%\n"
     ]
    },
    {
     "name": "stderr",
     "output_type": "stream",
     "text": [
      "05:45:15 - OI2: INFO - Duplicated gene symbols in the prize file (we'll keep the max prize):\n",
      "05:45:15 - OI2: INFO - []\n",
      "05:45:15 - OI2: INFO - Members of the prize file not present in the interactome:\n",
      "05:45:15 - OI2: INFO - []\n"
     ]
    },
    {
     "name": "stdout",
     "output_type": "stream",
     "text": [
      "progress = 58.5%\n"
     ]
    },
    {
     "name": "stderr",
     "output_type": "stream",
     "text": [
      "05:45:18 - OI2: INFO - Duplicated gene symbols in the prize file (we'll keep the max prize):\n",
      "05:45:18 - OI2: INFO - []\n",
      "05:45:18 - OI2: INFO - Members of the prize file not present in the interactome:\n",
      "05:45:18 - OI2: INFO - []\n"
     ]
    },
    {
     "name": "stdout",
     "output_type": "stream",
     "text": [
      "progress = 58.599999999999994%\n"
     ]
    },
    {
     "name": "stderr",
     "output_type": "stream",
     "text": [
      "05:45:22 - OI2: INFO - Duplicated gene symbols in the prize file (we'll keep the max prize):\n",
      "05:45:22 - OI2: INFO - []\n",
      "05:45:22 - OI2: INFO - Members of the prize file not present in the interactome:\n",
      "05:45:22 - OI2: INFO - []\n"
     ]
    },
    {
     "name": "stdout",
     "output_type": "stream",
     "text": [
      "progress = 58.699999999999996%\n"
     ]
    },
    {
     "name": "stderr",
     "output_type": "stream",
     "text": [
      "05:45:26 - OI2: INFO - Duplicated gene symbols in the prize file (we'll keep the max prize):\n",
      "05:45:26 - OI2: INFO - []\n",
      "05:45:26 - OI2: INFO - Members of the prize file not present in the interactome:\n",
      "05:45:26 - OI2: INFO - []\n"
     ]
    },
    {
     "name": "stdout",
     "output_type": "stream",
     "text": [
      "progress = 58.8%\n"
     ]
    },
    {
     "name": "stderr",
     "output_type": "stream",
     "text": [
      "05:45:29 - OI2: INFO - Duplicated gene symbols in the prize file (we'll keep the max prize):\n",
      "05:45:29 - OI2: INFO - []\n",
      "05:45:29 - OI2: INFO - Members of the prize file not present in the interactome:\n",
      "05:45:29 - OI2: INFO - []\n"
     ]
    },
    {
     "name": "stdout",
     "output_type": "stream",
     "text": [
      "progress = 58.9%\n"
     ]
    },
    {
     "name": "stderr",
     "output_type": "stream",
     "text": [
      "05:45:33 - OI2: INFO - Duplicated gene symbols in the prize file (we'll keep the max prize):\n",
      "05:45:33 - OI2: INFO - []\n",
      "05:45:33 - OI2: INFO - Members of the prize file not present in the interactome:\n",
      "05:45:33 - OI2: INFO - []\n"
     ]
    },
    {
     "name": "stdout",
     "output_type": "stream",
     "text": [
      "progress = 59.0%\n"
     ]
    },
    {
     "name": "stderr",
     "output_type": "stream",
     "text": [
      "05:45:37 - OI2: INFO - Duplicated gene symbols in the prize file (we'll keep the max prize):\n",
      "05:45:37 - OI2: INFO - []\n",
      "05:45:37 - OI2: INFO - Members of the prize file not present in the interactome:\n",
      "05:45:37 - OI2: INFO - []\n"
     ]
    },
    {
     "name": "stdout",
     "output_type": "stream",
     "text": [
      "progress = 59.099999999999994%\n"
     ]
    },
    {
     "name": "stderr",
     "output_type": "stream",
     "text": [
      "05:45:41 - OI2: INFO - Duplicated gene symbols in the prize file (we'll keep the max prize):\n",
      "05:45:41 - OI2: INFO - []\n",
      "05:45:41 - OI2: INFO - Members of the prize file not present in the interactome:\n",
      "05:45:41 - OI2: INFO - []\n"
     ]
    },
    {
     "name": "stdout",
     "output_type": "stream",
     "text": [
      "progress = 59.199999999999996%\n"
     ]
    },
    {
     "name": "stderr",
     "output_type": "stream",
     "text": [
      "05:45:45 - OI2: INFO - Duplicated gene symbols in the prize file (we'll keep the max prize):\n",
      "05:45:45 - OI2: INFO - []\n",
      "05:45:45 - OI2: INFO - Members of the prize file not present in the interactome:\n",
      "05:45:45 - OI2: INFO - []\n"
     ]
    },
    {
     "name": "stdout",
     "output_type": "stream",
     "text": [
      "progress = 59.3%\n"
     ]
    },
    {
     "name": "stderr",
     "output_type": "stream",
     "text": [
      "05:45:48 - OI2: INFO - Duplicated gene symbols in the prize file (we'll keep the max prize):\n",
      "05:45:48 - OI2: INFO - []\n",
      "05:45:48 - OI2: INFO - Members of the prize file not present in the interactome:\n",
      "05:45:48 - OI2: INFO - []\n"
     ]
    },
    {
     "name": "stdout",
     "output_type": "stream",
     "text": [
      "progress = 59.4%\n"
     ]
    },
    {
     "name": "stderr",
     "output_type": "stream",
     "text": [
      "05:45:52 - OI2: INFO - Duplicated gene symbols in the prize file (we'll keep the max prize):\n",
      "05:45:52 - OI2: INFO - []\n",
      "05:45:52 - OI2: INFO - Members of the prize file not present in the interactome:\n",
      "05:45:52 - OI2: INFO - []\n"
     ]
    },
    {
     "name": "stdout",
     "output_type": "stream",
     "text": [
      "progress = 59.5%\n"
     ]
    },
    {
     "name": "stderr",
     "output_type": "stream",
     "text": [
      "05:45:56 - OI2: INFO - Duplicated gene symbols in the prize file (we'll keep the max prize):\n",
      "05:45:56 - OI2: INFO - []\n",
      "05:45:56 - OI2: INFO - Members of the prize file not present in the interactome:\n",
      "05:45:56 - OI2: INFO - []\n"
     ]
    },
    {
     "name": "stdout",
     "output_type": "stream",
     "text": [
      "progress = 59.599999999999994%\n"
     ]
    },
    {
     "name": "stderr",
     "output_type": "stream",
     "text": [
      "05:46:00 - OI2: INFO - Duplicated gene symbols in the prize file (we'll keep the max prize):\n",
      "05:46:00 - OI2: INFO - []\n",
      "05:46:00 - OI2: INFO - Members of the prize file not present in the interactome:\n",
      "05:46:00 - OI2: INFO - []\n"
     ]
    },
    {
     "name": "stdout",
     "output_type": "stream",
     "text": [
      "progress = 59.699999999999996%\n"
     ]
    },
    {
     "name": "stderr",
     "output_type": "stream",
     "text": [
      "05:46:03 - OI2: INFO - Duplicated gene symbols in the prize file (we'll keep the max prize):\n",
      "05:46:03 - OI2: INFO - []\n",
      "05:46:03 - OI2: INFO - Members of the prize file not present in the interactome:\n",
      "05:46:03 - OI2: INFO - []\n"
     ]
    },
    {
     "name": "stdout",
     "output_type": "stream",
     "text": [
      "progress = 59.8%\n"
     ]
    },
    {
     "name": "stderr",
     "output_type": "stream",
     "text": [
      "05:46:07 - OI2: INFO - Duplicated gene symbols in the prize file (we'll keep the max prize):\n",
      "05:46:07 - OI2: INFO - []\n",
      "05:46:07 - OI2: INFO - Members of the prize file not present in the interactome:\n",
      "05:46:07 - OI2: INFO - []\n"
     ]
    },
    {
     "name": "stdout",
     "output_type": "stream",
     "text": [
      "progress = 59.9%\n"
     ]
    },
    {
     "name": "stderr",
     "output_type": "stream",
     "text": [
      "05:46:11 - OI2: INFO - Duplicated gene symbols in the prize file (we'll keep the max prize):\n",
      "05:46:11 - OI2: INFO - []\n",
      "05:46:11 - OI2: INFO - Members of the prize file not present in the interactome:\n",
      "05:46:11 - OI2: INFO - []\n"
     ]
    },
    {
     "name": "stdout",
     "output_type": "stream",
     "text": [
      "progress = 60.0%\n"
     ]
    },
    {
     "name": "stderr",
     "output_type": "stream",
     "text": [
      "05:46:15 - OI2: INFO - Duplicated gene symbols in the prize file (we'll keep the max prize):\n",
      "05:46:15 - OI2: INFO - []\n",
      "05:46:15 - OI2: INFO - Members of the prize file not present in the interactome:\n",
      "05:46:15 - OI2: INFO - []\n"
     ]
    },
    {
     "name": "stdout",
     "output_type": "stream",
     "text": [
      "progress = 60.099999999999994%\n"
     ]
    },
    {
     "name": "stderr",
     "output_type": "stream",
     "text": [
      "05:46:19 - OI2: INFO - Duplicated gene symbols in the prize file (we'll keep the max prize):\n",
      "05:46:19 - OI2: INFO - []\n",
      "05:46:19 - OI2: INFO - Members of the prize file not present in the interactome:\n",
      "05:46:19 - OI2: INFO - []\n"
     ]
    },
    {
     "name": "stdout",
     "output_type": "stream",
     "text": [
      "progress = 60.199999999999996%\n"
     ]
    },
    {
     "name": "stderr",
     "output_type": "stream",
     "text": [
      "05:46:22 - OI2: INFO - Duplicated gene symbols in the prize file (we'll keep the max prize):\n",
      "05:46:22 - OI2: INFO - []\n",
      "05:46:22 - OI2: INFO - Members of the prize file not present in the interactome:\n",
      "05:46:22 - OI2: INFO - []\n"
     ]
    },
    {
     "name": "stdout",
     "output_type": "stream",
     "text": [
      "progress = 60.3%\n"
     ]
    },
    {
     "name": "stderr",
     "output_type": "stream",
     "text": [
      "05:46:26 - OI2: INFO - Duplicated gene symbols in the prize file (we'll keep the max prize):\n",
      "05:46:26 - OI2: INFO - []\n",
      "05:46:26 - OI2: INFO - Members of the prize file not present in the interactome:\n",
      "05:46:26 - OI2: INFO - []\n"
     ]
    },
    {
     "name": "stdout",
     "output_type": "stream",
     "text": [
      "progress = 60.4%\n"
     ]
    },
    {
     "name": "stderr",
     "output_type": "stream",
     "text": [
      "05:46:30 - OI2: INFO - Duplicated gene symbols in the prize file (we'll keep the max prize):\n",
      "05:46:30 - OI2: INFO - []\n",
      "05:46:30 - OI2: INFO - Members of the prize file not present in the interactome:\n",
      "05:46:30 - OI2: INFO - []\n"
     ]
    },
    {
     "name": "stdout",
     "output_type": "stream",
     "text": [
      "progress = 60.5%\n"
     ]
    },
    {
     "name": "stderr",
     "output_type": "stream",
     "text": [
      "05:46:34 - OI2: INFO - Duplicated gene symbols in the prize file (we'll keep the max prize):\n",
      "05:46:34 - OI2: INFO - []\n",
      "05:46:34 - OI2: INFO - Members of the prize file not present in the interactome:\n",
      "05:46:34 - OI2: INFO - []\n"
     ]
    },
    {
     "name": "stdout",
     "output_type": "stream",
     "text": [
      "progress = 60.6%\n"
     ]
    },
    {
     "name": "stderr",
     "output_type": "stream",
     "text": [
      "05:46:38 - OI2: INFO - Duplicated gene symbols in the prize file (we'll keep the max prize):\n",
      "05:46:38 - OI2: INFO - []\n",
      "05:46:38 - OI2: INFO - Members of the prize file not present in the interactome:\n",
      "05:46:38 - OI2: INFO - []\n"
     ]
    },
    {
     "name": "stdout",
     "output_type": "stream",
     "text": [
      "progress = 60.699999999999996%\n"
     ]
    },
    {
     "name": "stderr",
     "output_type": "stream",
     "text": [
      "05:46:41 - OI2: INFO - Duplicated gene symbols in the prize file (we'll keep the max prize):\n",
      "05:46:41 - OI2: INFO - []\n",
      "05:46:41 - OI2: INFO - Members of the prize file not present in the interactome:\n",
      "05:46:41 - OI2: INFO - []\n"
     ]
    },
    {
     "name": "stdout",
     "output_type": "stream",
     "text": [
      "progress = 60.8%\n"
     ]
    },
    {
     "name": "stderr",
     "output_type": "stream",
     "text": [
      "05:46:45 - OI2: INFO - Duplicated gene symbols in the prize file (we'll keep the max prize):\n",
      "05:46:45 - OI2: INFO - []\n",
      "05:46:45 - OI2: INFO - Members of the prize file not present in the interactome:\n",
      "05:46:45 - OI2: INFO - []\n"
     ]
    },
    {
     "name": "stdout",
     "output_type": "stream",
     "text": [
      "progress = 60.9%\n"
     ]
    },
    {
     "name": "stderr",
     "output_type": "stream",
     "text": [
      "05:46:49 - OI2: INFO - Duplicated gene symbols in the prize file (we'll keep the max prize):\n",
      "05:46:49 - OI2: INFO - []\n",
      "05:46:49 - OI2: INFO - Members of the prize file not present in the interactome:\n",
      "05:46:49 - OI2: INFO - []\n"
     ]
    },
    {
     "name": "stdout",
     "output_type": "stream",
     "text": [
      "progress = 61.0%\n"
     ]
    },
    {
     "name": "stderr",
     "output_type": "stream",
     "text": [
      "05:46:53 - OI2: INFO - Duplicated gene symbols in the prize file (we'll keep the max prize):\n",
      "05:46:53 - OI2: INFO - []\n",
      "05:46:53 - OI2: INFO - Members of the prize file not present in the interactome:\n",
      "05:46:53 - OI2: INFO - []\n"
     ]
    },
    {
     "name": "stdout",
     "output_type": "stream",
     "text": [
      "progress = 61.1%\n"
     ]
    },
    {
     "name": "stderr",
     "output_type": "stream",
     "text": [
      "05:46:56 - OI2: INFO - Duplicated gene symbols in the prize file (we'll keep the max prize):\n",
      "05:46:56 - OI2: INFO - []\n",
      "05:46:56 - OI2: INFO - Members of the prize file not present in the interactome:\n",
      "05:46:56 - OI2: INFO - []\n"
     ]
    },
    {
     "name": "stdout",
     "output_type": "stream",
     "text": [
      "progress = 61.199999999999996%\n"
     ]
    },
    {
     "name": "stderr",
     "output_type": "stream",
     "text": [
      "05:47:00 - OI2: INFO - Duplicated gene symbols in the prize file (we'll keep the max prize):\n",
      "05:47:00 - OI2: INFO - []\n",
      "05:47:00 - OI2: INFO - Members of the prize file not present in the interactome:\n",
      "05:47:00 - OI2: INFO - []\n"
     ]
    },
    {
     "name": "stdout",
     "output_type": "stream",
     "text": [
      "progress = 61.3%\n"
     ]
    },
    {
     "name": "stderr",
     "output_type": "stream",
     "text": [
      "05:47:04 - OI2: INFO - Duplicated gene symbols in the prize file (we'll keep the max prize):\n",
      "05:47:04 - OI2: INFO - []\n",
      "05:47:04 - OI2: INFO - Members of the prize file not present in the interactome:\n",
      "05:47:04 - OI2: INFO - []\n"
     ]
    },
    {
     "name": "stdout",
     "output_type": "stream",
     "text": [
      "progress = 61.4%\n"
     ]
    },
    {
     "name": "stderr",
     "output_type": "stream",
     "text": [
      "05:47:08 - OI2: INFO - Duplicated gene symbols in the prize file (we'll keep the max prize):\n",
      "05:47:08 - OI2: INFO - []\n",
      "05:47:08 - OI2: INFO - Members of the prize file not present in the interactome:\n",
      "05:47:08 - OI2: INFO - []\n"
     ]
    },
    {
     "name": "stdout",
     "output_type": "stream",
     "text": [
      "progress = 61.5%\n"
     ]
    },
    {
     "name": "stderr",
     "output_type": "stream",
     "text": [
      "05:47:12 - OI2: INFO - Duplicated gene symbols in the prize file (we'll keep the max prize):\n",
      "05:47:12 - OI2: INFO - []\n",
      "05:47:12 - OI2: INFO - Members of the prize file not present in the interactome:\n",
      "05:47:12 - OI2: INFO - []\n"
     ]
    },
    {
     "name": "stdout",
     "output_type": "stream",
     "text": [
      "progress = 61.6%\n"
     ]
    },
    {
     "name": "stderr",
     "output_type": "stream",
     "text": [
      "05:47:15 - OI2: INFO - Duplicated gene symbols in the prize file (we'll keep the max prize):\n",
      "05:47:15 - OI2: INFO - []\n",
      "05:47:15 - OI2: INFO - Members of the prize file not present in the interactome:\n",
      "05:47:15 - OI2: INFO - []\n"
     ]
    },
    {
     "name": "stdout",
     "output_type": "stream",
     "text": [
      "progress = 61.7%\n"
     ]
    },
    {
     "name": "stderr",
     "output_type": "stream",
     "text": [
      "05:47:19 - OI2: INFO - Duplicated gene symbols in the prize file (we'll keep the max prize):\n",
      "05:47:19 - OI2: INFO - []\n",
      "05:47:19 - OI2: INFO - Members of the prize file not present in the interactome:\n",
      "05:47:19 - OI2: INFO - []\n"
     ]
    },
    {
     "name": "stdout",
     "output_type": "stream",
     "text": [
      "progress = 61.8%\n"
     ]
    },
    {
     "name": "stderr",
     "output_type": "stream",
     "text": [
      "05:47:23 - OI2: INFO - Duplicated gene symbols in the prize file (we'll keep the max prize):\n",
      "05:47:23 - OI2: INFO - []\n",
      "05:47:23 - OI2: INFO - Members of the prize file not present in the interactome:\n",
      "05:47:23 - OI2: INFO - []\n"
     ]
    },
    {
     "name": "stdout",
     "output_type": "stream",
     "text": [
      "progress = 61.9%\n"
     ]
    },
    {
     "name": "stderr",
     "output_type": "stream",
     "text": [
      "05:47:26 - OI2: INFO - Duplicated gene symbols in the prize file (we'll keep the max prize):\n",
      "05:47:26 - OI2: INFO - []\n",
      "05:47:26 - OI2: INFO - Members of the prize file not present in the interactome:\n",
      "05:47:26 - OI2: INFO - []\n"
     ]
    },
    {
     "name": "stdout",
     "output_type": "stream",
     "text": [
      "progress = 62.0%\n"
     ]
    },
    {
     "name": "stderr",
     "output_type": "stream",
     "text": [
      "05:47:30 - OI2: INFO - Duplicated gene symbols in the prize file (we'll keep the max prize):\n",
      "05:47:30 - OI2: INFO - []\n",
      "05:47:30 - OI2: INFO - Members of the prize file not present in the interactome:\n",
      "05:47:30 - OI2: INFO - []\n"
     ]
    },
    {
     "name": "stdout",
     "output_type": "stream",
     "text": [
      "progress = 62.1%\n"
     ]
    },
    {
     "name": "stderr",
     "output_type": "stream",
     "text": [
      "05:47:35 - OI2: INFO - Duplicated gene symbols in the prize file (we'll keep the max prize):\n",
      "05:47:35 - OI2: INFO - []\n",
      "05:47:35 - OI2: INFO - Members of the prize file not present in the interactome:\n",
      "05:47:35 - OI2: INFO - []\n"
     ]
    },
    {
     "name": "stdout",
     "output_type": "stream",
     "text": [
      "progress = 62.2%\n"
     ]
    },
    {
     "name": "stderr",
     "output_type": "stream",
     "text": [
      "05:47:41 - OI2: INFO - Duplicated gene symbols in the prize file (we'll keep the max prize):\n",
      "05:47:41 - OI2: INFO - []\n",
      "05:47:41 - OI2: INFO - Members of the prize file not present in the interactome:\n",
      "05:47:41 - OI2: INFO - []\n"
     ]
    },
    {
     "name": "stdout",
     "output_type": "stream",
     "text": [
      "progress = 62.3%\n"
     ]
    },
    {
     "name": "stderr",
     "output_type": "stream",
     "text": [
      "05:47:46 - OI2: INFO - Duplicated gene symbols in the prize file (we'll keep the max prize):\n",
      "05:47:46 - OI2: INFO - []\n",
      "05:47:46 - OI2: INFO - Members of the prize file not present in the interactome:\n",
      "05:47:46 - OI2: INFO - []\n"
     ]
    },
    {
     "name": "stdout",
     "output_type": "stream",
     "text": [
      "progress = 62.4%\n"
     ]
    },
    {
     "name": "stderr",
     "output_type": "stream",
     "text": [
      "05:47:54 - OI2: INFO - Duplicated gene symbols in the prize file (we'll keep the max prize):\n",
      "05:47:54 - OI2: INFO - []\n",
      "05:47:54 - OI2: INFO - Members of the prize file not present in the interactome:\n",
      "05:47:54 - OI2: INFO - []\n"
     ]
    },
    {
     "name": "stdout",
     "output_type": "stream",
     "text": [
      "progress = 62.5%\n"
     ]
    },
    {
     "name": "stderr",
     "output_type": "stream",
     "text": [
      "05:48:01 - OI2: INFO - Duplicated gene symbols in the prize file (we'll keep the max prize):\n",
      "05:48:01 - OI2: INFO - []\n",
      "05:48:01 - OI2: INFO - Members of the prize file not present in the interactome:\n",
      "05:48:01 - OI2: INFO - []\n"
     ]
    },
    {
     "name": "stdout",
     "output_type": "stream",
     "text": [
      "progress = 62.6%\n"
     ]
    },
    {
     "name": "stderr",
     "output_type": "stream",
     "text": [
      "05:48:08 - OI2: INFO - Duplicated gene symbols in the prize file (we'll keep the max prize):\n",
      "05:48:08 - OI2: INFO - []\n",
      "05:48:08 - OI2: INFO - Members of the prize file not present in the interactome:\n",
      "05:48:08 - OI2: INFO - []\n"
     ]
    },
    {
     "name": "stdout",
     "output_type": "stream",
     "text": [
      "progress = 62.7%\n"
     ]
    },
    {
     "name": "stderr",
     "output_type": "stream",
     "text": [
      "05:48:14 - OI2: INFO - Duplicated gene symbols in the prize file (we'll keep the max prize):\n",
      "05:48:14 - OI2: INFO - []\n",
      "05:48:14 - OI2: INFO - Members of the prize file not present in the interactome:\n",
      "05:48:14 - OI2: INFO - []\n"
     ]
    },
    {
     "name": "stdout",
     "output_type": "stream",
     "text": [
      "progress = 62.8%\n"
     ]
    },
    {
     "name": "stderr",
     "output_type": "stream",
     "text": [
      "05:48:18 - OI2: INFO - Duplicated gene symbols in the prize file (we'll keep the max prize):\n",
      "05:48:18 - OI2: INFO - []\n",
      "05:48:18 - OI2: INFO - Members of the prize file not present in the interactome:\n",
      "05:48:18 - OI2: INFO - []\n"
     ]
    },
    {
     "name": "stdout",
     "output_type": "stream",
     "text": [
      "progress = 62.9%\n"
     ]
    },
    {
     "name": "stderr",
     "output_type": "stream",
     "text": [
      "05:48:22 - OI2: INFO - Duplicated gene symbols in the prize file (we'll keep the max prize):\n",
      "05:48:22 - OI2: INFO - []\n",
      "05:48:22 - OI2: INFO - Members of the prize file not present in the interactome:\n",
      "05:48:22 - OI2: INFO - []\n"
     ]
    },
    {
     "name": "stdout",
     "output_type": "stream",
     "text": [
      "progress = 63.0%\n"
     ]
    },
    {
     "name": "stderr",
     "output_type": "stream",
     "text": [
      "05:48:26 - OI2: INFO - Duplicated gene symbols in the prize file (we'll keep the max prize):\n",
      "05:48:26 - OI2: INFO - []\n",
      "05:48:26 - OI2: INFO - Members of the prize file not present in the interactome:\n",
      "05:48:26 - OI2: INFO - []\n"
     ]
    },
    {
     "name": "stdout",
     "output_type": "stream",
     "text": [
      "progress = 63.1%\n"
     ]
    },
    {
     "name": "stderr",
     "output_type": "stream",
     "text": [
      "05:48:29 - OI2: INFO - Duplicated gene symbols in the prize file (we'll keep the max prize):\n",
      "05:48:29 - OI2: INFO - []\n",
      "05:48:29 - OI2: INFO - Members of the prize file not present in the interactome:\n",
      "05:48:29 - OI2: INFO - []\n"
     ]
    },
    {
     "name": "stdout",
     "output_type": "stream",
     "text": [
      "progress = 63.2%\n"
     ]
    },
    {
     "name": "stderr",
     "output_type": "stream",
     "text": [
      "05:48:33 - OI2: INFO - Duplicated gene symbols in the prize file (we'll keep the max prize):\n",
      "05:48:33 - OI2: INFO - []\n",
      "05:48:33 - OI2: INFO - Members of the prize file not present in the interactome:\n",
      "05:48:33 - OI2: INFO - []\n"
     ]
    },
    {
     "name": "stdout",
     "output_type": "stream",
     "text": [
      "progress = 63.3%\n"
     ]
    },
    {
     "name": "stderr",
     "output_type": "stream",
     "text": [
      "05:48:37 - OI2: INFO - Duplicated gene symbols in the prize file (we'll keep the max prize):\n",
      "05:48:37 - OI2: INFO - []\n",
      "05:48:37 - OI2: INFO - Members of the prize file not present in the interactome:\n",
      "05:48:37 - OI2: INFO - []\n"
     ]
    },
    {
     "name": "stdout",
     "output_type": "stream",
     "text": [
      "progress = 63.4%\n"
     ]
    },
    {
     "name": "stderr",
     "output_type": "stream",
     "text": [
      "05:48:41 - OI2: INFO - Duplicated gene symbols in the prize file (we'll keep the max prize):\n",
      "05:48:41 - OI2: INFO - []\n",
      "05:48:41 - OI2: INFO - Members of the prize file not present in the interactome:\n",
      "05:48:41 - OI2: INFO - []\n"
     ]
    },
    {
     "name": "stdout",
     "output_type": "stream",
     "text": [
      "progress = 63.5%\n"
     ]
    },
    {
     "name": "stderr",
     "output_type": "stream",
     "text": [
      "05:48:44 - OI2: INFO - Duplicated gene symbols in the prize file (we'll keep the max prize):\n",
      "05:48:44 - OI2: INFO - []\n",
      "05:48:44 - OI2: INFO - Members of the prize file not present in the interactome:\n",
      "05:48:44 - OI2: INFO - []\n"
     ]
    },
    {
     "name": "stdout",
     "output_type": "stream",
     "text": [
      "progress = 63.6%\n"
     ]
    },
    {
     "name": "stderr",
     "output_type": "stream",
     "text": [
      "05:48:48 - OI2: INFO - Duplicated gene symbols in the prize file (we'll keep the max prize):\n",
      "05:48:48 - OI2: INFO - []\n",
      "05:48:48 - OI2: INFO - Members of the prize file not present in the interactome:\n",
      "05:48:48 - OI2: INFO - []\n"
     ]
    },
    {
     "name": "stdout",
     "output_type": "stream",
     "text": [
      "progress = 63.7%\n"
     ]
    },
    {
     "name": "stderr",
     "output_type": "stream",
     "text": [
      "05:48:52 - OI2: INFO - Duplicated gene symbols in the prize file (we'll keep the max prize):\n",
      "05:48:52 - OI2: INFO - []\n",
      "05:48:52 - OI2: INFO - Members of the prize file not present in the interactome:\n",
      "05:48:52 - OI2: INFO - []\n"
     ]
    },
    {
     "name": "stdout",
     "output_type": "stream",
     "text": [
      "progress = 63.800000000000004%\n"
     ]
    },
    {
     "name": "stderr",
     "output_type": "stream",
     "text": [
      "05:48:56 - OI2: INFO - Duplicated gene symbols in the prize file (we'll keep the max prize):\n",
      "05:48:56 - OI2: INFO - []\n",
      "05:48:56 - OI2: INFO - Members of the prize file not present in the interactome:\n",
      "05:48:56 - OI2: INFO - []\n"
     ]
    },
    {
     "name": "stdout",
     "output_type": "stream",
     "text": [
      "progress = 63.9%\n"
     ]
    },
    {
     "name": "stderr",
     "output_type": "stream",
     "text": [
      "05:48:59 - OI2: INFO - Duplicated gene symbols in the prize file (we'll keep the max prize):\n",
      "05:48:59 - OI2: INFO - []\n",
      "05:48:59 - OI2: INFO - Members of the prize file not present in the interactome:\n",
      "05:48:59 - OI2: INFO - []\n"
     ]
    },
    {
     "name": "stdout",
     "output_type": "stream",
     "text": [
      "progress = 64.0%\n"
     ]
    },
    {
     "name": "stderr",
     "output_type": "stream",
     "text": [
      "05:49:03 - OI2: INFO - Duplicated gene symbols in the prize file (we'll keep the max prize):\n",
      "05:49:03 - OI2: INFO - []\n",
      "05:49:03 - OI2: INFO - Members of the prize file not present in the interactome:\n",
      "05:49:03 - OI2: INFO - []\n"
     ]
    },
    {
     "name": "stdout",
     "output_type": "stream",
     "text": [
      "progress = 64.1%\n"
     ]
    },
    {
     "name": "stderr",
     "output_type": "stream",
     "text": [
      "05:49:07 - OI2: INFO - Duplicated gene symbols in the prize file (we'll keep the max prize):\n",
      "05:49:07 - OI2: INFO - []\n",
      "05:49:07 - OI2: INFO - Members of the prize file not present in the interactome:\n",
      "05:49:07 - OI2: INFO - []\n"
     ]
    },
    {
     "name": "stdout",
     "output_type": "stream",
     "text": [
      "progress = 64.2%\n"
     ]
    },
    {
     "name": "stderr",
     "output_type": "stream",
     "text": [
      "05:49:10 - OI2: INFO - Duplicated gene symbols in the prize file (we'll keep the max prize):\n",
      "05:49:10 - OI2: INFO - []\n",
      "05:49:10 - OI2: INFO - Members of the prize file not present in the interactome:\n",
      "05:49:10 - OI2: INFO - []\n"
     ]
    },
    {
     "name": "stdout",
     "output_type": "stream",
     "text": [
      "progress = 64.3%\n"
     ]
    },
    {
     "name": "stderr",
     "output_type": "stream",
     "text": [
      "05:49:14 - OI2: INFO - Duplicated gene symbols in the prize file (we'll keep the max prize):\n",
      "05:49:14 - OI2: INFO - []\n",
      "05:49:14 - OI2: INFO - Members of the prize file not present in the interactome:\n",
      "05:49:14 - OI2: INFO - []\n"
     ]
    },
    {
     "name": "stdout",
     "output_type": "stream",
     "text": [
      "progress = 64.4%\n"
     ]
    },
    {
     "name": "stderr",
     "output_type": "stream",
     "text": [
      "05:49:18 - OI2: INFO - Duplicated gene symbols in the prize file (we'll keep the max prize):\n",
      "05:49:18 - OI2: INFO - []\n",
      "05:49:18 - OI2: INFO - Members of the prize file not present in the interactome:\n",
      "05:49:18 - OI2: INFO - []\n"
     ]
    },
    {
     "name": "stdout",
     "output_type": "stream",
     "text": [
      "progress = 64.5%\n"
     ]
    },
    {
     "name": "stderr",
     "output_type": "stream",
     "text": [
      "05:49:22 - OI2: INFO - Duplicated gene symbols in the prize file (we'll keep the max prize):\n",
      "05:49:22 - OI2: INFO - []\n",
      "05:49:22 - OI2: INFO - Members of the prize file not present in the interactome:\n",
      "05:49:22 - OI2: INFO - []\n"
     ]
    },
    {
     "name": "stdout",
     "output_type": "stream",
     "text": [
      "progress = 64.60000000000001%\n"
     ]
    },
    {
     "name": "stderr",
     "output_type": "stream",
     "text": [
      "05:49:25 - OI2: INFO - Duplicated gene symbols in the prize file (we'll keep the max prize):\n",
      "05:49:25 - OI2: INFO - []\n",
      "05:49:25 - OI2: INFO - Members of the prize file not present in the interactome:\n",
      "05:49:25 - OI2: INFO - []\n"
     ]
    },
    {
     "name": "stdout",
     "output_type": "stream",
     "text": [
      "progress = 64.7%\n"
     ]
    },
    {
     "name": "stderr",
     "output_type": "stream",
     "text": [
      "05:49:29 - OI2: INFO - Duplicated gene symbols in the prize file (we'll keep the max prize):\n",
      "05:49:29 - OI2: INFO - []\n",
      "05:49:29 - OI2: INFO - Members of the prize file not present in the interactome:\n",
      "05:49:29 - OI2: INFO - []\n"
     ]
    },
    {
     "name": "stdout",
     "output_type": "stream",
     "text": [
      "progress = 64.8%\n"
     ]
    },
    {
     "name": "stderr",
     "output_type": "stream",
     "text": [
      "05:49:33 - OI2: INFO - Duplicated gene symbols in the prize file (we'll keep the max prize):\n",
      "05:49:33 - OI2: INFO - []\n",
      "05:49:33 - OI2: INFO - Members of the prize file not present in the interactome:\n",
      "05:49:33 - OI2: INFO - []\n"
     ]
    },
    {
     "name": "stdout",
     "output_type": "stream",
     "text": [
      "progress = 64.9%\n"
     ]
    },
    {
     "name": "stderr",
     "output_type": "stream",
     "text": [
      "05:49:37 - OI2: INFO - Duplicated gene symbols in the prize file (we'll keep the max prize):\n",
      "05:49:37 - OI2: INFO - []\n",
      "05:49:37 - OI2: INFO - Members of the prize file not present in the interactome:\n",
      "05:49:37 - OI2: INFO - []\n"
     ]
    },
    {
     "name": "stdout",
     "output_type": "stream",
     "text": [
      "progress = 65.0%\n"
     ]
    },
    {
     "name": "stderr",
     "output_type": "stream",
     "text": [
      "05:49:40 - OI2: INFO - Duplicated gene symbols in the prize file (we'll keep the max prize):\n",
      "05:49:40 - OI2: INFO - []\n",
      "05:49:40 - OI2: INFO - Members of the prize file not present in the interactome:\n",
      "05:49:40 - OI2: INFO - []\n"
     ]
    },
    {
     "name": "stdout",
     "output_type": "stream",
     "text": [
      "progress = 65.10000000000001%\n"
     ]
    },
    {
     "name": "stderr",
     "output_type": "stream",
     "text": [
      "05:49:44 - OI2: INFO - Duplicated gene symbols in the prize file (we'll keep the max prize):\n",
      "05:49:44 - OI2: INFO - []\n",
      "05:49:44 - OI2: INFO - Members of the prize file not present in the interactome:\n",
      "05:49:44 - OI2: INFO - []\n"
     ]
    },
    {
     "name": "stdout",
     "output_type": "stream",
     "text": [
      "progress = 65.2%\n"
     ]
    },
    {
     "name": "stderr",
     "output_type": "stream",
     "text": [
      "05:49:48 - OI2: INFO - Duplicated gene symbols in the prize file (we'll keep the max prize):\n",
      "05:49:48 - OI2: INFO - []\n",
      "05:49:48 - OI2: INFO - Members of the prize file not present in the interactome:\n",
      "05:49:48 - OI2: INFO - []\n"
     ]
    },
    {
     "name": "stdout",
     "output_type": "stream",
     "text": [
      "progress = 65.3%\n"
     ]
    },
    {
     "name": "stderr",
     "output_type": "stream",
     "text": [
      "05:49:51 - OI2: INFO - Duplicated gene symbols in the prize file (we'll keep the max prize):\n",
      "05:49:51 - OI2: INFO - []\n",
      "05:49:51 - OI2: INFO - Members of the prize file not present in the interactome:\n",
      "05:49:51 - OI2: INFO - []\n"
     ]
    },
    {
     "name": "stdout",
     "output_type": "stream",
     "text": [
      "progress = 65.4%\n"
     ]
    },
    {
     "name": "stderr",
     "output_type": "stream",
     "text": [
      "05:49:55 - OI2: INFO - Duplicated gene symbols in the prize file (we'll keep the max prize):\n",
      "05:49:55 - OI2: INFO - []\n",
      "05:49:55 - OI2: INFO - Members of the prize file not present in the interactome:\n",
      "05:49:55 - OI2: INFO - []\n"
     ]
    },
    {
     "name": "stdout",
     "output_type": "stream",
     "text": [
      "progress = 65.5%\n"
     ]
    },
    {
     "name": "stderr",
     "output_type": "stream",
     "text": [
      "05:49:59 - OI2: INFO - Duplicated gene symbols in the prize file (we'll keep the max prize):\n",
      "05:49:59 - OI2: INFO - []\n",
      "05:49:59 - OI2: INFO - Members of the prize file not present in the interactome:\n",
      "05:49:59 - OI2: INFO - []\n"
     ]
    },
    {
     "name": "stdout",
     "output_type": "stream",
     "text": [
      "progress = 65.60000000000001%\n"
     ]
    },
    {
     "name": "stderr",
     "output_type": "stream",
     "text": [
      "05:50:02 - OI2: INFO - Duplicated gene symbols in the prize file (we'll keep the max prize):\n",
      "05:50:02 - OI2: INFO - []\n",
      "05:50:02 - OI2: INFO - Members of the prize file not present in the interactome:\n",
      "05:50:02 - OI2: INFO - []\n"
     ]
    },
    {
     "name": "stdout",
     "output_type": "stream",
     "text": [
      "progress = 65.7%\n"
     ]
    },
    {
     "name": "stderr",
     "output_type": "stream",
     "text": [
      "05:50:06 - OI2: INFO - Duplicated gene symbols in the prize file (we'll keep the max prize):\n",
      "05:50:06 - OI2: INFO - []\n",
      "05:50:06 - OI2: INFO - Members of the prize file not present in the interactome:\n",
      "05:50:06 - OI2: INFO - []\n"
     ]
    },
    {
     "name": "stdout",
     "output_type": "stream",
     "text": [
      "progress = 65.8%\n"
     ]
    },
    {
     "name": "stderr",
     "output_type": "stream",
     "text": [
      "05:50:09 - OI2: INFO - Duplicated gene symbols in the prize file (we'll keep the max prize):\n",
      "05:50:09 - OI2: INFO - []\n",
      "05:50:09 - OI2: INFO - Members of the prize file not present in the interactome:\n",
      "05:50:09 - OI2: INFO - []\n"
     ]
    },
    {
     "name": "stdout",
     "output_type": "stream",
     "text": [
      "progress = 65.9%\n"
     ]
    },
    {
     "name": "stderr",
     "output_type": "stream",
     "text": [
      "05:50:13 - OI2: INFO - Duplicated gene symbols in the prize file (we'll keep the max prize):\n",
      "05:50:13 - OI2: INFO - []\n",
      "05:50:13 - OI2: INFO - Members of the prize file not present in the interactome:\n",
      "05:50:13 - OI2: INFO - []\n"
     ]
    },
    {
     "name": "stdout",
     "output_type": "stream",
     "text": [
      "progress = 66.0%\n"
     ]
    },
    {
     "name": "stderr",
     "output_type": "stream",
     "text": [
      "05:50:17 - OI2: INFO - Duplicated gene symbols in the prize file (we'll keep the max prize):\n",
      "05:50:17 - OI2: INFO - []\n",
      "05:50:17 - OI2: INFO - Members of the prize file not present in the interactome:\n",
      "05:50:17 - OI2: INFO - []\n"
     ]
    },
    {
     "name": "stdout",
     "output_type": "stream",
     "text": [
      "progress = 66.10000000000001%\n"
     ]
    },
    {
     "name": "stderr",
     "output_type": "stream",
     "text": [
      "05:50:20 - OI2: INFO - Duplicated gene symbols in the prize file (we'll keep the max prize):\n",
      "05:50:20 - OI2: INFO - []\n",
      "05:50:20 - OI2: INFO - Members of the prize file not present in the interactome:\n",
      "05:50:20 - OI2: INFO - []\n"
     ]
    },
    {
     "name": "stdout",
     "output_type": "stream",
     "text": [
      "progress = 66.2%\n"
     ]
    },
    {
     "name": "stderr",
     "output_type": "stream",
     "text": [
      "05:50:24 - OI2: INFO - Duplicated gene symbols in the prize file (we'll keep the max prize):\n",
      "05:50:24 - OI2: INFO - []\n",
      "05:50:24 - OI2: INFO - Members of the prize file not present in the interactome:\n",
      "05:50:24 - OI2: INFO - []\n"
     ]
    },
    {
     "name": "stdout",
     "output_type": "stream",
     "text": [
      "progress = 66.3%\n"
     ]
    },
    {
     "name": "stderr",
     "output_type": "stream",
     "text": [
      "05:50:28 - OI2: INFO - Duplicated gene symbols in the prize file (we'll keep the max prize):\n",
      "05:50:28 - OI2: INFO - []\n",
      "05:50:28 - OI2: INFO - Members of the prize file not present in the interactome:\n",
      "05:50:28 - OI2: INFO - []\n"
     ]
    },
    {
     "name": "stdout",
     "output_type": "stream",
     "text": [
      "progress = 66.4%\n"
     ]
    },
    {
     "name": "stderr",
     "output_type": "stream",
     "text": [
      "05:50:32 - OI2: INFO - Duplicated gene symbols in the prize file (we'll keep the max prize):\n",
      "05:50:32 - OI2: INFO - []\n",
      "05:50:32 - OI2: INFO - Members of the prize file not present in the interactome:\n",
      "05:50:32 - OI2: INFO - []\n"
     ]
    },
    {
     "name": "stdout",
     "output_type": "stream",
     "text": [
      "progress = 66.5%\n"
     ]
    },
    {
     "name": "stderr",
     "output_type": "stream",
     "text": [
      "05:50:35 - OI2: INFO - Duplicated gene symbols in the prize file (we'll keep the max prize):\n",
      "05:50:35 - OI2: INFO - []\n",
      "05:50:35 - OI2: INFO - Members of the prize file not present in the interactome:\n",
      "05:50:35 - OI2: INFO - []\n"
     ]
    },
    {
     "name": "stdout",
     "output_type": "stream",
     "text": [
      "progress = 66.60000000000001%\n"
     ]
    },
    {
     "name": "stderr",
     "output_type": "stream",
     "text": [
      "05:50:39 - OI2: INFO - Duplicated gene symbols in the prize file (we'll keep the max prize):\n",
      "05:50:39 - OI2: INFO - []\n",
      "05:50:39 - OI2: INFO - Members of the prize file not present in the interactome:\n",
      "05:50:39 - OI2: INFO - []\n"
     ]
    },
    {
     "name": "stdout",
     "output_type": "stream",
     "text": [
      "progress = 66.7%\n"
     ]
    },
    {
     "name": "stderr",
     "output_type": "stream",
     "text": [
      "05:50:43 - OI2: INFO - Duplicated gene symbols in the prize file (we'll keep the max prize):\n",
      "05:50:43 - OI2: INFO - []\n",
      "05:50:43 - OI2: INFO - Members of the prize file not present in the interactome:\n",
      "05:50:43 - OI2: INFO - []\n"
     ]
    },
    {
     "name": "stdout",
     "output_type": "stream",
     "text": [
      "progress = 66.8%\n"
     ]
    },
    {
     "name": "stderr",
     "output_type": "stream",
     "text": [
      "05:50:46 - OI2: INFO - Duplicated gene symbols in the prize file (we'll keep the max prize):\n",
      "05:50:46 - OI2: INFO - []\n",
      "05:50:46 - OI2: INFO - Members of the prize file not present in the interactome:\n",
      "05:50:46 - OI2: INFO - []\n"
     ]
    },
    {
     "name": "stdout",
     "output_type": "stream",
     "text": [
      "progress = 66.9%\n"
     ]
    },
    {
     "name": "stderr",
     "output_type": "stream",
     "text": [
      "05:50:50 - OI2: INFO - Duplicated gene symbols in the prize file (we'll keep the max prize):\n",
      "05:50:50 - OI2: INFO - []\n",
      "05:50:50 - OI2: INFO - Members of the prize file not present in the interactome:\n",
      "05:50:50 - OI2: INFO - []\n"
     ]
    },
    {
     "name": "stdout",
     "output_type": "stream",
     "text": [
      "progress = 67.0%\n"
     ]
    },
    {
     "name": "stderr",
     "output_type": "stream",
     "text": [
      "05:50:54 - OI2: INFO - Duplicated gene symbols in the prize file (we'll keep the max prize):\n",
      "05:50:54 - OI2: INFO - []\n",
      "05:50:54 - OI2: INFO - Members of the prize file not present in the interactome:\n",
      "05:50:54 - OI2: INFO - []\n"
     ]
    },
    {
     "name": "stdout",
     "output_type": "stream",
     "text": [
      "progress = 67.10000000000001%\n"
     ]
    },
    {
     "name": "stderr",
     "output_type": "stream",
     "text": [
      "05:50:57 - OI2: INFO - Duplicated gene symbols in the prize file (we'll keep the max prize):\n",
      "05:50:58 - OI2: INFO - []\n",
      "05:50:58 - OI2: INFO - Members of the prize file not present in the interactome:\n",
      "05:50:58 - OI2: INFO - []\n"
     ]
    },
    {
     "name": "stdout",
     "output_type": "stream",
     "text": [
      "progress = 67.2%\n"
     ]
    },
    {
     "name": "stderr",
     "output_type": "stream",
     "text": [
      "05:51:02 - OI2: INFO - Duplicated gene symbols in the prize file (we'll keep the max prize):\n",
      "05:51:02 - OI2: INFO - []\n",
      "05:51:02 - OI2: INFO - Members of the prize file not present in the interactome:\n",
      "05:51:02 - OI2: INFO - []\n"
     ]
    },
    {
     "name": "stdout",
     "output_type": "stream",
     "text": [
      "progress = 67.30000000000001%\n"
     ]
    },
    {
     "name": "stderr",
     "output_type": "stream",
     "text": [
      "05:51:05 - OI2: INFO - Duplicated gene symbols in the prize file (we'll keep the max prize):\n",
      "05:51:05 - OI2: INFO - []\n",
      "05:51:05 - OI2: INFO - Members of the prize file not present in the interactome:\n",
      "05:51:05 - OI2: INFO - []\n"
     ]
    },
    {
     "name": "stdout",
     "output_type": "stream",
     "text": [
      "progress = 67.4%\n"
     ]
    },
    {
     "name": "stderr",
     "output_type": "stream",
     "text": [
      "05:51:09 - OI2: INFO - Duplicated gene symbols in the prize file (we'll keep the max prize):\n",
      "05:51:09 - OI2: INFO - []\n",
      "05:51:09 - OI2: INFO - Members of the prize file not present in the interactome:\n",
      "05:51:09 - OI2: INFO - []\n"
     ]
    },
    {
     "name": "stdout",
     "output_type": "stream",
     "text": [
      "progress = 67.5%\n"
     ]
    },
    {
     "name": "stderr",
     "output_type": "stream",
     "text": [
      "05:51:12 - OI2: INFO - Duplicated gene symbols in the prize file (we'll keep the max prize):\n",
      "05:51:12 - OI2: INFO - []\n",
      "05:51:12 - OI2: INFO - Members of the prize file not present in the interactome:\n",
      "05:51:12 - OI2: INFO - []\n"
     ]
    },
    {
     "name": "stdout",
     "output_type": "stream",
     "text": [
      "progress = 67.60000000000001%\n"
     ]
    },
    {
     "name": "stderr",
     "output_type": "stream",
     "text": [
      "05:51:16 - OI2: INFO - Duplicated gene symbols in the prize file (we'll keep the max prize):\n",
      "05:51:16 - OI2: INFO - []\n",
      "05:51:16 - OI2: INFO - Members of the prize file not present in the interactome:\n",
      "05:51:16 - OI2: INFO - []\n"
     ]
    },
    {
     "name": "stdout",
     "output_type": "stream",
     "text": [
      "progress = 67.7%\n"
     ]
    },
    {
     "name": "stderr",
     "output_type": "stream",
     "text": [
      "05:51:20 - OI2: INFO - Duplicated gene symbols in the prize file (we'll keep the max prize):\n",
      "05:51:20 - OI2: INFO - []\n",
      "05:51:20 - OI2: INFO - Members of the prize file not present in the interactome:\n",
      "05:51:20 - OI2: INFO - []\n"
     ]
    },
    {
     "name": "stdout",
     "output_type": "stream",
     "text": [
      "progress = 67.80000000000001%\n"
     ]
    },
    {
     "name": "stderr",
     "output_type": "stream",
     "text": [
      "05:51:23 - OI2: INFO - Duplicated gene symbols in the prize file (we'll keep the max prize):\n",
      "05:51:23 - OI2: INFO - []\n",
      "05:51:23 - OI2: INFO - Members of the prize file not present in the interactome:\n",
      "05:51:23 - OI2: INFO - []\n"
     ]
    },
    {
     "name": "stdout",
     "output_type": "stream",
     "text": [
      "progress = 67.9%\n"
     ]
    },
    {
     "name": "stderr",
     "output_type": "stream",
     "text": [
      "05:51:27 - OI2: INFO - Duplicated gene symbols in the prize file (we'll keep the max prize):\n",
      "05:51:27 - OI2: INFO - []\n",
      "05:51:27 - OI2: INFO - Members of the prize file not present in the interactome:\n",
      "05:51:27 - OI2: INFO - []\n"
     ]
    },
    {
     "name": "stdout",
     "output_type": "stream",
     "text": [
      "progress = 68.0%\n"
     ]
    },
    {
     "name": "stderr",
     "output_type": "stream",
     "text": [
      "05:51:31 - OI2: INFO - Duplicated gene symbols in the prize file (we'll keep the max prize):\n",
      "05:51:31 - OI2: INFO - []\n",
      "05:51:31 - OI2: INFO - Members of the prize file not present in the interactome:\n",
      "05:51:31 - OI2: INFO - []\n"
     ]
    },
    {
     "name": "stdout",
     "output_type": "stream",
     "text": [
      "progress = 68.10000000000001%\n"
     ]
    },
    {
     "name": "stderr",
     "output_type": "stream",
     "text": [
      "05:51:34 - OI2: INFO - Duplicated gene symbols in the prize file (we'll keep the max prize):\n",
      "05:51:34 - OI2: INFO - []\n",
      "05:51:34 - OI2: INFO - Members of the prize file not present in the interactome:\n",
      "05:51:34 - OI2: INFO - []\n"
     ]
    },
    {
     "name": "stdout",
     "output_type": "stream",
     "text": [
      "progress = 68.2%\n"
     ]
    },
    {
     "name": "stderr",
     "output_type": "stream",
     "text": [
      "05:51:38 - OI2: INFO - Duplicated gene symbols in the prize file (we'll keep the max prize):\n",
      "05:51:38 - OI2: INFO - []\n",
      "05:51:38 - OI2: INFO - Members of the prize file not present in the interactome:\n",
      "05:51:38 - OI2: INFO - []\n"
     ]
    },
    {
     "name": "stdout",
     "output_type": "stream",
     "text": [
      "progress = 68.30000000000001%\n"
     ]
    },
    {
     "name": "stderr",
     "output_type": "stream",
     "text": [
      "05:51:41 - OI2: INFO - Duplicated gene symbols in the prize file (we'll keep the max prize):\n",
      "05:51:41 - OI2: INFO - []\n",
      "05:51:41 - OI2: INFO - Members of the prize file not present in the interactome:\n",
      "05:51:41 - OI2: INFO - []\n"
     ]
    },
    {
     "name": "stdout",
     "output_type": "stream",
     "text": [
      "progress = 68.4%\n"
     ]
    },
    {
     "name": "stderr",
     "output_type": "stream",
     "text": [
      "05:51:45 - OI2: INFO - Duplicated gene symbols in the prize file (we'll keep the max prize):\n",
      "05:51:45 - OI2: INFO - []\n",
      "05:51:45 - OI2: INFO - Members of the prize file not present in the interactome:\n",
      "05:51:45 - OI2: INFO - []\n"
     ]
    },
    {
     "name": "stdout",
     "output_type": "stream",
     "text": [
      "progress = 68.5%\n"
     ]
    },
    {
     "name": "stderr",
     "output_type": "stream",
     "text": [
      "05:51:49 - OI2: INFO - Duplicated gene symbols in the prize file (we'll keep the max prize):\n",
      "05:51:49 - OI2: INFO - []\n",
      "05:51:49 - OI2: INFO - Members of the prize file not present in the interactome:\n",
      "05:51:49 - OI2: INFO - []\n"
     ]
    },
    {
     "name": "stdout",
     "output_type": "stream",
     "text": [
      "progress = 68.60000000000001%\n"
     ]
    },
    {
     "name": "stderr",
     "output_type": "stream",
     "text": [
      "05:51:53 - OI2: INFO - Duplicated gene symbols in the prize file (we'll keep the max prize):\n",
      "05:51:53 - OI2: INFO - []\n",
      "05:51:53 - OI2: INFO - Members of the prize file not present in the interactome:\n",
      "05:51:53 - OI2: INFO - []\n"
     ]
    },
    {
     "name": "stdout",
     "output_type": "stream",
     "text": [
      "progress = 68.7%\n"
     ]
    },
    {
     "name": "stderr",
     "output_type": "stream",
     "text": [
      "05:51:56 - OI2: INFO - Duplicated gene symbols in the prize file (we'll keep the max prize):\n",
      "05:51:56 - OI2: INFO - []\n",
      "05:51:56 - OI2: INFO - Members of the prize file not present in the interactome:\n",
      "05:51:56 - OI2: INFO - []\n"
     ]
    },
    {
     "name": "stdout",
     "output_type": "stream",
     "text": [
      "progress = 68.8%\n"
     ]
    },
    {
     "name": "stderr",
     "output_type": "stream",
     "text": [
      "05:52:00 - OI2: INFO - Duplicated gene symbols in the prize file (we'll keep the max prize):\n",
      "05:52:00 - OI2: INFO - []\n",
      "05:52:00 - OI2: INFO - Members of the prize file not present in the interactome:\n",
      "05:52:00 - OI2: INFO - []\n"
     ]
    },
    {
     "name": "stdout",
     "output_type": "stream",
     "text": [
      "progress = 68.89999999999999%\n"
     ]
    },
    {
     "name": "stderr",
     "output_type": "stream",
     "text": [
      "05:52:04 - OI2: INFO - Duplicated gene symbols in the prize file (we'll keep the max prize):\n",
      "05:52:04 - OI2: INFO - []\n",
      "05:52:04 - OI2: INFO - Members of the prize file not present in the interactome:\n",
      "05:52:04 - OI2: INFO - []\n"
     ]
    },
    {
     "name": "stdout",
     "output_type": "stream",
     "text": [
      "progress = 69.0%\n"
     ]
    },
    {
     "name": "stderr",
     "output_type": "stream",
     "text": [
      "05:52:07 - OI2: INFO - Duplicated gene symbols in the prize file (we'll keep the max prize):\n",
      "05:52:07 - OI2: INFO - []\n",
      "05:52:07 - OI2: INFO - Members of the prize file not present in the interactome:\n",
      "05:52:07 - OI2: INFO - []\n"
     ]
    },
    {
     "name": "stdout",
     "output_type": "stream",
     "text": [
      "progress = 69.1%\n"
     ]
    },
    {
     "name": "stderr",
     "output_type": "stream",
     "text": [
      "05:52:11 - OI2: INFO - Duplicated gene symbols in the prize file (we'll keep the max prize):\n",
      "05:52:11 - OI2: INFO - []\n",
      "05:52:11 - OI2: INFO - Members of the prize file not present in the interactome:\n",
      "05:52:11 - OI2: INFO - []\n"
     ]
    },
    {
     "name": "stdout",
     "output_type": "stream",
     "text": [
      "progress = 69.19999999999999%\n"
     ]
    },
    {
     "name": "stderr",
     "output_type": "stream",
     "text": [
      "05:52:15 - OI2: INFO - Duplicated gene symbols in the prize file (we'll keep the max prize):\n",
      "05:52:15 - OI2: INFO - []\n",
      "05:52:15 - OI2: INFO - Members of the prize file not present in the interactome:\n",
      "05:52:15 - OI2: INFO - []\n"
     ]
    },
    {
     "name": "stdout",
     "output_type": "stream",
     "text": [
      "progress = 69.3%\n"
     ]
    },
    {
     "name": "stderr",
     "output_type": "stream",
     "text": [
      "05:52:19 - OI2: INFO - Duplicated gene symbols in the prize file (we'll keep the max prize):\n",
      "05:52:19 - OI2: INFO - []\n",
      "05:52:19 - OI2: INFO - Members of the prize file not present in the interactome:\n",
      "05:52:19 - OI2: INFO - []\n"
     ]
    },
    {
     "name": "stdout",
     "output_type": "stream",
     "text": [
      "progress = 69.39999999999999%\n"
     ]
    },
    {
     "name": "stderr",
     "output_type": "stream",
     "text": [
      "05:52:22 - OI2: INFO - Duplicated gene symbols in the prize file (we'll keep the max prize):\n",
      "05:52:22 - OI2: INFO - []\n",
      "05:52:22 - OI2: INFO - Members of the prize file not present in the interactome:\n",
      "05:52:22 - OI2: INFO - []\n"
     ]
    },
    {
     "name": "stdout",
     "output_type": "stream",
     "text": [
      "progress = 69.5%\n"
     ]
    },
    {
     "name": "stderr",
     "output_type": "stream",
     "text": [
      "05:52:26 - OI2: INFO - Duplicated gene symbols in the prize file (we'll keep the max prize):\n",
      "05:52:26 - OI2: INFO - []\n",
      "05:52:26 - OI2: INFO - Members of the prize file not present in the interactome:\n",
      "05:52:26 - OI2: INFO - []\n"
     ]
    },
    {
     "name": "stdout",
     "output_type": "stream",
     "text": [
      "progress = 69.6%\n"
     ]
    },
    {
     "name": "stderr",
     "output_type": "stream",
     "text": [
      "05:52:30 - OI2: INFO - Duplicated gene symbols in the prize file (we'll keep the max prize):\n",
      "05:52:30 - OI2: INFO - []\n",
      "05:52:30 - OI2: INFO - Members of the prize file not present in the interactome:\n",
      "05:52:30 - OI2: INFO - []\n"
     ]
    },
    {
     "name": "stdout",
     "output_type": "stream",
     "text": [
      "progress = 69.69999999999999%\n"
     ]
    },
    {
     "name": "stderr",
     "output_type": "stream",
     "text": [
      "05:52:33 - OI2: INFO - Duplicated gene symbols in the prize file (we'll keep the max prize):\n",
      "05:52:33 - OI2: INFO - []\n",
      "05:52:33 - OI2: INFO - Members of the prize file not present in the interactome:\n",
      "05:52:33 - OI2: INFO - []\n"
     ]
    },
    {
     "name": "stdout",
     "output_type": "stream",
     "text": [
      "progress = 69.8%\n"
     ]
    },
    {
     "name": "stderr",
     "output_type": "stream",
     "text": [
      "05:52:37 - OI2: INFO - Duplicated gene symbols in the prize file (we'll keep the max prize):\n",
      "05:52:37 - OI2: INFO - []\n",
      "05:52:37 - OI2: INFO - Members of the prize file not present in the interactome:\n",
      "05:52:37 - OI2: INFO - []\n"
     ]
    },
    {
     "name": "stdout",
     "output_type": "stream",
     "text": [
      "progress = 69.89999999999999%\n"
     ]
    },
    {
     "name": "stderr",
     "output_type": "stream",
     "text": [
      "05:52:41 - OI2: INFO - Duplicated gene symbols in the prize file (we'll keep the max prize):\n",
      "05:52:41 - OI2: INFO - []\n",
      "05:52:41 - OI2: INFO - Members of the prize file not present in the interactome:\n",
      "05:52:41 - OI2: INFO - []\n"
     ]
    },
    {
     "name": "stdout",
     "output_type": "stream",
     "text": [
      "progress = 70.0%\n"
     ]
    },
    {
     "name": "stderr",
     "output_type": "stream",
     "text": [
      "05:52:44 - OI2: INFO - Duplicated gene symbols in the prize file (we'll keep the max prize):\n",
      "05:52:44 - OI2: INFO - []\n",
      "05:52:44 - OI2: INFO - Members of the prize file not present in the interactome:\n",
      "05:52:44 - OI2: INFO - []\n"
     ]
    },
    {
     "name": "stdout",
     "output_type": "stream",
     "text": [
      "progress = 70.1%\n"
     ]
    },
    {
     "name": "stderr",
     "output_type": "stream",
     "text": [
      "05:52:48 - OI2: INFO - Duplicated gene symbols in the prize file (we'll keep the max prize):\n",
      "05:52:48 - OI2: INFO - []\n",
      "05:52:48 - OI2: INFO - Members of the prize file not present in the interactome:\n",
      "05:52:48 - OI2: INFO - []\n"
     ]
    },
    {
     "name": "stdout",
     "output_type": "stream",
     "text": [
      "progress = 70.19999999999999%\n"
     ]
    },
    {
     "name": "stderr",
     "output_type": "stream",
     "text": [
      "05:52:52 - OI2: INFO - Duplicated gene symbols in the prize file (we'll keep the max prize):\n",
      "05:52:52 - OI2: INFO - []\n",
      "05:52:52 - OI2: INFO - Members of the prize file not present in the interactome:\n",
      "05:52:52 - OI2: INFO - []\n"
     ]
    },
    {
     "name": "stdout",
     "output_type": "stream",
     "text": [
      "progress = 70.3%\n"
     ]
    },
    {
     "name": "stderr",
     "output_type": "stream",
     "text": [
      "05:52:55 - OI2: INFO - Duplicated gene symbols in the prize file (we'll keep the max prize):\n",
      "05:52:55 - OI2: INFO - []\n",
      "05:52:55 - OI2: INFO - Members of the prize file not present in the interactome:\n",
      "05:52:55 - OI2: INFO - []\n"
     ]
    },
    {
     "name": "stdout",
     "output_type": "stream",
     "text": [
      "progress = 70.39999999999999%\n"
     ]
    },
    {
     "name": "stderr",
     "output_type": "stream",
     "text": [
      "05:52:59 - OI2: INFO - Duplicated gene symbols in the prize file (we'll keep the max prize):\n",
      "05:52:59 - OI2: INFO - []\n",
      "05:52:59 - OI2: INFO - Members of the prize file not present in the interactome:\n",
      "05:52:59 - OI2: INFO - []\n"
     ]
    },
    {
     "name": "stdout",
     "output_type": "stream",
     "text": [
      "progress = 70.5%\n"
     ]
    },
    {
     "name": "stderr",
     "output_type": "stream",
     "text": [
      "05:53:03 - OI2: INFO - Duplicated gene symbols in the prize file (we'll keep the max prize):\n",
      "05:53:03 - OI2: INFO - []\n",
      "05:53:03 - OI2: INFO - Members of the prize file not present in the interactome:\n",
      "05:53:03 - OI2: INFO - []\n"
     ]
    },
    {
     "name": "stdout",
     "output_type": "stream",
     "text": [
      "progress = 70.6%\n"
     ]
    },
    {
     "name": "stderr",
     "output_type": "stream",
     "text": [
      "05:53:07 - OI2: INFO - Duplicated gene symbols in the prize file (we'll keep the max prize):\n",
      "05:53:07 - OI2: INFO - []\n",
      "05:53:07 - OI2: INFO - Members of the prize file not present in the interactome:\n",
      "05:53:07 - OI2: INFO - []\n"
     ]
    },
    {
     "name": "stdout",
     "output_type": "stream",
     "text": [
      "progress = 70.7%\n"
     ]
    },
    {
     "name": "stderr",
     "output_type": "stream",
     "text": [
      "05:53:10 - OI2: INFO - Duplicated gene symbols in the prize file (we'll keep the max prize):\n",
      "05:53:10 - OI2: INFO - []\n",
      "05:53:10 - OI2: INFO - Members of the prize file not present in the interactome:\n",
      "05:53:10 - OI2: INFO - []\n"
     ]
    },
    {
     "name": "stdout",
     "output_type": "stream",
     "text": [
      "progress = 70.8%\n"
     ]
    },
    {
     "name": "stderr",
     "output_type": "stream",
     "text": [
      "05:53:14 - OI2: INFO - Duplicated gene symbols in the prize file (we'll keep the max prize):\n",
      "05:53:14 - OI2: INFO - []\n",
      "05:53:14 - OI2: INFO - Members of the prize file not present in the interactome:\n",
      "05:53:14 - OI2: INFO - []\n"
     ]
    },
    {
     "name": "stdout",
     "output_type": "stream",
     "text": [
      "progress = 70.89999999999999%\n"
     ]
    },
    {
     "name": "stderr",
     "output_type": "stream",
     "text": [
      "05:53:18 - OI2: INFO - Duplicated gene symbols in the prize file (we'll keep the max prize):\n",
      "05:53:18 - OI2: INFO - []\n",
      "05:53:18 - OI2: INFO - Members of the prize file not present in the interactome:\n",
      "05:53:18 - OI2: INFO - []\n"
     ]
    },
    {
     "name": "stdout",
     "output_type": "stream",
     "text": [
      "progress = 71.0%\n"
     ]
    },
    {
     "name": "stderr",
     "output_type": "stream",
     "text": [
      "05:53:21 - OI2: INFO - Duplicated gene symbols in the prize file (we'll keep the max prize):\n",
      "05:53:21 - OI2: INFO - []\n",
      "05:53:21 - OI2: INFO - Members of the prize file not present in the interactome:\n",
      "05:53:21 - OI2: INFO - []\n"
     ]
    },
    {
     "name": "stdout",
     "output_type": "stream",
     "text": [
      "progress = 71.1%\n"
     ]
    },
    {
     "name": "stderr",
     "output_type": "stream",
     "text": [
      "05:53:25 - OI2: INFO - Duplicated gene symbols in the prize file (we'll keep the max prize):\n",
      "05:53:25 - OI2: INFO - []\n",
      "05:53:25 - OI2: INFO - Members of the prize file not present in the interactome:\n",
      "05:53:25 - OI2: INFO - []\n"
     ]
    },
    {
     "name": "stdout",
     "output_type": "stream",
     "text": [
      "progress = 71.2%\n"
     ]
    },
    {
     "name": "stderr",
     "output_type": "stream",
     "text": [
      "05:53:29 - OI2: INFO - Duplicated gene symbols in the prize file (we'll keep the max prize):\n",
      "05:53:29 - OI2: INFO - []\n",
      "05:53:29 - OI2: INFO - Members of the prize file not present in the interactome:\n",
      "05:53:29 - OI2: INFO - []\n"
     ]
    },
    {
     "name": "stdout",
     "output_type": "stream",
     "text": [
      "progress = 71.3%\n"
     ]
    },
    {
     "name": "stderr",
     "output_type": "stream",
     "text": [
      "05:53:32 - OI2: INFO - Duplicated gene symbols in the prize file (we'll keep the max prize):\n",
      "05:53:32 - OI2: INFO - []\n",
      "05:53:32 - OI2: INFO - Members of the prize file not present in the interactome:\n",
      "05:53:32 - OI2: INFO - []\n"
     ]
    },
    {
     "name": "stdout",
     "output_type": "stream",
     "text": [
      "progress = 71.39999999999999%\n"
     ]
    },
    {
     "name": "stderr",
     "output_type": "stream",
     "text": [
      "05:53:36 - OI2: INFO - Duplicated gene symbols in the prize file (we'll keep the max prize):\n",
      "05:53:36 - OI2: INFO - []\n",
      "05:53:36 - OI2: INFO - Members of the prize file not present in the interactome:\n",
      "05:53:36 - OI2: INFO - []\n"
     ]
    },
    {
     "name": "stdout",
     "output_type": "stream",
     "text": [
      "progress = 71.5%\n"
     ]
    },
    {
     "name": "stderr",
     "output_type": "stream",
     "text": [
      "05:53:40 - OI2: INFO - Duplicated gene symbols in the prize file (we'll keep the max prize):\n",
      "05:53:40 - OI2: INFO - []\n",
      "05:53:40 - OI2: INFO - Members of the prize file not present in the interactome:\n",
      "05:53:40 - OI2: INFO - []\n"
     ]
    },
    {
     "name": "stdout",
     "output_type": "stream",
     "text": [
      "progress = 71.6%\n"
     ]
    },
    {
     "name": "stderr",
     "output_type": "stream",
     "text": [
      "05:53:43 - OI2: INFO - Duplicated gene symbols in the prize file (we'll keep the max prize):\n",
      "05:53:43 - OI2: INFO - []\n",
      "05:53:43 - OI2: INFO - Members of the prize file not present in the interactome:\n",
      "05:53:43 - OI2: INFO - []\n"
     ]
    },
    {
     "name": "stdout",
     "output_type": "stream",
     "text": [
      "progress = 71.7%\n"
     ]
    },
    {
     "name": "stderr",
     "output_type": "stream",
     "text": [
      "05:53:47 - OI2: INFO - Duplicated gene symbols in the prize file (we'll keep the max prize):\n",
      "05:53:47 - OI2: INFO - []\n",
      "05:53:47 - OI2: INFO - Members of the prize file not present in the interactome:\n",
      "05:53:47 - OI2: INFO - []\n"
     ]
    },
    {
     "name": "stdout",
     "output_type": "stream",
     "text": [
      "progress = 71.8%\n"
     ]
    },
    {
     "name": "stderr",
     "output_type": "stream",
     "text": [
      "05:53:51 - OI2: INFO - Duplicated gene symbols in the prize file (we'll keep the max prize):\n",
      "05:53:51 - OI2: INFO - []\n",
      "05:53:51 - OI2: INFO - Members of the prize file not present in the interactome:\n",
      "05:53:51 - OI2: INFO - []\n"
     ]
    },
    {
     "name": "stdout",
     "output_type": "stream",
     "text": [
      "progress = 71.89999999999999%\n"
     ]
    },
    {
     "name": "stderr",
     "output_type": "stream",
     "text": [
      "05:53:54 - OI2: INFO - Duplicated gene symbols in the prize file (we'll keep the max prize):\n",
      "05:53:54 - OI2: INFO - []\n",
      "05:53:54 - OI2: INFO - Members of the prize file not present in the interactome:\n",
      "05:53:54 - OI2: INFO - []\n"
     ]
    },
    {
     "name": "stdout",
     "output_type": "stream",
     "text": [
      "progress = 72.0%\n"
     ]
    },
    {
     "name": "stderr",
     "output_type": "stream",
     "text": [
      "05:53:58 - OI2: INFO - Duplicated gene symbols in the prize file (we'll keep the max prize):\n",
      "05:53:58 - OI2: INFO - []\n",
      "05:53:58 - OI2: INFO - Members of the prize file not present in the interactome:\n",
      "05:53:58 - OI2: INFO - []\n"
     ]
    },
    {
     "name": "stdout",
     "output_type": "stream",
     "text": [
      "progress = 72.1%\n"
     ]
    },
    {
     "name": "stderr",
     "output_type": "stream",
     "text": [
      "05:54:02 - OI2: INFO - Duplicated gene symbols in the prize file (we'll keep the max prize):\n",
      "05:54:02 - OI2: INFO - []\n",
      "05:54:02 - OI2: INFO - Members of the prize file not present in the interactome:\n",
      "05:54:02 - OI2: INFO - []\n"
     ]
    },
    {
     "name": "stdout",
     "output_type": "stream",
     "text": [
      "progress = 72.2%\n"
     ]
    },
    {
     "name": "stderr",
     "output_type": "stream",
     "text": [
      "05:54:05 - OI2: INFO - Duplicated gene symbols in the prize file (we'll keep the max prize):\n",
      "05:54:05 - OI2: INFO - []\n",
      "05:54:05 - OI2: INFO - Members of the prize file not present in the interactome:\n",
      "05:54:05 - OI2: INFO - []\n"
     ]
    },
    {
     "name": "stdout",
     "output_type": "stream",
     "text": [
      "progress = 72.3%\n"
     ]
    },
    {
     "name": "stderr",
     "output_type": "stream",
     "text": [
      "05:54:09 - OI2: INFO - Duplicated gene symbols in the prize file (we'll keep the max prize):\n",
      "05:54:09 - OI2: INFO - []\n",
      "05:54:09 - OI2: INFO - Members of the prize file not present in the interactome:\n",
      "05:54:09 - OI2: INFO - []\n"
     ]
    },
    {
     "name": "stdout",
     "output_type": "stream",
     "text": [
      "progress = 72.39999999999999%\n"
     ]
    },
    {
     "name": "stderr",
     "output_type": "stream",
     "text": [
      "05:54:13 - OI2: INFO - Duplicated gene symbols in the prize file (we'll keep the max prize):\n",
      "05:54:13 - OI2: INFO - []\n",
      "05:54:13 - OI2: INFO - Members of the prize file not present in the interactome:\n",
      "05:54:13 - OI2: INFO - []\n"
     ]
    },
    {
     "name": "stdout",
     "output_type": "stream",
     "text": [
      "progress = 72.5%\n"
     ]
    },
    {
     "name": "stderr",
     "output_type": "stream",
     "text": [
      "05:54:17 - OI2: INFO - Duplicated gene symbols in the prize file (we'll keep the max prize):\n",
      "05:54:17 - OI2: INFO - []\n",
      "05:54:17 - OI2: INFO - Members of the prize file not present in the interactome:\n",
      "05:54:17 - OI2: INFO - []\n"
     ]
    },
    {
     "name": "stdout",
     "output_type": "stream",
     "text": [
      "progress = 72.6%\n"
     ]
    },
    {
     "name": "stderr",
     "output_type": "stream",
     "text": [
      "05:54:20 - OI2: INFO - Duplicated gene symbols in the prize file (we'll keep the max prize):\n",
      "05:54:20 - OI2: INFO - []\n",
      "05:54:20 - OI2: INFO - Members of the prize file not present in the interactome:\n",
      "05:54:20 - OI2: INFO - []\n"
     ]
    },
    {
     "name": "stdout",
     "output_type": "stream",
     "text": [
      "progress = 72.7%\n"
     ]
    },
    {
     "name": "stderr",
     "output_type": "stream",
     "text": [
      "05:54:24 - OI2: INFO - Duplicated gene symbols in the prize file (we'll keep the max prize):\n",
      "05:54:24 - OI2: INFO - []\n",
      "05:54:24 - OI2: INFO - Members of the prize file not present in the interactome:\n",
      "05:54:24 - OI2: INFO - []\n"
     ]
    },
    {
     "name": "stdout",
     "output_type": "stream",
     "text": [
      "progress = 72.8%\n"
     ]
    },
    {
     "name": "stderr",
     "output_type": "stream",
     "text": [
      "05:54:28 - OI2: INFO - Duplicated gene symbols in the prize file (we'll keep the max prize):\n",
      "05:54:28 - OI2: INFO - []\n",
      "05:54:28 - OI2: INFO - Members of the prize file not present in the interactome:\n",
      "05:54:28 - OI2: INFO - []\n"
     ]
    },
    {
     "name": "stdout",
     "output_type": "stream",
     "text": [
      "progress = 72.89999999999999%\n"
     ]
    },
    {
     "name": "stderr",
     "output_type": "stream",
     "text": [
      "05:54:32 - OI2: INFO - Duplicated gene symbols in the prize file (we'll keep the max prize):\n",
      "05:54:32 - OI2: INFO - []\n",
      "05:54:32 - OI2: INFO - Members of the prize file not present in the interactome:\n",
      "05:54:32 - OI2: INFO - []\n"
     ]
    },
    {
     "name": "stdout",
     "output_type": "stream",
     "text": [
      "progress = 73.0%\n"
     ]
    },
    {
     "name": "stderr",
     "output_type": "stream",
     "text": [
      "05:54:35 - OI2: INFO - Duplicated gene symbols in the prize file (we'll keep the max prize):\n",
      "05:54:35 - OI2: INFO - []\n",
      "05:54:35 - OI2: INFO - Members of the prize file not present in the interactome:\n",
      "05:54:35 - OI2: INFO - []\n"
     ]
    },
    {
     "name": "stdout",
     "output_type": "stream",
     "text": [
      "progress = 73.1%\n"
     ]
    },
    {
     "name": "stderr",
     "output_type": "stream",
     "text": [
      "05:54:39 - OI2: INFO - Duplicated gene symbols in the prize file (we'll keep the max prize):\n",
      "05:54:39 - OI2: INFO - []\n",
      "05:54:39 - OI2: INFO - Members of the prize file not present in the interactome:\n",
      "05:54:39 - OI2: INFO - []\n"
     ]
    },
    {
     "name": "stdout",
     "output_type": "stream",
     "text": [
      "progress = 73.2%\n"
     ]
    },
    {
     "name": "stderr",
     "output_type": "stream",
     "text": [
      "05:54:42 - OI2: INFO - Duplicated gene symbols in the prize file (we'll keep the max prize):\n",
      "05:54:42 - OI2: INFO - []\n",
      "05:54:42 - OI2: INFO - Members of the prize file not present in the interactome:\n",
      "05:54:42 - OI2: INFO - []\n"
     ]
    },
    {
     "name": "stdout",
     "output_type": "stream",
     "text": [
      "progress = 73.3%\n"
     ]
    },
    {
     "name": "stderr",
     "output_type": "stream",
     "text": [
      "05:54:46 - OI2: INFO - Duplicated gene symbols in the prize file (we'll keep the max prize):\n",
      "05:54:46 - OI2: INFO - []\n",
      "05:54:46 - OI2: INFO - Members of the prize file not present in the interactome:\n",
      "05:54:46 - OI2: INFO - []\n"
     ]
    },
    {
     "name": "stdout",
     "output_type": "stream",
     "text": [
      "progress = 73.4%\n"
     ]
    },
    {
     "name": "stderr",
     "output_type": "stream",
     "text": [
      "05:54:50 - OI2: INFO - Duplicated gene symbols in the prize file (we'll keep the max prize):\n",
      "05:54:50 - OI2: INFO - []\n",
      "05:54:50 - OI2: INFO - Members of the prize file not present in the interactome:\n",
      "05:54:50 - OI2: INFO - []\n"
     ]
    },
    {
     "name": "stdout",
     "output_type": "stream",
     "text": [
      "progress = 73.5%\n"
     ]
    },
    {
     "name": "stderr",
     "output_type": "stream",
     "text": [
      "05:54:54 - OI2: INFO - Duplicated gene symbols in the prize file (we'll keep the max prize):\n",
      "05:54:54 - OI2: INFO - []\n",
      "05:54:54 - OI2: INFO - Members of the prize file not present in the interactome:\n",
      "05:54:54 - OI2: INFO - []\n"
     ]
    },
    {
     "name": "stdout",
     "output_type": "stream",
     "text": [
      "progress = 73.6%\n"
     ]
    },
    {
     "name": "stderr",
     "output_type": "stream",
     "text": [
      "05:54:57 - OI2: INFO - Duplicated gene symbols in the prize file (we'll keep the max prize):\n",
      "05:54:57 - OI2: INFO - []\n",
      "05:54:57 - OI2: INFO - Members of the prize file not present in the interactome:\n",
      "05:54:57 - OI2: INFO - []\n"
     ]
    },
    {
     "name": "stdout",
     "output_type": "stream",
     "text": [
      "progress = 73.7%\n"
     ]
    },
    {
     "name": "stderr",
     "output_type": "stream",
     "text": [
      "05:55:01 - OI2: INFO - Duplicated gene symbols in the prize file (we'll keep the max prize):\n",
      "05:55:01 - OI2: INFO - []\n",
      "05:55:01 - OI2: INFO - Members of the prize file not present in the interactome:\n",
      "05:55:01 - OI2: INFO - []\n"
     ]
    },
    {
     "name": "stdout",
     "output_type": "stream",
     "text": [
      "progress = 73.8%\n"
     ]
    },
    {
     "name": "stderr",
     "output_type": "stream",
     "text": [
      "05:55:05 - OI2: INFO - Duplicated gene symbols in the prize file (we'll keep the max prize):\n",
      "05:55:05 - OI2: INFO - []\n",
      "05:55:05 - OI2: INFO - Members of the prize file not present in the interactome:\n",
      "05:55:05 - OI2: INFO - []\n"
     ]
    },
    {
     "name": "stdout",
     "output_type": "stream",
     "text": [
      "progress = 73.9%\n"
     ]
    },
    {
     "name": "stderr",
     "output_type": "stream",
     "text": [
      "05:55:08 - OI2: INFO - Duplicated gene symbols in the prize file (we'll keep the max prize):\n",
      "05:55:08 - OI2: INFO - []\n",
      "05:55:08 - OI2: INFO - Members of the prize file not present in the interactome:\n",
      "05:55:08 - OI2: INFO - []\n"
     ]
    },
    {
     "name": "stdout",
     "output_type": "stream",
     "text": [
      "progress = 74.0%\n"
     ]
    },
    {
     "name": "stderr",
     "output_type": "stream",
     "text": [
      "05:55:12 - OI2: INFO - Duplicated gene symbols in the prize file (we'll keep the max prize):\n",
      "05:55:12 - OI2: INFO - []\n",
      "05:55:12 - OI2: INFO - Members of the prize file not present in the interactome:\n",
      "05:55:12 - OI2: INFO - []\n"
     ]
    },
    {
     "name": "stdout",
     "output_type": "stream",
     "text": [
      "progress = 74.1%\n"
     ]
    },
    {
     "name": "stderr",
     "output_type": "stream",
     "text": [
      "05:55:16 - OI2: INFO - Duplicated gene symbols in the prize file (we'll keep the max prize):\n",
      "05:55:16 - OI2: INFO - []\n",
      "05:55:16 - OI2: INFO - Members of the prize file not present in the interactome:\n",
      "05:55:16 - OI2: INFO - []\n"
     ]
    },
    {
     "name": "stdout",
     "output_type": "stream",
     "text": [
      "progress = 74.2%\n"
     ]
    },
    {
     "name": "stderr",
     "output_type": "stream",
     "text": [
      "05:55:19 - OI2: INFO - Duplicated gene symbols in the prize file (we'll keep the max prize):\n",
      "05:55:19 - OI2: INFO - []\n",
      "05:55:19 - OI2: INFO - Members of the prize file not present in the interactome:\n",
      "05:55:19 - OI2: INFO - []\n"
     ]
    },
    {
     "name": "stdout",
     "output_type": "stream",
     "text": [
      "progress = 74.3%\n"
     ]
    },
    {
     "name": "stderr",
     "output_type": "stream",
     "text": [
      "05:55:23 - OI2: INFO - Duplicated gene symbols in the prize file (we'll keep the max prize):\n",
      "05:55:23 - OI2: INFO - []\n",
      "05:55:23 - OI2: INFO - Members of the prize file not present in the interactome:\n",
      "05:55:23 - OI2: INFO - []\n"
     ]
    },
    {
     "name": "stdout",
     "output_type": "stream",
     "text": [
      "progress = 74.4%\n"
     ]
    },
    {
     "name": "stderr",
     "output_type": "stream",
     "text": [
      "05:55:27 - OI2: INFO - Duplicated gene symbols in the prize file (we'll keep the max prize):\n",
      "05:55:27 - OI2: INFO - []\n",
      "05:55:27 - OI2: INFO - Members of the prize file not present in the interactome:\n",
      "05:55:27 - OI2: INFO - []\n"
     ]
    },
    {
     "name": "stdout",
     "output_type": "stream",
     "text": [
      "progress = 74.5%\n"
     ]
    },
    {
     "name": "stderr",
     "output_type": "stream",
     "text": [
      "05:55:31 - OI2: INFO - Duplicated gene symbols in the prize file (we'll keep the max prize):\n",
      "05:55:31 - OI2: INFO - []\n",
      "05:55:31 - OI2: INFO - Members of the prize file not present in the interactome:\n",
      "05:55:31 - OI2: INFO - []\n"
     ]
    },
    {
     "name": "stdout",
     "output_type": "stream",
     "text": [
      "progress = 74.6%\n"
     ]
    },
    {
     "name": "stderr",
     "output_type": "stream",
     "text": [
      "05:55:34 - OI2: INFO - Duplicated gene symbols in the prize file (we'll keep the max prize):\n",
      "05:55:34 - OI2: INFO - []\n",
      "05:55:34 - OI2: INFO - Members of the prize file not present in the interactome:\n",
      "05:55:34 - OI2: INFO - []\n"
     ]
    },
    {
     "name": "stdout",
     "output_type": "stream",
     "text": [
      "progress = 74.7%\n"
     ]
    },
    {
     "name": "stderr",
     "output_type": "stream",
     "text": [
      "05:55:38 - OI2: INFO - Duplicated gene symbols in the prize file (we'll keep the max prize):\n",
      "05:55:38 - OI2: INFO - []\n",
      "05:55:38 - OI2: INFO - Members of the prize file not present in the interactome:\n",
      "05:55:38 - OI2: INFO - []\n"
     ]
    },
    {
     "name": "stdout",
     "output_type": "stream",
     "text": [
      "progress = 74.8%\n"
     ]
    },
    {
     "name": "stderr",
     "output_type": "stream",
     "text": [
      "05:55:41 - OI2: INFO - Duplicated gene symbols in the prize file (we'll keep the max prize):\n",
      "05:55:41 - OI2: INFO - []\n",
      "05:55:41 - OI2: INFO - Members of the prize file not present in the interactome:\n",
      "05:55:41 - OI2: INFO - []\n"
     ]
    },
    {
     "name": "stdout",
     "output_type": "stream",
     "text": [
      "progress = 74.9%\n"
     ]
    },
    {
     "name": "stderr",
     "output_type": "stream",
     "text": [
      "05:55:45 - OI2: INFO - Duplicated gene symbols in the prize file (we'll keep the max prize):\n",
      "05:55:45 - OI2: INFO - []\n",
      "05:55:45 - OI2: INFO - Members of the prize file not present in the interactome:\n",
      "05:55:45 - OI2: INFO - []\n"
     ]
    },
    {
     "name": "stdout",
     "output_type": "stream",
     "text": [
      "progress = 75.0%\n"
     ]
    },
    {
     "name": "stderr",
     "output_type": "stream",
     "text": [
      "05:55:49 - OI2: INFO - Duplicated gene symbols in the prize file (we'll keep the max prize):\n",
      "05:55:49 - OI2: INFO - []\n",
      "05:55:49 - OI2: INFO - Members of the prize file not present in the interactome:\n",
      "05:55:49 - OI2: INFO - []\n"
     ]
    },
    {
     "name": "stdout",
     "output_type": "stream",
     "text": [
      "progress = 75.1%\n"
     ]
    },
    {
     "name": "stderr",
     "output_type": "stream",
     "text": [
      "05:55:52 - OI2: INFO - Duplicated gene symbols in the prize file (we'll keep the max prize):\n",
      "05:55:52 - OI2: INFO - []\n",
      "05:55:52 - OI2: INFO - Members of the prize file not present in the interactome:\n",
      "05:55:52 - OI2: INFO - []\n"
     ]
    },
    {
     "name": "stdout",
     "output_type": "stream",
     "text": [
      "progress = 75.2%\n"
     ]
    },
    {
     "name": "stderr",
     "output_type": "stream",
     "text": [
      "05:55:56 - OI2: INFO - Duplicated gene symbols in the prize file (we'll keep the max prize):\n",
      "05:55:56 - OI2: INFO - []\n",
      "05:55:56 - OI2: INFO - Members of the prize file not present in the interactome:\n",
      "05:55:56 - OI2: INFO - []\n"
     ]
    },
    {
     "name": "stdout",
     "output_type": "stream",
     "text": [
      "progress = 75.3%\n"
     ]
    },
    {
     "name": "stderr",
     "output_type": "stream",
     "text": [
      "05:56:00 - OI2: INFO - Duplicated gene symbols in the prize file (we'll keep the max prize):\n",
      "05:56:00 - OI2: INFO - []\n",
      "05:56:00 - OI2: INFO - Members of the prize file not present in the interactome:\n",
      "05:56:00 - OI2: INFO - []\n"
     ]
    },
    {
     "name": "stdout",
     "output_type": "stream",
     "text": [
      "progress = 75.4%\n"
     ]
    },
    {
     "name": "stderr",
     "output_type": "stream",
     "text": [
      "05:56:03 - OI2: INFO - Duplicated gene symbols in the prize file (we'll keep the max prize):\n",
      "05:56:03 - OI2: INFO - []\n",
      "05:56:03 - OI2: INFO - Members of the prize file not present in the interactome:\n",
      "05:56:03 - OI2: INFO - []\n"
     ]
    },
    {
     "name": "stdout",
     "output_type": "stream",
     "text": [
      "progress = 75.5%\n"
     ]
    },
    {
     "name": "stderr",
     "output_type": "stream",
     "text": [
      "05:56:07 - OI2: INFO - Duplicated gene symbols in the prize file (we'll keep the max prize):\n",
      "05:56:07 - OI2: INFO - []\n",
      "05:56:07 - OI2: INFO - Members of the prize file not present in the interactome:\n",
      "05:56:07 - OI2: INFO - []\n"
     ]
    },
    {
     "name": "stdout",
     "output_type": "stream",
     "text": [
      "progress = 75.6%\n"
     ]
    },
    {
     "name": "stderr",
     "output_type": "stream",
     "text": [
      "05:56:11 - OI2: INFO - Duplicated gene symbols in the prize file (we'll keep the max prize):\n",
      "05:56:11 - OI2: INFO - []\n",
      "05:56:11 - OI2: INFO - Members of the prize file not present in the interactome:\n",
      "05:56:11 - OI2: INFO - []\n"
     ]
    },
    {
     "name": "stdout",
     "output_type": "stream",
     "text": [
      "progress = 75.7%\n"
     ]
    },
    {
     "name": "stderr",
     "output_type": "stream",
     "text": [
      "05:56:14 - OI2: INFO - Duplicated gene symbols in the prize file (we'll keep the max prize):\n",
      "05:56:14 - OI2: INFO - []\n",
      "05:56:14 - OI2: INFO - Members of the prize file not present in the interactome:\n",
      "05:56:14 - OI2: INFO - []\n"
     ]
    },
    {
     "name": "stdout",
     "output_type": "stream",
     "text": [
      "progress = 75.8%\n"
     ]
    },
    {
     "name": "stderr",
     "output_type": "stream",
     "text": [
      "05:56:18 - OI2: INFO - Duplicated gene symbols in the prize file (we'll keep the max prize):\n",
      "05:56:18 - OI2: INFO - []\n",
      "05:56:18 - OI2: INFO - Members of the prize file not present in the interactome:\n",
      "05:56:18 - OI2: INFO - []\n"
     ]
    },
    {
     "name": "stdout",
     "output_type": "stream",
     "text": [
      "progress = 75.9%\n"
     ]
    },
    {
     "name": "stderr",
     "output_type": "stream",
     "text": [
      "05:56:22 - OI2: INFO - Duplicated gene symbols in the prize file (we'll keep the max prize):\n",
      "05:56:22 - OI2: INFO - []\n",
      "05:56:22 - OI2: INFO - Members of the prize file not present in the interactome:\n",
      "05:56:22 - OI2: INFO - []\n"
     ]
    },
    {
     "name": "stdout",
     "output_type": "stream",
     "text": [
      "progress = 76.0%\n"
     ]
    },
    {
     "name": "stderr",
     "output_type": "stream",
     "text": [
      "05:56:25 - OI2: INFO - Duplicated gene symbols in the prize file (we'll keep the max prize):\n",
      "05:56:25 - OI2: INFO - []\n",
      "05:56:25 - OI2: INFO - Members of the prize file not present in the interactome:\n",
      "05:56:25 - OI2: INFO - []\n"
     ]
    },
    {
     "name": "stdout",
     "output_type": "stream",
     "text": [
      "progress = 76.1%\n"
     ]
    },
    {
     "name": "stderr",
     "output_type": "stream",
     "text": [
      "05:56:29 - OI2: INFO - Duplicated gene symbols in the prize file (we'll keep the max prize):\n",
      "05:56:29 - OI2: INFO - []\n",
      "05:56:29 - OI2: INFO - Members of the prize file not present in the interactome:\n",
      "05:56:29 - OI2: INFO - []\n"
     ]
    },
    {
     "name": "stdout",
     "output_type": "stream",
     "text": [
      "progress = 76.2%\n"
     ]
    },
    {
     "name": "stderr",
     "output_type": "stream",
     "text": [
      "05:56:33 - OI2: INFO - Duplicated gene symbols in the prize file (we'll keep the max prize):\n",
      "05:56:33 - OI2: INFO - []\n",
      "05:56:33 - OI2: INFO - Members of the prize file not present in the interactome:\n",
      "05:56:33 - OI2: INFO - []\n"
     ]
    },
    {
     "name": "stdout",
     "output_type": "stream",
     "text": [
      "progress = 76.3%\n"
     ]
    },
    {
     "name": "stderr",
     "output_type": "stream",
     "text": [
      "05:56:37 - OI2: INFO - Duplicated gene symbols in the prize file (we'll keep the max prize):\n",
      "05:56:37 - OI2: INFO - []\n",
      "05:56:37 - OI2: INFO - Members of the prize file not present in the interactome:\n",
      "05:56:37 - OI2: INFO - []\n"
     ]
    },
    {
     "name": "stdout",
     "output_type": "stream",
     "text": [
      "progress = 76.4%\n"
     ]
    },
    {
     "name": "stderr",
     "output_type": "stream",
     "text": [
      "05:56:40 - OI2: INFO - Duplicated gene symbols in the prize file (we'll keep the max prize):\n",
      "05:56:40 - OI2: INFO - []\n",
      "05:56:40 - OI2: INFO - Members of the prize file not present in the interactome:\n",
      "05:56:40 - OI2: INFO - []\n"
     ]
    },
    {
     "name": "stdout",
     "output_type": "stream",
     "text": [
      "progress = 76.5%\n"
     ]
    },
    {
     "name": "stderr",
     "output_type": "stream",
     "text": [
      "05:56:44 - OI2: INFO - Duplicated gene symbols in the prize file (we'll keep the max prize):\n",
      "05:56:44 - OI2: INFO - []\n",
      "05:56:44 - OI2: INFO - Members of the prize file not present in the interactome:\n",
      "05:56:44 - OI2: INFO - []\n"
     ]
    },
    {
     "name": "stdout",
     "output_type": "stream",
     "text": [
      "progress = 76.6%\n"
     ]
    },
    {
     "name": "stderr",
     "output_type": "stream",
     "text": [
      "05:56:48 - OI2: INFO - Duplicated gene symbols in the prize file (we'll keep the max prize):\n",
      "05:56:48 - OI2: INFO - []\n",
      "05:56:48 - OI2: INFO - Members of the prize file not present in the interactome:\n",
      "05:56:48 - OI2: INFO - []\n"
     ]
    },
    {
     "name": "stdout",
     "output_type": "stream",
     "text": [
      "progress = 76.7%\n"
     ]
    },
    {
     "name": "stderr",
     "output_type": "stream",
     "text": [
      "05:56:51 - OI2: INFO - Duplicated gene symbols in the prize file (we'll keep the max prize):\n",
      "05:56:51 - OI2: INFO - []\n",
      "05:56:51 - OI2: INFO - Members of the prize file not present in the interactome:\n",
      "05:56:51 - OI2: INFO - []\n"
     ]
    },
    {
     "name": "stdout",
     "output_type": "stream",
     "text": [
      "progress = 76.8%\n"
     ]
    },
    {
     "name": "stderr",
     "output_type": "stream",
     "text": [
      "05:56:55 - OI2: INFO - Duplicated gene symbols in the prize file (we'll keep the max prize):\n",
      "05:56:55 - OI2: INFO - []\n",
      "05:56:55 - OI2: INFO - Members of the prize file not present in the interactome:\n",
      "05:56:55 - OI2: INFO - []\n"
     ]
    },
    {
     "name": "stdout",
     "output_type": "stream",
     "text": [
      "progress = 76.9%\n"
     ]
    },
    {
     "name": "stderr",
     "output_type": "stream",
     "text": [
      "05:56:59 - OI2: INFO - Duplicated gene symbols in the prize file (we'll keep the max prize):\n",
      "05:56:59 - OI2: INFO - []\n",
      "05:56:59 - OI2: INFO - Members of the prize file not present in the interactome:\n",
      "05:56:59 - OI2: INFO - []\n"
     ]
    },
    {
     "name": "stdout",
     "output_type": "stream",
     "text": [
      "progress = 77.0%\n"
     ]
    },
    {
     "name": "stderr",
     "output_type": "stream",
     "text": [
      "05:57:03 - OI2: INFO - Duplicated gene symbols in the prize file (we'll keep the max prize):\n",
      "05:57:03 - OI2: INFO - []\n",
      "05:57:03 - OI2: INFO - Members of the prize file not present in the interactome:\n",
      "05:57:03 - OI2: INFO - []\n"
     ]
    },
    {
     "name": "stdout",
     "output_type": "stream",
     "text": [
      "progress = 77.10000000000001%\n"
     ]
    },
    {
     "name": "stderr",
     "output_type": "stream",
     "text": [
      "05:57:06 - OI2: INFO - Duplicated gene symbols in the prize file (we'll keep the max prize):\n",
      "05:57:06 - OI2: INFO - []\n",
      "05:57:06 - OI2: INFO - Members of the prize file not present in the interactome:\n",
      "05:57:06 - OI2: INFO - []\n"
     ]
    },
    {
     "name": "stdout",
     "output_type": "stream",
     "text": [
      "progress = 77.2%\n"
     ]
    },
    {
     "name": "stderr",
     "output_type": "stream",
     "text": [
      "05:57:10 - OI2: INFO - Duplicated gene symbols in the prize file (we'll keep the max prize):\n",
      "05:57:10 - OI2: INFO - []\n",
      "05:57:10 - OI2: INFO - Members of the prize file not present in the interactome:\n",
      "05:57:10 - OI2: INFO - []\n"
     ]
    },
    {
     "name": "stdout",
     "output_type": "stream",
     "text": [
      "progress = 77.3%\n"
     ]
    },
    {
     "name": "stderr",
     "output_type": "stream",
     "text": [
      "05:57:14 - OI2: INFO - Duplicated gene symbols in the prize file (we'll keep the max prize):\n",
      "05:57:14 - OI2: INFO - []\n",
      "05:57:14 - OI2: INFO - Members of the prize file not present in the interactome:\n",
      "05:57:14 - OI2: INFO - []\n"
     ]
    },
    {
     "name": "stdout",
     "output_type": "stream",
     "text": [
      "progress = 77.4%\n"
     ]
    },
    {
     "name": "stderr",
     "output_type": "stream",
     "text": [
      "05:57:17 - OI2: INFO - Duplicated gene symbols in the prize file (we'll keep the max prize):\n",
      "05:57:18 - OI2: INFO - []\n",
      "05:57:18 - OI2: INFO - Members of the prize file not present in the interactome:\n",
      "05:57:18 - OI2: INFO - []\n"
     ]
    },
    {
     "name": "stdout",
     "output_type": "stream",
     "text": [
      "progress = 77.5%\n"
     ]
    },
    {
     "name": "stderr",
     "output_type": "stream",
     "text": [
      "05:57:21 - OI2: INFO - Duplicated gene symbols in the prize file (we'll keep the max prize):\n",
      "05:57:21 - OI2: INFO - []\n",
      "05:57:21 - OI2: INFO - Members of the prize file not present in the interactome:\n",
      "05:57:21 - OI2: INFO - []\n"
     ]
    },
    {
     "name": "stdout",
     "output_type": "stream",
     "text": [
      "progress = 77.60000000000001%\n"
     ]
    },
    {
     "name": "stderr",
     "output_type": "stream",
     "text": [
      "05:57:25 - OI2: INFO - Duplicated gene symbols in the prize file (we'll keep the max prize):\n",
      "05:57:25 - OI2: INFO - []\n",
      "05:57:25 - OI2: INFO - Members of the prize file not present in the interactome:\n",
      "05:57:25 - OI2: INFO - []\n"
     ]
    },
    {
     "name": "stdout",
     "output_type": "stream",
     "text": [
      "progress = 77.7%\n"
     ]
    },
    {
     "name": "stderr",
     "output_type": "stream",
     "text": [
      "05:57:29 - OI2: INFO - Duplicated gene symbols in the prize file (we'll keep the max prize):\n",
      "05:57:29 - OI2: INFO - []\n",
      "05:57:29 - OI2: INFO - Members of the prize file not present in the interactome:\n",
      "05:57:29 - OI2: INFO - []\n"
     ]
    },
    {
     "name": "stdout",
     "output_type": "stream",
     "text": [
      "progress = 77.8%\n"
     ]
    },
    {
     "name": "stderr",
     "output_type": "stream",
     "text": [
      "05:57:32 - OI2: INFO - Duplicated gene symbols in the prize file (we'll keep the max prize):\n",
      "05:57:32 - OI2: INFO - []\n",
      "05:57:32 - OI2: INFO - Members of the prize file not present in the interactome:\n",
      "05:57:32 - OI2: INFO - []\n"
     ]
    },
    {
     "name": "stdout",
     "output_type": "stream",
     "text": [
      "progress = 77.9%\n"
     ]
    },
    {
     "name": "stderr",
     "output_type": "stream",
     "text": [
      "05:57:36 - OI2: INFO - Duplicated gene symbols in the prize file (we'll keep the max prize):\n",
      "05:57:36 - OI2: INFO - []\n",
      "05:57:36 - OI2: INFO - Members of the prize file not present in the interactome:\n",
      "05:57:36 - OI2: INFO - []\n"
     ]
    },
    {
     "name": "stdout",
     "output_type": "stream",
     "text": [
      "progress = 78.0%\n"
     ]
    },
    {
     "name": "stderr",
     "output_type": "stream",
     "text": [
      "05:57:40 - OI2: INFO - Duplicated gene symbols in the prize file (we'll keep the max prize):\n",
      "05:57:40 - OI2: INFO - []\n",
      "05:57:40 - OI2: INFO - Members of the prize file not present in the interactome:\n",
      "05:57:40 - OI2: INFO - []\n"
     ]
    },
    {
     "name": "stdout",
     "output_type": "stream",
     "text": [
      "progress = 78.10000000000001%\n"
     ]
    },
    {
     "name": "stderr",
     "output_type": "stream",
     "text": [
      "05:57:43 - OI2: INFO - Duplicated gene symbols in the prize file (we'll keep the max prize):\n",
      "05:57:43 - OI2: INFO - []\n",
      "05:57:43 - OI2: INFO - Members of the prize file not present in the interactome:\n",
      "05:57:43 - OI2: INFO - []\n"
     ]
    },
    {
     "name": "stdout",
     "output_type": "stream",
     "text": [
      "progress = 78.2%\n"
     ]
    },
    {
     "name": "stderr",
     "output_type": "stream",
     "text": [
      "05:57:47 - OI2: INFO - Duplicated gene symbols in the prize file (we'll keep the max prize):\n",
      "05:57:47 - OI2: INFO - []\n",
      "05:57:47 - OI2: INFO - Members of the prize file not present in the interactome:\n",
      "05:57:47 - OI2: INFO - []\n"
     ]
    },
    {
     "name": "stdout",
     "output_type": "stream",
     "text": [
      "progress = 78.3%\n"
     ]
    },
    {
     "name": "stderr",
     "output_type": "stream",
     "text": [
      "05:57:50 - OI2: INFO - Duplicated gene symbols in the prize file (we'll keep the max prize):\n",
      "05:57:50 - OI2: INFO - []\n",
      "05:57:50 - OI2: INFO - Members of the prize file not present in the interactome:\n",
      "05:57:50 - OI2: INFO - []\n"
     ]
    },
    {
     "name": "stdout",
     "output_type": "stream",
     "text": [
      "progress = 78.4%\n"
     ]
    },
    {
     "name": "stderr",
     "output_type": "stream",
     "text": [
      "05:57:54 - OI2: INFO - Duplicated gene symbols in the prize file (we'll keep the max prize):\n",
      "05:57:54 - OI2: INFO - []\n",
      "05:57:54 - OI2: INFO - Members of the prize file not present in the interactome:\n",
      "05:57:54 - OI2: INFO - []\n"
     ]
    },
    {
     "name": "stdout",
     "output_type": "stream",
     "text": [
      "progress = 78.5%\n"
     ]
    },
    {
     "name": "stderr",
     "output_type": "stream",
     "text": [
      "05:57:58 - OI2: INFO - Duplicated gene symbols in the prize file (we'll keep the max prize):\n",
      "05:57:58 - OI2: INFO - []\n",
      "05:57:58 - OI2: INFO - Members of the prize file not present in the interactome:\n",
      "05:57:58 - OI2: INFO - []\n"
     ]
    },
    {
     "name": "stdout",
     "output_type": "stream",
     "text": [
      "progress = 78.60000000000001%\n"
     ]
    },
    {
     "name": "stderr",
     "output_type": "stream",
     "text": [
      "05:58:01 - OI2: INFO - Duplicated gene symbols in the prize file (we'll keep the max prize):\n",
      "05:58:01 - OI2: INFO - []\n",
      "05:58:01 - OI2: INFO - Members of the prize file not present in the interactome:\n",
      "05:58:01 - OI2: INFO - []\n"
     ]
    },
    {
     "name": "stdout",
     "output_type": "stream",
     "text": [
      "progress = 78.7%\n"
     ]
    },
    {
     "name": "stderr",
     "output_type": "stream",
     "text": [
      "05:58:05 - OI2: INFO - Duplicated gene symbols in the prize file (we'll keep the max prize):\n",
      "05:58:05 - OI2: INFO - []\n",
      "05:58:05 - OI2: INFO - Members of the prize file not present in the interactome:\n",
      "05:58:05 - OI2: INFO - []\n"
     ]
    },
    {
     "name": "stdout",
     "output_type": "stream",
     "text": [
      "progress = 78.8%\n"
     ]
    },
    {
     "name": "stderr",
     "output_type": "stream",
     "text": [
      "05:58:09 - OI2: INFO - Duplicated gene symbols in the prize file (we'll keep the max prize):\n",
      "05:58:09 - OI2: INFO - []\n",
      "05:58:09 - OI2: INFO - Members of the prize file not present in the interactome:\n",
      "05:58:09 - OI2: INFO - []\n"
     ]
    },
    {
     "name": "stdout",
     "output_type": "stream",
     "text": [
      "progress = 78.9%\n"
     ]
    },
    {
     "name": "stderr",
     "output_type": "stream",
     "text": [
      "05:58:12 - OI2: INFO - Duplicated gene symbols in the prize file (we'll keep the max prize):\n",
      "05:58:12 - OI2: INFO - []\n",
      "05:58:12 - OI2: INFO - Members of the prize file not present in the interactome:\n",
      "05:58:12 - OI2: INFO - []\n"
     ]
    },
    {
     "name": "stdout",
     "output_type": "stream",
     "text": [
      "progress = 79.0%\n"
     ]
    },
    {
     "name": "stderr",
     "output_type": "stream",
     "text": [
      "05:58:16 - OI2: INFO - Duplicated gene symbols in the prize file (we'll keep the max prize):\n",
      "05:58:16 - OI2: INFO - []\n",
      "05:58:16 - OI2: INFO - Members of the prize file not present in the interactome:\n",
      "05:58:16 - OI2: INFO - []\n"
     ]
    },
    {
     "name": "stdout",
     "output_type": "stream",
     "text": [
      "progress = 79.10000000000001%\n"
     ]
    },
    {
     "name": "stderr",
     "output_type": "stream",
     "text": [
      "05:58:19 - OI2: INFO - Duplicated gene symbols in the prize file (we'll keep the max prize):\n",
      "05:58:19 - OI2: INFO - []\n",
      "05:58:19 - OI2: INFO - Members of the prize file not present in the interactome:\n",
      "05:58:19 - OI2: INFO - []\n"
     ]
    },
    {
     "name": "stdout",
     "output_type": "stream",
     "text": [
      "progress = 79.2%\n"
     ]
    },
    {
     "name": "stderr",
     "output_type": "stream",
     "text": [
      "05:58:23 - OI2: INFO - Duplicated gene symbols in the prize file (we'll keep the max prize):\n",
      "05:58:23 - OI2: INFO - []\n",
      "05:58:23 - OI2: INFO - Members of the prize file not present in the interactome:\n",
      "05:58:23 - OI2: INFO - []\n"
     ]
    },
    {
     "name": "stdout",
     "output_type": "stream",
     "text": [
      "progress = 79.3%\n"
     ]
    },
    {
     "name": "stderr",
     "output_type": "stream",
     "text": [
      "05:58:26 - OI2: INFO - Duplicated gene symbols in the prize file (we'll keep the max prize):\n",
      "05:58:27 - OI2: INFO - []\n",
      "05:58:27 - OI2: INFO - Members of the prize file not present in the interactome:\n",
      "05:58:27 - OI2: INFO - []\n"
     ]
    },
    {
     "name": "stdout",
     "output_type": "stream",
     "text": [
      "progress = 79.4%\n"
     ]
    },
    {
     "name": "stderr",
     "output_type": "stream",
     "text": [
      "05:58:30 - OI2: INFO - Duplicated gene symbols in the prize file (we'll keep the max prize):\n",
      "05:58:30 - OI2: INFO - []\n",
      "05:58:30 - OI2: INFO - Members of the prize file not present in the interactome:\n",
      "05:58:30 - OI2: INFO - []\n"
     ]
    },
    {
     "name": "stdout",
     "output_type": "stream",
     "text": [
      "progress = 79.5%\n"
     ]
    },
    {
     "name": "stderr",
     "output_type": "stream",
     "text": [
      "05:58:33 - OI2: INFO - Duplicated gene symbols in the prize file (we'll keep the max prize):\n",
      "05:58:33 - OI2: INFO - []\n",
      "05:58:33 - OI2: INFO - Members of the prize file not present in the interactome:\n",
      "05:58:33 - OI2: INFO - []\n"
     ]
    },
    {
     "name": "stdout",
     "output_type": "stream",
     "text": [
      "progress = 79.60000000000001%\n"
     ]
    },
    {
     "name": "stderr",
     "output_type": "stream",
     "text": [
      "05:58:37 - OI2: INFO - Duplicated gene symbols in the prize file (we'll keep the max prize):\n",
      "05:58:37 - OI2: INFO - []\n",
      "05:58:37 - OI2: INFO - Members of the prize file not present in the interactome:\n",
      "05:58:37 - OI2: INFO - []\n"
     ]
    },
    {
     "name": "stdout",
     "output_type": "stream",
     "text": [
      "progress = 79.7%\n"
     ]
    },
    {
     "name": "stderr",
     "output_type": "stream",
     "text": [
      "05:58:41 - OI2: INFO - Duplicated gene symbols in the prize file (we'll keep the max prize):\n",
      "05:58:41 - OI2: INFO - []\n",
      "05:58:41 - OI2: INFO - Members of the prize file not present in the interactome:\n",
      "05:58:41 - OI2: INFO - []\n"
     ]
    },
    {
     "name": "stdout",
     "output_type": "stream",
     "text": [
      "progress = 79.80000000000001%\n"
     ]
    },
    {
     "name": "stderr",
     "output_type": "stream",
     "text": [
      "05:58:44 - OI2: INFO - Duplicated gene symbols in the prize file (we'll keep the max prize):\n",
      "05:58:44 - OI2: INFO - []\n",
      "05:58:44 - OI2: INFO - Members of the prize file not present in the interactome:\n",
      "05:58:44 - OI2: INFO - []\n"
     ]
    },
    {
     "name": "stdout",
     "output_type": "stream",
     "text": [
      "progress = 79.9%\n"
     ]
    },
    {
     "name": "stderr",
     "output_type": "stream",
     "text": [
      "05:58:47 - OI2: INFO - Duplicated gene symbols in the prize file (we'll keep the max prize):\n",
      "05:58:47 - OI2: INFO - []\n",
      "05:58:47 - OI2: INFO - Members of the prize file not present in the interactome:\n",
      "05:58:47 - OI2: INFO - []\n"
     ]
    },
    {
     "name": "stdout",
     "output_type": "stream",
     "text": [
      "progress = 80.0%\n"
     ]
    },
    {
     "name": "stderr",
     "output_type": "stream",
     "text": [
      "05:58:51 - OI2: INFO - Duplicated gene symbols in the prize file (we'll keep the max prize):\n",
      "05:58:51 - OI2: INFO - []\n",
      "05:58:51 - OI2: INFO - Members of the prize file not present in the interactome:\n",
      "05:58:51 - OI2: INFO - []\n"
     ]
    },
    {
     "name": "stdout",
     "output_type": "stream",
     "text": [
      "progress = 80.10000000000001%\n"
     ]
    },
    {
     "name": "stderr",
     "output_type": "stream",
     "text": [
      "05:58:54 - OI2: INFO - Duplicated gene symbols in the prize file (we'll keep the max prize):\n",
      "05:58:54 - OI2: INFO - []\n",
      "05:58:54 - OI2: INFO - Members of the prize file not present in the interactome:\n",
      "05:58:54 - OI2: INFO - []\n"
     ]
    },
    {
     "name": "stdout",
     "output_type": "stream",
     "text": [
      "progress = 80.2%\n"
     ]
    },
    {
     "name": "stderr",
     "output_type": "stream",
     "text": [
      "05:58:58 - OI2: INFO - Duplicated gene symbols in the prize file (we'll keep the max prize):\n",
      "05:58:58 - OI2: INFO - []\n",
      "05:58:58 - OI2: INFO - Members of the prize file not present in the interactome:\n",
      "05:58:58 - OI2: INFO - []\n"
     ]
    },
    {
     "name": "stdout",
     "output_type": "stream",
     "text": [
      "progress = 80.30000000000001%\n"
     ]
    },
    {
     "name": "stderr",
     "output_type": "stream",
     "text": [
      "05:59:01 - OI2: INFO - Duplicated gene symbols in the prize file (we'll keep the max prize):\n",
      "05:59:02 - OI2: INFO - []\n",
      "05:59:02 - OI2: INFO - Members of the prize file not present in the interactome:\n",
      "05:59:02 - OI2: INFO - []\n"
     ]
    },
    {
     "name": "stdout",
     "output_type": "stream",
     "text": [
      "progress = 80.4%\n"
     ]
    },
    {
     "name": "stderr",
     "output_type": "stream",
     "text": [
      "05:59:05 - OI2: INFO - Duplicated gene symbols in the prize file (we'll keep the max prize):\n",
      "05:59:05 - OI2: INFO - []\n",
      "05:59:05 - OI2: INFO - Members of the prize file not present in the interactome:\n",
      "05:59:05 - OI2: INFO - []\n"
     ]
    },
    {
     "name": "stdout",
     "output_type": "stream",
     "text": [
      "progress = 80.5%\n"
     ]
    },
    {
     "name": "stderr",
     "output_type": "stream",
     "text": [
      "05:59:09 - OI2: INFO - Duplicated gene symbols in the prize file (we'll keep the max prize):\n",
      "05:59:09 - OI2: INFO - []\n",
      "05:59:09 - OI2: INFO - Members of the prize file not present in the interactome:\n",
      "05:59:09 - OI2: INFO - []\n"
     ]
    },
    {
     "name": "stdout",
     "output_type": "stream",
     "text": [
      "progress = 80.60000000000001%\n"
     ]
    },
    {
     "name": "stderr",
     "output_type": "stream",
     "text": [
      "05:59:12 - OI2: INFO - Duplicated gene symbols in the prize file (we'll keep the max prize):\n",
      "05:59:12 - OI2: INFO - []\n",
      "05:59:12 - OI2: INFO - Members of the prize file not present in the interactome:\n",
      "05:59:12 - OI2: INFO - []\n"
     ]
    },
    {
     "name": "stdout",
     "output_type": "stream",
     "text": [
      "progress = 80.7%\n"
     ]
    },
    {
     "name": "stderr",
     "output_type": "stream",
     "text": [
      "05:59:16 - OI2: INFO - Duplicated gene symbols in the prize file (we'll keep the max prize):\n",
      "05:59:16 - OI2: INFO - []\n",
      "05:59:16 - OI2: INFO - Members of the prize file not present in the interactome:\n",
      "05:59:16 - OI2: INFO - []\n"
     ]
    },
    {
     "name": "stdout",
     "output_type": "stream",
     "text": [
      "progress = 80.80000000000001%\n"
     ]
    },
    {
     "name": "stderr",
     "output_type": "stream",
     "text": [
      "05:59:19 - OI2: INFO - Duplicated gene symbols in the prize file (we'll keep the max prize):\n",
      "05:59:19 - OI2: INFO - []\n",
      "05:59:19 - OI2: INFO - Members of the prize file not present in the interactome:\n",
      "05:59:19 - OI2: INFO - []\n"
     ]
    },
    {
     "name": "stdout",
     "output_type": "stream",
     "text": [
      "progress = 80.9%\n"
     ]
    },
    {
     "name": "stderr",
     "output_type": "stream",
     "text": [
      "05:59:23 - OI2: INFO - Duplicated gene symbols in the prize file (we'll keep the max prize):\n",
      "05:59:23 - OI2: INFO - []\n",
      "05:59:23 - OI2: INFO - Members of the prize file not present in the interactome:\n",
      "05:59:23 - OI2: INFO - []\n"
     ]
    },
    {
     "name": "stdout",
     "output_type": "stream",
     "text": [
      "progress = 81.0%\n"
     ]
    },
    {
     "name": "stderr",
     "output_type": "stream",
     "text": [
      "05:59:26 - OI2: INFO - Duplicated gene symbols in the prize file (we'll keep the max prize):\n",
      "05:59:26 - OI2: INFO - []\n",
      "05:59:26 - OI2: INFO - Members of the prize file not present in the interactome:\n",
      "05:59:26 - OI2: INFO - []\n"
     ]
    },
    {
     "name": "stdout",
     "output_type": "stream",
     "text": [
      "progress = 81.10000000000001%\n"
     ]
    },
    {
     "name": "stderr",
     "output_type": "stream",
     "text": [
      "05:59:30 - OI2: INFO - Duplicated gene symbols in the prize file (we'll keep the max prize):\n",
      "05:59:30 - OI2: INFO - []\n",
      "05:59:30 - OI2: INFO - Members of the prize file not present in the interactome:\n",
      "05:59:30 - OI2: INFO - []\n"
     ]
    },
    {
     "name": "stdout",
     "output_type": "stream",
     "text": [
      "progress = 81.2%\n"
     ]
    },
    {
     "name": "stderr",
     "output_type": "stream",
     "text": [
      "05:59:33 - OI2: INFO - Duplicated gene symbols in the prize file (we'll keep the max prize):\n",
      "05:59:33 - OI2: INFO - []\n",
      "05:59:33 - OI2: INFO - Members of the prize file not present in the interactome:\n",
      "05:59:33 - OI2: INFO - []\n"
     ]
    },
    {
     "name": "stdout",
     "output_type": "stream",
     "text": [
      "progress = 81.3%\n"
     ]
    },
    {
     "name": "stderr",
     "output_type": "stream",
     "text": [
      "05:59:37 - OI2: INFO - Duplicated gene symbols in the prize file (we'll keep the max prize):\n",
      "05:59:37 - OI2: INFO - []\n",
      "05:59:37 - OI2: INFO - Members of the prize file not present in the interactome:\n",
      "05:59:37 - OI2: INFO - []\n"
     ]
    },
    {
     "name": "stdout",
     "output_type": "stream",
     "text": [
      "progress = 81.39999999999999%\n"
     ]
    },
    {
     "name": "stderr",
     "output_type": "stream",
     "text": [
      "05:59:40 - OI2: INFO - Duplicated gene symbols in the prize file (we'll keep the max prize):\n",
      "05:59:40 - OI2: INFO - []\n",
      "05:59:40 - OI2: INFO - Members of the prize file not present in the interactome:\n",
      "05:59:40 - OI2: INFO - []\n"
     ]
    },
    {
     "name": "stdout",
     "output_type": "stream",
     "text": [
      "progress = 81.5%\n"
     ]
    },
    {
     "name": "stderr",
     "output_type": "stream",
     "text": [
      "05:59:44 - OI2: INFO - Duplicated gene symbols in the prize file (we'll keep the max prize):\n",
      "05:59:44 - OI2: INFO - []\n",
      "05:59:44 - OI2: INFO - Members of the prize file not present in the interactome:\n",
      "05:59:44 - OI2: INFO - []\n"
     ]
    },
    {
     "name": "stdout",
     "output_type": "stream",
     "text": [
      "progress = 81.6%\n"
     ]
    },
    {
     "name": "stderr",
     "output_type": "stream",
     "text": [
      "05:59:47 - OI2: INFO - Duplicated gene symbols in the prize file (we'll keep the max prize):\n",
      "05:59:47 - OI2: INFO - []\n",
      "05:59:47 - OI2: INFO - Members of the prize file not present in the interactome:\n",
      "05:59:47 - OI2: INFO - []\n"
     ]
    },
    {
     "name": "stdout",
     "output_type": "stream",
     "text": [
      "progress = 81.69999999999999%\n"
     ]
    },
    {
     "name": "stderr",
     "output_type": "stream",
     "text": [
      "05:59:51 - OI2: INFO - Duplicated gene symbols in the prize file (we'll keep the max prize):\n",
      "05:59:51 - OI2: INFO - []\n",
      "05:59:51 - OI2: INFO - Members of the prize file not present in the interactome:\n",
      "05:59:51 - OI2: INFO - []\n"
     ]
    },
    {
     "name": "stdout",
     "output_type": "stream",
     "text": [
      "progress = 81.8%\n"
     ]
    },
    {
     "name": "stderr",
     "output_type": "stream",
     "text": [
      "05:59:54 - OI2: INFO - Duplicated gene symbols in the prize file (we'll keep the max prize):\n",
      "05:59:54 - OI2: INFO - []\n",
      "05:59:54 - OI2: INFO - Members of the prize file not present in the interactome:\n",
      "05:59:54 - OI2: INFO - []\n"
     ]
    },
    {
     "name": "stdout",
     "output_type": "stream",
     "text": [
      "progress = 81.89999999999999%\n"
     ]
    },
    {
     "name": "stderr",
     "output_type": "stream",
     "text": [
      "05:59:58 - OI2: INFO - Duplicated gene symbols in the prize file (we'll keep the max prize):\n",
      "05:59:58 - OI2: INFO - []\n",
      "05:59:58 - OI2: INFO - Members of the prize file not present in the interactome:\n",
      "05:59:58 - OI2: INFO - []\n"
     ]
    },
    {
     "name": "stdout",
     "output_type": "stream",
     "text": [
      "progress = 82.0%\n"
     ]
    },
    {
     "name": "stderr",
     "output_type": "stream",
     "text": [
      "06:00:01 - OI2: INFO - Duplicated gene symbols in the prize file (we'll keep the max prize):\n",
      "06:00:01 - OI2: INFO - []\n",
      "06:00:01 - OI2: INFO - Members of the prize file not present in the interactome:\n",
      "06:00:01 - OI2: INFO - []\n"
     ]
    },
    {
     "name": "stdout",
     "output_type": "stream",
     "text": [
      "progress = 82.1%\n"
     ]
    },
    {
     "name": "stderr",
     "output_type": "stream",
     "text": [
      "06:00:05 - OI2: INFO - Duplicated gene symbols in the prize file (we'll keep the max prize):\n",
      "06:00:05 - OI2: INFO - []\n",
      "06:00:05 - OI2: INFO - Members of the prize file not present in the interactome:\n",
      "06:00:05 - OI2: INFO - []\n"
     ]
    },
    {
     "name": "stdout",
     "output_type": "stream",
     "text": [
      "progress = 82.19999999999999%\n"
     ]
    },
    {
     "name": "stderr",
     "output_type": "stream",
     "text": [
      "06:00:08 - OI2: INFO - Duplicated gene symbols in the prize file (we'll keep the max prize):\n",
      "06:00:08 - OI2: INFO - []\n",
      "06:00:08 - OI2: INFO - Members of the prize file not present in the interactome:\n",
      "06:00:08 - OI2: INFO - []\n"
     ]
    },
    {
     "name": "stdout",
     "output_type": "stream",
     "text": [
      "progress = 82.3%\n"
     ]
    },
    {
     "name": "stderr",
     "output_type": "stream",
     "text": [
      "06:00:12 - OI2: INFO - Duplicated gene symbols in the prize file (we'll keep the max prize):\n",
      "06:00:12 - OI2: INFO - []\n",
      "06:00:12 - OI2: INFO - Members of the prize file not present in the interactome:\n",
      "06:00:12 - OI2: INFO - []\n"
     ]
    },
    {
     "name": "stdout",
     "output_type": "stream",
     "text": [
      "progress = 82.39999999999999%\n"
     ]
    },
    {
     "name": "stderr",
     "output_type": "stream",
     "text": [
      "06:00:15 - OI2: INFO - Duplicated gene symbols in the prize file (we'll keep the max prize):\n",
      "06:00:15 - OI2: INFO - []\n",
      "06:00:15 - OI2: INFO - Members of the prize file not present in the interactome:\n",
      "06:00:15 - OI2: INFO - []\n"
     ]
    },
    {
     "name": "stdout",
     "output_type": "stream",
     "text": [
      "progress = 82.5%\n"
     ]
    },
    {
     "name": "stderr",
     "output_type": "stream",
     "text": [
      "06:00:19 - OI2: INFO - Duplicated gene symbols in the prize file (we'll keep the max prize):\n",
      "06:00:19 - OI2: INFO - []\n",
      "06:00:19 - OI2: INFO - Members of the prize file not present in the interactome:\n",
      "06:00:19 - OI2: INFO - []\n"
     ]
    },
    {
     "name": "stdout",
     "output_type": "stream",
     "text": [
      "progress = 82.6%\n"
     ]
    },
    {
     "name": "stderr",
     "output_type": "stream",
     "text": [
      "06:00:22 - OI2: INFO - Duplicated gene symbols in the prize file (we'll keep the max prize):\n",
      "06:00:22 - OI2: INFO - []\n",
      "06:00:22 - OI2: INFO - Members of the prize file not present in the interactome:\n",
      "06:00:22 - OI2: INFO - []\n"
     ]
    },
    {
     "name": "stdout",
     "output_type": "stream",
     "text": [
      "progress = 82.69999999999999%\n"
     ]
    },
    {
     "name": "stderr",
     "output_type": "stream",
     "text": [
      "06:00:26 - OI2: INFO - Duplicated gene symbols in the prize file (we'll keep the max prize):\n",
      "06:00:26 - OI2: INFO - []\n",
      "06:00:26 - OI2: INFO - Members of the prize file not present in the interactome:\n",
      "06:00:26 - OI2: INFO - []\n"
     ]
    },
    {
     "name": "stdout",
     "output_type": "stream",
     "text": [
      "progress = 82.8%\n"
     ]
    },
    {
     "name": "stderr",
     "output_type": "stream",
     "text": [
      "06:00:30 - OI2: INFO - Duplicated gene symbols in the prize file (we'll keep the max prize):\n",
      "06:00:30 - OI2: INFO - []\n",
      "06:00:30 - OI2: INFO - Members of the prize file not present in the interactome:\n",
      "06:00:30 - OI2: INFO - []\n"
     ]
    },
    {
     "name": "stdout",
     "output_type": "stream",
     "text": [
      "progress = 82.89999999999999%\n"
     ]
    },
    {
     "name": "stderr",
     "output_type": "stream",
     "text": [
      "06:00:33 - OI2: INFO - Duplicated gene symbols in the prize file (we'll keep the max prize):\n",
      "06:00:33 - OI2: INFO - []\n",
      "06:00:33 - OI2: INFO - Members of the prize file not present in the interactome:\n",
      "06:00:33 - OI2: INFO - []\n"
     ]
    },
    {
     "name": "stdout",
     "output_type": "stream",
     "text": [
      "progress = 83.0%\n"
     ]
    },
    {
     "name": "stderr",
     "output_type": "stream",
     "text": [
      "06:00:37 - OI2: INFO - Duplicated gene symbols in the prize file (we'll keep the max prize):\n",
      "06:00:37 - OI2: INFO - []\n",
      "06:00:37 - OI2: INFO - Members of the prize file not present in the interactome:\n",
      "06:00:37 - OI2: INFO - []\n"
     ]
    },
    {
     "name": "stdout",
     "output_type": "stream",
     "text": [
      "progress = 83.1%\n"
     ]
    },
    {
     "name": "stderr",
     "output_type": "stream",
     "text": [
      "06:00:40 - OI2: INFO - Duplicated gene symbols in the prize file (we'll keep the max prize):\n",
      "06:00:40 - OI2: INFO - []\n",
      "06:00:40 - OI2: INFO - Members of the prize file not present in the interactome:\n",
      "06:00:40 - OI2: INFO - []\n"
     ]
    },
    {
     "name": "stdout",
     "output_type": "stream",
     "text": [
      "progress = 83.2%\n"
     ]
    },
    {
     "name": "stderr",
     "output_type": "stream",
     "text": [
      "06:00:44 - OI2: INFO - Duplicated gene symbols in the prize file (we'll keep the max prize):\n",
      "06:00:44 - OI2: INFO - []\n",
      "06:00:44 - OI2: INFO - Members of the prize file not present in the interactome:\n",
      "06:00:44 - OI2: INFO - []\n"
     ]
    },
    {
     "name": "stdout",
     "output_type": "stream",
     "text": [
      "progress = 83.3%\n"
     ]
    },
    {
     "name": "stderr",
     "output_type": "stream",
     "text": [
      "06:00:47 - OI2: INFO - Duplicated gene symbols in the prize file (we'll keep the max prize):\n",
      "06:00:47 - OI2: INFO - []\n",
      "06:00:47 - OI2: INFO - Members of the prize file not present in the interactome:\n",
      "06:00:47 - OI2: INFO - []\n"
     ]
    },
    {
     "name": "stdout",
     "output_type": "stream",
     "text": [
      "progress = 83.39999999999999%\n"
     ]
    },
    {
     "name": "stderr",
     "output_type": "stream",
     "text": [
      "06:00:51 - OI2: INFO - Duplicated gene symbols in the prize file (we'll keep the max prize):\n",
      "06:00:51 - OI2: INFO - []\n",
      "06:00:51 - OI2: INFO - Members of the prize file not present in the interactome:\n",
      "06:00:51 - OI2: INFO - []\n"
     ]
    },
    {
     "name": "stdout",
     "output_type": "stream",
     "text": [
      "progress = 83.5%\n"
     ]
    },
    {
     "name": "stderr",
     "output_type": "stream",
     "text": [
      "06:00:54 - OI2: INFO - Duplicated gene symbols in the prize file (we'll keep the max prize):\n",
      "06:00:54 - OI2: INFO - []\n",
      "06:00:54 - OI2: INFO - Members of the prize file not present in the interactome:\n",
      "06:00:54 - OI2: INFO - []\n"
     ]
    },
    {
     "name": "stdout",
     "output_type": "stream",
     "text": [
      "progress = 83.6%\n"
     ]
    },
    {
     "name": "stderr",
     "output_type": "stream",
     "text": [
      "06:00:58 - OI2: INFO - Duplicated gene symbols in the prize file (we'll keep the max prize):\n",
      "06:00:58 - OI2: INFO - []\n",
      "06:00:58 - OI2: INFO - Members of the prize file not present in the interactome:\n",
      "06:00:58 - OI2: INFO - []\n"
     ]
    },
    {
     "name": "stdout",
     "output_type": "stream",
     "text": [
      "progress = 83.7%\n"
     ]
    },
    {
     "name": "stderr",
     "output_type": "stream",
     "text": [
      "06:01:01 - OI2: INFO - Duplicated gene symbols in the prize file (we'll keep the max prize):\n",
      "06:01:01 - OI2: INFO - []\n",
      "06:01:01 - OI2: INFO - Members of the prize file not present in the interactome:\n",
      "06:01:01 - OI2: INFO - []\n"
     ]
    },
    {
     "name": "stdout",
     "output_type": "stream",
     "text": [
      "progress = 83.8%\n"
     ]
    },
    {
     "name": "stderr",
     "output_type": "stream",
     "text": [
      "06:01:05 - OI2: INFO - Duplicated gene symbols in the prize file (we'll keep the max prize):\n",
      "06:01:05 - OI2: INFO - []\n",
      "06:01:05 - OI2: INFO - Members of the prize file not present in the interactome:\n",
      "06:01:05 - OI2: INFO - []\n"
     ]
    },
    {
     "name": "stdout",
     "output_type": "stream",
     "text": [
      "progress = 83.89999999999999%\n"
     ]
    },
    {
     "name": "stderr",
     "output_type": "stream",
     "text": [
      "06:01:08 - OI2: INFO - Duplicated gene symbols in the prize file (we'll keep the max prize):\n",
      "06:01:08 - OI2: INFO - []\n",
      "06:01:08 - OI2: INFO - Members of the prize file not present in the interactome:\n",
      "06:01:08 - OI2: INFO - []\n"
     ]
    },
    {
     "name": "stdout",
     "output_type": "stream",
     "text": [
      "progress = 84.0%\n"
     ]
    },
    {
     "name": "stderr",
     "output_type": "stream",
     "text": [
      "06:01:12 - OI2: INFO - Duplicated gene symbols in the prize file (we'll keep the max prize):\n",
      "06:01:12 - OI2: INFO - []\n",
      "06:01:12 - OI2: INFO - Members of the prize file not present in the interactome:\n",
      "06:01:12 - OI2: INFO - []\n"
     ]
    },
    {
     "name": "stdout",
     "output_type": "stream",
     "text": [
      "progress = 84.1%\n"
     ]
    },
    {
     "name": "stderr",
     "output_type": "stream",
     "text": [
      "06:01:16 - OI2: INFO - Duplicated gene symbols in the prize file (we'll keep the max prize):\n",
      "06:01:16 - OI2: INFO - []\n",
      "06:01:16 - OI2: INFO - Members of the prize file not present in the interactome:\n",
      "06:01:16 - OI2: INFO - []\n"
     ]
    },
    {
     "name": "stdout",
     "output_type": "stream",
     "text": [
      "progress = 84.2%\n"
     ]
    },
    {
     "name": "stderr",
     "output_type": "stream",
     "text": [
      "06:01:19 - OI2: INFO - Duplicated gene symbols in the prize file (we'll keep the max prize):\n",
      "06:01:19 - OI2: INFO - []\n",
      "06:01:19 - OI2: INFO - Members of the prize file not present in the interactome:\n",
      "06:01:19 - OI2: INFO - []\n"
     ]
    },
    {
     "name": "stdout",
     "output_type": "stream",
     "text": [
      "progress = 84.3%\n"
     ]
    },
    {
     "name": "stderr",
     "output_type": "stream",
     "text": [
      "06:01:23 - OI2: INFO - Duplicated gene symbols in the prize file (we'll keep the max prize):\n",
      "06:01:23 - OI2: INFO - []\n",
      "06:01:23 - OI2: INFO - Members of the prize file not present in the interactome:\n",
      "06:01:23 - OI2: INFO - []\n"
     ]
    },
    {
     "name": "stdout",
     "output_type": "stream",
     "text": [
      "progress = 84.39999999999999%\n"
     ]
    },
    {
     "name": "stderr",
     "output_type": "stream",
     "text": [
      "06:01:26 - OI2: INFO - Duplicated gene symbols in the prize file (we'll keep the max prize):\n",
      "06:01:26 - OI2: INFO - []\n",
      "06:01:26 - OI2: INFO - Members of the prize file not present in the interactome:\n",
      "06:01:26 - OI2: INFO - []\n"
     ]
    },
    {
     "name": "stdout",
     "output_type": "stream",
     "text": [
      "progress = 84.5%\n"
     ]
    },
    {
     "name": "stderr",
     "output_type": "stream",
     "text": [
      "06:01:30 - OI2: INFO - Duplicated gene symbols in the prize file (we'll keep the max prize):\n",
      "06:01:30 - OI2: INFO - []\n",
      "06:01:30 - OI2: INFO - Members of the prize file not present in the interactome:\n",
      "06:01:30 - OI2: INFO - []\n"
     ]
    },
    {
     "name": "stdout",
     "output_type": "stream",
     "text": [
      "progress = 84.6%\n"
     ]
    },
    {
     "name": "stderr",
     "output_type": "stream",
     "text": [
      "06:01:33 - OI2: INFO - Duplicated gene symbols in the prize file (we'll keep the max prize):\n",
      "06:01:33 - OI2: INFO - []\n",
      "06:01:33 - OI2: INFO - Members of the prize file not present in the interactome:\n",
      "06:01:33 - OI2: INFO - []\n"
     ]
    },
    {
     "name": "stdout",
     "output_type": "stream",
     "text": [
      "progress = 84.7%\n"
     ]
    },
    {
     "name": "stderr",
     "output_type": "stream",
     "text": [
      "06:01:37 - OI2: INFO - Duplicated gene symbols in the prize file (we'll keep the max prize):\n",
      "06:01:37 - OI2: INFO - []\n",
      "06:01:37 - OI2: INFO - Members of the prize file not present in the interactome:\n",
      "06:01:37 - OI2: INFO - []\n"
     ]
    },
    {
     "name": "stdout",
     "output_type": "stream",
     "text": [
      "progress = 84.8%\n"
     ]
    },
    {
     "name": "stderr",
     "output_type": "stream",
     "text": [
      "06:01:41 - OI2: INFO - Duplicated gene symbols in the prize file (we'll keep the max prize):\n",
      "06:01:41 - OI2: INFO - []\n",
      "06:01:41 - OI2: INFO - Members of the prize file not present in the interactome:\n",
      "06:01:41 - OI2: INFO - []\n"
     ]
    },
    {
     "name": "stdout",
     "output_type": "stream",
     "text": [
      "progress = 84.89999999999999%\n"
     ]
    },
    {
     "name": "stderr",
     "output_type": "stream",
     "text": [
      "06:01:44 - OI2: INFO - Duplicated gene symbols in the prize file (we'll keep the max prize):\n",
      "06:01:44 - OI2: INFO - []\n",
      "06:01:44 - OI2: INFO - Members of the prize file not present in the interactome:\n",
      "06:01:44 - OI2: INFO - []\n"
     ]
    },
    {
     "name": "stdout",
     "output_type": "stream",
     "text": [
      "progress = 85.0%\n"
     ]
    },
    {
     "name": "stderr",
     "output_type": "stream",
     "text": [
      "06:01:48 - OI2: INFO - Duplicated gene symbols in the prize file (we'll keep the max prize):\n",
      "06:01:48 - OI2: INFO - []\n",
      "06:01:48 - OI2: INFO - Members of the prize file not present in the interactome:\n",
      "06:01:48 - OI2: INFO - []\n"
     ]
    },
    {
     "name": "stdout",
     "output_type": "stream",
     "text": [
      "progress = 85.1%\n"
     ]
    },
    {
     "name": "stderr",
     "output_type": "stream",
     "text": [
      "06:01:51 - OI2: INFO - Duplicated gene symbols in the prize file (we'll keep the max prize):\n",
      "06:01:51 - OI2: INFO - []\n",
      "06:01:51 - OI2: INFO - Members of the prize file not present in the interactome:\n",
      "06:01:51 - OI2: INFO - []\n"
     ]
    },
    {
     "name": "stdout",
     "output_type": "stream",
     "text": [
      "progress = 85.2%\n"
     ]
    },
    {
     "name": "stderr",
     "output_type": "stream",
     "text": [
      "06:01:55 - OI2: INFO - Duplicated gene symbols in the prize file (we'll keep the max prize):\n",
      "06:01:55 - OI2: INFO - []\n",
      "06:01:55 - OI2: INFO - Members of the prize file not present in the interactome:\n",
      "06:01:55 - OI2: INFO - []\n"
     ]
    },
    {
     "name": "stdout",
     "output_type": "stream",
     "text": [
      "progress = 85.3%\n"
     ]
    },
    {
     "name": "stderr",
     "output_type": "stream",
     "text": [
      "06:01:58 - OI2: INFO - Duplicated gene symbols in the prize file (we'll keep the max prize):\n",
      "06:01:58 - OI2: INFO - []\n",
      "06:01:58 - OI2: INFO - Members of the prize file not present in the interactome:\n",
      "06:01:58 - OI2: INFO - []\n"
     ]
    },
    {
     "name": "stdout",
     "output_type": "stream",
     "text": [
      "progress = 85.39999999999999%\n"
     ]
    },
    {
     "name": "stderr",
     "output_type": "stream",
     "text": [
      "06:02:02 - OI2: INFO - Duplicated gene symbols in the prize file (we'll keep the max prize):\n",
      "06:02:02 - OI2: INFO - []\n",
      "06:02:02 - OI2: INFO - Members of the prize file not present in the interactome:\n",
      "06:02:02 - OI2: INFO - []\n"
     ]
    },
    {
     "name": "stdout",
     "output_type": "stream",
     "text": [
      "progress = 85.5%\n"
     ]
    },
    {
     "name": "stderr",
     "output_type": "stream",
     "text": [
      "06:02:05 - OI2: INFO - Duplicated gene symbols in the prize file (we'll keep the max prize):\n",
      "06:02:05 - OI2: INFO - []\n",
      "06:02:05 - OI2: INFO - Members of the prize file not present in the interactome:\n",
      "06:02:05 - OI2: INFO - []\n"
     ]
    },
    {
     "name": "stdout",
     "output_type": "stream",
     "text": [
      "progress = 85.6%\n"
     ]
    },
    {
     "name": "stderr",
     "output_type": "stream",
     "text": [
      "06:02:09 - OI2: INFO - Duplicated gene symbols in the prize file (we'll keep the max prize):\n",
      "06:02:09 - OI2: INFO - []\n",
      "06:02:09 - OI2: INFO - Members of the prize file not present in the interactome:\n",
      "06:02:09 - OI2: INFO - []\n"
     ]
    },
    {
     "name": "stdout",
     "output_type": "stream",
     "text": [
      "progress = 85.7%\n"
     ]
    },
    {
     "name": "stderr",
     "output_type": "stream",
     "text": [
      "06:02:13 - OI2: INFO - Duplicated gene symbols in the prize file (we'll keep the max prize):\n",
      "06:02:13 - OI2: INFO - []\n",
      "06:02:13 - OI2: INFO - Members of the prize file not present in the interactome:\n",
      "06:02:13 - OI2: INFO - []\n"
     ]
    },
    {
     "name": "stdout",
     "output_type": "stream",
     "text": [
      "progress = 85.8%\n"
     ]
    },
    {
     "name": "stderr",
     "output_type": "stream",
     "text": [
      "06:02:16 - OI2: INFO - Duplicated gene symbols in the prize file (we'll keep the max prize):\n",
      "06:02:16 - OI2: INFO - []\n",
      "06:02:16 - OI2: INFO - Members of the prize file not present in the interactome:\n",
      "06:02:16 - OI2: INFO - []\n"
     ]
    },
    {
     "name": "stdout",
     "output_type": "stream",
     "text": [
      "progress = 85.9%\n"
     ]
    },
    {
     "name": "stderr",
     "output_type": "stream",
     "text": [
      "06:02:20 - OI2: INFO - Duplicated gene symbols in the prize file (we'll keep the max prize):\n",
      "06:02:20 - OI2: INFO - []\n",
      "06:02:20 - OI2: INFO - Members of the prize file not present in the interactome:\n",
      "06:02:20 - OI2: INFO - []\n"
     ]
    },
    {
     "name": "stdout",
     "output_type": "stream",
     "text": [
      "progress = 86.0%\n"
     ]
    },
    {
     "name": "stderr",
     "output_type": "stream",
     "text": [
      "06:02:23 - OI2: INFO - Duplicated gene symbols in the prize file (we'll keep the max prize):\n",
      "06:02:23 - OI2: INFO - []\n",
      "06:02:23 - OI2: INFO - Members of the prize file not present in the interactome:\n",
      "06:02:23 - OI2: INFO - []\n"
     ]
    },
    {
     "name": "stdout",
     "output_type": "stream",
     "text": [
      "progress = 86.1%\n"
     ]
    },
    {
     "name": "stderr",
     "output_type": "stream",
     "text": [
      "06:02:27 - OI2: INFO - Duplicated gene symbols in the prize file (we'll keep the max prize):\n",
      "06:02:27 - OI2: INFO - []\n",
      "06:02:27 - OI2: INFO - Members of the prize file not present in the interactome:\n",
      "06:02:27 - OI2: INFO - []\n"
     ]
    },
    {
     "name": "stdout",
     "output_type": "stream",
     "text": [
      "progress = 86.2%\n"
     ]
    },
    {
     "name": "stderr",
     "output_type": "stream",
     "text": [
      "06:02:30 - OI2: INFO - Duplicated gene symbols in the prize file (we'll keep the max prize):\n",
      "06:02:30 - OI2: INFO - []\n",
      "06:02:30 - OI2: INFO - Members of the prize file not present in the interactome:\n",
      "06:02:30 - OI2: INFO - []\n"
     ]
    },
    {
     "name": "stdout",
     "output_type": "stream",
     "text": [
      "progress = 86.3%\n"
     ]
    },
    {
     "name": "stderr",
     "output_type": "stream",
     "text": [
      "06:02:34 - OI2: INFO - Duplicated gene symbols in the prize file (we'll keep the max prize):\n",
      "06:02:34 - OI2: INFO - []\n",
      "06:02:34 - OI2: INFO - Members of the prize file not present in the interactome:\n",
      "06:02:34 - OI2: INFO - []\n"
     ]
    },
    {
     "name": "stdout",
     "output_type": "stream",
     "text": [
      "progress = 86.4%\n"
     ]
    },
    {
     "name": "stderr",
     "output_type": "stream",
     "text": [
      "06:02:37 - OI2: INFO - Duplicated gene symbols in the prize file (we'll keep the max prize):\n",
      "06:02:37 - OI2: INFO - []\n",
      "06:02:37 - OI2: INFO - Members of the prize file not present in the interactome:\n",
      "06:02:37 - OI2: INFO - []\n"
     ]
    },
    {
     "name": "stdout",
     "output_type": "stream",
     "text": [
      "progress = 86.5%\n"
     ]
    },
    {
     "name": "stderr",
     "output_type": "stream",
     "text": [
      "06:02:41 - OI2: INFO - Duplicated gene symbols in the prize file (we'll keep the max prize):\n",
      "06:02:41 - OI2: INFO - []\n",
      "06:02:41 - OI2: INFO - Members of the prize file not present in the interactome:\n",
      "06:02:41 - OI2: INFO - []\n"
     ]
    },
    {
     "name": "stdout",
     "output_type": "stream",
     "text": [
      "progress = 86.6%\n"
     ]
    },
    {
     "name": "stderr",
     "output_type": "stream",
     "text": [
      "06:02:44 - OI2: INFO - Duplicated gene symbols in the prize file (we'll keep the max prize):\n",
      "06:02:44 - OI2: INFO - []\n",
      "06:02:44 - OI2: INFO - Members of the prize file not present in the interactome:\n",
      "06:02:44 - OI2: INFO - []\n"
     ]
    },
    {
     "name": "stdout",
     "output_type": "stream",
     "text": [
      "progress = 86.7%\n"
     ]
    },
    {
     "name": "stderr",
     "output_type": "stream",
     "text": [
      "06:02:48 - OI2: INFO - Duplicated gene symbols in the prize file (we'll keep the max prize):\n",
      "06:02:48 - OI2: INFO - []\n",
      "06:02:48 - OI2: INFO - Members of the prize file not present in the interactome:\n",
      "06:02:48 - OI2: INFO - []\n"
     ]
    },
    {
     "name": "stdout",
     "output_type": "stream",
     "text": [
      "progress = 86.8%\n"
     ]
    },
    {
     "name": "stderr",
     "output_type": "stream",
     "text": [
      "06:02:51 - OI2: INFO - Duplicated gene symbols in the prize file (we'll keep the max prize):\n",
      "06:02:51 - OI2: INFO - []\n",
      "06:02:51 - OI2: INFO - Members of the prize file not present in the interactome:\n",
      "06:02:51 - OI2: INFO - []\n"
     ]
    },
    {
     "name": "stdout",
     "output_type": "stream",
     "text": [
      "progress = 86.9%\n"
     ]
    },
    {
     "name": "stderr",
     "output_type": "stream",
     "text": [
      "06:02:55 - OI2: INFO - Duplicated gene symbols in the prize file (we'll keep the max prize):\n",
      "06:02:55 - OI2: INFO - []\n",
      "06:02:55 - OI2: INFO - Members of the prize file not present in the interactome:\n",
      "06:02:55 - OI2: INFO - []\n"
     ]
    },
    {
     "name": "stdout",
     "output_type": "stream",
     "text": [
      "progress = 87.0%\n"
     ]
    },
    {
     "name": "stderr",
     "output_type": "stream",
     "text": [
      "06:02:58 - OI2: INFO - Duplicated gene symbols in the prize file (we'll keep the max prize):\n",
      "06:02:58 - OI2: INFO - []\n",
      "06:02:58 - OI2: INFO - Members of the prize file not present in the interactome:\n",
      "06:02:58 - OI2: INFO - []\n"
     ]
    },
    {
     "name": "stdout",
     "output_type": "stream",
     "text": [
      "progress = 87.1%\n"
     ]
    },
    {
     "name": "stderr",
     "output_type": "stream",
     "text": [
      "06:03:02 - OI2: INFO - Duplicated gene symbols in the prize file (we'll keep the max prize):\n",
      "06:03:02 - OI2: INFO - []\n",
      "06:03:02 - OI2: INFO - Members of the prize file not present in the interactome:\n",
      "06:03:02 - OI2: INFO - []\n"
     ]
    },
    {
     "name": "stdout",
     "output_type": "stream",
     "text": [
      "progress = 87.2%\n"
     ]
    },
    {
     "name": "stderr",
     "output_type": "stream",
     "text": [
      "06:03:05 - OI2: INFO - Duplicated gene symbols in the prize file (we'll keep the max prize):\n",
      "06:03:05 - OI2: INFO - []\n",
      "06:03:05 - OI2: INFO - Members of the prize file not present in the interactome:\n",
      "06:03:05 - OI2: INFO - []\n"
     ]
    },
    {
     "name": "stdout",
     "output_type": "stream",
     "text": [
      "progress = 87.3%\n"
     ]
    },
    {
     "name": "stderr",
     "output_type": "stream",
     "text": [
      "06:03:09 - OI2: INFO - Duplicated gene symbols in the prize file (we'll keep the max prize):\n",
      "06:03:09 - OI2: INFO - []\n",
      "06:03:09 - OI2: INFO - Members of the prize file not present in the interactome:\n",
      "06:03:09 - OI2: INFO - []\n"
     ]
    },
    {
     "name": "stdout",
     "output_type": "stream",
     "text": [
      "progress = 87.4%\n"
     ]
    },
    {
     "name": "stderr",
     "output_type": "stream",
     "text": [
      "06:03:13 - OI2: INFO - Duplicated gene symbols in the prize file (we'll keep the max prize):\n",
      "06:03:13 - OI2: INFO - []\n",
      "06:03:13 - OI2: INFO - Members of the prize file not present in the interactome:\n",
      "06:03:13 - OI2: INFO - []\n"
     ]
    },
    {
     "name": "stdout",
     "output_type": "stream",
     "text": [
      "progress = 87.5%\n"
     ]
    },
    {
     "name": "stderr",
     "output_type": "stream",
     "text": [
      "06:03:16 - OI2: INFO - Duplicated gene symbols in the prize file (we'll keep the max prize):\n",
      "06:03:16 - OI2: INFO - []\n",
      "06:03:16 - OI2: INFO - Members of the prize file not present in the interactome:\n",
      "06:03:16 - OI2: INFO - []\n"
     ]
    },
    {
     "name": "stdout",
     "output_type": "stream",
     "text": [
      "progress = 87.6%\n"
     ]
    },
    {
     "name": "stderr",
     "output_type": "stream",
     "text": [
      "06:03:20 - OI2: INFO - Duplicated gene symbols in the prize file (we'll keep the max prize):\n",
      "06:03:20 - OI2: INFO - []\n",
      "06:03:20 - OI2: INFO - Members of the prize file not present in the interactome:\n",
      "06:03:20 - OI2: INFO - []\n"
     ]
    },
    {
     "name": "stdout",
     "output_type": "stream",
     "text": [
      "progress = 87.7%\n"
     ]
    },
    {
     "name": "stderr",
     "output_type": "stream",
     "text": [
      "06:03:23 - OI2: INFO - Duplicated gene symbols in the prize file (we'll keep the max prize):\n",
      "06:03:23 - OI2: INFO - []\n",
      "06:03:23 - OI2: INFO - Members of the prize file not present in the interactome:\n",
      "06:03:23 - OI2: INFO - []\n"
     ]
    },
    {
     "name": "stdout",
     "output_type": "stream",
     "text": [
      "progress = 87.8%\n"
     ]
    },
    {
     "name": "stderr",
     "output_type": "stream",
     "text": [
      "06:03:27 - OI2: INFO - Duplicated gene symbols in the prize file (we'll keep the max prize):\n",
      "06:03:27 - OI2: INFO - []\n",
      "06:03:27 - OI2: INFO - Members of the prize file not present in the interactome:\n",
      "06:03:27 - OI2: INFO - []\n"
     ]
    },
    {
     "name": "stdout",
     "output_type": "stream",
     "text": [
      "progress = 87.9%\n"
     ]
    },
    {
     "name": "stderr",
     "output_type": "stream",
     "text": [
      "06:03:30 - OI2: INFO - Duplicated gene symbols in the prize file (we'll keep the max prize):\n",
      "06:03:30 - OI2: INFO - []\n",
      "06:03:30 - OI2: INFO - Members of the prize file not present in the interactome:\n",
      "06:03:30 - OI2: INFO - []\n"
     ]
    },
    {
     "name": "stdout",
     "output_type": "stream",
     "text": [
      "progress = 88.0%\n"
     ]
    },
    {
     "name": "stderr",
     "output_type": "stream",
     "text": [
      "06:03:34 - OI2: INFO - Duplicated gene symbols in the prize file (we'll keep the max prize):\n",
      "06:03:34 - OI2: INFO - []\n",
      "06:03:34 - OI2: INFO - Members of the prize file not present in the interactome:\n",
      "06:03:34 - OI2: INFO - []\n"
     ]
    },
    {
     "name": "stdout",
     "output_type": "stream",
     "text": [
      "progress = 88.1%\n"
     ]
    },
    {
     "name": "stderr",
     "output_type": "stream",
     "text": [
      "06:03:38 - OI2: INFO - Duplicated gene symbols in the prize file (we'll keep the max prize):\n",
      "06:03:38 - OI2: INFO - []\n",
      "06:03:38 - OI2: INFO - Members of the prize file not present in the interactome:\n",
      "06:03:38 - OI2: INFO - []\n"
     ]
    },
    {
     "name": "stdout",
     "output_type": "stream",
     "text": [
      "progress = 88.2%\n"
     ]
    },
    {
     "name": "stderr",
     "output_type": "stream",
     "text": [
      "06:03:41 - OI2: INFO - Duplicated gene symbols in the prize file (we'll keep the max prize):\n",
      "06:03:41 - OI2: INFO - []\n",
      "06:03:41 - OI2: INFO - Members of the prize file not present in the interactome:\n",
      "06:03:41 - OI2: INFO - []\n"
     ]
    },
    {
     "name": "stdout",
     "output_type": "stream",
     "text": [
      "progress = 88.3%\n"
     ]
    },
    {
     "name": "stderr",
     "output_type": "stream",
     "text": [
      "06:03:45 - OI2: INFO - Duplicated gene symbols in the prize file (we'll keep the max prize):\n",
      "06:03:45 - OI2: INFO - []\n",
      "06:03:45 - OI2: INFO - Members of the prize file not present in the interactome:\n",
      "06:03:45 - OI2: INFO - []\n"
     ]
    },
    {
     "name": "stdout",
     "output_type": "stream",
     "text": [
      "progress = 88.4%\n"
     ]
    },
    {
     "name": "stderr",
     "output_type": "stream",
     "text": [
      "06:03:49 - OI2: INFO - Duplicated gene symbols in the prize file (we'll keep the max prize):\n",
      "06:03:49 - OI2: INFO - []\n",
      "06:03:49 - OI2: INFO - Members of the prize file not present in the interactome:\n",
      "06:03:49 - OI2: INFO - []\n"
     ]
    },
    {
     "name": "stdout",
     "output_type": "stream",
     "text": [
      "progress = 88.5%\n"
     ]
    },
    {
     "name": "stderr",
     "output_type": "stream",
     "text": [
      "06:03:55 - OI2: INFO - Duplicated gene symbols in the prize file (we'll keep the max prize):\n",
      "06:03:55 - OI2: INFO - []\n",
      "06:03:55 - OI2: INFO - Members of the prize file not present in the interactome:\n",
      "06:03:55 - OI2: INFO - []\n"
     ]
    },
    {
     "name": "stdout",
     "output_type": "stream",
     "text": [
      "progress = 88.6%\n"
     ]
    },
    {
     "name": "stderr",
     "output_type": "stream",
     "text": [
      "06:03:59 - OI2: INFO - Duplicated gene symbols in the prize file (we'll keep the max prize):\n",
      "06:03:59 - OI2: INFO - []\n",
      "06:03:59 - OI2: INFO - Members of the prize file not present in the interactome:\n",
      "06:03:59 - OI2: INFO - []\n"
     ]
    },
    {
     "name": "stdout",
     "output_type": "stream",
     "text": [
      "progress = 88.7%\n"
     ]
    },
    {
     "name": "stderr",
     "output_type": "stream",
     "text": [
      "06:04:06 - OI2: INFO - Duplicated gene symbols in the prize file (we'll keep the max prize):\n",
      "06:04:06 - OI2: INFO - []\n",
      "06:04:06 - OI2: INFO - Members of the prize file not present in the interactome:\n",
      "06:04:06 - OI2: INFO - []\n"
     ]
    },
    {
     "name": "stdout",
     "output_type": "stream",
     "text": [
      "progress = 88.8%\n"
     ]
    },
    {
     "name": "stderr",
     "output_type": "stream",
     "text": [
      "06:04:13 - OI2: INFO - Duplicated gene symbols in the prize file (we'll keep the max prize):\n",
      "06:04:13 - OI2: INFO - []\n",
      "06:04:13 - OI2: INFO - Members of the prize file not present in the interactome:\n",
      "06:04:13 - OI2: INFO - []\n"
     ]
    },
    {
     "name": "stdout",
     "output_type": "stream",
     "text": [
      "progress = 88.9%\n"
     ]
    },
    {
     "name": "stderr",
     "output_type": "stream",
     "text": [
      "06:04:21 - OI2: INFO - Duplicated gene symbols in the prize file (we'll keep the max prize):\n",
      "06:04:21 - OI2: INFO - []\n",
      "06:04:21 - OI2: INFO - Members of the prize file not present in the interactome:\n",
      "06:04:21 - OI2: INFO - []\n"
     ]
    },
    {
     "name": "stdout",
     "output_type": "stream",
     "text": [
      "progress = 89.0%\n"
     ]
    },
    {
     "name": "stderr",
     "output_type": "stream",
     "text": [
      "06:04:26 - OI2: INFO - Duplicated gene symbols in the prize file (we'll keep the max prize):\n",
      "06:04:26 - OI2: INFO - []\n",
      "06:04:26 - OI2: INFO - Members of the prize file not present in the interactome:\n",
      "06:04:26 - OI2: INFO - []\n"
     ]
    },
    {
     "name": "stdout",
     "output_type": "stream",
     "text": [
      "progress = 89.1%\n"
     ]
    },
    {
     "name": "stderr",
     "output_type": "stream",
     "text": [
      "06:04:29 - OI2: INFO - Duplicated gene symbols in the prize file (we'll keep the max prize):\n",
      "06:04:29 - OI2: INFO - []\n",
      "06:04:29 - OI2: INFO - Members of the prize file not present in the interactome:\n",
      "06:04:29 - OI2: INFO - []\n"
     ]
    },
    {
     "name": "stdout",
     "output_type": "stream",
     "text": [
      "progress = 89.2%\n"
     ]
    },
    {
     "name": "stderr",
     "output_type": "stream",
     "text": [
      "06:04:34 - OI2: INFO - Duplicated gene symbols in the prize file (we'll keep the max prize):\n",
      "06:04:34 - OI2: INFO - []\n",
      "06:04:34 - OI2: INFO - Members of the prize file not present in the interactome:\n",
      "06:04:34 - OI2: INFO - []\n"
     ]
    },
    {
     "name": "stdout",
     "output_type": "stream",
     "text": [
      "progress = 89.3%\n"
     ]
    },
    {
     "name": "stderr",
     "output_type": "stream",
     "text": [
      "06:04:37 - OI2: INFO - Duplicated gene symbols in the prize file (we'll keep the max prize):\n",
      "06:04:37 - OI2: INFO - []\n",
      "06:04:37 - OI2: INFO - Members of the prize file not present in the interactome:\n",
      "06:04:37 - OI2: INFO - []\n"
     ]
    },
    {
     "name": "stdout",
     "output_type": "stream",
     "text": [
      "progress = 89.4%\n"
     ]
    },
    {
     "name": "stderr",
     "output_type": "stream",
     "text": [
      "06:04:41 - OI2: INFO - Duplicated gene symbols in the prize file (we'll keep the max prize):\n",
      "06:04:41 - OI2: INFO - []\n",
      "06:04:41 - OI2: INFO - Members of the prize file not present in the interactome:\n",
      "06:04:41 - OI2: INFO - []\n"
     ]
    },
    {
     "name": "stdout",
     "output_type": "stream",
     "text": [
      "progress = 89.5%\n"
     ]
    },
    {
     "name": "stderr",
     "output_type": "stream",
     "text": [
      "06:04:44 - OI2: INFO - Duplicated gene symbols in the prize file (we'll keep the max prize):\n",
      "06:04:44 - OI2: INFO - []\n",
      "06:04:44 - OI2: INFO - Members of the prize file not present in the interactome:\n",
      "06:04:44 - OI2: INFO - []\n"
     ]
    },
    {
     "name": "stdout",
     "output_type": "stream",
     "text": [
      "progress = 89.60000000000001%\n"
     ]
    },
    {
     "name": "stderr",
     "output_type": "stream",
     "text": [
      "06:04:48 - OI2: INFO - Duplicated gene symbols in the prize file (we'll keep the max prize):\n",
      "06:04:48 - OI2: INFO - []\n",
      "06:04:48 - OI2: INFO - Members of the prize file not present in the interactome:\n",
      "06:04:48 - OI2: INFO - []\n"
     ]
    },
    {
     "name": "stdout",
     "output_type": "stream",
     "text": [
      "progress = 89.7%\n"
     ]
    },
    {
     "name": "stderr",
     "output_type": "stream",
     "text": [
      "06:04:52 - OI2: INFO - Duplicated gene symbols in the prize file (we'll keep the max prize):\n",
      "06:04:52 - OI2: INFO - []\n",
      "06:04:52 - OI2: INFO - Members of the prize file not present in the interactome:\n",
      "06:04:52 - OI2: INFO - []\n"
     ]
    },
    {
     "name": "stdout",
     "output_type": "stream",
     "text": [
      "progress = 89.8%\n"
     ]
    },
    {
     "name": "stderr",
     "output_type": "stream",
     "text": [
      "06:04:55 - OI2: INFO - Duplicated gene symbols in the prize file (we'll keep the max prize):\n",
      "06:04:55 - OI2: INFO - []\n",
      "06:04:55 - OI2: INFO - Members of the prize file not present in the interactome:\n",
      "06:04:55 - OI2: INFO - []\n"
     ]
    },
    {
     "name": "stdout",
     "output_type": "stream",
     "text": [
      "progress = 89.9%\n"
     ]
    },
    {
     "name": "stderr",
     "output_type": "stream",
     "text": [
      "06:04:59 - OI2: INFO - Duplicated gene symbols in the prize file (we'll keep the max prize):\n",
      "06:04:59 - OI2: INFO - []\n",
      "06:04:59 - OI2: INFO - Members of the prize file not present in the interactome:\n",
      "06:04:59 - OI2: INFO - []\n"
     ]
    },
    {
     "name": "stdout",
     "output_type": "stream",
     "text": [
      "progress = 90.0%\n"
     ]
    },
    {
     "name": "stderr",
     "output_type": "stream",
     "text": [
      "06:05:02 - OI2: INFO - Duplicated gene symbols in the prize file (we'll keep the max prize):\n",
      "06:05:02 - OI2: INFO - []\n",
      "06:05:02 - OI2: INFO - Members of the prize file not present in the interactome:\n",
      "06:05:02 - OI2: INFO - []\n"
     ]
    },
    {
     "name": "stdout",
     "output_type": "stream",
     "text": [
      "progress = 90.10000000000001%\n"
     ]
    },
    {
     "name": "stderr",
     "output_type": "stream",
     "text": [
      "06:05:06 - OI2: INFO - Duplicated gene symbols in the prize file (we'll keep the max prize):\n",
      "06:05:06 - OI2: INFO - []\n",
      "06:05:06 - OI2: INFO - Members of the prize file not present in the interactome:\n",
      "06:05:06 - OI2: INFO - []\n"
     ]
    },
    {
     "name": "stdout",
     "output_type": "stream",
     "text": [
      "progress = 90.2%\n"
     ]
    },
    {
     "name": "stderr",
     "output_type": "stream",
     "text": [
      "06:05:10 - OI2: INFO - Duplicated gene symbols in the prize file (we'll keep the max prize):\n",
      "06:05:10 - OI2: INFO - []\n",
      "06:05:10 - OI2: INFO - Members of the prize file not present in the interactome:\n",
      "06:05:10 - OI2: INFO - []\n"
     ]
    },
    {
     "name": "stdout",
     "output_type": "stream",
     "text": [
      "progress = 90.3%\n"
     ]
    },
    {
     "name": "stderr",
     "output_type": "stream",
     "text": [
      "06:05:13 - OI2: INFO - Duplicated gene symbols in the prize file (we'll keep the max prize):\n",
      "06:05:13 - OI2: INFO - []\n",
      "06:05:13 - OI2: INFO - Members of the prize file not present in the interactome:\n",
      "06:05:13 - OI2: INFO - []\n"
     ]
    },
    {
     "name": "stdout",
     "output_type": "stream",
     "text": [
      "progress = 90.4%\n"
     ]
    },
    {
     "name": "stderr",
     "output_type": "stream",
     "text": [
      "06:05:16 - OI2: INFO - Duplicated gene symbols in the prize file (we'll keep the max prize):\n",
      "06:05:16 - OI2: INFO - []\n",
      "06:05:16 - OI2: INFO - Members of the prize file not present in the interactome:\n",
      "06:05:16 - OI2: INFO - []\n"
     ]
    },
    {
     "name": "stdout",
     "output_type": "stream",
     "text": [
      "progress = 90.5%\n"
     ]
    },
    {
     "name": "stderr",
     "output_type": "stream",
     "text": [
      "06:05:20 - OI2: INFO - Duplicated gene symbols in the prize file (we'll keep the max prize):\n",
      "06:05:20 - OI2: INFO - []\n",
      "06:05:20 - OI2: INFO - Members of the prize file not present in the interactome:\n",
      "06:05:20 - OI2: INFO - []\n"
     ]
    },
    {
     "name": "stdout",
     "output_type": "stream",
     "text": [
      "progress = 90.60000000000001%\n"
     ]
    },
    {
     "name": "stderr",
     "output_type": "stream",
     "text": [
      "06:05:24 - OI2: INFO - Duplicated gene symbols in the prize file (we'll keep the max prize):\n",
      "06:05:24 - OI2: INFO - []\n",
      "06:05:24 - OI2: INFO - Members of the prize file not present in the interactome:\n",
      "06:05:24 - OI2: INFO - []\n"
     ]
    },
    {
     "name": "stdout",
     "output_type": "stream",
     "text": [
      "progress = 90.7%\n"
     ]
    },
    {
     "name": "stderr",
     "output_type": "stream",
     "text": [
      "06:05:27 - OI2: INFO - Duplicated gene symbols in the prize file (we'll keep the max prize):\n",
      "06:05:27 - OI2: INFO - []\n",
      "06:05:27 - OI2: INFO - Members of the prize file not present in the interactome:\n",
      "06:05:27 - OI2: INFO - []\n"
     ]
    },
    {
     "name": "stdout",
     "output_type": "stream",
     "text": [
      "progress = 90.8%\n"
     ]
    },
    {
     "name": "stderr",
     "output_type": "stream",
     "text": [
      "06:05:31 - OI2: INFO - Duplicated gene symbols in the prize file (we'll keep the max prize):\n",
      "06:05:31 - OI2: INFO - []\n",
      "06:05:31 - OI2: INFO - Members of the prize file not present in the interactome:\n",
      "06:05:31 - OI2: INFO - []\n"
     ]
    },
    {
     "name": "stdout",
     "output_type": "stream",
     "text": [
      "progress = 90.9%\n"
     ]
    },
    {
     "name": "stderr",
     "output_type": "stream",
     "text": [
      "06:05:34 - OI2: INFO - Duplicated gene symbols in the prize file (we'll keep the max prize):\n",
      "06:05:34 - OI2: INFO - []\n",
      "06:05:34 - OI2: INFO - Members of the prize file not present in the interactome:\n",
      "06:05:34 - OI2: INFO - []\n"
     ]
    },
    {
     "name": "stdout",
     "output_type": "stream",
     "text": [
      "progress = 91.0%\n"
     ]
    },
    {
     "name": "stderr",
     "output_type": "stream",
     "text": [
      "06:05:38 - OI2: INFO - Duplicated gene symbols in the prize file (we'll keep the max prize):\n",
      "06:05:38 - OI2: INFO - []\n",
      "06:05:38 - OI2: INFO - Members of the prize file not present in the interactome:\n",
      "06:05:38 - OI2: INFO - []\n"
     ]
    },
    {
     "name": "stdout",
     "output_type": "stream",
     "text": [
      "progress = 91.10000000000001%\n"
     ]
    },
    {
     "name": "stderr",
     "output_type": "stream",
     "text": [
      "06:05:41 - OI2: INFO - Duplicated gene symbols in the prize file (we'll keep the max prize):\n",
      "06:05:41 - OI2: INFO - []\n",
      "06:05:41 - OI2: INFO - Members of the prize file not present in the interactome:\n",
      "06:05:41 - OI2: INFO - []\n"
     ]
    },
    {
     "name": "stdout",
     "output_type": "stream",
     "text": [
      "progress = 91.2%\n"
     ]
    },
    {
     "name": "stderr",
     "output_type": "stream",
     "text": [
      "06:05:45 - OI2: INFO - Duplicated gene symbols in the prize file (we'll keep the max prize):\n",
      "06:05:45 - OI2: INFO - []\n",
      "06:05:45 - OI2: INFO - Members of the prize file not present in the interactome:\n",
      "06:05:45 - OI2: INFO - []\n"
     ]
    },
    {
     "name": "stdout",
     "output_type": "stream",
     "text": [
      "progress = 91.3%\n"
     ]
    },
    {
     "name": "stderr",
     "output_type": "stream",
     "text": [
      "06:05:48 - OI2: INFO - Duplicated gene symbols in the prize file (we'll keep the max prize):\n",
      "06:05:48 - OI2: INFO - []\n",
      "06:05:48 - OI2: INFO - Members of the prize file not present in the interactome:\n",
      "06:05:48 - OI2: INFO - []\n"
     ]
    },
    {
     "name": "stdout",
     "output_type": "stream",
     "text": [
      "progress = 91.4%\n"
     ]
    },
    {
     "name": "stderr",
     "output_type": "stream",
     "text": [
      "06:05:52 - OI2: INFO - Duplicated gene symbols in the prize file (we'll keep the max prize):\n",
      "06:05:52 - OI2: INFO - []\n",
      "06:05:52 - OI2: INFO - Members of the prize file not present in the interactome:\n",
      "06:05:52 - OI2: INFO - []\n"
     ]
    },
    {
     "name": "stdout",
     "output_type": "stream",
     "text": [
      "progress = 91.5%\n"
     ]
    },
    {
     "name": "stderr",
     "output_type": "stream",
     "text": [
      "06:05:55 - OI2: INFO - Duplicated gene symbols in the prize file (we'll keep the max prize):\n",
      "06:05:55 - OI2: INFO - []\n",
      "06:05:55 - OI2: INFO - Members of the prize file not present in the interactome:\n",
      "06:05:55 - OI2: INFO - []\n"
     ]
    },
    {
     "name": "stdout",
     "output_type": "stream",
     "text": [
      "progress = 91.60000000000001%\n"
     ]
    },
    {
     "name": "stderr",
     "output_type": "stream",
     "text": [
      "06:05:59 - OI2: INFO - Duplicated gene symbols in the prize file (we'll keep the max prize):\n",
      "06:05:59 - OI2: INFO - []\n",
      "06:05:59 - OI2: INFO - Members of the prize file not present in the interactome:\n",
      "06:05:59 - OI2: INFO - []\n"
     ]
    },
    {
     "name": "stdout",
     "output_type": "stream",
     "text": [
      "progress = 91.7%\n"
     ]
    },
    {
     "name": "stderr",
     "output_type": "stream",
     "text": [
      "06:06:02 - OI2: INFO - Duplicated gene symbols in the prize file (we'll keep the max prize):\n",
      "06:06:02 - OI2: INFO - []\n",
      "06:06:02 - OI2: INFO - Members of the prize file not present in the interactome:\n",
      "06:06:02 - OI2: INFO - []\n"
     ]
    },
    {
     "name": "stdout",
     "output_type": "stream",
     "text": [
      "progress = 91.8%\n"
     ]
    },
    {
     "name": "stderr",
     "output_type": "stream",
     "text": [
      "06:06:06 - OI2: INFO - Duplicated gene symbols in the prize file (we'll keep the max prize):\n",
      "06:06:06 - OI2: INFO - []\n",
      "06:06:06 - OI2: INFO - Members of the prize file not present in the interactome:\n",
      "06:06:06 - OI2: INFO - []\n"
     ]
    },
    {
     "name": "stdout",
     "output_type": "stream",
     "text": [
      "progress = 91.9%\n"
     ]
    },
    {
     "name": "stderr",
     "output_type": "stream",
     "text": [
      "06:06:10 - OI2: INFO - Duplicated gene symbols in the prize file (we'll keep the max prize):\n",
      "06:06:10 - OI2: INFO - []\n",
      "06:06:10 - OI2: INFO - Members of the prize file not present in the interactome:\n",
      "06:06:10 - OI2: INFO - []\n"
     ]
    },
    {
     "name": "stdout",
     "output_type": "stream",
     "text": [
      "progress = 92.0%\n"
     ]
    },
    {
     "name": "stderr",
     "output_type": "stream",
     "text": [
      "06:06:13 - OI2: INFO - Duplicated gene symbols in the prize file (we'll keep the max prize):\n",
      "06:06:13 - OI2: INFO - []\n",
      "06:06:13 - OI2: INFO - Members of the prize file not present in the interactome:\n",
      "06:06:13 - OI2: INFO - []\n"
     ]
    },
    {
     "name": "stdout",
     "output_type": "stream",
     "text": [
      "progress = 92.10000000000001%\n"
     ]
    },
    {
     "name": "stderr",
     "output_type": "stream",
     "text": [
      "06:06:16 - OI2: INFO - Duplicated gene symbols in the prize file (we'll keep the max prize):\n",
      "06:06:16 - OI2: INFO - []\n",
      "06:06:16 - OI2: INFO - Members of the prize file not present in the interactome:\n",
      "06:06:16 - OI2: INFO - []\n"
     ]
    },
    {
     "name": "stdout",
     "output_type": "stream",
     "text": [
      "progress = 92.2%\n"
     ]
    },
    {
     "name": "stderr",
     "output_type": "stream",
     "text": [
      "06:06:20 - OI2: INFO - Duplicated gene symbols in the prize file (we'll keep the max prize):\n",
      "06:06:20 - OI2: INFO - []\n",
      "06:06:20 - OI2: INFO - Members of the prize file not present in the interactome:\n",
      "06:06:20 - OI2: INFO - []\n"
     ]
    },
    {
     "name": "stdout",
     "output_type": "stream",
     "text": [
      "progress = 92.30000000000001%\n"
     ]
    },
    {
     "name": "stderr",
     "output_type": "stream",
     "text": [
      "06:06:24 - OI2: INFO - Duplicated gene symbols in the prize file (we'll keep the max prize):\n",
      "06:06:24 - OI2: INFO - []\n",
      "06:06:24 - OI2: INFO - Members of the prize file not present in the interactome:\n",
      "06:06:24 - OI2: INFO - []\n"
     ]
    },
    {
     "name": "stdout",
     "output_type": "stream",
     "text": [
      "progress = 92.4%\n"
     ]
    },
    {
     "name": "stderr",
     "output_type": "stream",
     "text": [
      "06:06:27 - OI2: INFO - Duplicated gene symbols in the prize file (we'll keep the max prize):\n",
      "06:06:27 - OI2: INFO - []\n",
      "06:06:27 - OI2: INFO - Members of the prize file not present in the interactome:\n",
      "06:06:27 - OI2: INFO - []\n"
     ]
    },
    {
     "name": "stdout",
     "output_type": "stream",
     "text": [
      "progress = 92.5%\n"
     ]
    },
    {
     "name": "stderr",
     "output_type": "stream",
     "text": [
      "06:06:31 - OI2: INFO - Duplicated gene symbols in the prize file (we'll keep the max prize):\n",
      "06:06:31 - OI2: INFO - []\n",
      "06:06:31 - OI2: INFO - Members of the prize file not present in the interactome:\n",
      "06:06:31 - OI2: INFO - []\n"
     ]
    },
    {
     "name": "stdout",
     "output_type": "stream",
     "text": [
      "progress = 92.60000000000001%\n"
     ]
    },
    {
     "name": "stderr",
     "output_type": "stream",
     "text": [
      "06:06:34 - OI2: INFO - Duplicated gene symbols in the prize file (we'll keep the max prize):\n",
      "06:06:34 - OI2: INFO - []\n",
      "06:06:34 - OI2: INFO - Members of the prize file not present in the interactome:\n",
      "06:06:34 - OI2: INFO - []\n"
     ]
    },
    {
     "name": "stdout",
     "output_type": "stream",
     "text": [
      "progress = 92.7%\n"
     ]
    },
    {
     "name": "stderr",
     "output_type": "stream",
     "text": [
      "06:06:38 - OI2: INFO - Duplicated gene symbols in the prize file (we'll keep the max prize):\n",
      "06:06:38 - OI2: INFO - []\n",
      "06:06:38 - OI2: INFO - Members of the prize file not present in the interactome:\n",
      "06:06:38 - OI2: INFO - []\n"
     ]
    },
    {
     "name": "stdout",
     "output_type": "stream",
     "text": [
      "progress = 92.80000000000001%\n"
     ]
    },
    {
     "name": "stderr",
     "output_type": "stream",
     "text": [
      "06:06:41 - OI2: INFO - Duplicated gene symbols in the prize file (we'll keep the max prize):\n",
      "06:06:41 - OI2: INFO - []\n",
      "06:06:41 - OI2: INFO - Members of the prize file not present in the interactome:\n",
      "06:06:41 - OI2: INFO - []\n"
     ]
    },
    {
     "name": "stdout",
     "output_type": "stream",
     "text": [
      "progress = 92.9%\n"
     ]
    },
    {
     "name": "stderr",
     "output_type": "stream",
     "text": [
      "06:06:45 - OI2: INFO - Duplicated gene symbols in the prize file (we'll keep the max prize):\n",
      "06:06:45 - OI2: INFO - []\n",
      "06:06:45 - OI2: INFO - Members of the prize file not present in the interactome:\n",
      "06:06:45 - OI2: INFO - []\n"
     ]
    },
    {
     "name": "stdout",
     "output_type": "stream",
     "text": [
      "progress = 93.0%\n"
     ]
    },
    {
     "name": "stderr",
     "output_type": "stream",
     "text": [
      "06:06:48 - OI2: INFO - Duplicated gene symbols in the prize file (we'll keep the max prize):\n",
      "06:06:48 - OI2: INFO - []\n",
      "06:06:48 - OI2: INFO - Members of the prize file not present in the interactome:\n",
      "06:06:48 - OI2: INFO - []\n"
     ]
    },
    {
     "name": "stdout",
     "output_type": "stream",
     "text": [
      "progress = 93.10000000000001%\n"
     ]
    },
    {
     "name": "stderr",
     "output_type": "stream",
     "text": [
      "06:06:52 - OI2: INFO - Duplicated gene symbols in the prize file (we'll keep the max prize):\n",
      "06:06:52 - OI2: INFO - []\n",
      "06:06:52 - OI2: INFO - Members of the prize file not present in the interactome:\n",
      "06:06:52 - OI2: INFO - []\n"
     ]
    },
    {
     "name": "stdout",
     "output_type": "stream",
     "text": [
      "progress = 93.2%\n"
     ]
    },
    {
     "name": "stderr",
     "output_type": "stream",
     "text": [
      "06:06:55 - OI2: INFO - Duplicated gene symbols in the prize file (we'll keep the max prize):\n",
      "06:06:55 - OI2: INFO - []\n",
      "06:06:55 - OI2: INFO - Members of the prize file not present in the interactome:\n",
      "06:06:55 - OI2: INFO - []\n"
     ]
    },
    {
     "name": "stdout",
     "output_type": "stream",
     "text": [
      "progress = 93.30000000000001%\n"
     ]
    },
    {
     "name": "stderr",
     "output_type": "stream",
     "text": [
      "06:06:59 - OI2: INFO - Duplicated gene symbols in the prize file (we'll keep the max prize):\n",
      "06:06:59 - OI2: INFO - []\n",
      "06:06:59 - OI2: INFO - Members of the prize file not present in the interactome:\n",
      "06:06:59 - OI2: INFO - []\n"
     ]
    },
    {
     "name": "stdout",
     "output_type": "stream",
     "text": [
      "progress = 93.4%\n"
     ]
    },
    {
     "name": "stderr",
     "output_type": "stream",
     "text": [
      "06:07:02 - OI2: INFO - Duplicated gene symbols in the prize file (we'll keep the max prize):\n",
      "06:07:02 - OI2: INFO - []\n",
      "06:07:02 - OI2: INFO - Members of the prize file not present in the interactome:\n",
      "06:07:02 - OI2: INFO - []\n"
     ]
    },
    {
     "name": "stdout",
     "output_type": "stream",
     "text": [
      "progress = 93.5%\n"
     ]
    },
    {
     "name": "stderr",
     "output_type": "stream",
     "text": [
      "06:07:06 - OI2: INFO - Duplicated gene symbols in the prize file (we'll keep the max prize):\n",
      "06:07:06 - OI2: INFO - []\n",
      "06:07:06 - OI2: INFO - Members of the prize file not present in the interactome:\n",
      "06:07:06 - OI2: INFO - []\n"
     ]
    },
    {
     "name": "stdout",
     "output_type": "stream",
     "text": [
      "progress = 93.60000000000001%\n"
     ]
    },
    {
     "name": "stderr",
     "output_type": "stream",
     "text": [
      "06:07:10 - OI2: INFO - Duplicated gene symbols in the prize file (we'll keep the max prize):\n",
      "06:07:10 - OI2: INFO - []\n",
      "06:07:10 - OI2: INFO - Members of the prize file not present in the interactome:\n",
      "06:07:10 - OI2: INFO - []\n"
     ]
    },
    {
     "name": "stdout",
     "output_type": "stream",
     "text": [
      "progress = 93.7%\n"
     ]
    },
    {
     "name": "stderr",
     "output_type": "stream",
     "text": [
      "06:07:13 - OI2: INFO - Duplicated gene symbols in the prize file (we'll keep the max prize):\n",
      "06:07:13 - OI2: INFO - []\n",
      "06:07:13 - OI2: INFO - Members of the prize file not present in the interactome:\n",
      "06:07:13 - OI2: INFO - []\n"
     ]
    },
    {
     "name": "stdout",
     "output_type": "stream",
     "text": [
      "progress = 93.8%\n"
     ]
    },
    {
     "name": "stderr",
     "output_type": "stream",
     "text": [
      "06:07:17 - OI2: INFO - Duplicated gene symbols in the prize file (we'll keep the max prize):\n",
      "06:07:17 - OI2: INFO - []\n",
      "06:07:17 - OI2: INFO - Members of the prize file not present in the interactome:\n",
      "06:07:17 - OI2: INFO - []\n"
     ]
    },
    {
     "name": "stdout",
     "output_type": "stream",
     "text": [
      "progress = 93.89999999999999%\n"
     ]
    },
    {
     "name": "stderr",
     "output_type": "stream",
     "text": [
      "06:07:20 - OI2: INFO - Duplicated gene symbols in the prize file (we'll keep the max prize):\n",
      "06:07:20 - OI2: INFO - []\n",
      "06:07:20 - OI2: INFO - Members of the prize file not present in the interactome:\n",
      "06:07:20 - OI2: INFO - []\n"
     ]
    },
    {
     "name": "stdout",
     "output_type": "stream",
     "text": [
      "progress = 94.0%\n"
     ]
    },
    {
     "name": "stderr",
     "output_type": "stream",
     "text": [
      "06:07:24 - OI2: INFO - Duplicated gene symbols in the prize file (we'll keep the max prize):\n",
      "06:07:24 - OI2: INFO - []\n",
      "06:07:24 - OI2: INFO - Members of the prize file not present in the interactome:\n",
      "06:07:24 - OI2: INFO - []\n"
     ]
    },
    {
     "name": "stdout",
     "output_type": "stream",
     "text": [
      "progress = 94.1%\n"
     ]
    },
    {
     "name": "stderr",
     "output_type": "stream",
     "text": [
      "06:07:28 - OI2: INFO - Duplicated gene symbols in the prize file (we'll keep the max prize):\n",
      "06:07:28 - OI2: INFO - []\n",
      "06:07:28 - OI2: INFO - Members of the prize file not present in the interactome:\n",
      "06:07:28 - OI2: INFO - []\n"
     ]
    },
    {
     "name": "stdout",
     "output_type": "stream",
     "text": [
      "progress = 94.19999999999999%\n"
     ]
    },
    {
     "name": "stderr",
     "output_type": "stream",
     "text": [
      "06:07:31 - OI2: INFO - Duplicated gene symbols in the prize file (we'll keep the max prize):\n",
      "06:07:31 - OI2: INFO - []\n",
      "06:07:31 - OI2: INFO - Members of the prize file not present in the interactome:\n",
      "06:07:31 - OI2: INFO - []\n"
     ]
    },
    {
     "name": "stdout",
     "output_type": "stream",
     "text": [
      "progress = 94.3%\n"
     ]
    },
    {
     "name": "stderr",
     "output_type": "stream",
     "text": [
      "06:07:34 - OI2: INFO - Duplicated gene symbols in the prize file (we'll keep the max prize):\n",
      "06:07:34 - OI2: INFO - []\n",
      "06:07:34 - OI2: INFO - Members of the prize file not present in the interactome:\n",
      "06:07:34 - OI2: INFO - []\n"
     ]
    },
    {
     "name": "stdout",
     "output_type": "stream",
     "text": [
      "progress = 94.39999999999999%\n"
     ]
    },
    {
     "name": "stderr",
     "output_type": "stream",
     "text": [
      "06:07:38 - OI2: INFO - Duplicated gene symbols in the prize file (we'll keep the max prize):\n",
      "06:07:38 - OI2: INFO - []\n",
      "06:07:38 - OI2: INFO - Members of the prize file not present in the interactome:\n",
      "06:07:38 - OI2: INFO - []\n"
     ]
    },
    {
     "name": "stdout",
     "output_type": "stream",
     "text": [
      "progress = 94.5%\n"
     ]
    },
    {
     "name": "stderr",
     "output_type": "stream",
     "text": [
      "06:07:42 - OI2: INFO - Duplicated gene symbols in the prize file (we'll keep the max prize):\n",
      "06:07:42 - OI2: INFO - []\n",
      "06:07:42 - OI2: INFO - Members of the prize file not present in the interactome:\n",
      "06:07:42 - OI2: INFO - []\n"
     ]
    },
    {
     "name": "stdout",
     "output_type": "stream",
     "text": [
      "progress = 94.6%\n"
     ]
    },
    {
     "name": "stderr",
     "output_type": "stream",
     "text": [
      "06:07:46 - OI2: INFO - Duplicated gene symbols in the prize file (we'll keep the max prize):\n",
      "06:07:46 - OI2: INFO - []\n",
      "06:07:46 - OI2: INFO - Members of the prize file not present in the interactome:\n",
      "06:07:46 - OI2: INFO - []\n"
     ]
    },
    {
     "name": "stdout",
     "output_type": "stream",
     "text": [
      "progress = 94.69999999999999%\n"
     ]
    },
    {
     "name": "stderr",
     "output_type": "stream",
     "text": [
      "06:07:50 - OI2: INFO - Duplicated gene symbols in the prize file (we'll keep the max prize):\n",
      "06:07:50 - OI2: INFO - []\n",
      "06:07:50 - OI2: INFO - Members of the prize file not present in the interactome:\n",
      "06:07:50 - OI2: INFO - []\n"
     ]
    },
    {
     "name": "stdout",
     "output_type": "stream",
     "text": [
      "progress = 94.8%\n"
     ]
    },
    {
     "name": "stderr",
     "output_type": "stream",
     "text": [
      "06:07:53 - OI2: INFO - Duplicated gene symbols in the prize file (we'll keep the max prize):\n",
      "06:07:53 - OI2: INFO - []\n",
      "06:07:53 - OI2: INFO - Members of the prize file not present in the interactome:\n",
      "06:07:53 - OI2: INFO - []\n"
     ]
    },
    {
     "name": "stdout",
     "output_type": "stream",
     "text": [
      "progress = 94.89999999999999%\n"
     ]
    },
    {
     "name": "stderr",
     "output_type": "stream",
     "text": [
      "06:07:58 - OI2: INFO - Duplicated gene symbols in the prize file (we'll keep the max prize):\n",
      "06:07:59 - OI2: INFO - []\n",
      "06:07:59 - OI2: INFO - Members of the prize file not present in the interactome:\n",
      "06:07:59 - OI2: INFO - []\n"
     ]
    },
    {
     "name": "stdout",
     "output_type": "stream",
     "text": [
      "progress = 95.0%\n"
     ]
    },
    {
     "name": "stderr",
     "output_type": "stream",
     "text": [
      "06:08:03 - OI2: INFO - Duplicated gene symbols in the prize file (we'll keep the max prize):\n",
      "06:08:03 - OI2: INFO - []\n",
      "06:08:03 - OI2: INFO - Members of the prize file not present in the interactome:\n",
      "06:08:03 - OI2: INFO - []\n"
     ]
    },
    {
     "name": "stdout",
     "output_type": "stream",
     "text": [
      "progress = 95.1%\n"
     ]
    },
    {
     "name": "stderr",
     "output_type": "stream",
     "text": [
      "06:08:08 - OI2: INFO - Duplicated gene symbols in the prize file (we'll keep the max prize):\n",
      "06:08:08 - OI2: INFO - []\n",
      "06:08:08 - OI2: INFO - Members of the prize file not present in the interactome:\n",
      "06:08:08 - OI2: INFO - []\n"
     ]
    },
    {
     "name": "stdout",
     "output_type": "stream",
     "text": [
      "progress = 95.19999999999999%\n"
     ]
    },
    {
     "name": "stderr",
     "output_type": "stream",
     "text": [
      "06:08:16 - OI2: INFO - Duplicated gene symbols in the prize file (we'll keep the max prize):\n",
      "06:08:16 - OI2: INFO - []\n",
      "06:08:16 - OI2: INFO - Members of the prize file not present in the interactome:\n",
      "06:08:16 - OI2: INFO - []\n"
     ]
    },
    {
     "name": "stdout",
     "output_type": "stream",
     "text": [
      "progress = 95.3%\n"
     ]
    },
    {
     "name": "stderr",
     "output_type": "stream",
     "text": [
      "06:08:23 - OI2: INFO - Duplicated gene symbols in the prize file (we'll keep the max prize):\n",
      "06:08:23 - OI2: INFO - []\n",
      "06:08:23 - OI2: INFO - Members of the prize file not present in the interactome:\n",
      "06:08:23 - OI2: INFO - []\n"
     ]
    },
    {
     "name": "stdout",
     "output_type": "stream",
     "text": [
      "progress = 95.39999999999999%\n"
     ]
    },
    {
     "name": "stderr",
     "output_type": "stream",
     "text": [
      "06:08:31 - OI2: INFO - Duplicated gene symbols in the prize file (we'll keep the max prize):\n",
      "06:08:31 - OI2: INFO - []\n",
      "06:08:31 - OI2: INFO - Members of the prize file not present in the interactome:\n",
      "06:08:31 - OI2: INFO - []\n"
     ]
    },
    {
     "name": "stdout",
     "output_type": "stream",
     "text": [
      "progress = 95.5%\n"
     ]
    },
    {
     "name": "stderr",
     "output_type": "stream",
     "text": [
      "06:08:34 - OI2: INFO - Duplicated gene symbols in the prize file (we'll keep the max prize):\n",
      "06:08:34 - OI2: INFO - []\n",
      "06:08:34 - OI2: INFO - Members of the prize file not present in the interactome:\n",
      "06:08:34 - OI2: INFO - []\n"
     ]
    },
    {
     "name": "stdout",
     "output_type": "stream",
     "text": [
      "progress = 95.6%\n"
     ]
    },
    {
     "name": "stderr",
     "output_type": "stream",
     "text": [
      "06:08:38 - OI2: INFO - Duplicated gene symbols in the prize file (we'll keep the max prize):\n",
      "06:08:38 - OI2: INFO - []\n",
      "06:08:38 - OI2: INFO - Members of the prize file not present in the interactome:\n",
      "06:08:38 - OI2: INFO - []\n"
     ]
    },
    {
     "name": "stdout",
     "output_type": "stream",
     "text": [
      "progress = 95.7%\n"
     ]
    },
    {
     "name": "stderr",
     "output_type": "stream",
     "text": [
      "06:08:42 - OI2: INFO - Duplicated gene symbols in the prize file (we'll keep the max prize):\n",
      "06:08:42 - OI2: INFO - []\n",
      "06:08:42 - OI2: INFO - Members of the prize file not present in the interactome:\n",
      "06:08:42 - OI2: INFO - []\n"
     ]
    },
    {
     "name": "stdout",
     "output_type": "stream",
     "text": [
      "progress = 95.8%\n"
     ]
    },
    {
     "name": "stderr",
     "output_type": "stream",
     "text": [
      "06:08:45 - OI2: INFO - Duplicated gene symbols in the prize file (we'll keep the max prize):\n",
      "06:08:45 - OI2: INFO - []\n",
      "06:08:45 - OI2: INFO - Members of the prize file not present in the interactome:\n",
      "06:08:45 - OI2: INFO - []\n"
     ]
    },
    {
     "name": "stdout",
     "output_type": "stream",
     "text": [
      "progress = 95.89999999999999%\n"
     ]
    },
    {
     "name": "stderr",
     "output_type": "stream",
     "text": [
      "06:08:49 - OI2: INFO - Duplicated gene symbols in the prize file (we'll keep the max prize):\n",
      "06:08:49 - OI2: INFO - []\n",
      "06:08:49 - OI2: INFO - Members of the prize file not present in the interactome:\n",
      "06:08:49 - OI2: INFO - []\n"
     ]
    },
    {
     "name": "stdout",
     "output_type": "stream",
     "text": [
      "progress = 96.0%\n"
     ]
    },
    {
     "name": "stderr",
     "output_type": "stream",
     "text": [
      "06:08:52 - OI2: INFO - Duplicated gene symbols in the prize file (we'll keep the max prize):\n",
      "06:08:52 - OI2: INFO - []\n",
      "06:08:52 - OI2: INFO - Members of the prize file not present in the interactome:\n",
      "06:08:52 - OI2: INFO - []\n"
     ]
    },
    {
     "name": "stdout",
     "output_type": "stream",
     "text": [
      "progress = 96.1%\n"
     ]
    },
    {
     "name": "stderr",
     "output_type": "stream",
     "text": [
      "06:08:56 - OI2: INFO - Duplicated gene symbols in the prize file (we'll keep the max prize):\n",
      "06:08:56 - OI2: INFO - []\n",
      "06:08:56 - OI2: INFO - Members of the prize file not present in the interactome:\n",
      "06:08:56 - OI2: INFO - []\n"
     ]
    },
    {
     "name": "stdout",
     "output_type": "stream",
     "text": [
      "progress = 96.2%\n"
     ]
    },
    {
     "name": "stderr",
     "output_type": "stream",
     "text": [
      "06:09:00 - OI2: INFO - Duplicated gene symbols in the prize file (we'll keep the max prize):\n",
      "06:09:00 - OI2: INFO - []\n",
      "06:09:00 - OI2: INFO - Members of the prize file not present in the interactome:\n",
      "06:09:00 - OI2: INFO - []\n"
     ]
    },
    {
     "name": "stdout",
     "output_type": "stream",
     "text": [
      "progress = 96.3%\n"
     ]
    },
    {
     "name": "stderr",
     "output_type": "stream",
     "text": [
      "06:09:03 - OI2: INFO - Duplicated gene symbols in the prize file (we'll keep the max prize):\n",
      "06:09:03 - OI2: INFO - []\n",
      "06:09:03 - OI2: INFO - Members of the prize file not present in the interactome:\n",
      "06:09:03 - OI2: INFO - []\n"
     ]
    },
    {
     "name": "stdout",
     "output_type": "stream",
     "text": [
      "progress = 96.39999999999999%\n"
     ]
    },
    {
     "name": "stderr",
     "output_type": "stream",
     "text": [
      "06:09:07 - OI2: INFO - Duplicated gene symbols in the prize file (we'll keep the max prize):\n",
      "06:09:07 - OI2: INFO - []\n",
      "06:09:07 - OI2: INFO - Members of the prize file not present in the interactome:\n",
      "06:09:07 - OI2: INFO - []\n"
     ]
    },
    {
     "name": "stdout",
     "output_type": "stream",
     "text": [
      "progress = 96.5%\n"
     ]
    },
    {
     "name": "stderr",
     "output_type": "stream",
     "text": [
      "06:09:10 - OI2: INFO - Duplicated gene symbols in the prize file (we'll keep the max prize):\n",
      "06:09:10 - OI2: INFO - []\n",
      "06:09:10 - OI2: INFO - Members of the prize file not present in the interactome:\n",
      "06:09:10 - OI2: INFO - []\n"
     ]
    },
    {
     "name": "stdout",
     "output_type": "stream",
     "text": [
      "progress = 96.6%\n"
     ]
    },
    {
     "name": "stderr",
     "output_type": "stream",
     "text": [
      "06:09:14 - OI2: INFO - Duplicated gene symbols in the prize file (we'll keep the max prize):\n",
      "06:09:14 - OI2: INFO - []\n",
      "06:09:14 - OI2: INFO - Members of the prize file not present in the interactome:\n",
      "06:09:14 - OI2: INFO - []\n"
     ]
    },
    {
     "name": "stdout",
     "output_type": "stream",
     "text": [
      "progress = 96.7%\n"
     ]
    },
    {
     "name": "stderr",
     "output_type": "stream",
     "text": [
      "06:09:18 - OI2: INFO - Duplicated gene symbols in the prize file (we'll keep the max prize):\n",
      "06:09:18 - OI2: INFO - []\n",
      "06:09:18 - OI2: INFO - Members of the prize file not present in the interactome:\n",
      "06:09:18 - OI2: INFO - []\n"
     ]
    },
    {
     "name": "stdout",
     "output_type": "stream",
     "text": [
      "progress = 96.8%\n"
     ]
    },
    {
     "name": "stderr",
     "output_type": "stream",
     "text": [
      "06:09:21 - OI2: INFO - Duplicated gene symbols in the prize file (we'll keep the max prize):\n",
      "06:09:21 - OI2: INFO - []\n",
      "06:09:21 - OI2: INFO - Members of the prize file not present in the interactome:\n",
      "06:09:21 - OI2: INFO - []\n"
     ]
    },
    {
     "name": "stdout",
     "output_type": "stream",
     "text": [
      "progress = 96.89999999999999%\n"
     ]
    },
    {
     "name": "stderr",
     "output_type": "stream",
     "text": [
      "06:09:24 - OI2: INFO - Duplicated gene symbols in the prize file (we'll keep the max prize):\n",
      "06:09:24 - OI2: INFO - []\n",
      "06:09:24 - OI2: INFO - Members of the prize file not present in the interactome:\n",
      "06:09:24 - OI2: INFO - []\n"
     ]
    },
    {
     "name": "stdout",
     "output_type": "stream",
     "text": [
      "progress = 97.0%\n"
     ]
    },
    {
     "name": "stderr",
     "output_type": "stream",
     "text": [
      "06:09:28 - OI2: INFO - Duplicated gene symbols in the prize file (we'll keep the max prize):\n",
      "06:09:28 - OI2: INFO - []\n",
      "06:09:28 - OI2: INFO - Members of the prize file not present in the interactome:\n",
      "06:09:28 - OI2: INFO - []\n"
     ]
    },
    {
     "name": "stdout",
     "output_type": "stream",
     "text": [
      "progress = 97.1%\n"
     ]
    },
    {
     "name": "stderr",
     "output_type": "stream",
     "text": [
      "06:09:32 - OI2: INFO - Duplicated gene symbols in the prize file (we'll keep the max prize):\n",
      "06:09:32 - OI2: INFO - []\n",
      "06:09:32 - OI2: INFO - Members of the prize file not present in the interactome:\n",
      "06:09:32 - OI2: INFO - []\n"
     ]
    },
    {
     "name": "stdout",
     "output_type": "stream",
     "text": [
      "progress = 97.2%\n"
     ]
    },
    {
     "name": "stderr",
     "output_type": "stream",
     "text": [
      "06:09:35 - OI2: INFO - Duplicated gene symbols in the prize file (we'll keep the max prize):\n",
      "06:09:35 - OI2: INFO - []\n",
      "06:09:35 - OI2: INFO - Members of the prize file not present in the interactome:\n",
      "06:09:35 - OI2: INFO - []\n"
     ]
    },
    {
     "name": "stdout",
     "output_type": "stream",
     "text": [
      "progress = 97.3%\n"
     ]
    },
    {
     "name": "stderr",
     "output_type": "stream",
     "text": [
      "06:09:39 - OI2: INFO - Duplicated gene symbols in the prize file (we'll keep the max prize):\n",
      "06:09:39 - OI2: INFO - []\n",
      "06:09:39 - OI2: INFO - Members of the prize file not present in the interactome:\n",
      "06:09:39 - OI2: INFO - []\n"
     ]
    },
    {
     "name": "stdout",
     "output_type": "stream",
     "text": [
      "progress = 97.39999999999999%\n"
     ]
    },
    {
     "name": "stderr",
     "output_type": "stream",
     "text": [
      "06:09:42 - OI2: INFO - Duplicated gene symbols in the prize file (we'll keep the max prize):\n",
      "06:09:42 - OI2: INFO - []\n",
      "06:09:42 - OI2: INFO - Members of the prize file not present in the interactome:\n",
      "06:09:42 - OI2: INFO - []\n"
     ]
    },
    {
     "name": "stdout",
     "output_type": "stream",
     "text": [
      "progress = 97.5%\n"
     ]
    },
    {
     "name": "stderr",
     "output_type": "stream",
     "text": [
      "06:09:46 - OI2: INFO - Duplicated gene symbols in the prize file (we'll keep the max prize):\n",
      "06:09:46 - OI2: INFO - []\n",
      "06:09:46 - OI2: INFO - Members of the prize file not present in the interactome:\n",
      "06:09:46 - OI2: INFO - []\n"
     ]
    },
    {
     "name": "stdout",
     "output_type": "stream",
     "text": [
      "progress = 97.6%\n"
     ]
    },
    {
     "name": "stderr",
     "output_type": "stream",
     "text": [
      "06:09:49 - OI2: INFO - Duplicated gene symbols in the prize file (we'll keep the max prize):\n",
      "06:09:49 - OI2: INFO - []\n",
      "06:09:49 - OI2: INFO - Members of the prize file not present in the interactome:\n",
      "06:09:49 - OI2: INFO - []\n"
     ]
    },
    {
     "name": "stdout",
     "output_type": "stream",
     "text": [
      "progress = 97.7%\n"
     ]
    },
    {
     "name": "stderr",
     "output_type": "stream",
     "text": [
      "06:09:53 - OI2: INFO - Duplicated gene symbols in the prize file (we'll keep the max prize):\n",
      "06:09:53 - OI2: INFO - []\n",
      "06:09:53 - OI2: INFO - Members of the prize file not present in the interactome:\n",
      "06:09:53 - OI2: INFO - []\n"
     ]
    },
    {
     "name": "stdout",
     "output_type": "stream",
     "text": [
      "progress = 97.8%\n"
     ]
    },
    {
     "name": "stderr",
     "output_type": "stream",
     "text": [
      "06:09:56 - OI2: INFO - Duplicated gene symbols in the prize file (we'll keep the max prize):\n",
      "06:09:56 - OI2: INFO - []\n",
      "06:09:56 - OI2: INFO - Members of the prize file not present in the interactome:\n",
      "06:09:56 - OI2: INFO - []\n"
     ]
    },
    {
     "name": "stdout",
     "output_type": "stream",
     "text": [
      "progress = 97.89999999999999%\n"
     ]
    },
    {
     "name": "stderr",
     "output_type": "stream",
     "text": [
      "06:10:00 - OI2: INFO - Duplicated gene symbols in the prize file (we'll keep the max prize):\n",
      "06:10:00 - OI2: INFO - []\n",
      "06:10:00 - OI2: INFO - Members of the prize file not present in the interactome:\n",
      "06:10:00 - OI2: INFO - []\n"
     ]
    },
    {
     "name": "stdout",
     "output_type": "stream",
     "text": [
      "progress = 98.0%\n"
     ]
    },
    {
     "name": "stderr",
     "output_type": "stream",
     "text": [
      "06:10:03 - OI2: INFO - Duplicated gene symbols in the prize file (we'll keep the max prize):\n",
      "06:10:03 - OI2: INFO - []\n",
      "06:10:03 - OI2: INFO - Members of the prize file not present in the interactome:\n",
      "06:10:03 - OI2: INFO - []\n"
     ]
    },
    {
     "name": "stdout",
     "output_type": "stream",
     "text": [
      "progress = 98.1%\n"
     ]
    },
    {
     "name": "stderr",
     "output_type": "stream",
     "text": [
      "06:10:07 - OI2: INFO - Duplicated gene symbols in the prize file (we'll keep the max prize):\n",
      "06:10:07 - OI2: INFO - []\n",
      "06:10:07 - OI2: INFO - Members of the prize file not present in the interactome:\n",
      "06:10:07 - OI2: INFO - []\n"
     ]
    },
    {
     "name": "stdout",
     "output_type": "stream",
     "text": [
      "progress = 98.2%\n"
     ]
    },
    {
     "name": "stderr",
     "output_type": "stream",
     "text": [
      "06:10:11 - OI2: INFO - Duplicated gene symbols in the prize file (we'll keep the max prize):\n",
      "06:10:11 - OI2: INFO - []\n",
      "06:10:11 - OI2: INFO - Members of the prize file not present in the interactome:\n",
      "06:10:11 - OI2: INFO - []\n"
     ]
    },
    {
     "name": "stdout",
     "output_type": "stream",
     "text": [
      "progress = 98.3%\n"
     ]
    },
    {
     "name": "stderr",
     "output_type": "stream",
     "text": [
      "06:10:14 - OI2: INFO - Duplicated gene symbols in the prize file (we'll keep the max prize):\n",
      "06:10:14 - OI2: INFO - []\n",
      "06:10:14 - OI2: INFO - Members of the prize file not present in the interactome:\n",
      "06:10:14 - OI2: INFO - []\n"
     ]
    },
    {
     "name": "stdout",
     "output_type": "stream",
     "text": [
      "progress = 98.4%\n"
     ]
    },
    {
     "name": "stderr",
     "output_type": "stream",
     "text": [
      "06:10:17 - OI2: INFO - Duplicated gene symbols in the prize file (we'll keep the max prize):\n",
      "06:10:17 - OI2: INFO - []\n",
      "06:10:17 - OI2: INFO - Members of the prize file not present in the interactome:\n",
      "06:10:17 - OI2: INFO - []\n"
     ]
    },
    {
     "name": "stdout",
     "output_type": "stream",
     "text": [
      "progress = 98.5%\n"
     ]
    },
    {
     "name": "stderr",
     "output_type": "stream",
     "text": [
      "06:10:21 - OI2: INFO - Duplicated gene symbols in the prize file (we'll keep the max prize):\n",
      "06:10:21 - OI2: INFO - []\n",
      "06:10:21 - OI2: INFO - Members of the prize file not present in the interactome:\n",
      "06:10:21 - OI2: INFO - []\n"
     ]
    },
    {
     "name": "stdout",
     "output_type": "stream",
     "text": [
      "progress = 98.6%\n"
     ]
    },
    {
     "name": "stderr",
     "output_type": "stream",
     "text": [
      "06:10:25 - OI2: INFO - Duplicated gene symbols in the prize file (we'll keep the max prize):\n",
      "06:10:25 - OI2: INFO - []\n",
      "06:10:25 - OI2: INFO - Members of the prize file not present in the interactome:\n",
      "06:10:25 - OI2: INFO - []\n"
     ]
    },
    {
     "name": "stdout",
     "output_type": "stream",
     "text": [
      "progress = 98.7%\n"
     ]
    },
    {
     "name": "stderr",
     "output_type": "stream",
     "text": [
      "06:10:28 - OI2: INFO - Duplicated gene symbols in the prize file (we'll keep the max prize):\n",
      "06:10:28 - OI2: INFO - []\n",
      "06:10:28 - OI2: INFO - Members of the prize file not present in the interactome:\n",
      "06:10:28 - OI2: INFO - []\n"
     ]
    },
    {
     "name": "stdout",
     "output_type": "stream",
     "text": [
      "progress = 98.8%\n"
     ]
    },
    {
     "name": "stderr",
     "output_type": "stream",
     "text": [
      "06:10:32 - OI2: INFO - Duplicated gene symbols in the prize file (we'll keep the max prize):\n",
      "06:10:32 - OI2: INFO - []\n",
      "06:10:32 - OI2: INFO - Members of the prize file not present in the interactome:\n",
      "06:10:32 - OI2: INFO - []\n"
     ]
    },
    {
     "name": "stdout",
     "output_type": "stream",
     "text": [
      "progress = 98.9%\n"
     ]
    },
    {
     "name": "stderr",
     "output_type": "stream",
     "text": [
      "06:10:35 - OI2: INFO - Duplicated gene symbols in the prize file (we'll keep the max prize):\n",
      "06:10:35 - OI2: INFO - []\n",
      "06:10:35 - OI2: INFO - Members of the prize file not present in the interactome:\n",
      "06:10:35 - OI2: INFO - []\n"
     ]
    },
    {
     "name": "stdout",
     "output_type": "stream",
     "text": [
      "progress = 99.0%\n"
     ]
    },
    {
     "name": "stderr",
     "output_type": "stream",
     "text": [
      "06:10:39 - OI2: INFO - Duplicated gene symbols in the prize file (we'll keep the max prize):\n",
      "06:10:39 - OI2: INFO - []\n",
      "06:10:39 - OI2: INFO - Members of the prize file not present in the interactome:\n",
      "06:10:39 - OI2: INFO - []\n"
     ]
    },
    {
     "name": "stdout",
     "output_type": "stream",
     "text": [
      "progress = 99.1%\n"
     ]
    },
    {
     "name": "stderr",
     "output_type": "stream",
     "text": [
      "06:10:43 - OI2: INFO - Duplicated gene symbols in the prize file (we'll keep the max prize):\n",
      "06:10:43 - OI2: INFO - []\n",
      "06:10:43 - OI2: INFO - Members of the prize file not present in the interactome:\n",
      "06:10:43 - OI2: INFO - []\n"
     ]
    },
    {
     "name": "stdout",
     "output_type": "stream",
     "text": [
      "progress = 99.2%\n"
     ]
    },
    {
     "name": "stderr",
     "output_type": "stream",
     "text": [
      "06:10:46 - OI2: INFO - Duplicated gene symbols in the prize file (we'll keep the max prize):\n",
      "06:10:46 - OI2: INFO - []\n",
      "06:10:46 - OI2: INFO - Members of the prize file not present in the interactome:\n",
      "06:10:46 - OI2: INFO - []\n"
     ]
    },
    {
     "name": "stdout",
     "output_type": "stream",
     "text": [
      "progress = 99.3%\n"
     ]
    },
    {
     "name": "stderr",
     "output_type": "stream",
     "text": [
      "06:10:50 - OI2: INFO - Duplicated gene symbols in the prize file (we'll keep the max prize):\n",
      "06:10:50 - OI2: INFO - []\n",
      "06:10:50 - OI2: INFO - Members of the prize file not present in the interactome:\n",
      "06:10:50 - OI2: INFO - []\n"
     ]
    },
    {
     "name": "stdout",
     "output_type": "stream",
     "text": [
      "progress = 99.4%\n"
     ]
    },
    {
     "name": "stderr",
     "output_type": "stream",
     "text": [
      "06:10:53 - OI2: INFO - Duplicated gene symbols in the prize file (we'll keep the max prize):\n",
      "06:10:53 - OI2: INFO - []\n",
      "06:10:53 - OI2: INFO - Members of the prize file not present in the interactome:\n",
      "06:10:53 - OI2: INFO - []\n"
     ]
    },
    {
     "name": "stdout",
     "output_type": "stream",
     "text": [
      "progress = 99.5%\n"
     ]
    },
    {
     "name": "stderr",
     "output_type": "stream",
     "text": [
      "06:10:57 - OI2: INFO - Duplicated gene symbols in the prize file (we'll keep the max prize):\n",
      "06:10:57 - OI2: INFO - []\n",
      "06:10:57 - OI2: INFO - Members of the prize file not present in the interactome:\n",
      "06:10:57 - OI2: INFO - []\n"
     ]
    },
    {
     "name": "stdout",
     "output_type": "stream",
     "text": [
      "progress = 99.6%\n"
     ]
    },
    {
     "name": "stderr",
     "output_type": "stream",
     "text": [
      "06:11:01 - OI2: INFO - Duplicated gene symbols in the prize file (we'll keep the max prize):\n",
      "06:11:01 - OI2: INFO - []\n",
      "06:11:01 - OI2: INFO - Members of the prize file not present in the interactome:\n",
      "06:11:01 - OI2: INFO - []\n"
     ]
    },
    {
     "name": "stdout",
     "output_type": "stream",
     "text": [
      "progress = 99.7%\n"
     ]
    },
    {
     "name": "stderr",
     "output_type": "stream",
     "text": [
      "06:11:04 - OI2: INFO - Duplicated gene symbols in the prize file (we'll keep the max prize):\n",
      "06:11:04 - OI2: INFO - []\n",
      "06:11:04 - OI2: INFO - Members of the prize file not present in the interactome:\n",
      "06:11:04 - OI2: INFO - []\n"
     ]
    },
    {
     "name": "stdout",
     "output_type": "stream",
     "text": [
      "progress = 99.8%\n"
     ]
    },
    {
     "name": "stderr",
     "output_type": "stream",
     "text": [
      "06:11:08 - OI2: INFO - Duplicated gene symbols in the prize file (we'll keep the max prize):\n",
      "06:11:08 - OI2: INFO - []\n",
      "06:11:08 - OI2: INFO - Members of the prize file not present in the interactome:\n",
      "06:11:08 - OI2: INFO - []\n"
     ]
    },
    {
     "name": "stdout",
     "output_type": "stream",
     "text": [
      "progress = 99.9%\n"
     ]
    }
   ],
   "source": [
    "# Set seed\n",
    "np.random.seed(13)\n",
    "\n",
    "for i in range(N):\n",
    "\n",
    "    # Starting edges list\n",
    "    interactome_file = \"../Data/iRefIndex_v14_MIScore_interactome_C9.costs.allcaps.txt\"\n",
    "    edges_list = pd.read_csv(interactome_file, sep = '\\t')\n",
    "    \n",
    "    # Create random PPI\n",
    "    seed = i\n",
    "    np.random.seed(seed)\n",
    "    edges_list['protein1'] = np.random.choice(edges_list['protein1'], size = len(edges_list['protein1']), replace=False)\n",
    "    #edges_list['protein2'] = np.random.choice(edges_list['protein2'], size = len(edges_list['protein2']), replace=False)\n",
    "    edges_list.to_csv(r'../Save_RandomizePPI/iRefIndex_v14_MIScore_interactome_C9.costs.allcaps.repeat.txt', header=True, index=None, sep='\\t', quoting = csv.QUOTE_NONE, escapechar = '\\t')\n",
    "    interactome_file = \"../Save_RandomizePPI/iRefIndex_v14_MIScore_interactome_C9.costs.allcaps.repeat.txt\"\n",
    "    \n",
    "    # Obtain Steiner Tree\n",
    "    graph = oi.Graph(interactome_file, hyperparams)\n",
    "    graph.prepare_prizes(prize_file_name)\n",
    "    vertex_indices, edge_indices = graph.pcsf()\n",
    "    _, network_selected = graph.output_forest_as_networkx(vertex_indices, edge_indices)\n",
    "\n",
    "    # Add following attribute for each gene: is gene druggable, what drug \n",
    "    drugs = {gene:list(targets_and_drugs_df.loc[targets_and_drugs_df['gene']==gene]['drug']) for gene in list(network_selected.nodes())}\n",
    "    drugs_with_corr_aff = {gene:[targets_and_drugs_df['drug'][i]+'%'+str(targets_and_drugs_df['corr'][i])+'%'+str(targets_and_drugs_df['affinity_constant'][i])\n",
    "                             for i in targets_and_drugs_df.index[targets_and_drugs_df['gene']==gene]]\n",
    "                             for gene in list(network_selected.nodes())}\n",
    "    druggable_boolean = {gene:drugs[gene]!=[] for gene in list(network_selected.nodes())}\n",
    "    protein_target = {gene:list(targets_and_drugs_df.loc[targets_and_drugs_df['gene']==gene]['protein_target']) for gene in list(network_selected.nodes())}\n",
    "    nx.set_node_attributes(network_selected, druggable_boolean, name='druggable')\n",
    "    nx.set_node_attributes(network_selected, drugs, name='drug')\n",
    "    nx.set_node_attributes(network_selected, drugs_with_corr_aff, name='drug_with_corr_aff')\n",
    "    nx.set_node_attributes(network_selected, protein_target, name='protein_target')\n",
    "\n",
    "    # Get selected network as dataframe of node\n",
    "    network_enriched_df = oi.get_networkx_graph_as_dataframe_of_nodes(network_selected)\n",
    "\n",
    "    # Drug targets in network dataframe\n",
    "    drug_targets_df = network_enriched_df.copy()\n",
    "    drug_targets_df = drug_targets_df.loc[drug_targets_df['druggable']==True]\n",
    "    drug_targets_df['name'] = drug_targets_df.index\n",
    "    wanted_columns = ['name','drug_with_corr_aff','protein_target']\n",
    "    drug_targets_df = drug_targets_df[wanted_columns]\n",
    "    drug_targets_df['protein_target'] = [set(drug_targets_df['protein_target'][i]) for i in np.arange(len(drug_targets_df))]\n",
    "\n",
    "    # Explode\n",
    "    drug_targets_df = drugs2.unnesting(drug_targets_df, ['drug_with_corr_aff'])\n",
    "    drug_targets_df[['drug','corr','affinity']] = drug_targets_df['drug_with_corr_aff'].str.split('%',expand = True)\n",
    "    wanted_columns2 = ['name','protein_target','drug','corr','affinity']\n",
    "    drug_targets_df = drug_targets_df[wanted_columns2]\n",
    "\n",
    "    # Increment number of appearances of original drugs\n",
    "    final_drug_list = np.unique(drug_targets_df['drug'])\n",
    "    original_drugs.loc[original_drugs['drug'].isin(set(final_drug_list)),'num_appearance'] += 1\n",
    "    non_original_drugs.loc[non_original_drugs['drug'].isin(set(final_drug_list)),'num_appearance'] += 1\n",
    "    print('progress = '+str(i/N*100) + '%')\n",
    "    \n",
    "original_drugs.loc[:,'num_appearance'] /= N\n",
    "non_original_drugs.loc[:,'num_appearance'] /= N\n",
    "\n",
    "# Save as pickle\n",
    "with open(\"../Save_RandomizePPI/original_drugs.pkl\", \"wb\") as f: \n",
    "    pickle.dump(original_drugs, f)\n",
    "with open(\"../Save_RandomizePPI/non_original_drugs.pkl\", \"wb\") as f: \n",
    "    pickle.dump(non_original_drugs, f)"
   ]
  },
  {
   "cell_type": "code",
   "execution_count": 2,
   "metadata": {},
   "outputs": [
    {
     "data": {
      "text/html": [
       "<div>\n",
       "<style scoped>\n",
       "    .dataframe tbody tr th:only-of-type {\n",
       "        vertical-align: middle;\n",
       "    }\n",
       "\n",
       "    .dataframe tbody tr th {\n",
       "        vertical-align: top;\n",
       "    }\n",
       "\n",
       "    .dataframe thead th {\n",
       "        text-align: right;\n",
       "    }\n",
       "</style>\n",
       "<table border=\"1\" class=\"dataframe\">\n",
       "  <thead>\n",
       "    <tr style=\"text-align: right;\">\n",
       "      <th></th>\n",
       "      <th>drug</th>\n",
       "      <th>num_targets</th>\n",
       "      <th>num_terminal_targets</th>\n",
       "      <th>num_appearance</th>\n",
       "      <th>max_target_centrality</th>\n",
       "    </tr>\n",
       "  </thead>\n",
       "  <tbody>\n",
       "    <tr>\n",
       "      <th>1213</th>\n",
       "      <td>primaquine</td>\n",
       "      <td>5</td>\n",
       "      <td>0</td>\n",
       "      <td>0.555</td>\n",
       "      <td>0.040678</td>\n",
       "    </tr>\n",
       "    <tr>\n",
       "      <th>652</th>\n",
       "      <td>formoterol</td>\n",
       "      <td>5</td>\n",
       "      <td>0</td>\n",
       "      <td>0.590</td>\n",
       "      <td>0.040678</td>\n",
       "    </tr>\n",
       "    <tr>\n",
       "      <th>1485</th>\n",
       "      <td>tofacitinib</td>\n",
       "      <td>43</td>\n",
       "      <td>0</td>\n",
       "      <td>0.709</td>\n",
       "      <td>0.018657</td>\n",
       "    </tr>\n",
       "    <tr>\n",
       "      <th>469</th>\n",
       "      <td>docetaxel</td>\n",
       "      <td>13</td>\n",
       "      <td>0</td>\n",
       "      <td>0.796</td>\n",
       "      <td>0.047849</td>\n",
       "    </tr>\n",
       "    <tr>\n",
       "      <th>140</th>\n",
       "      <td>belinostat</td>\n",
       "      <td>11</td>\n",
       "      <td>0</td>\n",
       "      <td>0.867</td>\n",
       "      <td>0.027478</td>\n",
       "    </tr>\n",
       "    <tr>\n",
       "      <th>1590</th>\n",
       "      <td>vorinostat</td>\n",
       "      <td>32</td>\n",
       "      <td>0</td>\n",
       "      <td>0.898</td>\n",
       "      <td>0.027478</td>\n",
       "    </tr>\n",
       "    <tr>\n",
       "      <th>747</th>\n",
       "      <td>imatinib</td>\n",
       "      <td>69</td>\n",
       "      <td>0</td>\n",
       "      <td>0.971</td>\n",
       "      <td>0.047849</td>\n",
       "    </tr>\n",
       "    <tr>\n",
       "      <th>189</th>\n",
       "      <td>bosutinib</td>\n",
       "      <td>203</td>\n",
       "      <td>1</td>\n",
       "      <td>1.000</td>\n",
       "      <td>0.047849</td>\n",
       "    </tr>\n",
       "    <tr>\n",
       "      <th>1319</th>\n",
       "      <td>ruxolitinib</td>\n",
       "      <td>132</td>\n",
       "      <td>1</td>\n",
       "      <td>1.000</td>\n",
       "      <td>0.024242</td>\n",
       "    </tr>\n",
       "    <tr>\n",
       "      <th>31</th>\n",
       "      <td>afatinib</td>\n",
       "      <td>38</td>\n",
       "      <td>1</td>\n",
       "      <td>1.000</td>\n",
       "      <td>0.047849</td>\n",
       "    </tr>\n",
       "    <tr>\n",
       "      <th>1563</th>\n",
       "      <td>vardenafil</td>\n",
       "      <td>13</td>\n",
       "      <td>1</td>\n",
       "      <td>1.000</td>\n",
       "      <td>0.002538</td>\n",
       "    </tr>\n",
       "    <tr>\n",
       "      <th>957</th>\n",
       "      <td>milrinone</td>\n",
       "      <td>9</td>\n",
       "      <td>1</td>\n",
       "      <td>1.000</td>\n",
       "      <td>0.002538</td>\n",
       "    </tr>\n",
       "    <tr>\n",
       "      <th>393</th>\n",
       "      <td>dasatinib</td>\n",
       "      <td>128</td>\n",
       "      <td>2</td>\n",
       "      <td>1.000</td>\n",
       "      <td>0.047849</td>\n",
       "    </tr>\n",
       "    <tr>\n",
       "      <th>545</th>\n",
       "      <td>erlotinib</td>\n",
       "      <td>96</td>\n",
       "      <td>2</td>\n",
       "      <td>1.000</td>\n",
       "      <td>0.047849</td>\n",
       "    </tr>\n",
       "    <tr>\n",
       "      <th>1125</th>\n",
       "      <td>pazopanib</td>\n",
       "      <td>103</td>\n",
       "      <td>3</td>\n",
       "      <td>1.000</td>\n",
       "      <td>0.024876</td>\n",
       "    </tr>\n",
       "    <tr>\n",
       "      <th>127</th>\n",
       "      <td>axitinib</td>\n",
       "      <td>99</td>\n",
       "      <td>3</td>\n",
       "      <td>1.000</td>\n",
       "      <td>0.047849</td>\n",
       "    </tr>\n",
       "    <tr>\n",
       "      <th>1399</th>\n",
       "      <td>sunitinib</td>\n",
       "      <td>260</td>\n",
       "      <td>4</td>\n",
       "      <td>1.000</td>\n",
       "      <td>0.047849</td>\n",
       "    </tr>\n",
       "    <tr>\n",
       "      <th>1368</th>\n",
       "      <td>sorafenib</td>\n",
       "      <td>116</td>\n",
       "      <td>4</td>\n",
       "      <td>1.000</td>\n",
       "      <td>0.033063</td>\n",
       "    </tr>\n",
       "  </tbody>\n",
       "</table>\n",
       "</div>"
      ],
      "text/plain": [
       "             drug  num_targets  num_terminal_targets  num_appearance  \\\n",
       "1213   primaquine            5                     0           0.555   \n",
       "652    formoterol            5                     0           0.590   \n",
       "1485  tofacitinib           43                     0           0.709   \n",
       "469     docetaxel           13                     0           0.796   \n",
       "140    belinostat           11                     0           0.867   \n",
       "1590   vorinostat           32                     0           0.898   \n",
       "747      imatinib           69                     0           0.971   \n",
       "189     bosutinib          203                     1           1.000   \n",
       "1319  ruxolitinib          132                     1           1.000   \n",
       "31       afatinib           38                     1           1.000   \n",
       "1563   vardenafil           13                     1           1.000   \n",
       "957     milrinone            9                     1           1.000   \n",
       "393     dasatinib          128                     2           1.000   \n",
       "545     erlotinib           96                     2           1.000   \n",
       "1125    pazopanib          103                     3           1.000   \n",
       "127      axitinib           99                     3           1.000   \n",
       "1399    sunitinib          260                     4           1.000   \n",
       "1368    sorafenib          116                     4           1.000   \n",
       "\n",
       "      max_target_centrality  \n",
       "1213               0.040678  \n",
       "652                0.040678  \n",
       "1485               0.018657  \n",
       "469                0.047849  \n",
       "140                0.027478  \n",
       "1590               0.027478  \n",
       "747                0.047849  \n",
       "189                0.047849  \n",
       "1319               0.024242  \n",
       "31                 0.047849  \n",
       "1563               0.002538  \n",
       "957                0.002538  \n",
       "393                0.047849  \n",
       "545                0.047849  \n",
       "1125               0.024876  \n",
       "127                0.047849  \n",
       "1399               0.047849  \n",
       "1368               0.033063  "
      ]
     },
     "execution_count": 2,
     "metadata": {},
     "output_type": "execute_result"
    }
   ],
   "source": [
    "# Display table of original drugs with frequency of appearance after randomization\n",
    "# in increasing order of frequency of appearance\n",
    "# This table shows how specific each selected drug is in the original analysis. If a drug has a low frequency\n",
    "# of appearance, it means that it is highly specific to the original terminal list\n",
    "original_drugs = pickle.load(open(\"../Save_RandomizePPI/original_drugs.pkl\", \"rb\"))\n",
    "original_drugs = original_drugs.sort_values(by=['num_appearance','num_terminal_targets'], ascending=True, inplace=False)\n",
    "original_drugs"
   ]
  },
  {
   "cell_type": "code",
   "execution_count": 3,
   "metadata": {},
   "outputs": [
    {
     "data": {
      "text/html": [
       "<div>\n",
       "<style scoped>\n",
       "    .dataframe tbody tr th:only-of-type {\n",
       "        vertical-align: middle;\n",
       "    }\n",
       "\n",
       "    .dataframe tbody tr th {\n",
       "        vertical-align: top;\n",
       "    }\n",
       "\n",
       "    .dataframe thead th {\n",
       "        text-align: right;\n",
       "    }\n",
       "</style>\n",
       "<table border=\"1\" class=\"dataframe\">\n",
       "  <thead>\n",
       "    <tr style=\"text-align: right;\">\n",
       "      <th></th>\n",
       "      <th>drug</th>\n",
       "      <th>num_targets</th>\n",
       "      <th>num_terminal_targets</th>\n",
       "      <th>num_appearance</th>\n",
       "      <th>max_target_centrality</th>\n",
       "    </tr>\n",
       "  </thead>\n",
       "  <tbody>\n",
       "    <tr>\n",
       "      <th>1106</th>\n",
       "      <td>palbociclib</td>\n",
       "      <td>13</td>\n",
       "      <td>0</td>\n",
       "      <td>0.863</td>\n",
       "      <td>0.033063</td>\n",
       "    </tr>\n",
       "    <tr>\n",
       "      <th>952</th>\n",
       "      <td>mifepristone</td>\n",
       "      <td>10</td>\n",
       "      <td>0</td>\n",
       "      <td>0.747</td>\n",
       "      <td>0.034268</td>\n",
       "    </tr>\n",
       "  </tbody>\n",
       "</table>\n",
       "</div>"
      ],
      "text/plain": [
       "              drug  num_targets  num_terminal_targets  num_appearance  \\\n",
       "1106   palbociclib           13                     0           0.863   \n",
       "952   mifepristone           10                     0           0.747   \n",
       "\n",
       "      max_target_centrality  \n",
       "1106               0.033063  \n",
       "952                0.034268  "
      ]
     },
     "execution_count": 3,
     "metadata": {},
     "output_type": "execute_result"
    }
   ],
   "source": [
    "# Display table of non original drugs with frequency of appearance after randomization\n",
    "# in increasing order of frequency of appearance\n",
    "# This table provides information on the specificity of the original drug list. If a non original drug has high \n",
    "# frequency of appearance, it means that the fact that the original analysis did not select that drug is meaningful.\n",
    "# Otherwise, it does not provide more information than the fact that the given drug is specific to a limited number of\n",
    "# terminal configurations\n",
    "non_original_drugs = pickle.load(open(\"../Save_RandomizePPI/non_original_drugs.pkl\", \"rb\"))\n",
    "non_original_drugs = non_original_drugs.sort_values(by='num_appearance', ascending=False, inplace=False)\n",
    "min_num_appearance_original_drugs = min(original_drugs['num_appearance'])\n",
    "non_original_drugs.loc[non_original_drugs['num_appearance'] >= min_num_appearance_original_drugs]"
   ]
  },
  {
   "cell_type": "code",
   "execution_count": 88,
   "metadata": {},
   "outputs": [
    {
     "data": {
      "image/png": "[encoded data removed]",
      "text/plain": [
       "<Figure size 432x288 with 1 Axes>"
      ]
     },
     "metadata": {
      "needs_background": "light"
     },
     "output_type": "display_data"
    },
    {
     "data": {
      "text/plain": [
       "DescribeResult(nobs=15759, minmax=(6.345982992765579e-05, 0.29147099885772304), mean=0.0013891094620333958, variance=1.4107405989212647e-05, skewness=33.64210404015354, kurtosis=2315.5960434945187)"
      ]
     },
     "execution_count": 88,
     "metadata": {},
     "output_type": "execute_result"
    }
   ],
   "source": [
    "# Plot distribution of degree centralities in the network\n",
    "plt.figure()\n",
    "plt.hist(centrality_dic.values(), bins=50)\n",
    "plt.yscale('log')\n",
    "plt.xlabel('degree centrality')\n",
    "plt.ylabel('count')\n",
    "plt.show()\n",
    "ss.describe(list(centrality_dic.values()))"
   ]
  },
  {
   "cell_type": "code",
   "execution_count": null,
   "metadata": {},
   "outputs": [],
   "source": []
  }
 ],
 "metadata": {
  "kernelspec": {
   "display_name": "Python 3",
   "language": "python",
   "name": "python3"
  },
  "language_info": {
   "codemirror_mode": {
    "name": "ipython",
    "version": 3
   },
   "file_extension": ".py",
   "mimetype": "text/x-python",
   "name": "python",
   "nbconvert_exporter": "python",
   "pygments_lexer": "ipython3",
   "version": "3.7.4"
  }
 },
 "nbformat": 4,
 "nbformat_minor": 2
}
